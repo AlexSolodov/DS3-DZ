{
 "cells": [
  {
   "cell_type": "code",
   "execution_count": 33,
   "metadata": {
    "collapsed": true
   },
   "outputs": [],
   "source": [
    "import json\n",
    "\n",
    "import bz2\n",
    "import regex\n",
    "from tqdm import tqdm\n",
    "from scipy import sparse"
   ]
  },
  {
   "cell_type": "code",
   "execution_count": 34,
   "metadata": {},
   "outputs": [
    {
     "name": "stdout",
     "output_type": "stream",
     "text": [
      "Populating the interactive namespace from numpy and matplotlib\n"
     ]
    },
    {
     "name": "stderr",
     "output_type": "stream",
     "text": [
      "/home/alexey/anaconda3/lib/python3.6/site-packages/IPython/core/magics/pylab.py:160: UserWarning: pylab import has clobbered these variables: ['source', 'show', 'figure', 'text']\n",
      "`%matplotlib` prevents importing * from pylab and numpy\n",
      "  \"\\n`%matplotlib` prevents importing * from pylab and numpy\"\n"
     ]
    }
   ],
   "source": [
    "import pandas as pd\n",
    "import numpy as np\n",
    "import nltk\n",
    "import matplotlib.pyplot as plt\n",
    "import seaborn as sns\n",
    "%matplotlib inline\n",
    "%pylab inline"
   ]
  },
  {
   "cell_type": "code",
   "execution_count": 4,
   "metadata": {
    "scrolled": true
   },
   "outputs": [
    {
     "name": "stderr",
     "output_type": "stream",
     "text": [
      "201030it [03:18, 1013.94it/s]\n"
     ]
    }
   ],
   "source": [
    "responses = []\n",
    "with bz2.BZ2File('../5.3/banki_responses.json.bz2', 'r') as thefile:\n",
    "    for row in tqdm(thefile):\n",
    "        resp = json.loads(row)\n",
    "        if not resp['rating_not_checked'] and (len(resp['text'].split()) > 0):\n",
    "            responses.append(resp)"
   ]
  },
  {
   "cell_type": "markdown",
   "metadata": {},
   "source": [
    "#  Домашнее задание по NLP # 2 [100 баллов] \n",
    "## Составление словарей для классификации по тональности\n",
    "При классификации текстов или предложений по тональности необходимо использовать оценочные словари для предметной области, то есть, такие словари, в которых содержатся отрицательные и позитивные слова для какой-то предметной области. Идея подобных словарей основана на следующих наблюдениях: во-первых, для разных товаров используются разные оценочные слова (например бывает “захватывающая книга”, но не бывает “захватывающих лыж”), во-вторых, в контексте разных товаров одни и те же слова могут иметь разную окраску (слово “тормоз” в отзыве на велосипед имеет нейтральную окраску, в отзыве на компьютер – резко негативную, “пыль” в контексте пылесосов – нейтральную, в контексте кофемолок – положительную (“мелкий помол в пыль”)). Еще один пример: \"теплое пиво\" – это плохо, а \"теплый свитер\" – это хорошо.  \n",
    "\n",
    "Составление таких словарей в ручную – трудоемкий процесс, но, к счастью, его не сложно автоматизировать, если собрать достаточно большие корпуса отзывов. В этом домашнем задании вам предстоит попробовать реализовать один их подходов к составлению оценочных словарей, основанный на статье Inducing Domain-Specific Sentiment Lexicons from Unlabeled Corpora (https://nlp.stanford.edu/pubs/hamilton2016inducing.pdf).\n",
    "\n",
    "\n",
    "Данные для задания – уже знакомые вам отзывы на банки, собранные с нескольких сайтов Рунета. Отзывы могут быть как положительными (оценка 5), так и отрицательными (оценка 1)."
   ]
  },
  {
   "cell_type": "code",
   "execution_count": 5,
   "metadata": {},
   "outputs": [
    {
     "data": {
      "text/plain": [
       "{'author': 'ronnichka',\n",
       " 'bank_license': 'лицензия № 880',\n",
       " 'bank_name': 'Югра',\n",
       " 'city': 'г. Саратов',\n",
       " 'datetime': '2015-06-03 20:56:57',\n",
       " 'num_comments': 0,\n",
       " 'rating_grade': 3,\n",
       " 'rating_not_checked': False,\n",
       " 'text': 'Здравствуйте! Хотела написать, что мне месяц не выдают карту ко вкладу, ссылаясь на \"нам же их из Самары везут\" (на секундочку 5 часов езды от нашего города). Но! Прочитала, что людям 3,5 месяцев не выдают карту, и поняла, что у меня все хорошо, пока что. И подарок мне дали, и кулер в отделении есть. Так что я, конечно, готова ждать. Правда хотелось бы не очень долго.',\n",
       " 'title': 'Карта ко вкладу'}"
      ]
     },
     "execution_count": 5,
     "metadata": {},
     "output_type": "execute_result"
    }
   ],
   "source": [
    "responses[99]"
   ]
  },
  {
   "cell_type": "markdown",
   "metadata": {},
   "source": [
    "## Часть 1. Обучение модели word2vec [50 баллов]\n",
    "\n",
    "1. Разбейте всю коллекцию отзывов на предложения. Лемматизируйте все слова. \n",
    "2. Обучите по коллекции предложений word2vec\n",
    "3. Приведите несколько удачных и неудачных примеров решения стандартных текстов для word2vec:\n",
    "    * тест на определение ближайших слов\n",
    "    * тест на аналогии (мужчина – король : женщина – королева)\n",
    "    * тест на определение лишнего слова.\n",
    "    \n",
    "4. Постройте несколько визуализаций:\n",
    "    * TSNE для топ-100 (или топ-500) слов и найдите осмысленные кластеры слов\n",
    "    * задайте координаты для нового пространства следующим образом: одна  ось описывает отношение \"плохо – хорошо\", вторая – \"медленно – быстро\" и найдите координаты названий банков в этих координатах.  Более формально:\n",
    "    берем вектор слова \"хорошо\", вычитаем из него вектор слова \"плохо\", получаем новый вектор, который описывает разницу между хорошими и плохими словами. Берем вектор слова \"сбербанк\" и умножаем его на этот новый вектор – получаем координату по первой оси. Аналогично – для второй оси. Две координаты уже можно нарисовать на плоскости.  \n",
    " \n",
    "\n",
    "\n",
    "Ссылка на примеры визуализаций: https://towardsdatascience.com/game-of-thrones-word-embeddings-does-r-l-j-part-2-30290b1c0b4b"
   ]
  },
  {
   "cell_type": "code",
   "execution_count": 6,
   "metadata": {
    "collapsed": true
   },
   "outputs": [],
   "source": [
    "from pymystem3 import Mystem\n",
    "import re\n",
    "\n",
    "m = Mystem()\n",
    "\n",
    "regex = re.compile(\"[А-Яа-я:=!\\)\\()A-z\\_\\%/|]+\")\n",
    "\n",
    "def words_only(text, regex=regex):\n",
    "    try:\n",
    "        return \" \".join(regex.findall(text))\n",
    "    except:\n",
    "        return \"\"\n",
    "\n",
    "def lemmatize(text, mystem=m):\n",
    "    try:\n",
    "        return \"\".join(m.lemmatize(text)).strip()  \n",
    "    except:\n",
    "        return \" \""
   ]
  },
  {
   "cell_type": "code",
   "execution_count": 7,
   "metadata": {
    "collapsed": true
   },
   "outputs": [],
   "source": [
    "#Импортируем имеющийся корпус стоп-слов из nltk\n",
    "from nltk.corpus import stopwords\n",
    "\n",
    "#Добавляем несколько своих стои-слов\n",
    "mystopwords = stopwords.words('russian') + ['это', 'наш' , 'тыс', 'млн', 'млрд', 'также',  'т', 'д', '-']\n",
    "\n",
    "#Оописываем функцию удаления стоп-слов\n",
    "def  remove_stopwords(text, mystopwords = mystopwords):\n",
    "    try:\n",
    "        return \" \".join([token for token in text.split() if not token in mystopwords])\n",
    "    except:\n",
    "        return \"\""
   ]
  },
  {
   "cell_type": "code",
   "execution_count": 8,
   "metadata": {},
   "outputs": [
    {
     "name": "stderr",
     "output_type": "stream",
     "text": [
      "100%|██████████| 153499/153499 [1:02:31<00:00, 40.91it/s]\n"
     ]
    }
   ],
   "source": [
    "#Разбиваем текст на слова, слова приводим к нижнему регистру, лематизируем и выбрасываем стпо-слова\n",
    "fulltext = []\n",
    "for response in tqdm(responses):\n",
    "    \n",
    "    #Приведем все слова к нижнему регистру\n",
    "    r=response['text'].lower()\n",
    "    #Оставляем только слова, в соответствии с шаблоном\n",
    "    r=words_only(r)\n",
    "    #Лематизируем слова\n",
    "    r=lemmatize(r)\n",
    "    #Удаляем стоп-слова\n",
    "    r=remove_stopwords(r)\n",
    "    #Добавляем новый отчет в список\n",
    "    fulltext.append(r.split())"
   ]
  },
  {
   "cell_type": "markdown",
   "metadata": {},
   "source": [
    "## Обучение модели в gensim"
   ]
  },
  {
   "cell_type": "code",
   "execution_count": 9,
   "metadata": {},
   "outputs": [
    {
     "name": "stdout",
     "output_type": "stream",
     "text": [
      "CPU times: user 5min 31s, sys: 8.21 s, total: 5min 40s\n",
      "Wall time: 3min 4s\n"
     ]
    }
   ],
   "source": [
    "%%time\n",
    "#Обучим модель word2vec от gensim\n",
    "from gensim.models import Word2Vec\n",
    "model = Word2Vec(fulltext, size=100, window=5, min_count=5, workers=4)\n",
    "#На всякий случай, сохраняем модель в файл\n",
    "model.save(\"sent_w2v.model\")"
   ]
  },
  {
   "cell_type": "code",
   "execution_count": null,
   "metadata": {
    "collapsed": true
   },
   "outputs": [],
   "source": [
    "#Загрузка данных из файла (на всякий случай)\n",
    "#from gensim.models import Word2Vec\n",
    "#model = Word2Vec.load(\"sent_w2v.model\") "
   ]
  },
  {
   "cell_type": "code",
   "execution_count": 10,
   "metadata": {
    "scrolled": true
   },
   "outputs": [
    {
     "name": "stderr",
     "output_type": "stream",
     "text": [
      "/home/alexey/anaconda3/lib/python3.6/site-packages/ipykernel_launcher.py:1: DeprecationWarning: Call to deprecated `most_similar` (Method will be removed in 4.0.0, use self.wv.most_similar() instead).\n",
      "  \"\"\"Entry point for launching an IPython kernel.\n"
     ]
    },
    {
     "data": {
      "text/plain": [
       "[('хороший!', 0.6438833475112915),\n",
       " ('супер!', 0.6353523135185242),\n",
       " (':d', 0.6267712712287903),\n",
       " ('удача!', 0.6261351704597473),\n",
       " ('эх', 0.6208802461624146),\n",
       " ('удача', 0.6168009638786316),\n",
       " ('держать!', 0.6101917624473572),\n",
       " ('позади', 0.6094632744789124),\n",
       " ('молодец!', 0.6053237915039062),\n",
       " ('больно', 0.6038185954093933)]"
      ]
     },
     "execution_count": 10,
     "metadata": {},
     "output_type": "execute_result"
    }
   ],
   "source": [
    "#Посмотрим самые близкие слова для смайлика\n",
    "model.most_similar(\":)\")"
   ]
  },
  {
   "cell_type": "code",
   "execution_count": null,
   "metadata": {
    "collapsed": true
   },
   "outputs": [],
   "source": [
    "#Для смайлика самым близким словом подобралось \"хороший\", что вполне корректно"
   ]
  },
  {
   "cell_type": "code",
   "execution_count": 11,
   "metadata": {},
   "outputs": [
    {
     "name": "stderr",
     "output_type": "stream",
     "text": [
      "/home/alexey/anaconda3/lib/python3.6/site-packages/ipykernel_launcher.py:1: DeprecationWarning: Call to deprecated `most_similar` (Method will be removed in 4.0.0, use self.wv.most_similar() instead).\n",
      "  \"\"\"Entry point for launching an IPython kernel.\n"
     ]
    },
    {
     "data": {
      "text/plain": [
       "[('банка', 0.8490789532661438),\n",
       " ('банк!', 0.708834171295166),\n",
       " ('банк)', 0.5941247344017029),\n",
       " ('банк:', 0.5733256936073303),\n",
       " ('сбербанк', 0.5622051954269409),\n",
       " ('ситибанк', 0.5366489887237549),\n",
       " ('мкб', 0.5184993743896484),\n",
       " ('хотя', 0.5088075995445251),\n",
       " ('росбанк', 0.502704381942749),\n",
       " ('сбер', 0.4618588089942932)]"
      ]
     },
     "execution_count": 11,
     "metadata": {},
     "output_type": "execute_result"
    }
   ],
   "source": [
    "model.most_similar(\"банк\")"
   ]
  },
  {
   "cell_type": "code",
   "execution_count": null,
   "metadata": {
    "collapsed": true
   },
   "outputs": [],
   "source": [
    "#Самыми близкими оказались различные колллизии слова банк"
   ]
  },
  {
   "cell_type": "code",
   "execution_count": 12,
   "metadata": {
    "scrolled": false
   },
   "outputs": [
    {
     "name": "stderr",
     "output_type": "stream",
     "text": [
      "/home/alexey/anaconda3/lib/python3.6/site-packages/ipykernel_launcher.py:1: DeprecationWarning: Call to deprecated `most_similar` (Method will be removed in 4.0.0, use self.wv.most_similar() instead).\n",
      "  \"\"\"Entry point for launching an IPython kernel.\n"
     ]
    },
    {
     "data": {
      "text/plain": [
       "[('овца', 0.7836336493492126),\n",
       " ('гопник', 0.7746967077255249),\n",
       " ('курица', 0.7661190032958984),\n",
       " ('талант', 0.7531870603561401),\n",
       " ('снобизм', 0.7524035573005676),\n",
       " ('совсем!', 0.7499550580978394),\n",
       " ('муравей', 0.7464995384216309),\n",
       " ('мальчишка', 0.744761049747467),\n",
       " ('инфантильный', 0.7400878071784973),\n",
       " ('стадо', 0.7335176467895508)]"
      ]
     },
     "execution_count": 12,
     "metadata": {},
     "output_type": "execute_result"
    }
   ],
   "source": [
    "model.most_similar(\"король\")"
   ]
  },
  {
   "cell_type": "code",
   "execution_count": null,
   "metadata": {
    "collapsed": true
   },
   "outputs": [],
   "source": [
    "#В данном контексте, прямо как пример изменения смысла слова. В отзывах о банках слово король имеет явно негативный оттенок\n",
    "#и употребляется скорее в саркостическом смысле"
   ]
  },
  {
   "cell_type": "code",
   "execution_count": 13,
   "metadata": {
    "scrolled": false
   },
   "outputs": [
    {
     "name": "stderr",
     "output_type": "stream",
     "text": [
      "/home/alexey/anaconda3/lib/python3.6/site-packages/ipykernel_launcher.py:1: DeprecationWarning: Call to deprecated `most_similar` (Method will be removed in 4.0.0, use self.wv.most_similar() instead).\n",
      "  \"\"\"Entry point for launching an IPython kernel.\n"
     ]
    },
    {
     "data": {
      "text/plain": [
       "[('балашиха', 0.8839225769042969),\n",
       " ('серпухов', 0.8834270238876343),\n",
       " ('электросталь', 0.8756070733070374),\n",
       " ('красногорск', 0.8748654723167419),\n",
       " ('мытищи', 0.8720663785934448),\n",
       " ('люберцы', 0.870891809463501),\n",
       " ('реутов', 0.869674801826477),\n",
       " ('космонавт', 0.8644417524337769),\n",
       " ('сыктывкар', 0.8644206523895264),\n",
       " ('долгопрудный', 0.8632749915122986)]"
      ]
     },
     "execution_count": 13,
     "metadata": {},
     "output_type": "execute_result"
    }
   ],
   "source": [
    "model.most_similar(\"королева\")"
   ]
  },
  {
   "cell_type": "code",
   "execution_count": null,
   "metadata": {
    "collapsed": true
   },
   "outputs": [],
   "source": [
    "#Видимо королеву считают городом Королев и ищутся близкие слова"
   ]
  },
  {
   "cell_type": "code",
   "execution_count": 14,
   "metadata": {},
   "outputs": [
    {
     "name": "stderr",
     "output_type": "stream",
     "text": [
      "/home/alexey/anaconda3/lib/python3.6/site-packages/ipykernel_launcher.py:1: DeprecationWarning: Call to deprecated `most_similar` (Method will be removed in 4.0.0, use self.wv.most_similar() instead).\n",
      "  \"\"\"Entry point for launching an IPython kernel.\n"
     ]
    },
    {
     "data": {
      "text/plain": [
       "[('карточка', 0.8889328837394714),\n",
       " ('карта!', 0.8274955153465271),\n",
       " ('карта)', 0.7209641933441162),\n",
       " ('кредитка', 0.6868469715118408),\n",
       " ('карта:', 0.6789650917053223),\n",
       " ('неименной', 0.6392953991889954),\n",
       " ('именной', 0.6150289177894592),\n",
       " ('пластик', 0.6072357892990112),\n",
       " ('счет', 0.5781598687171936),\n",
       " ('дебетовый', 0.5726080536842346)]"
      ]
     },
     "execution_count": 14,
     "metadata": {},
     "output_type": "execute_result"
    }
   ],
   "source": [
    "model.most_similar(\"карта\")"
   ]
  },
  {
   "cell_type": "code",
   "execution_count": null,
   "metadata": {
    "collapsed": true
   },
   "outputs": [],
   "source": [
    "#В данном случае слова выглядят вполне разумно"
   ]
  },
  {
   "cell_type": "code",
   "execution_count": 28,
   "metadata": {},
   "outputs": [
    {
     "name": "stderr",
     "output_type": "stream",
     "text": [
      "/home/alexey/anaconda3/lib/python3.6/site-packages/ipykernel_launcher.py:1: DeprecationWarning: Call to deprecated `most_similar` (Method will be removed in 4.0.0, use self.wv.most_similar() instead).\n",
      "  \"\"\"Entry point for launching an IPython kernel.\n"
     ]
    },
    {
     "data": {
      "text/plain": [
       "[('кредитка', 0.6113500595092773),\n",
       " ('карточка', 0.5969126224517822),\n",
       " ('дебетовка', 0.5782869458198547),\n",
       " ('пластик', 0.5424693822860718),\n",
       " ('бесплатно', 0.5061665773391724),\n",
       " ('бвк', 0.49363696575164795),\n",
       " ('карта:', 0.4935533106327057),\n",
       " ('кукуруза', 0.4873521029949188),\n",
       " ('удобный', 0.4827096164226532),\n",
       " ('карта)', 0.4786989688873291)]"
      ]
     },
     "execution_count": 28,
     "metadata": {},
     "output_type": "execute_result"
    }
   ],
   "source": [
    "model.most_similar(positive=[\"карта\", \"удобно\"], negative=[\"отделение\"])"
   ]
  },
  {
   "cell_type": "code",
   "execution_count": null,
   "metadata": {
    "collapsed": true
   },
   "outputs": [],
   "source": [
    "#Честно говоря, ожидал, что в таком контексте самым близким словом будет слово \"плохо\""
   ]
  },
  {
   "cell_type": "code",
   "execution_count": 26,
   "metadata": {},
   "outputs": [
    {
     "name": "stderr",
     "output_type": "stream",
     "text": [
      "/home/alexey/anaconda3/lib/python3.6/site-packages/ipykernel_launcher.py:1: DeprecationWarning: Call to deprecated `most_similar` (Method will be removed in 4.0.0, use self.wv.most_similar() instead).\n",
      "  \"\"\"Entry point for launching an IPython kernel.\n"
     ]
    },
    {
     "data": {
      "text/plain": [
       "[('сбер', 0.4700581133365631),\n",
       " ('сб', 0.45253700017929077),\n",
       " ('плохой', 0.4450751543045044),\n",
       " ('банк', 0.43362003564834595),\n",
       " ('банка', 0.39804112911224365),\n",
       " ('мкб', 0.39123862981796265),\n",
       " ('улучшаться', 0.3828800320625305),\n",
       " ('поменяться', 0.3811820447444916),\n",
       " ('главный', 0.37704917788505554),\n",
       " ('изменяться', 0.3757723271846771)]"
      ]
     },
     "execution_count": 26,
     "metadata": {},
     "output_type": "execute_result"
    }
   ],
   "source": [
    "model.most_similar(positive=[\"сбербанк\",\"хороший\"], negative=[\"тинькоф\"])"
   ]
  },
  {
   "cell_type": "code",
   "execution_count": 16,
   "metadata": {},
   "outputs": [
    {
     "name": "stderr",
     "output_type": "stream",
     "text": [
      "/home/alexey/anaconda3/lib/python3.6/site-packages/ipykernel_launcher.py:1: DeprecationWarning: Call to deprecated `most_similar` (Method will be removed in 4.0.0, use self.wv.most_similar() instead).\n",
      "  \"\"\"Entry point for launching an IPython kernel.\n"
     ]
    },
    {
     "data": {
      "text/plain": [
       "[('таракан', 0.7257843613624573),\n",
       " ('гопник', 0.7159368395805359),\n",
       " ('курица', 0.7104015946388245),\n",
       " ('овца', 0.7075490951538086),\n",
       " ('креативность', 0.7070243954658508),\n",
       " ('публика', 0.698686420917511),\n",
       " ('лопата', 0.6972745656967163),\n",
       " ('снобизм', 0.6949231028556824),\n",
       " ('талант', 0.6912837624549866),\n",
       " ('пафос', 0.6911239624023438)]"
      ]
     },
     "execution_count": 16,
     "metadata": {},
     "output_type": "execute_result"
    }
   ],
   "source": [
    "model.most_similar(positive=[\"король\",\"мужчина\"], negative=[\"женщина\"])"
   ]
  },
  {
   "cell_type": "code",
   "execution_count": 24,
   "metadata": {},
   "outputs": [
    {
     "name": "stderr",
     "output_type": "stream",
     "text": [
      "/home/alexey/anaconda3/lib/python3.6/site-packages/ipykernel_launcher.py:1: DeprecationWarning: Call to deprecated `doesnt_match` (Method will be removed in 4.0.0, use self.wv.doesnt_match() instead).\n",
      "  \"\"\"Entry point for launching an IPython kernel.\n"
     ]
    },
    {
     "data": {
      "text/plain": [
       "'пирожок'"
      ]
     },
     "execution_count": 24,
     "metadata": {},
     "output_type": "execute_result"
    }
   ],
   "source": [
    "model.doesnt_match(\"борщ сметана макароны пирожок консомэ кошка\".split())"
   ]
  },
  {
   "cell_type": "code",
   "execution_count": null,
   "metadata": {
    "collapsed": true
   },
   "outputs": [],
   "source": []
  },
  {
   "cell_type": "code",
   "execution_count": 23,
   "metadata": {
    "scrolled": true
   },
   "outputs": [
    {
     "name": "stderr",
     "output_type": "stream",
     "text": [
      "/home/alexey/anaconda3/lib/python3.6/site-packages/ipykernel_launcher.py:1: DeprecationWarning: Call to deprecated `doesnt_match` (Method will be removed in 4.0.0, use self.wv.doesnt_match() instead).\n",
      "  \"\"\"Entry point for launching an IPython kernel.\n"
     ]
    },
    {
     "data": {
      "text/plain": [
       "'карта'"
      ]
     },
     "execution_count": 23,
     "metadata": {},
     "output_type": "execute_result"
    }
   ],
   "source": [
    "model.doesnt_match(\"мкб сбербанк втб тинькоф карта\".split())"
   ]
  },
  {
   "cell_type": "code",
   "execution_count": null,
   "metadata": {
    "collapsed": true
   },
   "outputs": [],
   "source": [
    "#Интересный момент. Если написать \"Тиньков\", то словарь, видимо не ассоциирует это слово с банком и выкидывает именно его"
   ]
  },
  {
   "cell_type": "markdown",
   "metadata": {},
   "source": [
    "### Визуализация пространства слов "
   ]
  },
  {
   "cell_type": "code",
   "execution_count": 18,
   "metadata": {},
   "outputs": [
    {
     "name": "stdout",
     "output_type": "stream",
     "text": [
      "['банк', 'карта', 'деньги', 'день', 'кредит', 'который', 'весь', 'отделение', 'сотрудник', 'клиент', 'мочь', 'счет', 'свой', 'сказать', 'сумма', 'получать', 'заявление', 'год', 'время', 'вопрос', 'кредитный', 'приходить', 'вклад', 'офис', 'данный', 'телефон', 'ваш', 'платеж', 'договор', 'звонить', 'ответ', 'номер', ')', 'банкомат', 'сбербанк', 'очень', 'позвонить', 'написать', 'г', 'обращаться', 'месяц', 'решать', 'проблема', 'средство', 'работать', 'работа', 'рубль', 'документ', 'звонок', 'ситуация', 'отвечать', 'хотеть', 'почему', 'человек', 'операция', 'давать', 'говорить', 'информация', 'сообщать', 'сделать', 'оформлять', 'смс', 'срок', 'услуга', 'просто', 'должный', 'заявка', 'банка', 'знать', 'обслуживание', 'очередь', ':', 'сегодня', 'минута', 'первый', 'девушка', 'ждать', 'руб', 'сайт', 'претензия', 'новый', 'ничто', 'просить', 'интернет', 'открывать', 'принимать', 'снимать', 'процент', 'выдавать', 'никакой', 'являться', 'неделя', 'оператор', 'становиться', 'понимать', '%', 'предлагать', 'оплачивать', 'закрывать', 'проходить', 'несколько', 'перевод', 'оказываться', 'писать', 'самый', 'нужно', 'е', 'час', 'иметь', 'объяснять', 'комиссия', 'указывать', 'пользоваться', 'условие', 'течение', 'узнавать', 'центр', 'взять', 'момент', 'задолженность', 'приходиться', 'случай', 'вообще', 'сразу', 'вс', 'делать', 'следующий', 'никто', 'хотя', 'служба', 'дело', 'вносить', 'решение', 'специалист', 'начинать', '(', 'денежный', 'система', 'отправлять', 'обращение', 'смочь', 'отзыв', 'данные', 'оплата', 'нужный', 'менеджер', 'каждый', 'предоставлять', 'спрашивать', 'поступать', 'пока', 'общий', 'москва', 'происходить', 'касса', 'итог', 'оставаться', 'думать', '/', 'история', 'второй', 'вернуть', 'добрый', 'погашение', 'отношение', 'р', 'идти', 'альфа', 'разбираться', 'приезжать', 'адрес', 'брать', 'поддержка', 'попросить', 'слово', 'получение', 'платить', 'последний', 'оставлять', 'находиться', 'письмо', 'уточнять', 'лицо', 'лимит', 'рабочий', 'линия', 'связь', 'возможность', 'банковский', 'просьба', 'сотрудница', 'отказываться', 'помогать', 'снова', 'либо', 'дата', 'причина', 'подавать', 'ошибка', 'хороший', 'конец', 'паспорт', '!', 'место', 'большой', 'м', 'быстро', 'спасибо', 'именно', 'хотеться', 'ещ', 'действие', 'долг', 'выписка', 'перезванивать', 'оформление', 'рассмотрение', 'справка', 'карточка', 'списывать', 'поэтому', 'страховка', 'пытаться', 'видеть', 'погасить', 'полный', 'горячий', 'любой', 'назад', 'находить', 'уходить', 'отказ', 'заблокировать', 'операционист', 'результат', 'получаться', 'возникать', 'пойти', 'переводить', 'проверять', 'сообщение', 'проводить', 'ставка', 'терминал', 'закрытие', 'число', 'втб', 'составлять', 'мобильный', 'пора', 'отдел', 'сей', 'покупка', 'сч', 'просрочка', 'ул', 'таки', 'город', 'заполнять', 'подходить', 'списание', 'декабрь', 'считать', 'филиал', 'открытие', 'забирать', 'почта', 'связываться', 'размер', 'около', 'дебетовый', 'сторона', 'снятие', 'стоять', 'подписывать', 'мало', 'онлайн', 'однако', 'администратор:', 'надеяться', 'колл', 'право', 'отказывать', 'обещать', 'программа', 'сколько', 'очередной', 'рассматривать', 'предложение', 'копия', 'наличный', 'далеко', 'полагать', 'жалоба', 'возврат', 'долго', 'магазин', 'утро', 'называть', 'суд', 'дополнительный', 'код', 'начинаться', 'тариф', 'выдача', 'электронный', 'порядок', 'имя', 'вечер', 'рука', 'рассказывать', 'остаток', 'одобрять', 'разговор', 'день!', 'подключать', 'личный', 'видимо', 'готовый', 'россия', 'представитель', 'пара', 'тысяча', 'запрос', 'далее', 'требовать', 'январь', 'подтверждать', 'досрочный', 'зайти', 'необходимый', 'п', 'март', 'работник', 'образ', 'заказывать', 'организация', 'занимать', 'кассир', 'разный', 'депозит', 'необходимо', 'сервис', 'анкета', 'пожалуйста', 'выясняться', 'внимание', 'оценка', 'причем', 'период', 'факт', 'апрель', 'компания', 'рф', 'л', 'точно', 'повод', 'чек', 'сначала', 'май', 'заплатить', 'выходить', 'курс', 'страхование', 'близкий', 'уважаемый', 'штраф', 'передавать', 'технический', 'некоторый', 'попытка', 'положительный', 'увидеть', 'дозваниваться', 'требование', 'рано', 'форма', 'появляться', 'качество', 'продукт', 'ладно', 'третий', 'февраль', 'ноябрь', 'подобный', 'вчера', 'вид', '(в', 'х', 'квартира', 'действительно', 'кроме', 'сожаление', 'посмотреть', 'выбирать', 'заканчиваться', 'часть', 'совершать', 'попадать', 'общение', 'сидеть', 'пополнять', 'ехать', 'туда', 'вопрос:', 'октябрь', 'начало', 'вводить', 'поздно', 'плата', 'уведомление', 'воспользоваться', 'годовой', 'купюра', 'помощь', 'руководство', 'обслуживать', 'давно', 'подождать', 'присылать', 'выяснять', 'август', 'отдавать', 'начислять', 'трубка', 'график', 'сентябрь', 'заниматься', 'visa', 'ожидание', 'сбой', 'основание', 'впечатление', 'достаточно', 'примерно', 'возможно', 'закон', 'потратить', 'собираться', 'поставлять', 'друг', 'производить', 'естественно', 'зачислять', 'ежемесячный', 'выполнять', 'страховой', 'безопасность', 'старый', 'выпускать', 'поскольку', 'цель', 'полностью', 'прийти', 'перевыпуск', 'потерять', 'текущий', 'отсутствие', 'заявлять', 'забывать', 'лично', 'вроде', 'завтра', 'указанный', 'русский', 'удобный', 'сбер', 'плюс', 'складываться', 'июль', 'го', 'жизнь', 'руководитель', 'ко', 'постоянно', 'общаться', 's', 'устраивать', 'бесплатный', 'допы', 'лишь', 'валюта', 'ипотека', 'обнаруживать', 'равный', 'ранее', 'правило', 'единственный', 'задавать', 'обслуживаться', 'правда', 'кстати', 'сталкиваться', 'банк!', 'телефонный', 'приносить', 'баланс', 'операционистка', 'июнь', 'стандарт']\n"
     ]
    }
   ],
   "source": [
    "top_words = []\n",
    "from nltk import FreqDist\n",
    "\n",
    "#Формируем словарь частотности слов\n",
    "fd = FreqDist()\n",
    "for text in fulltext:\n",
    "    fd.update(text)\n",
    "\n",
    "#Сохраняем 500 наиболее часто употребляемых\n",
    "for i in fd.most_common(500):\n",
    "    top_words.append(i[0])\n",
    "\n",
    "#Выводим топ 500 слов на печать\n",
    "print(top_words)"
   ]
  },
  {
   "cell_type": "code",
   "execution_count": 19,
   "metadata": {},
   "outputs": [
    {
     "name": "stderr",
     "output_type": "stream",
     "text": [
      "/home/alexey/anaconda3/lib/python3.6/site-packages/ipykernel_launcher.py:1: DeprecationWarning: Call to deprecated `__getitem__` (Method will be removed in 4.0.0, use self.wv.__getitem__() instead).\n",
      "  \"\"\"Entry point for launching an IPython kernel.\n"
     ]
    }
   ],
   "source": [
    "top_words_vec = model[top_words]"
   ]
  },
  {
   "cell_type": "code",
   "execution_count": 20,
   "metadata": {
    "collapsed": true
   },
   "outputs": [],
   "source": [
    "#При помощи TSNE понижаем размерность до 2-х компонент, чтобы можно было нарисовать пространство слов\n",
    "from sklearn.manifold import TSNE\n",
    "tsne = TSNE(n_components=2, random_state=0)\n",
    "top_words_tsne = tsne.fit_transform(top_words_vec)"
   ]
  },
  {
   "cell_type": "code",
   "execution_count": 21,
   "metadata": {},
   "outputs": [
    {
     "data": {
      "text/html": [
       "\n",
       "    <div class=\"bk-root\">\n",
       "        <a href=\"https://bokeh.pydata.org\" target=\"_blank\" class=\"bk-logo bk-logo-small bk-logo-notebook\"></a>\n",
       "        <span id=\"1a8532db-1216-4db2-aaa9-3cf4b0ecf65e\">Loading BokehJS ...</span>\n",
       "    </div>"
      ]
     },
     "metadata": {},
     "output_type": "display_data"
    },
    {
     "data": {
      "application/javascript": [
       "\n",
       "(function(root) {\n",
       "  function now() {\n",
       "    return new Date();\n",
       "  }\n",
       "\n",
       "  var force = true;\n",
       "\n",
       "  if (typeof (root._bokeh_onload_callbacks) === \"undefined\" || force === true) {\n",
       "    root._bokeh_onload_callbacks = [];\n",
       "    root._bokeh_is_loading = undefined;\n",
       "  }\n",
       "\n",
       "  var JS_MIME_TYPE = 'application/javascript';\n",
       "  var HTML_MIME_TYPE = 'text/html';\n",
       "  var EXEC_MIME_TYPE = 'application/vnd.bokehjs_exec.v0+json';\n",
       "  var CLASS_NAME = 'output_bokeh rendered_html';\n",
       "\n",
       "  /**\n",
       "   * Render data to the DOM node\n",
       "   */\n",
       "  function render(props, node) {\n",
       "    var script = document.createElement(\"script\");\n",
       "    node.appendChild(script);\n",
       "  }\n",
       "\n",
       "  /**\n",
       "   * Handle when an output is cleared or removed\n",
       "   */\n",
       "  function handleClearOutput(event, handle) {\n",
       "    var cell = handle.cell;\n",
       "\n",
       "    var id = cell.output_area._bokeh_element_id;\n",
       "    var server_id = cell.output_area._bokeh_server_id;\n",
       "    // Clean up Bokeh references\n",
       "    if (id !== undefined) {\n",
       "      Bokeh.index[id].model.document.clear();\n",
       "      delete Bokeh.index[id];\n",
       "    }\n",
       "\n",
       "    if (server_id !== undefined) {\n",
       "      // Clean up Bokeh references\n",
       "      var cmd = \"from bokeh.io.state import curstate; print(curstate().uuid_to_server['\" + server_id + \"'].get_sessions()[0].document.roots[0]._id)\";\n",
       "      cell.notebook.kernel.execute(cmd, {\n",
       "        iopub: {\n",
       "          output: function(msg) {\n",
       "            var element_id = msg.content.text.trim();\n",
       "            Bokeh.index[element_id].model.document.clear();\n",
       "            delete Bokeh.index[element_id];\n",
       "          }\n",
       "        }\n",
       "      });\n",
       "      // Destroy server and session\n",
       "      var cmd = \"import bokeh.io.notebook as ion; ion.destroy_server('\" + server_id + \"')\";\n",
       "      cell.notebook.kernel.execute(cmd);\n",
       "    }\n",
       "  }\n",
       "\n",
       "  /**\n",
       "   * Handle when a new output is added\n",
       "   */\n",
       "  function handleAddOutput(event, handle) {\n",
       "    var output_area = handle.output_area;\n",
       "    var output = handle.output;\n",
       "\n",
       "    // limit handleAddOutput to display_data with EXEC_MIME_TYPE content only\n",
       "    if ((output.output_type != \"display_data\") || (!output.data.hasOwnProperty(EXEC_MIME_TYPE))) {\n",
       "      return\n",
       "    }\n",
       "\n",
       "    var toinsert = output_area.element.find(`.${CLASS_NAME.split(' ')[0]}`);\n",
       "\n",
       "    if (output.metadata[EXEC_MIME_TYPE][\"id\"] !== undefined) {\n",
       "      toinsert[0].firstChild.textContent = output.data[JS_MIME_TYPE];\n",
       "      // store reference to embed id on output_area\n",
       "      output_area._bokeh_element_id = output.metadata[EXEC_MIME_TYPE][\"id\"];\n",
       "    }\n",
       "    if (output.metadata[EXEC_MIME_TYPE][\"server_id\"] !== undefined) {\n",
       "      var bk_div = document.createElement(\"div\");\n",
       "      bk_div.innerHTML = output.data[HTML_MIME_TYPE];\n",
       "      var script_attrs = bk_div.children[0].attributes;\n",
       "      for (var i = 0; i < script_attrs.length; i++) {\n",
       "        toinsert[0].firstChild.setAttribute(script_attrs[i].name, script_attrs[i].value);\n",
       "      }\n",
       "      // store reference to server id on output_area\n",
       "      output_area._bokeh_server_id = output.metadata[EXEC_MIME_TYPE][\"server_id\"];\n",
       "    }\n",
       "  }\n",
       "\n",
       "  function register_renderer(events, OutputArea) {\n",
       "\n",
       "    function append_mime(data, metadata, element) {\n",
       "      // create a DOM node to render to\n",
       "      var toinsert = this.create_output_subarea(\n",
       "        metadata,\n",
       "        CLASS_NAME,\n",
       "        EXEC_MIME_TYPE\n",
       "      );\n",
       "      this.keyboard_manager.register_events(toinsert);\n",
       "      // Render to node\n",
       "      var props = {data: data, metadata: metadata[EXEC_MIME_TYPE]};\n",
       "      render(props, toinsert[0]);\n",
       "      element.append(toinsert);\n",
       "      return toinsert\n",
       "    }\n",
       "\n",
       "    /* Handle when an output is cleared or removed */\n",
       "    events.on('clear_output.CodeCell', handleClearOutput);\n",
       "    events.on('delete.Cell', handleClearOutput);\n",
       "\n",
       "    /* Handle when a new output is added */\n",
       "    events.on('output_added.OutputArea', handleAddOutput);\n",
       "\n",
       "    /**\n",
       "     * Register the mime type and append_mime function with output_area\n",
       "     */\n",
       "    OutputArea.prototype.register_mime_type(EXEC_MIME_TYPE, append_mime, {\n",
       "      /* Is output safe? */\n",
       "      safe: true,\n",
       "      /* Index of renderer in `output_area.display_order` */\n",
       "      index: 0\n",
       "    });\n",
       "  }\n",
       "\n",
       "  // register the mime type if in Jupyter Notebook environment and previously unregistered\n",
       "  if (root.Jupyter !== undefined) {\n",
       "    var events = require('base/js/events');\n",
       "    var OutputArea = require('notebook/js/outputarea').OutputArea;\n",
       "\n",
       "    if (OutputArea.prototype.mime_types().indexOf(EXEC_MIME_TYPE) == -1) {\n",
       "      register_renderer(events, OutputArea);\n",
       "    }\n",
       "  }\n",
       "\n",
       "  \n",
       "  if (typeof (root._bokeh_timeout) === \"undefined\" || force === true) {\n",
       "    root._bokeh_timeout = Date.now() + 5000;\n",
       "    root._bokeh_failed_load = false;\n",
       "  }\n",
       "\n",
       "  var NB_LOAD_WARNING = {'data': {'text/html':\n",
       "     \"<div style='background-color: #fdd'>\\n\"+\n",
       "     \"<p>\\n\"+\n",
       "     \"BokehJS does not appear to have successfully loaded. If loading BokehJS from CDN, this \\n\"+\n",
       "     \"may be due to a slow or bad network connection. Possible fixes:\\n\"+\n",
       "     \"</p>\\n\"+\n",
       "     \"<ul>\\n\"+\n",
       "     \"<li>re-rerun `output_notebook()` to attempt to load from CDN again, or</li>\\n\"+\n",
       "     \"<li>use INLINE resources instead, as so:</li>\\n\"+\n",
       "     \"</ul>\\n\"+\n",
       "     \"<code>\\n\"+\n",
       "     \"from bokeh.resources import INLINE\\n\"+\n",
       "     \"output_notebook(resources=INLINE)\\n\"+\n",
       "     \"</code>\\n\"+\n",
       "     \"</div>\"}};\n",
       "\n",
       "  function display_loaded() {\n",
       "    var el = document.getElementById(\"1a8532db-1216-4db2-aaa9-3cf4b0ecf65e\");\n",
       "    if (el != null) {\n",
       "      el.textContent = \"BokehJS is loading...\";\n",
       "    }\n",
       "    if (root.Bokeh !== undefined) {\n",
       "      if (el != null) {\n",
       "        el.textContent = \"BokehJS \" + root.Bokeh.version + \" successfully loaded.\";\n",
       "      }\n",
       "    } else if (Date.now() < root._bokeh_timeout) {\n",
       "      setTimeout(display_loaded, 100)\n",
       "    }\n",
       "  }\n",
       "\n",
       "\n",
       "  function run_callbacks() {\n",
       "    try {\n",
       "      root._bokeh_onload_callbacks.forEach(function(callback) { callback() });\n",
       "    }\n",
       "    finally {\n",
       "      delete root._bokeh_onload_callbacks\n",
       "    }\n",
       "    console.info(\"Bokeh: all callbacks have finished\");\n",
       "  }\n",
       "\n",
       "  function load_libs(js_urls, callback) {\n",
       "    root._bokeh_onload_callbacks.push(callback);\n",
       "    if (root._bokeh_is_loading > 0) {\n",
       "      console.log(\"Bokeh: BokehJS is being loaded, scheduling callback at\", now());\n",
       "      return null;\n",
       "    }\n",
       "    if (js_urls == null || js_urls.length === 0) {\n",
       "      run_callbacks();\n",
       "      return null;\n",
       "    }\n",
       "    console.log(\"Bokeh: BokehJS not loaded, scheduling load and callback at\", now());\n",
       "    root._bokeh_is_loading = js_urls.length;\n",
       "    for (var i = 0; i < js_urls.length; i++) {\n",
       "      var url = js_urls[i];\n",
       "      var s = document.createElement('script');\n",
       "      s.src = url;\n",
       "      s.async = false;\n",
       "      s.onreadystatechange = s.onload = function() {\n",
       "        root._bokeh_is_loading--;\n",
       "        if (root._bokeh_is_loading === 0) {\n",
       "          console.log(\"Bokeh: all BokehJS libraries loaded\");\n",
       "          run_callbacks()\n",
       "        }\n",
       "      };\n",
       "      s.onerror = function() {\n",
       "        console.warn(\"failed to load library \" + url);\n",
       "      };\n",
       "      console.log(\"Bokeh: injecting script tag for BokehJS library: \", url);\n",
       "      document.getElementsByTagName(\"head\")[0].appendChild(s);\n",
       "    }\n",
       "  };var element = document.getElementById(\"1a8532db-1216-4db2-aaa9-3cf4b0ecf65e\");\n",
       "  if (element == null) {\n",
       "    console.log(\"Bokeh: ERROR: autoload.js configured with elementid '1a8532db-1216-4db2-aaa9-3cf4b0ecf65e' but no matching script tag was found. \")\n",
       "    return false;\n",
       "  }\n",
       "\n",
       "  var js_urls = [\"https://cdn.pydata.org/bokeh/release/bokeh-0.12.10.min.js\", \"https://cdn.pydata.org/bokeh/release/bokeh-widgets-0.12.10.min.js\", \"https://cdn.pydata.org/bokeh/release/bokeh-tables-0.12.10.min.js\", \"https://cdn.pydata.org/bokeh/release/bokeh-gl-0.12.10.min.js\"];\n",
       "\n",
       "  var inline_js = [\n",
       "    function(Bokeh) {\n",
       "      Bokeh.set_log_level(\"info\");\n",
       "    },\n",
       "    \n",
       "    function(Bokeh) {\n",
       "      \n",
       "    },\n",
       "    function(Bokeh) {\n",
       "      console.log(\"Bokeh: injecting CSS: https://cdn.pydata.org/bokeh/release/bokeh-0.12.10.min.css\");\n",
       "      Bokeh.embed.inject_css(\"https://cdn.pydata.org/bokeh/release/bokeh-0.12.10.min.css\");\n",
       "      console.log(\"Bokeh: injecting CSS: https://cdn.pydata.org/bokeh/release/bokeh-widgets-0.12.10.min.css\");\n",
       "      Bokeh.embed.inject_css(\"https://cdn.pydata.org/bokeh/release/bokeh-widgets-0.12.10.min.css\");\n",
       "      console.log(\"Bokeh: injecting CSS: https://cdn.pydata.org/bokeh/release/bokeh-tables-0.12.10.min.css\");\n",
       "      Bokeh.embed.inject_css(\"https://cdn.pydata.org/bokeh/release/bokeh-tables-0.12.10.min.css\");\n",
       "    }\n",
       "  ];\n",
       "\n",
       "  function run_inline_js() {\n",
       "    \n",
       "    if ((root.Bokeh !== undefined) || (force === true)) {\n",
       "      for (var i = 0; i < inline_js.length; i++) {\n",
       "        inline_js[i].call(root, root.Bokeh);\n",
       "      }if (force === true) {\n",
       "        display_loaded();\n",
       "      }} else if (Date.now() < root._bokeh_timeout) {\n",
       "      setTimeout(run_inline_js, 100);\n",
       "    } else if (!root._bokeh_failed_load) {\n",
       "      console.log(\"Bokeh: BokehJS failed to load within specified timeout.\");\n",
       "      root._bokeh_failed_load = true;\n",
       "    } else if (force !== true) {\n",
       "      var cell = $(document.getElementById(\"1a8532db-1216-4db2-aaa9-3cf4b0ecf65e\")).parents('.cell').data().cell;\n",
       "      cell.output_area.append_execute_result(NB_LOAD_WARNING)\n",
       "    }\n",
       "\n",
       "  }\n",
       "\n",
       "  if (root._bokeh_is_loading === 0) {\n",
       "    console.log(\"Bokeh: BokehJS loaded, going straight to plotting\");\n",
       "    run_inline_js();\n",
       "  } else {\n",
       "    load_libs(js_urls, function() {\n",
       "      console.log(\"Bokeh: BokehJS plotting callback run at\", now());\n",
       "      run_inline_js();\n",
       "    });\n",
       "  }\n",
       "}(window));"
      ],
      "application/vnd.bokehjs_load.v0+json": "\n(function(root) {\n  function now() {\n    return new Date();\n  }\n\n  var force = true;\n\n  if (typeof (root._bokeh_onload_callbacks) === \"undefined\" || force === true) {\n    root._bokeh_onload_callbacks = [];\n    root._bokeh_is_loading = undefined;\n  }\n\n  \n\n  \n  if (typeof (root._bokeh_timeout) === \"undefined\" || force === true) {\n    root._bokeh_timeout = Date.now() + 5000;\n    root._bokeh_failed_load = false;\n  }\n\n  var NB_LOAD_WARNING = {'data': {'text/html':\n     \"<div style='background-color: #fdd'>\\n\"+\n     \"<p>\\n\"+\n     \"BokehJS does not appear to have successfully loaded. If loading BokehJS from CDN, this \\n\"+\n     \"may be due to a slow or bad network connection. Possible fixes:\\n\"+\n     \"</p>\\n\"+\n     \"<ul>\\n\"+\n     \"<li>re-rerun `output_notebook()` to attempt to load from CDN again, or</li>\\n\"+\n     \"<li>use INLINE resources instead, as so:</li>\\n\"+\n     \"</ul>\\n\"+\n     \"<code>\\n\"+\n     \"from bokeh.resources import INLINE\\n\"+\n     \"output_notebook(resources=INLINE)\\n\"+\n     \"</code>\\n\"+\n     \"</div>\"}};\n\n  function display_loaded() {\n    var el = document.getElementById(\"1a8532db-1216-4db2-aaa9-3cf4b0ecf65e\");\n    if (el != null) {\n      el.textContent = \"BokehJS is loading...\";\n    }\n    if (root.Bokeh !== undefined) {\n      if (el != null) {\n        el.textContent = \"BokehJS \" + root.Bokeh.version + \" successfully loaded.\";\n      }\n    } else if (Date.now() < root._bokeh_timeout) {\n      setTimeout(display_loaded, 100)\n    }\n  }\n\n\n  function run_callbacks() {\n    try {\n      root._bokeh_onload_callbacks.forEach(function(callback) { callback() });\n    }\n    finally {\n      delete root._bokeh_onload_callbacks\n    }\n    console.info(\"Bokeh: all callbacks have finished\");\n  }\n\n  function load_libs(js_urls, callback) {\n    root._bokeh_onload_callbacks.push(callback);\n    if (root._bokeh_is_loading > 0) {\n      console.log(\"Bokeh: BokehJS is being loaded, scheduling callback at\", now());\n      return null;\n    }\n    if (js_urls == null || js_urls.length === 0) {\n      run_callbacks();\n      return null;\n    }\n    console.log(\"Bokeh: BokehJS not loaded, scheduling load and callback at\", now());\n    root._bokeh_is_loading = js_urls.length;\n    for (var i = 0; i < js_urls.length; i++) {\n      var url = js_urls[i];\n      var s = document.createElement('script');\n      s.src = url;\n      s.async = false;\n      s.onreadystatechange = s.onload = function() {\n        root._bokeh_is_loading--;\n        if (root._bokeh_is_loading === 0) {\n          console.log(\"Bokeh: all BokehJS libraries loaded\");\n          run_callbacks()\n        }\n      };\n      s.onerror = function() {\n        console.warn(\"failed to load library \" + url);\n      };\n      console.log(\"Bokeh: injecting script tag for BokehJS library: \", url);\n      document.getElementsByTagName(\"head\")[0].appendChild(s);\n    }\n  };var element = document.getElementById(\"1a8532db-1216-4db2-aaa9-3cf4b0ecf65e\");\n  if (element == null) {\n    console.log(\"Bokeh: ERROR: autoload.js configured with elementid '1a8532db-1216-4db2-aaa9-3cf4b0ecf65e' but no matching script tag was found. \")\n    return false;\n  }\n\n  var js_urls = [\"https://cdn.pydata.org/bokeh/release/bokeh-0.12.10.min.js\", \"https://cdn.pydata.org/bokeh/release/bokeh-widgets-0.12.10.min.js\", \"https://cdn.pydata.org/bokeh/release/bokeh-tables-0.12.10.min.js\", \"https://cdn.pydata.org/bokeh/release/bokeh-gl-0.12.10.min.js\"];\n\n  var inline_js = [\n    function(Bokeh) {\n      Bokeh.set_log_level(\"info\");\n    },\n    \n    function(Bokeh) {\n      \n    },\n    function(Bokeh) {\n      console.log(\"Bokeh: injecting CSS: https://cdn.pydata.org/bokeh/release/bokeh-0.12.10.min.css\");\n      Bokeh.embed.inject_css(\"https://cdn.pydata.org/bokeh/release/bokeh-0.12.10.min.css\");\n      console.log(\"Bokeh: injecting CSS: https://cdn.pydata.org/bokeh/release/bokeh-widgets-0.12.10.min.css\");\n      Bokeh.embed.inject_css(\"https://cdn.pydata.org/bokeh/release/bokeh-widgets-0.12.10.min.css\");\n      console.log(\"Bokeh: injecting CSS: https://cdn.pydata.org/bokeh/release/bokeh-tables-0.12.10.min.css\");\n      Bokeh.embed.inject_css(\"https://cdn.pydata.org/bokeh/release/bokeh-tables-0.12.10.min.css\");\n    }\n  ];\n\n  function run_inline_js() {\n    \n    if ((root.Bokeh !== undefined) || (force === true)) {\n      for (var i = 0; i < inline_js.length; i++) {\n        inline_js[i].call(root, root.Bokeh);\n      }if (force === true) {\n        display_loaded();\n      }} else if (Date.now() < root._bokeh_timeout) {\n      setTimeout(run_inline_js, 100);\n    } else if (!root._bokeh_failed_load) {\n      console.log(\"Bokeh: BokehJS failed to load within specified timeout.\");\n      root._bokeh_failed_load = true;\n    } else if (force !== true) {\n      var cell = $(document.getElementById(\"1a8532db-1216-4db2-aaa9-3cf4b0ecf65e\")).parents('.cell').data().cell;\n      cell.output_area.append_execute_result(NB_LOAD_WARNING)\n    }\n\n  }\n\n  if (root._bokeh_is_loading === 0) {\n    console.log(\"Bokeh: BokehJS loaded, going straight to plotting\");\n    run_inline_js();\n  } else {\n    load_libs(js_urls, function() {\n      console.log(\"Bokeh: BokehJS plotting callback run at\", now());\n      run_inline_js();\n    });\n  }\n}(window));"
     },
     "metadata": {},
     "output_type": "display_data"
    },
    {
     "data": {
      "text/html": [
       "\n",
       "<div class=\"bk-root\">\n",
       "    <div class=\"bk-plotdiv\" id=\"8d5f78d0-9d0d-45cc-b92d-108059d57901\"></div>\n",
       "</div>"
      ]
     },
     "metadata": {},
     "output_type": "display_data"
    },
    {
     "data": {
      "application/javascript": [
       "(function(root) {\n",
       "  function embed_document(root) {\n",
       "    var docs_json = {\"3945b22f-6925-467c-b4aa-fe8afe62adab\":{\"roots\":{\"references\":[{\"attributes\":{},\"id\":\"b552f7cf-0408-427c-9b82-dd23ad6ece3f\",\"type\":\"BasicTickFormatter\"},{\"attributes\":{\"below\":[{\"id\":\"cbd306b6-456b-4b4b-b904-30d8c4b899b7\",\"type\":\"LinearAxis\"}],\"left\":[{\"id\":\"38bf50e7-2bc8-47e7-b428-e7bd70a860e4\",\"type\":\"LinearAxis\"}],\"renderers\":[{\"id\":\"cbd306b6-456b-4b4b-b904-30d8c4b899b7\",\"type\":\"LinearAxis\"},{\"id\":\"6bc0df0b-e05b-4cf6-ab69-cb63e55d11e8\",\"type\":\"Grid\"},{\"id\":\"38bf50e7-2bc8-47e7-b428-e7bd70a860e4\",\"type\":\"LinearAxis\"},{\"id\":\"5909fd03-4692-4471-b795-f4020d52a4d9\",\"type\":\"Grid\"},{\"id\":\"4b4ec2d1-2b43-4774-b1f4-cd5601667542\",\"type\":\"GlyphRenderer\"},{\"id\":\"53a844f6-5fe3-4473-b570-0b3f5dade6fb\",\"type\":\"LabelSet\"}],\"title\":{\"id\":\"8a3fc9af-f189-4973-9dcc-095d6c5c518c\",\"type\":\"Title\"},\"toolbar\":{\"id\":\"78c6a19d-867d-4d17-bbfe-772fa53da7a2\",\"type\":\"Toolbar\"},\"toolbar_location\":\"above\",\"x_range\":{\"id\":\"c3a457a9-2c5a-4d67-98a2-308ba653ef4b\",\"type\":\"DataRange1d\"},\"x_scale\":{\"id\":\"e7bcf19e-566b-4417-a33b-69dca9143cfa\",\"type\":\"LinearScale\"},\"y_range\":{\"id\":\"280a4e74-be31-478b-a27d-c087bf6871a2\",\"type\":\"DataRange1d\"},\"y_scale\":{\"id\":\"5f56608f-e42a-403b-a44b-2ba474c8a0ca\",\"type\":\"LinearScale\"}},\"id\":\"0089e15a-d70a-4237-97a2-8631a0f71b26\",\"subtype\":\"Figure\",\"type\":\"Plot\"},{\"attributes\":{},\"id\":\"bd86b472-d7b1-493c-b6ff-a94c99fdc042\",\"type\":\"WheelZoomTool\"},{\"attributes\":{\"callback\":null},\"id\":\"280a4e74-be31-478b-a27d-c087bf6871a2\",\"type\":\"DataRange1d\"},{\"attributes\":{\"fill_alpha\":{\"value\":0.1},\"fill_color\":{\"value\":\"#1f77b4\"},\"line_alpha\":{\"value\":0.1},\"line_color\":{\"value\":\"#1f77b4\"},\"size\":{\"units\":\"screen\",\"value\":8},\"x\":{\"field\":\"x1\"},\"y\":{\"field\":\"x2\"}},\"id\":\"05518f65-949e-4269-a3a7-8d3cc60e5682\",\"type\":\"Circle\"},{\"attributes\":{},\"id\":\"5f56608f-e42a-403b-a44b-2ba474c8a0ca\",\"type\":\"LinearScale\"},{\"attributes\":{},\"id\":\"19c9aec4-06b7-4839-8a9a-4b696d2e0180\",\"type\":\"ResetTool\"},{\"attributes\":{\"plot\":null,\"text\":\"word2vec T-SNE for most common words\"},\"id\":\"8a3fc9af-f189-4973-9dcc-095d6c5c518c\",\"type\":\"Title\"},{\"attributes\":{},\"id\":\"d45193dc-8df8-429a-9b06-db3c344c1e30\",\"type\":\"SaveTool\"},{\"attributes\":{\"callback\":null},\"id\":\"c3a457a9-2c5a-4d67-98a2-308ba653ef4b\",\"type\":\"DataRange1d\"},{\"attributes\":{\"data_source\":{\"id\":\"bcbad72a-0688-4862-92e1-eff3ff424702\",\"type\":\"ColumnDataSource\"},\"glyph\":{\"id\":\"9715db52-f6fa-4d70-86a7-56ed9399173d\",\"type\":\"Circle\"},\"hover_glyph\":null,\"muted_glyph\":null,\"nonselection_glyph\":{\"id\":\"05518f65-949e-4269-a3a7-8d3cc60e5682\",\"type\":\"Circle\"},\"selection_glyph\":null,\"view\":{\"id\":\"4711fb41-4120-4438-9cef-4469382b7f0c\",\"type\":\"CDSView\"}},\"id\":\"4b4ec2d1-2b43-4774-b1f4-cd5601667542\",\"type\":\"GlyphRenderer\"},{\"attributes\":{\"fill_color\":{\"value\":\"#1f77b4\"},\"line_color\":{\"value\":\"#1f77b4\"},\"size\":{\"units\":\"screen\",\"value\":8},\"x\":{\"field\":\"x1\"},\"y\":{\"field\":\"x2\"}},\"id\":\"9715db52-f6fa-4d70-86a7-56ed9399173d\",\"type\":\"Circle\"},{\"attributes\":{\"active_drag\":\"auto\",\"active_inspect\":\"auto\",\"active_scroll\":\"auto\",\"active_tap\":\"auto\",\"tools\":[{\"id\":\"c598b6bd-fa2a-479e-a7f6-f05fbf8af676\",\"type\":\"PanTool\"},{\"id\":\"bd86b472-d7b1-493c-b6ff-a94c99fdc042\",\"type\":\"WheelZoomTool\"},{\"id\":\"19c9aec4-06b7-4839-8a9a-4b696d2e0180\",\"type\":\"ResetTool\"},{\"id\":\"d45193dc-8df8-429a-9b06-db3c344c1e30\",\"type\":\"SaveTool\"}]},\"id\":\"78c6a19d-867d-4d17-bbfe-772fa53da7a2\",\"type\":\"Toolbar\"},{\"attributes\":{\"plot\":{\"id\":\"0089e15a-d70a-4237-97a2-8631a0f71b26\",\"subtype\":\"Figure\",\"type\":\"Plot\"},\"source\":{\"id\":\"bcbad72a-0688-4862-92e1-eff3ff424702\",\"type\":\"ColumnDataSource\"},\"text\":{\"field\":\"names\"},\"text_align\":\"center\",\"text_color\":{\"value\":\"#555555\"},\"text_font_size\":{\"value\":\"8pt\"},\"x\":{\"field\":\"x1\"},\"y\":{\"field\":\"x2\"},\"y_offset\":{\"value\":6}},\"id\":\"53a844f6-5fe3-4473-b570-0b3f5dade6fb\",\"type\":\"LabelSet\"},{\"attributes\":{},\"id\":\"e7bcf19e-566b-4417-a33b-69dca9143cfa\",\"type\":\"LinearScale\"},{\"attributes\":{},\"id\":\"321612b2-911a-4051-bb7a-a3e5a7dece6a\",\"type\":\"BasicTickFormatter\"},{\"attributes\":{\"formatter\":{\"id\":\"b552f7cf-0408-427c-9b82-dd23ad6ece3f\",\"type\":\"BasicTickFormatter\"},\"plot\":{\"id\":\"0089e15a-d70a-4237-97a2-8631a0f71b26\",\"subtype\":\"Figure\",\"type\":\"Plot\"},\"ticker\":{\"id\":\"db7048b1-79ef-4b83-857d-14e8925944ca\",\"type\":\"BasicTicker\"}},\"id\":\"cbd306b6-456b-4b4b-b904-30d8c4b899b7\",\"type\":\"LinearAxis\"},{\"attributes\":{},\"id\":\"db7048b1-79ef-4b83-857d-14e8925944ca\",\"type\":\"BasicTicker\"},{\"attributes\":{\"plot\":{\"id\":\"0089e15a-d70a-4237-97a2-8631a0f71b26\",\"subtype\":\"Figure\",\"type\":\"Plot\"},\"ticker\":{\"id\":\"db7048b1-79ef-4b83-857d-14e8925944ca\",\"type\":\"BasicTicker\"}},\"id\":\"6bc0df0b-e05b-4cf6-ab69-cb63e55d11e8\",\"type\":\"Grid\"},{\"attributes\":{\"formatter\":{\"id\":\"321612b2-911a-4051-bb7a-a3e5a7dece6a\",\"type\":\"BasicTickFormatter\"},\"plot\":{\"id\":\"0089e15a-d70a-4237-97a2-8631a0f71b26\",\"subtype\":\"Figure\",\"type\":\"Plot\"},\"ticker\":{\"id\":\"96f13e36-3bef-4e17-b650-110166bd4de6\",\"type\":\"BasicTicker\"}},\"id\":\"38bf50e7-2bc8-47e7-b428-e7bd70a860e4\",\"type\":\"LinearAxis\"},{\"attributes\":{},\"id\":\"96f13e36-3bef-4e17-b650-110166bd4de6\",\"type\":\"BasicTicker\"},{\"attributes\":{\"source\":{\"id\":\"bcbad72a-0688-4862-92e1-eff3ff424702\",\"type\":\"ColumnDataSource\"}},\"id\":\"4711fb41-4120-4438-9cef-4469382b7f0c\",\"type\":\"CDSView\"},{\"attributes\":{\"dimension\":1,\"plot\":{\"id\":\"0089e15a-d70a-4237-97a2-8631a0f71b26\",\"subtype\":\"Figure\",\"type\":\"Plot\"},\"ticker\":{\"id\":\"96f13e36-3bef-4e17-b650-110166bd4de6\",\"type\":\"BasicTicker\"}},\"id\":\"5909fd03-4692-4471-b795-f4020d52a4d9\",\"type\":\"Grid\"},{\"attributes\":{},\"id\":\"c598b6bd-fa2a-479e-a7f6-f05fbf8af676\",\"type\":\"PanTool\"},{\"attributes\":{\"callback\":null,\"column_names\":[\"x1\",\"x2\",\"names\"],\"data\":{\"names\":[\"\\u0431\\u0430\\u043d\\u043a\",\"\\u043a\\u0430\\u0440\\u0442\\u0430\",\"\\u0434\\u0435\\u043d\\u044c\\u0433\\u0438\",\"\\u0434\\u0435\\u043d\\u044c\",\"\\u043a\\u0440\\u0435\\u0434\\u0438\\u0442\",\"\\u043a\\u043e\\u0442\\u043e\\u0440\\u044b\\u0439\",\"\\u0432\\u0435\\u0441\\u044c\",\"\\u043e\\u0442\\u0434\\u0435\\u043b\\u0435\\u043d\\u0438\\u0435\",\"\\u0441\\u043e\\u0442\\u0440\\u0443\\u0434\\u043d\\u0438\\u043a\",\"\\u043a\\u043b\\u0438\\u0435\\u043d\\u0442\",\"\\u043c\\u043e\\u0447\\u044c\",\"\\u0441\\u0447\\u0435\\u0442\",\"\\u0441\\u0432\\u043e\\u0439\",\"\\u0441\\u043a\\u0430\\u0437\\u0430\\u0442\\u044c\",\"\\u0441\\u0443\\u043c\\u043c\\u0430\",\"\\u043f\\u043e\\u043b\\u0443\\u0447\\u0430\\u0442\\u044c\",\"\\u0437\\u0430\\u044f\\u0432\\u043b\\u0435\\u043d\\u0438\\u0435\",\"\\u0433\\u043e\\u0434\",\"\\u0432\\u0440\\u0435\\u043c\\u044f\",\"\\u0432\\u043e\\u043f\\u0440\\u043e\\u0441\",\"\\u043a\\u0440\\u0435\\u0434\\u0438\\u0442\\u043d\\u044b\\u0439\",\"\\u043f\\u0440\\u0438\\u0445\\u043e\\u0434\\u0438\\u0442\\u044c\",\"\\u0432\\u043a\\u043b\\u0430\\u0434\",\"\\u043e\\u0444\\u0438\\u0441\",\"\\u0434\\u0430\\u043d\\u043d\\u044b\\u0439\",\"\\u0442\\u0435\\u043b\\u0435\\u0444\\u043e\\u043d\",\"\\u0432\\u0430\\u0448\",\"\\u043f\\u043b\\u0430\\u0442\\u0435\\u0436\",\"\\u0434\\u043e\\u0433\\u043e\\u0432\\u043e\\u0440\",\"\\u0437\\u0432\\u043e\\u043d\\u0438\\u0442\\u044c\",\"\\u043e\\u0442\\u0432\\u0435\\u0442\",\"\\u043d\\u043e\\u043c\\u0435\\u0440\",\")\",\"\\u0431\\u0430\\u043d\\u043a\\u043e\\u043c\\u0430\\u0442\",\"\\u0441\\u0431\\u0435\\u0440\\u0431\\u0430\\u043d\\u043a\",\"\\u043e\\u0447\\u0435\\u043d\\u044c\",\"\\u043f\\u043e\\u0437\\u0432\\u043e\\u043d\\u0438\\u0442\\u044c\",\"\\u043d\\u0430\\u043f\\u0438\\u0441\\u0430\\u0442\\u044c\",\"\\u0433\",\"\\u043e\\u0431\\u0440\\u0430\\u0449\\u0430\\u0442\\u044c\\u0441\\u044f\",\"\\u043c\\u0435\\u0441\\u044f\\u0446\",\"\\u0440\\u0435\\u0448\\u0430\\u0442\\u044c\",\"\\u043f\\u0440\\u043e\\u0431\\u043b\\u0435\\u043c\\u0430\",\"\\u0441\\u0440\\u0435\\u0434\\u0441\\u0442\\u0432\\u043e\",\"\\u0440\\u0430\\u0431\\u043e\\u0442\\u0430\\u0442\\u044c\",\"\\u0440\\u0430\\u0431\\u043e\\u0442\\u0430\",\"\\u0440\\u0443\\u0431\\u043b\\u044c\",\"\\u0434\\u043e\\u043a\\u0443\\u043c\\u0435\\u043d\\u0442\",\"\\u0437\\u0432\\u043e\\u043d\\u043e\\u043a\",\"\\u0441\\u0438\\u0442\\u0443\\u0430\\u0446\\u0438\\u044f\",\"\\u043e\\u0442\\u0432\\u0435\\u0447\\u0430\\u0442\\u044c\",\"\\u0445\\u043e\\u0442\\u0435\\u0442\\u044c\",\"\\u043f\\u043e\\u0447\\u0435\\u043c\\u0443\",\"\\u0447\\u0435\\u043b\\u043e\\u0432\\u0435\\u043a\",\"\\u043e\\u043f\\u0435\\u0440\\u0430\\u0446\\u0438\\u044f\",\"\\u0434\\u0430\\u0432\\u0430\\u0442\\u044c\",\"\\u0433\\u043e\\u0432\\u043e\\u0440\\u0438\\u0442\\u044c\",\"\\u0438\\u043d\\u0444\\u043e\\u0440\\u043c\\u0430\\u0446\\u0438\\u044f\",\"\\u0441\\u043e\\u043e\\u0431\\u0449\\u0430\\u0442\\u044c\",\"\\u0441\\u0434\\u0435\\u043b\\u0430\\u0442\\u044c\",\"\\u043e\\u0444\\u043e\\u0440\\u043c\\u043b\\u044f\\u0442\\u044c\",\"\\u0441\\u043c\\u0441\",\"\\u0441\\u0440\\u043e\\u043a\",\"\\u0443\\u0441\\u043b\\u0443\\u0433\\u0430\",\"\\u043f\\u0440\\u043e\\u0441\\u0442\\u043e\",\"\\u0434\\u043e\\u043b\\u0436\\u043d\\u044b\\u0439\",\"\\u0437\\u0430\\u044f\\u0432\\u043a\\u0430\",\"\\u0431\\u0430\\u043d\\u043a\\u0430\",\"\\u0437\\u043d\\u0430\\u0442\\u044c\",\"\\u043e\\u0431\\u0441\\u043b\\u0443\\u0436\\u0438\\u0432\\u0430\\u043d\\u0438\\u0435\",\"\\u043e\\u0447\\u0435\\u0440\\u0435\\u0434\\u044c\",\":\",\"\\u0441\\u0435\\u0433\\u043e\\u0434\\u043d\\u044f\",\"\\u043c\\u0438\\u043d\\u0443\\u0442\\u0430\",\"\\u043f\\u0435\\u0440\\u0432\\u044b\\u0439\",\"\\u0434\\u0435\\u0432\\u0443\\u0448\\u043a\\u0430\",\"\\u0436\\u0434\\u0430\\u0442\\u044c\",\"\\u0440\\u0443\\u0431\",\"\\u0441\\u0430\\u0439\\u0442\",\"\\u043f\\u0440\\u0435\\u0442\\u0435\\u043d\\u0437\\u0438\\u044f\",\"\\u043d\\u043e\\u0432\\u044b\\u0439\",\"\\u043d\\u0438\\u0447\\u0442\\u043e\",\"\\u043f\\u0440\\u043e\\u0441\\u0438\\u0442\\u044c\",\"\\u0438\\u043d\\u0442\\u0435\\u0440\\u043d\\u0435\\u0442\",\"\\u043e\\u0442\\u043a\\u0440\\u044b\\u0432\\u0430\\u0442\\u044c\",\"\\u043f\\u0440\\u0438\\u043d\\u0438\\u043c\\u0430\\u0442\\u044c\",\"\\u0441\\u043d\\u0438\\u043c\\u0430\\u0442\\u044c\",\"\\u043f\\u0440\\u043e\\u0446\\u0435\\u043d\\u0442\",\"\\u0432\\u044b\\u0434\\u0430\\u0432\\u0430\\u0442\\u044c\",\"\\u043d\\u0438\\u043a\\u0430\\u043a\\u043e\\u0439\",\"\\u044f\\u0432\\u043b\\u044f\\u0442\\u044c\\u0441\\u044f\",\"\\u043d\\u0435\\u0434\\u0435\\u043b\\u044f\",\"\\u043e\\u043f\\u0435\\u0440\\u0430\\u0442\\u043e\\u0440\",\"\\u0441\\u0442\\u0430\\u043d\\u043e\\u0432\\u0438\\u0442\\u044c\\u0441\\u044f\",\"\\u043f\\u043e\\u043d\\u0438\\u043c\\u0430\\u0442\\u044c\",\"%\",\"\\u043f\\u0440\\u0435\\u0434\\u043b\\u0430\\u0433\\u0430\\u0442\\u044c\",\"\\u043e\\u043f\\u043b\\u0430\\u0447\\u0438\\u0432\\u0430\\u0442\\u044c\",\"\\u0437\\u0430\\u043a\\u0440\\u044b\\u0432\\u0430\\u0442\\u044c\",\"\\u043f\\u0440\\u043e\\u0445\\u043e\\u0434\\u0438\\u0442\\u044c\",\"\\u043d\\u0435\\u0441\\u043a\\u043e\\u043b\\u044c\\u043a\\u043e\",\"\\u043f\\u0435\\u0440\\u0435\\u0432\\u043e\\u0434\",\"\\u043e\\u043a\\u0430\\u0437\\u044b\\u0432\\u0430\\u0442\\u044c\\u0441\\u044f\",\"\\u043f\\u0438\\u0441\\u0430\\u0442\\u044c\",\"\\u0441\\u0430\\u043c\\u044b\\u0439\",\"\\u043d\\u0443\\u0436\\u043d\\u043e\",\"\\u0435\",\"\\u0447\\u0430\\u0441\",\"\\u0438\\u043c\\u0435\\u0442\\u044c\",\"\\u043e\\u0431\\u044a\\u044f\\u0441\\u043d\\u044f\\u0442\\u044c\",\"\\u043a\\u043e\\u043c\\u0438\\u0441\\u0441\\u0438\\u044f\",\"\\u0443\\u043a\\u0430\\u0437\\u044b\\u0432\\u0430\\u0442\\u044c\",\"\\u043f\\u043e\\u043b\\u044c\\u0437\\u043e\\u0432\\u0430\\u0442\\u044c\\u0441\\u044f\",\"\\u0443\\u0441\\u043b\\u043e\\u0432\\u0438\\u0435\",\"\\u0442\\u0435\\u0447\\u0435\\u043d\\u0438\\u0435\",\"\\u0443\\u0437\\u043d\\u0430\\u0432\\u0430\\u0442\\u044c\",\"\\u0446\\u0435\\u043d\\u0442\\u0440\",\"\\u0432\\u0437\\u044f\\u0442\\u044c\",\"\\u043c\\u043e\\u043c\\u0435\\u043d\\u0442\",\"\\u0437\\u0430\\u0434\\u043e\\u043b\\u0436\\u0435\\u043d\\u043d\\u043e\\u0441\\u0442\\u044c\",\"\\u043f\\u0440\\u0438\\u0445\\u043e\\u0434\\u0438\\u0442\\u044c\\u0441\\u044f\",\"\\u0441\\u043b\\u0443\\u0447\\u0430\\u0439\",\"\\u0432\\u043e\\u043e\\u0431\\u0449\\u0435\",\"\\u0441\\u0440\\u0430\\u0437\\u0443\",\"\\u0432\\u0441\",\"\\u0434\\u0435\\u043b\\u0430\\u0442\\u044c\",\"\\u0441\\u043b\\u0435\\u0434\\u0443\\u044e\\u0449\\u0438\\u0439\",\"\\u043d\\u0438\\u043a\\u0442\\u043e\",\"\\u0445\\u043e\\u0442\\u044f\",\"\\u0441\\u043b\\u0443\\u0436\\u0431\\u0430\",\"\\u0434\\u0435\\u043b\\u043e\",\"\\u0432\\u043d\\u043e\\u0441\\u0438\\u0442\\u044c\",\"\\u0440\\u0435\\u0448\\u0435\\u043d\\u0438\\u0435\",\"\\u0441\\u043f\\u0435\\u0446\\u0438\\u0430\\u043b\\u0438\\u0441\\u0442\",\"\\u043d\\u0430\\u0447\\u0438\\u043d\\u0430\\u0442\\u044c\",\"(\",\"\\u0434\\u0435\\u043d\\u0435\\u0436\\u043d\\u044b\\u0439\",\"\\u0441\\u0438\\u0441\\u0442\\u0435\\u043c\\u0430\",\"\\u043e\\u0442\\u043f\\u0440\\u0430\\u0432\\u043b\\u044f\\u0442\\u044c\",\"\\u043e\\u0431\\u0440\\u0430\\u0449\\u0435\\u043d\\u0438\\u0435\",\"\\u0441\\u043c\\u043e\\u0447\\u044c\",\"\\u043e\\u0442\\u0437\\u044b\\u0432\",\"\\u0434\\u0430\\u043d\\u043d\\u044b\\u0435\",\"\\u043e\\u043f\\u043b\\u0430\\u0442\\u0430\",\"\\u043d\\u0443\\u0436\\u043d\\u044b\\u0439\",\"\\u043c\\u0435\\u043d\\u0435\\u0434\\u0436\\u0435\\u0440\",\"\\u043a\\u0430\\u0436\\u0434\\u044b\\u0439\",\"\\u043f\\u0440\\u0435\\u0434\\u043e\\u0441\\u0442\\u0430\\u0432\\u043b\\u044f\\u0442\\u044c\",\"\\u0441\\u043f\\u0440\\u0430\\u0448\\u0438\\u0432\\u0430\\u0442\\u044c\",\"\\u043f\\u043e\\u0441\\u0442\\u0443\\u043f\\u0430\\u0442\\u044c\",\"\\u043f\\u043e\\u043a\\u0430\",\"\\u043e\\u0431\\u0449\\u0438\\u0439\",\"\\u043c\\u043e\\u0441\\u043a\\u0432\\u0430\",\"\\u043f\\u0440\\u043e\\u0438\\u0441\\u0445\\u043e\\u0434\\u0438\\u0442\\u044c\",\"\\u043a\\u0430\\u0441\\u0441\\u0430\",\"\\u0438\\u0442\\u043e\\u0433\",\"\\u043e\\u0441\\u0442\\u0430\\u0432\\u0430\\u0442\\u044c\\u0441\\u044f\",\"\\u0434\\u0443\\u043c\\u0430\\u0442\\u044c\",\"/\",\"\\u0438\\u0441\\u0442\\u043e\\u0440\\u0438\\u044f\",\"\\u0432\\u0442\\u043e\\u0440\\u043e\\u0439\",\"\\u0432\\u0435\\u0440\\u043d\\u0443\\u0442\\u044c\",\"\\u0434\\u043e\\u0431\\u0440\\u044b\\u0439\",\"\\u043f\\u043e\\u0433\\u0430\\u0448\\u0435\\u043d\\u0438\\u0435\",\"\\u043e\\u0442\\u043d\\u043e\\u0448\\u0435\\u043d\\u0438\\u0435\",\"\\u0440\",\"\\u0438\\u0434\\u0442\\u0438\",\"\\u0430\\u043b\\u044c\\u0444\\u0430\",\"\\u0440\\u0430\\u0437\\u0431\\u0438\\u0440\\u0430\\u0442\\u044c\\u0441\\u044f\",\"\\u043f\\u0440\\u0438\\u0435\\u0437\\u0436\\u0430\\u0442\\u044c\",\"\\u0430\\u0434\\u0440\\u0435\\u0441\",\"\\u0431\\u0440\\u0430\\u0442\\u044c\",\"\\u043f\\u043e\\u0434\\u0434\\u0435\\u0440\\u0436\\u043a\\u0430\",\"\\u043f\\u043e\\u043f\\u0440\\u043e\\u0441\\u0438\\u0442\\u044c\",\"\\u0441\\u043b\\u043e\\u0432\\u043e\",\"\\u043f\\u043e\\u043b\\u0443\\u0447\\u0435\\u043d\\u0438\\u0435\",\"\\u043f\\u043b\\u0430\\u0442\\u0438\\u0442\\u044c\",\"\\u043f\\u043e\\u0441\\u043b\\u0435\\u0434\\u043d\\u0438\\u0439\",\"\\u043e\\u0441\\u0442\\u0430\\u0432\\u043b\\u044f\\u0442\\u044c\",\"\\u043d\\u0430\\u0445\\u043e\\u0434\\u0438\\u0442\\u044c\\u0441\\u044f\",\"\\u043f\\u0438\\u0441\\u044c\\u043c\\u043e\",\"\\u0443\\u0442\\u043e\\u0447\\u043d\\u044f\\u0442\\u044c\",\"\\u043b\\u0438\\u0446\\u043e\",\"\\u043b\\u0438\\u043c\\u0438\\u0442\",\"\\u0440\\u0430\\u0431\\u043e\\u0447\\u0438\\u0439\",\"\\u043b\\u0438\\u043d\\u0438\\u044f\",\"\\u0441\\u0432\\u044f\\u0437\\u044c\",\"\\u0432\\u043e\\u0437\\u043c\\u043e\\u0436\\u043d\\u043e\\u0441\\u0442\\u044c\",\"\\u0431\\u0430\\u043d\\u043a\\u043e\\u0432\\u0441\\u043a\\u0438\\u0439\",\"\\u043f\\u0440\\u043e\\u0441\\u044c\\u0431\\u0430\",\"\\u0441\\u043e\\u0442\\u0440\\u0443\\u0434\\u043d\\u0438\\u0446\\u0430\",\"\\u043e\\u0442\\u043a\\u0430\\u0437\\u044b\\u0432\\u0430\\u0442\\u044c\\u0441\\u044f\",\"\\u043f\\u043e\\u043c\\u043e\\u0433\\u0430\\u0442\\u044c\",\"\\u0441\\u043d\\u043e\\u0432\\u0430\",\"\\u043b\\u0438\\u0431\\u043e\",\"\\u0434\\u0430\\u0442\\u0430\",\"\\u043f\\u0440\\u0438\\u0447\\u0438\\u043d\\u0430\",\"\\u043f\\u043e\\u0434\\u0430\\u0432\\u0430\\u0442\\u044c\",\"\\u043e\\u0448\\u0438\\u0431\\u043a\\u0430\",\"\\u0445\\u043e\\u0440\\u043e\\u0448\\u0438\\u0439\",\"\\u043a\\u043e\\u043d\\u0435\\u0446\",\"\\u043f\\u0430\\u0441\\u043f\\u043e\\u0440\\u0442\",\"!\",\"\\u043c\\u0435\\u0441\\u0442\\u043e\",\"\\u0431\\u043e\\u043b\\u044c\\u0448\\u043e\\u0439\",\"\\u043c\",\"\\u0431\\u044b\\u0441\\u0442\\u0440\\u043e\",\"\\u0441\\u043f\\u0430\\u0441\\u0438\\u0431\\u043e\",\"\\u0438\\u043c\\u0435\\u043d\\u043d\\u043e\",\"\\u0445\\u043e\\u0442\\u0435\\u0442\\u044c\\u0441\\u044f\",\"\\u0435\\u0449\",\"\\u0434\\u0435\\u0439\\u0441\\u0442\\u0432\\u0438\\u0435\",\"\\u0434\\u043e\\u043b\\u0433\",\"\\u0432\\u044b\\u043f\\u0438\\u0441\\u043a\\u0430\",\"\\u043f\\u0435\\u0440\\u0435\\u0437\\u0432\\u0430\\u043d\\u0438\\u0432\\u0430\\u0442\\u044c\",\"\\u043e\\u0444\\u043e\\u0440\\u043c\\u043b\\u0435\\u043d\\u0438\\u0435\",\"\\u0440\\u0430\\u0441\\u0441\\u043c\\u043e\\u0442\\u0440\\u0435\\u043d\\u0438\\u0435\",\"\\u0441\\u043f\\u0440\\u0430\\u0432\\u043a\\u0430\",\"\\u043a\\u0430\\u0440\\u0442\\u043e\\u0447\\u043a\\u0430\",\"\\u0441\\u043f\\u0438\\u0441\\u044b\\u0432\\u0430\\u0442\\u044c\",\"\\u043f\\u043e\\u044d\\u0442\\u043e\\u043c\\u0443\",\"\\u0441\\u0442\\u0440\\u0430\\u0445\\u043e\\u0432\\u043a\\u0430\",\"\\u043f\\u044b\\u0442\\u0430\\u0442\\u044c\\u0441\\u044f\",\"\\u0432\\u0438\\u0434\\u0435\\u0442\\u044c\",\"\\u043f\\u043e\\u0433\\u0430\\u0441\\u0438\\u0442\\u044c\",\"\\u043f\\u043e\\u043b\\u043d\\u044b\\u0439\",\"\\u0433\\u043e\\u0440\\u044f\\u0447\\u0438\\u0439\",\"\\u043b\\u044e\\u0431\\u043e\\u0439\",\"\\u043d\\u0430\\u0437\\u0430\\u0434\",\"\\u043d\\u0430\\u0445\\u043e\\u0434\\u0438\\u0442\\u044c\",\"\\u0443\\u0445\\u043e\\u0434\\u0438\\u0442\\u044c\",\"\\u043e\\u0442\\u043a\\u0430\\u0437\",\"\\u0437\\u0430\\u0431\\u043b\\u043e\\u043a\\u0438\\u0440\\u043e\\u0432\\u0430\\u0442\\u044c\",\"\\u043e\\u043f\\u0435\\u0440\\u0430\\u0446\\u0438\\u043e\\u043d\\u0438\\u0441\\u0442\",\"\\u0440\\u0435\\u0437\\u0443\\u043b\\u044c\\u0442\\u0430\\u0442\",\"\\u043f\\u043e\\u043b\\u0443\\u0447\\u0430\\u0442\\u044c\\u0441\\u044f\",\"\\u0432\\u043e\\u0437\\u043d\\u0438\\u043a\\u0430\\u0442\\u044c\",\"\\u043f\\u043e\\u0439\\u0442\\u0438\",\"\\u043f\\u0435\\u0440\\u0435\\u0432\\u043e\\u0434\\u0438\\u0442\\u044c\",\"\\u043f\\u0440\\u043e\\u0432\\u0435\\u0440\\u044f\\u0442\\u044c\",\"\\u0441\\u043e\\u043e\\u0431\\u0449\\u0435\\u043d\\u0438\\u0435\",\"\\u043f\\u0440\\u043e\\u0432\\u043e\\u0434\\u0438\\u0442\\u044c\",\"\\u0441\\u0442\\u0430\\u0432\\u043a\\u0430\",\"\\u0442\\u0435\\u0440\\u043c\\u0438\\u043d\\u0430\\u043b\",\"\\u0437\\u0430\\u043a\\u0440\\u044b\\u0442\\u0438\\u0435\",\"\\u0447\\u0438\\u0441\\u043b\\u043e\",\"\\u0432\\u0442\\u0431\",\"\\u0441\\u043e\\u0441\\u0442\\u0430\\u0432\\u043b\\u044f\\u0442\\u044c\",\"\\u043c\\u043e\\u0431\\u0438\\u043b\\u044c\\u043d\\u044b\\u0439\",\"\\u043f\\u043e\\u0440\\u0430\",\"\\u043e\\u0442\\u0434\\u0435\\u043b\",\"\\u0441\\u0435\\u0439\",\"\\u043f\\u043e\\u043a\\u0443\\u043f\\u043a\\u0430\",\"\\u0441\\u0447\",\"\\u043f\\u0440\\u043e\\u0441\\u0440\\u043e\\u0447\\u043a\\u0430\",\"\\u0443\\u043b\",\"\\u0442\\u0430\\u043a\\u0438\",\"\\u0433\\u043e\\u0440\\u043e\\u0434\",\"\\u0437\\u0430\\u043f\\u043e\\u043b\\u043d\\u044f\\u0442\\u044c\",\"\\u043f\\u043e\\u0434\\u0445\\u043e\\u0434\\u0438\\u0442\\u044c\",\"\\u0441\\u043f\\u0438\\u0441\\u0430\\u043d\\u0438\\u0435\",\"\\u0434\\u0435\\u043a\\u0430\\u0431\\u0440\\u044c\",\"\\u0441\\u0447\\u0438\\u0442\\u0430\\u0442\\u044c\",\"\\u0444\\u0438\\u043b\\u0438\\u0430\\u043b\",\"\\u043e\\u0442\\u043a\\u0440\\u044b\\u0442\\u0438\\u0435\",\"\\u0437\\u0430\\u0431\\u0438\\u0440\\u0430\\u0442\\u044c\",\"\\u043f\\u043e\\u0447\\u0442\\u0430\",\"\\u0441\\u0432\\u044f\\u0437\\u044b\\u0432\\u0430\\u0442\\u044c\\u0441\\u044f\",\"\\u0440\\u0430\\u0437\\u043c\\u0435\\u0440\",\"\\u043e\\u043a\\u043e\\u043b\\u043e\",\"\\u0434\\u0435\\u0431\\u0435\\u0442\\u043e\\u0432\\u044b\\u0439\",\"\\u0441\\u0442\\u043e\\u0440\\u043e\\u043d\\u0430\",\"\\u0441\\u043d\\u044f\\u0442\\u0438\\u0435\",\"\\u0441\\u0442\\u043e\\u044f\\u0442\\u044c\",\"\\u043f\\u043e\\u0434\\u043f\\u0438\\u0441\\u044b\\u0432\\u0430\\u0442\\u044c\",\"\\u043c\\u0430\\u043b\\u043e\",\"\\u043e\\u043d\\u043b\\u0430\\u0439\\u043d\",\"\\u043e\\u0434\\u043d\\u0430\\u043a\\u043e\",\"\\u0430\\u0434\\u043c\\u0438\\u043d\\u0438\\u0441\\u0442\\u0440\\u0430\\u0442\\u043e\\u0440:\",\"\\u043d\\u0430\\u0434\\u0435\\u044f\\u0442\\u044c\\u0441\\u044f\",\"\\u043a\\u043e\\u043b\\u043b\",\"\\u043f\\u0440\\u0430\\u0432\\u043e\",\"\\u043e\\u0442\\u043a\\u0430\\u0437\\u044b\\u0432\\u0430\\u0442\\u044c\",\"\\u043e\\u0431\\u0435\\u0449\\u0430\\u0442\\u044c\",\"\\u043f\\u0440\\u043e\\u0433\\u0440\\u0430\\u043c\\u043c\\u0430\",\"\\u0441\\u043a\\u043e\\u043b\\u044c\\u043a\\u043e\",\"\\u043e\\u0447\\u0435\\u0440\\u0435\\u0434\\u043d\\u043e\\u0439\",\"\\u0440\\u0430\\u0441\\u0441\\u043c\\u0430\\u0442\\u0440\\u0438\\u0432\\u0430\\u0442\\u044c\",\"\\u043f\\u0440\\u0435\\u0434\\u043b\\u043e\\u0436\\u0435\\u043d\\u0438\\u0435\",\"\\u043a\\u043e\\u043f\\u0438\\u044f\",\"\\u043d\\u0430\\u043b\\u0438\\u0447\\u043d\\u044b\\u0439\",\"\\u0434\\u0430\\u043b\\u0435\\u043a\\u043e\",\"\\u043f\\u043e\\u043b\\u0430\\u0433\\u0430\\u0442\\u044c\",\"\\u0436\\u0430\\u043b\\u043e\\u0431\\u0430\",\"\\u0432\\u043e\\u0437\\u0432\\u0440\\u0430\\u0442\",\"\\u0434\\u043e\\u043b\\u0433\\u043e\",\"\\u043c\\u0430\\u0433\\u0430\\u0437\\u0438\\u043d\",\"\\u0443\\u0442\\u0440\\u043e\",\"\\u043d\\u0430\\u0437\\u044b\\u0432\\u0430\\u0442\\u044c\",\"\\u0441\\u0443\\u0434\",\"\\u0434\\u043e\\u043f\\u043e\\u043b\\u043d\\u0438\\u0442\\u0435\\u043b\\u044c\\u043d\\u044b\\u0439\",\"\\u043a\\u043e\\u0434\",\"\\u043d\\u0430\\u0447\\u0438\\u043d\\u0430\\u0442\\u044c\\u0441\\u044f\",\"\\u0442\\u0430\\u0440\\u0438\\u0444\",\"\\u0432\\u044b\\u0434\\u0430\\u0447\\u0430\",\"\\u044d\\u043b\\u0435\\u043a\\u0442\\u0440\\u043e\\u043d\\u043d\\u044b\\u0439\",\"\\u043f\\u043e\\u0440\\u044f\\u0434\\u043e\\u043a\",\"\\u0438\\u043c\\u044f\",\"\\u0432\\u0435\\u0447\\u0435\\u0440\",\"\\u0440\\u0443\\u043a\\u0430\",\"\\u0440\\u0430\\u0441\\u0441\\u043a\\u0430\\u0437\\u044b\\u0432\\u0430\\u0442\\u044c\",\"\\u043e\\u0441\\u0442\\u0430\\u0442\\u043e\\u043a\",\"\\u043e\\u0434\\u043e\\u0431\\u0440\\u044f\\u0442\\u044c\",\"\\u0440\\u0430\\u0437\\u0433\\u043e\\u0432\\u043e\\u0440\",\"\\u0434\\u0435\\u043d\\u044c!\",\"\\u043f\\u043e\\u0434\\u043a\\u043b\\u044e\\u0447\\u0430\\u0442\\u044c\",\"\\u043b\\u0438\\u0447\\u043d\\u044b\\u0439\",\"\\u0432\\u0438\\u0434\\u0438\\u043c\\u043e\",\"\\u0433\\u043e\\u0442\\u043e\\u0432\\u044b\\u0439\",\"\\u0440\\u043e\\u0441\\u0441\\u0438\\u044f\",\"\\u043f\\u0440\\u0435\\u0434\\u0441\\u0442\\u0430\\u0432\\u0438\\u0442\\u0435\\u043b\\u044c\",\"\\u043f\\u0430\\u0440\\u0430\",\"\\u0442\\u044b\\u0441\\u044f\\u0447\\u0430\",\"\\u0437\\u0430\\u043f\\u0440\\u043e\\u0441\",\"\\u0434\\u0430\\u043b\\u0435\\u0435\",\"\\u0442\\u0440\\u0435\\u0431\\u043e\\u0432\\u0430\\u0442\\u044c\",\"\\u044f\\u043d\\u0432\\u0430\\u0440\\u044c\",\"\\u043f\\u043e\\u0434\\u0442\\u0432\\u0435\\u0440\\u0436\\u0434\\u0430\\u0442\\u044c\",\"\\u0434\\u043e\\u0441\\u0440\\u043e\\u0447\\u043d\\u044b\\u0439\",\"\\u0437\\u0430\\u0439\\u0442\\u0438\",\"\\u043d\\u0435\\u043e\\u0431\\u0445\\u043e\\u0434\\u0438\\u043c\\u044b\\u0439\",\"\\u043f\",\"\\u043c\\u0430\\u0440\\u0442\",\"\\u0440\\u0430\\u0431\\u043e\\u0442\\u043d\\u0438\\u043a\",\"\\u043e\\u0431\\u0440\\u0430\\u0437\",\"\\u0437\\u0430\\u043a\\u0430\\u0437\\u044b\\u0432\\u0430\\u0442\\u044c\",\"\\u043e\\u0440\\u0433\\u0430\\u043d\\u0438\\u0437\\u0430\\u0446\\u0438\\u044f\",\"\\u0437\\u0430\\u043d\\u0438\\u043c\\u0430\\u0442\\u044c\",\"\\u043a\\u0430\\u0441\\u0441\\u0438\\u0440\",\"\\u0440\\u0430\\u0437\\u043d\\u044b\\u0439\",\"\\u0434\\u0435\\u043f\\u043e\\u0437\\u0438\\u0442\",\"\\u043d\\u0435\\u043e\\u0431\\u0445\\u043e\\u0434\\u0438\\u043c\\u043e\",\"\\u0441\\u0435\\u0440\\u0432\\u0438\\u0441\",\"\\u0430\\u043d\\u043a\\u0435\\u0442\\u0430\",\"\\u043f\\u043e\\u0436\\u0430\\u043b\\u0443\\u0439\\u0441\\u0442\\u0430\",\"\\u0432\\u044b\\u044f\\u0441\\u043d\\u044f\\u0442\\u044c\\u0441\\u044f\",\"\\u0432\\u043d\\u0438\\u043c\\u0430\\u043d\\u0438\\u0435\",\"\\u043e\\u0446\\u0435\\u043d\\u043a\\u0430\",\"\\u043f\\u0440\\u0438\\u0447\\u0435\\u043c\",\"\\u043f\\u0435\\u0440\\u0438\\u043e\\u0434\",\"\\u0444\\u0430\\u043a\\u0442\",\"\\u0430\\u043f\\u0440\\u0435\\u043b\\u044c\",\"\\u043a\\u043e\\u043c\\u043f\\u0430\\u043d\\u0438\\u044f\",\"\\u0440\\u0444\",\"\\u043b\",\"\\u0442\\u043e\\u0447\\u043d\\u043e\",\"\\u043f\\u043e\\u0432\\u043e\\u0434\",\"\\u0447\\u0435\\u043a\",\"\\u0441\\u043d\\u0430\\u0447\\u0430\\u043b\\u0430\",\"\\u043c\\u0430\\u0439\",\"\\u0437\\u0430\\u043f\\u043b\\u0430\\u0442\\u0438\\u0442\\u044c\",\"\\u0432\\u044b\\u0445\\u043e\\u0434\\u0438\\u0442\\u044c\",\"\\u043a\\u0443\\u0440\\u0441\",\"\\u0441\\u0442\\u0440\\u0430\\u0445\\u043e\\u0432\\u0430\\u043d\\u0438\\u0435\",\"\\u0431\\u043b\\u0438\\u0437\\u043a\\u0438\\u0439\",\"\\u0443\\u0432\\u0430\\u0436\\u0430\\u0435\\u043c\\u044b\\u0439\",\"\\u0448\\u0442\\u0440\\u0430\\u0444\",\"\\u043f\\u0435\\u0440\\u0435\\u0434\\u0430\\u0432\\u0430\\u0442\\u044c\",\"\\u0442\\u0435\\u0445\\u043d\\u0438\\u0447\\u0435\\u0441\\u043a\\u0438\\u0439\",\"\\u043d\\u0435\\u043a\\u043e\\u0442\\u043e\\u0440\\u044b\\u0439\",\"\\u043f\\u043e\\u043f\\u044b\\u0442\\u043a\\u0430\",\"\\u043f\\u043e\\u043b\\u043e\\u0436\\u0438\\u0442\\u0435\\u043b\\u044c\\u043d\\u044b\\u0439\",\"\\u0443\\u0432\\u0438\\u0434\\u0435\\u0442\\u044c\",\"\\u0434\\u043e\\u0437\\u0432\\u0430\\u043d\\u0438\\u0432\\u0430\\u0442\\u044c\\u0441\\u044f\",\"\\u0442\\u0440\\u0435\\u0431\\u043e\\u0432\\u0430\\u043d\\u0438\\u0435\",\"\\u0440\\u0430\\u043d\\u043e\",\"\\u0444\\u043e\\u0440\\u043c\\u0430\",\"\\u043f\\u043e\\u044f\\u0432\\u043b\\u044f\\u0442\\u044c\\u0441\\u044f\",\"\\u043a\\u0430\\u0447\\u0435\\u0441\\u0442\\u0432\\u043e\",\"\\u043f\\u0440\\u043e\\u0434\\u0443\\u043a\\u0442\",\"\\u043b\\u0430\\u0434\\u043d\\u043e\",\"\\u0442\\u0440\\u0435\\u0442\\u0438\\u0439\",\"\\u0444\\u0435\\u0432\\u0440\\u0430\\u043b\\u044c\",\"\\u043d\\u043e\\u044f\\u0431\\u0440\\u044c\",\"\\u043f\\u043e\\u0434\\u043e\\u0431\\u043d\\u044b\\u0439\",\"\\u0432\\u0447\\u0435\\u0440\\u0430\",\"\\u0432\\u0438\\u0434\",\"(\\u0432\",\"\\u0445\",\"\\u043a\\u0432\\u0430\\u0440\\u0442\\u0438\\u0440\\u0430\",\"\\u0434\\u0435\\u0439\\u0441\\u0442\\u0432\\u0438\\u0442\\u0435\\u043b\\u044c\\u043d\\u043e\",\"\\u043a\\u0440\\u043e\\u043c\\u0435\",\"\\u0441\\u043e\\u0436\\u0430\\u043b\\u0435\\u043d\\u0438\\u0435\",\"\\u043f\\u043e\\u0441\\u043c\\u043e\\u0442\\u0440\\u0435\\u0442\\u044c\",\"\\u0432\\u044b\\u0431\\u0438\\u0440\\u0430\\u0442\\u044c\",\"\\u0437\\u0430\\u043a\\u0430\\u043d\\u0447\\u0438\\u0432\\u0430\\u0442\\u044c\\u0441\\u044f\",\"\\u0447\\u0430\\u0441\\u0442\\u044c\",\"\\u0441\\u043e\\u0432\\u0435\\u0440\\u0448\\u0430\\u0442\\u044c\",\"\\u043f\\u043e\\u043f\\u0430\\u0434\\u0430\\u0442\\u044c\",\"\\u043e\\u0431\\u0449\\u0435\\u043d\\u0438\\u0435\",\"\\u0441\\u0438\\u0434\\u0435\\u0442\\u044c\",\"\\u043f\\u043e\\u043f\\u043e\\u043b\\u043d\\u044f\\u0442\\u044c\",\"\\u0435\\u0445\\u0430\\u0442\\u044c\",\"\\u0442\\u0443\\u0434\\u0430\",\"\\u0432\\u043e\\u043f\\u0440\\u043e\\u0441:\",\"\\u043e\\u043a\\u0442\\u044f\\u0431\\u0440\\u044c\",\"\\u043d\\u0430\\u0447\\u0430\\u043b\\u043e\",\"\\u0432\\u0432\\u043e\\u0434\\u0438\\u0442\\u044c\",\"\\u043f\\u043e\\u0437\\u0434\\u043d\\u043e\",\"\\u043f\\u043b\\u0430\\u0442\\u0430\",\"\\u0443\\u0432\\u0435\\u0434\\u043e\\u043c\\u043b\\u0435\\u043d\\u0438\\u0435\",\"\\u0432\\u043e\\u0441\\u043f\\u043e\\u043b\\u044c\\u0437\\u043e\\u0432\\u0430\\u0442\\u044c\\u0441\\u044f\",\"\\u0433\\u043e\\u0434\\u043e\\u0432\\u043e\\u0439\",\"\\u043a\\u0443\\u043f\\u044e\\u0440\\u0430\",\"\\u043f\\u043e\\u043c\\u043e\\u0449\\u044c\",\"\\u0440\\u0443\\u043a\\u043e\\u0432\\u043e\\u0434\\u0441\\u0442\\u0432\\u043e\",\"\\u043e\\u0431\\u0441\\u043b\\u0443\\u0436\\u0438\\u0432\\u0430\\u0442\\u044c\",\"\\u0434\\u0430\\u0432\\u043d\\u043e\",\"\\u043f\\u043e\\u0434\\u043e\\u0436\\u0434\\u0430\\u0442\\u044c\",\"\\u043f\\u0440\\u0438\\u0441\\u044b\\u043b\\u0430\\u0442\\u044c\",\"\\u0432\\u044b\\u044f\\u0441\\u043d\\u044f\\u0442\\u044c\",\"\\u0430\\u0432\\u0433\\u0443\\u0441\\u0442\",\"\\u043e\\u0442\\u0434\\u0430\\u0432\\u0430\\u0442\\u044c\",\"\\u043d\\u0430\\u0447\\u0438\\u0441\\u043b\\u044f\\u0442\\u044c\",\"\\u0442\\u0440\\u0443\\u0431\\u043a\\u0430\",\"\\u0433\\u0440\\u0430\\u0444\\u0438\\u043a\",\"\\u0441\\u0435\\u043d\\u0442\\u044f\\u0431\\u0440\\u044c\",\"\\u0437\\u0430\\u043d\\u0438\\u043c\\u0430\\u0442\\u044c\\u0441\\u044f\",\"visa\",\"\\u043e\\u0436\\u0438\\u0434\\u0430\\u043d\\u0438\\u0435\",\"\\u0441\\u0431\\u043e\\u0439\",\"\\u043e\\u0441\\u043d\\u043e\\u0432\\u0430\\u043d\\u0438\\u0435\",\"\\u0432\\u043f\\u0435\\u0447\\u0430\\u0442\\u043b\\u0435\\u043d\\u0438\\u0435\",\"\\u0434\\u043e\\u0441\\u0442\\u0430\\u0442\\u043e\\u0447\\u043d\\u043e\",\"\\u043f\\u0440\\u0438\\u043c\\u0435\\u0440\\u043d\\u043e\",\"\\u0432\\u043e\\u0437\\u043c\\u043e\\u0436\\u043d\\u043e\",\"\\u0437\\u0430\\u043a\\u043e\\u043d\",\"\\u043f\\u043e\\u0442\\u0440\\u0430\\u0442\\u0438\\u0442\\u044c\",\"\\u0441\\u043e\\u0431\\u0438\\u0440\\u0430\\u0442\\u044c\\u0441\\u044f\",\"\\u043f\\u043e\\u0441\\u0442\\u0430\\u0432\\u043b\\u044f\\u0442\\u044c\",\"\\u0434\\u0440\\u0443\\u0433\",\"\\u043f\\u0440\\u043e\\u0438\\u0437\\u0432\\u043e\\u0434\\u0438\\u0442\\u044c\",\"\\u0435\\u0441\\u0442\\u0435\\u0441\\u0442\\u0432\\u0435\\u043d\\u043d\\u043e\",\"\\u0437\\u0430\\u0447\\u0438\\u0441\\u043b\\u044f\\u0442\\u044c\",\"\\u0435\\u0436\\u0435\\u043c\\u0435\\u0441\\u044f\\u0447\\u043d\\u044b\\u0439\",\"\\u0432\\u044b\\u043f\\u043e\\u043b\\u043d\\u044f\\u0442\\u044c\",\"\\u0441\\u0442\\u0440\\u0430\\u0445\\u043e\\u0432\\u043e\\u0439\",\"\\u0431\\u0435\\u0437\\u043e\\u043f\\u0430\\u0441\\u043d\\u043e\\u0441\\u0442\\u044c\",\"\\u0441\\u0442\\u0430\\u0440\\u044b\\u0439\",\"\\u0432\\u044b\\u043f\\u0443\\u0441\\u043a\\u0430\\u0442\\u044c\",\"\\u043f\\u043e\\u0441\\u043a\\u043e\\u043b\\u044c\\u043a\\u0443\",\"\\u0446\\u0435\\u043b\\u044c\",\"\\u043f\\u043e\\u043b\\u043d\\u043e\\u0441\\u0442\\u044c\\u044e\",\"\\u043f\\u0440\\u0438\\u0439\\u0442\\u0438\",\"\\u043f\\u0435\\u0440\\u0435\\u0432\\u044b\\u043f\\u0443\\u0441\\u043a\",\"\\u043f\\u043e\\u0442\\u0435\\u0440\\u044f\\u0442\\u044c\",\"\\u0442\\u0435\\u043a\\u0443\\u0449\\u0438\\u0439\",\"\\u043e\\u0442\\u0441\\u0443\\u0442\\u0441\\u0442\\u0432\\u0438\\u0435\",\"\\u0437\\u0430\\u044f\\u0432\\u043b\\u044f\\u0442\\u044c\",\"\\u0437\\u0430\\u0431\\u044b\\u0432\\u0430\\u0442\\u044c\",\"\\u043b\\u0438\\u0447\\u043d\\u043e\",\"\\u0432\\u0440\\u043e\\u0434\\u0435\",\"\\u0437\\u0430\\u0432\\u0442\\u0440\\u0430\",\"\\u0443\\u043a\\u0430\\u0437\\u0430\\u043d\\u043d\\u044b\\u0439\",\"\\u0440\\u0443\\u0441\\u0441\\u043a\\u0438\\u0439\",\"\\u0443\\u0434\\u043e\\u0431\\u043d\\u044b\\u0439\",\"\\u0441\\u0431\\u0435\\u0440\",\"\\u043f\\u043b\\u044e\\u0441\",\"\\u0441\\u043a\\u043b\\u0430\\u0434\\u044b\\u0432\\u0430\\u0442\\u044c\\u0441\\u044f\",\"\\u0438\\u044e\\u043b\\u044c\",\"\\u0433\\u043e\",\"\\u0436\\u0438\\u0437\\u043d\\u044c\",\"\\u0440\\u0443\\u043a\\u043e\\u0432\\u043e\\u0434\\u0438\\u0442\\u0435\\u043b\\u044c\",\"\\u043a\\u043e\",\"\\u043f\\u043e\\u0441\\u0442\\u043e\\u044f\\u043d\\u043d\\u043e\",\"\\u043e\\u0431\\u0449\\u0430\\u0442\\u044c\\u0441\\u044f\",\"s\",\"\\u0443\\u0441\\u0442\\u0440\\u0430\\u0438\\u0432\\u0430\\u0442\\u044c\",\"\\u0431\\u0435\\u0441\\u043f\\u043b\\u0430\\u0442\\u043d\\u044b\\u0439\",\"\\u0434\\u043e\\u043f\\u044b\",\"\\u043b\\u0438\\u0448\\u044c\",\"\\u0432\\u0430\\u043b\\u044e\\u0442\\u0430\",\"\\u0438\\u043f\\u043e\\u0442\\u0435\\u043a\\u0430\",\"\\u043e\\u0431\\u043d\\u0430\\u0440\\u0443\\u0436\\u0438\\u0432\\u0430\\u0442\\u044c\",\"\\u0440\\u0430\\u0432\\u043d\\u044b\\u0439\",\"\\u0440\\u0430\\u043d\\u0435\\u0435\",\"\\u043f\\u0440\\u0430\\u0432\\u0438\\u043b\\u043e\",\"\\u0435\\u0434\\u0438\\u043d\\u0441\\u0442\\u0432\\u0435\\u043d\\u043d\\u044b\\u0439\",\"\\u0437\\u0430\\u0434\\u0430\\u0432\\u0430\\u0442\\u044c\",\"\\u043e\\u0431\\u0441\\u043b\\u0443\\u0436\\u0438\\u0432\\u0430\\u0442\\u044c\\u0441\\u044f\",\"\\u043f\\u0440\\u0430\\u0432\\u0434\\u0430\",\"\\u043a\\u0441\\u0442\\u0430\\u0442\\u0438\",\"\\u0441\\u0442\\u0430\\u043b\\u043a\\u0438\\u0432\\u0430\\u0442\\u044c\\u0441\\u044f\",\"\\u0431\\u0430\\u043d\\u043a!\",\"\\u0442\\u0435\\u043b\\u0435\\u0444\\u043e\\u043d\\u043d\\u044b\\u0439\",\"\\u043f\\u0440\\u0438\\u043d\\u043e\\u0441\\u0438\\u0442\\u044c\",\"\\u0431\\u0430\\u043b\\u0430\\u043d\\u0441\",\"\\u043e\\u043f\\u0435\\u0440\\u0430\\u0446\\u0438\\u043e\\u043d\\u0438\\u0441\\u0442\\u043a\\u0430\",\"\\u0438\\u044e\\u043d\\u044c\",\"\\u0441\\u0442\\u0430\\u043d\\u0434\\u0430\\u0440\\u0442\"],\"x1\":{\"__ndarray__\":\"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\",\"dtype\":\"float32\",\"shape\":[500]},\"x2\":{\"__ndarray__\":\"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\",\"dtype\":\"float32\",\"shape\":[500]}}},\"id\":\"bcbad72a-0688-4862-92e1-eff3ff424702\",\"type\":\"ColumnDataSource\"}],\"root_ids\":[\"0089e15a-d70a-4237-97a2-8631a0f71b26\"]},\"title\":\"Bokeh Application\",\"version\":\"0.12.10\"}};\n",
       "    var render_items = [{\"docid\":\"3945b22f-6925-467c-b4aa-fe8afe62adab\",\"elementid\":\"8d5f78d0-9d0d-45cc-b92d-108059d57901\",\"modelid\":\"0089e15a-d70a-4237-97a2-8631a0f71b26\"}];\n",
       "\n",
       "    root.Bokeh.embed.embed_items(docs_json, render_items);\n",
       "  }\n",
       "\n",
       "  if (root.Bokeh !== undefined) {\n",
       "    embed_document(root);\n",
       "  } else {\n",
       "    var attempts = 0;\n",
       "    var timer = setInterval(function(root) {\n",
       "      if (root.Bokeh !== undefined) {\n",
       "        embed_document(root);\n",
       "        clearInterval(timer);\n",
       "      }\n",
       "      attempts++;\n",
       "      if (attempts > 100) {\n",
       "        console.log(\"Bokeh: ERROR: Unable to embed document because BokehJS library is missing\")\n",
       "        clearInterval(timer);\n",
       "      }\n",
       "    }, 10, root)\n",
       "  }\n",
       "})(window);"
      ],
      "application/vnd.bokehjs_exec.v0+json": ""
     },
     "metadata": {
      "application/vnd.bokehjs_exec.v0+json": {
       "id": "0089e15a-d70a-4237-97a2-8631a0f71b26"
      }
     },
     "output_type": "display_data"
    }
   ],
   "source": [
    "from bokeh.models import ColumnDataSource, LabelSet\n",
    "from bokeh.plotting import figure, show, output_file\n",
    "from bokeh.io import output_notebook\n",
    "output_notebook()\n",
    "\n",
    "p = figure(tools=\"pan,wheel_zoom,reset,save\",\n",
    "           toolbar_location=\"above\",\n",
    "           title=\"word2vec T-SNE for most common words\")\n",
    "\n",
    "source = ColumnDataSource(data=dict(x1=top_words_tsne[:,0],\n",
    "                                    x2=top_words_tsne[:,1],\n",
    "                                    names=top_words))\n",
    "\n",
    "p.scatter(x=\"x1\", y=\"x2\", size=8, source=source)\n",
    "\n",
    "labels = LabelSet(x=\"x1\", y=\"x2\", text=\"names\", y_offset=6,\n",
    "                  text_font_size=\"8pt\", text_color=\"#555555\",\n",
    "                  source=source, text_align='center')\n",
    "p.add_layout(labels)\n",
    "\n",
    "show(p)"
   ]
  },
  {
   "cell_type": "code",
   "execution_count": null,
   "metadata": {
    "collapsed": true
   },
   "outputs": [],
   "source": [
    "#На визуализации видно, что радом расположены слова \"Снятие\", \"снимать\", \"вносить\", \"полагать\", \"переводить\", \"пополнять\"\n",
    "#\"поступать\", \"зачисление\", \"зачислять\", \"начислять\", \"возврат\" - все их можно отнести к кластеру Работа с банковской картой\n",
    "#Другой кластер - \"номер\", \"телефон\", \"колл\", \"телефонный\", \"трубка\". Можно их обозначить как Обращения по телефону\n",
    "#Еще один кластер - \"тысяча\", \"рубль\", \"руб\", \"размер\", \"сумма\". Можно их обозначить как Информация о деньгах"
   ]
  },
  {
   "cell_type": "markdown",
   "metadata": {},
   "source": [
    "## Часть 2. Распространение метки [50 баллов]\n",
    "\n",
    "Определите 5-8 позитивных слов (например, “быстрый”, “удобный”) и 5-8  негативных слов (например,“очередь”, “медленно”). Эти слова будут основной будущего оценочного словаря. Пусть позитивному классу соответствует метка 1, негативному – -1. Пометьте выбранные слова в лексическом графе соответствующими метками. Запустите любой известный вам метод распространения метки (Label Propogation) в лексическом графе. На выходе метода распространения ошибки должны быть новые слова, помеченные метками 1 и -1 – это и есть искомые оценочные слова.\n",
    "\n",
    "Алгоритмы распространения метки устроены примерно так: пусть мы находимся в выршине, помеченном +1. С какой-то вероятностью мы переносим эту метку на соседние узлы. С меньшей вероятностью переносим ее на вершины на расстоянии два. В конце распространения метки, часть вершин оказывается помечена меткой +1, часть – -1, большая часть остается без метки.\n",
    "\n",
    "Рекомендуемые алгоритмы распространения метки:\n",
    "1. ```graphlab.label_propagation``` (```graphlab``` доступен бесплатно по образовательной лицензии)\n",
    "2. ```sklearn.semi_supervised.LabelPropagation``` \n",
    "3. ```sklearn.semi_supervised.LabelSpreading```"
   ]
  },
  {
   "cell_type": "code",
   "execution_count": 40,
   "metadata": {},
   "outputs": [
    {
     "ename": "AttributeError",
     "evalue": "module 'jgraph' has no attribute 'Graph'",
     "output_type": "error",
     "traceback": [
      "\u001b[0;31m---------------------------------------------------------------------------\u001b[0m",
      "\u001b[0;31mAttributeError\u001b[0m                            Traceback (most recent call last)",
      "\u001b[0;32m<ipython-input-40-81f4063f4b04>\u001b[0m in \u001b[0;36m<module>\u001b[0;34m()\u001b[0m\n\u001b[1;32m      2\u001b[0m \u001b[0;34m\u001b[0m\u001b[0m\n\u001b[1;32m      3\u001b[0m \u001b[0;32mimport\u001b[0m \u001b[0mjgraph\u001b[0m \u001b[0;32mas\u001b[0m \u001b[0mig\u001b[0m\u001b[0;34m\u001b[0m\u001b[0m\n\u001b[0;32m----> 4\u001b[0;31m \u001b[0mg\u001b[0m \u001b[0;34m=\u001b[0m \u001b[0mig\u001b[0m\u001b[0;34m.\u001b[0m\u001b[0mGraph\u001b[0m\u001b[0;34m(\u001b[0m\u001b[0mdirected\u001b[0m\u001b[0;34m=\u001b[0m\u001b[0;32mTrue\u001b[0m\u001b[0;34m)\u001b[0m\u001b[0;34m\u001b[0m\u001b[0m\n\u001b[0m\u001b[1;32m      5\u001b[0m \u001b[0;32mfor\u001b[0m \u001b[0mword\u001b[0m \u001b[0;32min\u001b[0m \u001b[0mmodel\u001b[0m\u001b[0;34m.\u001b[0m\u001b[0mwv\u001b[0m\u001b[0;34m.\u001b[0m\u001b[0mvocab\u001b[0m\u001b[0;34m.\u001b[0m\u001b[0mkeys\u001b[0m\u001b[0;34m(\u001b[0m\u001b[0;34m)\u001b[0m\u001b[0;34m:\u001b[0m\u001b[0;34m\u001b[0m\u001b[0m\n\u001b[1;32m      6\u001b[0m     \u001b[0mg\u001b[0m\u001b[0;34m.\u001b[0m\u001b[0madd_vertex\u001b[0m\u001b[0;34m(\u001b[0m\u001b[0mword\u001b[0m\u001b[0;34m)\u001b[0m\u001b[0;34m\u001b[0m\u001b[0m\n",
      "\u001b[0;31mAttributeError\u001b[0m: module 'jgraph' has no attribute 'Graph'"
     ]
    }
   ],
   "source": [
    "# пример построения графа \n",
    "\n",
    "import jgraph as ig\n",
    "g = ig.Graph(directed=True)\n",
    "for word in model.wv.vocab.keys():\n",
    "    g.add_vertex(word)\n",
    "    \n",
    "    \n",
    "    \n",
    "for word in model.wv.vocab.keys() :\n",
    "    node = g.vs.select(name = word).indices[0]\n",
    "    similar_words = model.most_similar(word, topn=5)\n",
    "    for sim in similar_words:\n",
    "        word1 = sim[0]\n",
    "        val  = sim[1]\n",
    "        new_node = g.vs.select(name = word1).indices[0]\n",
    "        g.add_edge(node, new_node, weight = val)"
   ]
  },
  {
   "cell_type": "code",
   "execution_count": null,
   "metadata": {
    "collapsed": true
   },
   "outputs": [],
   "source": []
  }
 ],
 "metadata": {
  "kernelspec": {
   "display_name": "Python 3",
   "language": "python",
   "name": "python3"
  },
  "language_info": {
   "codemirror_mode": {
    "name": "ipython",
    "version": 3
   },
   "file_extension": ".py",
   "mimetype": "text/x-python",
   "name": "python",
   "nbconvert_exporter": "python",
   "pygments_lexer": "ipython3",
   "version": "3.6.3"
  }
 },
 "nbformat": 4,
 "nbformat_minor": 2
}
