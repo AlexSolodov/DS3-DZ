{
 "cells": [
  {
   "cell_type": "code",
   "execution_count": 1,
   "metadata": {
    "collapsed": true
   },
   "outputs": [],
   "source": [
    "import json\n",
    "\n",
    "import bz2\n",
    "import regex\n",
    "from tqdm import tqdm\n",
    "from scipy import sparse"
   ]
  },
  {
   "cell_type": "code",
   "execution_count": 2,
   "metadata": {},
   "outputs": [
    {
     "name": "stdout",
     "output_type": "stream",
     "text": [
      "Populating the interactive namespace from numpy and matplotlib\n"
     ]
    }
   ],
   "source": [
    "import pandas as pd\n",
    "import numpy as np\n",
    "import nltk\n",
    "import matplotlib.pyplot as plt\n",
    "import seaborn as sns\n",
    "%matplotlib inline\n",
    "%pylab inline"
   ]
  },
  {
   "cell_type": "code",
   "execution_count": 3,
   "metadata": {
    "scrolled": true
   },
   "outputs": [
    {
     "name": "stderr",
     "output_type": "stream",
     "text": [
      "201030it [02:41, 1241.40it/s]\n"
     ]
    }
   ],
   "source": [
    "responses = []\n",
    "with bz2.BZ2File('../5.3/banki_responses.json.bz2', 'r') as thefile:\n",
    "    for row in tqdm(thefile):\n",
    "        resp = json.loads(row)\n",
    "        if not resp['rating_not_checked'] and (len(resp['text'].split()) > 0):\n",
    "            responses.append(resp)"
   ]
  },
  {
   "cell_type": "markdown",
   "metadata": {},
   "source": [
    "#  Домашнее задание по NLP # 2 [100 баллов] \n",
    "## Составление словарей для классификации по тональности\n",
    "При классификации текстов или предложений по тональности необходимо использовать оценочные словари для предметной области, то есть, такие словари, в которых содержатся отрицательные и позитивные слова для какой-то предметной области. Идея подобных словарей основана на следующих наблюдениях: во-первых, для разных товаров используются разные оценочные слова (например бывает “захватывающая книга”, но не бывает “захватывающих лыж”), во-вторых, в контексте разных товаров одни и те же слова могут иметь разную окраску (слово “тормоз” в отзыве на велосипед имеет нейтральную окраску, в отзыве на компьютер – резко негативную, “пыль” в контексте пылесосов – нейтральную, в контексте кофемолок – положительную (“мелкий помол в пыль”)). Еще один пример: \"теплое пиво\" – это плохо, а \"теплый свитер\" – это хорошо.  \n",
    "\n",
    "Составление таких словарей в ручную – трудоемкий процесс, но, к счастью, его не сложно автоматизировать, если собрать достаточно большие корпуса отзывов. В этом домашнем задании вам предстоит попробовать реализовать один их подходов к составлению оценочных словарей, основанный на статье Inducing Domain-Specific Sentiment Lexicons from Unlabeled Corpora (https://nlp.stanford.edu/pubs/hamilton2016inducing.pdf).\n",
    "\n",
    "\n",
    "Данные для задания – уже знакомые вам отзывы на банки, собранные с нескольких сайтов Рунета. Отзывы могут быть как положительными (оценка 5), так и отрицательными (оценка 1)."
   ]
  },
  {
   "cell_type": "code",
   "execution_count": 4,
   "metadata": {},
   "outputs": [
    {
     "data": {
      "text/plain": [
       "{'author': 'ronnichka',\n",
       " 'bank_license': 'лицензия № 880',\n",
       " 'bank_name': 'Югра',\n",
       " 'city': 'г. Саратов',\n",
       " 'datetime': '2015-06-03 20:56:57',\n",
       " 'num_comments': 0,\n",
       " 'rating_grade': 3,\n",
       " 'rating_not_checked': False,\n",
       " 'text': 'Здравствуйте! Хотела написать, что мне месяц не выдают карту ко вкладу, ссылаясь на \"нам же их из Самары везут\" (на секундочку 5 часов езды от нашего города). Но! Прочитала, что людям 3,5 месяцев не выдают карту, и поняла, что у меня все хорошо, пока что. И подарок мне дали, и кулер в отделении есть. Так что я, конечно, готова ждать. Правда хотелось бы не очень долго.',\n",
       " 'title': 'Карта ко вкладу'}"
      ]
     },
     "execution_count": 4,
     "metadata": {},
     "output_type": "execute_result"
    }
   ],
   "source": [
    "responses[99]"
   ]
  },
  {
   "cell_type": "markdown",
   "metadata": {},
   "source": [
    "## Часть 1. Обучение модели word2vec [50 баллов]\n",
    "\n",
    "1. Разбейте всю коллекцию отзывов на предложения. Лемматизируйте все слова. \n",
    "2. Обучите по коллекции предложений word2vec\n",
    "3. Приведите несколько удачных и неудачных примеров решения стандартных текстов для word2vec:\n",
    "    * тест на определение ближайших слов\n",
    "    * тест на аналогии (мужчина – король : женщина – королева)\n",
    "    * тест на определение лишнего слова.\n",
    "    \n",
    "4. Постройте несколько визуализаций:\n",
    "    * TSNE для топ-100 (или топ-500) слов и найдите осмысленные кластеры слов\n",
    "    * задайте координаты для нового пространства следующим образом: одна  ось описывает отношение \"плохо – хорошо\", вторая – \"медленно – быстро\" и найдите координаты названий банков в этих координатах.  Более формально:\n",
    "    берем вектор слова \"хорошо\", вычитаем из него вектор слова \"плохо\", получаем новый вектор, который описывает разницу между хорошими и плохими словами. Берем вектор слова \"сбербанк\" и умножаем его на этот новый вектор – получаем координату по первой оси. Аналогично – для второй оси. Две координаты уже можно нарисовать на плоскости.  \n",
    " \n",
    "\n",
    "\n",
    "Ссылка на примеры визуализаций: https://towardsdatascience.com/game-of-thrones-word-embeddings-does-r-l-j-part-2-30290b1c0b4b"
   ]
  },
  {
   "cell_type": "code",
   "execution_count": 5,
   "metadata": {
    "collapsed": true
   },
   "outputs": [],
   "source": [
    "from pymystem3 import Mystem\n",
    "import re\n",
    "\n",
    "m = Mystem()\n",
    "\n",
    "regex = re.compile(\"[А-Яа-я:=!\\)\\()A-z\\_\\%/|]+\")\n",
    "\n",
    "def words_only(text, regex=regex):\n",
    "    try:\n",
    "        return \" \".join(regex.findall(text))\n",
    "    except:\n",
    "        return \"\"\n",
    "\n",
    "def lemmatize(text, mystem=m):\n",
    "    try:\n",
    "        return \"\".join(m.lemmatize(text)).strip()  \n",
    "    except:\n",
    "        return \" \""
   ]
  },
  {
   "cell_type": "code",
   "execution_count": 6,
   "metadata": {
    "collapsed": true
   },
   "outputs": [],
   "source": [
    "#Импортируем имеющийся корпус стоп-слов из nltk\n",
    "from nltk.corpus import stopwords\n",
    "\n",
    "#Добавляем несколько своих стои-слов\n",
    "mystopwords = stopwords.words('russian') + ['это', 'наш' , 'тыс', 'млн', 'млрд', 'также',  'т', 'д', '-']\n",
    "\n",
    "#Оописываем функцию удаления стоп-слов\n",
    "def  remove_stopwords(text, mystopwords = mystopwords):\n",
    "    try:\n",
    "        return \" \".join([token for token in text.split() if not token in mystopwords])\n",
    "    except:\n",
    "        return \"\""
   ]
  },
  {
   "cell_type": "code",
   "execution_count": 7,
   "metadata": {},
   "outputs": [
    {
     "name": "stderr",
     "output_type": "stream",
     "text": [
      "100%|██████████| 153499/153499 [34:11<00:00, 74.82it/s]\n"
     ]
    }
   ],
   "source": [
    "#Разбиваем текст на слова, слова приводим к нижнему регистру, лематизируем и выбрасываем стпо-слова\n",
    "fulltext = []\n",
    "for response in tqdm(responses):\n",
    "    \n",
    "    #Приведем все слова к нижнему регистру\n",
    "    r=response['text'].lower()\n",
    "    #Оставляем только слова, в соответствии с шаблоном\n",
    "    r=words_only(r)\n",
    "    #Лематизируем слова\n",
    "    r=lemmatize(r)\n",
    "    #Удаляем стоп-слова\n",
    "    r=remove_stopwords(r)\n",
    "    #Добавляем новый отчет в список\n",
    "    fulltext.append(r.split())"
   ]
  },
  {
   "cell_type": "markdown",
   "metadata": {},
   "source": [
    "## Обучение модели в gensim"
   ]
  },
  {
   "cell_type": "code",
   "execution_count": 8,
   "metadata": {},
   "outputs": [
    {
     "name": "stdout",
     "output_type": "stream",
     "text": [
      "CPU times: user 3min 59s, sys: 7.87 s, total: 4min 7s\n",
      "Wall time: 2min 15s\n"
     ]
    }
   ],
   "source": [
    "%%time\n",
    "#Обучим модель word2vec от gensim\n",
    "from gensim.models import Word2Vec\n",
    "model = Word2Vec(fulltext, size=100, window=5, min_count=5, workers=4)\n",
    "#На всякий случай, сохраняем модель в файл\n",
    "model.save(\"sent_w2v.model\")"
   ]
  },
  {
   "cell_type": "code",
   "execution_count": 9,
   "metadata": {
    "collapsed": true
   },
   "outputs": [],
   "source": [
    "#Загрузка данных из файла (на всякий случай)\n",
    "#from gensim.models import Word2Vec\n",
    "#model = Word2Vec.load(\"sent_w2v.model\") "
   ]
  },
  {
   "cell_type": "code",
   "execution_count": 10,
   "metadata": {
    "scrolled": true
   },
   "outputs": [
    {
     "name": "stderr",
     "output_type": "stream",
     "text": [
      "/home/alexey/anaconda3/lib/python3.6/site-packages/ipykernel_launcher.py:2: DeprecationWarning: Call to deprecated `most_similar` (Method will be removed in 4.0.0, use self.wv.most_similar() instead).\n",
      "  \n"
     ]
    },
    {
     "data": {
      "text/plain": [
       "[(':d', 0.6513125896453857),\n",
       " ('порадоваться', 0.6441833972930908),\n",
       " ('молодец!', 0.640477180480957),\n",
       " ('эх', 0.6352654695510864),\n",
       " ('держать!', 0.6349537372589111),\n",
       " ('сглазить', 0.6234007477760315),\n",
       " ('хорошо!', 0.6159003973007202),\n",
       " ('позитив', 0.6066586971282959),\n",
       " ('нга', 0.6039852499961853),\n",
       " ('супер!', 0.5995407104492188)]"
      ]
     },
     "execution_count": 10,
     "metadata": {},
     "output_type": "execute_result"
    }
   ],
   "source": [
    "#Посмотрим самые близкие слова для смайлика\n",
    "model.most_similar(\":)\")"
   ]
  },
  {
   "cell_type": "code",
   "execution_count": 11,
   "metadata": {
    "collapsed": true
   },
   "outputs": [],
   "source": [
    "#Для смайлика самым близким словом подобралось \"хороший\", что вполне корректно"
   ]
  },
  {
   "cell_type": "code",
   "execution_count": 12,
   "metadata": {},
   "outputs": [
    {
     "name": "stderr",
     "output_type": "stream",
     "text": [
      "/home/alexey/anaconda3/lib/python3.6/site-packages/ipykernel_launcher.py:1: DeprecationWarning: Call to deprecated `most_similar` (Method will be removed in 4.0.0, use self.wv.most_similar() instead).\n",
      "  \"\"\"Entry point for launching an IPython kernel.\n"
     ]
    },
    {
     "data": {
      "text/plain": [
       "[('банка', 0.8396025896072388),\n",
       " ('банк!', 0.6995136737823486),\n",
       " ('банк)', 0.5935084223747253),\n",
       " ('банк:', 0.5857771635055542),\n",
       " ('сбербанк', 0.5537241101264954),\n",
       " ('хотя', 0.5020884275436401),\n",
       " ('росбанк', 0.5007374882698059),\n",
       " ('ситибанк', 0.49708041548728943),\n",
       " ('мкб', 0.4847794771194458),\n",
       " ('бм', 0.4787645637989044)]"
      ]
     },
     "execution_count": 12,
     "metadata": {},
     "output_type": "execute_result"
    }
   ],
   "source": [
    "model.most_similar(\"банк\")"
   ]
  },
  {
   "cell_type": "code",
   "execution_count": 13,
   "metadata": {
    "collapsed": true
   },
   "outputs": [],
   "source": [
    "#Самыми близкими оказались различные колллизии слова банк"
   ]
  },
  {
   "cell_type": "code",
   "execution_count": 14,
   "metadata": {
    "scrolled": false
   },
   "outputs": [
    {
     "name": "stderr",
     "output_type": "stream",
     "text": [
      "/home/alexey/anaconda3/lib/python3.6/site-packages/ipykernel_launcher.py:1: DeprecationWarning: Call to deprecated `most_similar` (Method will be removed in 4.0.0, use self.wv.most_similar() instead).\n",
      "  \"\"\"Entry point for launching an IPython kernel.\n"
     ]
    },
    {
     "data": {
      "text/plain": [
       "[('унитаз', 0.7670700550079346),\n",
       " ('гамлет', 0.7452953457832336),\n",
       " ('овца', 0.7442737221717834),\n",
       " ('стрелять', 0.7407636046409607),\n",
       " ('праздно', 0.736426591873169),\n",
       " ('публика', 0.7356441020965576),\n",
       " ('стадо', 0.7354274392127991),\n",
       " ('платочек', 0.7332589626312256),\n",
       " ('шнурок', 0.72869873046875),\n",
       " ('галстучек', 0.7264435887336731)]"
      ]
     },
     "execution_count": 14,
     "metadata": {},
     "output_type": "execute_result"
    }
   ],
   "source": [
    "model.most_similar(\"король\")"
   ]
  },
  {
   "cell_type": "code",
   "execution_count": 15,
   "metadata": {
    "collapsed": true
   },
   "outputs": [],
   "source": [
    "#В данном контексте, прямо как пример изменения смысла слова. В отзывах о банках слово король имеет явно негативный \n",
    "#оттенок и употребляется скорее в саркостическом смысле"
   ]
  },
  {
   "cell_type": "code",
   "execution_count": 16,
   "metadata": {
    "scrolled": false
   },
   "outputs": [
    {
     "name": "stderr",
     "output_type": "stream",
     "text": [
      "/home/alexey/anaconda3/lib/python3.6/site-packages/ipykernel_launcher.py:1: DeprecationWarning: Call to deprecated `most_similar` (Method will be removed in 4.0.0, use self.wv.most_similar() instead).\n",
      "  \"\"\"Entry point for launching an IPython kernel.\n"
     ]
    },
    {
     "data": {
      "text/plain": [
       "[('серпухов', 0.87547367811203),\n",
       " ('пятигорск', 0.8674222826957703),\n",
       " ('ломоносов', 0.8632595539093018),\n",
       " ('реутов', 0.8553909063339233),\n",
       " ('балашиха', 0.8532413244247437),\n",
       " ('академик', 0.8502539992332458),\n",
       " ('павловский', 0.8485872149467468),\n",
       " ('мытищи', 0.8483651876449585),\n",
       " ('петрозаводск', 0.8463224768638611),\n",
       " ('волоколамский', 0.8452526330947876)]"
      ]
     },
     "execution_count": 16,
     "metadata": {},
     "output_type": "execute_result"
    }
   ],
   "source": [
    "model.most_similar(\"королева\")"
   ]
  },
  {
   "cell_type": "code",
   "execution_count": 17,
   "metadata": {
    "collapsed": true
   },
   "outputs": [],
   "source": [
    "#Видимо королеву считают городом Королев и ищутся близкие слова"
   ]
  },
  {
   "cell_type": "code",
   "execution_count": 18,
   "metadata": {},
   "outputs": [
    {
     "name": "stderr",
     "output_type": "stream",
     "text": [
      "/home/alexey/anaconda3/lib/python3.6/site-packages/ipykernel_launcher.py:1: DeprecationWarning: Call to deprecated `most_similar` (Method will be removed in 4.0.0, use self.wv.most_similar() instead).\n",
      "  \"\"\"Entry point for launching an IPython kernel.\n"
     ]
    },
    {
     "data": {
      "text/plain": [
       "[('карточка', 0.8929780721664429),\n",
       " ('карта!', 0.8205209970474243),\n",
       " ('карта)', 0.7202193140983582),\n",
       " ('карта:', 0.6846864223480225),\n",
       " ('кредитка', 0.6567911505699158),\n",
       " ('неименной', 0.6256096363067627),\n",
       " ('счет', 0.5968410968780518),\n",
       " ('именной', 0.5908063054084778),\n",
       " ('дебетовый', 0.5830533504486084),\n",
       " ('карта!!!', 0.5806609392166138)]"
      ]
     },
     "execution_count": 18,
     "metadata": {},
     "output_type": "execute_result"
    }
   ],
   "source": [
    "model.most_similar(\"карта\")"
   ]
  },
  {
   "cell_type": "code",
   "execution_count": 19,
   "metadata": {
    "collapsed": true
   },
   "outputs": [],
   "source": [
    "#В данном случае слова выглядят вполне разумно"
   ]
  },
  {
   "cell_type": "code",
   "execution_count": 20,
   "metadata": {},
   "outputs": [
    {
     "name": "stderr",
     "output_type": "stream",
     "text": [
      "/home/alexey/anaconda3/lib/python3.6/site-packages/ipykernel_launcher.py:1: DeprecationWarning: Call to deprecated `most_similar` (Method will be removed in 4.0.0, use self.wv.most_similar() instead).\n",
      "  \"\"\"Entry point for launching an IPython kernel.\n"
     ]
    },
    {
     "data": {
      "text/plain": [
       "[('карта!', 0.5380128026008606),\n",
       " ('карточка', 0.5022581815719604),\n",
       " ('офис', 0.49057281017303467),\n",
       " ('вновь', 0.4821704030036926),\n",
       " ('повторно', 0.4777492582798004),\n",
       " ('перевыпущенный', 0.4737043082714081),\n",
       " ('осб', 0.4704963266849518),\n",
       " ('филиал', 0.4635285437107086),\n",
       " ('моментум', 0.44419583678245544),\n",
       " ('отд', 0.42208269238471985)]"
      ]
     },
     "execution_count": 20,
     "metadata": {},
     "output_type": "execute_result"
    }
   ],
   "source": [
    "model.most_similar(positive=[\"карта\", \"отделение\"], negative=[\"удобно\"])"
   ]
  },
  {
   "cell_type": "code",
   "execution_count": 21,
   "metadata": {
    "collapsed": true
   },
   "outputs": [],
   "source": [
    "#Честно говоря, ожидал, что в таком контексте самым близким словом будет слово \"плохо\""
   ]
  },
  {
   "cell_type": "code",
   "execution_count": 22,
   "metadata": {},
   "outputs": [
    {
     "name": "stderr",
     "output_type": "stream",
     "text": [
      "/home/alexey/anaconda3/lib/python3.6/site-packages/ipykernel_launcher.py:1: DeprecationWarning: Call to deprecated `most_similar` (Method will be removed in 4.0.0, use self.wv.most_similar() instead).\n",
      "  \"\"\"Entry point for launching an IPython kernel.\n"
     ]
    },
    {
     "data": {
      "text/plain": [
       "[('приватбанк', 0.6089859008789062),\n",
       " ('ситибанк', 0.5843981504440308),\n",
       " ('ржд', 0.544487476348877),\n",
       " ('альфабанка', 0.5349779725074768),\n",
       " ('xxxxxxxxxxx', 0.5261602997779846),\n",
       " ('(сбербанк)', 0.5236098766326904),\n",
       " ('viza', 0.5095403790473938),\n",
       " ('citibank', 0.5018184781074524),\n",
       " ('промсвязьбанк', 0.496534526348114),\n",
       " ('альфабанк', 0.49026113748550415)]"
      ]
     },
     "execution_count": 22,
     "metadata": {},
     "output_type": "execute_result"
    }
   ],
   "source": [
    "model.most_similar(positive=[\"сбербанк\",\"тинькоф\"], negative=[\"хороший\"])"
   ]
  },
  {
   "cell_type": "code",
   "execution_count": 23,
   "metadata": {},
   "outputs": [
    {
     "name": "stderr",
     "output_type": "stream",
     "text": [
      "/home/alexey/anaconda3/lib/python3.6/site-packages/ipykernel_launcher.py:1: DeprecationWarning: Call to deprecated `most_similar` (Method will be removed in 4.0.0, use self.wv.most_similar() instead).\n",
      "  \"\"\"Entry point for launching an IPython kernel.\n"
     ]
    },
    {
     "data": {
      "text/plain": [
       "[('молодежь', 0.7142486572265625),\n",
       " ('унитаз', 0.6977387070655823),\n",
       " ('погубить', 0.6889057755470276),\n",
       " ('пенсионер!', 0.6879324913024902),\n",
       " ('стадо', 0.6815958023071289),\n",
       " ('овца', 0.6787269115447998),\n",
       " ('коллектив!', 0.6770848631858826),\n",
       " ('мальчишка', 0.6765292286872864),\n",
       " ('человек!!!', 0.6721256971359253),\n",
       " ('клиентоориентированность!', 0.6647109389305115)]"
      ]
     },
     "execution_count": 23,
     "metadata": {},
     "output_type": "execute_result"
    }
   ],
   "source": [
    "model.most_similar(positive=[\"король\", \"женщина\"], negative=[\"мужчина\"])"
   ]
  },
  {
   "cell_type": "code",
   "execution_count": 24,
   "metadata": {},
   "outputs": [
    {
     "name": "stderr",
     "output_type": "stream",
     "text": [
      "/home/alexey/anaconda3/lib/python3.6/site-packages/ipykernel_launcher.py:1: DeprecationWarning: Call to deprecated `doesnt_match` (Method will be removed in 4.0.0, use self.wv.doesnt_match() instead).\n",
      "  \"\"\"Entry point for launching an IPython kernel.\n"
     ]
    },
    {
     "data": {
      "text/plain": [
       "'борщ'"
      ]
     },
     "execution_count": 24,
     "metadata": {},
     "output_type": "execute_result"
    }
   ],
   "source": [
    "model.doesnt_match(\"борщ сметана макароны пирожок консомэ кошка\".split())"
   ]
  },
  {
   "cell_type": "code",
   "execution_count": 25,
   "metadata": {
    "collapsed": true
   },
   "outputs": [],
   "source": [
    "#Вообще говоря, результат не правильный, ожидалось, что лишней будет \"кошка\""
   ]
  },
  {
   "cell_type": "code",
   "execution_count": 26,
   "metadata": {
    "scrolled": true
   },
   "outputs": [
    {
     "name": "stderr",
     "output_type": "stream",
     "text": [
      "/home/alexey/anaconda3/lib/python3.6/site-packages/ipykernel_launcher.py:1: DeprecationWarning: Call to deprecated `doesnt_match` (Method will be removed in 4.0.0, use self.wv.doesnt_match() instead).\n",
      "  \"\"\"Entry point for launching an IPython kernel.\n"
     ]
    },
    {
     "data": {
      "text/plain": [
       "'карта'"
      ]
     },
     "execution_count": 26,
     "metadata": {},
     "output_type": "execute_result"
    }
   ],
   "source": [
    "model.doesnt_match(\"мкб сбербанк втб тинькоф карта\".split())"
   ]
  },
  {
   "cell_type": "code",
   "execution_count": 27,
   "metadata": {
    "collapsed": true
   },
   "outputs": [],
   "source": [
    "#Интересный момент. Если написать \"Тиньков\", то словарь, видимо не ассоциирует это слово с банком и выкидывает именно его"
   ]
  },
  {
   "cell_type": "markdown",
   "metadata": {},
   "source": [
    "### Визуализация пространства слов "
   ]
  },
  {
   "cell_type": "code",
   "execution_count": 28,
   "metadata": {},
   "outputs": [
    {
     "name": "stdout",
     "output_type": "stream",
     "text": [
      "['банк', 'карта', 'деньги', 'день', 'кредит', 'который', 'весь', 'отделение', 'сотрудник', 'клиент', 'мочь', 'счет', 'свой', 'сказать', 'сумма', 'получать', 'заявление', 'год', 'время', 'вопрос', 'кредитный', 'приходить', 'вклад', 'офис', 'данный', 'телефон', 'ваш', 'платеж', 'договор', 'звонить', 'ответ', 'номер', ')', 'банкомат', 'сбербанк', 'очень', 'позвонить', 'написать', 'г', 'обращаться', 'месяц', 'решать', 'проблема', 'средство', 'работать', 'работа', 'рубль', 'документ', 'звонок', 'ситуация', 'отвечать', 'хотеть', 'почему', 'человек', 'операция', 'давать', 'говорить', 'информация', 'сообщать', 'сделать', 'оформлять', 'смс', 'срок', 'услуга', 'просто', 'должный', 'заявка', 'банка', 'знать', 'обслуживание', 'очередь', ':', 'сегодня', 'минута', 'первый', 'девушка', 'ждать', 'руб', 'сайт', 'претензия', 'новый', 'ничто', 'просить', 'интернет', 'открывать', 'принимать', 'снимать', 'процент', 'выдавать', 'никакой', 'являться', 'неделя', 'оператор', 'становиться', 'понимать', '%', 'предлагать', 'оплачивать', 'закрывать', 'проходить', 'несколько', 'перевод', 'оказываться', 'писать', 'самый', 'нужно', 'е', 'час', 'иметь', 'объяснять', 'комиссия', 'указывать', 'пользоваться', 'условие', 'течение', 'узнавать', 'центр', 'взять', 'момент', 'задолженность', 'приходиться', 'случай', 'вообще', 'сразу', 'вс', 'делать', 'следующий', 'никто', 'хотя', 'служба', 'дело', 'вносить', 'решение', 'специалист', 'начинать', '(', 'денежный', 'система', 'отправлять', 'обращение', 'смочь', 'отзыв', 'данные', 'оплата', 'нужный', 'менеджер', 'каждый', 'предоставлять', 'спрашивать', 'поступать', 'пока', 'общий', 'москва', 'происходить', 'касса', 'итог', 'оставаться', 'думать', '/', 'история', 'второй', 'вернуть', 'добрый', 'погашение', 'отношение', 'р', 'идти', 'альфа', 'разбираться', 'приезжать', 'адрес', 'брать', 'поддержка', 'попросить', 'слово', 'получение', 'платить', 'последний', 'оставлять', 'находиться', 'письмо', 'уточнять', 'лицо', 'лимит', 'рабочий', 'линия', 'связь', 'возможность', 'банковский', 'просьба', 'сотрудница', 'отказываться', 'помогать', 'снова', 'либо', 'дата', 'причина', 'подавать', 'ошибка', 'хороший', 'конец', 'паспорт', '!', 'место', 'большой', 'м', 'быстро', 'спасибо', 'именно', 'хотеться', 'ещ', 'действие', 'долг', 'выписка', 'перезванивать', 'оформление', 'рассмотрение', 'справка', 'карточка', 'списывать', 'поэтому', 'страховка', 'пытаться', 'видеть', 'погасить', 'полный', 'горячий', 'любой', 'назад', 'находить', 'уходить', 'отказ', 'заблокировать', 'операционист', 'результат', 'получаться', 'возникать', 'пойти', 'переводить', 'проверять', 'сообщение', 'проводить', 'ставка', 'терминал', 'закрытие', 'число', 'втб', 'составлять', 'мобильный', 'пора', 'отдел', 'сей', 'покупка', 'сч', 'просрочка', 'ул', 'таки', 'город', 'заполнять', 'подходить', 'списание', 'декабрь', 'считать', 'филиал', 'открытие', 'забирать', 'почта', 'связываться', 'размер', 'около', 'дебетовый', 'сторона', 'снятие', 'стоять', 'подписывать', 'мало', 'онлайн', 'однако', 'администратор:', 'надеяться', 'колл', 'право', 'отказывать', 'обещать', 'программа', 'сколько', 'очередной', 'рассматривать', 'предложение', 'копия', 'наличный', 'далеко', 'полагать', 'жалоба', 'возврат', 'долго', 'магазин', 'утро', 'называть', 'суд', 'дополнительный', 'код', 'начинаться', 'тариф', 'выдача', 'электронный', 'порядок', 'имя', 'вечер', 'рука', 'рассказывать', 'остаток', 'одобрять', 'разговор', 'день!', 'подключать', 'личный', 'видимо', 'готовый', 'россия', 'представитель', 'пара', 'тысяча', 'запрос', 'далее', 'требовать', 'январь', 'подтверждать', 'досрочный', 'зайти', 'необходимый', 'п', 'март', 'работник', 'образ', 'заказывать', 'организация', 'занимать', 'кассир', 'разный', 'депозит', 'необходимо', 'сервис', 'анкета', 'пожалуйста', 'выясняться', 'внимание', 'оценка', 'причем', 'период', 'факт', 'апрель', 'компания', 'рф', 'л', 'точно', 'повод', 'чек', 'сначала', 'май', 'заплатить', 'выходить', 'курс', 'страхование', 'близкий', 'уважаемый', 'штраф', 'передавать', 'технический', 'некоторый', 'попытка', 'положительный', 'увидеть', 'дозваниваться', 'требование', 'рано', 'форма', 'появляться', 'качество', 'продукт', 'ладно', 'третий', 'февраль', 'ноябрь', 'подобный', 'вчера', 'вид', '(в', 'х', 'квартира', 'действительно', 'кроме', 'сожаление', 'посмотреть', 'выбирать', 'заканчиваться', 'часть', 'совершать', 'попадать', 'общение', 'сидеть', 'пополнять', 'ехать', 'туда', 'вопрос:', 'октябрь', 'начало', 'вводить', 'поздно', 'плата', 'уведомление', 'воспользоваться', 'годовой', 'купюра', 'помощь', 'руководство', 'обслуживать', 'давно', 'подождать', 'присылать', 'выяснять', 'август', 'отдавать', 'начислять', 'трубка', 'график', 'сентябрь', 'заниматься', 'visa', 'ожидание', 'сбой', 'основание', 'впечатление', 'достаточно', 'примерно', 'возможно', 'закон', 'потратить', 'собираться', 'поставлять', 'друг', 'производить', 'естественно', 'зачислять', 'ежемесячный', 'выполнять', 'страховой', 'безопасность', 'старый', 'выпускать', 'поскольку', 'цель', 'полностью', 'прийти', 'перевыпуск', 'потерять', 'текущий', 'отсутствие', 'заявлять', 'забывать', 'лично', 'вроде', 'завтра', 'указанный', 'русский', 'удобный', 'сбер', 'плюс', 'складываться', 'июль', 'го', 'жизнь', 'руководитель', 'ко', 'постоянно', 'общаться', 's', 'устраивать', 'бесплатный', 'допы', 'лишь', 'валюта', 'ипотека', 'обнаруживать', 'равный', 'ранее', 'правило', 'единственный', 'задавать', 'обслуживаться', 'правда', 'кстати', 'сталкиваться', 'банк!', 'телефонный', 'приносить', 'баланс', 'операционистка', 'июнь', 'стандарт']\n"
     ]
    }
   ],
   "source": [
    "top_words = []\n",
    "from nltk import FreqDist\n",
    "\n",
    "#Формируем словарь частотности слов\n",
    "fd = FreqDist()\n",
    "for text in fulltext:\n",
    "    fd.update(text)\n",
    "\n",
    "#Сохраняем 500 наиболее часто употребляемых\n",
    "for i in fd.most_common(500):\n",
    "    top_words.append(i[0])\n",
    "\n",
    "#Выводим топ 500 слов на печать\n",
    "print(top_words)"
   ]
  },
  {
   "cell_type": "code",
   "execution_count": 29,
   "metadata": {},
   "outputs": [
    {
     "name": "stderr",
     "output_type": "stream",
     "text": [
      "/home/alexey/anaconda3/lib/python3.6/site-packages/ipykernel_launcher.py:1: DeprecationWarning: Call to deprecated `__getitem__` (Method will be removed in 4.0.0, use self.wv.__getitem__() instead).\n",
      "  \"\"\"Entry point for launching an IPython kernel.\n"
     ]
    }
   ],
   "source": [
    "top_words_vec = model[top_words]"
   ]
  },
  {
   "cell_type": "code",
   "execution_count": 30,
   "metadata": {
    "collapsed": true
   },
   "outputs": [],
   "source": [
    "#При помощи TSNE понижаем размерность до 2-х компонент, чтобы можно было нарисовать пространство слов\n",
    "from sklearn.manifold import TSNE\n",
    "tsne = TSNE(n_components=2, random_state=0)\n",
    "top_words_tsne = tsne.fit_transform(top_words_vec)"
   ]
  },
  {
   "cell_type": "code",
   "execution_count": 31,
   "metadata": {},
   "outputs": [
    {
     "data": {
      "text/html": [
       "\n",
       "    <div class=\"bk-root\">\n",
       "        <a href=\"https://bokeh.pydata.org\" target=\"_blank\" class=\"bk-logo bk-logo-small bk-logo-notebook\"></a>\n",
       "        <span id=\"64a3dabe-a4bb-4843-8e7a-4d83a1390175\">Loading BokehJS ...</span>\n",
       "    </div>"
      ]
     },
     "metadata": {},
     "output_type": "display_data"
    },
    {
     "data": {
      "application/javascript": [
       "\n",
       "(function(root) {\n",
       "  function now() {\n",
       "    return new Date();\n",
       "  }\n",
       "\n",
       "  var force = true;\n",
       "\n",
       "  if (typeof (root._bokeh_onload_callbacks) === \"undefined\" || force === true) {\n",
       "    root._bokeh_onload_callbacks = [];\n",
       "    root._bokeh_is_loading = undefined;\n",
       "  }\n",
       "\n",
       "  var JS_MIME_TYPE = 'application/javascript';\n",
       "  var HTML_MIME_TYPE = 'text/html';\n",
       "  var EXEC_MIME_TYPE = 'application/vnd.bokehjs_exec.v0+json';\n",
       "  var CLASS_NAME = 'output_bokeh rendered_html';\n",
       "\n",
       "  /**\n",
       "   * Render data to the DOM node\n",
       "   */\n",
       "  function render(props, node) {\n",
       "    var script = document.createElement(\"script\");\n",
       "    node.appendChild(script);\n",
       "  }\n",
       "\n",
       "  /**\n",
       "   * Handle when an output is cleared or removed\n",
       "   */\n",
       "  function handleClearOutput(event, handle) {\n",
       "    var cell = handle.cell;\n",
       "\n",
       "    var id = cell.output_area._bokeh_element_id;\n",
       "    var server_id = cell.output_area._bokeh_server_id;\n",
       "    // Clean up Bokeh references\n",
       "    if (id !== undefined) {\n",
       "      Bokeh.index[id].model.document.clear();\n",
       "      delete Bokeh.index[id];\n",
       "    }\n",
       "\n",
       "    if (server_id !== undefined) {\n",
       "      // Clean up Bokeh references\n",
       "      var cmd = \"from bokeh.io.state import curstate; print(curstate().uuid_to_server['\" + server_id + \"'].get_sessions()[0].document.roots[0]._id)\";\n",
       "      cell.notebook.kernel.execute(cmd, {\n",
       "        iopub: {\n",
       "          output: function(msg) {\n",
       "            var element_id = msg.content.text.trim();\n",
       "            Bokeh.index[element_id].model.document.clear();\n",
       "            delete Bokeh.index[element_id];\n",
       "          }\n",
       "        }\n",
       "      });\n",
       "      // Destroy server and session\n",
       "      var cmd = \"import bokeh.io.notebook as ion; ion.destroy_server('\" + server_id + \"')\";\n",
       "      cell.notebook.kernel.execute(cmd);\n",
       "    }\n",
       "  }\n",
       "\n",
       "  /**\n",
       "   * Handle when a new output is added\n",
       "   */\n",
       "  function handleAddOutput(event, handle) {\n",
       "    var output_area = handle.output_area;\n",
       "    var output = handle.output;\n",
       "\n",
       "    // limit handleAddOutput to display_data with EXEC_MIME_TYPE content only\n",
       "    if ((output.output_type != \"display_data\") || (!output.data.hasOwnProperty(EXEC_MIME_TYPE))) {\n",
       "      return\n",
       "    }\n",
       "\n",
       "    var toinsert = output_area.element.find(`.${CLASS_NAME.split(' ')[0]}`);\n",
       "\n",
       "    if (output.metadata[EXEC_MIME_TYPE][\"id\"] !== undefined) {\n",
       "      toinsert[0].firstChild.textContent = output.data[JS_MIME_TYPE];\n",
       "      // store reference to embed id on output_area\n",
       "      output_area._bokeh_element_id = output.metadata[EXEC_MIME_TYPE][\"id\"];\n",
       "    }\n",
       "    if (output.metadata[EXEC_MIME_TYPE][\"server_id\"] !== undefined) {\n",
       "      var bk_div = document.createElement(\"div\");\n",
       "      bk_div.innerHTML = output.data[HTML_MIME_TYPE];\n",
       "      var script_attrs = bk_div.children[0].attributes;\n",
       "      for (var i = 0; i < script_attrs.length; i++) {\n",
       "        toinsert[0].firstChild.setAttribute(script_attrs[i].name, script_attrs[i].value);\n",
       "      }\n",
       "      // store reference to server id on output_area\n",
       "      output_area._bokeh_server_id = output.metadata[EXEC_MIME_TYPE][\"server_id\"];\n",
       "    }\n",
       "  }\n",
       "\n",
       "  function register_renderer(events, OutputArea) {\n",
       "\n",
       "    function append_mime(data, metadata, element) {\n",
       "      // create a DOM node to render to\n",
       "      var toinsert = this.create_output_subarea(\n",
       "        metadata,\n",
       "        CLASS_NAME,\n",
       "        EXEC_MIME_TYPE\n",
       "      );\n",
       "      this.keyboard_manager.register_events(toinsert);\n",
       "      // Render to node\n",
       "      var props = {data: data, metadata: metadata[EXEC_MIME_TYPE]};\n",
       "      render(props, toinsert[0]);\n",
       "      element.append(toinsert);\n",
       "      return toinsert\n",
       "    }\n",
       "\n",
       "    /* Handle when an output is cleared or removed */\n",
       "    events.on('clear_output.CodeCell', handleClearOutput);\n",
       "    events.on('delete.Cell', handleClearOutput);\n",
       "\n",
       "    /* Handle when a new output is added */\n",
       "    events.on('output_added.OutputArea', handleAddOutput);\n",
       "\n",
       "    /**\n",
       "     * Register the mime type and append_mime function with output_area\n",
       "     */\n",
       "    OutputArea.prototype.register_mime_type(EXEC_MIME_TYPE, append_mime, {\n",
       "      /* Is output safe? */\n",
       "      safe: true,\n",
       "      /* Index of renderer in `output_area.display_order` */\n",
       "      index: 0\n",
       "    });\n",
       "  }\n",
       "\n",
       "  // register the mime type if in Jupyter Notebook environment and previously unregistered\n",
       "  if (root.Jupyter !== undefined) {\n",
       "    var events = require('base/js/events');\n",
       "    var OutputArea = require('notebook/js/outputarea').OutputArea;\n",
       "\n",
       "    if (OutputArea.prototype.mime_types().indexOf(EXEC_MIME_TYPE) == -1) {\n",
       "      register_renderer(events, OutputArea);\n",
       "    }\n",
       "  }\n",
       "\n",
       "  \n",
       "  if (typeof (root._bokeh_timeout) === \"undefined\" || force === true) {\n",
       "    root._bokeh_timeout = Date.now() + 5000;\n",
       "    root._bokeh_failed_load = false;\n",
       "  }\n",
       "\n",
       "  var NB_LOAD_WARNING = {'data': {'text/html':\n",
       "     \"<div style='background-color: #fdd'>\\n\"+\n",
       "     \"<p>\\n\"+\n",
       "     \"BokehJS does not appear to have successfully loaded. If loading BokehJS from CDN, this \\n\"+\n",
       "     \"may be due to a slow or bad network connection. Possible fixes:\\n\"+\n",
       "     \"</p>\\n\"+\n",
       "     \"<ul>\\n\"+\n",
       "     \"<li>re-rerun `output_notebook()` to attempt to load from CDN again, or</li>\\n\"+\n",
       "     \"<li>use INLINE resources instead, as so:</li>\\n\"+\n",
       "     \"</ul>\\n\"+\n",
       "     \"<code>\\n\"+\n",
       "     \"from bokeh.resources import INLINE\\n\"+\n",
       "     \"output_notebook(resources=INLINE)\\n\"+\n",
       "     \"</code>\\n\"+\n",
       "     \"</div>\"}};\n",
       "\n",
       "  function display_loaded() {\n",
       "    var el = document.getElementById(\"64a3dabe-a4bb-4843-8e7a-4d83a1390175\");\n",
       "    if (el != null) {\n",
       "      el.textContent = \"BokehJS is loading...\";\n",
       "    }\n",
       "    if (root.Bokeh !== undefined) {\n",
       "      if (el != null) {\n",
       "        el.textContent = \"BokehJS \" + root.Bokeh.version + \" successfully loaded.\";\n",
       "      }\n",
       "    } else if (Date.now() < root._bokeh_timeout) {\n",
       "      setTimeout(display_loaded, 100)\n",
       "    }\n",
       "  }\n",
       "\n",
       "\n",
       "  function run_callbacks() {\n",
       "    try {\n",
       "      root._bokeh_onload_callbacks.forEach(function(callback) { callback() });\n",
       "    }\n",
       "    finally {\n",
       "      delete root._bokeh_onload_callbacks\n",
       "    }\n",
       "    console.info(\"Bokeh: all callbacks have finished\");\n",
       "  }\n",
       "\n",
       "  function load_libs(js_urls, callback) {\n",
       "    root._bokeh_onload_callbacks.push(callback);\n",
       "    if (root._bokeh_is_loading > 0) {\n",
       "      console.log(\"Bokeh: BokehJS is being loaded, scheduling callback at\", now());\n",
       "      return null;\n",
       "    }\n",
       "    if (js_urls == null || js_urls.length === 0) {\n",
       "      run_callbacks();\n",
       "      return null;\n",
       "    }\n",
       "    console.log(\"Bokeh: BokehJS not loaded, scheduling load and callback at\", now());\n",
       "    root._bokeh_is_loading = js_urls.length;\n",
       "    for (var i = 0; i < js_urls.length; i++) {\n",
       "      var url = js_urls[i];\n",
       "      var s = document.createElement('script');\n",
       "      s.src = url;\n",
       "      s.async = false;\n",
       "      s.onreadystatechange = s.onload = function() {\n",
       "        root._bokeh_is_loading--;\n",
       "        if (root._bokeh_is_loading === 0) {\n",
       "          console.log(\"Bokeh: all BokehJS libraries loaded\");\n",
       "          run_callbacks()\n",
       "        }\n",
       "      };\n",
       "      s.onerror = function() {\n",
       "        console.warn(\"failed to load library \" + url);\n",
       "      };\n",
       "      console.log(\"Bokeh: injecting script tag for BokehJS library: \", url);\n",
       "      document.getElementsByTagName(\"head\")[0].appendChild(s);\n",
       "    }\n",
       "  };var element = document.getElementById(\"64a3dabe-a4bb-4843-8e7a-4d83a1390175\");\n",
       "  if (element == null) {\n",
       "    console.log(\"Bokeh: ERROR: autoload.js configured with elementid '64a3dabe-a4bb-4843-8e7a-4d83a1390175' but no matching script tag was found. \")\n",
       "    return false;\n",
       "  }\n",
       "\n",
       "  var js_urls = [\"https://cdn.pydata.org/bokeh/release/bokeh-0.12.10.min.js\", \"https://cdn.pydata.org/bokeh/release/bokeh-widgets-0.12.10.min.js\", \"https://cdn.pydata.org/bokeh/release/bokeh-tables-0.12.10.min.js\", \"https://cdn.pydata.org/bokeh/release/bokeh-gl-0.12.10.min.js\"];\n",
       "\n",
       "  var inline_js = [\n",
       "    function(Bokeh) {\n",
       "      Bokeh.set_log_level(\"info\");\n",
       "    },\n",
       "    \n",
       "    function(Bokeh) {\n",
       "      \n",
       "    },\n",
       "    function(Bokeh) {\n",
       "      console.log(\"Bokeh: injecting CSS: https://cdn.pydata.org/bokeh/release/bokeh-0.12.10.min.css\");\n",
       "      Bokeh.embed.inject_css(\"https://cdn.pydata.org/bokeh/release/bokeh-0.12.10.min.css\");\n",
       "      console.log(\"Bokeh: injecting CSS: https://cdn.pydata.org/bokeh/release/bokeh-widgets-0.12.10.min.css\");\n",
       "      Bokeh.embed.inject_css(\"https://cdn.pydata.org/bokeh/release/bokeh-widgets-0.12.10.min.css\");\n",
       "      console.log(\"Bokeh: injecting CSS: https://cdn.pydata.org/bokeh/release/bokeh-tables-0.12.10.min.css\");\n",
       "      Bokeh.embed.inject_css(\"https://cdn.pydata.org/bokeh/release/bokeh-tables-0.12.10.min.css\");\n",
       "    }\n",
       "  ];\n",
       "\n",
       "  function run_inline_js() {\n",
       "    \n",
       "    if ((root.Bokeh !== undefined) || (force === true)) {\n",
       "      for (var i = 0; i < inline_js.length; i++) {\n",
       "        inline_js[i].call(root, root.Bokeh);\n",
       "      }if (force === true) {\n",
       "        display_loaded();\n",
       "      }} else if (Date.now() < root._bokeh_timeout) {\n",
       "      setTimeout(run_inline_js, 100);\n",
       "    } else if (!root._bokeh_failed_load) {\n",
       "      console.log(\"Bokeh: BokehJS failed to load within specified timeout.\");\n",
       "      root._bokeh_failed_load = true;\n",
       "    } else if (force !== true) {\n",
       "      var cell = $(document.getElementById(\"64a3dabe-a4bb-4843-8e7a-4d83a1390175\")).parents('.cell').data().cell;\n",
       "      cell.output_area.append_execute_result(NB_LOAD_WARNING)\n",
       "    }\n",
       "\n",
       "  }\n",
       "\n",
       "  if (root._bokeh_is_loading === 0) {\n",
       "    console.log(\"Bokeh: BokehJS loaded, going straight to plotting\");\n",
       "    run_inline_js();\n",
       "  } else {\n",
       "    load_libs(js_urls, function() {\n",
       "      console.log(\"Bokeh: BokehJS plotting callback run at\", now());\n",
       "      run_inline_js();\n",
       "    });\n",
       "  }\n",
       "}(window));"
      ],
      "application/vnd.bokehjs_load.v0+json": "\n(function(root) {\n  function now() {\n    return new Date();\n  }\n\n  var force = true;\n\n  if (typeof (root._bokeh_onload_callbacks) === \"undefined\" || force === true) {\n    root._bokeh_onload_callbacks = [];\n    root._bokeh_is_loading = undefined;\n  }\n\n  \n\n  \n  if (typeof (root._bokeh_timeout) === \"undefined\" || force === true) {\n    root._bokeh_timeout = Date.now() + 5000;\n    root._bokeh_failed_load = false;\n  }\n\n  var NB_LOAD_WARNING = {'data': {'text/html':\n     \"<div style='background-color: #fdd'>\\n\"+\n     \"<p>\\n\"+\n     \"BokehJS does not appear to have successfully loaded. If loading BokehJS from CDN, this \\n\"+\n     \"may be due to a slow or bad network connection. Possible fixes:\\n\"+\n     \"</p>\\n\"+\n     \"<ul>\\n\"+\n     \"<li>re-rerun `output_notebook()` to attempt to load from CDN again, or</li>\\n\"+\n     \"<li>use INLINE resources instead, as so:</li>\\n\"+\n     \"</ul>\\n\"+\n     \"<code>\\n\"+\n     \"from bokeh.resources import INLINE\\n\"+\n     \"output_notebook(resources=INLINE)\\n\"+\n     \"</code>\\n\"+\n     \"</div>\"}};\n\n  function display_loaded() {\n    var el = document.getElementById(\"64a3dabe-a4bb-4843-8e7a-4d83a1390175\");\n    if (el != null) {\n      el.textContent = \"BokehJS is loading...\";\n    }\n    if (root.Bokeh !== undefined) {\n      if (el != null) {\n        el.textContent = \"BokehJS \" + root.Bokeh.version + \" successfully loaded.\";\n      }\n    } else if (Date.now() < root._bokeh_timeout) {\n      setTimeout(display_loaded, 100)\n    }\n  }\n\n\n  function run_callbacks() {\n    try {\n      root._bokeh_onload_callbacks.forEach(function(callback) { callback() });\n    }\n    finally {\n      delete root._bokeh_onload_callbacks\n    }\n    console.info(\"Bokeh: all callbacks have finished\");\n  }\n\n  function load_libs(js_urls, callback) {\n    root._bokeh_onload_callbacks.push(callback);\n    if (root._bokeh_is_loading > 0) {\n      console.log(\"Bokeh: BokehJS is being loaded, scheduling callback at\", now());\n      return null;\n    }\n    if (js_urls == null || js_urls.length === 0) {\n      run_callbacks();\n      return null;\n    }\n    console.log(\"Bokeh: BokehJS not loaded, scheduling load and callback at\", now());\n    root._bokeh_is_loading = js_urls.length;\n    for (var i = 0; i < js_urls.length; i++) {\n      var url = js_urls[i];\n      var s = document.createElement('script');\n      s.src = url;\n      s.async = false;\n      s.onreadystatechange = s.onload = function() {\n        root._bokeh_is_loading--;\n        if (root._bokeh_is_loading === 0) {\n          console.log(\"Bokeh: all BokehJS libraries loaded\");\n          run_callbacks()\n        }\n      };\n      s.onerror = function() {\n        console.warn(\"failed to load library \" + url);\n      };\n      console.log(\"Bokeh: injecting script tag for BokehJS library: \", url);\n      document.getElementsByTagName(\"head\")[0].appendChild(s);\n    }\n  };var element = document.getElementById(\"64a3dabe-a4bb-4843-8e7a-4d83a1390175\");\n  if (element == null) {\n    console.log(\"Bokeh: ERROR: autoload.js configured with elementid '64a3dabe-a4bb-4843-8e7a-4d83a1390175' but no matching script tag was found. \")\n    return false;\n  }\n\n  var js_urls = [\"https://cdn.pydata.org/bokeh/release/bokeh-0.12.10.min.js\", \"https://cdn.pydata.org/bokeh/release/bokeh-widgets-0.12.10.min.js\", \"https://cdn.pydata.org/bokeh/release/bokeh-tables-0.12.10.min.js\", \"https://cdn.pydata.org/bokeh/release/bokeh-gl-0.12.10.min.js\"];\n\n  var inline_js = [\n    function(Bokeh) {\n      Bokeh.set_log_level(\"info\");\n    },\n    \n    function(Bokeh) {\n      \n    },\n    function(Bokeh) {\n      console.log(\"Bokeh: injecting CSS: https://cdn.pydata.org/bokeh/release/bokeh-0.12.10.min.css\");\n      Bokeh.embed.inject_css(\"https://cdn.pydata.org/bokeh/release/bokeh-0.12.10.min.css\");\n      console.log(\"Bokeh: injecting CSS: https://cdn.pydata.org/bokeh/release/bokeh-widgets-0.12.10.min.css\");\n      Bokeh.embed.inject_css(\"https://cdn.pydata.org/bokeh/release/bokeh-widgets-0.12.10.min.css\");\n      console.log(\"Bokeh: injecting CSS: https://cdn.pydata.org/bokeh/release/bokeh-tables-0.12.10.min.css\");\n      Bokeh.embed.inject_css(\"https://cdn.pydata.org/bokeh/release/bokeh-tables-0.12.10.min.css\");\n    }\n  ];\n\n  function run_inline_js() {\n    \n    if ((root.Bokeh !== undefined) || (force === true)) {\n      for (var i = 0; i < inline_js.length; i++) {\n        inline_js[i].call(root, root.Bokeh);\n      }if (force === true) {\n        display_loaded();\n      }} else if (Date.now() < root._bokeh_timeout) {\n      setTimeout(run_inline_js, 100);\n    } else if (!root._bokeh_failed_load) {\n      console.log(\"Bokeh: BokehJS failed to load within specified timeout.\");\n      root._bokeh_failed_load = true;\n    } else if (force !== true) {\n      var cell = $(document.getElementById(\"64a3dabe-a4bb-4843-8e7a-4d83a1390175\")).parents('.cell').data().cell;\n      cell.output_area.append_execute_result(NB_LOAD_WARNING)\n    }\n\n  }\n\n  if (root._bokeh_is_loading === 0) {\n    console.log(\"Bokeh: BokehJS loaded, going straight to plotting\");\n    run_inline_js();\n  } else {\n    load_libs(js_urls, function() {\n      console.log(\"Bokeh: BokehJS plotting callback run at\", now());\n      run_inline_js();\n    });\n  }\n}(window));"
     },
     "metadata": {},
     "output_type": "display_data"
    },
    {
     "data": {
      "text/html": [
       "\n",
       "<div class=\"bk-root\">\n",
       "    <div class=\"bk-plotdiv\" id=\"48953606-ac94-4f83-b38c-46423bba9f1b\"></div>\n",
       "</div>"
      ]
     },
     "metadata": {},
     "output_type": "display_data"
    },
    {
     "data": {
      "application/javascript": [
       "(function(root) {\n",
       "  function embed_document(root) {\n",
       "    var docs_json = {\"2a07bf18-5330-4224-be1d-dd3478fb1f22\":{\"roots\":{\"references\":[{\"attributes\":{},\"id\":\"0a9d089d-6fb2-4d27-8c84-f9f8da8991bb\",\"type\":\"ResetTool\"},{\"attributes\":{\"callback\":null},\"id\":\"e48febc0-3786-4374-9ca3-93977ea16980\",\"type\":\"DataRange1d\"},{\"attributes\":{\"data_source\":{\"id\":\"6295510a-051a-46d0-9cef-bfb1680102e7\",\"type\":\"ColumnDataSource\"},\"glyph\":{\"id\":\"11610dd0-2a35-4fc2-8cf9-cb5fb0398fd6\",\"type\":\"Circle\"},\"hover_glyph\":null,\"muted_glyph\":null,\"nonselection_glyph\":{\"id\":\"c6aa036e-9992-495f-a567-3afd1f015e30\",\"type\":\"Circle\"},\"selection_glyph\":null,\"view\":{\"id\":\"4f1ee655-1490-4238-b9f9-8c36fd305686\",\"type\":\"CDSView\"}},\"id\":\"7cc680b1-41c0-41d8-870a-f840f02d79f5\",\"type\":\"GlyphRenderer\"},{\"attributes\":{},\"id\":\"757c7652-78bc-4829-9d41-8864a05ecd14\",\"type\":\"SaveTool\"},{\"attributes\":{\"plot\":{\"id\":\"0f3d1deb-5512-44a8-8619-03a5b1007417\",\"subtype\":\"Figure\",\"type\":\"Plot\"},\"source\":{\"id\":\"6295510a-051a-46d0-9cef-bfb1680102e7\",\"type\":\"ColumnDataSource\"},\"text\":{\"field\":\"names\"},\"text_align\":\"center\",\"text_color\":{\"value\":\"#555555\"},\"text_font_size\":{\"value\":\"8pt\"},\"x\":{\"field\":\"x1\"},\"y\":{\"field\":\"x2\"},\"y_offset\":{\"value\":6}},\"id\":\"d948895b-44fb-41ee-8c66-72ae2beb9b61\",\"type\":\"LabelSet\"},{\"attributes\":{\"formatter\":{\"id\":\"f1bf32c8-9dad-4599-b974-510cd21c0f4f\",\"type\":\"BasicTickFormatter\"},\"plot\":{\"id\":\"0f3d1deb-5512-44a8-8619-03a5b1007417\",\"subtype\":\"Figure\",\"type\":\"Plot\"},\"ticker\":{\"id\":\"e84d550e-7d4a-4738-8619-e2ff988a6ad1\",\"type\":\"BasicTicker\"}},\"id\":\"c3d15033-3566-48b8-b8ad-9050d06b22ab\",\"type\":\"LinearAxis\"},{\"attributes\":{},\"id\":\"f954aeb5-5f73-4037-9197-d72340c744b7\",\"type\":\"LinearScale\"},{\"attributes\":{\"below\":[{\"id\":\"2e87837b-a679-4038-b72c-77532ed4e729\",\"type\":\"LinearAxis\"}],\"left\":[{\"id\":\"c3d15033-3566-48b8-b8ad-9050d06b22ab\",\"type\":\"LinearAxis\"}],\"renderers\":[{\"id\":\"2e87837b-a679-4038-b72c-77532ed4e729\",\"type\":\"LinearAxis\"},{\"id\":\"25f12293-53d0-4da5-b230-002e7c7de78e\",\"type\":\"Grid\"},{\"id\":\"c3d15033-3566-48b8-b8ad-9050d06b22ab\",\"type\":\"LinearAxis\"},{\"id\":\"97985201-9c3d-4ea9-a864-4b23b3c20682\",\"type\":\"Grid\"},{\"id\":\"7cc680b1-41c0-41d8-870a-f840f02d79f5\",\"type\":\"GlyphRenderer\"},{\"id\":\"d948895b-44fb-41ee-8c66-72ae2beb9b61\",\"type\":\"LabelSet\"}],\"title\":{\"id\":\"5866fd67-5a88-4636-b216-9a0556bc6b07\",\"type\":\"Title\"},\"toolbar\":{\"id\":\"ab7d3075-dbc5-495c-8c13-acaf23e880cb\",\"type\":\"Toolbar\"},\"toolbar_location\":\"above\",\"x_range\":{\"id\":\"e48febc0-3786-4374-9ca3-93977ea16980\",\"type\":\"DataRange1d\"},\"x_scale\":{\"id\":\"f954aeb5-5f73-4037-9197-d72340c744b7\",\"type\":\"LinearScale\"},\"y_range\":{\"id\":\"3241b6d4-d10e-4163-b6c0-2d7daf6e6b4c\",\"type\":\"DataRange1d\"},\"y_scale\":{\"id\":\"bf78b2f3-6298-4797-97bb-1c4d2e6f3b48\",\"type\":\"LinearScale\"}},\"id\":\"0f3d1deb-5512-44a8-8619-03a5b1007417\",\"subtype\":\"Figure\",\"type\":\"Plot\"},{\"attributes\":{\"callback\":null},\"id\":\"3241b6d4-d10e-4163-b6c0-2d7daf6e6b4c\",\"type\":\"DataRange1d\"},{\"attributes\":{\"source\":{\"id\":\"6295510a-051a-46d0-9cef-bfb1680102e7\",\"type\":\"ColumnDataSource\"}},\"id\":\"4f1ee655-1490-4238-b9f9-8c36fd305686\",\"type\":\"CDSView\"},{\"attributes\":{},\"id\":\"f48add30-52fa-40af-9428-52aac47a3106\",\"type\":\"BasicTickFormatter\"},{\"attributes\":{\"formatter\":{\"id\":\"f48add30-52fa-40af-9428-52aac47a3106\",\"type\":\"BasicTickFormatter\"},\"plot\":{\"id\":\"0f3d1deb-5512-44a8-8619-03a5b1007417\",\"subtype\":\"Figure\",\"type\":\"Plot\"},\"ticker\":{\"id\":\"59cfcf6e-ddc0-41db-87e4-aa0155a3149e\",\"type\":\"BasicTicker\"}},\"id\":\"2e87837b-a679-4038-b72c-77532ed4e729\",\"type\":\"LinearAxis\"},{\"attributes\":{},\"id\":\"59cfcf6e-ddc0-41db-87e4-aa0155a3149e\",\"type\":\"BasicTicker\"},{\"attributes\":{\"plot\":{\"id\":\"0f3d1deb-5512-44a8-8619-03a5b1007417\",\"subtype\":\"Figure\",\"type\":\"Plot\"},\"ticker\":{\"id\":\"59cfcf6e-ddc0-41db-87e4-aa0155a3149e\",\"type\":\"BasicTicker\"}},\"id\":\"25f12293-53d0-4da5-b230-002e7c7de78e\",\"type\":\"Grid\"},{\"attributes\":{\"fill_alpha\":{\"value\":0.1},\"fill_color\":{\"value\":\"#1f77b4\"},\"line_alpha\":{\"value\":0.1},\"line_color\":{\"value\":\"#1f77b4\"},\"size\":{\"units\":\"screen\",\"value\":8},\"x\":{\"field\":\"x1\"},\"y\":{\"field\":\"x2\"}},\"id\":\"c6aa036e-9992-495f-a567-3afd1f015e30\",\"type\":\"Circle\"},{\"attributes\":{},\"id\":\"e84d550e-7d4a-4738-8619-e2ff988a6ad1\",\"type\":\"BasicTicker\"},{\"attributes\":{\"dimension\":1,\"plot\":{\"id\":\"0f3d1deb-5512-44a8-8619-03a5b1007417\",\"subtype\":\"Figure\",\"type\":\"Plot\"},\"ticker\":{\"id\":\"e84d550e-7d4a-4738-8619-e2ff988a6ad1\",\"type\":\"BasicTicker\"}},\"id\":\"97985201-9c3d-4ea9-a864-4b23b3c20682\",\"type\":\"Grid\"},{\"attributes\":{\"active_drag\":\"auto\",\"active_inspect\":\"auto\",\"active_scroll\":\"auto\",\"active_tap\":\"auto\",\"tools\":[{\"id\":\"d52b2ac4-73f0-4ff9-82df-cf14d32ac05c\",\"type\":\"PanTool\"},{\"id\":\"ceb2ab98-3921-4cf2-af2c-15873ecadbfe\",\"type\":\"WheelZoomTool\"},{\"id\":\"0a9d089d-6fb2-4d27-8c84-f9f8da8991bb\",\"type\":\"ResetTool\"},{\"id\":\"757c7652-78bc-4829-9d41-8864a05ecd14\",\"type\":\"SaveTool\"}]},\"id\":\"ab7d3075-dbc5-495c-8c13-acaf23e880cb\",\"type\":\"Toolbar\"},{\"attributes\":{},\"id\":\"d52b2ac4-73f0-4ff9-82df-cf14d32ac05c\",\"type\":\"PanTool\"},{\"attributes\":{\"fill_color\":{\"value\":\"#1f77b4\"},\"line_color\":{\"value\":\"#1f77b4\"},\"size\":{\"units\":\"screen\",\"value\":8},\"x\":{\"field\":\"x1\"},\"y\":{\"field\":\"x2\"}},\"id\":\"11610dd0-2a35-4fc2-8cf9-cb5fb0398fd6\",\"type\":\"Circle\"},{\"attributes\":{\"callback\":null,\"column_names\":[\"x1\",\"x2\",\"names\"],\"data\":{\"names\":[\"\\u0431\\u0430\\u043d\\u043a\",\"\\u043a\\u0430\\u0440\\u0442\\u0430\",\"\\u0434\\u0435\\u043d\\u044c\\u0433\\u0438\",\"\\u0434\\u0435\\u043d\\u044c\",\"\\u043a\\u0440\\u0435\\u0434\\u0438\\u0442\",\"\\u043a\\u043e\\u0442\\u043e\\u0440\\u044b\\u0439\",\"\\u0432\\u0435\\u0441\\u044c\",\"\\u043e\\u0442\\u0434\\u0435\\u043b\\u0435\\u043d\\u0438\\u0435\",\"\\u0441\\u043e\\u0442\\u0440\\u0443\\u0434\\u043d\\u0438\\u043a\",\"\\u043a\\u043b\\u0438\\u0435\\u043d\\u0442\",\"\\u043c\\u043e\\u0447\\u044c\",\"\\u0441\\u0447\\u0435\\u0442\",\"\\u0441\\u0432\\u043e\\u0439\",\"\\u0441\\u043a\\u0430\\u0437\\u0430\\u0442\\u044c\",\"\\u0441\\u0443\\u043c\\u043c\\u0430\",\"\\u043f\\u043e\\u043b\\u0443\\u0447\\u0430\\u0442\\u044c\",\"\\u0437\\u0430\\u044f\\u0432\\u043b\\u0435\\u043d\\u0438\\u0435\",\"\\u0433\\u043e\\u0434\",\"\\u0432\\u0440\\u0435\\u043c\\u044f\",\"\\u0432\\u043e\\u043f\\u0440\\u043e\\u0441\",\"\\u043a\\u0440\\u0435\\u0434\\u0438\\u0442\\u043d\\u044b\\u0439\",\"\\u043f\\u0440\\u0438\\u0445\\u043e\\u0434\\u0438\\u0442\\u044c\",\"\\u0432\\u043a\\u043b\\u0430\\u0434\",\"\\u043e\\u0444\\u0438\\u0441\",\"\\u0434\\u0430\\u043d\\u043d\\u044b\\u0439\",\"\\u0442\\u0435\\u043b\\u0435\\u0444\\u043e\\u043d\",\"\\u0432\\u0430\\u0448\",\"\\u043f\\u043b\\u0430\\u0442\\u0435\\u0436\",\"\\u0434\\u043e\\u0433\\u043e\\u0432\\u043e\\u0440\",\"\\u0437\\u0432\\u043e\\u043d\\u0438\\u0442\\u044c\",\"\\u043e\\u0442\\u0432\\u0435\\u0442\",\"\\u043d\\u043e\\u043c\\u0435\\u0440\",\")\",\"\\u0431\\u0430\\u043d\\u043a\\u043e\\u043c\\u0430\\u0442\",\"\\u0441\\u0431\\u0435\\u0440\\u0431\\u0430\\u043d\\u043a\",\"\\u043e\\u0447\\u0435\\u043d\\u044c\",\"\\u043f\\u043e\\u0437\\u0432\\u043e\\u043d\\u0438\\u0442\\u044c\",\"\\u043d\\u0430\\u043f\\u0438\\u0441\\u0430\\u0442\\u044c\",\"\\u0433\",\"\\u043e\\u0431\\u0440\\u0430\\u0449\\u0430\\u0442\\u044c\\u0441\\u044f\",\"\\u043c\\u0435\\u0441\\u044f\\u0446\",\"\\u0440\\u0435\\u0448\\u0430\\u0442\\u044c\",\"\\u043f\\u0440\\u043e\\u0431\\u043b\\u0435\\u043c\\u0430\",\"\\u0441\\u0440\\u0435\\u0434\\u0441\\u0442\\u0432\\u043e\",\"\\u0440\\u0430\\u0431\\u043e\\u0442\\u0430\\u0442\\u044c\",\"\\u0440\\u0430\\u0431\\u043e\\u0442\\u0430\",\"\\u0440\\u0443\\u0431\\u043b\\u044c\",\"\\u0434\\u043e\\u043a\\u0443\\u043c\\u0435\\u043d\\u0442\",\"\\u0437\\u0432\\u043e\\u043d\\u043e\\u043a\",\"\\u0441\\u0438\\u0442\\u0443\\u0430\\u0446\\u0438\\u044f\",\"\\u043e\\u0442\\u0432\\u0435\\u0447\\u0430\\u0442\\u044c\",\"\\u0445\\u043e\\u0442\\u0435\\u0442\\u044c\",\"\\u043f\\u043e\\u0447\\u0435\\u043c\\u0443\",\"\\u0447\\u0435\\u043b\\u043e\\u0432\\u0435\\u043a\",\"\\u043e\\u043f\\u0435\\u0440\\u0430\\u0446\\u0438\\u044f\",\"\\u0434\\u0430\\u0432\\u0430\\u0442\\u044c\",\"\\u0433\\u043e\\u0432\\u043e\\u0440\\u0438\\u0442\\u044c\",\"\\u0438\\u043d\\u0444\\u043e\\u0440\\u043c\\u0430\\u0446\\u0438\\u044f\",\"\\u0441\\u043e\\u043e\\u0431\\u0449\\u0430\\u0442\\u044c\",\"\\u0441\\u0434\\u0435\\u043b\\u0430\\u0442\\u044c\",\"\\u043e\\u0444\\u043e\\u0440\\u043c\\u043b\\u044f\\u0442\\u044c\",\"\\u0441\\u043c\\u0441\",\"\\u0441\\u0440\\u043e\\u043a\",\"\\u0443\\u0441\\u043b\\u0443\\u0433\\u0430\",\"\\u043f\\u0440\\u043e\\u0441\\u0442\\u043e\",\"\\u0434\\u043e\\u043b\\u0436\\u043d\\u044b\\u0439\",\"\\u0437\\u0430\\u044f\\u0432\\u043a\\u0430\",\"\\u0431\\u0430\\u043d\\u043a\\u0430\",\"\\u0437\\u043d\\u0430\\u0442\\u044c\",\"\\u043e\\u0431\\u0441\\u043b\\u0443\\u0436\\u0438\\u0432\\u0430\\u043d\\u0438\\u0435\",\"\\u043e\\u0447\\u0435\\u0440\\u0435\\u0434\\u044c\",\":\",\"\\u0441\\u0435\\u0433\\u043e\\u0434\\u043d\\u044f\",\"\\u043c\\u0438\\u043d\\u0443\\u0442\\u0430\",\"\\u043f\\u0435\\u0440\\u0432\\u044b\\u0439\",\"\\u0434\\u0435\\u0432\\u0443\\u0448\\u043a\\u0430\",\"\\u0436\\u0434\\u0430\\u0442\\u044c\",\"\\u0440\\u0443\\u0431\",\"\\u0441\\u0430\\u0439\\u0442\",\"\\u043f\\u0440\\u0435\\u0442\\u0435\\u043d\\u0437\\u0438\\u044f\",\"\\u043d\\u043e\\u0432\\u044b\\u0439\",\"\\u043d\\u0438\\u0447\\u0442\\u043e\",\"\\u043f\\u0440\\u043e\\u0441\\u0438\\u0442\\u044c\",\"\\u0438\\u043d\\u0442\\u0435\\u0440\\u043d\\u0435\\u0442\",\"\\u043e\\u0442\\u043a\\u0440\\u044b\\u0432\\u0430\\u0442\\u044c\",\"\\u043f\\u0440\\u0438\\u043d\\u0438\\u043c\\u0430\\u0442\\u044c\",\"\\u0441\\u043d\\u0438\\u043c\\u0430\\u0442\\u044c\",\"\\u043f\\u0440\\u043e\\u0446\\u0435\\u043d\\u0442\",\"\\u0432\\u044b\\u0434\\u0430\\u0432\\u0430\\u0442\\u044c\",\"\\u043d\\u0438\\u043a\\u0430\\u043a\\u043e\\u0439\",\"\\u044f\\u0432\\u043b\\u044f\\u0442\\u044c\\u0441\\u044f\",\"\\u043d\\u0435\\u0434\\u0435\\u043b\\u044f\",\"\\u043e\\u043f\\u0435\\u0440\\u0430\\u0442\\u043e\\u0440\",\"\\u0441\\u0442\\u0430\\u043d\\u043e\\u0432\\u0438\\u0442\\u044c\\u0441\\u044f\",\"\\u043f\\u043e\\u043d\\u0438\\u043c\\u0430\\u0442\\u044c\",\"%\",\"\\u043f\\u0440\\u0435\\u0434\\u043b\\u0430\\u0433\\u0430\\u0442\\u044c\",\"\\u043e\\u043f\\u043b\\u0430\\u0447\\u0438\\u0432\\u0430\\u0442\\u044c\",\"\\u0437\\u0430\\u043a\\u0440\\u044b\\u0432\\u0430\\u0442\\u044c\",\"\\u043f\\u0440\\u043e\\u0445\\u043e\\u0434\\u0438\\u0442\\u044c\",\"\\u043d\\u0435\\u0441\\u043a\\u043e\\u043b\\u044c\\u043a\\u043e\",\"\\u043f\\u0435\\u0440\\u0435\\u0432\\u043e\\u0434\",\"\\u043e\\u043a\\u0430\\u0437\\u044b\\u0432\\u0430\\u0442\\u044c\\u0441\\u044f\",\"\\u043f\\u0438\\u0441\\u0430\\u0442\\u044c\",\"\\u0441\\u0430\\u043c\\u044b\\u0439\",\"\\u043d\\u0443\\u0436\\u043d\\u043e\",\"\\u0435\",\"\\u0447\\u0430\\u0441\",\"\\u0438\\u043c\\u0435\\u0442\\u044c\",\"\\u043e\\u0431\\u044a\\u044f\\u0441\\u043d\\u044f\\u0442\\u044c\",\"\\u043a\\u043e\\u043c\\u0438\\u0441\\u0441\\u0438\\u044f\",\"\\u0443\\u043a\\u0430\\u0437\\u044b\\u0432\\u0430\\u0442\\u044c\",\"\\u043f\\u043e\\u043b\\u044c\\u0437\\u043e\\u0432\\u0430\\u0442\\u044c\\u0441\\u044f\",\"\\u0443\\u0441\\u043b\\u043e\\u0432\\u0438\\u0435\",\"\\u0442\\u0435\\u0447\\u0435\\u043d\\u0438\\u0435\",\"\\u0443\\u0437\\u043d\\u0430\\u0432\\u0430\\u0442\\u044c\",\"\\u0446\\u0435\\u043d\\u0442\\u0440\",\"\\u0432\\u0437\\u044f\\u0442\\u044c\",\"\\u043c\\u043e\\u043c\\u0435\\u043d\\u0442\",\"\\u0437\\u0430\\u0434\\u043e\\u043b\\u0436\\u0435\\u043d\\u043d\\u043e\\u0441\\u0442\\u044c\",\"\\u043f\\u0440\\u0438\\u0445\\u043e\\u0434\\u0438\\u0442\\u044c\\u0441\\u044f\",\"\\u0441\\u043b\\u0443\\u0447\\u0430\\u0439\",\"\\u0432\\u043e\\u043e\\u0431\\u0449\\u0435\",\"\\u0441\\u0440\\u0430\\u0437\\u0443\",\"\\u0432\\u0441\",\"\\u0434\\u0435\\u043b\\u0430\\u0442\\u044c\",\"\\u0441\\u043b\\u0435\\u0434\\u0443\\u044e\\u0449\\u0438\\u0439\",\"\\u043d\\u0438\\u043a\\u0442\\u043e\",\"\\u0445\\u043e\\u0442\\u044f\",\"\\u0441\\u043b\\u0443\\u0436\\u0431\\u0430\",\"\\u0434\\u0435\\u043b\\u043e\",\"\\u0432\\u043d\\u043e\\u0441\\u0438\\u0442\\u044c\",\"\\u0440\\u0435\\u0448\\u0435\\u043d\\u0438\\u0435\",\"\\u0441\\u043f\\u0435\\u0446\\u0438\\u0430\\u043b\\u0438\\u0441\\u0442\",\"\\u043d\\u0430\\u0447\\u0438\\u043d\\u0430\\u0442\\u044c\",\"(\",\"\\u0434\\u0435\\u043d\\u0435\\u0436\\u043d\\u044b\\u0439\",\"\\u0441\\u0438\\u0441\\u0442\\u0435\\u043c\\u0430\",\"\\u043e\\u0442\\u043f\\u0440\\u0430\\u0432\\u043b\\u044f\\u0442\\u044c\",\"\\u043e\\u0431\\u0440\\u0430\\u0449\\u0435\\u043d\\u0438\\u0435\",\"\\u0441\\u043c\\u043e\\u0447\\u044c\",\"\\u043e\\u0442\\u0437\\u044b\\u0432\",\"\\u0434\\u0430\\u043d\\u043d\\u044b\\u0435\",\"\\u043e\\u043f\\u043b\\u0430\\u0442\\u0430\",\"\\u043d\\u0443\\u0436\\u043d\\u044b\\u0439\",\"\\u043c\\u0435\\u043d\\u0435\\u0434\\u0436\\u0435\\u0440\",\"\\u043a\\u0430\\u0436\\u0434\\u044b\\u0439\",\"\\u043f\\u0440\\u0435\\u0434\\u043e\\u0441\\u0442\\u0430\\u0432\\u043b\\u044f\\u0442\\u044c\",\"\\u0441\\u043f\\u0440\\u0430\\u0448\\u0438\\u0432\\u0430\\u0442\\u044c\",\"\\u043f\\u043e\\u0441\\u0442\\u0443\\u043f\\u0430\\u0442\\u044c\",\"\\u043f\\u043e\\u043a\\u0430\",\"\\u043e\\u0431\\u0449\\u0438\\u0439\",\"\\u043c\\u043e\\u0441\\u043a\\u0432\\u0430\",\"\\u043f\\u0440\\u043e\\u0438\\u0441\\u0445\\u043e\\u0434\\u0438\\u0442\\u044c\",\"\\u043a\\u0430\\u0441\\u0441\\u0430\",\"\\u0438\\u0442\\u043e\\u0433\",\"\\u043e\\u0441\\u0442\\u0430\\u0432\\u0430\\u0442\\u044c\\u0441\\u044f\",\"\\u0434\\u0443\\u043c\\u0430\\u0442\\u044c\",\"/\",\"\\u0438\\u0441\\u0442\\u043e\\u0440\\u0438\\u044f\",\"\\u0432\\u0442\\u043e\\u0440\\u043e\\u0439\",\"\\u0432\\u0435\\u0440\\u043d\\u0443\\u0442\\u044c\",\"\\u0434\\u043e\\u0431\\u0440\\u044b\\u0439\",\"\\u043f\\u043e\\u0433\\u0430\\u0448\\u0435\\u043d\\u0438\\u0435\",\"\\u043e\\u0442\\u043d\\u043e\\u0448\\u0435\\u043d\\u0438\\u0435\",\"\\u0440\",\"\\u0438\\u0434\\u0442\\u0438\",\"\\u0430\\u043b\\u044c\\u0444\\u0430\",\"\\u0440\\u0430\\u0437\\u0431\\u0438\\u0440\\u0430\\u0442\\u044c\\u0441\\u044f\",\"\\u043f\\u0440\\u0438\\u0435\\u0437\\u0436\\u0430\\u0442\\u044c\",\"\\u0430\\u0434\\u0440\\u0435\\u0441\",\"\\u0431\\u0440\\u0430\\u0442\\u044c\",\"\\u043f\\u043e\\u0434\\u0434\\u0435\\u0440\\u0436\\u043a\\u0430\",\"\\u043f\\u043e\\u043f\\u0440\\u043e\\u0441\\u0438\\u0442\\u044c\",\"\\u0441\\u043b\\u043e\\u0432\\u043e\",\"\\u043f\\u043e\\u043b\\u0443\\u0447\\u0435\\u043d\\u0438\\u0435\",\"\\u043f\\u043b\\u0430\\u0442\\u0438\\u0442\\u044c\",\"\\u043f\\u043e\\u0441\\u043b\\u0435\\u0434\\u043d\\u0438\\u0439\",\"\\u043e\\u0441\\u0442\\u0430\\u0432\\u043b\\u044f\\u0442\\u044c\",\"\\u043d\\u0430\\u0445\\u043e\\u0434\\u0438\\u0442\\u044c\\u0441\\u044f\",\"\\u043f\\u0438\\u0441\\u044c\\u043c\\u043e\",\"\\u0443\\u0442\\u043e\\u0447\\u043d\\u044f\\u0442\\u044c\",\"\\u043b\\u0438\\u0446\\u043e\",\"\\u043b\\u0438\\u043c\\u0438\\u0442\",\"\\u0440\\u0430\\u0431\\u043e\\u0447\\u0438\\u0439\",\"\\u043b\\u0438\\u043d\\u0438\\u044f\",\"\\u0441\\u0432\\u044f\\u0437\\u044c\",\"\\u0432\\u043e\\u0437\\u043c\\u043e\\u0436\\u043d\\u043e\\u0441\\u0442\\u044c\",\"\\u0431\\u0430\\u043d\\u043a\\u043e\\u0432\\u0441\\u043a\\u0438\\u0439\",\"\\u043f\\u0440\\u043e\\u0441\\u044c\\u0431\\u0430\",\"\\u0441\\u043e\\u0442\\u0440\\u0443\\u0434\\u043d\\u0438\\u0446\\u0430\",\"\\u043e\\u0442\\u043a\\u0430\\u0437\\u044b\\u0432\\u0430\\u0442\\u044c\\u0441\\u044f\",\"\\u043f\\u043e\\u043c\\u043e\\u0433\\u0430\\u0442\\u044c\",\"\\u0441\\u043d\\u043e\\u0432\\u0430\",\"\\u043b\\u0438\\u0431\\u043e\",\"\\u0434\\u0430\\u0442\\u0430\",\"\\u043f\\u0440\\u0438\\u0447\\u0438\\u043d\\u0430\",\"\\u043f\\u043e\\u0434\\u0430\\u0432\\u0430\\u0442\\u044c\",\"\\u043e\\u0448\\u0438\\u0431\\u043a\\u0430\",\"\\u0445\\u043e\\u0440\\u043e\\u0448\\u0438\\u0439\",\"\\u043a\\u043e\\u043d\\u0435\\u0446\",\"\\u043f\\u0430\\u0441\\u043f\\u043e\\u0440\\u0442\",\"!\",\"\\u043c\\u0435\\u0441\\u0442\\u043e\",\"\\u0431\\u043e\\u043b\\u044c\\u0448\\u043e\\u0439\",\"\\u043c\",\"\\u0431\\u044b\\u0441\\u0442\\u0440\\u043e\",\"\\u0441\\u043f\\u0430\\u0441\\u0438\\u0431\\u043e\",\"\\u0438\\u043c\\u0435\\u043d\\u043d\\u043e\",\"\\u0445\\u043e\\u0442\\u0435\\u0442\\u044c\\u0441\\u044f\",\"\\u0435\\u0449\",\"\\u0434\\u0435\\u0439\\u0441\\u0442\\u0432\\u0438\\u0435\",\"\\u0434\\u043e\\u043b\\u0433\",\"\\u0432\\u044b\\u043f\\u0438\\u0441\\u043a\\u0430\",\"\\u043f\\u0435\\u0440\\u0435\\u0437\\u0432\\u0430\\u043d\\u0438\\u0432\\u0430\\u0442\\u044c\",\"\\u043e\\u0444\\u043e\\u0440\\u043c\\u043b\\u0435\\u043d\\u0438\\u0435\",\"\\u0440\\u0430\\u0441\\u0441\\u043c\\u043e\\u0442\\u0440\\u0435\\u043d\\u0438\\u0435\",\"\\u0441\\u043f\\u0440\\u0430\\u0432\\u043a\\u0430\",\"\\u043a\\u0430\\u0440\\u0442\\u043e\\u0447\\u043a\\u0430\",\"\\u0441\\u043f\\u0438\\u0441\\u044b\\u0432\\u0430\\u0442\\u044c\",\"\\u043f\\u043e\\u044d\\u0442\\u043e\\u043c\\u0443\",\"\\u0441\\u0442\\u0440\\u0430\\u0445\\u043e\\u0432\\u043a\\u0430\",\"\\u043f\\u044b\\u0442\\u0430\\u0442\\u044c\\u0441\\u044f\",\"\\u0432\\u0438\\u0434\\u0435\\u0442\\u044c\",\"\\u043f\\u043e\\u0433\\u0430\\u0441\\u0438\\u0442\\u044c\",\"\\u043f\\u043e\\u043b\\u043d\\u044b\\u0439\",\"\\u0433\\u043e\\u0440\\u044f\\u0447\\u0438\\u0439\",\"\\u043b\\u044e\\u0431\\u043e\\u0439\",\"\\u043d\\u0430\\u0437\\u0430\\u0434\",\"\\u043d\\u0430\\u0445\\u043e\\u0434\\u0438\\u0442\\u044c\",\"\\u0443\\u0445\\u043e\\u0434\\u0438\\u0442\\u044c\",\"\\u043e\\u0442\\u043a\\u0430\\u0437\",\"\\u0437\\u0430\\u0431\\u043b\\u043e\\u043a\\u0438\\u0440\\u043e\\u0432\\u0430\\u0442\\u044c\",\"\\u043e\\u043f\\u0435\\u0440\\u0430\\u0446\\u0438\\u043e\\u043d\\u0438\\u0441\\u0442\",\"\\u0440\\u0435\\u0437\\u0443\\u043b\\u044c\\u0442\\u0430\\u0442\",\"\\u043f\\u043e\\u043b\\u0443\\u0447\\u0430\\u0442\\u044c\\u0441\\u044f\",\"\\u0432\\u043e\\u0437\\u043d\\u0438\\u043a\\u0430\\u0442\\u044c\",\"\\u043f\\u043e\\u0439\\u0442\\u0438\",\"\\u043f\\u0435\\u0440\\u0435\\u0432\\u043e\\u0434\\u0438\\u0442\\u044c\",\"\\u043f\\u0440\\u043e\\u0432\\u0435\\u0440\\u044f\\u0442\\u044c\",\"\\u0441\\u043e\\u043e\\u0431\\u0449\\u0435\\u043d\\u0438\\u0435\",\"\\u043f\\u0440\\u043e\\u0432\\u043e\\u0434\\u0438\\u0442\\u044c\",\"\\u0441\\u0442\\u0430\\u0432\\u043a\\u0430\",\"\\u0442\\u0435\\u0440\\u043c\\u0438\\u043d\\u0430\\u043b\",\"\\u0437\\u0430\\u043a\\u0440\\u044b\\u0442\\u0438\\u0435\",\"\\u0447\\u0438\\u0441\\u043b\\u043e\",\"\\u0432\\u0442\\u0431\",\"\\u0441\\u043e\\u0441\\u0442\\u0430\\u0432\\u043b\\u044f\\u0442\\u044c\",\"\\u043c\\u043e\\u0431\\u0438\\u043b\\u044c\\u043d\\u044b\\u0439\",\"\\u043f\\u043e\\u0440\\u0430\",\"\\u043e\\u0442\\u0434\\u0435\\u043b\",\"\\u0441\\u0435\\u0439\",\"\\u043f\\u043e\\u043a\\u0443\\u043f\\u043a\\u0430\",\"\\u0441\\u0447\",\"\\u043f\\u0440\\u043e\\u0441\\u0440\\u043e\\u0447\\u043a\\u0430\",\"\\u0443\\u043b\",\"\\u0442\\u0430\\u043a\\u0438\",\"\\u0433\\u043e\\u0440\\u043e\\u0434\",\"\\u0437\\u0430\\u043f\\u043e\\u043b\\u043d\\u044f\\u0442\\u044c\",\"\\u043f\\u043e\\u0434\\u0445\\u043e\\u0434\\u0438\\u0442\\u044c\",\"\\u0441\\u043f\\u0438\\u0441\\u0430\\u043d\\u0438\\u0435\",\"\\u0434\\u0435\\u043a\\u0430\\u0431\\u0440\\u044c\",\"\\u0441\\u0447\\u0438\\u0442\\u0430\\u0442\\u044c\",\"\\u0444\\u0438\\u043b\\u0438\\u0430\\u043b\",\"\\u043e\\u0442\\u043a\\u0440\\u044b\\u0442\\u0438\\u0435\",\"\\u0437\\u0430\\u0431\\u0438\\u0440\\u0430\\u0442\\u044c\",\"\\u043f\\u043e\\u0447\\u0442\\u0430\",\"\\u0441\\u0432\\u044f\\u0437\\u044b\\u0432\\u0430\\u0442\\u044c\\u0441\\u044f\",\"\\u0440\\u0430\\u0437\\u043c\\u0435\\u0440\",\"\\u043e\\u043a\\u043e\\u043b\\u043e\",\"\\u0434\\u0435\\u0431\\u0435\\u0442\\u043e\\u0432\\u044b\\u0439\",\"\\u0441\\u0442\\u043e\\u0440\\u043e\\u043d\\u0430\",\"\\u0441\\u043d\\u044f\\u0442\\u0438\\u0435\",\"\\u0441\\u0442\\u043e\\u044f\\u0442\\u044c\",\"\\u043f\\u043e\\u0434\\u043f\\u0438\\u0441\\u044b\\u0432\\u0430\\u0442\\u044c\",\"\\u043c\\u0430\\u043b\\u043e\",\"\\u043e\\u043d\\u043b\\u0430\\u0439\\u043d\",\"\\u043e\\u0434\\u043d\\u0430\\u043a\\u043e\",\"\\u0430\\u0434\\u043c\\u0438\\u043d\\u0438\\u0441\\u0442\\u0440\\u0430\\u0442\\u043e\\u0440:\",\"\\u043d\\u0430\\u0434\\u0435\\u044f\\u0442\\u044c\\u0441\\u044f\",\"\\u043a\\u043e\\u043b\\u043b\",\"\\u043f\\u0440\\u0430\\u0432\\u043e\",\"\\u043e\\u0442\\u043a\\u0430\\u0437\\u044b\\u0432\\u0430\\u0442\\u044c\",\"\\u043e\\u0431\\u0435\\u0449\\u0430\\u0442\\u044c\",\"\\u043f\\u0440\\u043e\\u0433\\u0440\\u0430\\u043c\\u043c\\u0430\",\"\\u0441\\u043a\\u043e\\u043b\\u044c\\u043a\\u043e\",\"\\u043e\\u0447\\u0435\\u0440\\u0435\\u0434\\u043d\\u043e\\u0439\",\"\\u0440\\u0430\\u0441\\u0441\\u043c\\u0430\\u0442\\u0440\\u0438\\u0432\\u0430\\u0442\\u044c\",\"\\u043f\\u0440\\u0435\\u0434\\u043b\\u043e\\u0436\\u0435\\u043d\\u0438\\u0435\",\"\\u043a\\u043e\\u043f\\u0438\\u044f\",\"\\u043d\\u0430\\u043b\\u0438\\u0447\\u043d\\u044b\\u0439\",\"\\u0434\\u0430\\u043b\\u0435\\u043a\\u043e\",\"\\u043f\\u043e\\u043b\\u0430\\u0433\\u0430\\u0442\\u044c\",\"\\u0436\\u0430\\u043b\\u043e\\u0431\\u0430\",\"\\u0432\\u043e\\u0437\\u0432\\u0440\\u0430\\u0442\",\"\\u0434\\u043e\\u043b\\u0433\\u043e\",\"\\u043c\\u0430\\u0433\\u0430\\u0437\\u0438\\u043d\",\"\\u0443\\u0442\\u0440\\u043e\",\"\\u043d\\u0430\\u0437\\u044b\\u0432\\u0430\\u0442\\u044c\",\"\\u0441\\u0443\\u0434\",\"\\u0434\\u043e\\u043f\\u043e\\u043b\\u043d\\u0438\\u0442\\u0435\\u043b\\u044c\\u043d\\u044b\\u0439\",\"\\u043a\\u043e\\u0434\",\"\\u043d\\u0430\\u0447\\u0438\\u043d\\u0430\\u0442\\u044c\\u0441\\u044f\",\"\\u0442\\u0430\\u0440\\u0438\\u0444\",\"\\u0432\\u044b\\u0434\\u0430\\u0447\\u0430\",\"\\u044d\\u043b\\u0435\\u043a\\u0442\\u0440\\u043e\\u043d\\u043d\\u044b\\u0439\",\"\\u043f\\u043e\\u0440\\u044f\\u0434\\u043e\\u043a\",\"\\u0438\\u043c\\u044f\",\"\\u0432\\u0435\\u0447\\u0435\\u0440\",\"\\u0440\\u0443\\u043a\\u0430\",\"\\u0440\\u0430\\u0441\\u0441\\u043a\\u0430\\u0437\\u044b\\u0432\\u0430\\u0442\\u044c\",\"\\u043e\\u0441\\u0442\\u0430\\u0442\\u043e\\u043a\",\"\\u043e\\u0434\\u043e\\u0431\\u0440\\u044f\\u0442\\u044c\",\"\\u0440\\u0430\\u0437\\u0433\\u043e\\u0432\\u043e\\u0440\",\"\\u0434\\u0435\\u043d\\u044c!\",\"\\u043f\\u043e\\u0434\\u043a\\u043b\\u044e\\u0447\\u0430\\u0442\\u044c\",\"\\u043b\\u0438\\u0447\\u043d\\u044b\\u0439\",\"\\u0432\\u0438\\u0434\\u0438\\u043c\\u043e\",\"\\u0433\\u043e\\u0442\\u043e\\u0432\\u044b\\u0439\",\"\\u0440\\u043e\\u0441\\u0441\\u0438\\u044f\",\"\\u043f\\u0440\\u0435\\u0434\\u0441\\u0442\\u0430\\u0432\\u0438\\u0442\\u0435\\u043b\\u044c\",\"\\u043f\\u0430\\u0440\\u0430\",\"\\u0442\\u044b\\u0441\\u044f\\u0447\\u0430\",\"\\u0437\\u0430\\u043f\\u0440\\u043e\\u0441\",\"\\u0434\\u0430\\u043b\\u0435\\u0435\",\"\\u0442\\u0440\\u0435\\u0431\\u043e\\u0432\\u0430\\u0442\\u044c\",\"\\u044f\\u043d\\u0432\\u0430\\u0440\\u044c\",\"\\u043f\\u043e\\u0434\\u0442\\u0432\\u0435\\u0440\\u0436\\u0434\\u0430\\u0442\\u044c\",\"\\u0434\\u043e\\u0441\\u0440\\u043e\\u0447\\u043d\\u044b\\u0439\",\"\\u0437\\u0430\\u0439\\u0442\\u0438\",\"\\u043d\\u0435\\u043e\\u0431\\u0445\\u043e\\u0434\\u0438\\u043c\\u044b\\u0439\",\"\\u043f\",\"\\u043c\\u0430\\u0440\\u0442\",\"\\u0440\\u0430\\u0431\\u043e\\u0442\\u043d\\u0438\\u043a\",\"\\u043e\\u0431\\u0440\\u0430\\u0437\",\"\\u0437\\u0430\\u043a\\u0430\\u0437\\u044b\\u0432\\u0430\\u0442\\u044c\",\"\\u043e\\u0440\\u0433\\u0430\\u043d\\u0438\\u0437\\u0430\\u0446\\u0438\\u044f\",\"\\u0437\\u0430\\u043d\\u0438\\u043c\\u0430\\u0442\\u044c\",\"\\u043a\\u0430\\u0441\\u0441\\u0438\\u0440\",\"\\u0440\\u0430\\u0437\\u043d\\u044b\\u0439\",\"\\u0434\\u0435\\u043f\\u043e\\u0437\\u0438\\u0442\",\"\\u043d\\u0435\\u043e\\u0431\\u0445\\u043e\\u0434\\u0438\\u043c\\u043e\",\"\\u0441\\u0435\\u0440\\u0432\\u0438\\u0441\",\"\\u0430\\u043d\\u043a\\u0435\\u0442\\u0430\",\"\\u043f\\u043e\\u0436\\u0430\\u043b\\u0443\\u0439\\u0441\\u0442\\u0430\",\"\\u0432\\u044b\\u044f\\u0441\\u043d\\u044f\\u0442\\u044c\\u0441\\u044f\",\"\\u0432\\u043d\\u0438\\u043c\\u0430\\u043d\\u0438\\u0435\",\"\\u043e\\u0446\\u0435\\u043d\\u043a\\u0430\",\"\\u043f\\u0440\\u0438\\u0447\\u0435\\u043c\",\"\\u043f\\u0435\\u0440\\u0438\\u043e\\u0434\",\"\\u0444\\u0430\\u043a\\u0442\",\"\\u0430\\u043f\\u0440\\u0435\\u043b\\u044c\",\"\\u043a\\u043e\\u043c\\u043f\\u0430\\u043d\\u0438\\u044f\",\"\\u0440\\u0444\",\"\\u043b\",\"\\u0442\\u043e\\u0447\\u043d\\u043e\",\"\\u043f\\u043e\\u0432\\u043e\\u0434\",\"\\u0447\\u0435\\u043a\",\"\\u0441\\u043d\\u0430\\u0447\\u0430\\u043b\\u0430\",\"\\u043c\\u0430\\u0439\",\"\\u0437\\u0430\\u043f\\u043b\\u0430\\u0442\\u0438\\u0442\\u044c\",\"\\u0432\\u044b\\u0445\\u043e\\u0434\\u0438\\u0442\\u044c\",\"\\u043a\\u0443\\u0440\\u0441\",\"\\u0441\\u0442\\u0440\\u0430\\u0445\\u043e\\u0432\\u0430\\u043d\\u0438\\u0435\",\"\\u0431\\u043b\\u0438\\u0437\\u043a\\u0438\\u0439\",\"\\u0443\\u0432\\u0430\\u0436\\u0430\\u0435\\u043c\\u044b\\u0439\",\"\\u0448\\u0442\\u0440\\u0430\\u0444\",\"\\u043f\\u0435\\u0440\\u0435\\u0434\\u0430\\u0432\\u0430\\u0442\\u044c\",\"\\u0442\\u0435\\u0445\\u043d\\u0438\\u0447\\u0435\\u0441\\u043a\\u0438\\u0439\",\"\\u043d\\u0435\\u043a\\u043e\\u0442\\u043e\\u0440\\u044b\\u0439\",\"\\u043f\\u043e\\u043f\\u044b\\u0442\\u043a\\u0430\",\"\\u043f\\u043e\\u043b\\u043e\\u0436\\u0438\\u0442\\u0435\\u043b\\u044c\\u043d\\u044b\\u0439\",\"\\u0443\\u0432\\u0438\\u0434\\u0435\\u0442\\u044c\",\"\\u0434\\u043e\\u0437\\u0432\\u0430\\u043d\\u0438\\u0432\\u0430\\u0442\\u044c\\u0441\\u044f\",\"\\u0442\\u0440\\u0435\\u0431\\u043e\\u0432\\u0430\\u043d\\u0438\\u0435\",\"\\u0440\\u0430\\u043d\\u043e\",\"\\u0444\\u043e\\u0440\\u043c\\u0430\",\"\\u043f\\u043e\\u044f\\u0432\\u043b\\u044f\\u0442\\u044c\\u0441\\u044f\",\"\\u043a\\u0430\\u0447\\u0435\\u0441\\u0442\\u0432\\u043e\",\"\\u043f\\u0440\\u043e\\u0434\\u0443\\u043a\\u0442\",\"\\u043b\\u0430\\u0434\\u043d\\u043e\",\"\\u0442\\u0440\\u0435\\u0442\\u0438\\u0439\",\"\\u0444\\u0435\\u0432\\u0440\\u0430\\u043b\\u044c\",\"\\u043d\\u043e\\u044f\\u0431\\u0440\\u044c\",\"\\u043f\\u043e\\u0434\\u043e\\u0431\\u043d\\u044b\\u0439\",\"\\u0432\\u0447\\u0435\\u0440\\u0430\",\"\\u0432\\u0438\\u0434\",\"(\\u0432\",\"\\u0445\",\"\\u043a\\u0432\\u0430\\u0440\\u0442\\u0438\\u0440\\u0430\",\"\\u0434\\u0435\\u0439\\u0441\\u0442\\u0432\\u0438\\u0442\\u0435\\u043b\\u044c\\u043d\\u043e\",\"\\u043a\\u0440\\u043e\\u043c\\u0435\",\"\\u0441\\u043e\\u0436\\u0430\\u043b\\u0435\\u043d\\u0438\\u0435\",\"\\u043f\\u043e\\u0441\\u043c\\u043e\\u0442\\u0440\\u0435\\u0442\\u044c\",\"\\u0432\\u044b\\u0431\\u0438\\u0440\\u0430\\u0442\\u044c\",\"\\u0437\\u0430\\u043a\\u0430\\u043d\\u0447\\u0438\\u0432\\u0430\\u0442\\u044c\\u0441\\u044f\",\"\\u0447\\u0430\\u0441\\u0442\\u044c\",\"\\u0441\\u043e\\u0432\\u0435\\u0440\\u0448\\u0430\\u0442\\u044c\",\"\\u043f\\u043e\\u043f\\u0430\\u0434\\u0430\\u0442\\u044c\",\"\\u043e\\u0431\\u0449\\u0435\\u043d\\u0438\\u0435\",\"\\u0441\\u0438\\u0434\\u0435\\u0442\\u044c\",\"\\u043f\\u043e\\u043f\\u043e\\u043b\\u043d\\u044f\\u0442\\u044c\",\"\\u0435\\u0445\\u0430\\u0442\\u044c\",\"\\u0442\\u0443\\u0434\\u0430\",\"\\u0432\\u043e\\u043f\\u0440\\u043e\\u0441:\",\"\\u043e\\u043a\\u0442\\u044f\\u0431\\u0440\\u044c\",\"\\u043d\\u0430\\u0447\\u0430\\u043b\\u043e\",\"\\u0432\\u0432\\u043e\\u0434\\u0438\\u0442\\u044c\",\"\\u043f\\u043e\\u0437\\u0434\\u043d\\u043e\",\"\\u043f\\u043b\\u0430\\u0442\\u0430\",\"\\u0443\\u0432\\u0435\\u0434\\u043e\\u043c\\u043b\\u0435\\u043d\\u0438\\u0435\",\"\\u0432\\u043e\\u0441\\u043f\\u043e\\u043b\\u044c\\u0437\\u043e\\u0432\\u0430\\u0442\\u044c\\u0441\\u044f\",\"\\u0433\\u043e\\u0434\\u043e\\u0432\\u043e\\u0439\",\"\\u043a\\u0443\\u043f\\u044e\\u0440\\u0430\",\"\\u043f\\u043e\\u043c\\u043e\\u0449\\u044c\",\"\\u0440\\u0443\\u043a\\u043e\\u0432\\u043e\\u0434\\u0441\\u0442\\u0432\\u043e\",\"\\u043e\\u0431\\u0441\\u043b\\u0443\\u0436\\u0438\\u0432\\u0430\\u0442\\u044c\",\"\\u0434\\u0430\\u0432\\u043d\\u043e\",\"\\u043f\\u043e\\u0434\\u043e\\u0436\\u0434\\u0430\\u0442\\u044c\",\"\\u043f\\u0440\\u0438\\u0441\\u044b\\u043b\\u0430\\u0442\\u044c\",\"\\u0432\\u044b\\u044f\\u0441\\u043d\\u044f\\u0442\\u044c\",\"\\u0430\\u0432\\u0433\\u0443\\u0441\\u0442\",\"\\u043e\\u0442\\u0434\\u0430\\u0432\\u0430\\u0442\\u044c\",\"\\u043d\\u0430\\u0447\\u0438\\u0441\\u043b\\u044f\\u0442\\u044c\",\"\\u0442\\u0440\\u0443\\u0431\\u043a\\u0430\",\"\\u0433\\u0440\\u0430\\u0444\\u0438\\u043a\",\"\\u0441\\u0435\\u043d\\u0442\\u044f\\u0431\\u0440\\u044c\",\"\\u0437\\u0430\\u043d\\u0438\\u043c\\u0430\\u0442\\u044c\\u0441\\u044f\",\"visa\",\"\\u043e\\u0436\\u0438\\u0434\\u0430\\u043d\\u0438\\u0435\",\"\\u0441\\u0431\\u043e\\u0439\",\"\\u043e\\u0441\\u043d\\u043e\\u0432\\u0430\\u043d\\u0438\\u0435\",\"\\u0432\\u043f\\u0435\\u0447\\u0430\\u0442\\u043b\\u0435\\u043d\\u0438\\u0435\",\"\\u0434\\u043e\\u0441\\u0442\\u0430\\u0442\\u043e\\u0447\\u043d\\u043e\",\"\\u043f\\u0440\\u0438\\u043c\\u0435\\u0440\\u043d\\u043e\",\"\\u0432\\u043e\\u0437\\u043c\\u043e\\u0436\\u043d\\u043e\",\"\\u0437\\u0430\\u043a\\u043e\\u043d\",\"\\u043f\\u043e\\u0442\\u0440\\u0430\\u0442\\u0438\\u0442\\u044c\",\"\\u0441\\u043e\\u0431\\u0438\\u0440\\u0430\\u0442\\u044c\\u0441\\u044f\",\"\\u043f\\u043e\\u0441\\u0442\\u0430\\u0432\\u043b\\u044f\\u0442\\u044c\",\"\\u0434\\u0440\\u0443\\u0433\",\"\\u043f\\u0440\\u043e\\u0438\\u0437\\u0432\\u043e\\u0434\\u0438\\u0442\\u044c\",\"\\u0435\\u0441\\u0442\\u0435\\u0441\\u0442\\u0432\\u0435\\u043d\\u043d\\u043e\",\"\\u0437\\u0430\\u0447\\u0438\\u0441\\u043b\\u044f\\u0442\\u044c\",\"\\u0435\\u0436\\u0435\\u043c\\u0435\\u0441\\u044f\\u0447\\u043d\\u044b\\u0439\",\"\\u0432\\u044b\\u043f\\u043e\\u043b\\u043d\\u044f\\u0442\\u044c\",\"\\u0441\\u0442\\u0440\\u0430\\u0445\\u043e\\u0432\\u043e\\u0439\",\"\\u0431\\u0435\\u0437\\u043e\\u043f\\u0430\\u0441\\u043d\\u043e\\u0441\\u0442\\u044c\",\"\\u0441\\u0442\\u0430\\u0440\\u044b\\u0439\",\"\\u0432\\u044b\\u043f\\u0443\\u0441\\u043a\\u0430\\u0442\\u044c\",\"\\u043f\\u043e\\u0441\\u043a\\u043e\\u043b\\u044c\\u043a\\u0443\",\"\\u0446\\u0435\\u043b\\u044c\",\"\\u043f\\u043e\\u043b\\u043d\\u043e\\u0441\\u0442\\u044c\\u044e\",\"\\u043f\\u0440\\u0438\\u0439\\u0442\\u0438\",\"\\u043f\\u0435\\u0440\\u0435\\u0432\\u044b\\u043f\\u0443\\u0441\\u043a\",\"\\u043f\\u043e\\u0442\\u0435\\u0440\\u044f\\u0442\\u044c\",\"\\u0442\\u0435\\u043a\\u0443\\u0449\\u0438\\u0439\",\"\\u043e\\u0442\\u0441\\u0443\\u0442\\u0441\\u0442\\u0432\\u0438\\u0435\",\"\\u0437\\u0430\\u044f\\u0432\\u043b\\u044f\\u0442\\u044c\",\"\\u0437\\u0430\\u0431\\u044b\\u0432\\u0430\\u0442\\u044c\",\"\\u043b\\u0438\\u0447\\u043d\\u043e\",\"\\u0432\\u0440\\u043e\\u0434\\u0435\",\"\\u0437\\u0430\\u0432\\u0442\\u0440\\u0430\",\"\\u0443\\u043a\\u0430\\u0437\\u0430\\u043d\\u043d\\u044b\\u0439\",\"\\u0440\\u0443\\u0441\\u0441\\u043a\\u0438\\u0439\",\"\\u0443\\u0434\\u043e\\u0431\\u043d\\u044b\\u0439\",\"\\u0441\\u0431\\u0435\\u0440\",\"\\u043f\\u043b\\u044e\\u0441\",\"\\u0441\\u043a\\u043b\\u0430\\u0434\\u044b\\u0432\\u0430\\u0442\\u044c\\u0441\\u044f\",\"\\u0438\\u044e\\u043b\\u044c\",\"\\u0433\\u043e\",\"\\u0436\\u0438\\u0437\\u043d\\u044c\",\"\\u0440\\u0443\\u043a\\u043e\\u0432\\u043e\\u0434\\u0438\\u0442\\u0435\\u043b\\u044c\",\"\\u043a\\u043e\",\"\\u043f\\u043e\\u0441\\u0442\\u043e\\u044f\\u043d\\u043d\\u043e\",\"\\u043e\\u0431\\u0449\\u0430\\u0442\\u044c\\u0441\\u044f\",\"s\",\"\\u0443\\u0441\\u0442\\u0440\\u0430\\u0438\\u0432\\u0430\\u0442\\u044c\",\"\\u0431\\u0435\\u0441\\u043f\\u043b\\u0430\\u0442\\u043d\\u044b\\u0439\",\"\\u0434\\u043e\\u043f\\u044b\",\"\\u043b\\u0438\\u0448\\u044c\",\"\\u0432\\u0430\\u043b\\u044e\\u0442\\u0430\",\"\\u0438\\u043f\\u043e\\u0442\\u0435\\u043a\\u0430\",\"\\u043e\\u0431\\u043d\\u0430\\u0440\\u0443\\u0436\\u0438\\u0432\\u0430\\u0442\\u044c\",\"\\u0440\\u0430\\u0432\\u043d\\u044b\\u0439\",\"\\u0440\\u0430\\u043d\\u0435\\u0435\",\"\\u043f\\u0440\\u0430\\u0432\\u0438\\u043b\\u043e\",\"\\u0435\\u0434\\u0438\\u043d\\u0441\\u0442\\u0432\\u0435\\u043d\\u043d\\u044b\\u0439\",\"\\u0437\\u0430\\u0434\\u0430\\u0432\\u0430\\u0442\\u044c\",\"\\u043e\\u0431\\u0441\\u043b\\u0443\\u0436\\u0438\\u0432\\u0430\\u0442\\u044c\\u0441\\u044f\",\"\\u043f\\u0440\\u0430\\u0432\\u0434\\u0430\",\"\\u043a\\u0441\\u0442\\u0430\\u0442\\u0438\",\"\\u0441\\u0442\\u0430\\u043b\\u043a\\u0438\\u0432\\u0430\\u0442\\u044c\\u0441\\u044f\",\"\\u0431\\u0430\\u043d\\u043a!\",\"\\u0442\\u0435\\u043b\\u0435\\u0444\\u043e\\u043d\\u043d\\u044b\\u0439\",\"\\u043f\\u0440\\u0438\\u043d\\u043e\\u0441\\u0438\\u0442\\u044c\",\"\\u0431\\u0430\\u043b\\u0430\\u043d\\u0441\",\"\\u043e\\u043f\\u0435\\u0440\\u0430\\u0446\\u0438\\u043e\\u043d\\u0438\\u0441\\u0442\\u043a\\u0430\",\"\\u0438\\u044e\\u043d\\u044c\",\"\\u0441\\u0442\\u0430\\u043d\\u0434\\u0430\\u0440\\u0442\"],\"x1\":{\"__ndarray__\":\"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\",\"dtype\":\"float32\",\"shape\":[500]},\"x2\":{\"__ndarray__\":\"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\",\"dtype\":\"float32\",\"shape\":[500]}}},\"id\":\"6295510a-051a-46d0-9cef-bfb1680102e7\",\"type\":\"ColumnDataSource\"},{\"attributes\":{\"plot\":null,\"text\":\"word2vec T-SNE for most common words\"},\"id\":\"5866fd67-5a88-4636-b216-9a0556bc6b07\",\"type\":\"Title\"},{\"attributes\":{},\"id\":\"ceb2ab98-3921-4cf2-af2c-15873ecadbfe\",\"type\":\"WheelZoomTool\"},{\"attributes\":{},\"id\":\"bf78b2f3-6298-4797-97bb-1c4d2e6f3b48\",\"type\":\"LinearScale\"},{\"attributes\":{},\"id\":\"f1bf32c8-9dad-4599-b974-510cd21c0f4f\",\"type\":\"BasicTickFormatter\"}],\"root_ids\":[\"0f3d1deb-5512-44a8-8619-03a5b1007417\"]},\"title\":\"Bokeh Application\",\"version\":\"0.12.10\"}};\n",
       "    var render_items = [{\"docid\":\"2a07bf18-5330-4224-be1d-dd3478fb1f22\",\"elementid\":\"48953606-ac94-4f83-b38c-46423bba9f1b\",\"modelid\":\"0f3d1deb-5512-44a8-8619-03a5b1007417\"}];\n",
       "\n",
       "    root.Bokeh.embed.embed_items(docs_json, render_items);\n",
       "  }\n",
       "\n",
       "  if (root.Bokeh !== undefined) {\n",
       "    embed_document(root);\n",
       "  } else {\n",
       "    var attempts = 0;\n",
       "    var timer = setInterval(function(root) {\n",
       "      if (root.Bokeh !== undefined) {\n",
       "        embed_document(root);\n",
       "        clearInterval(timer);\n",
       "      }\n",
       "      attempts++;\n",
       "      if (attempts > 100) {\n",
       "        console.log(\"Bokeh: ERROR: Unable to embed document because BokehJS library is missing\")\n",
       "        clearInterval(timer);\n",
       "      }\n",
       "    }, 10, root)\n",
       "  }\n",
       "})(window);"
      ],
      "application/vnd.bokehjs_exec.v0+json": ""
     },
     "metadata": {
      "application/vnd.bokehjs_exec.v0+json": {
       "id": "0f3d1deb-5512-44a8-8619-03a5b1007417"
      }
     },
     "output_type": "display_data"
    }
   ],
   "source": [
    "from bokeh.models import ColumnDataSource, LabelSet\n",
    "from bokeh.plotting import figure, show, output_file\n",
    "from bokeh.io import output_notebook\n",
    "output_notebook()\n",
    "\n",
    "p = figure(tools=\"pan,wheel_zoom,reset,save\",\n",
    "           toolbar_location=\"above\",\n",
    "           title=\"word2vec T-SNE for most common words\")\n",
    "\n",
    "source = ColumnDataSource(data=dict(x1=top_words_tsne[:,0],\n",
    "                                    x2=top_words_tsne[:,1],\n",
    "                                    names=top_words))\n",
    "\n",
    "p.scatter(x=\"x1\", y=\"x2\", size=8, source=source)\n",
    "\n",
    "labels = LabelSet(x=\"x1\", y=\"x2\", text=\"names\", y_offset=6,\n",
    "                  text_font_size=\"8pt\", text_color=\"#555555\",\n",
    "                  source=source, text_align='center')\n",
    "p.add_layout(labels)\n",
    "\n",
    "show(p)"
   ]
  },
  {
   "cell_type": "code",
   "execution_count": 32,
   "metadata": {
    "collapsed": true
   },
   "outputs": [],
   "source": [
    "#На визуализации видно, что радом расположены слова \"Снятие\", \"снимать\", \"вносить\", \"полагать\", \"переводить\", \"пополнять\"\n",
    "#\"поступать\", \"зачисление\", \"зачислять\", \"начислять\", \"возврат\" - все их можно отнести к кластеру Работа с банковской картой\n",
    "#Другой кластер - \"номер\", \"телефон\", \"колл\", \"телефонный\", \"трубка\". Можно их обозначить как Обращения по телефону\n",
    "#Еще один кластер - \"тысяча\", \"рубль\", \"руб\", \"размер\", \"сумма\". Можно их обозначить как Информация о деньгах"
   ]
  },
  {
   "cell_type": "markdown",
   "metadata": {},
   "source": [
    "## Часть 2. Распространение метки [50 баллов]\n",
    "\n",
    "Определите 5-8 позитивных слов (например, “быстрый”, “удобный”) и 5-8  негативных слов (например,“очередь”, “медленно”). Эти слова будут основной будущего оценочного словаря. Пусть позитивному классу соответствует метка 1, негативному – -1. Пометьте выбранные слова в лексическом графе соответствующими метками. Запустите любой известный вам метод распространения метки (Label Propogation) в лексическом графе. На выходе метода распространения ошибки должны быть новые слова, помеченные метками 1 и -1 – это и есть искомые оценочные слова.\n",
    "\n",
    "Алгоритмы распространения метки устроены примерно так: пусть мы находимся в выршине, помеченном +1. С какой-то вероятностью мы переносим эту метку на соседние узлы. С меньшей вероятностью переносим ее на вершины на расстоянии два. В конце распространения метки, часть вершин оказывается помечена меткой +1, часть – -1, большая часть остается без метки.\n",
    "\n",
    "Рекомендуемые алгоритмы распространения метки:\n",
    "1. ```graphlab.label_propagation``` (```graphlab``` доступен бесплатно по образовательной лицензии)\n",
    "2. ```sklearn.semi_supervised.LabelPropagation``` \n",
    "3. ```sklearn.semi_supervised.LabelSpreading```"
   ]
  },
  {
   "cell_type": "code",
   "execution_count": 40,
   "metadata": {},
   "outputs": [
    {
     "ename": "AttributeError",
     "evalue": "module 'jgraph' has no attribute 'Graph'",
     "output_type": "error",
     "traceback": [
      "\u001b[0;31m---------------------------------------------------------------------------\u001b[0m",
      "\u001b[0;31mAttributeError\u001b[0m                            Traceback (most recent call last)",
      "\u001b[0;32m<ipython-input-40-81f4063f4b04>\u001b[0m in \u001b[0;36m<module>\u001b[0;34m()\u001b[0m\n\u001b[1;32m      2\u001b[0m \u001b[0;34m\u001b[0m\u001b[0m\n\u001b[1;32m      3\u001b[0m \u001b[0;32mimport\u001b[0m \u001b[0mjgraph\u001b[0m \u001b[0;32mas\u001b[0m \u001b[0mig\u001b[0m\u001b[0;34m\u001b[0m\u001b[0m\n\u001b[0;32m----> 4\u001b[0;31m \u001b[0mg\u001b[0m \u001b[0;34m=\u001b[0m \u001b[0mig\u001b[0m\u001b[0;34m.\u001b[0m\u001b[0mGraph\u001b[0m\u001b[0;34m(\u001b[0m\u001b[0mdirected\u001b[0m\u001b[0;34m=\u001b[0m\u001b[0;32mTrue\u001b[0m\u001b[0;34m)\u001b[0m\u001b[0;34m\u001b[0m\u001b[0m\n\u001b[0m\u001b[1;32m      5\u001b[0m \u001b[0;32mfor\u001b[0m \u001b[0mword\u001b[0m \u001b[0;32min\u001b[0m \u001b[0mmodel\u001b[0m\u001b[0;34m.\u001b[0m\u001b[0mwv\u001b[0m\u001b[0;34m.\u001b[0m\u001b[0mvocab\u001b[0m\u001b[0;34m.\u001b[0m\u001b[0mkeys\u001b[0m\u001b[0;34m(\u001b[0m\u001b[0;34m)\u001b[0m\u001b[0;34m:\u001b[0m\u001b[0;34m\u001b[0m\u001b[0m\n\u001b[1;32m      6\u001b[0m     \u001b[0mg\u001b[0m\u001b[0;34m.\u001b[0m\u001b[0madd_vertex\u001b[0m\u001b[0;34m(\u001b[0m\u001b[0mword\u001b[0m\u001b[0;34m)\u001b[0m\u001b[0;34m\u001b[0m\u001b[0m\n",
      "\u001b[0;31mAttributeError\u001b[0m: module 'jgraph' has no attribute 'Graph'"
     ]
    }
   ],
   "source": [
    "# пример построения графа \n",
    "\n",
    "import jgraph as ig\n",
    "g = ig.Graph(directed=True)\n",
    "for word in model.wv.vocab.keys():\n",
    "    g.add_vertex(word)\n",
    "    \n",
    "    \n",
    "    \n",
    "for word in model.wv.vocab.keys() :\n",
    "    node = g.vs.select(name = word).indices[0]\n",
    "    similar_words = model.most_similar(word, topn=5)\n",
    "    for sim in similar_words:\n",
    "        word1 = sim[0]\n",
    "        val  = sim[1]\n",
    "        new_node = g.vs.select(name = word1).indices[0]\n",
    "        g.add_edge(node, new_node, weight = val)"
   ]
  },
  {
   "cell_type": "code",
   "execution_count": null,
   "metadata": {
    "collapsed": true
   },
   "outputs": [],
   "source": []
  }
 ],
 "metadata": {
  "kernelspec": {
   "display_name": "Python 3",
   "language": "python",
   "name": "python3"
  },
  "language_info": {
   "codemirror_mode": {
    "name": "ipython",
    "version": 3
   },
   "file_extension": ".py",
   "mimetype": "text/x-python",
   "name": "python",
   "nbconvert_exporter": "python",
   "pygments_lexer": "ipython3",
   "version": "3.6.3"
  }
 },
 "nbformat": 4,
 "nbformat_minor": 2
}
