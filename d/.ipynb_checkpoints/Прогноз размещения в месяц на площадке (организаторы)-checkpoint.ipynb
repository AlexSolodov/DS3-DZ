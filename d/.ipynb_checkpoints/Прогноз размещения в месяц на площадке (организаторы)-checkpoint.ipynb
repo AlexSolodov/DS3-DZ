{
 "cells": [
  {
   "cell_type": "markdown",
   "metadata": {},
   "source": [
    "### Прогноз размещения на площадке (организаторы) "
   ]
  },
  {
   "cell_type": "code",
   "execution_count": 1,
   "metadata": {
    "collapsed": true
   },
   "outputs": [],
   "source": [
    "import pandas as pd\n",
    "import numpy as np\n",
    "%matplotlib inline\n",
    "\n",
    "from sklearn.metrics import mean_squared_log_error\n",
    "from sklearn.ensemble import RandomForestRegressor\n",
    "from sklearn.linear_model import LinearRegression\n",
    "from lightgbm import LGBMRegressor"
   ]
  },
  {
   "cell_type": "code",
   "execution_count": 2,
   "metadata": {
    "collapsed": true
   },
   "outputs": [],
   "source": [
    "import matplotlib.pyplot as plt\n",
    "from matplotlib import rcParams\n",
    "rcParams['font.family'] = 'sans-serif'\n",
    "rcParams['font.sans-serif'] = ['DejaVu Sans']\n",
    "#Немоного изменим параметры вывода графиков\n",
    "rcParams['figure.figsize'] = 18,10"
   ]
  },
  {
   "cell_type": "code",
   "execution_count": 3,
   "metadata": {
    "scrolled": true
   },
   "outputs": [
    {
     "data": {
      "text/html": [
       "<div>\n",
       "<style>\n",
       "    .dataframe thead tr:only-child th {\n",
       "        text-align: right;\n",
       "    }\n",
       "\n",
       "    .dataframe thead th {\n",
       "        text-align: left;\n",
       "    }\n",
       "\n",
       "    .dataframe tbody tr th {\n",
       "        vertical-align: top;\n",
       "    }\n",
       "</style>\n",
       "<table border=\"1\" class=\"dataframe\">\n",
       "  <thead>\n",
       "    <tr style=\"text-align: right;\">\n",
       "      <th></th>\n",
       "      <th>OrgID</th>\n",
       "      <th>M1</th>\n",
       "      <th>M2</th>\n",
       "      <th>M3</th>\n",
       "      <th>M4</th>\n",
       "      <th>M5</th>\n",
       "      <th>M6</th>\n",
       "      <th>M7</th>\n",
       "      <th>M8</th>\n",
       "      <th>M9</th>\n",
       "      <th>...</th>\n",
       "      <th>M27</th>\n",
       "      <th>M28</th>\n",
       "      <th>M29</th>\n",
       "      <th>M30</th>\n",
       "      <th>M31</th>\n",
       "      <th>M32</th>\n",
       "      <th>M33</th>\n",
       "      <th>M34</th>\n",
       "      <th>M35</th>\n",
       "      <th>M36</th>\n",
       "    </tr>\n",
       "  </thead>\n",
       "  <tbody>\n",
       "    <tr>\n",
       "      <th>0</th>\n",
       "      <td>4846562</td>\n",
       "      <td>0</td>\n",
       "      <td>0</td>\n",
       "      <td>0</td>\n",
       "      <td>0</td>\n",
       "      <td>0</td>\n",
       "      <td>0</td>\n",
       "      <td>0</td>\n",
       "      <td>0</td>\n",
       "      <td>0</td>\n",
       "      <td>...</td>\n",
       "      <td>6</td>\n",
       "      <td>5</td>\n",
       "      <td>15</td>\n",
       "      <td>1</td>\n",
       "      <td>0</td>\n",
       "      <td>3</td>\n",
       "      <td>1</td>\n",
       "      <td>0</td>\n",
       "      <td>0</td>\n",
       "      <td>0</td>\n",
       "    </tr>\n",
       "    <tr>\n",
       "      <th>1</th>\n",
       "      <td>2654622</td>\n",
       "      <td>0</td>\n",
       "      <td>0</td>\n",
       "      <td>0</td>\n",
       "      <td>1</td>\n",
       "      <td>0</td>\n",
       "      <td>0</td>\n",
       "      <td>0</td>\n",
       "      <td>0</td>\n",
       "      <td>0</td>\n",
       "      <td>...</td>\n",
       "      <td>5</td>\n",
       "      <td>7</td>\n",
       "      <td>1</td>\n",
       "      <td>5</td>\n",
       "      <td>5</td>\n",
       "      <td>3</td>\n",
       "      <td>2</td>\n",
       "      <td>0</td>\n",
       "      <td>0</td>\n",
       "      <td>0</td>\n",
       "    </tr>\n",
       "    <tr>\n",
       "      <th>2</th>\n",
       "      <td>2683009</td>\n",
       "      <td>0</td>\n",
       "      <td>0</td>\n",
       "      <td>0</td>\n",
       "      <td>0</td>\n",
       "      <td>0</td>\n",
       "      <td>0</td>\n",
       "      <td>0</td>\n",
       "      <td>0</td>\n",
       "      <td>0</td>\n",
       "      <td>...</td>\n",
       "      <td>2</td>\n",
       "      <td>2</td>\n",
       "      <td>6</td>\n",
       "      <td>4</td>\n",
       "      <td>0</td>\n",
       "      <td>3</td>\n",
       "      <td>1</td>\n",
       "      <td>0</td>\n",
       "      <td>0</td>\n",
       "      <td>0</td>\n",
       "    </tr>\n",
       "    <tr>\n",
       "      <th>3</th>\n",
       "      <td>4852135</td>\n",
       "      <td>0</td>\n",
       "      <td>0</td>\n",
       "      <td>0</td>\n",
       "      <td>0</td>\n",
       "      <td>0</td>\n",
       "      <td>0</td>\n",
       "      <td>0</td>\n",
       "      <td>0</td>\n",
       "      <td>0</td>\n",
       "      <td>...</td>\n",
       "      <td>1</td>\n",
       "      <td>0</td>\n",
       "      <td>0</td>\n",
       "      <td>1</td>\n",
       "      <td>0</td>\n",
       "      <td>0</td>\n",
       "      <td>2</td>\n",
       "      <td>0</td>\n",
       "      <td>0</td>\n",
       "      <td>0</td>\n",
       "    </tr>\n",
       "    <tr>\n",
       "      <th>4</th>\n",
       "      <td>2707151</td>\n",
       "      <td>0</td>\n",
       "      <td>0</td>\n",
       "      <td>10</td>\n",
       "      <td>0</td>\n",
       "      <td>1</td>\n",
       "      <td>1</td>\n",
       "      <td>0</td>\n",
       "      <td>0</td>\n",
       "      <td>5</td>\n",
       "      <td>...</td>\n",
       "      <td>0</td>\n",
       "      <td>0</td>\n",
       "      <td>0</td>\n",
       "      <td>0</td>\n",
       "      <td>0</td>\n",
       "      <td>0</td>\n",
       "      <td>0</td>\n",
       "      <td>0</td>\n",
       "      <td>0</td>\n",
       "      <td>0</td>\n",
       "    </tr>\n",
       "  </tbody>\n",
       "</table>\n",
       "<p>5 rows × 37 columns</p>\n",
       "</div>"
      ],
      "text/plain": [
       "     OrgID  M1  M2  M3  M4  M5  M6  M7  M8  M9 ...   M27  M28  M29  M30  M31  \\\n",
       "0  4846562   0   0   0   0   0   0   0   0   0 ...     6    5   15    1    0   \n",
       "1  2654622   0   0   0   1   0   0   0   0   0 ...     5    7    1    5    5   \n",
       "2  2683009   0   0   0   0   0   0   0   0   0 ...     2    2    6    4    0   \n",
       "3  4852135   0   0   0   0   0   0   0   0   0 ...     1    0    0    1    0   \n",
       "4  2707151   0   0  10   0   1   1   0   0   5 ...     0    0    0    0    0   \n",
       "\n",
       "   M32  M33  M34  M35  M36  \n",
       "0    3    1    0    0    0  \n",
       "1    3    2    0    0    0  \n",
       "2    3    1    0    0    0  \n",
       "3    0    2    0    0    0  \n",
       "4    0    0    0    0    0  \n",
       "\n",
       "[5 rows x 37 columns]"
      ]
     },
     "execution_count": 3,
     "metadata": {},
     "output_type": "execute_result"
    }
   ],
   "source": [
    "data = pd.read_excel('ОрганизаторыМесяца.xlsx')\n",
    "data.head()"
   ]
  },
  {
   "cell_type": "code",
   "execution_count": 4,
   "metadata": {},
   "outputs": [
    {
     "name": "stdout",
     "output_type": "stream",
     "text": [
      "<class 'pandas.core.frame.DataFrame'>\n",
      "RangeIndex: 13952 entries, 0 to 13951\n",
      "Data columns (total 37 columns):\n",
      "OrgID    13952 non-null int64\n",
      "M1       13952 non-null int64\n",
      "M2       13952 non-null int64\n",
      "M3       13952 non-null int64\n",
      "M4       13952 non-null int64\n",
      "M5       13952 non-null int64\n",
      "M6       13952 non-null int64\n",
      "M7       13952 non-null int64\n",
      "M8       13952 non-null int64\n",
      "M9       13952 non-null int64\n",
      "M10      13952 non-null int64\n",
      "M11      13952 non-null int64\n",
      "M12      13952 non-null int64\n",
      "M13      13952 non-null int64\n",
      "M14      13952 non-null int64\n",
      "M15      13952 non-null int64\n",
      "M16      13952 non-null int64\n",
      "M17      13952 non-null int64\n",
      "M18      13952 non-null int64\n",
      "M19      13952 non-null int64\n",
      "M20      13952 non-null int64\n",
      "M21      13952 non-null int64\n",
      "M22      13952 non-null int64\n",
      "M23      13952 non-null int64\n",
      "M24      13952 non-null int64\n",
      "M25      13952 non-null int64\n",
      "M26      13952 non-null int64\n",
      "M27      13952 non-null int64\n",
      "M28      13952 non-null int64\n",
      "M29      13952 non-null int64\n",
      "M30      13952 non-null int64\n",
      "M31      13952 non-null int64\n",
      "M32      13952 non-null int64\n",
      "M33      13952 non-null int64\n",
      "M34      13952 non-null int64\n",
      "M35      13952 non-null int64\n",
      "M36      13952 non-null int64\n",
      "dtypes: int64(37)\n",
      "memory usage: 3.9 MB\n"
     ]
    }
   ],
   "source": [
    "data.info()"
   ]
  },
  {
   "cell_type": "code",
   "execution_count": 5,
   "metadata": {},
   "outputs": [
    {
     "data": {
      "text/html": [
       "<div>\n",
       "<style>\n",
       "    .dataframe thead tr:only-child th {\n",
       "        text-align: right;\n",
       "    }\n",
       "\n",
       "    .dataframe thead th {\n",
       "        text-align: left;\n",
       "    }\n",
       "\n",
       "    .dataframe tbody tr th {\n",
       "        vertical-align: top;\n",
       "    }\n",
       "</style>\n",
       "<table border=\"1\" class=\"dataframe\">\n",
       "  <thead>\n",
       "    <tr style=\"text-align: right;\">\n",
       "      <th></th>\n",
       "      <th>OrgID</th>\n",
       "      <th>Month</th>\n",
       "      <th>Proc</th>\n",
       "    </tr>\n",
       "  </thead>\n",
       "  <tbody>\n",
       "    <tr>\n",
       "      <th>9562</th>\n",
       "      <td>2477540</td>\n",
       "      <td>1</td>\n",
       "      <td>0</td>\n",
       "    </tr>\n",
       "    <tr>\n",
       "      <th>23514</th>\n",
       "      <td>2477540</td>\n",
       "      <td>2</td>\n",
       "      <td>0</td>\n",
       "    </tr>\n",
       "    <tr>\n",
       "      <th>37466</th>\n",
       "      <td>2477540</td>\n",
       "      <td>3</td>\n",
       "      <td>0</td>\n",
       "    </tr>\n",
       "    <tr>\n",
       "      <th>51418</th>\n",
       "      <td>2477540</td>\n",
       "      <td>4</td>\n",
       "      <td>0</td>\n",
       "    </tr>\n",
       "    <tr>\n",
       "      <th>65370</th>\n",
       "      <td>2477540</td>\n",
       "      <td>5</td>\n",
       "      <td>0</td>\n",
       "    </tr>\n",
       "  </tbody>\n",
       "</table>\n",
       "</div>"
      ],
      "text/plain": [
       "         OrgID  Month  Proc\n",
       "9562   2477540      1     0\n",
       "23514  2477540      2     0\n",
       "37466  2477540      3     0\n",
       "51418  2477540      4     0\n",
       "65370  2477540      5     0"
      ]
     },
     "execution_count": 5,
     "metadata": {},
     "output_type": "execute_result"
    }
   ],
   "source": [
    "melt = data.melt(id_vars='OrgID', var_name='Month', value_name='Proc')\n",
    "\n",
    "melt['Month'] = melt['Month'].str.extract('(\\d+)', expand=False).astype(int)\n",
    "\n",
    "melt = melt.sort_values(['OrgID', 'Month'])\n",
    "melt.head()"
   ]
  },
  {
   "cell_type": "code",
   "execution_count": 6,
   "metadata": {},
   "outputs": [
    {
     "data": {
      "text/html": [
       "<div>\n",
       "<style>\n",
       "    .dataframe thead tr:only-child th {\n",
       "        text-align: right;\n",
       "    }\n",
       "\n",
       "    .dataframe thead th {\n",
       "        text-align: left;\n",
       "    }\n",
       "\n",
       "    .dataframe tbody tr th {\n",
       "        vertical-align: top;\n",
       "    }\n",
       "</style>\n",
       "<table border=\"1\" class=\"dataframe\">\n",
       "  <thead>\n",
       "    <tr style=\"text-align: right;\">\n",
       "      <th></th>\n",
       "      <th>OrgID</th>\n",
       "      <th>Month</th>\n",
       "      <th>Proc</th>\n",
       "      <th>Last_Month_Proc</th>\n",
       "      <th>Last_Month_Diff</th>\n",
       "    </tr>\n",
       "  </thead>\n",
       "  <tbody>\n",
       "    <tr>\n",
       "      <th>37466</th>\n",
       "      <td>2477540</td>\n",
       "      <td>3</td>\n",
       "      <td>0</td>\n",
       "      <td>0.0</td>\n",
       "      <td>0.0</td>\n",
       "    </tr>\n",
       "    <tr>\n",
       "      <th>51418</th>\n",
       "      <td>2477540</td>\n",
       "      <td>4</td>\n",
       "      <td>0</td>\n",
       "      <td>0.0</td>\n",
       "      <td>0.0</td>\n",
       "    </tr>\n",
       "    <tr>\n",
       "      <th>65370</th>\n",
       "      <td>2477540</td>\n",
       "      <td>5</td>\n",
       "      <td>0</td>\n",
       "      <td>0.0</td>\n",
       "      <td>0.0</td>\n",
       "    </tr>\n",
       "    <tr>\n",
       "      <th>79322</th>\n",
       "      <td>2477540</td>\n",
       "      <td>6</td>\n",
       "      <td>0</td>\n",
       "      <td>0.0</td>\n",
       "      <td>0.0</td>\n",
       "    </tr>\n",
       "    <tr>\n",
       "      <th>93274</th>\n",
       "      <td>2477540</td>\n",
       "      <td>7</td>\n",
       "      <td>0</td>\n",
       "      <td>0.0</td>\n",
       "      <td>0.0</td>\n",
       "    </tr>\n",
       "  </tbody>\n",
       "</table>\n",
       "</div>"
      ],
      "text/plain": [
       "         OrgID  Month  Proc  Last_Month_Proc  Last_Month_Diff\n",
       "37466  2477540      3     0              0.0              0.0\n",
       "51418  2477540      4     0              0.0              0.0\n",
       "65370  2477540      5     0              0.0              0.0\n",
       "79322  2477540      6     0              0.0              0.0\n",
       "93274  2477540      7     0              0.0              0.0"
      ]
     },
     "execution_count": 6,
     "metadata": {},
     "output_type": "execute_result"
    }
   ],
   "source": [
    "melt2 =  melt.copy()\n",
    "melt2['Last_Month_Proc'] = melt2.groupby(['OrgID'])['Proc'].shift()\n",
    "melt2['Last_Month_Diff'] = melt2.groupby(['OrgID'])['Last_Month_Proc'].diff()\n",
    "melt2 = melt2.dropna()\n",
    "melt2.head()"
   ]
  },
  {
   "cell_type": "code",
   "execution_count": 7,
   "metadata": {},
   "outputs": [
    {
     "name": "stdout",
     "output_type": "stream",
     "text": [
      "<class 'pandas.core.frame.DataFrame'>\n",
      "Int64Index: 474368 entries, 37466 to 493885\n",
      "Data columns (total 5 columns):\n",
      "OrgID              474368 non-null int64\n",
      "Month              474368 non-null int32\n",
      "Proc               474368 non-null int64\n",
      "Last_Month_Proc    474368 non-null float64\n",
      "Last_Month_Diff    474368 non-null float64\n",
      "dtypes: float64(2), int32(1), int64(2)\n",
      "memory usage: 19.9 MB\n"
     ]
    }
   ],
   "source": [
    "melt2.info()"
   ]
  },
  {
   "cell_type": "code",
   "execution_count": 8,
   "metadata": {
    "collapsed": true
   },
   "outputs": [],
   "source": [
    "def rmsle(ytrue, ypred):\n",
    "    return np.sqrt(mean_squared_log_error(ytrue, ypred))"
   ]
  },
  {
   "cell_type": "code",
   "execution_count": 9,
   "metadata": {
    "collapsed": true
   },
   "outputs": [],
   "source": [
    "import copy"
   ]
  },
  {
   "cell_type": "code",
   "execution_count": 10,
   "metadata": {
    "collapsed": true
   },
   "outputs": [],
   "source": [
    "procedures = []\n",
    "for Month in range(0,30):\n",
    "    val=melt2[melt2['Month'] == Month]\n",
    "    total=sum(val['Proc'])\n",
    "    procedures.append(total)"
   ]
  },
  {
   "cell_type": "code",
   "execution_count": 11,
   "metadata": {},
   "outputs": [
    {
     "name": "stdout",
     "output_type": "stream",
     "text": [
      "Month 30 - Error 0.61502, Real Total 44141.0 - Predict Total 43152.0, Abs Error 989.0\n",
      "Month 31 - Error 0.63258, Real Total 32367.0 - Predict Total 44141.0, Abs Error 11774.0\n",
      "Month 32 - Error 0.62189, Real Total 40749.0 - Predict Total 32367.0, Abs Error 8382.0\n",
      "Mean Error = 0.62316\n",
      "Mean Abs Error = 7048.33333\n",
      "Wall time: 78.3 ms\n"
     ]
    }
   ],
   "source": [
    "%%time\n",
    "mean_errorB = []\n",
    "total_errorB = []\n",
    "ProcB = copy.copy(procedures)\n",
    "predict_ProcB = copy.copy(procedures)\n",
    "for Month in range(30,33):\n",
    "    train = melt2[melt2['Month'] < Month]\n",
    "    val = melt2[melt2['Month'] == Month]\n",
    "    yts=val['Proc']\n",
    "    \n",
    "    p = val['Last_Month_Proc'].values\n",
    "    \n",
    "    total_yts=sum(yts)\n",
    "    total_p=sum(p)\n",
    "    \n",
    "    error = rmsle(yts, p)\n",
    "    abs_error = abs(total_yts-total_p)\n",
    "\n",
    "    print('Month %d - Error %.5f, Real Total %.1f - Predict Total %.1f, Abs Error %.1f' % (Month, error, total_yts, total_p, abs_error))\n",
    "    mean_errorB.append(error)\n",
    "    total_errorB.append(abs_error)\n",
    "    ProcB.append(total_yts)\n",
    "    predict_ProcB.append(total_p)\n",
    "print('Mean Error = %.5f' % np.mean(mean_errorB))\n",
    "print('Mean Abs Error = %.5f' % np.mean(total_errorB))"
   ]
  },
  {
   "cell_type": "code",
   "execution_count": 12,
   "metadata": {},
   "outputs": [
    {
     "data": {
      "text/plain": [
       "<matplotlib.legend.Legend at 0x23a7e65b898>"
      ]
     },
     "execution_count": 12,
     "metadata": {},
     "output_type": "execute_result"
    },
    {
     "data": {
      "image/png": "[encoded data removed]",
      "text/plain": [
       "<matplotlib.figure.Figure at 0x23a780d9048>"
      ]
     },
     "metadata": {},
     "output_type": "display_data"
    }
   ],
   "source": [
    "\n",
    "plt.plot(predict_ProcB)\n",
    "plt.plot(ProcB)\n",
    "plt.title('Procedures (Month 1-32)')\n",
    "plt.xlabel('Month numbers')\n",
    "plt.ylabel('Procedures count')\n",
    "plt.legend(('Predict', 'Real'))"
   ]
  },
  {
   "cell_type": "code",
   "execution_count": 13,
   "metadata": {},
   "outputs": [
    {
     "data": {
      "text/plain": [
       "<matplotlib.axes._subplots.AxesSubplot at 0x23a7e069470>"
      ]
     },
     "execution_count": 13,
     "metadata": {},
     "output_type": "execute_result"
    },
    {
     "data": {
      "image/png": "[encoded data removed]",
      "text/plain": [
       "<matplotlib.figure.Figure at 0x23a78087940>"
      ]
     },
     "metadata": {},
     "output_type": "display_data"
    }
   ],
   "source": [
    "melt2['Proc'].hist(bins=50, figsize=(10,5))"
   ]
  },
  {
   "cell_type": "code",
   "execution_count": 14,
   "metadata": {},
   "outputs": [
    {
     "name": "stdout",
     "output_type": "stream",
     "text": [
      "Month 30 - Error 0.60004, Real Total 44141.0 - Predict Total 43044.1, Abs Error 1096.9\n",
      "Month 31 - Error 0.63024, Real Total 32367.0 - Predict Total 44069.8, Abs Error 11702.8\n",
      "Month 32 - Error 0.58768, Real Total 40749.0 - Predict Total 32611.1, Abs Error 8137.9\n",
      "Mean Error = 0.60599\n",
      "Mean Abs Error = 6979.21429\n",
      "Wall time: 322 ms\n"
     ]
    }
   ],
   "source": [
    "%%time\n",
    "mean_error2 = []\n",
    "total_error2 = []\n",
    "Proc2 = copy.copy(procedures)\n",
    "predict_Proc2 = copy.copy(procedures)\n",
    "for Month in range(30,33):\n",
    "    train = melt2[melt2['Month'] < Month]\n",
    "    val = melt2[melt2['Month'] == Month]\n",
    "    \n",
    "    xtr, xts = train.drop(['Proc'], axis=1), val.drop(['Proc'], axis=1)\n",
    "    ytr, yts = train['Proc'].values, val['Proc'].values\n",
    "    \n",
    "    mdl = LinearRegression()\n",
    "    mdl.fit(xtr, ytr)\n",
    "    \n",
    "    p = mdl.predict(xts)\n",
    "    \n",
    "    total_yts=sum(yts)\n",
    "    total_p=sum(p)\n",
    "    \n",
    "    error = rmsle(yts, p)\n",
    "    abs_error = abs(total_yts-total_p)\n",
    "\n",
    "    print('Month %d - Error %.5f, Real Total %.1f - Predict Total %.1f, Abs Error %.1f' % (Month, error, total_yts, total_p, abs_error))\n",
    "    mean_error2.append(error)\n",
    "    total_error2.append(abs_error)\n",
    "    Proc2.append(total_yts)\n",
    "    predict_Proc2.append(total_p)\n",
    "print('Mean Error = %.5f' % np.mean(mean_error2))\n",
    "print('Mean Abs Error = %.5f' % np.mean(total_error2))"
   ]
  },
  {
   "cell_type": "code",
   "execution_count": null,
   "metadata": {},
   "outputs": [
    {
     "data": {
      "text/plain": [
       "<matplotlib.legend.Legend at 0x23a78000fd0>"
      ]
     },
     "execution_count": 15,
     "metadata": {},
     "output_type": "execute_result"
    },
    {
     "data": {
      "image/png": "[encoded data removed]",
      "text/plain": [
       "<matplotlib.figure.Figure at 0x23a7e646e80>"
      ]
     },
     "metadata": {},
     "output_type": "display_data"
    }
   ],
   "source": [
    "\n",
    "plt.plot(predict_Proc2)\n",
    "plt.plot(Proc2)\n",
    "plt.title('Procedures (month 1-33)')\n",
    "plt.xlabel('Month numbers')\n",
    "plt.ylabel('Procedures count')\n",
    "plt.legend(('Predict', 'Real'))"
   ]
  },
  {
   "cell_type": "code",
   "execution_count": null,
   "metadata": {},
   "outputs": [],
   "source": [
    "%%time\n",
    "mean_errorRF2 = []\n",
    "total_errorRF2 = []\n",
    "ProcRF2 = copy.copy(procedures)\n",
    "predict_ProcRF2 = copy.copy(procedures)\n",
    "for Month in range(30,33):\n",
    "    train = melt2[melt2['Month'] < Month]\n",
    "    val = melt2[melt2['Month'] == Month]\n",
    "    \n",
    "    xtr, xts = train.drop(['Proc'], axis=1), val.drop(['Proc'], axis=1)\n",
    "    ytr, yts = train['Proc'].values, val['Proc'].values\n",
    "    \n",
    "    mdl = RandomForestRegressor(n_estimators=1000, n_jobs=-1, random_state=0)\n",
    "    mdl.fit(xtr, ytr)\n",
    "    \n",
    "    p = mdl.predict(xts)\n",
    "    \n",
    "    total_yts=sum(yts)\n",
    "    total_p=sum(p)\n",
    "    \n",
    "    error = rmsle(yts, p)\n",
    "    abs_error = abs(total_yts-total_p)\n",
    "\n",
    "    print('Month %d - Error %.5f, Real Total %.1f - Predict Total %.1f, Abs Error %.1f' % (Month, error, total_yts, total_p, abs_error))\n",
    "    mean_errorRF2.append(error)\n",
    "    total_errorRF2.append(abs_error)\n",
    "    ProcRF2.append(total_yts)\n",
    "    predict_ProcRF2.append(total_p)\n",
    "print('Mean Error = %.5f' % np.mean(mean_errorRF2))\n",
    "print('Mean Abs Error = %.5f' % np.mean(total_errorRF2))"
   ]
  },
  {
   "cell_type": "code",
   "execution_count": null,
   "metadata": {},
   "outputs": [],
   "source": [
    "\n",
    "plt.plot(predict_ProcRF2)\n",
    "#plt.plot(ProcRF2)\n",
    "plt.plot(ProcB)\n",
    "plt.title('Procedures (Months 1-33)')\n",
    "plt.xlabel('Month numbers')\n",
    "plt.ylabel('Procedures count')\n",
    "plt.legend(('Predict', 'Real'))"
   ]
  },
  {
   "cell_type": "code",
   "execution_count": null,
   "metadata": {},
   "outputs": [],
   "source": [
    "melt3 = melt.copy()\n",
    "melt3['Last_Month_Proc'] = melt3.groupby(['OrgID'])['Proc'].shift()\n",
    "melt3['Last_Month_Diff'] = melt3.groupby(['OrgID'])['Last_Month_Proc'].diff()\n",
    "melt3['Last-1_Month_Proc'] = melt3.groupby(['OrgID'])['Proc'].shift(2)\n",
    "melt3['Last-1_Month_Diff'] = melt3.groupby(['OrgID'])['Last-1_Month_Proc'].diff()\n",
    "melt3 = melt3.dropna()\n",
    "melt3.head()"
   ]
  },
  {
   "cell_type": "code",
   "execution_count": null,
   "metadata": {
    "scrolled": true
   },
   "outputs": [],
   "source": [
    "%%time\n",
    "mean_errorRF3 = []\n",
    "total_errorRF3 = []\n",
    "ProcRF3 = copy.copy(procedures)\n",
    "predict_ProcRF3 = copy.copy(procedures)\n",
    "for Month in range(30,33):\n",
    "    train = melt3[melt3['Month'] < Month]\n",
    "    val = melt3[melt3['Month'] == Month]\n",
    "    \n",
    "    xtr, xts = train.drop(['Proc'], axis=1), val.drop(['Proc'], axis=1)\n",
    "    ytr, yts = train['Proc'].values, val['Proc'].values\n",
    "    \n",
    "    mdl = RandomForestRegressor(n_estimators=1000, n_jobs=-1, random_state=0)\n",
    "    mdl.fit(xtr, ytr)\n",
    "    \n",
    "    p = mdl.predict(xts)\n",
    "    \n",
    "    total_yts=sum(yts)\n",
    "    total_p=sum(p)\n",
    "    \n",
    "    error = rmsle(yts, p)\n",
    "    abs_error = abs(total_yts-total_p)\n",
    "\n",
    "    print('Month %d - Error %.5f, Real Total %.1f - Predict Total %.1f, Abs Error %.1f' % (Month, error, total_yts, total_p, abs_error))\n",
    "    mean_errorRF3.append(error)\n",
    "    total_errorRF3.append(abs_error)\n",
    "    ProcRF3.append(total_yts)\n",
    "    predict_ProcRF3.append(total_p)\n",
    "print('Mean Error = %.5f' % np.mean(mean_errorRF3))\n",
    "print('Mean Abs Error = %.5f' % np.mean(total_errorRF3))"
   ]
  },
  {
   "cell_type": "code",
   "execution_count": null,
   "metadata": {},
   "outputs": [],
   "source": [
    "\n",
    "plt.plot(predict_ProcRF3)\n",
    "plt.plot(ProcRF3)\n",
    "plt.title('Procedures (month 1-33)')\n",
    "plt.xlabel('Month numbers')\n",
    "plt.ylabel('Procedures count')\n",
    "plt.legend(('Predict', 'Real'))"
   ]
  },
  {
   "cell_type": "code",
   "execution_count": null,
   "metadata": {},
   "outputs": [],
   "source": [
    "melt4 = melt.copy()\n",
    "melt4['Last_Month_Proc'] = melt4.groupby(['OrgID'])['Proc'].shift()\n",
    "melt4['Last_Month_Diff'] = melt4.groupby(['OrgID'])['Last_Month_Proc'].diff()\n",
    "melt4['Last-1_Month_Proc'] = melt4.groupby(['OrgID'])['Proc'].shift(2)\n",
    "melt4['Last-1_Month_Diff'] = melt4.groupby(['OrgID'])['Last-1_Month_Proc'].diff()\n",
    "melt4['Last-2_Month_Proc'] = melt4.groupby(['OrgID'])['Proc'].shift(3)\n",
    "melt4['Last-2_Month_Diff'] = melt4.groupby(['OrgID'])['Last-2_Month_Proc'].diff()\n",
    "melt4 = melt4.dropna()\n",
    "melt4.head()"
   ]
  },
  {
   "cell_type": "code",
   "execution_count": null,
   "metadata": {},
   "outputs": [],
   "source": [
    "%%time\n",
    "mean_errorRF4 = []\n",
    "total_errorRF4 = []\n",
    "ProcRF4 = copy.copy(procedures)\n",
    "predict_ProcRF4 = copy.copy(procedures)\n",
    "for Month in range(30,33):\n",
    "    train = melt4[melt4['Month'] < Month]\n",
    "    val = melt4[melt4['Month'] == Month]\n",
    "    \n",
    "    xtr, xts = train.drop(['Proc'], axis=1), val.drop(['Proc'], axis=1)\n",
    "    ytr, yts = train['Proc'].values, val['Proc'].values\n",
    "    \n",
    "    mdl = RandomForestRegressor(n_estimators=1000, n_jobs=-1, random_state=0)\n",
    "    mdl.fit(xtr, ytr)\n",
    "    \n",
    "    p = mdl.predict(xts)\n",
    "    \n",
    "    total_yts=sum(yts)\n",
    "    total_p=sum(p)\n",
    "    \n",
    "    error = rmsle(yts, p)\n",
    "    abs_error = abs(total_yts-total_p)\n",
    "\n",
    "    print('Month %d - Error %.5f, Real Total %.1f - Predict Total %.1f, Abs Error %.1f' % (Month, error, total_yts, total_p, abs_error))\n",
    "    mean_errorRF4.append(error)\n",
    "    total_errorRF4.append(abs_error)\n",
    "    ProcRF4.append(total_yts)\n",
    "    predict_ProcRF4.append(total_p)\n",
    "print('Mean Error = %.5f' % np.mean(mean_errorRF4))\n",
    "print('Mean Abs Error = %.5f' % np.mean(total_errorRF4))"
   ]
  },
  {
   "cell_type": "code",
   "execution_count": null,
   "metadata": {},
   "outputs": [],
   "source": [
    "\n",
    "plt.plot(predict_ProcRF4)\n",
    "plt.plot(ProcRF4)\n",
    "plt.title('Procedures (months 30-33)')\n",
    "plt.xlabel('Month numbers')\n",
    "plt.ylabel('Procedures count')\n",
    "plt.legend(('Predict', 'Real'))"
   ]
  },
  {
   "cell_type": "code",
   "execution_count": null,
   "metadata": {},
   "outputs": [],
   "source": [
    "%%time\n",
    "mean_errorGB4 = []\n",
    "total_errorGB4 = []\n",
    "ProcGB4 = copy.copy(procedures)\n",
    "predict_ProcGB4 = copy.copy(procedures)\n",
    "for Month in range(30,33):\n",
    "    train = melt4[melt4['Month'] < Month]\n",
    "    val = melt4[melt4['Month'] == Month]\n",
    "    \n",
    "    xtr, xts = train.drop(['Proc'], axis=1), val.drop(['Proc'], axis=1)\n",
    "    ytr, yts = train['Proc'].values, val['Proc'].values\n",
    "    \n",
    "    mdl = LGBMRegressor(n_estimators=1000, learning_rate=0.01)\n",
    "    mdl.fit(xtr, np.log1p(ytr))\n",
    "    \n",
    "    p = np.expm1(mdl.predict(xts))\n",
    "    \n",
    "    total_yts=sum(yts)\n",
    "    total_p=sum(p)\n",
    "    \n",
    "    error = rmsle(yts, p)\n",
    "    abs_error = abs(total_yts-total_p)\n",
    "    #print('Month %d - Error %.5f' % (Month, error))\n",
    "    print('Month %d - Error %.5f, Real Total %.1f - Predict Total %.1f, Abs Error %.1f' % (Month, error, total_yts, total_p, abs_error))\n",
    "    mean_errorGB4.append(error)\n",
    "    total_errorGB4.append(abs_error)\n",
    "    ProcGB4.append(total_yts)\n",
    "    predict_ProcGB4.append(total_p)\n",
    "print('Mean Error = %.5f' % np.mean(mean_errorGB4))\n",
    "print('Mean Abs Error = %.5f' % np.mean(total_errorGB4))"
   ]
  },
  {
   "cell_type": "code",
   "execution_count": null,
   "metadata": {},
   "outputs": [],
   "source": [
    "\n",
    "plt.plot(predict_ProcGB4)\n",
    "plt.plot(ProcGB4)\n",
    "plt.title('Procedures (months 1-32)')\n",
    "plt.xlabel('Month numbers')\n",
    "plt.ylabel('Procedures count')\n",
    "plt.legend(('Predict', 'Real'))"
   ]
  },
  {
   "cell_type": "code",
   "execution_count": null,
   "metadata": {},
   "outputs": [],
   "source": [
    "%%time\n",
    "melt12 = melt.copy()\n",
    "melt12['Last_Month_Proc'] = melt12.groupby(['OrgID'])['Proc'].shift()\n",
    "melt12['Last_Month_Diff'] = melt12.groupby(['OrgID'])['Last_Month_Proc'].diff()\n",
    "melt12['Last-1_Month_Proc'] = melt12.groupby(['OrgID'])['Proc'].shift(2)\n",
    "melt12['Last-1_Month_Diff'] = melt12.groupby(['OrgID'])['Last-1_Month_Proc'].diff()\n",
    "melt12['Last-2_Month_Proc'] = melt12.groupby(['OrgID'])['Proc'].shift(3)\n",
    "melt12['Last-2_Month_Diff'] = melt12.groupby(['OrgID'])['Last-2_Month_Proc'].diff()\n",
    "melt12['Last-3_Month_Proc'] = melt12.groupby(['OrgID'])['Proc'].shift(3)\n",
    "melt12['Last-3_Month_Diff'] = melt12.groupby(['OrgID'])['Last-3_Month_Proc'].diff()\n",
    "melt12['Last-4_Month_Proc'] = melt12.groupby(['OrgID'])['Proc'].shift(3)\n",
    "melt12['Last-4_Month_Diff'] = melt12.groupby(['OrgID'])['Last-4_Month_Proc'].diff()\n",
    "melt12['Last-5_Month_Proc'] = melt12.groupby(['OrgID'])['Proc'].shift(3)\n",
    "melt12['Last-5_Month_Diff'] = melt12.groupby(['OrgID'])['Last-5_Month_Proc'].diff()\n",
    "melt12['Last-6_Month_Proc'] = melt12.groupby(['OrgID'])['Proc'].shift(3)\n",
    "melt12['Last-6_Month_Diff'] = melt12.groupby(['OrgID'])['Last-6_Month_Proc'].diff()\n",
    "melt12['Last-7_Month_Proc'] = melt12.groupby(['OrgID'])['Proc'].shift(3)\n",
    "melt12['Last-7_Month_Diff'] = melt12.groupby(['OrgID'])['Last-7_Month_Proc'].diff()\n",
    "melt12['Last-8_Month_Proc'] = melt12.groupby(['OrgID'])['Proc'].shift(3)\n",
    "melt12['Last-8_Month_Diff'] = melt12.groupby(['OrgID'])['Last-8_Month_Proc'].diff()\n",
    "melt12['Last-9_Month_Proc'] = melt12.groupby(['OrgID'])['Proc'].shift(3)\n",
    "melt12['Last-9_Month_Diff'] = melt12.groupby(['OrgID'])['Last-9_Month_Proc'].diff()\n",
    "melt12['Last-10_Month_Proc'] = melt12.groupby(['OrgID'])['Proc'].shift(3)\n",
    "melt12['Last-10_Month_Diff'] = melt12.groupby(['OrgID'])['Last-10_Month_Proc'].diff()\n",
    "melt12['Last-11_Month_Proc'] = melt12.groupby(['OrgID'])['Proc'].shift(2)\n",
    "melt12['Last-11_Month_Diff'] = melt12.groupby(['OrgID'])['Last-11_Month_Proc'].diff()\n",
    "melt12['Last-12_Month_Proc'] = melt12.groupby(['OrgID'])['Proc'].shift(3)\n",
    "melt12['Last-12_Month_Diff'] = melt12.groupby(['OrgID'])['Last-12_Month_Proc'].diff()\n",
    "melt12 = melt12.dropna()\n",
    "melt12.head()"
   ]
  },
  {
   "cell_type": "code",
   "execution_count": null,
   "metadata": {},
   "outputs": [],
   "source": [
    "%%time\n",
    "mean_errorRF12 = []\n",
    "total_errorRF12 = []\n",
    "ProcRF12 = copy.copy(procedures)\n",
    "predict_ProcRF12 = copy.copy(procedures)\n",
    "for Month in range(30, 33):\n",
    "    train = melt12[melt12['Month'] < Month]\n",
    "    val = melt12[melt12['Month'] == Month]\n",
    "    \n",
    "    xtr, xts = train.drop(['Proc'], axis=1), val.drop(['Proc'], axis=1)\n",
    "    ytr, yts = train['Proc'].values, val['Proc'].values\n",
    "    \n",
    "    mdl = RandomForestRegressor(n_estimators=1000, n_jobs=-1, random_state=0)\n",
    "    mdl.fit(xtr, ytr)\n",
    "    \n",
    "    p = mdl.predict(xts)\n",
    "    \n",
    "    total_yts=sum(yts)\n",
    "    total_p=sum(p)\n",
    "    \n",
    "    error = rmsle(yts, p)\n",
    "    abs_error = abs(total_yts-total_p)\n",
    "\n",
    "    print('Month %d - Error %.5f, Real Total %.1f - Predict Total %.1f, Abs Error %.1f' % (Month, error, total_yts, total_p, abs_error))\n",
    "    mean_errorRF12.append(error)\n",
    "    total_errorRF12.append(abs_error)\n",
    "    ProcRF12.append(total_yts)\n",
    "    predict_ProcRF12.append(total_p)\n",
    "print('Mean Error = %.5f' % np.mean(mean_errorRF12))\n",
    "print('Mean Abs Error = %.5f' % np.mean(total_errorRF12))"
   ]
  },
  {
   "cell_type": "code",
   "execution_count": null,
   "metadata": {},
   "outputs": [],
   "source": [
    "\n",
    "plt.plot(predict_ProcRF12)\n",
    "plt.plot(ProcRF12)\n",
    "plt.title('Procedures (month 1-32)')\n",
    "plt.xlabel('Month numbers')\n",
    "plt.ylabel('Procedures count')\n",
    "plt.legend(('Predict', 'Real'))"
   ]
  },
  {
   "cell_type": "code",
   "execution_count": null,
   "metadata": {},
   "outputs": [],
   "source": [
    "%%time\n",
    "mean_errorGB12 = []\n",
    "total_errorGB12 = []\n",
    "ProcGB12 = copy.copy(procedures)\n",
    "predict_ProcGB12 = copy.copy(procedures)\n",
    "for Month in range(30,33):\n",
    "    train = melt12[melt12['Month'] < Month]\n",
    "    val = melt12[melt12['Month'] == Month]\n",
    "    \n",
    "    xtr, xts = train.drop(['Proc'], axis=1), val.drop(['Proc'], axis=1)\n",
    "    ytr, yts = train['Proc'].values, val['Proc'].values\n",
    "    \n",
    "    mdl = LGBMRegressor(n_estimators=1000, learning_rate=0.01)\n",
    "    mdl.fit(xtr, np.log1p(ytr))\n",
    "    \n",
    "    p = np.expm1(mdl.predict(xts))\n",
    "    \n",
    "    total_yts=sum(yts)\n",
    "    total_p=sum(p)\n",
    "    \n",
    "    error = rmsle(yts, p)\n",
    "    abs_error = abs(total_yts-total_p)\n",
    "    \n",
    "    print('Month %d - Error %.5f, Real Total %.1f - Predict Total %.1f, Abs Error %.1f' % (Month, error, total_yts, total_p, abs_error))\n",
    "    mean_errorGB12.append(error)\n",
    "    total_errorGB12.append(abs_error)\n",
    "    ProcGB12.append(total_yts)\n",
    "    predict_ProcGB12.append(total_p)\n",
    "print('Mean Error = %.5f' % np.mean(mean_errorGB12))\n",
    "print('Mean Abs Error = %.5f' % np.mean(total_errorGB12))"
   ]
  },
  {
   "cell_type": "code",
   "execution_count": null,
   "metadata": {},
   "outputs": [],
   "source": [
    "\n",
    "plt.plot(predict_ProcGB12)\n",
    "plt.plot(ProcGB12)\n",
    "plt.title('Procedures (months 1-32)')\n",
    "plt.xlabel('Month numbers')\n",
    "plt.ylabel('Procedures count')\n",
    "plt.legend(('Predict', 'Real'))"
   ]
  },
  {
   "cell_type": "code",
   "execution_count": null,
   "metadata": {},
   "outputs": [],
   "source": [
    "%%time\n",
    "mean_errorLR12 = []\n",
    "total_errorLR12 = []\n",
    "ProcLR12 = copy.copy(procedures)\n",
    "predict_ProcLR12 = copy.copy(procedures)\n",
    "for Month in range(30,33):\n",
    "    train = melt12[melt12['Month'] < Month]\n",
    "    val = melt12[melt12['Month'] == Month]\n",
    "    \n",
    "    xtr, xts = train.drop(['Proc'], axis=1), val.drop(['Proc'], axis=1)\n",
    "    ytr, yts = train['Proc'].values, val['Proc'].values\n",
    "    \n",
    "    mdl = LinearRegression()\n",
    "    mdl.fit(xtr, ytr)\n",
    "    \n",
    "    p = mdl.predict(xts)\n",
    "    \n",
    "    total_yts=sum(yts)\n",
    "    total_p=sum(p)\n",
    "    \n",
    "    error = rmsle(yts, p)\n",
    "    abs_error = abs(total_yts-total_p)\n",
    "\n",
    "    print('Month %d - Error %.5f, Real Total %.1f - Predict Total %.1f, Abs Error %.1f' % (Month, error, total_yts, total_p, abs_error))\n",
    "    mean_errorLR12.append(error)\n",
    "    total_errorLR12.append(abs_error)\n",
    "    ProcLR12.append(total_yts)\n",
    "    predict_ProcLR12.append(total_p)\n",
    "print('Mean Error = %.5f' % np.mean(mean_errorLR12))\n",
    "print('Mean Abs Error = %.5f' % np.mean(total_errorLR12))"
   ]
  },
  {
   "cell_type": "code",
   "execution_count": null,
   "metadata": {},
   "outputs": [],
   "source": [
    "\n",
    "plt.plot(predict_ProcLR12)\n",
    "plt.plot(ProcLR12)\n",
    "plt.title('Procedures (Months 1-32)')\n",
    "plt.xlabel('Month numbers')\n",
    "plt.ylabel('Procedures count')\n",
    "plt.legend(('Predict', 'Real'))"
   ]
  },
  {
   "cell_type": "code",
   "execution_count": null,
   "metadata": {},
   "outputs": [],
   "source": [
    "val.loc[:, 'Prediction'] = np.round(p)\n",
    "val.plot.scatter(x='Prediction', y='Proc', figsize=(15,10), title='Prediction vs Real', \n",
    "                 ylim=(0,40), xlim=(0,40))"
   ]
  },
  {
   "cell_type": "code",
   "execution_count": null,
   "metadata": {},
   "outputs": [],
   "source": [
    "%%time\n",
    "melt24 = melt.copy()\n",
    "melt24['Last_Month_Proc'] = melt24.groupby(['OrgID'])['Proc'].shift()\n",
    "melt24['Last_Month_Diff'] = melt24.groupby(['OrgID'])['Last_Month_Proc'].diff()\n",
    "melt24['Last-1_Month_Proc'] = melt24.groupby(['OrgID'])['Proc'].shift(2)\n",
    "melt24['Last-1_Month_Diff'] = melt24.groupby(['OrgID'])['Last-1_Month_Proc'].diff()\n",
    "melt24['Last-2_Month_Proc'] = melt24.groupby(['OrgID'])['Proc'].shift(3)\n",
    "melt24['Last-2_Month_Diff'] = melt24.groupby(['OrgID'])['Last-2_Month_Proc'].diff()\n",
    "melt24['Last-3_Month_Proc'] = melt24.groupby(['OrgID'])['Proc'].shift(3)\n",
    "melt24['Last-3_Month_Diff'] = melt24.groupby(['OrgID'])['Last-3_Month_Proc'].diff()\n",
    "melt24['Last-4_Month_Proc'] = melt24.groupby(['OrgID'])['Proc'].shift(3)\n",
    "melt24['Last-4_Month_Diff'] = melt24.groupby(['OrgID'])['Last-4_Month_Proc'].diff()\n",
    "melt24['Last-5_Month_Proc'] = melt24.groupby(['OrgID'])['Proc'].shift(3)\n",
    "melt24['Last-5_Month_Diff'] = melt24.groupby(['OrgID'])['Last-5_Month_Proc'].diff()\n",
    "melt24['Last-6_Month_Proc'] = melt24.groupby(['OrgID'])['Proc'].shift(3)\n",
    "melt24['Last-6_Month_Diff'] = melt24.groupby(['OrgID'])['Last-6_Month_Proc'].diff()\n",
    "melt24['Last-7_Month_Proc'] = melt24.groupby(['OrgID'])['Proc'].shift(3)\n",
    "melt24['Last-7_Month_Diff'] = melt24.groupby(['OrgID'])['Last-7_Month_Proc'].diff()\n",
    "melt24['Last-8_Month_Proc'] = melt24.groupby(['OrgID'])['Proc'].shift(3)\n",
    "melt24['Last-8_Month_Diff'] = melt24.groupby(['OrgID'])['Last-8_Month_Proc'].diff()\n",
    "melt24['Last-9_Month_Proc'] = melt24.groupby(['OrgID'])['Proc'].shift(3)\n",
    "melt24['Last-9_Month_Diff'] = melt24.groupby(['OrgID'])['Last-9_Month_Proc'].diff()\n",
    "melt24['Last-10_Month_Proc'] = melt24.groupby(['OrgID'])['Proc'].shift(3)\n",
    "melt24['Last-10_Month_Diff'] = melt24.groupby(['OrgID'])['Last-10_Month_Proc'].diff()\n",
    "melt24['Last-11_Month_Proc'] = melt24.groupby(['OrgID'])['Proc'].shift(2)\n",
    "melt24['Last-11_Month_Diff'] = melt24.groupby(['OrgID'])['Last-11_Month_Proc'].diff()\n",
    "melt24['Last-12_Month_Proc'] = melt24.groupby(['OrgID'])['Proc'].shift(3)\n",
    "melt24['Last-12_Month_Diff'] = melt24.groupby(['OrgID'])['Last-12_Month_Proc'].diff()\n",
    "melt24['Last-13_Month_Proc'] = melt24.groupby(['OrgID'])['Proc'].shift(3)\n",
    "melt24['Last-13_Month_Diff'] = melt24.groupby(['OrgID'])['Last-13_Month_Proc'].diff()\n",
    "melt24['Last-14_Month_Proc'] = melt24.groupby(['OrgID'])['Proc'].shift(3)\n",
    "melt24['Last-14_Month_Diff'] = melt24.groupby(['OrgID'])['Last-14_Month_Proc'].diff()\n",
    "melt24['Last-15_Month_Proc'] = melt24.groupby(['OrgID'])['Proc'].shift(3)\n",
    "melt24['Last-15_Month_Diff'] = melt24.groupby(['OrgID'])['Last-15_Month_Proc'].diff()\n",
    "melt24['Last-16_Month_Proc'] = melt24.groupby(['OrgID'])['Proc'].shift(3)\n",
    "melt24['Last-16_Month_Diff'] = melt24.groupby(['OrgID'])['Last-16_Month_Proc'].diff()\n",
    "melt24['Last-17_Month_Proc'] = melt24.groupby(['OrgID'])['Proc'].shift(3)\n",
    "melt24['Last-17_Month_Diff'] = melt24.groupby(['OrgID'])['Last-17_Month_Proc'].diff()\n",
    "melt24['Last-18_Month_Proc'] = melt24.groupby(['OrgID'])['Proc'].shift(3)\n",
    "melt24['Last-18_Month_Diff'] = melt24.groupby(['OrgID'])['Last-18_Month_Proc'].diff()\n",
    "melt24['Last-19_Month_Proc'] = melt24.groupby(['OrgID'])['Proc'].shift(3)\n",
    "melt24['Last-19_Month_Diff'] = melt24.groupby(['OrgID'])['Last-19_Month_Proc'].diff()\n",
    "melt24['Last-20_Month_Proc'] = melt24.groupby(['OrgID'])['Proc'].shift(3)\n",
    "melt24['Last-20_Month_Diff'] = melt24.groupby(['OrgID'])['Last-20_Month_Proc'].diff()\n",
    "melt24['Last-21_Month_Proc'] = melt24.groupby(['OrgID'])['Proc'].shift(2)\n",
    "melt24['Last-21_Month_Diff'] = melt24.groupby(['OrgID'])['Last-21_Month_Proc'].diff()\n",
    "melt24['Last-22_Month_Proc'] = melt24.groupby(['OrgID'])['Proc'].shift(3)\n",
    "melt24['Last-22_Month_Diff'] = melt24.groupby(['OrgID'])['Last-22_Month_Proc'].diff()\n",
    "melt24['Last-23_Month_Proc'] = melt24.groupby(['OrgID'])['Proc'].shift(3)\n",
    "melt24['Last-23_Month_Diff'] = melt24.groupby(['OrgID'])['Last-23_Month_Proc'].diff()\n",
    "melt24['Last-24_Month_Proc'] = melt24.groupby(['OrgID'])['Proc'].shift(3)\n",
    "melt24 = melt24.dropna()\n",
    "melt24.head()"
   ]
  },
  {
   "cell_type": "code",
   "execution_count": null,
   "metadata": {},
   "outputs": [],
   "source": [
    "%%time\n",
    "mean_errorRF24 = []\n",
    "total_errorRF24 = []\n",
    "ProcRF24 = copy.copy(procedures)\n",
    "predict_ProcRF24 = copy.copy(procedures)\n",
    "for Month in range(30,33):\n",
    "    train = melt24[melt24['Month'] < Month]\n",
    "    val = melt24[melt24['Month'] == Month]\n",
    "    \n",
    "    xtr, xts = train.drop(['Proc'], axis=1), val.drop(['Proc'], axis=1)\n",
    "    ytr, yts = train['Proc'].values, val['Proc'].values\n",
    "    \n",
    "    mdl = RandomForestRegressor(n_estimators=1000, n_jobs=-1, random_state=0)\n",
    "    mdl.fit(xtr, ytr)\n",
    "    \n",
    "    p = mdl.predict(xts)\n",
    "    \n",
    "    total_yts=sum(yts)\n",
    "    total_p=sum(p)\n",
    "    \n",
    "    error = rmsle(yts, p)\n",
    "    abs_error = abs(total_yts-total_p)\n",
    "    \n",
    "    print('Month %d - Error %.5f, Real Total %.1f - Predict Total %.1f, Abs Error %.1f' % (Month, error, total_yts, total_p, abs_error))\n",
    "    mean_errorRF24.append(error)\n",
    "    total_errorRF24.append(abs_error)\n",
    "    ProcRF24.append(total_yts)\n",
    "    predict_ProcRF24.append(total_p)\n",
    "print('Mean Error = %.5f' % np.mean(mean_errorRF24))\n",
    "print('Mean Abs Error = %.5f' % np.mean(total_errorRF24))"
   ]
  },
  {
   "cell_type": "code",
   "execution_count": null,
   "metadata": {
    "collapsed": true
   },
   "outputs": [],
   "source": [
    "\n",
    "plt.plot(predict_ProcRF24)\n",
    "plt.plot(ProcRF24)\n",
    "plt.title('Procedures (month 1 -32)')\n",
    "plt.xlabel('Month numbers')\n",
    "plt.ylabel('Procedures count')\n",
    "plt.legend(('Predict', 'Real'))"
   ]
  },
  {
   "cell_type": "code",
   "execution_count": null,
   "metadata": {
    "collapsed": true
   },
   "outputs": [],
   "source": [
    "%%time\n",
    "mean_errorGB24 = []\n",
    "total_errorGB24 = []\n",
    "ProcGB24 = copy.copy(procedures)\n",
    "predict_ProcGB24 = copy.copy(procedures)\n",
    "for Month in range(30,33):\n",
    "    train = melt24[melt24['Month'] < Month]\n",
    "    val = melt24[melt24['Month'] == Month]\n",
    "    \n",
    "    xtr, xts = train.drop(['Proc'], axis=1), val.drop(['Proc'], axis=1)\n",
    "    ytr, yts = train['Proc'].values, val['Proc'].values\n",
    "    \n",
    "    mdl = LGBMRegressor(n_estimators=1000, learning_rate=0.01)\n",
    "    mdl.fit(xtr, np.log1p(ytr))\n",
    "    \n",
    "    p = np.expm1(mdl.predict(xts))\n",
    "    \n",
    "    total_yts=sum(yts)\n",
    "    total_p=sum(p)\n",
    "    \n",
    "    error = rmsle(yts, p)\n",
    "    abs_error = abs(total_yts-total_p)\n",
    "    \n",
    "    print('Month %d - Error %.5f, Real Total %.1f - Predict Total %.1f, Abs Error %.1f' % (Month, error, total_yts, total_p, abs_error))\n",
    "    mean_errorGB24.append(error)\n",
    "    total_errorGB24.append(abs_error)\n",
    "    ProcGB24.append(total_yts)\n",
    "    predict_ProcGB24.append(total_p)\n",
    "print('Mean Error = %.5f' % np.mean(mean_errorGB24))\n",
    "print('Mean Abs Error = %.5f' % np.mean(total_errorGB24))"
   ]
  },
  {
   "cell_type": "code",
   "execution_count": null,
   "metadata": {
    "collapsed": true
   },
   "outputs": [],
   "source": [
    "plt.plot(predict_ProcLR24)\n",
    "plt.plot(predict_ProcRF24)\n",
    "plt.plot(predict_ProcGB24)\n",
    "plt.plot(ProcGB24)\n",
    "\n",
    "plt.title('Procedures (months 1 - 32)')\n",
    "plt.xlabel('Month numbers')\n",
    "plt.ylabel('Procedures count')\n",
    "plt.legend(('Predict LR24', 'Predict RF24', 'Predict GB24', 'Real'))"
   ]
  },
  {
   "cell_type": "code",
   "execution_count": null,
   "metadata": {
    "collapsed": true
   },
   "outputs": [],
   "source": [
    "%%time\n",
    "mean_errorLR24 = []\n",
    "total_errorLR24 = []\n",
    "ProcLR24 = copy.copy(procedures)\n",
    "predict_ProcLR24 = copy.copy(procedures)\n",
    "for Month in range(30,33):\n",
    "    train = melt24[melt24['Month'] < Month]\n",
    "    val = melt24[melt24['Month'] == Month]\n",
    "    \n",
    "    xtr, xts = train.drop(['Proc'], axis=1), val.drop(['Proc'], axis=1)\n",
    "    ytr, yts = train['Proc'].values, val['Proc'].values\n",
    "    \n",
    "    mdl = LinearRegression()\n",
    "    mdl.fit(xtr, ytr)\n",
    "    \n",
    "    p = mdl.predict(xts)\n",
    "    \n",
    "    total_yts=sum(yts)\n",
    "    total_p=sum(p)\n",
    "    \n",
    "    error = rmsle(yts, p)\n",
    "    abs_error = abs(total_yts-total_p)\n",
    "\n",
    "    print('Month %d - Error %.5f, Real Total %.1f - Predict Total %.1f, Abs Error %.1f' % (Month, error, total_yts, total_p, abs_error))\n",
    "    mean_errorLR24.append(error)\n",
    "    total_errorLR24.append(abs_error)\n",
    "    ProcLR24.append(total_yts)\n",
    "    predict_ProcLR24.append(total_p)\n",
    "print('Mean Error = %.5f' % np.mean(mean_errorLR24))\n",
    "print('Mean Abs Error = %.5f' % np.mean(total_errorLR24))"
   ]
  },
  {
   "cell_type": "code",
   "execution_count": null,
   "metadata": {
    "collapsed": true
   },
   "outputs": [],
   "source": [
    "\n",
    "plt.plot(predict_ProcLR24)\n",
    "plt.plot(ProcLR24)\n",
    "plt.title('Procedures (Months 1 - 32')\n",
    "plt.xlabel('Month numbers')\n",
    "plt.ylabel('Procedures count')\n",
    "plt.legend(('Predict', 'Real'))"
   ]
  },
  {
   "cell_type": "code",
   "execution_count": null,
   "metadata": {
    "collapsed": true
   },
   "outputs": [],
   "source": [
    "data2 = pd.read_excel('ОрганизаторыМесяца.xlsx')\n",
    "data2.head()"
   ]
  },
  {
   "cell_type": "code",
   "execution_count": null,
   "metadata": {
    "collapsed": true
   },
   "outputs": [],
   "source": [
    "melt_org = data2.melt(id_vars='OrgID', var_name='Month', value_name='Proc')\n",
    "\n",
    "melt_org['Month'] = melt_org['Month'].str.extract('(\\d+)', expand=False).astype(int)\n",
    "\n",
    "melt_org = melt_org.sort_values(['OrgID', 'Month'])\n",
    "melt_org.head()"
   ]
  },
  {
   "cell_type": "code",
   "execution_count": null,
   "metadata": {
    "collapsed": true
   },
   "outputs": [],
   "source": []
  }
 ],
 "metadata": {
  "kernelspec": {
   "display_name": "Python 3",
   "language": "python",
   "name": "python3"
  },
  "language_info": {
   "codemirror_mode": {
    "name": "ipython",
    "version": 3
   },
   "file_extension": ".py",
   "mimetype": "text/x-python",
   "name": "python",
   "nbconvert_exporter": "python",
   "pygments_lexer": "ipython3",
   "version": "3.6.0"
  }
 },
 "nbformat": 4,
 "nbformat_minor": 2
}
