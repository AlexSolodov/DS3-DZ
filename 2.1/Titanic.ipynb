{
 "cells": [
  {
   "cell_type": "markdown",
   "metadata": {},
   "source": [
    "# Титаник. Кто выживет?"
   ]
  },
  {
   "cell_type": "markdown",
   "metadata": {},
   "source": [
    "https://www.kaggle.com/c/titanic/"
   ]
  },
  {
   "cell_type": "code",
   "execution_count": 57,
   "metadata": {
    "collapsed": true
   },
   "outputs": [],
   "source": [
    "import numpy as np\n",
    "import pandas as pd"
   ]
  },
  {
   "cell_type": "code",
   "execution_count": 58,
   "metadata": {
    "collapsed": true
   },
   "outputs": [],
   "source": [
    "from matplotlib import pyplot as plt\n",
    "%matplotlib inline\n",
    "import seaborn as sns\n",
    "\n",
    "%config InlineBackend.figure_format = 'retina'\n",
    "from pylab import rcParams\n",
    "rcParams['figure.figsize'] = (9, 6)"
   ]
  },
  {
   "cell_type": "markdown",
   "metadata": {},
   "source": [
    "### Данные"
   ]
  },
  {
   "cell_type": "code",
   "execution_count": 59,
   "metadata": {},
   "outputs": [],
   "source": [
    "train = pd.read_csv('titanic/train.csv')\n",
    "test = pd.read_csv('titanic/test.csv')"
   ]
  },
  {
   "cell_type": "code",
   "execution_count": 60,
   "metadata": {
    "scrolled": true
   },
   "outputs": [
    {
     "data": {
      "text/html": [
       "<div>\n",
       "<style>\n",
       "    .dataframe thead tr:only-child th {\n",
       "        text-align: right;\n",
       "    }\n",
       "\n",
       "    .dataframe thead th {\n",
       "        text-align: left;\n",
       "    }\n",
       "\n",
       "    .dataframe tbody tr th {\n",
       "        vertical-align: top;\n",
       "    }\n",
       "</style>\n",
       "<table border=\"1\" class=\"dataframe\">\n",
       "  <thead>\n",
       "    <tr style=\"text-align: right;\">\n",
       "      <th></th>\n",
       "      <th>PassengerId</th>\n",
       "      <th>Survived</th>\n",
       "      <th>Pclass</th>\n",
       "      <th>Name</th>\n",
       "      <th>Sex</th>\n",
       "      <th>Age</th>\n",
       "      <th>SibSp</th>\n",
       "      <th>Parch</th>\n",
       "      <th>Ticket</th>\n",
       "      <th>Fare</th>\n",
       "      <th>Cabin</th>\n",
       "      <th>Embarked</th>\n",
       "    </tr>\n",
       "  </thead>\n",
       "  <tbody>\n",
       "    <tr>\n",
       "      <th>0</th>\n",
       "      <td>1</td>\n",
       "      <td>0</td>\n",
       "      <td>3</td>\n",
       "      <td>Braund, Mr. Owen Harris</td>\n",
       "      <td>male</td>\n",
       "      <td>22.0</td>\n",
       "      <td>1</td>\n",
       "      <td>0</td>\n",
       "      <td>A/5 21171</td>\n",
       "      <td>7.2500</td>\n",
       "      <td>NaN</td>\n",
       "      <td>S</td>\n",
       "    </tr>\n",
       "    <tr>\n",
       "      <th>1</th>\n",
       "      <td>2</td>\n",
       "      <td>1</td>\n",
       "      <td>1</td>\n",
       "      <td>Cumings, Mrs. John Bradley (Florence Briggs Th...</td>\n",
       "      <td>female</td>\n",
       "      <td>38.0</td>\n",
       "      <td>1</td>\n",
       "      <td>0</td>\n",
       "      <td>PC 17599</td>\n",
       "      <td>71.2833</td>\n",
       "      <td>C85</td>\n",
       "      <td>C</td>\n",
       "    </tr>\n",
       "    <tr>\n",
       "      <th>2</th>\n",
       "      <td>3</td>\n",
       "      <td>1</td>\n",
       "      <td>3</td>\n",
       "      <td>Heikkinen, Miss. Laina</td>\n",
       "      <td>female</td>\n",
       "      <td>26.0</td>\n",
       "      <td>0</td>\n",
       "      <td>0</td>\n",
       "      <td>STON/O2. 3101282</td>\n",
       "      <td>7.9250</td>\n",
       "      <td>NaN</td>\n",
       "      <td>S</td>\n",
       "    </tr>\n",
       "    <tr>\n",
       "      <th>3</th>\n",
       "      <td>4</td>\n",
       "      <td>1</td>\n",
       "      <td>1</td>\n",
       "      <td>Futrelle, Mrs. Jacques Heath (Lily May Peel)</td>\n",
       "      <td>female</td>\n",
       "      <td>35.0</td>\n",
       "      <td>1</td>\n",
       "      <td>0</td>\n",
       "      <td>113803</td>\n",
       "      <td>53.1000</td>\n",
       "      <td>C123</td>\n",
       "      <td>S</td>\n",
       "    </tr>\n",
       "    <tr>\n",
       "      <th>4</th>\n",
       "      <td>5</td>\n",
       "      <td>0</td>\n",
       "      <td>3</td>\n",
       "      <td>Allen, Mr. William Henry</td>\n",
       "      <td>male</td>\n",
       "      <td>35.0</td>\n",
       "      <td>0</td>\n",
       "      <td>0</td>\n",
       "      <td>373450</td>\n",
       "      <td>8.0500</td>\n",
       "      <td>NaN</td>\n",
       "      <td>S</td>\n",
       "    </tr>\n",
       "  </tbody>\n",
       "</table>\n",
       "</div>"
      ],
      "text/plain": [
       "   PassengerId  Survived  Pclass  \\\n",
       "0            1         0       3   \n",
       "1            2         1       1   \n",
       "2            3         1       3   \n",
       "3            4         1       1   \n",
       "4            5         0       3   \n",
       "\n",
       "                                                Name     Sex   Age  SibSp  \\\n",
       "0                            Braund, Mr. Owen Harris    male  22.0      1   \n",
       "1  Cumings, Mrs. John Bradley (Florence Briggs Th...  female  38.0      1   \n",
       "2                             Heikkinen, Miss. Laina  female  26.0      0   \n",
       "3       Futrelle, Mrs. Jacques Heath (Lily May Peel)  female  35.0      1   \n",
       "4                           Allen, Mr. William Henry    male  35.0      0   \n",
       "\n",
       "   Parch            Ticket     Fare Cabin Embarked  \n",
       "0      0         A/5 21171   7.2500   NaN        S  \n",
       "1      0          PC 17599  71.2833   C85        C  \n",
       "2      0  STON/O2. 3101282   7.9250   NaN        S  \n",
       "3      0            113803  53.1000  C123        S  \n",
       "4      0            373450   8.0500   NaN        S  "
      ]
     },
     "execution_count": 60,
     "metadata": {},
     "output_type": "execute_result"
    }
   ],
   "source": [
    "train.head()"
   ]
  },
  {
   "cell_type": "code",
   "execution_count": 61,
   "metadata": {
    "scrolled": true
   },
   "outputs": [
    {
     "data": {
      "text/html": [
       "<div>\n",
       "<style>\n",
       "    .dataframe thead tr:only-child th {\n",
       "        text-align: right;\n",
       "    }\n",
       "\n",
       "    .dataframe thead th {\n",
       "        text-align: left;\n",
       "    }\n",
       "\n",
       "    .dataframe tbody tr th {\n",
       "        vertical-align: top;\n",
       "    }\n",
       "</style>\n",
       "<table border=\"1\" class=\"dataframe\">\n",
       "  <thead>\n",
       "    <tr style=\"text-align: right;\">\n",
       "      <th></th>\n",
       "      <th>PassengerId</th>\n",
       "      <th>Pclass</th>\n",
       "      <th>Name</th>\n",
       "      <th>Sex</th>\n",
       "      <th>Age</th>\n",
       "      <th>SibSp</th>\n",
       "      <th>Parch</th>\n",
       "      <th>Ticket</th>\n",
       "      <th>Fare</th>\n",
       "      <th>Cabin</th>\n",
       "      <th>Embarked</th>\n",
       "    </tr>\n",
       "  </thead>\n",
       "  <tbody>\n",
       "    <tr>\n",
       "      <th>0</th>\n",
       "      <td>892</td>\n",
       "      <td>3</td>\n",
       "      <td>Kelly, Mr. James</td>\n",
       "      <td>male</td>\n",
       "      <td>34.5</td>\n",
       "      <td>0</td>\n",
       "      <td>0</td>\n",
       "      <td>330911</td>\n",
       "      <td>7.8292</td>\n",
       "      <td>NaN</td>\n",
       "      <td>Q</td>\n",
       "    </tr>\n",
       "    <tr>\n",
       "      <th>1</th>\n",
       "      <td>893</td>\n",
       "      <td>3</td>\n",
       "      <td>Wilkes, Mrs. James (Ellen Needs)</td>\n",
       "      <td>female</td>\n",
       "      <td>47.0</td>\n",
       "      <td>1</td>\n",
       "      <td>0</td>\n",
       "      <td>363272</td>\n",
       "      <td>7.0000</td>\n",
       "      <td>NaN</td>\n",
       "      <td>S</td>\n",
       "    </tr>\n",
       "    <tr>\n",
       "      <th>2</th>\n",
       "      <td>894</td>\n",
       "      <td>2</td>\n",
       "      <td>Myles, Mr. Thomas Francis</td>\n",
       "      <td>male</td>\n",
       "      <td>62.0</td>\n",
       "      <td>0</td>\n",
       "      <td>0</td>\n",
       "      <td>240276</td>\n",
       "      <td>9.6875</td>\n",
       "      <td>NaN</td>\n",
       "      <td>Q</td>\n",
       "    </tr>\n",
       "    <tr>\n",
       "      <th>3</th>\n",
       "      <td>895</td>\n",
       "      <td>3</td>\n",
       "      <td>Wirz, Mr. Albert</td>\n",
       "      <td>male</td>\n",
       "      <td>27.0</td>\n",
       "      <td>0</td>\n",
       "      <td>0</td>\n",
       "      <td>315154</td>\n",
       "      <td>8.6625</td>\n",
       "      <td>NaN</td>\n",
       "      <td>S</td>\n",
       "    </tr>\n",
       "    <tr>\n",
       "      <th>4</th>\n",
       "      <td>896</td>\n",
       "      <td>3</td>\n",
       "      <td>Hirvonen, Mrs. Alexander (Helga E Lindqvist)</td>\n",
       "      <td>female</td>\n",
       "      <td>22.0</td>\n",
       "      <td>1</td>\n",
       "      <td>1</td>\n",
       "      <td>3101298</td>\n",
       "      <td>12.2875</td>\n",
       "      <td>NaN</td>\n",
       "      <td>S</td>\n",
       "    </tr>\n",
       "  </tbody>\n",
       "</table>\n",
       "</div>"
      ],
      "text/plain": [
       "   PassengerId  Pclass                                          Name     Sex  \\\n",
       "0          892       3                              Kelly, Mr. James    male   \n",
       "1          893       3              Wilkes, Mrs. James (Ellen Needs)  female   \n",
       "2          894       2                     Myles, Mr. Thomas Francis    male   \n",
       "3          895       3                              Wirz, Mr. Albert    male   \n",
       "4          896       3  Hirvonen, Mrs. Alexander (Helga E Lindqvist)  female   \n",
       "\n",
       "    Age  SibSp  Parch   Ticket     Fare Cabin Embarked  \n",
       "0  34.5      0      0   330911   7.8292   NaN        Q  \n",
       "1  47.0      1      0   363272   7.0000   NaN        S  \n",
       "2  62.0      0      0   240276   9.6875   NaN        Q  \n",
       "3  27.0      0      0   315154   8.6625   NaN        S  \n",
       "4  22.0      1      1  3101298  12.2875   NaN        S  "
      ]
     },
     "execution_count": 61,
     "metadata": {},
     "output_type": "execute_result"
    }
   ],
   "source": [
    "test.head()"
   ]
  },
  {
   "cell_type": "code",
   "execution_count": 62,
   "metadata": {},
   "outputs": [
    {
     "name": "stdout",
     "output_type": "stream",
     "text": [
      "<class 'pandas.core.frame.DataFrame'>\n",
      "RangeIndex: 891 entries, 0 to 890\n",
      "Data columns (total 12 columns):\n",
      "PassengerId    891 non-null int64\n",
      "Survived       891 non-null int64\n",
      "Pclass         891 non-null int64\n",
      "Name           891 non-null object\n",
      "Sex            891 non-null object\n",
      "Age            714 non-null float64\n",
      "SibSp          891 non-null int64\n",
      "Parch          891 non-null int64\n",
      "Ticket         891 non-null object\n",
      "Fare           891 non-null float64\n",
      "Cabin          204 non-null object\n",
      "Embarked       889 non-null object\n",
      "dtypes: float64(2), int64(5), object(5)\n",
      "memory usage: 83.6+ KB\n"
     ]
    }
   ],
   "source": [
    "train.info()"
   ]
  },
  {
   "cell_type": "markdown",
   "metadata": {},
   "source": [
    "# EDA"
   ]
  },
  {
   "cell_type": "code",
   "execution_count": 63,
   "metadata": {},
   "outputs": [
    {
     "data": {
      "text/plain": [
       "Index(['PassengerId', 'Survived', 'Pclass', 'Name', 'Sex', 'Age', 'SibSp',\n",
       "       'Parch', 'Ticket', 'Fare', 'Cabin', 'Embarked'],\n",
       "      dtype='object')"
      ]
     },
     "execution_count": 63,
     "metadata": {},
     "output_type": "execute_result"
    }
   ],
   "source": [
    "train.columns"
   ]
  },
  {
   "cell_type": "code",
   "execution_count": 64,
   "metadata": {},
   "outputs": [
    {
     "data": {
      "text/plain": [
       "male      577\n",
       "female    314\n",
       "Name: Sex, dtype: int64"
      ]
     },
     "execution_count": 64,
     "metadata": {},
     "output_type": "execute_result"
    }
   ],
   "source": [
    "train.Sex.value_counts(dropna=False)"
   ]
  },
  {
   "cell_type": "code",
   "execution_count": 65,
   "metadata": {
    "collapsed": true
   },
   "outputs": [],
   "source": [
    "sns.boxplot?"
   ]
  },
  {
   "cell_type": "code",
   "execution_count": 66,
   "metadata": {},
   "outputs": [
    {
     "data": {
      "text/plain": [
       "<matplotlib.axes._subplots.AxesSubplot at 0x1b2e9b63f28>"
      ]
     },
     "execution_count": 66,
     "metadata": {},
     "output_type": "execute_result"
    },
    {
     "data": {
      "image/png": "[encoded data removed]",
      "text/plain": [
       "<matplotlib.figure.Figure at 0x1b2e9b63780>"
      ]
     },
     "metadata": {
      "image/png": {
       "height": 372,
       "width": 573
      }
     },
     "output_type": "display_data"
    }
   ],
   "source": [
    "sns.boxplot(data=train, x='Fare', y='Sex')"
   ]
  },
  {
   "cell_type": "code",
   "execution_count": 67,
   "metadata": {},
   "outputs": [
    {
     "data": {
      "text/plain": [
       "Sex     Pclass\n",
       "female  3         0.458599\n",
       "        1         0.299363\n",
       "        2         0.242038\n",
       "male    3         0.601386\n",
       "        1         0.211438\n",
       "        2         0.187175\n",
       "Name: Pclass, dtype: float64"
      ]
     },
     "execution_count": 67,
     "metadata": {},
     "output_type": "execute_result"
    }
   ],
   "source": [
    "train.groupby('Sex')['Pclass'].value_counts(normalize=True)"
   ]
  },
  {
   "cell_type": "markdown",
   "metadata": {},
   "source": [
    "### Фичи"
   ]
  },
  {
   "cell_type": "markdown",
   "metadata": {},
   "source": [
    "чтобы одинаковым образом обработать train и test и не дублировать все операции 2 раза, соединим эти два набора данных в один, не забыв при этом:\n",
    "1. выкинуть целевую переменную из train\n",
    "2. проверить на соответствие набора признаков друг другу\n",
    "3. добавить флаг того, является ли объект тестовым или нет"
   ]
  },
  {
   "cell_type": "code",
   "execution_count": 68,
   "metadata": {
    "collapsed": true
   },
   "outputs": [],
   "source": [
    "y_train = train.Survived\n",
    "train.drop('Survived', axis=1, inplace=True)"
   ]
  },
  {
   "cell_type": "code",
   "execution_count": 69,
   "metadata": {},
   "outputs": [
    {
     "data": {
      "text/plain": [
       "array([ True,  True,  True,  True,  True,  True,  True,  True,  True,\n",
       "        True,  True], dtype=bool)"
      ]
     },
     "execution_count": 69,
     "metadata": {},
     "output_type": "execute_result"
    }
   ],
   "source": [
    "train.columns == test.columns"
   ]
  },
  {
   "cell_type": "code",
   "execution_count": 70,
   "metadata": {
    "collapsed": true
   },
   "outputs": [],
   "source": [
    "train['is_test'] = 0\n",
    "test['is_test'] = 1"
   ]
  },
  {
   "cell_type": "code",
   "execution_count": 71,
   "metadata": {
    "collapsed": true
   },
   "outputs": [],
   "source": [
    "df = pd.concat([train, test])"
   ]
  },
  {
   "cell_type": "markdown",
   "metadata": {},
   "source": [
    "супер, теперь полный набор данных можно обрабатывать вместе и в любой момент, уже обработанными, обратно разъединить на обучающую и тестовую выборки"
   ]
  },
  {
   "cell_type": "markdown",
   "metadata": {},
   "source": [
    "Пол male/female закодируем в 1/0 и удалим переменные, с которыми мы не будем сейчас работать"
   ]
  },
  {
   "cell_type": "code",
   "execution_count": 72,
   "metadata": {
    "collapsed": true
   },
   "outputs": [],
   "source": [
    "df[\"isMale\"] = df.Sex.replace({\"male\": 1, \"female\":0})\n",
    "df.drop([\"Sex\", \"Cabin\", \"Ticket\", \"Name\", \"PassengerId\"], axis=1, inplace=True)"
   ]
  },
  {
   "cell_type": "markdown",
   "metadata": {},
   "source": [
    "признаки, значения которых составляют небольшой перечислимый набор, закодируем в отдельные столбцы "
   ]
  },
  {
   "cell_type": "code",
   "execution_count": 73,
   "metadata": {},
   "outputs": [
    {
     "data": {
      "text/plain": [
       "3    709\n",
       "1    323\n",
       "2    277\n",
       "Name: Pclass, dtype: int64"
      ]
     },
     "execution_count": 73,
     "metadata": {},
     "output_type": "execute_result"
    }
   ],
   "source": [
    "df.Pclass.value_counts()"
   ]
  },
  {
   "cell_type": "code",
   "execution_count": 74,
   "metadata": {
    "collapsed": true
   },
   "outputs": [],
   "source": [
    "df_dummies = pd.get_dummies(df, columns=['Pclass', 'Embarked'])"
   ]
  },
  {
   "cell_type": "code",
   "execution_count": 75,
   "metadata": {},
   "outputs": [
    {
     "data": {
      "text/html": [
       "<div>\n",
       "<style>\n",
       "    .dataframe thead tr:only-child th {\n",
       "        text-align: right;\n",
       "    }\n",
       "\n",
       "    .dataframe thead th {\n",
       "        text-align: left;\n",
       "    }\n",
       "\n",
       "    .dataframe tbody tr th {\n",
       "        vertical-align: top;\n",
       "    }\n",
       "</style>\n",
       "<table border=\"1\" class=\"dataframe\">\n",
       "  <thead>\n",
       "    <tr style=\"text-align: right;\">\n",
       "      <th></th>\n",
       "      <th>Age</th>\n",
       "      <th>SibSp</th>\n",
       "      <th>Parch</th>\n",
       "      <th>Fare</th>\n",
       "      <th>is_test</th>\n",
       "      <th>isMale</th>\n",
       "      <th>Pclass_1</th>\n",
       "      <th>Pclass_2</th>\n",
       "      <th>Pclass_3</th>\n",
       "      <th>Embarked_C</th>\n",
       "      <th>Embarked_Q</th>\n",
       "      <th>Embarked_S</th>\n",
       "    </tr>\n",
       "  </thead>\n",
       "  <tbody>\n",
       "    <tr>\n",
       "      <th>0</th>\n",
       "      <td>22.0</td>\n",
       "      <td>1</td>\n",
       "      <td>0</td>\n",
       "      <td>7.2500</td>\n",
       "      <td>0</td>\n",
       "      <td>1</td>\n",
       "      <td>0</td>\n",
       "      <td>0</td>\n",
       "      <td>1</td>\n",
       "      <td>0</td>\n",
       "      <td>0</td>\n",
       "      <td>1</td>\n",
       "    </tr>\n",
       "    <tr>\n",
       "      <th>1</th>\n",
       "      <td>38.0</td>\n",
       "      <td>1</td>\n",
       "      <td>0</td>\n",
       "      <td>71.2833</td>\n",
       "      <td>0</td>\n",
       "      <td>0</td>\n",
       "      <td>1</td>\n",
       "      <td>0</td>\n",
       "      <td>0</td>\n",
       "      <td>1</td>\n",
       "      <td>0</td>\n",
       "      <td>0</td>\n",
       "    </tr>\n",
       "    <tr>\n",
       "      <th>2</th>\n",
       "      <td>26.0</td>\n",
       "      <td>0</td>\n",
       "      <td>0</td>\n",
       "      <td>7.9250</td>\n",
       "      <td>0</td>\n",
       "      <td>0</td>\n",
       "      <td>0</td>\n",
       "      <td>0</td>\n",
       "      <td>1</td>\n",
       "      <td>0</td>\n",
       "      <td>0</td>\n",
       "      <td>1</td>\n",
       "    </tr>\n",
       "    <tr>\n",
       "      <th>3</th>\n",
       "      <td>35.0</td>\n",
       "      <td>1</td>\n",
       "      <td>0</td>\n",
       "      <td>53.1000</td>\n",
       "      <td>0</td>\n",
       "      <td>0</td>\n",
       "      <td>1</td>\n",
       "      <td>0</td>\n",
       "      <td>0</td>\n",
       "      <td>0</td>\n",
       "      <td>0</td>\n",
       "      <td>1</td>\n",
       "    </tr>\n",
       "    <tr>\n",
       "      <th>4</th>\n",
       "      <td>35.0</td>\n",
       "      <td>0</td>\n",
       "      <td>0</td>\n",
       "      <td>8.0500</td>\n",
       "      <td>0</td>\n",
       "      <td>1</td>\n",
       "      <td>0</td>\n",
       "      <td>0</td>\n",
       "      <td>1</td>\n",
       "      <td>0</td>\n",
       "      <td>0</td>\n",
       "      <td>1</td>\n",
       "    </tr>\n",
       "    <tr>\n",
       "      <th>5</th>\n",
       "      <td>NaN</td>\n",
       "      <td>0</td>\n",
       "      <td>0</td>\n",
       "      <td>8.4583</td>\n",
       "      <td>0</td>\n",
       "      <td>1</td>\n",
       "      <td>0</td>\n",
       "      <td>0</td>\n",
       "      <td>1</td>\n",
       "      <td>0</td>\n",
       "      <td>1</td>\n",
       "      <td>0</td>\n",
       "    </tr>\n",
       "    <tr>\n",
       "      <th>6</th>\n",
       "      <td>54.0</td>\n",
       "      <td>0</td>\n",
       "      <td>0</td>\n",
       "      <td>51.8625</td>\n",
       "      <td>0</td>\n",
       "      <td>1</td>\n",
       "      <td>1</td>\n",
       "      <td>0</td>\n",
       "      <td>0</td>\n",
       "      <td>0</td>\n",
       "      <td>0</td>\n",
       "      <td>1</td>\n",
       "    </tr>\n",
       "    <tr>\n",
       "      <th>7</th>\n",
       "      <td>2.0</td>\n",
       "      <td>3</td>\n",
       "      <td>1</td>\n",
       "      <td>21.0750</td>\n",
       "      <td>0</td>\n",
       "      <td>1</td>\n",
       "      <td>0</td>\n",
       "      <td>0</td>\n",
       "      <td>1</td>\n",
       "      <td>0</td>\n",
       "      <td>0</td>\n",
       "      <td>1</td>\n",
       "    </tr>\n",
       "    <tr>\n",
       "      <th>8</th>\n",
       "      <td>27.0</td>\n",
       "      <td>0</td>\n",
       "      <td>2</td>\n",
       "      <td>11.1333</td>\n",
       "      <td>0</td>\n",
       "      <td>0</td>\n",
       "      <td>0</td>\n",
       "      <td>0</td>\n",
       "      <td>1</td>\n",
       "      <td>0</td>\n",
       "      <td>0</td>\n",
       "      <td>1</td>\n",
       "    </tr>\n",
       "    <tr>\n",
       "      <th>9</th>\n",
       "      <td>14.0</td>\n",
       "      <td>1</td>\n",
       "      <td>0</td>\n",
       "      <td>30.0708</td>\n",
       "      <td>0</td>\n",
       "      <td>0</td>\n",
       "      <td>0</td>\n",
       "      <td>1</td>\n",
       "      <td>0</td>\n",
       "      <td>1</td>\n",
       "      <td>0</td>\n",
       "      <td>0</td>\n",
       "    </tr>\n",
       "  </tbody>\n",
       "</table>\n",
       "</div>"
      ],
      "text/plain": [
       "    Age  SibSp  Parch     Fare  is_test  isMale  Pclass_1  Pclass_2  Pclass_3  \\\n",
       "0  22.0      1      0   7.2500        0       1         0         0         1   \n",
       "1  38.0      1      0  71.2833        0       0         1         0         0   \n",
       "2  26.0      0      0   7.9250        0       0         0         0         1   \n",
       "3  35.0      1      0  53.1000        0       0         1         0         0   \n",
       "4  35.0      0      0   8.0500        0       1         0         0         1   \n",
       "5   NaN      0      0   8.4583        0       1         0         0         1   \n",
       "6  54.0      0      0  51.8625        0       1         1         0         0   \n",
       "7   2.0      3      1  21.0750        0       1         0         0         1   \n",
       "8  27.0      0      2  11.1333        0       0         0         0         1   \n",
       "9  14.0      1      0  30.0708        0       0         0         1         0   \n",
       "\n",
       "   Embarked_C  Embarked_Q  Embarked_S  \n",
       "0           0           0           1  \n",
       "1           1           0           0  \n",
       "2           0           0           1  \n",
       "3           0           0           1  \n",
       "4           0           0           1  \n",
       "5           0           1           0  \n",
       "6           0           0           1  \n",
       "7           0           0           1  \n",
       "8           0           0           1  \n",
       "9           1           0           0  "
      ]
     },
     "execution_count": 75,
     "metadata": {},
     "output_type": "execute_result"
    }
   ],
   "source": [
    "df_dummies.head(10)"
   ]
  },
  {
   "cell_type": "code",
   "execution_count": 76,
   "metadata": {},
   "outputs": [
    {
     "data": {
      "text/plain": [
       "Age           263\n",
       "SibSp           0\n",
       "Parch           0\n",
       "Fare            1\n",
       "is_test         0\n",
       "isMale          0\n",
       "Pclass_1        0\n",
       "Pclass_2        0\n",
       "Pclass_3        0\n",
       "Embarked_C      0\n",
       "Embarked_Q      0\n",
       "Embarked_S      0\n",
       "dtype: int64"
      ]
     },
     "execution_count": 76,
     "metadata": {},
     "output_type": "execute_result"
    }
   ],
   "source": [
    "df_dummies.isnull().sum()"
   ]
  },
  {
   "cell_type": "code",
   "execution_count": 77,
   "metadata": {
    "collapsed": true
   },
   "outputs": [],
   "source": [
    "X_train = df_dummies[df_dummies.is_test==0].drop('is_test', axis=1)\n",
    "X_test = df_dummies[df_dummies.is_test==1].drop('is_test', axis=1)"
   ]
  },
  {
   "cell_type": "code",
   "execution_count": 78,
   "metadata": {
    "collapsed": true
   },
   "outputs": [],
   "source": [
    "columns = X_train.columns"
   ]
  },
  {
   "cell_type": "code",
   "execution_count": 79,
   "metadata": {},
   "outputs": [
    {
     "data": {
      "text/html": [
       "<div>\n",
       "<style>\n",
       "    .dataframe thead tr:only-child th {\n",
       "        text-align: right;\n",
       "    }\n",
       "\n",
       "    .dataframe thead th {\n",
       "        text-align: left;\n",
       "    }\n",
       "\n",
       "    .dataframe tbody tr th {\n",
       "        vertical-align: top;\n",
       "    }\n",
       "</style>\n",
       "<table border=\"1\" class=\"dataframe\">\n",
       "  <thead>\n",
       "    <tr style=\"text-align: right;\">\n",
       "      <th></th>\n",
       "      <th>Age</th>\n",
       "      <th>SibSp</th>\n",
       "      <th>Parch</th>\n",
       "      <th>Fare</th>\n",
       "      <th>isMale</th>\n",
       "      <th>Pclass_1</th>\n",
       "      <th>Pclass_2</th>\n",
       "      <th>Pclass_3</th>\n",
       "      <th>Embarked_C</th>\n",
       "      <th>Embarked_Q</th>\n",
       "      <th>Embarked_S</th>\n",
       "    </tr>\n",
       "  </thead>\n",
       "  <tbody>\n",
       "    <tr>\n",
       "      <th>0</th>\n",
       "      <td>22.0</td>\n",
       "      <td>1</td>\n",
       "      <td>0</td>\n",
       "      <td>7.2500</td>\n",
       "      <td>1</td>\n",
       "      <td>0</td>\n",
       "      <td>0</td>\n",
       "      <td>1</td>\n",
       "      <td>0</td>\n",
       "      <td>0</td>\n",
       "      <td>1</td>\n",
       "    </tr>\n",
       "    <tr>\n",
       "      <th>1</th>\n",
       "      <td>38.0</td>\n",
       "      <td>1</td>\n",
       "      <td>0</td>\n",
       "      <td>71.2833</td>\n",
       "      <td>0</td>\n",
       "      <td>1</td>\n",
       "      <td>0</td>\n",
       "      <td>0</td>\n",
       "      <td>1</td>\n",
       "      <td>0</td>\n",
       "      <td>0</td>\n",
       "    </tr>\n",
       "    <tr>\n",
       "      <th>2</th>\n",
       "      <td>26.0</td>\n",
       "      <td>0</td>\n",
       "      <td>0</td>\n",
       "      <td>7.9250</td>\n",
       "      <td>0</td>\n",
       "      <td>0</td>\n",
       "      <td>0</td>\n",
       "      <td>1</td>\n",
       "      <td>0</td>\n",
       "      <td>0</td>\n",
       "      <td>1</td>\n",
       "    </tr>\n",
       "    <tr>\n",
       "      <th>3</th>\n",
       "      <td>35.0</td>\n",
       "      <td>1</td>\n",
       "      <td>0</td>\n",
       "      <td>53.1000</td>\n",
       "      <td>0</td>\n",
       "      <td>1</td>\n",
       "      <td>0</td>\n",
       "      <td>0</td>\n",
       "      <td>0</td>\n",
       "      <td>0</td>\n",
       "      <td>1</td>\n",
       "    </tr>\n",
       "    <tr>\n",
       "      <th>4</th>\n",
       "      <td>35.0</td>\n",
       "      <td>0</td>\n",
       "      <td>0</td>\n",
       "      <td>8.0500</td>\n",
       "      <td>1</td>\n",
       "      <td>0</td>\n",
       "      <td>0</td>\n",
       "      <td>1</td>\n",
       "      <td>0</td>\n",
       "      <td>0</td>\n",
       "      <td>1</td>\n",
       "    </tr>\n",
       "    <tr>\n",
       "      <th>5</th>\n",
       "      <td>NaN</td>\n",
       "      <td>0</td>\n",
       "      <td>0</td>\n",
       "      <td>8.4583</td>\n",
       "      <td>1</td>\n",
       "      <td>0</td>\n",
       "      <td>0</td>\n",
       "      <td>1</td>\n",
       "      <td>0</td>\n",
       "      <td>1</td>\n",
       "      <td>0</td>\n",
       "    </tr>\n",
       "    <tr>\n",
       "      <th>6</th>\n",
       "      <td>54.0</td>\n",
       "      <td>0</td>\n",
       "      <td>0</td>\n",
       "      <td>51.8625</td>\n",
       "      <td>1</td>\n",
       "      <td>1</td>\n",
       "      <td>0</td>\n",
       "      <td>0</td>\n",
       "      <td>0</td>\n",
       "      <td>0</td>\n",
       "      <td>1</td>\n",
       "    </tr>\n",
       "    <tr>\n",
       "      <th>7</th>\n",
       "      <td>2.0</td>\n",
       "      <td>3</td>\n",
       "      <td>1</td>\n",
       "      <td>21.0750</td>\n",
       "      <td>1</td>\n",
       "      <td>0</td>\n",
       "      <td>0</td>\n",
       "      <td>1</td>\n",
       "      <td>0</td>\n",
       "      <td>0</td>\n",
       "      <td>1</td>\n",
       "    </tr>\n",
       "    <tr>\n",
       "      <th>8</th>\n",
       "      <td>27.0</td>\n",
       "      <td>0</td>\n",
       "      <td>2</td>\n",
       "      <td>11.1333</td>\n",
       "      <td>0</td>\n",
       "      <td>0</td>\n",
       "      <td>0</td>\n",
       "      <td>1</td>\n",
       "      <td>0</td>\n",
       "      <td>0</td>\n",
       "      <td>1</td>\n",
       "    </tr>\n",
       "    <tr>\n",
       "      <th>9</th>\n",
       "      <td>14.0</td>\n",
       "      <td>1</td>\n",
       "      <td>0</td>\n",
       "      <td>30.0708</td>\n",
       "      <td>0</td>\n",
       "      <td>0</td>\n",
       "      <td>1</td>\n",
       "      <td>0</td>\n",
       "      <td>1</td>\n",
       "      <td>0</td>\n",
       "      <td>0</td>\n",
       "    </tr>\n",
       "  </tbody>\n",
       "</table>\n",
       "</div>"
      ],
      "text/plain": [
       "    Age  SibSp  Parch     Fare  isMale  Pclass_1  Pclass_2  Pclass_3  \\\n",
       "0  22.0      1      0   7.2500       1         0         0         1   \n",
       "1  38.0      1      0  71.2833       0         1         0         0   \n",
       "2  26.0      0      0   7.9250       0         0         0         1   \n",
       "3  35.0      1      0  53.1000       0         1         0         0   \n",
       "4  35.0      0      0   8.0500       1         0         0         1   \n",
       "5   NaN      0      0   8.4583       1         0         0         1   \n",
       "6  54.0      0      0  51.8625       1         1         0         0   \n",
       "7   2.0      3      1  21.0750       1         0         0         1   \n",
       "8  27.0      0      2  11.1333       0         0         0         1   \n",
       "9  14.0      1      0  30.0708       0         0         1         0   \n",
       "\n",
       "   Embarked_C  Embarked_Q  Embarked_S  \n",
       "0           0           0           1  \n",
       "1           1           0           0  \n",
       "2           0           0           1  \n",
       "3           0           0           1  \n",
       "4           0           0           1  \n",
       "5           0           1           0  \n",
       "6           0           0           1  \n",
       "7           0           0           1  \n",
       "8           0           0           1  \n",
       "9           1           0           0  "
      ]
     },
     "execution_count": 79,
     "metadata": {},
     "output_type": "execute_result"
    }
   ],
   "source": [
    "X_train.head(10)"
   ]
  },
  {
   "cell_type": "markdown",
   "metadata": {},
   "source": [
    "### Заполнение пустых значений"
   ]
  },
  {
   "cell_type": "markdown",
   "metadata": {},
   "source": [
    "заполним пустые значения средними по соответственным признакам"
   ]
  },
  {
   "cell_type": "code",
   "execution_count": 80,
   "metadata": {
    "collapsed": true
   },
   "outputs": [],
   "source": [
    "from sklearn.preprocessing import Imputer"
   ]
  },
  {
   "cell_type": "code",
   "execution_count": 81,
   "metadata": {
    "collapsed": true
   },
   "outputs": [],
   "source": [
    "imputer = Imputer(missing_values='NaN', strategy='mean', axis=0, verbose=0, copy=True)"
   ]
  },
  {
   "cell_type": "code",
   "execution_count": 82,
   "metadata": {
    "scrolled": true
   },
   "outputs": [
    {
     "data": {
      "text/plain": [
       "Imputer(axis=0, copy=True, missing_values='NaN', strategy='mean', verbose=0)"
      ]
     },
     "execution_count": 82,
     "metadata": {},
     "output_type": "execute_result"
    }
   ],
   "source": [
    "imputer.fit(X_train)"
   ]
  },
  {
   "cell_type": "code",
   "execution_count": 83,
   "metadata": {
    "collapsed": true
   },
   "outputs": [],
   "source": [
    "X_train_imputed = imputer.transform(X_train)\n",
    "X_train_imputed = pd.DataFrame(X_train_imputed, columns=columns)"
   ]
  },
  {
   "cell_type": "code",
   "execution_count": 84,
   "metadata": {},
   "outputs": [
    {
     "data": {
      "text/html": [
       "<div>\n",
       "<style>\n",
       "    .dataframe thead tr:only-child th {\n",
       "        text-align: right;\n",
       "    }\n",
       "\n",
       "    .dataframe thead th {\n",
       "        text-align: left;\n",
       "    }\n",
       "\n",
       "    .dataframe tbody tr th {\n",
       "        vertical-align: top;\n",
       "    }\n",
       "</style>\n",
       "<table border=\"1\" class=\"dataframe\">\n",
       "  <thead>\n",
       "    <tr style=\"text-align: right;\">\n",
       "      <th></th>\n",
       "      <th>Age</th>\n",
       "      <th>SibSp</th>\n",
       "      <th>Parch</th>\n",
       "      <th>Fare</th>\n",
       "      <th>isMale</th>\n",
       "      <th>Pclass_1</th>\n",
       "      <th>Pclass_2</th>\n",
       "      <th>Pclass_3</th>\n",
       "      <th>Embarked_C</th>\n",
       "      <th>Embarked_Q</th>\n",
       "      <th>Embarked_S</th>\n",
       "    </tr>\n",
       "  </thead>\n",
       "  <tbody>\n",
       "    <tr>\n",
       "      <th>0</th>\n",
       "      <td>22.000000</td>\n",
       "      <td>1.0</td>\n",
       "      <td>0.0</td>\n",
       "      <td>7.2500</td>\n",
       "      <td>1.0</td>\n",
       "      <td>0.0</td>\n",
       "      <td>0.0</td>\n",
       "      <td>1.0</td>\n",
       "      <td>0.0</td>\n",
       "      <td>0.0</td>\n",
       "      <td>1.0</td>\n",
       "    </tr>\n",
       "    <tr>\n",
       "      <th>1</th>\n",
       "      <td>38.000000</td>\n",
       "      <td>1.0</td>\n",
       "      <td>0.0</td>\n",
       "      <td>71.2833</td>\n",
       "      <td>0.0</td>\n",
       "      <td>1.0</td>\n",
       "      <td>0.0</td>\n",
       "      <td>0.0</td>\n",
       "      <td>1.0</td>\n",
       "      <td>0.0</td>\n",
       "      <td>0.0</td>\n",
       "    </tr>\n",
       "    <tr>\n",
       "      <th>2</th>\n",
       "      <td>26.000000</td>\n",
       "      <td>0.0</td>\n",
       "      <td>0.0</td>\n",
       "      <td>7.9250</td>\n",
       "      <td>0.0</td>\n",
       "      <td>0.0</td>\n",
       "      <td>0.0</td>\n",
       "      <td>1.0</td>\n",
       "      <td>0.0</td>\n",
       "      <td>0.0</td>\n",
       "      <td>1.0</td>\n",
       "    </tr>\n",
       "    <tr>\n",
       "      <th>3</th>\n",
       "      <td>35.000000</td>\n",
       "      <td>1.0</td>\n",
       "      <td>0.0</td>\n",
       "      <td>53.1000</td>\n",
       "      <td>0.0</td>\n",
       "      <td>1.0</td>\n",
       "      <td>0.0</td>\n",
       "      <td>0.0</td>\n",
       "      <td>0.0</td>\n",
       "      <td>0.0</td>\n",
       "      <td>1.0</td>\n",
       "    </tr>\n",
       "    <tr>\n",
       "      <th>4</th>\n",
       "      <td>35.000000</td>\n",
       "      <td>0.0</td>\n",
       "      <td>0.0</td>\n",
       "      <td>8.0500</td>\n",
       "      <td>1.0</td>\n",
       "      <td>0.0</td>\n",
       "      <td>0.0</td>\n",
       "      <td>1.0</td>\n",
       "      <td>0.0</td>\n",
       "      <td>0.0</td>\n",
       "      <td>1.0</td>\n",
       "    </tr>\n",
       "    <tr>\n",
       "      <th>5</th>\n",
       "      <td>29.699118</td>\n",
       "      <td>0.0</td>\n",
       "      <td>0.0</td>\n",
       "      <td>8.4583</td>\n",
       "      <td>1.0</td>\n",
       "      <td>0.0</td>\n",
       "      <td>0.0</td>\n",
       "      <td>1.0</td>\n",
       "      <td>0.0</td>\n",
       "      <td>1.0</td>\n",
       "      <td>0.0</td>\n",
       "    </tr>\n",
       "    <tr>\n",
       "      <th>6</th>\n",
       "      <td>54.000000</td>\n",
       "      <td>0.0</td>\n",
       "      <td>0.0</td>\n",
       "      <td>51.8625</td>\n",
       "      <td>1.0</td>\n",
       "      <td>1.0</td>\n",
       "      <td>0.0</td>\n",
       "      <td>0.0</td>\n",
       "      <td>0.0</td>\n",
       "      <td>0.0</td>\n",
       "      <td>1.0</td>\n",
       "    </tr>\n",
       "    <tr>\n",
       "      <th>7</th>\n",
       "      <td>2.000000</td>\n",
       "      <td>3.0</td>\n",
       "      <td>1.0</td>\n",
       "      <td>21.0750</td>\n",
       "      <td>1.0</td>\n",
       "      <td>0.0</td>\n",
       "      <td>0.0</td>\n",
       "      <td>1.0</td>\n",
       "      <td>0.0</td>\n",
       "      <td>0.0</td>\n",
       "      <td>1.0</td>\n",
       "    </tr>\n",
       "    <tr>\n",
       "      <th>8</th>\n",
       "      <td>27.000000</td>\n",
       "      <td>0.0</td>\n",
       "      <td>2.0</td>\n",
       "      <td>11.1333</td>\n",
       "      <td>0.0</td>\n",
       "      <td>0.0</td>\n",
       "      <td>0.0</td>\n",
       "      <td>1.0</td>\n",
       "      <td>0.0</td>\n",
       "      <td>0.0</td>\n",
       "      <td>1.0</td>\n",
       "    </tr>\n",
       "    <tr>\n",
       "      <th>9</th>\n",
       "      <td>14.000000</td>\n",
       "      <td>1.0</td>\n",
       "      <td>0.0</td>\n",
       "      <td>30.0708</td>\n",
       "      <td>0.0</td>\n",
       "      <td>0.0</td>\n",
       "      <td>1.0</td>\n",
       "      <td>0.0</td>\n",
       "      <td>1.0</td>\n",
       "      <td>0.0</td>\n",
       "      <td>0.0</td>\n",
       "    </tr>\n",
       "  </tbody>\n",
       "</table>\n",
       "</div>"
      ],
      "text/plain": [
       "         Age  SibSp  Parch     Fare  isMale  Pclass_1  Pclass_2  Pclass_3  \\\n",
       "0  22.000000    1.0    0.0   7.2500     1.0       0.0       0.0       1.0   \n",
       "1  38.000000    1.0    0.0  71.2833     0.0       1.0       0.0       0.0   \n",
       "2  26.000000    0.0    0.0   7.9250     0.0       0.0       0.0       1.0   \n",
       "3  35.000000    1.0    0.0  53.1000     0.0       1.0       0.0       0.0   \n",
       "4  35.000000    0.0    0.0   8.0500     1.0       0.0       0.0       1.0   \n",
       "5  29.699118    0.0    0.0   8.4583     1.0       0.0       0.0       1.0   \n",
       "6  54.000000    0.0    0.0  51.8625     1.0       1.0       0.0       0.0   \n",
       "7   2.000000    3.0    1.0  21.0750     1.0       0.0       0.0       1.0   \n",
       "8  27.000000    0.0    2.0  11.1333     0.0       0.0       0.0       1.0   \n",
       "9  14.000000    1.0    0.0  30.0708     0.0       0.0       1.0       0.0   \n",
       "\n",
       "   Embarked_C  Embarked_Q  Embarked_S  \n",
       "0         0.0         0.0         1.0  \n",
       "1         1.0         0.0         0.0  \n",
       "2         0.0         0.0         1.0  \n",
       "3         0.0         0.0         1.0  \n",
       "4         0.0         0.0         1.0  \n",
       "5         0.0         1.0         0.0  \n",
       "6         0.0         0.0         1.0  \n",
       "7         0.0         0.0         1.0  \n",
       "8         0.0         0.0         1.0  \n",
       "9         1.0         0.0         0.0  "
      ]
     },
     "execution_count": 84,
     "metadata": {},
     "output_type": "execute_result"
    }
   ],
   "source": [
    "X_train_imputed.head(10)"
   ]
  },
  {
   "cell_type": "markdown",
   "metadata": {},
   "source": [
    "### Нормировка значений"
   ]
  },
  {
   "cell_type": "code",
   "execution_count": 85,
   "metadata": {
    "collapsed": true
   },
   "outputs": [],
   "source": [
    "from sklearn.preprocessing import StandardScaler"
   ]
  },
  {
   "cell_type": "code",
   "execution_count": 86,
   "metadata": {
    "collapsed": true
   },
   "outputs": [],
   "source": [
    "scaler = StandardScaler()"
   ]
  },
  {
   "cell_type": "code",
   "execution_count": 87,
   "metadata": {},
   "outputs": [
    {
     "data": {
      "text/plain": [
       "StandardScaler(copy=True, with_mean=True, with_std=True)"
      ]
     },
     "execution_count": 87,
     "metadata": {},
     "output_type": "execute_result"
    }
   ],
   "source": [
    "scaler.fit(X_train_imputed)"
   ]
  },
  {
   "cell_type": "code",
   "execution_count": 88,
   "metadata": {
    "collapsed": true
   },
   "outputs": [],
   "source": [
    "X_train_imputed_scaled = scaler.transform(X_train_imputed)\n",
    "X_train_imputed_scaled = pd.DataFrame(X_train_imputed_scaled, columns=columns)"
   ]
  },
  {
   "cell_type": "code",
   "execution_count": 89,
   "metadata": {},
   "outputs": [
    {
     "data": {
      "text/html": [
       "<div>\n",
       "<style>\n",
       "    .dataframe thead tr:only-child th {\n",
       "        text-align: right;\n",
       "    }\n",
       "\n",
       "    .dataframe thead th {\n",
       "        text-align: left;\n",
       "    }\n",
       "\n",
       "    .dataframe tbody tr th {\n",
       "        vertical-align: top;\n",
       "    }\n",
       "</style>\n",
       "<table border=\"1\" class=\"dataframe\">\n",
       "  <thead>\n",
       "    <tr style=\"text-align: right;\">\n",
       "      <th></th>\n",
       "      <th>Age</th>\n",
       "      <th>SibSp</th>\n",
       "      <th>Parch</th>\n",
       "      <th>Fare</th>\n",
       "      <th>isMale</th>\n",
       "      <th>Pclass_1</th>\n",
       "      <th>Pclass_2</th>\n",
       "      <th>Pclass_3</th>\n",
       "      <th>Embarked_C</th>\n",
       "      <th>Embarked_Q</th>\n",
       "      <th>Embarked_S</th>\n",
       "    </tr>\n",
       "  </thead>\n",
       "  <tbody>\n",
       "    <tr>\n",
       "      <th>0</th>\n",
       "      <td>-0.592481</td>\n",
       "      <td>0.432793</td>\n",
       "      <td>-0.473674</td>\n",
       "      <td>-0.502445</td>\n",
       "      <td>0.737695</td>\n",
       "      <td>-0.565685</td>\n",
       "      <td>-0.510152</td>\n",
       "      <td>0.902587</td>\n",
       "      <td>-0.482043</td>\n",
       "      <td>-0.307562</td>\n",
       "      <td>0.619306</td>\n",
       "    </tr>\n",
       "    <tr>\n",
       "      <th>1</th>\n",
       "      <td>0.638789</td>\n",
       "      <td>0.432793</td>\n",
       "      <td>-0.473674</td>\n",
       "      <td>0.786845</td>\n",
       "      <td>-1.355574</td>\n",
       "      <td>1.767767</td>\n",
       "      <td>-0.510152</td>\n",
       "      <td>-1.107926</td>\n",
       "      <td>2.074505</td>\n",
       "      <td>-0.307562</td>\n",
       "      <td>-1.614710</td>\n",
       "    </tr>\n",
       "    <tr>\n",
       "      <th>2</th>\n",
       "      <td>-0.284663</td>\n",
       "      <td>-0.474545</td>\n",
       "      <td>-0.473674</td>\n",
       "      <td>-0.488854</td>\n",
       "      <td>-1.355574</td>\n",
       "      <td>-0.565685</td>\n",
       "      <td>-0.510152</td>\n",
       "      <td>0.902587</td>\n",
       "      <td>-0.482043</td>\n",
       "      <td>-0.307562</td>\n",
       "      <td>0.619306</td>\n",
       "    </tr>\n",
       "    <tr>\n",
       "      <th>3</th>\n",
       "      <td>0.407926</td>\n",
       "      <td>0.432793</td>\n",
       "      <td>-0.473674</td>\n",
       "      <td>0.420730</td>\n",
       "      <td>-1.355574</td>\n",
       "      <td>1.767767</td>\n",
       "      <td>-0.510152</td>\n",
       "      <td>-1.107926</td>\n",
       "      <td>-0.482043</td>\n",
       "      <td>-0.307562</td>\n",
       "      <td>0.619306</td>\n",
       "    </tr>\n",
       "    <tr>\n",
       "      <th>4</th>\n",
       "      <td>0.407926</td>\n",
       "      <td>-0.474545</td>\n",
       "      <td>-0.473674</td>\n",
       "      <td>-0.486337</td>\n",
       "      <td>0.737695</td>\n",
       "      <td>-0.565685</td>\n",
       "      <td>-0.510152</td>\n",
       "      <td>0.902587</td>\n",
       "      <td>-0.482043</td>\n",
       "      <td>-0.307562</td>\n",
       "      <td>0.619306</td>\n",
       "    </tr>\n",
       "    <tr>\n",
       "      <th>5</th>\n",
       "      <td>0.000000</td>\n",
       "      <td>-0.474545</td>\n",
       "      <td>-0.473674</td>\n",
       "      <td>-0.478116</td>\n",
       "      <td>0.737695</td>\n",
       "      <td>-0.565685</td>\n",
       "      <td>-0.510152</td>\n",
       "      <td>0.902587</td>\n",
       "      <td>-0.482043</td>\n",
       "      <td>3.251373</td>\n",
       "      <td>-1.614710</td>\n",
       "    </tr>\n",
       "    <tr>\n",
       "      <th>6</th>\n",
       "      <td>1.870059</td>\n",
       "      <td>-0.474545</td>\n",
       "      <td>-0.473674</td>\n",
       "      <td>0.395814</td>\n",
       "      <td>0.737695</td>\n",
       "      <td>1.767767</td>\n",
       "      <td>-0.510152</td>\n",
       "      <td>-1.107926</td>\n",
       "      <td>-0.482043</td>\n",
       "      <td>-0.307562</td>\n",
       "      <td>0.619306</td>\n",
       "    </tr>\n",
       "    <tr>\n",
       "      <th>7</th>\n",
       "      <td>-2.131568</td>\n",
       "      <td>2.247470</td>\n",
       "      <td>0.767630</td>\n",
       "      <td>-0.224083</td>\n",
       "      <td>0.737695</td>\n",
       "      <td>-0.565685</td>\n",
       "      <td>-0.510152</td>\n",
       "      <td>0.902587</td>\n",
       "      <td>-0.482043</td>\n",
       "      <td>-0.307562</td>\n",
       "      <td>0.619306</td>\n",
       "    </tr>\n",
       "    <tr>\n",
       "      <th>8</th>\n",
       "      <td>-0.207709</td>\n",
       "      <td>-0.474545</td>\n",
       "      <td>2.008933</td>\n",
       "      <td>-0.424256</td>\n",
       "      <td>-1.355574</td>\n",
       "      <td>-0.565685</td>\n",
       "      <td>-0.510152</td>\n",
       "      <td>0.902587</td>\n",
       "      <td>-0.482043</td>\n",
       "      <td>-0.307562</td>\n",
       "      <td>0.619306</td>\n",
       "    </tr>\n",
       "    <tr>\n",
       "      <th>9</th>\n",
       "      <td>-1.208115</td>\n",
       "      <td>0.432793</td>\n",
       "      <td>-0.473674</td>\n",
       "      <td>-0.042956</td>\n",
       "      <td>-1.355574</td>\n",
       "      <td>-0.565685</td>\n",
       "      <td>1.960202</td>\n",
       "      <td>-1.107926</td>\n",
       "      <td>2.074505</td>\n",
       "      <td>-0.307562</td>\n",
       "      <td>-1.614710</td>\n",
       "    </tr>\n",
       "  </tbody>\n",
       "</table>\n",
       "</div>"
      ],
      "text/plain": [
       "        Age     SibSp     Parch      Fare    isMale  Pclass_1  Pclass_2  \\\n",
       "0 -0.592481  0.432793 -0.473674 -0.502445  0.737695 -0.565685 -0.510152   \n",
       "1  0.638789  0.432793 -0.473674  0.786845 -1.355574  1.767767 -0.510152   \n",
       "2 -0.284663 -0.474545 -0.473674 -0.488854 -1.355574 -0.565685 -0.510152   \n",
       "3  0.407926  0.432793 -0.473674  0.420730 -1.355574  1.767767 -0.510152   \n",
       "4  0.407926 -0.474545 -0.473674 -0.486337  0.737695 -0.565685 -0.510152   \n",
       "5  0.000000 -0.474545 -0.473674 -0.478116  0.737695 -0.565685 -0.510152   \n",
       "6  1.870059 -0.474545 -0.473674  0.395814  0.737695  1.767767 -0.510152   \n",
       "7 -2.131568  2.247470  0.767630 -0.224083  0.737695 -0.565685 -0.510152   \n",
       "8 -0.207709 -0.474545  2.008933 -0.424256 -1.355574 -0.565685 -0.510152   \n",
       "9 -1.208115  0.432793 -0.473674 -0.042956 -1.355574 -0.565685  1.960202   \n",
       "\n",
       "   Pclass_3  Embarked_C  Embarked_Q  Embarked_S  \n",
       "0  0.902587   -0.482043   -0.307562    0.619306  \n",
       "1 -1.107926    2.074505   -0.307562   -1.614710  \n",
       "2  0.902587   -0.482043   -0.307562    0.619306  \n",
       "3 -1.107926   -0.482043   -0.307562    0.619306  \n",
       "4  0.902587   -0.482043   -0.307562    0.619306  \n",
       "5  0.902587   -0.482043    3.251373   -1.614710  \n",
       "6 -1.107926   -0.482043   -0.307562    0.619306  \n",
       "7  0.902587   -0.482043   -0.307562    0.619306  \n",
       "8  0.902587   -0.482043   -0.307562    0.619306  \n",
       "9 -1.107926    2.074505   -0.307562   -1.614710  "
      ]
     },
     "execution_count": 89,
     "metadata": {},
     "output_type": "execute_result"
    }
   ],
   "source": [
    "X_train_imputed_scaled.head(10)"
   ]
  },
  {
   "cell_type": "code",
   "execution_count": 90,
   "metadata": {
    "collapsed": true
   },
   "outputs": [],
   "source": [
    "X_test_imputed_scaled = scaler.transform(imputer.transform(X_test))"
   ]
  },
  {
   "cell_type": "markdown",
   "metadata": {},
   "source": [
    "### Offtop: попробуем визуализировать всех пассажиров: есть ли там кластеры?\n",
    "### PCA + clustering"
   ]
  },
  {
   "cell_type": "code",
   "execution_count": 91,
   "metadata": {
    "collapsed": true
   },
   "outputs": [],
   "source": [
    "from sklearn.decomposition import PCA"
   ]
  },
  {
   "cell_type": "code",
   "execution_count": 92,
   "metadata": {
    "collapsed": true
   },
   "outputs": [],
   "source": [
    "pca = PCA(n_components=2)"
   ]
  },
  {
   "cell_type": "code",
   "execution_count": 93,
   "metadata": {
    "collapsed": true
   },
   "outputs": [],
   "source": [
    "ppl = pca.fit_transform(X_train_imputed_scaled)"
   ]
  },
  {
   "cell_type": "markdown",
   "metadata": {},
   "source": [
    "всего 2 фичи объясняют 41% всего разнообразия пассажиров:"
   ]
  },
  {
   "cell_type": "code",
   "execution_count": 94,
   "metadata": {},
   "outputs": [
    {
     "data": {
      "text/plain": [
       "0.41017554160207298"
      ]
     },
     "execution_count": 94,
     "metadata": {},
     "output_type": "execute_result"
    }
   ],
   "source": [
    "pca.explained_variance_ratio_.sum()"
   ]
  },
  {
   "cell_type": "markdown",
   "metadata": {},
   "source": [
    "классно, видно 6 кластеров пассажиров: внутри кластера они похожи друг на друга, межу кластерами - нет:"
   ]
  },
  {
   "cell_type": "code",
   "execution_count": 95,
   "metadata": {},
   "outputs": [
    {
     "data": {
      "text/plain": [
       "Text(0.5,1,'Пассажиры Титаника')"
      ]
     },
     "execution_count": 95,
     "metadata": {},
     "output_type": "execute_result"
    },
    {
     "data": {
      "image/png": "[encoded data removed]",
      "text/plain": [
       "<matplotlib.figure.Figure at 0x1b2e9bfb978>"
      ]
     },
     "metadata": {
      "image/png": {
       "height": 372,
       "width": 540
      }
     },
     "output_type": "display_data"
    }
   ],
   "source": [
    "plt.plot(ppl[:,0], ppl[:,1], 'ro', alpha=0.1)\n",
    "plt.title('Пассажиры Титаника')"
   ]
  },
  {
   "cell_type": "markdown",
   "metadata": {},
   "source": [
    "можно попробовать кластеризовать по 7 кластерам и проверить, что получится:"
   ]
  },
  {
   "cell_type": "code",
   "execution_count": 96,
   "metadata": {
    "collapsed": true
   },
   "outputs": [],
   "source": [
    "from sklearn.cluster import KMeans"
   ]
  },
  {
   "cell_type": "code",
   "execution_count": 97,
   "metadata": {
    "collapsed": true
   },
   "outputs": [],
   "source": [
    "n_clusters = 7"
   ]
  },
  {
   "cell_type": "code",
   "execution_count": 98,
   "metadata": {
    "collapsed": true
   },
   "outputs": [],
   "source": [
    "kmeans = KMeans(n_clusters=n_clusters)"
   ]
  },
  {
   "cell_type": "code",
   "execution_count": 99,
   "metadata": {},
   "outputs": [
    {
     "data": {
      "text/plain": [
       "KMeans(algorithm='auto', copy_x=True, init='k-means++', max_iter=300,\n",
       "    n_clusters=7, n_init=10, n_jobs=1, precompute_distances='auto',\n",
       "    random_state=None, tol=0.0001, verbose=0)"
      ]
     },
     "execution_count": 99,
     "metadata": {},
     "output_type": "execute_result"
    }
   ],
   "source": [
    "kmeans.fit(X_train_imputed_scaled)"
   ]
  },
  {
   "cell_type": "code",
   "execution_count": 100,
   "metadata": {
    "collapsed": true
   },
   "outputs": [],
   "source": [
    "cluster_labels = kmeans.predict(X_train_imputed_scaled)"
   ]
  },
  {
   "cell_type": "code",
   "execution_count": 101,
   "metadata": {},
   "outputs": [
    {
     "data": {
      "image/png": "[encoded data removed]",
      "text/plain": [
       "<matplotlib.figure.Figure at 0x1b2e9c23f98>"
      ]
     },
     "metadata": {
      "image/png": {
       "height": 372,
       "width": 540
      }
     },
     "output_type": "display_data"
    }
   ],
   "source": [
    "plt.title('Пассажиры Титаника')\n",
    "for i,color in zip(range(n_clusters),{'blue','red','green','black','orange','yellow'}):\n",
    "    t = ppl[cluster_labels==i]\n",
    "    plt.plot(t[:,0], t[:,1], 'ro', alpha=0.1, c=color)"
   ]
  },
  {
   "cell_type": "markdown",
   "metadata": {},
   "source": [
    "эти номера кластеров можно было бы подать как ещё одна фича"
   ]
  },
  {
   "cell_type": "markdown",
   "metadata": {},
   "source": [
    "### Разделение на обучающую и тестирующую выборки"
   ]
  },
  {
   "cell_type": "code",
   "execution_count": 102,
   "metadata": {
    "collapsed": true
   },
   "outputs": [],
   "source": [
    "from sklearn.model_selection import train_test_split"
   ]
  },
  {
   "cell_type": "code",
   "execution_count": 103,
   "metadata": {
    "collapsed": true
   },
   "outputs": [],
   "source": [
    "X_train_fin, X_val, y_train_fin, y_val = train_test_split(X_train_imputed_scaled, y_train, test_size=0.2)"
   ]
  },
  {
   "cell_type": "code",
   "execution_count": 104,
   "metadata": {},
   "outputs": [
    {
     "data": {
      "text/plain": [
       "(712, 11)"
      ]
     },
     "execution_count": 104,
     "metadata": {},
     "output_type": "execute_result"
    }
   ],
   "source": [
    "X_train_fin.shape"
   ]
  },
  {
   "cell_type": "code",
   "execution_count": 105,
   "metadata": {
    "scrolled": true
   },
   "outputs": [
    {
     "data": {
      "text/plain": [
       "(179, 11)"
      ]
     },
     "execution_count": 105,
     "metadata": {},
     "output_type": "execute_result"
    }
   ],
   "source": [
    "X_val.shape"
   ]
  },
  {
   "cell_type": "code",
   "execution_count": 106,
   "metadata": {},
   "outputs": [
    {
     "data": {
      "text/plain": [
       "(418, 11)"
      ]
     },
     "execution_count": 106,
     "metadata": {},
     "output_type": "execute_result"
    }
   ],
   "source": [
    "X_test_imputed_scaled.shape"
   ]
  },
  {
   "cell_type": "code",
   "execution_count": 107,
   "metadata": {},
   "outputs": [
    {
     "data": {
      "text/plain": [
       "(712,)"
      ]
     },
     "execution_count": 107,
     "metadata": {},
     "output_type": "execute_result"
    }
   ],
   "source": [
    "y_train_fin.shape"
   ]
  },
  {
   "cell_type": "code",
   "execution_count": 108,
   "metadata": {},
   "outputs": [
    {
     "data": {
      "text/plain": [
       "(179,)"
      ]
     },
     "execution_count": 108,
     "metadata": {},
     "output_type": "execute_result"
    }
   ],
   "source": [
    "y_val.shape"
   ]
  },
  {
   "cell_type": "markdown",
   "metadata": {},
   "source": [
    "### Обучение с кросс-валидацией"
   ]
  },
  {
   "cell_type": "markdown",
   "metadata": {},
   "source": [
    "кросс-валидация поможет нам подобрать лучший параметр регуляризации"
   ]
  },
  {
   "cell_type": "code",
   "execution_count": 109,
   "metadata": {
    "collapsed": true
   },
   "outputs": [],
   "source": [
    "from sklearn.model_selection import GridSearchCV\n",
    "from sklearn.tree import DecisionTreeClassifier"
   ]
  },
  {
   "cell_type": "code",
   "execution_count": 111,
   "metadata": {
    "scrolled": true
   },
   "outputs": [],
   "source": [
    "depths = np.arange(1,10)\n",
    "features_num = np.arange(5,11)\n",
    "leaf_count = np.arange(5, 10)\n",
    "grid = {'max_depth': depths, 'max_features': features_num, 'min_samples_leaf': leaf_count}\n",
    "gridsearch = GridSearchCV(DecisionTreeClassifier(), grid, scoring='neg_log_loss', cv=5)"
   ]
  },
  {
   "cell_type": "code",
   "execution_count": 112,
   "metadata": {},
   "outputs": [
    {
     "name": "stdout",
     "output_type": "stream",
     "text": [
      "Wall time: 3.94 s\n"
     ]
    },
    {
     "data": {
      "text/plain": [
       "GridSearchCV(cv=5, error_score='raise',\n",
       "       estimator=DecisionTreeClassifier(class_weight=None, criterion='gini', max_depth=None,\n",
       "            max_features=None, max_leaf_nodes=None,\n",
       "            min_impurity_decrease=0.0, min_impurity_split=None,\n",
       "            min_samples_leaf=1, min_samples_split=2,\n",
       "            min_weight_fraction_leaf=0.0, presort=False, random_state=None,\n",
       "            splitter='best'),\n",
       "       fit_params=None, iid=True, n_jobs=1,\n",
       "       param_grid={'max_depth': array([1, 2, 3, 4, 5, 6, 7, 8, 9]), 'max_features': array([ 5,  6,  7,  8,  9, 10]), 'min_samples_leaf': array([5, 6, 7, 8, 9])},\n",
       "       pre_dispatch='2*n_jobs', refit=True, return_train_score='warn',\n",
       "       scoring='neg_log_loss', verbose=0)"
      ]
     },
     "execution_count": 112,
     "metadata": {},
     "output_type": "execute_result"
    }
   ],
   "source": [
    "%%time\n",
    "gridsearch.fit(X_train_fin, y_train_fin)"
   ]
  },
  {
   "cell_type": "code",
   "execution_count": 113,
   "metadata": {},
   "outputs": [
    {
     "name": "stderr",
     "output_type": "stream",
     "text": [
      "C:\\Users\\alexe\\Anaconda3\\lib\\site-packages\\sklearn\\model_selection\\_search.py:761: DeprecationWarning: The grid_scores_ attribute was deprecated in version 0.18 in favor of the more elaborate cv_results_ attribute. The grid_scores_ attribute will not be available from 0.20\n",
      "  DeprecationWarning)\n"
     ]
    },
    {
     "data": {
      "text/plain": [
       "[mean: -0.46863, std: 0.04138, params: {'max_depth': 3, 'max_features': 6, 'min_samples_leaf': 6},\n",
       " mean: -0.47067, std: 0.04903, params: {'max_depth': 2, 'max_features': 10, 'min_samples_leaf': 8},\n",
       " mean: -0.47195, std: 0.04670, params: {'max_depth': 4, 'max_features': 6, 'min_samples_leaf': 9},\n",
       " mean: -0.47303, std: 0.03640, params: {'max_depth': 2, 'max_features': 9, 'min_samples_leaf': 5},\n",
       " mean: -0.47408, std: 0.03695, params: {'max_depth': 2, 'max_features': 9, 'min_samples_leaf': 7},\n",
       " mean: -0.47408, std: 0.03695, params: {'max_depth': 2, 'max_features': 10, 'min_samples_leaf': 6},\n",
       " mean: -0.47526, std: 0.04798, params: {'max_depth': 2, 'max_features': 6, 'min_samples_leaf': 7},\n",
       " mean: -0.47528, std: 0.03457, params: {'max_depth': 2, 'max_features': 7, 'min_samples_leaf': 8},\n",
       " mean: -0.47528, std: 0.03457, params: {'max_depth': 2, 'max_features': 8, 'min_samples_leaf': 8},\n",
       " mean: -0.47576, std: 0.03534, params: {'max_depth': 2, 'max_features': 10, 'min_samples_leaf': 7},\n",
       " mean: -0.47597, std: 0.04202, params: {'max_depth': 2, 'max_features': 7, 'min_samples_leaf': 7},\n",
       " mean: -0.47670, std: 0.04112, params: {'max_depth': 2, 'max_features': 10, 'min_samples_leaf': 9},\n",
       " mean: -0.47763, std: 0.03723, params: {'max_depth': 2, 'max_features': 7, 'min_samples_leaf': 5},\n",
       " mean: -0.47958, std: 0.05039, params: {'max_depth': 2, 'max_features': 8, 'min_samples_leaf': 9},\n",
       " mean: -0.48419, std: 0.03101, params: {'max_depth': 2, 'max_features': 9, 'min_samples_leaf': 6},\n",
       " mean: -0.48592, std: 0.03470, params: {'max_depth': 2, 'max_features': 6, 'min_samples_leaf': 5},\n",
       " mean: -0.48920, std: 0.06193, params: {'max_depth': 2, 'max_features': 9, 'min_samples_leaf': 8},\n",
       " mean: -0.48986, std: 0.09908, params: {'max_depth': 3, 'max_features': 7, 'min_samples_leaf': 9},\n",
       " mean: -0.49518, std: 0.04021, params: {'max_depth': 2, 'max_features': 5, 'min_samples_leaf': 6},\n",
       " mean: -0.49611, std: 0.03603, params: {'max_depth': 2, 'max_features': 8, 'min_samples_leaf': 6},\n",
       " mean: -0.49702, std: 0.08595, params: {'max_depth': 3, 'max_features': 6, 'min_samples_leaf': 5},\n",
       " mean: -0.49971, std: 0.03493, params: {'max_depth': 2, 'max_features': 7, 'min_samples_leaf': 6},\n",
       " mean: -0.50160, std: 0.05194, params: {'max_depth': 2, 'max_features': 6, 'min_samples_leaf': 9},\n",
       " mean: -0.51104, std: 0.07394, params: {'max_depth': 3, 'max_features': 8, 'min_samples_leaf': 5},\n",
       " mean: -0.51186, std: 0.01903, params: {'max_depth': 1, 'max_features': 5, 'min_samples_leaf': 9},\n",
       " mean: -0.51186, std: 0.01903, params: {'max_depth': 1, 'max_features': 7, 'min_samples_leaf': 7},\n",
       " mean: -0.51186, std: 0.01903, params: {'max_depth': 1, 'max_features': 7, 'min_samples_leaf': 9},\n",
       " mean: -0.51186, std: 0.01903, params: {'max_depth': 1, 'max_features': 8, 'min_samples_leaf': 5},\n",
       " mean: -0.51186, std: 0.01903, params: {'max_depth': 1, 'max_features': 8, 'min_samples_leaf': 6},\n",
       " mean: -0.51186, std: 0.01903, params: {'max_depth': 1, 'max_features': 9, 'min_samples_leaf': 5},\n",
       " mean: -0.51186, std: 0.01903, params: {'max_depth': 1, 'max_features': 9, 'min_samples_leaf': 6},\n",
       " mean: -0.51186, std: 0.01903, params: {'max_depth': 1, 'max_features': 10, 'min_samples_leaf': 5},\n",
       " mean: -0.51186, std: 0.01903, params: {'max_depth': 1, 'max_features': 10, 'min_samples_leaf': 6},\n",
       " mean: -0.51186, std: 0.01903, params: {'max_depth': 1, 'max_features': 10, 'min_samples_leaf': 9},\n",
       " mean: -0.51733, std: 0.02731, params: {'max_depth': 1, 'max_features': 10, 'min_samples_leaf': 8},\n",
       " mean: -0.51939, std: 0.03084, params: {'max_depth': 1, 'max_features': 6, 'min_samples_leaf': 9},\n",
       " mean: -0.52147, std: 0.08688, params: {'max_depth': 3, 'max_features': 10, 'min_samples_leaf': 5},\n",
       " mean: -0.52876, std: 0.02898, params: {'max_depth': 1, 'max_features': 8, 'min_samples_leaf': 7},\n",
       " mean: -0.53158, std: 0.04237, params: {'max_depth': 1, 'max_features': 6, 'min_samples_leaf': 6},\n",
       " mean: -0.53508, std: 0.17129, params: {'max_depth': 3, 'max_features': 8, 'min_samples_leaf': 8},\n",
       " mean: -0.53536, std: 0.07923, params: {'max_depth': 3, 'max_features': 6, 'min_samples_leaf': 9},\n",
       " mean: -0.53852, std: 0.09824, params: {'max_depth': 2, 'max_features': 5, 'min_samples_leaf': 7},\n",
       " mean: -0.53872, std: 0.06544, params: {'max_depth': 1, 'max_features': 5, 'min_samples_leaf': 5},\n",
       " mean: -0.54182, std: 0.05218, params: {'max_depth': 1, 'max_features': 7, 'min_samples_leaf': 8},\n",
       " mean: -0.54182, std: 0.05218, params: {'max_depth': 1, 'max_features': 9, 'min_samples_leaf': 8},\n",
       " mean: -0.54182, std: 0.05218, params: {'max_depth': 1, 'max_features': 9, 'min_samples_leaf': 9},\n",
       " mean: -0.54182, std: 0.05218, params: {'max_depth': 1, 'max_features': 10, 'min_samples_leaf': 7},\n",
       " mean: -0.54484, std: 0.05424, params: {'max_depth': 2, 'max_features': 5, 'min_samples_leaf': 5},\n",
       " mean: -0.54772, std: 0.10235, params: {'max_depth': 2, 'max_features': 6, 'min_samples_leaf': 6},\n",
       " mean: -0.54831, std: 0.08407, params: {'max_depth': 1, 'max_features': 8, 'min_samples_leaf': 9},\n",
       " mean: -0.55562, std: 0.18994, params: {'max_depth': 4, 'max_features': 9, 'min_samples_leaf': 9},\n",
       " mean: -0.55583, std: 0.19078, params: {'max_depth': 2, 'max_features': 8, 'min_samples_leaf': 5},\n",
       " mean: -0.55672, std: 0.19230, params: {'max_depth': 4, 'max_features': 5, 'min_samples_leaf': 8},\n",
       " mean: -0.55844, std: 0.06819, params: {'max_depth': 1, 'max_features': 7, 'min_samples_leaf': 5},\n",
       " mean: -0.56008, std: 0.18870, params: {'max_depth': 2, 'max_features': 9, 'min_samples_leaf': 9},\n",
       " mean: -0.56092, std: 0.18838, params: {'max_depth': 2, 'max_features': 10, 'min_samples_leaf': 5},\n",
       " mean: -0.56164, std: 0.17398, params: {'max_depth': 2, 'max_features': 5, 'min_samples_leaf': 8},\n",
       " mean: -0.56226, std: 0.05502, params: {'max_depth': 1, 'max_features': 8, 'min_samples_leaf': 8},\n",
       " mean: -0.56258, std: 0.16806, params: {'max_depth': 4, 'max_features': 7, 'min_samples_leaf': 8},\n",
       " mean: -0.56521, std: 0.07953, params: {'max_depth': 1, 'max_features': 6, 'min_samples_leaf': 5},\n",
       " mean: -0.56625, std: 0.04556, params: {'max_depth': 1, 'max_features': 6, 'min_samples_leaf': 8},\n",
       " mean: -0.56699, std: 0.16354, params: {'max_depth': 3, 'max_features': 5, 'min_samples_leaf': 7},\n",
       " mean: -0.56985, std: 0.17342, params: {'max_depth': 4, 'max_features': 7, 'min_samples_leaf': 9},\n",
       " mean: -0.56998, std: 0.07261, params: {'max_depth': 2, 'max_features': 6, 'min_samples_leaf': 8},\n",
       " mean: -0.57172, std: 0.18455, params: {'max_depth': 2, 'max_features': 8, 'min_samples_leaf': 7},\n",
       " mean: -0.57253, std: 0.16455, params: {'max_depth': 3, 'max_features': 10, 'min_samples_leaf': 7},\n",
       " mean: -0.57288, std: 0.15968, params: {'max_depth': 3, 'max_features': 9, 'min_samples_leaf': 7},\n",
       " mean: -0.57294, std: 0.05080, params: {'max_depth': 1, 'max_features': 7, 'min_samples_leaf': 6},\n",
       " mean: -0.57451, std: 0.17819, params: {'max_depth': 2, 'max_features': 7, 'min_samples_leaf': 9},\n",
       " mean: -0.57548, std: 0.16999, params: {'max_depth': 3, 'max_features': 9, 'min_samples_leaf': 6},\n",
       " mean: -0.57686, std: 0.16616, params: {'max_depth': 3, 'max_features': 10, 'min_samples_leaf': 8},\n",
       " mean: -0.57827, std: 0.08513, params: {'max_depth': 1, 'max_features': 9, 'min_samples_leaf': 7},\n",
       " mean: -0.58045, std: 0.17705, params: {'max_depth': 3, 'max_features': 5, 'min_samples_leaf': 9},\n",
       " mean: -0.58127, std: 0.18564, params: {'max_depth': 3, 'max_features': 10, 'min_samples_leaf': 9},\n",
       " mean: -0.58833, std: 0.05986, params: {'max_depth': 1, 'max_features': 6, 'min_samples_leaf': 7},\n",
       " mean: -0.58860, std: 0.22244, params: {'max_depth': 3, 'max_features': 8, 'min_samples_leaf': 9},\n",
       " mean: -0.58872, std: 0.17957, params: {'max_depth': 3, 'max_features': 5, 'min_samples_leaf': 8},\n",
       " mean: -0.58899, std: 0.07123, params: {'max_depth': 1, 'max_features': 5, 'min_samples_leaf': 6},\n",
       " mean: -0.59031, std: 0.09880, params: {'max_depth': 3, 'max_features': 9, 'min_samples_leaf': 5},\n",
       " mean: -0.59367, std: 0.07616, params: {'max_depth': 1, 'max_features': 5, 'min_samples_leaf': 8},\n",
       " mean: -0.59373, std: 0.16396, params: {'max_depth': 2, 'max_features': 5, 'min_samples_leaf': 9},\n",
       " mean: -0.59507, std: 0.17024, params: {'max_depth': 4, 'max_features': 5, 'min_samples_leaf': 9},\n",
       " mean: -0.60164, std: 0.19139, params: {'max_depth': 3, 'max_features': 7, 'min_samples_leaf': 6},\n",
       " mean: -0.60512, std: 0.18405, params: {'max_depth': 4, 'max_features': 5, 'min_samples_leaf': 6},\n",
       " mean: -0.60641, std: 0.19434, params: {'max_depth': 3, 'max_features': 8, 'min_samples_leaf': 6},\n",
       " mean: -0.60902, std: 0.13621, params: {'max_depth': 3, 'max_features': 8, 'min_samples_leaf': 7},\n",
       " mean: -0.61041, std: 0.17724, params: {'max_depth': 3, 'max_features': 6, 'min_samples_leaf': 7},\n",
       " mean: -0.61270, std: 0.17694, params: {'max_depth': 4, 'max_features': 8, 'min_samples_leaf': 9},\n",
       " mean: -0.61454, std: 0.13131, params: {'max_depth': 3, 'max_features': 10, 'min_samples_leaf': 6},\n",
       " mean: -0.61606, std: 0.13196, params: {'max_depth': 3, 'max_features': 9, 'min_samples_leaf': 9},\n",
       " mean: -0.62128, std: 0.12627, params: {'max_depth': 3, 'max_features': 9, 'min_samples_leaf': 8},\n",
       " mean: -0.62188, std: 0.14083, params: {'max_depth': 4, 'max_features': 10, 'min_samples_leaf': 9},\n",
       " mean: -0.62926, std: 0.16627, params: {'max_depth': 3, 'max_features': 7, 'min_samples_leaf': 5},\n",
       " mean: -0.63170, std: 0.14293, params: {'max_depth': 3, 'max_features': 7, 'min_samples_leaf': 7},\n",
       " mean: -0.64347, std: 0.04161, params: {'max_depth': 1, 'max_features': 5, 'min_samples_leaf': 7},\n",
       " mean: -0.64635, std: 0.23044, params: {'max_depth': 3, 'max_features': 5, 'min_samples_leaf': 6},\n",
       " mean: -0.64739, std: 0.14569, params: {'max_depth': 4, 'max_features': 6, 'min_samples_leaf': 7},\n",
       " mean: -0.65519, std: 0.15402, params: {'max_depth': 3, 'max_features': 7, 'min_samples_leaf': 8},\n",
       " mean: -0.65617, std: 0.18618, params: {'max_depth': 4, 'max_features': 6, 'min_samples_leaf': 6},\n",
       " mean: -0.66282, std: 0.15669, params: {'max_depth': 5, 'max_features': 7, 'min_samples_leaf': 8},\n",
       " mean: -0.66284, std: 0.17054, params: {'max_depth': 3, 'max_features': 6, 'min_samples_leaf': 8},\n",
       " mean: -0.66603, std: 0.13071, params: {'max_depth': 4, 'max_features': 8, 'min_samples_leaf': 7},\n",
       " mean: -0.66936, std: 0.26365, params: {'max_depth': 6, 'max_features': 5, 'min_samples_leaf': 9},\n",
       " mean: -0.70286, std: 0.13419, params: {'max_depth': 5, 'max_features': 10, 'min_samples_leaf': 9},\n",
       " mean: -0.70672, std: 0.18614, params: {'max_depth': 4, 'max_features': 10, 'min_samples_leaf': 5},\n",
       " mean: -0.70687, std: 0.28623, params: {'max_depth': 3, 'max_features': 5, 'min_samples_leaf': 5},\n",
       " mean: -0.71376, std: 0.22471, params: {'max_depth': 4, 'max_features': 7, 'min_samples_leaf': 7},\n",
       " mean: -0.72388, std: 0.17932, params: {'max_depth': 4, 'max_features': 6, 'min_samples_leaf': 8},\n",
       " mean: -0.74349, std: 0.31716, params: {'max_depth': 6, 'max_features': 8, 'min_samples_leaf': 9},\n",
       " mean: -0.74733, std: 0.37512, params: {'max_depth': 4, 'max_features': 9, 'min_samples_leaf': 8},\n",
       " mean: -0.75238, std: 0.31847, params: {'max_depth': 5, 'max_features': 8, 'min_samples_leaf': 9},\n",
       " mean: -0.79003, std: 0.17699, params: {'max_depth': 5, 'max_features': 9, 'min_samples_leaf': 9},\n",
       " mean: -0.79769, std: 0.31158, params: {'max_depth': 5, 'max_features': 7, 'min_samples_leaf': 7},\n",
       " mean: -0.79794, std: 0.35034, params: {'max_depth': 4, 'max_features': 6, 'min_samples_leaf': 5},\n",
       " mean: -0.79941, std: 0.21874, params: {'max_depth': 4, 'max_features': 9, 'min_samples_leaf': 6},\n",
       " mean: -0.80249, std: 0.32380, params: {'max_depth': 4, 'max_features': 10, 'min_samples_leaf': 8},\n",
       " mean: -0.80270, std: 0.11514, params: {'max_depth': 4, 'max_features': 5, 'min_samples_leaf': 7},\n",
       " mean: -0.80418, std: 0.27446, params: {'max_depth': 5, 'max_features': 5, 'min_samples_leaf': 9},\n",
       " mean: -0.80595, std: 0.32501, params: {'max_depth': 5, 'max_features': 6, 'min_samples_leaf': 9},\n",
       " mean: -0.80728, std: 0.21612, params: {'max_depth': 4, 'max_features': 7, 'min_samples_leaf': 5},\n",
       " mean: -0.81100, std: 0.17832, params: {'max_depth': 6, 'max_features': 6, 'min_samples_leaf': 5},\n",
       " mean: -0.81697, std: 0.41259, params: {'max_depth': 5, 'max_features': 6, 'min_samples_leaf': 8},\n",
       " mean: -0.81981, std: 0.43739, params: {'max_depth': 4, 'max_features': 5, 'min_samples_leaf': 5},\n",
       " mean: -0.83795, std: 0.29442, params: {'max_depth': 4, 'max_features': 9, 'min_samples_leaf': 7},\n",
       " mean: -0.83995, std: 0.22271, params: {'max_depth': 4, 'max_features': 9, 'min_samples_leaf': 5},\n",
       " mean: -0.84341, std: 0.41607, params: {'max_depth': 4, 'max_features': 10, 'min_samples_leaf': 6},\n",
       " mean: -0.84593, std: 0.29184, params: {'max_depth': 4, 'max_features': 8, 'min_samples_leaf': 5},\n",
       " mean: -0.84609, std: 0.30186, params: {'max_depth': 4, 'max_features': 8, 'min_samples_leaf': 6},\n",
       " mean: -0.84795, std: 0.29828, params: {'max_depth': 4, 'max_features': 8, 'min_samples_leaf': 8},\n",
       " mean: -0.85090, std: 0.37292, params: {'max_depth': 5, 'max_features': 8, 'min_samples_leaf': 8},\n",
       " mean: -0.85105, std: 0.05928, params: {'max_depth': 5, 'max_features': 8, 'min_samples_leaf': 6},\n",
       " mean: -0.85287, std: 0.21538, params: {'max_depth': 5, 'max_features': 9, 'min_samples_leaf': 8},\n",
       " mean: -0.85443, std: 0.27295, params: {'max_depth': 7, 'max_features': 5, 'min_samples_leaf': 9},\n",
       " mean: -0.85607, std: 0.29238, params: {'max_depth': 5, 'max_features': 7, 'min_samples_leaf': 9},\n",
       " mean: -0.85785, std: 0.39260, params: {'max_depth': 5, 'max_features': 5, 'min_samples_leaf': 8},\n",
       " mean: -0.86329, std: 0.15138, params: {'max_depth': 5, 'max_features': 5, 'min_samples_leaf': 6},\n",
       " mean: -0.87055, std: 0.20582, params: {'max_depth': 6, 'max_features': 6, 'min_samples_leaf': 6},\n",
       " mean: -0.87129, std: 0.16225, params: {'max_depth': 6, 'max_features': 5, 'min_samples_leaf': 6},\n",
       " mean: -0.87741, std: 0.45924, params: {'max_depth': 6, 'max_features': 7, 'min_samples_leaf': 8},\n",
       " mean: -0.88135, std: 0.39466, params: {'max_depth': 5, 'max_features': 7, 'min_samples_leaf': 6},\n",
       " mean: -0.89058, std: 0.41253, params: {'max_depth': 4, 'max_features': 7, 'min_samples_leaf': 6},\n",
       " mean: -0.89335, std: 0.21269, params: {'max_depth': 4, 'max_features': 10, 'min_samples_leaf': 7},\n",
       " mean: -0.89388, std: 0.35284, params: {'max_depth': 5, 'max_features': 6, 'min_samples_leaf': 7},\n",
       " mean: -0.92063, std: 0.29975, params: {'max_depth': 5, 'max_features': 6, 'min_samples_leaf': 6},\n",
       " mean: -0.92424, std: 0.21219, params: {'max_depth': 6, 'max_features': 10, 'min_samples_leaf': 9},\n",
       " mean: -0.93277, std: 0.21041, params: {'max_depth': 5, 'max_features': 9, 'min_samples_leaf': 6},\n",
       " mean: -0.94301, std: 0.26191, params: {'max_depth': 5, 'max_features': 5, 'min_samples_leaf': 7},\n",
       " mean: -0.96602, std: 0.32644, params: {'max_depth': 7, 'max_features': 7, 'min_samples_leaf': 8},\n",
       " mean: -0.96654, std: 0.34300, params: {'max_depth': 7, 'max_features': 5, 'min_samples_leaf': 8},\n",
       " mean: -0.96817, std: 0.45236, params: {'max_depth': 6, 'max_features': 7, 'min_samples_leaf': 6},\n",
       " mean: -0.97170, std: 0.19938, params: {'max_depth': 5, 'max_features': 9, 'min_samples_leaf': 7},\n",
       " mean: -0.98734, std: 0.37454, params: {'max_depth': 7, 'max_features': 6, 'min_samples_leaf': 9},\n",
       " mean: -0.99597, std: 0.31987, params: {'max_depth': 6, 'max_features': 7, 'min_samples_leaf': 9},\n",
       " mean: -1.00443, std: 0.40923, params: {'max_depth': 8, 'max_features': 7, 'min_samples_leaf': 9},\n",
       " mean: -1.00773, std: 0.36031, params: {'max_depth': 8, 'max_features': 5, 'min_samples_leaf': 6},\n",
       " mean: -1.01272, std: 0.43059, params: {'max_depth': 8, 'max_features': 6, 'min_samples_leaf': 9},\n",
       " mean: -1.01688, std: 0.39345, params: {'max_depth': 7, 'max_features': 8, 'min_samples_leaf': 9},\n",
       " mean: -1.02883, std: 0.43102, params: {'max_depth': 5, 'max_features': 10, 'min_samples_leaf': 8},\n",
       " mean: -1.03670, std: 0.52233, params: {'max_depth': 9, 'max_features': 5, 'min_samples_leaf': 9},\n",
       " mean: -1.06312, std: 0.30837, params: {'max_depth': 5, 'max_features': 10, 'min_samples_leaf': 6},\n",
       " mean: -1.07330, std: 0.56605, params: {'max_depth': 6, 'max_features': 6, 'min_samples_leaf': 9},\n",
       " mean: -1.07789, std: 0.46231, params: {'max_depth': 6, 'max_features': 8, 'min_samples_leaf': 8},\n",
       " mean: -1.09131, std: 0.24440, params: {'max_depth': 5, 'max_features': 10, 'min_samples_leaf': 7},\n",
       " mean: -1.09876, std: 0.16575, params: {'max_depth': 6, 'max_features': 9, 'min_samples_leaf': 9},\n",
       " mean: -1.10629, std: 0.28192, params: {'max_depth': 8, 'max_features': 7, 'min_samples_leaf': 8},\n",
       " mean: -1.10910, std: 0.20540, params: {'max_depth': 5, 'max_features': 6, 'min_samples_leaf': 5},\n",
       " mean: -1.10932, std: 0.28546, params: {'max_depth': 7, 'max_features': 5, 'min_samples_leaf': 6},\n",
       " mean: -1.11105, std: 0.30702, params: {'max_depth': 7, 'max_features': 8, 'min_samples_leaf': 8},\n",
       " mean: -1.11606, std: 0.27740, params: {'max_depth': 6, 'max_features': 9, 'min_samples_leaf': 5},\n",
       " mean: -1.13751, std: 0.35216, params: {'max_depth': 8, 'max_features': 5, 'min_samples_leaf': 9},\n",
       " mean: -1.14814, std: 0.39922, params: {'max_depth': 6, 'max_features': 6, 'min_samples_leaf': 8},\n",
       " mean: -1.15075, std: 0.37717, params: {'max_depth': 9, 'max_features': 7, 'min_samples_leaf': 9},\n",
       " mean: -1.15446, std: 0.55146, params: {'max_depth': 7, 'max_features': 7, 'min_samples_leaf': 9},\n",
       " mean: -1.15931, std: 0.53124, params: {'max_depth': 6, 'max_features': 9, 'min_samples_leaf': 8},\n",
       " mean: -1.16139, std: 0.39276, params: {'max_depth': 5, 'max_features': 7, 'min_samples_leaf': 5},\n",
       " mean: -1.16364, std: 0.27841, params: {'max_depth': 7, 'max_features': 5, 'min_samples_leaf': 7},\n",
       " mean: -1.16899, std: 0.43710, params: {'max_depth': 6, 'max_features': 5, 'min_samples_leaf': 8},\n",
       " mean: -1.17312, std: 0.39233, params: {'max_depth': 5, 'max_features': 5, 'min_samples_leaf': 5},\n",
       " mean: -1.17533, std: 0.56922, params: {'max_depth': 7, 'max_features': 8, 'min_samples_leaf': 7},\n",
       " mean: -1.18526, std: 0.37491, params: {'max_depth': 6, 'max_features': 6, 'min_samples_leaf': 7},\n",
       " mean: -1.18643, std: 0.41409, params: {'max_depth': 6, 'max_features': 10, 'min_samples_leaf': 8},\n",
       " mean: -1.19098, std: 0.20376, params: {'max_depth': 5, 'max_features': 10, 'min_samples_leaf': 5},\n",
       " mean: -1.20168, std: 0.63733, params: {'max_depth': 8, 'max_features': 8, 'min_samples_leaf': 9},\n",
       " mean: -1.21003, std: 0.16911, params: {'max_depth': 6, 'max_features': 5, 'min_samples_leaf': 7},\n",
       " mean: -1.21825, std: 0.27437, params: {'max_depth': 8, 'max_features': 5, 'min_samples_leaf': 8},\n",
       " mean: -1.23372, std: 0.37312, params: {'max_depth': 6, 'max_features': 5, 'min_samples_leaf': 5},\n",
       " mean: -1.24225, std: 0.27197, params: {'max_depth': 5, 'max_features': 9, 'min_samples_leaf': 5},\n",
       " mean: -1.25082, std: 0.38825, params: {'max_depth': 9, 'max_features': 9, 'min_samples_leaf': 9},\n",
       " mean: -1.25596, std: 0.59044, params: {'max_depth': 7, 'max_features': 10, 'min_samples_leaf': 9},\n",
       " mean: -1.25765, std: 0.35964, params: {'max_depth': 5, 'max_features': 8, 'min_samples_leaf': 5},\n",
       " mean: -1.25821, std: 0.37061, params: {'max_depth': 5, 'max_features': 8, 'min_samples_leaf': 7},\n",
       " mean: -1.27681, std: 0.44244, params: {'max_depth': 9, 'max_features': 5, 'min_samples_leaf': 6},\n",
       " mean: -1.29282, std: 0.79250, params: {'max_depth': 8, 'max_features': 9, 'min_samples_leaf': 8},\n",
       " mean: -1.31148, std: 0.59894, params: {'max_depth': 7, 'max_features': 6, 'min_samples_leaf': 8},\n",
       " mean: -1.31393, std: 0.20324, params: {'max_depth': 6, 'max_features': 10, 'min_samples_leaf': 7},\n",
       " mean: -1.33125, std: 0.33639, params: {'max_depth': 6, 'max_features': 9, 'min_samples_leaf': 7},\n",
       " mean: -1.34005, std: 0.46084, params: {'max_depth': 6, 'max_features': 9, 'min_samples_leaf': 6},\n",
       " mean: -1.34649, std: 0.46464, params: {'max_depth': 6, 'max_features': 8, 'min_samples_leaf': 7},\n",
       " mean: -1.35436, std: 0.76251, params: {'max_depth': 8, 'max_features': 6, 'min_samples_leaf': 8},\n",
       " mean: -1.35547, std: 0.40407, params: {'max_depth': 8, 'max_features': 9, 'min_samples_leaf': 9},\n",
       " mean: -1.36311, std: 0.14154, params: {'max_depth': 8, 'max_features': 6, 'min_samples_leaf': 7},\n",
       " mean: -1.36576, std: 0.48287, params: {'max_depth': 9, 'max_features': 6, 'min_samples_leaf': 9},\n",
       " mean: -1.37666, std: 0.24839, params: {'max_depth': 6, 'max_features': 10, 'min_samples_leaf': 5},\n",
       " mean: -1.37709, std: 0.38437, params: {'max_depth': 9, 'max_features': 5, 'min_samples_leaf': 5},\n",
       " mean: -1.39274, std: 0.66398, params: {'max_depth': 8, 'max_features': 10, 'min_samples_leaf': 8},\n",
       " mean: -1.40088, std: 0.21650, params: {'max_depth': 6, 'max_features': 7, 'min_samples_leaf': 5},\n",
       " mean: -1.41093, std: 0.60073, params: {'max_depth': 7, 'max_features': 6, 'min_samples_leaf': 7},\n",
       " mean: -1.41150, std: 0.43367, params: {'max_depth': 7, 'max_features': 9, 'min_samples_leaf': 7},\n",
       " mean: -1.41202, std: 0.43347, params: {'max_depth': 9, 'max_features': 7, 'min_samples_leaf': 8},\n",
       " mean: -1.41817, std: 0.60480, params: {'max_depth': 9, 'max_features': 5, 'min_samples_leaf': 8},\n",
       " mean: -1.42065, std: 0.52525, params: {'max_depth': 7, 'max_features': 9, 'min_samples_leaf': 9},\n",
       " mean: -1.42591, std: 0.50652, params: {'max_depth': 7, 'max_features': 10, 'min_samples_leaf': 7},\n",
       " mean: -1.42662, std: 0.71129, params: {'max_depth': 8, 'max_features': 5, 'min_samples_leaf': 7},\n",
       " mean: -1.42681, std: 0.49659, params: {'max_depth': 6, 'max_features': 8, 'min_samples_leaf': 6},\n",
       " mean: -1.42720, std: 0.45464, params: {'max_depth': 9, 'max_features': 9, 'min_samples_leaf': 7},\n",
       " mean: -1.42789, std: 0.51657, params: {'max_depth': 8, 'max_features': 5, 'min_samples_leaf': 5},\n",
       " mean: -1.42863, std: 0.46456, params: {'max_depth': 9, 'max_features': 8, 'min_samples_leaf': 8},\n",
       " mean: -1.43065, std: 0.33447, params: {'max_depth': 8, 'max_features': 7, 'min_samples_leaf': 6},\n",
       " mean: -1.45326, std: 0.56903, params: {'max_depth': 8, 'max_features': 9, 'min_samples_leaf': 7},\n",
       " mean: -1.45329, std: 0.63908, params: {'max_depth': 9, 'max_features': 6, 'min_samples_leaf': 7},\n",
       " mean: -1.46203, std: 0.47704, params: {'max_depth': 6, 'max_features': 10, 'min_samples_leaf': 6},\n",
       " mean: -1.46457, std: 0.32156, params: {'max_depth': 7, 'max_features': 7, 'min_samples_leaf': 6},\n",
       " mean: -1.46939, std: 0.76606, params: {'max_depth': 8, 'max_features': 7, 'min_samples_leaf': 7},\n",
       " mean: -1.47073, std: 0.69443, params: {'max_depth': 7, 'max_features': 6, 'min_samples_leaf': 6},\n",
       " mean: -1.47477, std: 0.46238, params: {'max_depth': 9, 'max_features': 10, 'min_samples_leaf': 9},\n",
       " mean: -1.48151, std: 0.64389, params: {'max_depth': 7, 'max_features': 8, 'min_samples_leaf': 6},\n",
       " mean: -1.48663, std: 0.77613, params: {'max_depth': 7, 'max_features': 10, 'min_samples_leaf': 8},\n",
       " mean: -1.51233, std: 0.25031, params: {'max_depth': 9, 'max_features': 7, 'min_samples_leaf': 6},\n",
       " mean: -1.51811, std: 0.29127, params: {'max_depth': 9, 'max_features': 7, 'min_samples_leaf': 7},\n",
       " mean: -1.52483, std: 0.85098, params: {'max_depth': 8, 'max_features': 8, 'min_samples_leaf': 8},\n",
       " mean: -1.53711, std: 0.54926, params: {'max_depth': 9, 'max_features': 6, 'min_samples_leaf': 8},\n",
       " mean: -1.54388, std: 0.47420, params: {'max_depth': 7, 'max_features': 5, 'min_samples_leaf': 5},\n",
       " mean: -1.54780, std: 0.64624, params: {'max_depth': 8, 'max_features': 10, 'min_samples_leaf': 6},\n",
       " mean: -1.55110, std: 0.72113, params: {'max_depth': 7, 'max_features': 9, 'min_samples_leaf': 6},\n",
       " mean: -1.55811, std: 0.46135, params: {'max_depth': 8, 'max_features': 8, 'min_samples_leaf': 7},\n",
       " mean: -1.58736, std: 0.63523, params: {'max_depth': 7, 'max_features': 9, 'min_samples_leaf': 8},\n",
       " mean: -1.59098, std: 0.47380, params: {'max_depth': 6, 'max_features': 8, 'min_samples_leaf': 5},\n",
       " mean: -1.59634, std: 0.65190, params: {'max_depth': 7, 'max_features': 10, 'min_samples_leaf': 6},\n",
       " mean: -1.59737, std: 0.19375, params: {'max_depth': 7, 'max_features': 8, 'min_samples_leaf': 5},\n",
       " mean: -1.61121, std: 0.46987, params: {'max_depth': 8, 'max_features': 10, 'min_samples_leaf': 9},\n",
       " mean: -1.62242, std: 0.41998, params: {'max_depth': 6, 'max_features': 7, 'min_samples_leaf': 7},\n",
       " mean: -1.63386, std: 0.31018, params: {'max_depth': 7, 'max_features': 10, 'min_samples_leaf': 5},\n",
       " mean: -1.65194, std: 0.53162, params: {'max_depth': 9, 'max_features': 8, 'min_samples_leaf': 7},\n",
       " mean: -1.65358, std: 0.60454, params: {'max_depth': 9, 'max_features': 8, 'min_samples_leaf': 9},\n",
       " mean: -1.68024, std: 0.88949, params: {'max_depth': 9, 'max_features': 6, 'min_samples_leaf': 6},\n",
       " mean: -1.69172, std: 0.78612, params: {'max_depth': 9, 'max_features': 9, 'min_samples_leaf': 8},\n",
       " mean: -1.71893, std: 0.76422, params: {'max_depth': 9, 'max_features': 5, 'min_samples_leaf': 7},\n",
       " mean: -1.72844, std: 0.69406, params: {'max_depth': 7, 'max_features': 7, 'min_samples_leaf': 5},\n",
       " mean: -1.73823, std: 0.42126, params: {'max_depth': 7, 'max_features': 9, 'min_samples_leaf': 5},\n",
       " mean: -1.74402, std: 0.80962, params: {'max_depth': 9, 'max_features': 9, 'min_samples_leaf': 6},\n",
       " mean: -1.74657, std: 0.69693, params: {'max_depth': 7, 'max_features': 7, 'min_samples_leaf': 7},\n",
       " mean: -1.78329, std: 0.90744, params: {'max_depth': 9, 'max_features': 6, 'min_samples_leaf': 5},\n",
       " mean: -1.79507, std: 0.72840, params: {'max_depth': 9, 'max_features': 10, 'min_samples_leaf': 8},\n",
       " mean: -1.79600, std: 0.19504, params: {'max_depth': 7, 'max_features': 6, 'min_samples_leaf': 5},\n",
       " mean: -1.81308, std: 0.98139, params: {'max_depth': 8, 'max_features': 6, 'min_samples_leaf': 6},\n",
       " mean: -1.82556, std: 0.47790, params: {'max_depth': 9, 'max_features': 10, 'min_samples_leaf': 7},\n",
       " mean: -1.87521, std: 0.47275, params: {'max_depth': 8, 'max_features': 6, 'min_samples_leaf': 5},\n",
       " mean: -1.87906, std: 0.68794, params: {'max_depth': 9, 'max_features': 10, 'min_samples_leaf': 5},\n",
       " mean: -1.88816, std: 0.38862, params: {'max_depth': 8, 'max_features': 7, 'min_samples_leaf': 5},\n",
       " mean: -1.89149, std: 1.00524, params: {'max_depth': 8, 'max_features': 10, 'min_samples_leaf': 7},\n",
       " mean: -1.92247, std: 0.76349, params: {'max_depth': 9, 'max_features': 10, 'min_samples_leaf': 6},\n",
       " mean: -1.99840, std: 0.51807, params: {'max_depth': 9, 'max_features': 8, 'min_samples_leaf': 5},\n",
       " mean: -2.05204, std: 0.73210, params: {'max_depth': 9, 'max_features': 7, 'min_samples_leaf': 5},\n",
       " mean: -2.05974, std: 0.62963, params: {'max_depth': 9, 'max_features': 8, 'min_samples_leaf': 6},\n",
       " mean: -2.09008, std: 0.76122, params: {'max_depth': 8, 'max_features': 9, 'min_samples_leaf': 6},\n",
       " mean: -2.09816, std: 0.55060, params: {'max_depth': 8, 'max_features': 9, 'min_samples_leaf': 5},\n",
       " mean: -2.12778, std: 0.78244, params: {'max_depth': 8, 'max_features': 8, 'min_samples_leaf': 5},\n",
       " mean: -2.14097, std: 0.61186, params: {'max_depth': 8, 'max_features': 10, 'min_samples_leaf': 5},\n",
       " mean: -2.15347, std: 0.74141, params: {'max_depth': 8, 'max_features': 8, 'min_samples_leaf': 6},\n",
       " mean: -2.43506, std: 0.59090, params: {'max_depth': 9, 'max_features': 9, 'min_samples_leaf': 5}]"
      ]
     },
     "execution_count": 113,
     "metadata": {},
     "output_type": "execute_result"
    }
   ],
   "source": [
    "sorted(gridsearch.grid_scores_, key = lambda x: -x.mean_validation_score)"
   ]
  },
  {
   "cell_type": "code",
   "execution_count": 115,
   "metadata": {},
   "outputs": [],
   "source": [
    "clf_final = DecisionTreeClassifier(max_depth=9, max_features=9, min_samples_leaf=5)"
   ]
  },
  {
   "cell_type": "code",
   "execution_count": 116,
   "metadata": {},
   "outputs": [
    {
     "data": {
      "text/plain": [
       "DecisionTreeClassifier(class_weight=None, criterion='gini', max_depth=9,\n",
       "            max_features=9, max_leaf_nodes=None, min_impurity_decrease=0.0,\n",
       "            min_impurity_split=None, min_samples_leaf=5,\n",
       "            min_samples_split=2, min_weight_fraction_leaf=0.0,\n",
       "            presort=False, random_state=None, splitter='best')"
      ]
     },
     "execution_count": 116,
     "metadata": {},
     "output_type": "execute_result"
    }
   ],
   "source": [
    "clf_final.fit(X_train_fin, y_train_fin)"
   ]
  },
  {
   "cell_type": "markdown",
   "metadata": {},
   "source": [
    "### Делаем предсказание"
   ]
  },
  {
   "cell_type": "code",
   "execution_count": 125,
   "metadata": {
    "collapsed": true
   },
   "outputs": [],
   "source": [
    "y_pred_proba = clf_final.predict_proba(X_test_imputed_scaled)\n",
    "y_pred = clf_final.predict(X_test_imputed_scaled)"
   ]
  },
  {
   "cell_type": "code",
   "execution_count": 126,
   "metadata": {},
   "outputs": [
    {
     "data": {
      "text/plain": [
       "array([0, 1, 0, 0, 1, 0, 1, 0, 1, 0, 0, 0, 1, 0, 1, 1, 0, 0, 0, 1, 0, 1, 1,\n",
       "       0, 1, 0, 1, 0, 0, 1, 0, 0, 0, 0, 0, 0, 0, 0, 0, 0, 0, 1, 0, 1, 1, 0,\n",
       "       0, 0, 1, 1, 0, 1, 1, 0, 1, 0, 0, 0, 0, 1, 0, 0, 0, 1, 1, 1, 1, 0, 0,\n",
       "       1, 1, 0, 0, 0, 1, 0, 0, 1, 0, 1, 1, 0, 0, 0, 0, 0, 1, 1, 1, 1, 1, 0,\n",
       "       1, 0, 1, 0, 1, 0, 0, 0, 1, 0, 0, 0, 1, 0, 0, 0, 0, 0, 0, 1, 1, 1, 1,\n",
       "       0, 0, 1, 0, 1, 1, 0, 1, 0, 0, 1, 0, 1, 0, 0, 0, 1, 0, 0, 0, 0, 0, 0,\n",
       "       0, 0, 0, 1, 0, 0, 1, 0, 0, 0, 1, 0, 1, 0, 0, 1, 0, 0, 1, 0, 1, 1, 1,\n",
       "       1, 1, 0, 0, 0, 1, 0, 1, 0, 0, 0, 0, 0, 0, 1, 1, 0, 1, 1, 0, 0, 1, 0,\n",
       "       1, 0, 1, 0, 0, 0, 0, 0, 1, 0, 1, 0, 1, 1, 0, 0, 1, 1, 0, 1, 0, 1, 1,\n",
       "       0, 1, 0, 0, 0, 0, 1, 1, 0, 1, 0, 1, 0, 1, 0, 1, 0, 1, 0, 0, 1, 0, 0,\n",
       "       0, 1, 0, 0, 0, 0, 0, 0, 1, 1, 1, 1, 0, 0, 0, 0, 1, 0, 1, 0, 1, 0, 0,\n",
       "       0, 0, 0, 0, 0, 1, 0, 0, 0, 1, 1, 0, 0, 0, 0, 0, 0, 0, 0, 1, 1, 0, 1,\n",
       "       0, 0, 0, 0, 0, 1, 1, 0, 0, 0, 0, 0, 0, 0, 0, 1, 0, 0, 0, 0, 1, 1, 0,\n",
       "       0, 0, 1, 0, 0, 1, 1, 0, 1, 0, 1, 0, 0, 0, 1, 1, 1, 0, 0, 0, 0, 0, 0,\n",
       "       0, 1, 1, 0, 1, 0, 0, 0, 1, 0, 0, 1, 0, 0, 0, 0, 0, 0, 0, 0, 0, 1, 0,\n",
       "       1, 0, 1, 0, 1, 1, 0, 0, 0, 0, 0, 1, 0, 0, 1, 0, 1, 1, 0, 1, 0, 0, 0,\n",
       "       1, 0, 0, 1, 0, 0, 1, 1, 0, 0, 0, 0, 0, 0, 1, 1, 0, 1, 0, 0, 0, 0, 0,\n",
       "       1, 1, 0, 0, 1, 0, 1, 0, 0, 1, 0, 1, 0, 0, 0, 0, 0, 1, 1, 1, 1, 1, 0,\n",
       "       1, 0, 0, 1], dtype=int64)"
      ]
     },
     "execution_count": 126,
     "metadata": {},
     "output_type": "execute_result"
    }
   ],
   "source": [
    "y_pred"
   ]
  },
  {
   "cell_type": "markdown",
   "metadata": {},
   "source": [
    "### Формируем сабмит"
   ]
  },
  {
   "cell_type": "code",
   "execution_count": 127,
   "metadata": {
    "collapsed": true
   },
   "outputs": [],
   "source": [
    "submussion = 'PassengerId,Survived\\n'\n",
    "submussion += \"\\n\".join([\"{},{}\".format(pid, y_pred) for pid, y_pred in zip(test.PassengerId, y_pred)])"
   ]
  },
  {
   "cell_type": "code",
   "execution_count": 128,
   "metadata": {
    "collapsed": true
   },
   "outputs": [],
   "source": [
    "with open('submission.csv', 'w') as file:\n",
    "    file.write(submussion)"
   ]
  },
  {
   "cell_type": "markdown",
   "metadata": {},
   "source": [
    "### Формируем дерево"
   ]
  },
  {
   "cell_type": "code",
   "execution_count": 146,
   "metadata": {
    "collapsed": true
   },
   "outputs": [],
   "source": [
    "from sklearn.preprocessing import LabelEncoder\n",
    "from collections import Counter"
   ]
  },
  {
   "cell_type": "code",
   "execution_count": 147,
   "metadata": {},
   "outputs": [],
   "source": [
    "le = LabelEncoder()\n",
    "y = le.fit_transform(y_train)"
   ]
  },
  {
   "cell_type": "code",
   "execution_count": 148,
   "metadata": {
    "collapsed": true
   },
   "outputs": [],
   "source": [
    "#y = le_y.fit_transform(y_train)"
   ]
  },
  {
   "cell_type": "code",
   "execution_count": 149,
   "metadata": {
    "collapsed": true
   },
   "outputs": [],
   "source": [
    "from sklearn.tree import export_graphviz\n",
    "\n",
    "def get_tree_dot_view(clf, feature_names=None, class_names=None):\n",
    "    print(export_graphviz(clf, out_file=None, filled=True, feature_names=feature_names, class_names=class_names))"
   ]
  },
  {
   "cell_type": "markdown",
   "metadata": {},
   "source": [
    "http://www.webgraphviz.com"
   ]
  },
  {
   "cell_type": "code",
   "execution_count": 150,
   "metadata": {},
   "outputs": [
    {
     "data": {
      "text/plain": [
       "0    549\n",
       "1    342\n",
       "dtype: int64"
      ]
     },
     "execution_count": 150,
     "metadata": {},
     "output_type": "execute_result"
    }
   ],
   "source": [
    "pd.Series(le.inverse_transform(y)).value_counts().sort_index()"
   ]
  },
  {
   "cell_type": "code",
   "execution_count": 151,
   "metadata": {},
   "outputs": [
    {
     "data": {
      "text/plain": [
       "[0, 1]"
      ]
     },
     "execution_count": 151,
     "metadata": {},
     "output_type": "execute_result"
    }
   ],
   "source": [
    "list(le.classes_)"
   ]
  },
  {
   "cell_type": "code",
   "execution_count": 152,
   "metadata": {},
   "outputs": [
    {
     "data": {
      "text/plain": [
       "['Age',\n",
       " 'SibSp',\n",
       " 'Parch',\n",
       " 'Fare',\n",
       " 'isMale',\n",
       " 'Pclass_1',\n",
       " 'Pclass_2',\n",
       " 'Pclass_3',\n",
       " 'Embarked_C',\n",
       " 'Embarked_Q',\n",
       " 'Embarked_S']"
      ]
     },
     "execution_count": 152,
     "metadata": {},
     "output_type": "execute_result"
    }
   ],
   "source": [
    "list(X_train_fin.columns)"
   ]
  },
  {
   "cell_type": "code",
   "execution_count": 153,
   "metadata": {},
   "outputs": [
    {
     "ename": "TypeError",
     "evalue": "ufunc 'add' did not contain a loop with signature matching types dtype('<U75') dtype('<U75') dtype('<U75')",
     "output_type": "error",
     "traceback": [
      "\u001b[1;31m---------------------------------------------------------------------------\u001b[0m",
      "\u001b[1;31mTypeError\u001b[0m                                 Traceback (most recent call last)",
      "\u001b[1;32m<ipython-input-153-826fa5ce88c5>\u001b[0m in \u001b[0;36m<module>\u001b[1;34m()\u001b[0m\n\u001b[1;32m----> 1\u001b[1;33m \u001b[0mget_tree_dot_view\u001b[0m\u001b[1;33m(\u001b[0m\u001b[0mclf_final\u001b[0m\u001b[1;33m,\u001b[0m \u001b[0mlist\u001b[0m\u001b[1;33m(\u001b[0m\u001b[0mX_train_fin\u001b[0m\u001b[1;33m.\u001b[0m\u001b[0mcolumns\u001b[0m\u001b[1;33m)\u001b[0m\u001b[1;33m,\u001b[0m \u001b[0mlist\u001b[0m\u001b[1;33m(\u001b[0m\u001b[0mle\u001b[0m\u001b[1;33m.\u001b[0m\u001b[0mclasses_\u001b[0m\u001b[1;33m)\u001b[0m\u001b[1;33m)\u001b[0m\u001b[1;33m\u001b[0m\u001b[0m\n\u001b[0m",
      "\u001b[1;32m<ipython-input-149-ddeca1de0e84>\u001b[0m in \u001b[0;36mget_tree_dot_view\u001b[1;34m(clf, feature_names, class_names)\u001b[0m\n\u001b[0;32m      2\u001b[0m \u001b[1;33m\u001b[0m\u001b[0m\n\u001b[0;32m      3\u001b[0m \u001b[1;32mdef\u001b[0m \u001b[0mget_tree_dot_view\u001b[0m\u001b[1;33m(\u001b[0m\u001b[0mclf\u001b[0m\u001b[1;33m,\u001b[0m \u001b[0mfeature_names\u001b[0m\u001b[1;33m=\u001b[0m\u001b[1;32mNone\u001b[0m\u001b[1;33m,\u001b[0m \u001b[0mclass_names\u001b[0m\u001b[1;33m=\u001b[0m\u001b[1;32mNone\u001b[0m\u001b[1;33m)\u001b[0m\u001b[1;33m:\u001b[0m\u001b[1;33m\u001b[0m\u001b[0m\n\u001b[1;32m----> 4\u001b[1;33m     \u001b[0mprint\u001b[0m\u001b[1;33m(\u001b[0m\u001b[0mexport_graphviz\u001b[0m\u001b[1;33m(\u001b[0m\u001b[0mclf\u001b[0m\u001b[1;33m,\u001b[0m \u001b[0mout_file\u001b[0m\u001b[1;33m=\u001b[0m\u001b[1;32mNone\u001b[0m\u001b[1;33m,\u001b[0m \u001b[0mfilled\u001b[0m\u001b[1;33m=\u001b[0m\u001b[1;32mTrue\u001b[0m\u001b[1;33m,\u001b[0m \u001b[0mfeature_names\u001b[0m\u001b[1;33m=\u001b[0m\u001b[0mfeature_names\u001b[0m\u001b[1;33m,\u001b[0m \u001b[0mclass_names\u001b[0m\u001b[1;33m=\u001b[0m\u001b[0mclass_names\u001b[0m\u001b[1;33m)\u001b[0m\u001b[1;33m)\u001b[0m\u001b[1;33m\u001b[0m\u001b[0m\n\u001b[0m",
      "\u001b[1;32m~\\Anaconda3\\lib\\site-packages\\sklearn\\tree\\export.py\u001b[0m in \u001b[0;36mexport_graphviz\u001b[1;34m(decision_tree, out_file, max_depth, feature_names, class_names, label, filled, leaves_parallel, impurity, node_ids, proportion, rotate, rounded, special_characters, precision)\u001b[0m\n\u001b[0;32m    462\u001b[0m             \u001b[0mrecurse\u001b[0m\u001b[1;33m(\u001b[0m\u001b[0mdecision_tree\u001b[0m\u001b[1;33m,\u001b[0m \u001b[1;36m0\u001b[0m\u001b[1;33m,\u001b[0m \u001b[0mcriterion\u001b[0m\u001b[1;33m=\u001b[0m\u001b[1;34m\"impurity\"\u001b[0m\u001b[1;33m)\u001b[0m\u001b[1;33m\u001b[0m\u001b[0m\n\u001b[0;32m    463\u001b[0m         \u001b[1;32melse\u001b[0m\u001b[1;33m:\u001b[0m\u001b[1;33m\u001b[0m\u001b[0m\n\u001b[1;32m--> 464\u001b[1;33m             \u001b[0mrecurse\u001b[0m\u001b[1;33m(\u001b[0m\u001b[0mdecision_tree\u001b[0m\u001b[1;33m.\u001b[0m\u001b[0mtree_\u001b[0m\u001b[1;33m,\u001b[0m \u001b[1;36m0\u001b[0m\u001b[1;33m,\u001b[0m \u001b[0mcriterion\u001b[0m\u001b[1;33m=\u001b[0m\u001b[0mdecision_tree\u001b[0m\u001b[1;33m.\u001b[0m\u001b[0mcriterion\u001b[0m\u001b[1;33m)\u001b[0m\u001b[1;33m\u001b[0m\u001b[0m\n\u001b[0m\u001b[0;32m    465\u001b[0m \u001b[1;33m\u001b[0m\u001b[0m\n\u001b[0;32m    466\u001b[0m         \u001b[1;31m# If required, draw leaf nodes at same depth as each other\u001b[0m\u001b[1;33m\u001b[0m\u001b[1;33m\u001b[0m\u001b[0m\n",
      "\u001b[1;32m~\\Anaconda3\\lib\\site-packages\\sklearn\\tree\\export.py\u001b[0m in \u001b[0;36mrecurse\u001b[1;34m(tree, node_id, criterion, parent, depth)\u001b[0m\n\u001b[0;32m    330\u001b[0m             out_file.write('%d [label=%s'\n\u001b[0;32m    331\u001b[0m                            % (node_id,\n\u001b[1;32m--> 332\u001b[1;33m                               node_to_str(tree, node_id, criterion)))\n\u001b[0m\u001b[0;32m    333\u001b[0m \u001b[1;33m\u001b[0m\u001b[0m\n\u001b[0;32m    334\u001b[0m             \u001b[1;32mif\u001b[0m \u001b[0mfilled\u001b[0m\u001b[1;33m:\u001b[0m\u001b[1;33m\u001b[0m\u001b[0m\n",
      "\u001b[1;32m~\\Anaconda3\\lib\\site-packages\\sklearn\\tree\\export.py\u001b[0m in \u001b[0;36mnode_to_str\u001b[1;34m(tree, node_id, criterion)\u001b[0m\n\u001b[0;32m    300\u001b[0m                                           \u001b[0mnp\u001b[0m\u001b[1;33m.\u001b[0m\u001b[0margmax\u001b[0m\u001b[1;33m(\u001b[0m\u001b[0mvalue\u001b[0m\u001b[1;33m)\u001b[0m\u001b[1;33m,\u001b[0m\u001b[1;33m\u001b[0m\u001b[0m\n\u001b[0;32m    301\u001b[0m                                           characters[2])\n\u001b[1;32m--> 302\u001b[1;33m             \u001b[0mnode_string\u001b[0m \u001b[1;33m+=\u001b[0m \u001b[0mclass_name\u001b[0m\u001b[1;33m\u001b[0m\u001b[0m\n\u001b[0m\u001b[0;32m    303\u001b[0m \u001b[1;33m\u001b[0m\u001b[0m\n\u001b[0;32m    304\u001b[0m         \u001b[1;31m# Clean up any trailing newlines\u001b[0m\u001b[1;33m\u001b[0m\u001b[1;33m\u001b[0m\u001b[0m\n",
      "\u001b[1;31mTypeError\u001b[0m: ufunc 'add' did not contain a loop with signature matching types dtype('<U75') dtype('<U75') dtype('<U75')"
     ]
    }
   ],
   "source": [
    "get_tree_dot_view(clf_final, list(X_train_fin.columns), list(le.classes_))"
   ]
  },
  {
   "cell_type": "code",
   "execution_count": null,
   "metadata": {
    "collapsed": true
   },
   "outputs": [],
   "source": []
  }
 ],
 "metadata": {
  "anaconda-cloud": {},
  "kernelspec": {
   "display_name": "Python 3",
   "language": "python",
   "name": "python3"
  },
  "language_info": {
   "codemirror_mode": {
    "name": "ipython",
    "version": 3
   },
   "file_extension": ".py",
   "mimetype": "text/x-python",
   "name": "python",
   "nbconvert_exporter": "python",
   "pygments_lexer": "ipython3",
   "version": "3.6.3"
  }
 },
 "nbformat": 4,
 "nbformat_minor": 2
}
