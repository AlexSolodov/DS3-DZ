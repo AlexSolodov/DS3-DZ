{
 "cells": [
  {
   "cell_type": "markdown",
   "metadata": {},
   "source": [
    "# Титаник. Кто выживет?"
   ]
  },
  {
   "cell_type": "markdown",
   "metadata": {},
   "source": [
    "https://www.kaggle.com/c/titanic/"
   ]
  },
  {
   "cell_type": "code",
   "execution_count": 1,
   "metadata": {
    "collapsed": true
   },
   "outputs": [],
   "source": [
    "import numpy as np\n",
    "import pandas as pd"
   ]
  },
  {
   "cell_type": "code",
   "execution_count": 2,
   "metadata": {
    "collapsed": true
   },
   "outputs": [],
   "source": [
    "from matplotlib import pyplot as plt\n",
    "%matplotlib inline\n",
    "import seaborn as sns\n",
    "\n",
    "%config InlineBackend.figure_format = 'retina'\n",
    "from pylab import rcParams\n",
    "rcParams['figure.figsize'] = (9, 6)"
   ]
  },
  {
   "cell_type": "markdown",
   "metadata": {},
   "source": [
    "### Данные"
   ]
  },
  {
   "cell_type": "code",
   "execution_count": 3,
   "metadata": {
    "collapsed": true
   },
   "outputs": [],
   "source": [
    "train = pd.read_csv('titanic/train.csv')\n",
    "test = pd.read_csv('titanic/test.csv')"
   ]
  },
  {
   "cell_type": "code",
   "execution_count": 4,
   "metadata": {
    "scrolled": true
   },
   "outputs": [
    {
     "data": {
      "text/html": [
       "<div>\n",
       "<style>\n",
       "    .dataframe thead tr:only-child th {\n",
       "        text-align: right;\n",
       "    }\n",
       "\n",
       "    .dataframe thead th {\n",
       "        text-align: left;\n",
       "    }\n",
       "\n",
       "    .dataframe tbody tr th {\n",
       "        vertical-align: top;\n",
       "    }\n",
       "</style>\n",
       "<table border=\"1\" class=\"dataframe\">\n",
       "  <thead>\n",
       "    <tr style=\"text-align: right;\">\n",
       "      <th></th>\n",
       "      <th>PassengerId</th>\n",
       "      <th>Survived</th>\n",
       "      <th>Pclass</th>\n",
       "      <th>Name</th>\n",
       "      <th>Sex</th>\n",
       "      <th>Age</th>\n",
       "      <th>SibSp</th>\n",
       "      <th>Parch</th>\n",
       "      <th>Ticket</th>\n",
       "      <th>Fare</th>\n",
       "      <th>Cabin</th>\n",
       "      <th>Embarked</th>\n",
       "    </tr>\n",
       "  </thead>\n",
       "  <tbody>\n",
       "    <tr>\n",
       "      <th>0</th>\n",
       "      <td>1</td>\n",
       "      <td>0</td>\n",
       "      <td>3</td>\n",
       "      <td>Braund, Mr. Owen Harris</td>\n",
       "      <td>male</td>\n",
       "      <td>22.0</td>\n",
       "      <td>1</td>\n",
       "      <td>0</td>\n",
       "      <td>A/5 21171</td>\n",
       "      <td>7.2500</td>\n",
       "      <td>NaN</td>\n",
       "      <td>S</td>\n",
       "    </tr>\n",
       "    <tr>\n",
       "      <th>1</th>\n",
       "      <td>2</td>\n",
       "      <td>1</td>\n",
       "      <td>1</td>\n",
       "      <td>Cumings, Mrs. John Bradley (Florence Briggs Th...</td>\n",
       "      <td>female</td>\n",
       "      <td>38.0</td>\n",
       "      <td>1</td>\n",
       "      <td>0</td>\n",
       "      <td>PC 17599</td>\n",
       "      <td>71.2833</td>\n",
       "      <td>C85</td>\n",
       "      <td>C</td>\n",
       "    </tr>\n",
       "    <tr>\n",
       "      <th>2</th>\n",
       "      <td>3</td>\n",
       "      <td>1</td>\n",
       "      <td>3</td>\n",
       "      <td>Heikkinen, Miss. Laina</td>\n",
       "      <td>female</td>\n",
       "      <td>26.0</td>\n",
       "      <td>0</td>\n",
       "      <td>0</td>\n",
       "      <td>STON/O2. 3101282</td>\n",
       "      <td>7.9250</td>\n",
       "      <td>NaN</td>\n",
       "      <td>S</td>\n",
       "    </tr>\n",
       "    <tr>\n",
       "      <th>3</th>\n",
       "      <td>4</td>\n",
       "      <td>1</td>\n",
       "      <td>1</td>\n",
       "      <td>Futrelle, Mrs. Jacques Heath (Lily May Peel)</td>\n",
       "      <td>female</td>\n",
       "      <td>35.0</td>\n",
       "      <td>1</td>\n",
       "      <td>0</td>\n",
       "      <td>113803</td>\n",
       "      <td>53.1000</td>\n",
       "      <td>C123</td>\n",
       "      <td>S</td>\n",
       "    </tr>\n",
       "    <tr>\n",
       "      <th>4</th>\n",
       "      <td>5</td>\n",
       "      <td>0</td>\n",
       "      <td>3</td>\n",
       "      <td>Allen, Mr. William Henry</td>\n",
       "      <td>male</td>\n",
       "      <td>35.0</td>\n",
       "      <td>0</td>\n",
       "      <td>0</td>\n",
       "      <td>373450</td>\n",
       "      <td>8.0500</td>\n",
       "      <td>NaN</td>\n",
       "      <td>S</td>\n",
       "    </tr>\n",
       "  </tbody>\n",
       "</table>\n",
       "</div>"
      ],
      "text/plain": [
       "   PassengerId  Survived  Pclass  \\\n",
       "0            1         0       3   \n",
       "1            2         1       1   \n",
       "2            3         1       3   \n",
       "3            4         1       1   \n",
       "4            5         0       3   \n",
       "\n",
       "                                                Name     Sex   Age  SibSp  \\\n",
       "0                            Braund, Mr. Owen Harris    male  22.0      1   \n",
       "1  Cumings, Mrs. John Bradley (Florence Briggs Th...  female  38.0      1   \n",
       "2                             Heikkinen, Miss. Laina  female  26.0      0   \n",
       "3       Futrelle, Mrs. Jacques Heath (Lily May Peel)  female  35.0      1   \n",
       "4                           Allen, Mr. William Henry    male  35.0      0   \n",
       "\n",
       "   Parch            Ticket     Fare Cabin Embarked  \n",
       "0      0         A/5 21171   7.2500   NaN        S  \n",
       "1      0          PC 17599  71.2833   C85        C  \n",
       "2      0  STON/O2. 3101282   7.9250   NaN        S  \n",
       "3      0            113803  53.1000  C123        S  \n",
       "4      0            373450   8.0500   NaN        S  "
      ]
     },
     "execution_count": 4,
     "metadata": {},
     "output_type": "execute_result"
    }
   ],
   "source": [
    "train.head()"
   ]
  },
  {
   "cell_type": "code",
   "execution_count": 5,
   "metadata": {
    "scrolled": true
   },
   "outputs": [
    {
     "data": {
      "text/html": [
       "<div>\n",
       "<style>\n",
       "    .dataframe thead tr:only-child th {\n",
       "        text-align: right;\n",
       "    }\n",
       "\n",
       "    .dataframe thead th {\n",
       "        text-align: left;\n",
       "    }\n",
       "\n",
       "    .dataframe tbody tr th {\n",
       "        vertical-align: top;\n",
       "    }\n",
       "</style>\n",
       "<table border=\"1\" class=\"dataframe\">\n",
       "  <thead>\n",
       "    <tr style=\"text-align: right;\">\n",
       "      <th></th>\n",
       "      <th>PassengerId</th>\n",
       "      <th>Pclass</th>\n",
       "      <th>Name</th>\n",
       "      <th>Sex</th>\n",
       "      <th>Age</th>\n",
       "      <th>SibSp</th>\n",
       "      <th>Parch</th>\n",
       "      <th>Ticket</th>\n",
       "      <th>Fare</th>\n",
       "      <th>Cabin</th>\n",
       "      <th>Embarked</th>\n",
       "    </tr>\n",
       "  </thead>\n",
       "  <tbody>\n",
       "    <tr>\n",
       "      <th>0</th>\n",
       "      <td>892</td>\n",
       "      <td>3</td>\n",
       "      <td>Kelly, Mr. James</td>\n",
       "      <td>male</td>\n",
       "      <td>34.5</td>\n",
       "      <td>0</td>\n",
       "      <td>0</td>\n",
       "      <td>330911</td>\n",
       "      <td>7.8292</td>\n",
       "      <td>NaN</td>\n",
       "      <td>Q</td>\n",
       "    </tr>\n",
       "    <tr>\n",
       "      <th>1</th>\n",
       "      <td>893</td>\n",
       "      <td>3</td>\n",
       "      <td>Wilkes, Mrs. James (Ellen Needs)</td>\n",
       "      <td>female</td>\n",
       "      <td>47.0</td>\n",
       "      <td>1</td>\n",
       "      <td>0</td>\n",
       "      <td>363272</td>\n",
       "      <td>7.0000</td>\n",
       "      <td>NaN</td>\n",
       "      <td>S</td>\n",
       "    </tr>\n",
       "    <tr>\n",
       "      <th>2</th>\n",
       "      <td>894</td>\n",
       "      <td>2</td>\n",
       "      <td>Myles, Mr. Thomas Francis</td>\n",
       "      <td>male</td>\n",
       "      <td>62.0</td>\n",
       "      <td>0</td>\n",
       "      <td>0</td>\n",
       "      <td>240276</td>\n",
       "      <td>9.6875</td>\n",
       "      <td>NaN</td>\n",
       "      <td>Q</td>\n",
       "    </tr>\n",
       "    <tr>\n",
       "      <th>3</th>\n",
       "      <td>895</td>\n",
       "      <td>3</td>\n",
       "      <td>Wirz, Mr. Albert</td>\n",
       "      <td>male</td>\n",
       "      <td>27.0</td>\n",
       "      <td>0</td>\n",
       "      <td>0</td>\n",
       "      <td>315154</td>\n",
       "      <td>8.6625</td>\n",
       "      <td>NaN</td>\n",
       "      <td>S</td>\n",
       "    </tr>\n",
       "    <tr>\n",
       "      <th>4</th>\n",
       "      <td>896</td>\n",
       "      <td>3</td>\n",
       "      <td>Hirvonen, Mrs. Alexander (Helga E Lindqvist)</td>\n",
       "      <td>female</td>\n",
       "      <td>22.0</td>\n",
       "      <td>1</td>\n",
       "      <td>1</td>\n",
       "      <td>3101298</td>\n",
       "      <td>12.2875</td>\n",
       "      <td>NaN</td>\n",
       "      <td>S</td>\n",
       "    </tr>\n",
       "  </tbody>\n",
       "</table>\n",
       "</div>"
      ],
      "text/plain": [
       "   PassengerId  Pclass                                          Name     Sex  \\\n",
       "0          892       3                              Kelly, Mr. James    male   \n",
       "1          893       3              Wilkes, Mrs. James (Ellen Needs)  female   \n",
       "2          894       2                     Myles, Mr. Thomas Francis    male   \n",
       "3          895       3                              Wirz, Mr. Albert    male   \n",
       "4          896       3  Hirvonen, Mrs. Alexander (Helga E Lindqvist)  female   \n",
       "\n",
       "    Age  SibSp  Parch   Ticket     Fare Cabin Embarked  \n",
       "0  34.5      0      0   330911   7.8292   NaN        Q  \n",
       "1  47.0      1      0   363272   7.0000   NaN        S  \n",
       "2  62.0      0      0   240276   9.6875   NaN        Q  \n",
       "3  27.0      0      0   315154   8.6625   NaN        S  \n",
       "4  22.0      1      1  3101298  12.2875   NaN        S  "
      ]
     },
     "execution_count": 5,
     "metadata": {},
     "output_type": "execute_result"
    }
   ],
   "source": [
    "test.head()"
   ]
  },
  {
   "cell_type": "code",
   "execution_count": 6,
   "metadata": {},
   "outputs": [
    {
     "name": "stdout",
     "output_type": "stream",
     "text": [
      "<class 'pandas.core.frame.DataFrame'>\n",
      "RangeIndex: 891 entries, 0 to 890\n",
      "Data columns (total 12 columns):\n",
      "PassengerId    891 non-null int64\n",
      "Survived       891 non-null int64\n",
      "Pclass         891 non-null int64\n",
      "Name           891 non-null object\n",
      "Sex            891 non-null object\n",
      "Age            714 non-null float64\n",
      "SibSp          891 non-null int64\n",
      "Parch          891 non-null int64\n",
      "Ticket         891 non-null object\n",
      "Fare           891 non-null float64\n",
      "Cabin          204 non-null object\n",
      "Embarked       889 non-null object\n",
      "dtypes: float64(2), int64(5), object(5)\n",
      "memory usage: 83.6+ KB\n"
     ]
    }
   ],
   "source": [
    "train.info()"
   ]
  },
  {
   "cell_type": "markdown",
   "metadata": {},
   "source": [
    "# EDA"
   ]
  },
  {
   "cell_type": "code",
   "execution_count": 7,
   "metadata": {},
   "outputs": [
    {
     "data": {
      "text/plain": [
       "Index(['PassengerId', 'Survived', 'Pclass', 'Name', 'Sex', 'Age', 'SibSp',\n",
       "       'Parch', 'Ticket', 'Fare', 'Cabin', 'Embarked'],\n",
       "      dtype='object')"
      ]
     },
     "execution_count": 7,
     "metadata": {},
     "output_type": "execute_result"
    }
   ],
   "source": [
    "train.columns"
   ]
  },
  {
   "cell_type": "code",
   "execution_count": 8,
   "metadata": {},
   "outputs": [
    {
     "data": {
      "text/plain": [
       "male      577\n",
       "female    314\n",
       "Name: Sex, dtype: int64"
      ]
     },
     "execution_count": 8,
     "metadata": {},
     "output_type": "execute_result"
    }
   ],
   "source": [
    "train.Sex.value_counts(dropna=False)"
   ]
  },
  {
   "cell_type": "code",
   "execution_count": 9,
   "metadata": {
    "collapsed": true
   },
   "outputs": [],
   "source": [
    "sns.boxplot?"
   ]
  },
  {
   "cell_type": "code",
   "execution_count": 10,
   "metadata": {},
   "outputs": [
    {
     "data": {
      "text/plain": [
       "<matplotlib.axes._subplots.AxesSubplot at 0x1e411137ef0>"
      ]
     },
     "execution_count": 10,
     "metadata": {},
     "output_type": "execute_result"
    },
    {
     "data": {
      "image/png": "[encoded data removed]",
      "text/plain": [
       "<matplotlib.figure.Figure at 0x1e40d78fe10>"
      ]
     },
     "metadata": {
      "image/png": {
       "height": 372,
       "width": 573
      }
     },
     "output_type": "display_data"
    }
   ],
   "source": [
    "sns.boxplot(data=train, x='Fare', y='Sex')"
   ]
  },
  {
   "cell_type": "code",
   "execution_count": 11,
   "metadata": {},
   "outputs": [
    {
     "data": {
      "text/plain": [
       "Sex     Pclass\n",
       "female  3         0.458599\n",
       "        1         0.299363\n",
       "        2         0.242038\n",
       "male    3         0.601386\n",
       "        1         0.211438\n",
       "        2         0.187175\n",
       "Name: Pclass, dtype: float64"
      ]
     },
     "execution_count": 11,
     "metadata": {},
     "output_type": "execute_result"
    }
   ],
   "source": [
    "train.groupby('Sex')['Pclass'].value_counts(normalize=True)"
   ]
  },
  {
   "cell_type": "markdown",
   "metadata": {},
   "source": [
    "### Фичи"
   ]
  },
  {
   "cell_type": "markdown",
   "metadata": {},
   "source": [
    "чтобы одинаковым образом обработать train и test и не дублировать все операции 2 раза, соединим эти два набора данных в один, не забыв при этом:\n",
    "1. выкинуть целевую переменную из train\n",
    "2. проверить на соответствие набора признаков друг другу\n",
    "3. добавить флаг того, является ли объект тестовым или нет"
   ]
  },
  {
   "cell_type": "code",
   "execution_count": 12,
   "metadata": {
    "collapsed": true
   },
   "outputs": [],
   "source": [
    "y_train = train.Survived\n",
    "train.drop('Survived', axis=1, inplace=True)"
   ]
  },
  {
   "cell_type": "code",
   "execution_count": 13,
   "metadata": {},
   "outputs": [
    {
     "data": {
      "text/plain": [
       "array([ True,  True,  True,  True,  True,  True,  True,  True,  True,\n",
       "        True,  True], dtype=bool)"
      ]
     },
     "execution_count": 13,
     "metadata": {},
     "output_type": "execute_result"
    }
   ],
   "source": [
    "train.columns == test.columns"
   ]
  },
  {
   "cell_type": "code",
   "execution_count": 14,
   "metadata": {
    "collapsed": true
   },
   "outputs": [],
   "source": [
    "train['is_test'] = 0\n",
    "test['is_test'] = 1"
   ]
  },
  {
   "cell_type": "code",
   "execution_count": 15,
   "metadata": {
    "collapsed": true
   },
   "outputs": [],
   "source": [
    "df = pd.concat([train, test])"
   ]
  },
  {
   "cell_type": "markdown",
   "metadata": {},
   "source": [
    "супер, теперь полный набор данных можно обрабатывать вместе и в любой момент, уже обработанными, обратно разъединить на обучающую и тестовую выборки"
   ]
  },
  {
   "cell_type": "markdown",
   "metadata": {},
   "source": [
    "Пол male/female закодируем в 1/0 и удалим переменные, с которыми мы не будем сейчас работать"
   ]
  },
  {
   "cell_type": "code",
   "execution_count": 16,
   "metadata": {
    "collapsed": true
   },
   "outputs": [],
   "source": [
    "df[\"isMale\"] = df.Sex.replace({\"male\": 1, \"female\":0})\n",
    "df.drop([\"Sex\", \"Cabin\", \"Ticket\", \"Name\", \"PassengerId\"], axis=1, inplace=True)"
   ]
  },
  {
   "cell_type": "markdown",
   "metadata": {},
   "source": [
    "признаки, значения которых составляют небольшой перечислимый набор, закодируем в отдельные столбцы "
   ]
  },
  {
   "cell_type": "code",
   "execution_count": 17,
   "metadata": {},
   "outputs": [
    {
     "data": {
      "text/plain": [
       "3    709\n",
       "1    323\n",
       "2    277\n",
       "Name: Pclass, dtype: int64"
      ]
     },
     "execution_count": 17,
     "metadata": {},
     "output_type": "execute_result"
    }
   ],
   "source": [
    "df.Pclass.value_counts()"
   ]
  },
  {
   "cell_type": "code",
   "execution_count": 18,
   "metadata": {
    "collapsed": true
   },
   "outputs": [],
   "source": [
    "df_dummies = pd.get_dummies(df, columns=['Pclass', 'Embarked'])"
   ]
  },
  {
   "cell_type": "code",
   "execution_count": 19,
   "metadata": {},
   "outputs": [
    {
     "data": {
      "text/html": [
       "<div>\n",
       "<style>\n",
       "    .dataframe thead tr:only-child th {\n",
       "        text-align: right;\n",
       "    }\n",
       "\n",
       "    .dataframe thead th {\n",
       "        text-align: left;\n",
       "    }\n",
       "\n",
       "    .dataframe tbody tr th {\n",
       "        vertical-align: top;\n",
       "    }\n",
       "</style>\n",
       "<table border=\"1\" class=\"dataframe\">\n",
       "  <thead>\n",
       "    <tr style=\"text-align: right;\">\n",
       "      <th></th>\n",
       "      <th>Age</th>\n",
       "      <th>SibSp</th>\n",
       "      <th>Parch</th>\n",
       "      <th>Fare</th>\n",
       "      <th>is_test</th>\n",
       "      <th>isMale</th>\n",
       "      <th>Pclass_1</th>\n",
       "      <th>Pclass_2</th>\n",
       "      <th>Pclass_3</th>\n",
       "      <th>Embarked_C</th>\n",
       "      <th>Embarked_Q</th>\n",
       "      <th>Embarked_S</th>\n",
       "    </tr>\n",
       "  </thead>\n",
       "  <tbody>\n",
       "    <tr>\n",
       "      <th>0</th>\n",
       "      <td>22.0</td>\n",
       "      <td>1</td>\n",
       "      <td>0</td>\n",
       "      <td>7.2500</td>\n",
       "      <td>0</td>\n",
       "      <td>1</td>\n",
       "      <td>0</td>\n",
       "      <td>0</td>\n",
       "      <td>1</td>\n",
       "      <td>0</td>\n",
       "      <td>0</td>\n",
       "      <td>1</td>\n",
       "    </tr>\n",
       "    <tr>\n",
       "      <th>1</th>\n",
       "      <td>38.0</td>\n",
       "      <td>1</td>\n",
       "      <td>0</td>\n",
       "      <td>71.2833</td>\n",
       "      <td>0</td>\n",
       "      <td>0</td>\n",
       "      <td>1</td>\n",
       "      <td>0</td>\n",
       "      <td>0</td>\n",
       "      <td>1</td>\n",
       "      <td>0</td>\n",
       "      <td>0</td>\n",
       "    </tr>\n",
       "    <tr>\n",
       "      <th>2</th>\n",
       "      <td>26.0</td>\n",
       "      <td>0</td>\n",
       "      <td>0</td>\n",
       "      <td>7.9250</td>\n",
       "      <td>0</td>\n",
       "      <td>0</td>\n",
       "      <td>0</td>\n",
       "      <td>0</td>\n",
       "      <td>1</td>\n",
       "      <td>0</td>\n",
       "      <td>0</td>\n",
       "      <td>1</td>\n",
       "    </tr>\n",
       "    <tr>\n",
       "      <th>3</th>\n",
       "      <td>35.0</td>\n",
       "      <td>1</td>\n",
       "      <td>0</td>\n",
       "      <td>53.1000</td>\n",
       "      <td>0</td>\n",
       "      <td>0</td>\n",
       "      <td>1</td>\n",
       "      <td>0</td>\n",
       "      <td>0</td>\n",
       "      <td>0</td>\n",
       "      <td>0</td>\n",
       "      <td>1</td>\n",
       "    </tr>\n",
       "    <tr>\n",
       "      <th>4</th>\n",
       "      <td>35.0</td>\n",
       "      <td>0</td>\n",
       "      <td>0</td>\n",
       "      <td>8.0500</td>\n",
       "      <td>0</td>\n",
       "      <td>1</td>\n",
       "      <td>0</td>\n",
       "      <td>0</td>\n",
       "      <td>1</td>\n",
       "      <td>0</td>\n",
       "      <td>0</td>\n",
       "      <td>1</td>\n",
       "    </tr>\n",
       "    <tr>\n",
       "      <th>5</th>\n",
       "      <td>NaN</td>\n",
       "      <td>0</td>\n",
       "      <td>0</td>\n",
       "      <td>8.4583</td>\n",
       "      <td>0</td>\n",
       "      <td>1</td>\n",
       "      <td>0</td>\n",
       "      <td>0</td>\n",
       "      <td>1</td>\n",
       "      <td>0</td>\n",
       "      <td>1</td>\n",
       "      <td>0</td>\n",
       "    </tr>\n",
       "    <tr>\n",
       "      <th>6</th>\n",
       "      <td>54.0</td>\n",
       "      <td>0</td>\n",
       "      <td>0</td>\n",
       "      <td>51.8625</td>\n",
       "      <td>0</td>\n",
       "      <td>1</td>\n",
       "      <td>1</td>\n",
       "      <td>0</td>\n",
       "      <td>0</td>\n",
       "      <td>0</td>\n",
       "      <td>0</td>\n",
       "      <td>1</td>\n",
       "    </tr>\n",
       "    <tr>\n",
       "      <th>7</th>\n",
       "      <td>2.0</td>\n",
       "      <td>3</td>\n",
       "      <td>1</td>\n",
       "      <td>21.0750</td>\n",
       "      <td>0</td>\n",
       "      <td>1</td>\n",
       "      <td>0</td>\n",
       "      <td>0</td>\n",
       "      <td>1</td>\n",
       "      <td>0</td>\n",
       "      <td>0</td>\n",
       "      <td>1</td>\n",
       "    </tr>\n",
       "    <tr>\n",
       "      <th>8</th>\n",
       "      <td>27.0</td>\n",
       "      <td>0</td>\n",
       "      <td>2</td>\n",
       "      <td>11.1333</td>\n",
       "      <td>0</td>\n",
       "      <td>0</td>\n",
       "      <td>0</td>\n",
       "      <td>0</td>\n",
       "      <td>1</td>\n",
       "      <td>0</td>\n",
       "      <td>0</td>\n",
       "      <td>1</td>\n",
       "    </tr>\n",
       "    <tr>\n",
       "      <th>9</th>\n",
       "      <td>14.0</td>\n",
       "      <td>1</td>\n",
       "      <td>0</td>\n",
       "      <td>30.0708</td>\n",
       "      <td>0</td>\n",
       "      <td>0</td>\n",
       "      <td>0</td>\n",
       "      <td>1</td>\n",
       "      <td>0</td>\n",
       "      <td>1</td>\n",
       "      <td>0</td>\n",
       "      <td>0</td>\n",
       "    </tr>\n",
       "  </tbody>\n",
       "</table>\n",
       "</div>"
      ],
      "text/plain": [
       "    Age  SibSp  Parch     Fare  is_test  isMale  Pclass_1  Pclass_2  Pclass_3  \\\n",
       "0  22.0      1      0   7.2500        0       1         0         0         1   \n",
       "1  38.0      1      0  71.2833        0       0         1         0         0   \n",
       "2  26.0      0      0   7.9250        0       0         0         0         1   \n",
       "3  35.0      1      0  53.1000        0       0         1         0         0   \n",
       "4  35.0      0      0   8.0500        0       1         0         0         1   \n",
       "5   NaN      0      0   8.4583        0       1         0         0         1   \n",
       "6  54.0      0      0  51.8625        0       1         1         0         0   \n",
       "7   2.0      3      1  21.0750        0       1         0         0         1   \n",
       "8  27.0      0      2  11.1333        0       0         0         0         1   \n",
       "9  14.0      1      0  30.0708        0       0         0         1         0   \n",
       "\n",
       "   Embarked_C  Embarked_Q  Embarked_S  \n",
       "0           0           0           1  \n",
       "1           1           0           0  \n",
       "2           0           0           1  \n",
       "3           0           0           1  \n",
       "4           0           0           1  \n",
       "5           0           1           0  \n",
       "6           0           0           1  \n",
       "7           0           0           1  \n",
       "8           0           0           1  \n",
       "9           1           0           0  "
      ]
     },
     "execution_count": 19,
     "metadata": {},
     "output_type": "execute_result"
    }
   ],
   "source": [
    "df_dummies.head(10)"
   ]
  },
  {
   "cell_type": "code",
   "execution_count": 20,
   "metadata": {},
   "outputs": [
    {
     "data": {
      "text/plain": [
       "Age           263\n",
       "SibSp           0\n",
       "Parch           0\n",
       "Fare            1\n",
       "is_test         0\n",
       "isMale          0\n",
       "Pclass_1        0\n",
       "Pclass_2        0\n",
       "Pclass_3        0\n",
       "Embarked_C      0\n",
       "Embarked_Q      0\n",
       "Embarked_S      0\n",
       "dtype: int64"
      ]
     },
     "execution_count": 20,
     "metadata": {},
     "output_type": "execute_result"
    }
   ],
   "source": [
    "df_dummies.isnull().sum()"
   ]
  },
  {
   "cell_type": "code",
   "execution_count": 21,
   "metadata": {
    "collapsed": true
   },
   "outputs": [],
   "source": [
    "X_train = df_dummies[df_dummies.is_test==0].drop('is_test', axis=1)\n",
    "X_test = df_dummies[df_dummies.is_test==1].drop('is_test', axis=1)"
   ]
  },
  {
   "cell_type": "code",
   "execution_count": 22,
   "metadata": {
    "collapsed": true
   },
   "outputs": [],
   "source": [
    "columns = X_train.columns"
   ]
  },
  {
   "cell_type": "code",
   "execution_count": 23,
   "metadata": {},
   "outputs": [
    {
     "data": {
      "text/html": [
       "<div>\n",
       "<style>\n",
       "    .dataframe thead tr:only-child th {\n",
       "        text-align: right;\n",
       "    }\n",
       "\n",
       "    .dataframe thead th {\n",
       "        text-align: left;\n",
       "    }\n",
       "\n",
       "    .dataframe tbody tr th {\n",
       "        vertical-align: top;\n",
       "    }\n",
       "</style>\n",
       "<table border=\"1\" class=\"dataframe\">\n",
       "  <thead>\n",
       "    <tr style=\"text-align: right;\">\n",
       "      <th></th>\n",
       "      <th>Age</th>\n",
       "      <th>SibSp</th>\n",
       "      <th>Parch</th>\n",
       "      <th>Fare</th>\n",
       "      <th>isMale</th>\n",
       "      <th>Pclass_1</th>\n",
       "      <th>Pclass_2</th>\n",
       "      <th>Pclass_3</th>\n",
       "      <th>Embarked_C</th>\n",
       "      <th>Embarked_Q</th>\n",
       "      <th>Embarked_S</th>\n",
       "    </tr>\n",
       "  </thead>\n",
       "  <tbody>\n",
       "    <tr>\n",
       "      <th>0</th>\n",
       "      <td>22.0</td>\n",
       "      <td>1</td>\n",
       "      <td>0</td>\n",
       "      <td>7.2500</td>\n",
       "      <td>1</td>\n",
       "      <td>0</td>\n",
       "      <td>0</td>\n",
       "      <td>1</td>\n",
       "      <td>0</td>\n",
       "      <td>0</td>\n",
       "      <td>1</td>\n",
       "    </tr>\n",
       "    <tr>\n",
       "      <th>1</th>\n",
       "      <td>38.0</td>\n",
       "      <td>1</td>\n",
       "      <td>0</td>\n",
       "      <td>71.2833</td>\n",
       "      <td>0</td>\n",
       "      <td>1</td>\n",
       "      <td>0</td>\n",
       "      <td>0</td>\n",
       "      <td>1</td>\n",
       "      <td>0</td>\n",
       "      <td>0</td>\n",
       "    </tr>\n",
       "    <tr>\n",
       "      <th>2</th>\n",
       "      <td>26.0</td>\n",
       "      <td>0</td>\n",
       "      <td>0</td>\n",
       "      <td>7.9250</td>\n",
       "      <td>0</td>\n",
       "      <td>0</td>\n",
       "      <td>0</td>\n",
       "      <td>1</td>\n",
       "      <td>0</td>\n",
       "      <td>0</td>\n",
       "      <td>1</td>\n",
       "    </tr>\n",
       "    <tr>\n",
       "      <th>3</th>\n",
       "      <td>35.0</td>\n",
       "      <td>1</td>\n",
       "      <td>0</td>\n",
       "      <td>53.1000</td>\n",
       "      <td>0</td>\n",
       "      <td>1</td>\n",
       "      <td>0</td>\n",
       "      <td>0</td>\n",
       "      <td>0</td>\n",
       "      <td>0</td>\n",
       "      <td>1</td>\n",
       "    </tr>\n",
       "    <tr>\n",
       "      <th>4</th>\n",
       "      <td>35.0</td>\n",
       "      <td>0</td>\n",
       "      <td>0</td>\n",
       "      <td>8.0500</td>\n",
       "      <td>1</td>\n",
       "      <td>0</td>\n",
       "      <td>0</td>\n",
       "      <td>1</td>\n",
       "      <td>0</td>\n",
       "      <td>0</td>\n",
       "      <td>1</td>\n",
       "    </tr>\n",
       "    <tr>\n",
       "      <th>5</th>\n",
       "      <td>NaN</td>\n",
       "      <td>0</td>\n",
       "      <td>0</td>\n",
       "      <td>8.4583</td>\n",
       "      <td>1</td>\n",
       "      <td>0</td>\n",
       "      <td>0</td>\n",
       "      <td>1</td>\n",
       "      <td>0</td>\n",
       "      <td>1</td>\n",
       "      <td>0</td>\n",
       "    </tr>\n",
       "    <tr>\n",
       "      <th>6</th>\n",
       "      <td>54.0</td>\n",
       "      <td>0</td>\n",
       "      <td>0</td>\n",
       "      <td>51.8625</td>\n",
       "      <td>1</td>\n",
       "      <td>1</td>\n",
       "      <td>0</td>\n",
       "      <td>0</td>\n",
       "      <td>0</td>\n",
       "      <td>0</td>\n",
       "      <td>1</td>\n",
       "    </tr>\n",
       "    <tr>\n",
       "      <th>7</th>\n",
       "      <td>2.0</td>\n",
       "      <td>3</td>\n",
       "      <td>1</td>\n",
       "      <td>21.0750</td>\n",
       "      <td>1</td>\n",
       "      <td>0</td>\n",
       "      <td>0</td>\n",
       "      <td>1</td>\n",
       "      <td>0</td>\n",
       "      <td>0</td>\n",
       "      <td>1</td>\n",
       "    </tr>\n",
       "    <tr>\n",
       "      <th>8</th>\n",
       "      <td>27.0</td>\n",
       "      <td>0</td>\n",
       "      <td>2</td>\n",
       "      <td>11.1333</td>\n",
       "      <td>0</td>\n",
       "      <td>0</td>\n",
       "      <td>0</td>\n",
       "      <td>1</td>\n",
       "      <td>0</td>\n",
       "      <td>0</td>\n",
       "      <td>1</td>\n",
       "    </tr>\n",
       "    <tr>\n",
       "      <th>9</th>\n",
       "      <td>14.0</td>\n",
       "      <td>1</td>\n",
       "      <td>0</td>\n",
       "      <td>30.0708</td>\n",
       "      <td>0</td>\n",
       "      <td>0</td>\n",
       "      <td>1</td>\n",
       "      <td>0</td>\n",
       "      <td>1</td>\n",
       "      <td>0</td>\n",
       "      <td>0</td>\n",
       "    </tr>\n",
       "  </tbody>\n",
       "</table>\n",
       "</div>"
      ],
      "text/plain": [
       "    Age  SibSp  Parch     Fare  isMale  Pclass_1  Pclass_2  Pclass_3  \\\n",
       "0  22.0      1      0   7.2500       1         0         0         1   \n",
       "1  38.0      1      0  71.2833       0         1         0         0   \n",
       "2  26.0      0      0   7.9250       0         0         0         1   \n",
       "3  35.0      1      0  53.1000       0         1         0         0   \n",
       "4  35.0      0      0   8.0500       1         0         0         1   \n",
       "5   NaN      0      0   8.4583       1         0         0         1   \n",
       "6  54.0      0      0  51.8625       1         1         0         0   \n",
       "7   2.0      3      1  21.0750       1         0         0         1   \n",
       "8  27.0      0      2  11.1333       0         0         0         1   \n",
       "9  14.0      1      0  30.0708       0         0         1         0   \n",
       "\n",
       "   Embarked_C  Embarked_Q  Embarked_S  \n",
       "0           0           0           1  \n",
       "1           1           0           0  \n",
       "2           0           0           1  \n",
       "3           0           0           1  \n",
       "4           0           0           1  \n",
       "5           0           1           0  \n",
       "6           0           0           1  \n",
       "7           0           0           1  \n",
       "8           0           0           1  \n",
       "9           1           0           0  "
      ]
     },
     "execution_count": 23,
     "metadata": {},
     "output_type": "execute_result"
    }
   ],
   "source": [
    "X_train.head(10)"
   ]
  },
  {
   "cell_type": "markdown",
   "metadata": {},
   "source": [
    "### Заполнение пустых значений"
   ]
  },
  {
   "cell_type": "markdown",
   "metadata": {},
   "source": [
    "заполним пустые значения средними по соответственным признакам"
   ]
  },
  {
   "cell_type": "code",
   "execution_count": 24,
   "metadata": {
    "collapsed": true
   },
   "outputs": [],
   "source": [
    "from sklearn.preprocessing import Imputer"
   ]
  },
  {
   "cell_type": "code",
   "execution_count": 25,
   "metadata": {
    "collapsed": true
   },
   "outputs": [],
   "source": [
    "imputer = Imputer(missing_values='NaN', strategy='mean', axis=0, verbose=0, copy=True)"
   ]
  },
  {
   "cell_type": "code",
   "execution_count": 26,
   "metadata": {
    "scrolled": true
   },
   "outputs": [
    {
     "data": {
      "text/plain": [
       "Imputer(axis=0, copy=True, missing_values='NaN', strategy='mean', verbose=0)"
      ]
     },
     "execution_count": 26,
     "metadata": {},
     "output_type": "execute_result"
    }
   ],
   "source": [
    "imputer.fit(X_train)"
   ]
  },
  {
   "cell_type": "code",
   "execution_count": 27,
   "metadata": {
    "collapsed": true
   },
   "outputs": [],
   "source": [
    "X_train_imputed = imputer.transform(X_train)\n",
    "X_train_imputed = pd.DataFrame(X_train_imputed, columns=columns)"
   ]
  },
  {
   "cell_type": "code",
   "execution_count": 28,
   "metadata": {},
   "outputs": [
    {
     "data": {
      "text/html": [
       "<div>\n",
       "<style>\n",
       "    .dataframe thead tr:only-child th {\n",
       "        text-align: right;\n",
       "    }\n",
       "\n",
       "    .dataframe thead th {\n",
       "        text-align: left;\n",
       "    }\n",
       "\n",
       "    .dataframe tbody tr th {\n",
       "        vertical-align: top;\n",
       "    }\n",
       "</style>\n",
       "<table border=\"1\" class=\"dataframe\">\n",
       "  <thead>\n",
       "    <tr style=\"text-align: right;\">\n",
       "      <th></th>\n",
       "      <th>Age</th>\n",
       "      <th>SibSp</th>\n",
       "      <th>Parch</th>\n",
       "      <th>Fare</th>\n",
       "      <th>isMale</th>\n",
       "      <th>Pclass_1</th>\n",
       "      <th>Pclass_2</th>\n",
       "      <th>Pclass_3</th>\n",
       "      <th>Embarked_C</th>\n",
       "      <th>Embarked_Q</th>\n",
       "      <th>Embarked_S</th>\n",
       "    </tr>\n",
       "  </thead>\n",
       "  <tbody>\n",
       "    <tr>\n",
       "      <th>0</th>\n",
       "      <td>22.000000</td>\n",
       "      <td>1.0</td>\n",
       "      <td>0.0</td>\n",
       "      <td>7.2500</td>\n",
       "      <td>1.0</td>\n",
       "      <td>0.0</td>\n",
       "      <td>0.0</td>\n",
       "      <td>1.0</td>\n",
       "      <td>0.0</td>\n",
       "      <td>0.0</td>\n",
       "      <td>1.0</td>\n",
       "    </tr>\n",
       "    <tr>\n",
       "      <th>1</th>\n",
       "      <td>38.000000</td>\n",
       "      <td>1.0</td>\n",
       "      <td>0.0</td>\n",
       "      <td>71.2833</td>\n",
       "      <td>0.0</td>\n",
       "      <td>1.0</td>\n",
       "      <td>0.0</td>\n",
       "      <td>0.0</td>\n",
       "      <td>1.0</td>\n",
       "      <td>0.0</td>\n",
       "      <td>0.0</td>\n",
       "    </tr>\n",
       "    <tr>\n",
       "      <th>2</th>\n",
       "      <td>26.000000</td>\n",
       "      <td>0.0</td>\n",
       "      <td>0.0</td>\n",
       "      <td>7.9250</td>\n",
       "      <td>0.0</td>\n",
       "      <td>0.0</td>\n",
       "      <td>0.0</td>\n",
       "      <td>1.0</td>\n",
       "      <td>0.0</td>\n",
       "      <td>0.0</td>\n",
       "      <td>1.0</td>\n",
       "    </tr>\n",
       "    <tr>\n",
       "      <th>3</th>\n",
       "      <td>35.000000</td>\n",
       "      <td>1.0</td>\n",
       "      <td>0.0</td>\n",
       "      <td>53.1000</td>\n",
       "      <td>0.0</td>\n",
       "      <td>1.0</td>\n",
       "      <td>0.0</td>\n",
       "      <td>0.0</td>\n",
       "      <td>0.0</td>\n",
       "      <td>0.0</td>\n",
       "      <td>1.0</td>\n",
       "    </tr>\n",
       "    <tr>\n",
       "      <th>4</th>\n",
       "      <td>35.000000</td>\n",
       "      <td>0.0</td>\n",
       "      <td>0.0</td>\n",
       "      <td>8.0500</td>\n",
       "      <td>1.0</td>\n",
       "      <td>0.0</td>\n",
       "      <td>0.0</td>\n",
       "      <td>1.0</td>\n",
       "      <td>0.0</td>\n",
       "      <td>0.0</td>\n",
       "      <td>1.0</td>\n",
       "    </tr>\n",
       "    <tr>\n",
       "      <th>5</th>\n",
       "      <td>29.699118</td>\n",
       "      <td>0.0</td>\n",
       "      <td>0.0</td>\n",
       "      <td>8.4583</td>\n",
       "      <td>1.0</td>\n",
       "      <td>0.0</td>\n",
       "      <td>0.0</td>\n",
       "      <td>1.0</td>\n",
       "      <td>0.0</td>\n",
       "      <td>1.0</td>\n",
       "      <td>0.0</td>\n",
       "    </tr>\n",
       "    <tr>\n",
       "      <th>6</th>\n",
       "      <td>54.000000</td>\n",
       "      <td>0.0</td>\n",
       "      <td>0.0</td>\n",
       "      <td>51.8625</td>\n",
       "      <td>1.0</td>\n",
       "      <td>1.0</td>\n",
       "      <td>0.0</td>\n",
       "      <td>0.0</td>\n",
       "      <td>0.0</td>\n",
       "      <td>0.0</td>\n",
       "      <td>1.0</td>\n",
       "    </tr>\n",
       "    <tr>\n",
       "      <th>7</th>\n",
       "      <td>2.000000</td>\n",
       "      <td>3.0</td>\n",
       "      <td>1.0</td>\n",
       "      <td>21.0750</td>\n",
       "      <td>1.0</td>\n",
       "      <td>0.0</td>\n",
       "      <td>0.0</td>\n",
       "      <td>1.0</td>\n",
       "      <td>0.0</td>\n",
       "      <td>0.0</td>\n",
       "      <td>1.0</td>\n",
       "    </tr>\n",
       "    <tr>\n",
       "      <th>8</th>\n",
       "      <td>27.000000</td>\n",
       "      <td>0.0</td>\n",
       "      <td>2.0</td>\n",
       "      <td>11.1333</td>\n",
       "      <td>0.0</td>\n",
       "      <td>0.0</td>\n",
       "      <td>0.0</td>\n",
       "      <td>1.0</td>\n",
       "      <td>0.0</td>\n",
       "      <td>0.0</td>\n",
       "      <td>1.0</td>\n",
       "    </tr>\n",
       "    <tr>\n",
       "      <th>9</th>\n",
       "      <td>14.000000</td>\n",
       "      <td>1.0</td>\n",
       "      <td>0.0</td>\n",
       "      <td>30.0708</td>\n",
       "      <td>0.0</td>\n",
       "      <td>0.0</td>\n",
       "      <td>1.0</td>\n",
       "      <td>0.0</td>\n",
       "      <td>1.0</td>\n",
       "      <td>0.0</td>\n",
       "      <td>0.0</td>\n",
       "    </tr>\n",
       "  </tbody>\n",
       "</table>\n",
       "</div>"
      ],
      "text/plain": [
       "         Age  SibSp  Parch     Fare  isMale  Pclass_1  Pclass_2  Pclass_3  \\\n",
       "0  22.000000    1.0    0.0   7.2500     1.0       0.0       0.0       1.0   \n",
       "1  38.000000    1.0    0.0  71.2833     0.0       1.0       0.0       0.0   \n",
       "2  26.000000    0.0    0.0   7.9250     0.0       0.0       0.0       1.0   \n",
       "3  35.000000    1.0    0.0  53.1000     0.0       1.0       0.0       0.0   \n",
       "4  35.000000    0.0    0.0   8.0500     1.0       0.0       0.0       1.0   \n",
       "5  29.699118    0.0    0.0   8.4583     1.0       0.0       0.0       1.0   \n",
       "6  54.000000    0.0    0.0  51.8625     1.0       1.0       0.0       0.0   \n",
       "7   2.000000    3.0    1.0  21.0750     1.0       0.0       0.0       1.0   \n",
       "8  27.000000    0.0    2.0  11.1333     0.0       0.0       0.0       1.0   \n",
       "9  14.000000    1.0    0.0  30.0708     0.0       0.0       1.0       0.0   \n",
       "\n",
       "   Embarked_C  Embarked_Q  Embarked_S  \n",
       "0         0.0         0.0         1.0  \n",
       "1         1.0         0.0         0.0  \n",
       "2         0.0         0.0         1.0  \n",
       "3         0.0         0.0         1.0  \n",
       "4         0.0         0.0         1.0  \n",
       "5         0.0         1.0         0.0  \n",
       "6         0.0         0.0         1.0  \n",
       "7         0.0         0.0         1.0  \n",
       "8         0.0         0.0         1.0  \n",
       "9         1.0         0.0         0.0  "
      ]
     },
     "execution_count": 28,
     "metadata": {},
     "output_type": "execute_result"
    }
   ],
   "source": [
    "X_train_imputed.head(10)"
   ]
  },
  {
   "cell_type": "markdown",
   "metadata": {},
   "source": [
    "### Нормировка значений"
   ]
  },
  {
   "cell_type": "code",
   "execution_count": 29,
   "metadata": {
    "collapsed": true
   },
   "outputs": [],
   "source": [
    "from sklearn.preprocessing import StandardScaler"
   ]
  },
  {
   "cell_type": "code",
   "execution_count": 30,
   "metadata": {
    "collapsed": true
   },
   "outputs": [],
   "source": [
    "scaler = StandardScaler()"
   ]
  },
  {
   "cell_type": "code",
   "execution_count": 31,
   "metadata": {},
   "outputs": [
    {
     "data": {
      "text/plain": [
       "StandardScaler(copy=True, with_mean=True, with_std=True)"
      ]
     },
     "execution_count": 31,
     "metadata": {},
     "output_type": "execute_result"
    }
   ],
   "source": [
    "scaler.fit(X_train_imputed)"
   ]
  },
  {
   "cell_type": "code",
   "execution_count": 32,
   "metadata": {
    "collapsed": true
   },
   "outputs": [],
   "source": [
    "X_train_imputed_scaled = scaler.transform(X_train_imputed)\n",
    "X_train_imputed_scaled = pd.DataFrame(X_train_imputed_scaled, columns=columns)"
   ]
  },
  {
   "cell_type": "code",
   "execution_count": 33,
   "metadata": {},
   "outputs": [
    {
     "data": {
      "text/html": [
       "<div>\n",
       "<style>\n",
       "    .dataframe thead tr:only-child th {\n",
       "        text-align: right;\n",
       "    }\n",
       "\n",
       "    .dataframe thead th {\n",
       "        text-align: left;\n",
       "    }\n",
       "\n",
       "    .dataframe tbody tr th {\n",
       "        vertical-align: top;\n",
       "    }\n",
       "</style>\n",
       "<table border=\"1\" class=\"dataframe\">\n",
       "  <thead>\n",
       "    <tr style=\"text-align: right;\">\n",
       "      <th></th>\n",
       "      <th>Age</th>\n",
       "      <th>SibSp</th>\n",
       "      <th>Parch</th>\n",
       "      <th>Fare</th>\n",
       "      <th>isMale</th>\n",
       "      <th>Pclass_1</th>\n",
       "      <th>Pclass_2</th>\n",
       "      <th>Pclass_3</th>\n",
       "      <th>Embarked_C</th>\n",
       "      <th>Embarked_Q</th>\n",
       "      <th>Embarked_S</th>\n",
       "    </tr>\n",
       "  </thead>\n",
       "  <tbody>\n",
       "    <tr>\n",
       "      <th>0</th>\n",
       "      <td>-0.592481</td>\n",
       "      <td>0.432793</td>\n",
       "      <td>-0.473674</td>\n",
       "      <td>-0.502445</td>\n",
       "      <td>0.737695</td>\n",
       "      <td>-0.565685</td>\n",
       "      <td>-0.510152</td>\n",
       "      <td>0.902587</td>\n",
       "      <td>-0.482043</td>\n",
       "      <td>-0.307562</td>\n",
       "      <td>0.619306</td>\n",
       "    </tr>\n",
       "    <tr>\n",
       "      <th>1</th>\n",
       "      <td>0.638789</td>\n",
       "      <td>0.432793</td>\n",
       "      <td>-0.473674</td>\n",
       "      <td>0.786845</td>\n",
       "      <td>-1.355574</td>\n",
       "      <td>1.767767</td>\n",
       "      <td>-0.510152</td>\n",
       "      <td>-1.107926</td>\n",
       "      <td>2.074505</td>\n",
       "      <td>-0.307562</td>\n",
       "      <td>-1.614710</td>\n",
       "    </tr>\n",
       "    <tr>\n",
       "      <th>2</th>\n",
       "      <td>-0.284663</td>\n",
       "      <td>-0.474545</td>\n",
       "      <td>-0.473674</td>\n",
       "      <td>-0.488854</td>\n",
       "      <td>-1.355574</td>\n",
       "      <td>-0.565685</td>\n",
       "      <td>-0.510152</td>\n",
       "      <td>0.902587</td>\n",
       "      <td>-0.482043</td>\n",
       "      <td>-0.307562</td>\n",
       "      <td>0.619306</td>\n",
       "    </tr>\n",
       "    <tr>\n",
       "      <th>3</th>\n",
       "      <td>0.407926</td>\n",
       "      <td>0.432793</td>\n",
       "      <td>-0.473674</td>\n",
       "      <td>0.420730</td>\n",
       "      <td>-1.355574</td>\n",
       "      <td>1.767767</td>\n",
       "      <td>-0.510152</td>\n",
       "      <td>-1.107926</td>\n",
       "      <td>-0.482043</td>\n",
       "      <td>-0.307562</td>\n",
       "      <td>0.619306</td>\n",
       "    </tr>\n",
       "    <tr>\n",
       "      <th>4</th>\n",
       "      <td>0.407926</td>\n",
       "      <td>-0.474545</td>\n",
       "      <td>-0.473674</td>\n",
       "      <td>-0.486337</td>\n",
       "      <td>0.737695</td>\n",
       "      <td>-0.565685</td>\n",
       "      <td>-0.510152</td>\n",
       "      <td>0.902587</td>\n",
       "      <td>-0.482043</td>\n",
       "      <td>-0.307562</td>\n",
       "      <td>0.619306</td>\n",
       "    </tr>\n",
       "    <tr>\n",
       "      <th>5</th>\n",
       "      <td>0.000000</td>\n",
       "      <td>-0.474545</td>\n",
       "      <td>-0.473674</td>\n",
       "      <td>-0.478116</td>\n",
       "      <td>0.737695</td>\n",
       "      <td>-0.565685</td>\n",
       "      <td>-0.510152</td>\n",
       "      <td>0.902587</td>\n",
       "      <td>-0.482043</td>\n",
       "      <td>3.251373</td>\n",
       "      <td>-1.614710</td>\n",
       "    </tr>\n",
       "    <tr>\n",
       "      <th>6</th>\n",
       "      <td>1.870059</td>\n",
       "      <td>-0.474545</td>\n",
       "      <td>-0.473674</td>\n",
       "      <td>0.395814</td>\n",
       "      <td>0.737695</td>\n",
       "      <td>1.767767</td>\n",
       "      <td>-0.510152</td>\n",
       "      <td>-1.107926</td>\n",
       "      <td>-0.482043</td>\n",
       "      <td>-0.307562</td>\n",
       "      <td>0.619306</td>\n",
       "    </tr>\n",
       "    <tr>\n",
       "      <th>7</th>\n",
       "      <td>-2.131568</td>\n",
       "      <td>2.247470</td>\n",
       "      <td>0.767630</td>\n",
       "      <td>-0.224083</td>\n",
       "      <td>0.737695</td>\n",
       "      <td>-0.565685</td>\n",
       "      <td>-0.510152</td>\n",
       "      <td>0.902587</td>\n",
       "      <td>-0.482043</td>\n",
       "      <td>-0.307562</td>\n",
       "      <td>0.619306</td>\n",
       "    </tr>\n",
       "    <tr>\n",
       "      <th>8</th>\n",
       "      <td>-0.207709</td>\n",
       "      <td>-0.474545</td>\n",
       "      <td>2.008933</td>\n",
       "      <td>-0.424256</td>\n",
       "      <td>-1.355574</td>\n",
       "      <td>-0.565685</td>\n",
       "      <td>-0.510152</td>\n",
       "      <td>0.902587</td>\n",
       "      <td>-0.482043</td>\n",
       "      <td>-0.307562</td>\n",
       "      <td>0.619306</td>\n",
       "    </tr>\n",
       "    <tr>\n",
       "      <th>9</th>\n",
       "      <td>-1.208115</td>\n",
       "      <td>0.432793</td>\n",
       "      <td>-0.473674</td>\n",
       "      <td>-0.042956</td>\n",
       "      <td>-1.355574</td>\n",
       "      <td>-0.565685</td>\n",
       "      <td>1.960202</td>\n",
       "      <td>-1.107926</td>\n",
       "      <td>2.074505</td>\n",
       "      <td>-0.307562</td>\n",
       "      <td>-1.614710</td>\n",
       "    </tr>\n",
       "  </tbody>\n",
       "</table>\n",
       "</div>"
      ],
      "text/plain": [
       "        Age     SibSp     Parch      Fare    isMale  Pclass_1  Pclass_2  \\\n",
       "0 -0.592481  0.432793 -0.473674 -0.502445  0.737695 -0.565685 -0.510152   \n",
       "1  0.638789  0.432793 -0.473674  0.786845 -1.355574  1.767767 -0.510152   \n",
       "2 -0.284663 -0.474545 -0.473674 -0.488854 -1.355574 -0.565685 -0.510152   \n",
       "3  0.407926  0.432793 -0.473674  0.420730 -1.355574  1.767767 -0.510152   \n",
       "4  0.407926 -0.474545 -0.473674 -0.486337  0.737695 -0.565685 -0.510152   \n",
       "5  0.000000 -0.474545 -0.473674 -0.478116  0.737695 -0.565685 -0.510152   \n",
       "6  1.870059 -0.474545 -0.473674  0.395814  0.737695  1.767767 -0.510152   \n",
       "7 -2.131568  2.247470  0.767630 -0.224083  0.737695 -0.565685 -0.510152   \n",
       "8 -0.207709 -0.474545  2.008933 -0.424256 -1.355574 -0.565685 -0.510152   \n",
       "9 -1.208115  0.432793 -0.473674 -0.042956 -1.355574 -0.565685  1.960202   \n",
       "\n",
       "   Pclass_3  Embarked_C  Embarked_Q  Embarked_S  \n",
       "0  0.902587   -0.482043   -0.307562    0.619306  \n",
       "1 -1.107926    2.074505   -0.307562   -1.614710  \n",
       "2  0.902587   -0.482043   -0.307562    0.619306  \n",
       "3 -1.107926   -0.482043   -0.307562    0.619306  \n",
       "4  0.902587   -0.482043   -0.307562    0.619306  \n",
       "5  0.902587   -0.482043    3.251373   -1.614710  \n",
       "6 -1.107926   -0.482043   -0.307562    0.619306  \n",
       "7  0.902587   -0.482043   -0.307562    0.619306  \n",
       "8  0.902587   -0.482043   -0.307562    0.619306  \n",
       "9 -1.107926    2.074505   -0.307562   -1.614710  "
      ]
     },
     "execution_count": 33,
     "metadata": {},
     "output_type": "execute_result"
    }
   ],
   "source": [
    "X_train_imputed_scaled.head(10)"
   ]
  },
  {
   "cell_type": "code",
   "execution_count": 34,
   "metadata": {
    "collapsed": true
   },
   "outputs": [],
   "source": [
    "X_test_imputed_scaled = scaler.transform(imputer.transform(X_test))"
   ]
  },
  {
   "cell_type": "markdown",
   "metadata": {},
   "source": [
    "### Offtop: попробуем визуализировать всех пассажиров: есть ли там кластеры?\n",
    "### PCA + clustering"
   ]
  },
  {
   "cell_type": "code",
   "execution_count": 35,
   "metadata": {
    "collapsed": true
   },
   "outputs": [],
   "source": [
    "from sklearn.decomposition import PCA"
   ]
  },
  {
   "cell_type": "code",
   "execution_count": 36,
   "metadata": {
    "collapsed": true
   },
   "outputs": [],
   "source": [
    "pca = PCA(n_components=2)"
   ]
  },
  {
   "cell_type": "code",
   "execution_count": 37,
   "metadata": {
    "collapsed": true
   },
   "outputs": [],
   "source": [
    "ppl = pca.fit_transform(X_train_imputed_scaled)"
   ]
  },
  {
   "cell_type": "markdown",
   "metadata": {},
   "source": [
    "всего 2 фичи объясняют 41% всего разнообразия пассажиров:"
   ]
  },
  {
   "cell_type": "code",
   "execution_count": 38,
   "metadata": {},
   "outputs": [
    {
     "data": {
      "text/plain": [
       "0.41017554160207309"
      ]
     },
     "execution_count": 38,
     "metadata": {},
     "output_type": "execute_result"
    }
   ],
   "source": [
    "pca.explained_variance_ratio_.sum()"
   ]
  },
  {
   "cell_type": "markdown",
   "metadata": {},
   "source": [
    "классно, видно 6 кластеров пассажиров: внутри кластера они похожи друг на друга, межу кластерами - нет:"
   ]
  },
  {
   "cell_type": "code",
   "execution_count": 39,
   "metadata": {},
   "outputs": [
    {
     "data": {
      "text/plain": [
       "Text(0.5,1,'Пассажиры Титаника')"
      ]
     },
     "execution_count": 39,
     "metadata": {},
     "output_type": "execute_result"
    },
    {
     "data": {
      "image/png": "[encoded data removed]",
      "text/plain": [
       "<matplotlib.figure.Figure at 0x1e411b9b400>"
      ]
     },
     "metadata": {
      "image/png": {
       "height": 372,
       "width": 540
      }
     },
     "output_type": "display_data"
    }
   ],
   "source": [
    "plt.plot(ppl[:,0], ppl[:,1], 'ro', alpha=0.1)\n",
    "plt.title('Пассажиры Титаника')"
   ]
  },
  {
   "cell_type": "markdown",
   "metadata": {},
   "source": [
    "можно попробовать кластеризовать по 7 кластерам и проверить, что получится:"
   ]
  },
  {
   "cell_type": "code",
   "execution_count": 40,
   "metadata": {
    "collapsed": true
   },
   "outputs": [],
   "source": [
    "from sklearn.cluster import KMeans"
   ]
  },
  {
   "cell_type": "code",
   "execution_count": 41,
   "metadata": {
    "collapsed": true
   },
   "outputs": [],
   "source": [
    "n_clusters = 7"
   ]
  },
  {
   "cell_type": "code",
   "execution_count": 42,
   "metadata": {
    "collapsed": true
   },
   "outputs": [],
   "source": [
    "kmeans = KMeans(n_clusters=n_clusters)"
   ]
  },
  {
   "cell_type": "code",
   "execution_count": 43,
   "metadata": {},
   "outputs": [
    {
     "data": {
      "text/plain": [
       "KMeans(algorithm='auto', copy_x=True, init='k-means++', max_iter=300,\n",
       "    n_clusters=7, n_init=10, n_jobs=1, precompute_distances='auto',\n",
       "    random_state=None, tol=0.0001, verbose=0)"
      ]
     },
     "execution_count": 43,
     "metadata": {},
     "output_type": "execute_result"
    }
   ],
   "source": [
    "kmeans.fit(X_train_imputed_scaled)"
   ]
  },
  {
   "cell_type": "code",
   "execution_count": 44,
   "metadata": {
    "collapsed": true
   },
   "outputs": [],
   "source": [
    "cluster_labels = kmeans.predict(X_train_imputed_scaled)"
   ]
  },
  {
   "cell_type": "code",
   "execution_count": 45,
   "metadata": {},
   "outputs": [
    {
     "data": {
      "image/png": "[encoded data removed]",
      "text/plain": [
       "<matplotlib.figure.Figure at 0x1e4128e0c88>"
      ]
     },
     "metadata": {
      "image/png": {
       "height": 372,
       "width": 540
      }
     },
     "output_type": "display_data"
    }
   ],
   "source": [
    "plt.title('Пассажиры Титаника')\n",
    "for i,color in zip(range(n_clusters),{'blue','red','green','black','orange','yellow'}):\n",
    "    t = ppl[cluster_labels==i]\n",
    "    plt.plot(t[:,0], t[:,1], 'ro', alpha=0.1, c=color)"
   ]
  },
  {
   "cell_type": "markdown",
   "metadata": {},
   "source": [
    "эти номера кластеров можно было бы подать как ещё одна фича"
   ]
  },
  {
   "cell_type": "markdown",
   "metadata": {},
   "source": [
    "### Разделение на обучающую и тестирующую выборки"
   ]
  },
  {
   "cell_type": "code",
   "execution_count": 46,
   "metadata": {
    "collapsed": true
   },
   "outputs": [],
   "source": [
    "from sklearn.model_selection import train_test_split"
   ]
  },
  {
   "cell_type": "code",
   "execution_count": 47,
   "metadata": {
    "collapsed": true
   },
   "outputs": [],
   "source": [
    "X_train_fin, X_val, y_train_fin, y_val = train_test_split(X_train_imputed_scaled, y_train, test_size=0.2)"
   ]
  },
  {
   "cell_type": "code",
   "execution_count": 48,
   "metadata": {},
   "outputs": [
    {
     "data": {
      "text/plain": [
       "(712, 11)"
      ]
     },
     "execution_count": 48,
     "metadata": {},
     "output_type": "execute_result"
    }
   ],
   "source": [
    "X_train_fin.shape"
   ]
  },
  {
   "cell_type": "code",
   "execution_count": 49,
   "metadata": {
    "scrolled": true
   },
   "outputs": [
    {
     "data": {
      "text/plain": [
       "(179, 11)"
      ]
     },
     "execution_count": 49,
     "metadata": {},
     "output_type": "execute_result"
    }
   ],
   "source": [
    "X_val.shape"
   ]
  },
  {
   "cell_type": "code",
   "execution_count": 50,
   "metadata": {},
   "outputs": [
    {
     "data": {
      "text/plain": [
       "(418, 11)"
      ]
     },
     "execution_count": 50,
     "metadata": {},
     "output_type": "execute_result"
    }
   ],
   "source": [
    "X_test_imputed_scaled.shape"
   ]
  },
  {
   "cell_type": "code",
   "execution_count": 51,
   "metadata": {},
   "outputs": [
    {
     "data": {
      "text/plain": [
       "(712,)"
      ]
     },
     "execution_count": 51,
     "metadata": {},
     "output_type": "execute_result"
    }
   ],
   "source": [
    "y_train_fin.shape"
   ]
  },
  {
   "cell_type": "code",
   "execution_count": 52,
   "metadata": {},
   "outputs": [
    {
     "data": {
      "text/plain": [
       "(179,)"
      ]
     },
     "execution_count": 52,
     "metadata": {},
     "output_type": "execute_result"
    }
   ],
   "source": [
    "y_val.shape"
   ]
  },
  {
   "cell_type": "markdown",
   "metadata": {},
   "source": [
    "### Обучение с кросс-валидацией"
   ]
  },
  {
   "cell_type": "markdown",
   "metadata": {},
   "source": [
    "кросс-валидация поможет нам подобрать лучший параметр регуляризации"
   ]
  },
  {
   "cell_type": "code",
   "execution_count": 53,
   "metadata": {
    "collapsed": true
   },
   "outputs": [],
   "source": [
    "from sklearn.model_selection import GridSearchCV\n",
    "from sklearn.tree import DecisionTreeClassifier"
   ]
  },
  {
   "cell_type": "code",
   "execution_count": 54,
   "metadata": {
    "collapsed": true,
    "scrolled": true
   },
   "outputs": [],
   "source": [
    "depths = np.arange(1,10)\n",
    "features_num = np.arange(5,11)\n",
    "leaf_count = np.arange(5, 10)\n",
    "grid = {'max_depth': depths, 'max_features': features_num, 'min_samples_leaf': leaf_count}\n",
    "gridsearch = GridSearchCV(DecisionTreeClassifier(), grid, scoring='neg_log_loss', cv=5)"
   ]
  },
  {
   "cell_type": "code",
   "execution_count": 55,
   "metadata": {},
   "outputs": [
    {
     "name": "stdout",
     "output_type": "stream",
     "text": [
      "Wall time: 8.01 s\n"
     ]
    },
    {
     "data": {
      "text/plain": [
       "GridSearchCV(cv=5, error_score='raise',\n",
       "       estimator=DecisionTreeClassifier(class_weight=None, criterion='gini', max_depth=None,\n",
       "            max_features=None, max_leaf_nodes=None,\n",
       "            min_impurity_decrease=0.0, min_impurity_split=None,\n",
       "            min_samples_leaf=1, min_samples_split=2,\n",
       "            min_weight_fraction_leaf=0.0, presort=False, random_state=None,\n",
       "            splitter='best'),\n",
       "       fit_params=None, iid=True, n_jobs=1,\n",
       "       param_grid={'max_depth': array([1, 2, 3, 4, 5, 6, 7, 8, 9]), 'max_features': array([ 5,  6,  7,  8,  9, 10]), 'min_samples_leaf': array([5, 6, 7, 8, 9])},\n",
       "       pre_dispatch='2*n_jobs', refit=True, return_train_score='warn',\n",
       "       scoring='neg_log_loss', verbose=0)"
      ]
     },
     "execution_count": 55,
     "metadata": {},
     "output_type": "execute_result"
    }
   ],
   "source": [
    "%%time\n",
    "gridsearch.fit(X_train_fin, y_train_fin)"
   ]
  },
  {
   "cell_type": "code",
   "execution_count": 56,
   "metadata": {},
   "outputs": [
    {
     "name": "stderr",
     "output_type": "stream",
     "text": [
      "C:\\Users\\alexe\\Anaconda3\\lib\\site-packages\\sklearn\\model_selection\\_search.py:761: DeprecationWarning: The grid_scores_ attribute was deprecated in version 0.18 in favor of the more elaborate cv_results_ attribute. The grid_scores_ attribute will not be available from 0.20\n",
      "  DeprecationWarning)\n"
     ]
    },
    {
     "data": {
      "text/plain": [
       "[mean: -0.45377, std: 0.05954, params: {'max_depth': 3, 'max_features': 5, 'min_samples_leaf': 8},\n",
       " mean: -0.45700, std: 0.05141, params: {'max_depth': 2, 'max_features': 5, 'min_samples_leaf': 9},\n",
       " mean: -0.45712, std: 0.04242, params: {'max_depth': 2, 'max_features': 10, 'min_samples_leaf': 5},\n",
       " mean: -0.45852, std: 0.03960, params: {'max_depth': 3, 'max_features': 6, 'min_samples_leaf': 8},\n",
       " mean: -0.46036, std: 0.03887, params: {'max_depth': 2, 'max_features': 8, 'min_samples_leaf': 5},\n",
       " mean: -0.46134, std: 0.03941, params: {'max_depth': 2, 'max_features': 10, 'min_samples_leaf': 7},\n",
       " mean: -0.46134, std: 0.03941, params: {'max_depth': 2, 'max_features': 10, 'min_samples_leaf': 8},\n",
       " mean: -0.46146, std: 0.03917, params: {'max_depth': 2, 'max_features': 7, 'min_samples_leaf': 5},\n",
       " mean: -0.46502, std: 0.03957, params: {'max_depth': 2, 'max_features': 9, 'min_samples_leaf': 6},\n",
       " mean: -0.46665, std: 0.04619, params: {'max_depth': 2, 'max_features': 10, 'min_samples_leaf': 6},\n",
       " mean: -0.46821, std: 0.03484, params: {'max_depth': 2, 'max_features': 7, 'min_samples_leaf': 6},\n",
       " mean: -0.46940, std: 0.05284, params: {'max_depth': 2, 'max_features': 9, 'min_samples_leaf': 5},\n",
       " mean: -0.47096, std: 0.04236, params: {'max_depth': 2, 'max_features': 9, 'min_samples_leaf': 8},\n",
       " mean: -0.47204, std: 0.03980, params: {'max_depth': 2, 'max_features': 7, 'min_samples_leaf': 9},\n",
       " mean: -0.47222, std: 0.04205, params: {'max_depth': 2, 'max_features': 7, 'min_samples_leaf': 8},\n",
       " mean: -0.47273, std: 0.04010, params: {'max_depth': 2, 'max_features': 9, 'min_samples_leaf': 7},\n",
       " mean: -0.47328, std: 0.12221, params: {'max_depth': 4, 'max_features': 5, 'min_samples_leaf': 8},\n",
       " mean: -0.47343, std: 0.03527, params: {'max_depth': 2, 'max_features': 8, 'min_samples_leaf': 7},\n",
       " mean: -0.47849, std: 0.03884, params: {'max_depth': 2, 'max_features': 9, 'min_samples_leaf': 9},\n",
       " mean: -0.47907, std: 0.03973, params: {'max_depth': 2, 'max_features': 10, 'min_samples_leaf': 9},\n",
       " mean: -0.48041, std: 0.11358, params: {'max_depth': 3, 'max_features': 8, 'min_samples_leaf': 7},\n",
       " mean: -0.48075, std: 0.06684, params: {'max_depth': 2, 'max_features': 6, 'min_samples_leaf': 8},\n",
       " mean: -0.48365, std: 0.05290, params: {'max_depth': 2, 'max_features': 8, 'min_samples_leaf': 9},\n",
       " mean: -0.48688, std: 0.06058, params: {'max_depth': 2, 'max_features': 8, 'min_samples_leaf': 8},\n",
       " mean: -0.49509, std: 0.04831, params: {'max_depth': 2, 'max_features': 5, 'min_samples_leaf': 8},\n",
       " mean: -0.49509, std: 0.10602, params: {'max_depth': 3, 'max_features': 7, 'min_samples_leaf': 6},\n",
       " mean: -0.50019, std: 0.05236, params: {'max_depth': 2, 'max_features': 8, 'min_samples_leaf': 6},\n",
       " mean: -0.50814, std: 0.07424, params: {'max_depth': 2, 'max_features': 6, 'min_samples_leaf': 9},\n",
       " mean: -0.51384, std: 0.03733, params: {'max_depth': 1, 'max_features': 5, 'min_samples_leaf': 9},\n",
       " mean: -0.51384, std: 0.03733, params: {'max_depth': 1, 'max_features': 8, 'min_samples_leaf': 7},\n",
       " mean: -0.51384, std: 0.03733, params: {'max_depth': 1, 'max_features': 8, 'min_samples_leaf': 9},\n",
       " mean: -0.51384, std: 0.03733, params: {'max_depth': 1, 'max_features': 9, 'min_samples_leaf': 5},\n",
       " mean: -0.51384, std: 0.03733, params: {'max_depth': 1, 'max_features': 9, 'min_samples_leaf': 6},\n",
       " mean: -0.51384, std: 0.03733, params: {'max_depth': 1, 'max_features': 9, 'min_samples_leaf': 8},\n",
       " mean: -0.51384, std: 0.03733, params: {'max_depth': 1, 'max_features': 10, 'min_samples_leaf': 5},\n",
       " mean: -0.51384, std: 0.03733, params: {'max_depth': 1, 'max_features': 10, 'min_samples_leaf': 7},\n",
       " mean: -0.51384, std: 0.03733, params: {'max_depth': 1, 'max_features': 10, 'min_samples_leaf': 8},\n",
       " mean: -0.51465, std: 0.19997, params: {'max_depth': 3, 'max_features': 6, 'min_samples_leaf': 5},\n",
       " mean: -0.52152, std: 0.05127, params: {'max_depth': 1, 'max_features': 9, 'min_samples_leaf': 9},\n",
       " mean: -0.52165, std: 0.09146, params: {'max_depth': 2, 'max_features': 6, 'min_samples_leaf': 6},\n",
       " mean: -0.52196, std: 0.06756, params: {'max_depth': 2, 'max_features': 5, 'min_samples_leaf': 5},\n",
       " mean: -0.52226, std: 0.13415, params: {'max_depth': 3, 'max_features': 6, 'min_samples_leaf': 7},\n",
       " mean: -0.52302, std: 0.20073, params: {'max_depth': 3, 'max_features': 10, 'min_samples_leaf': 9},\n",
       " mean: -0.52685, std: 0.10625, params: {'max_depth': 2, 'max_features': 7, 'min_samples_leaf': 7},\n",
       " mean: -0.53018, std: 0.15376, params: {'max_depth': 3, 'max_features': 8, 'min_samples_leaf': 9},\n",
       " mean: -0.53462, std: 0.15716, params: {'max_depth': 3, 'max_features': 7, 'min_samples_leaf': 8},\n",
       " mean: -0.53521, std: 0.05861, params: {'max_depth': 1, 'max_features': 9, 'min_samples_leaf': 7},\n",
       " mean: -0.53682, std: 0.07707, params: {'max_depth': 2, 'max_features': 5, 'min_samples_leaf': 6},\n",
       " mean: -0.54289, std: 0.06591, params: {'max_depth': 1, 'max_features': 7, 'min_samples_leaf': 7},\n",
       " mean: -0.54330, std: 0.06175, params: {'max_depth': 2, 'max_features': 6, 'min_samples_leaf': 7},\n",
       " mean: -0.54337, std: 0.08967, params: {'max_depth': 3, 'max_features': 6, 'min_samples_leaf': 6},\n",
       " mean: -0.54368, std: 0.05122, params: {'max_depth': 1, 'max_features': 7, 'min_samples_leaf': 5},\n",
       " mean: -0.54368, std: 0.05122, params: {'max_depth': 1, 'max_features': 7, 'min_samples_leaf': 6},\n",
       " mean: -0.54368, std: 0.05122, params: {'max_depth': 1, 'max_features': 10, 'min_samples_leaf': 6},\n",
       " mean: -0.54538, std: 0.05440, params: {'max_depth': 1, 'max_features': 5, 'min_samples_leaf': 8},\n",
       " mean: -0.54538, std: 0.05440, params: {'max_depth': 1, 'max_features': 6, 'min_samples_leaf': 8},\n",
       " mean: -0.54691, std: 0.10629, params: {'max_depth': 2, 'max_features': 6, 'min_samples_leaf': 5},\n",
       " mean: -0.55002, std: 0.18579, params: {'max_depth': 3, 'max_features': 5, 'min_samples_leaf': 6},\n",
       " mean: -0.55456, std: 0.20948, params: {'max_depth': 3, 'max_features': 7, 'min_samples_leaf': 5},\n",
       " mean: -0.55624, std: 0.13816, params: {'max_depth': 3, 'max_features': 8, 'min_samples_leaf': 8},\n",
       " mean: -0.55881, std: 0.05640, params: {'max_depth': 1, 'max_features': 8, 'min_samples_leaf': 5},\n",
       " mean: -0.56080, std: 0.08167, params: {'max_depth': 2, 'max_features': 5, 'min_samples_leaf': 7},\n",
       " mean: -0.56120, std: 0.06853, params: {'max_depth': 1, 'max_features': 5, 'min_samples_leaf': 7},\n",
       " mean: -0.56172, std: 0.18745, params: {'max_depth': 3, 'max_features': 6, 'min_samples_leaf': 9},\n",
       " mean: -0.56450, std: 0.05650, params: {'max_depth': 1, 'max_features': 8, 'min_samples_leaf': 8},\n",
       " mean: -0.56559, std: 0.13516, params: {'max_depth': 3, 'max_features': 9, 'min_samples_leaf': 6},\n",
       " mean: -0.56629, std: 0.19730, params: {'max_depth': 5, 'max_features': 5, 'min_samples_leaf': 7},\n",
       " mean: -0.56755, std: 0.04344, params: {'max_depth': 1, 'max_features': 7, 'min_samples_leaf': 9},\n",
       " mean: -0.56811, std: 0.06182, params: {'max_depth': 1, 'max_features': 6, 'min_samples_leaf': 5},\n",
       " mean: -0.56854, std: 0.06088, params: {'max_depth': 1, 'max_features': 8, 'min_samples_leaf': 6},\n",
       " mean: -0.57235, std: 0.18175, params: {'max_depth': 4, 'max_features': 9, 'min_samples_leaf': 7},\n",
       " mean: -0.57273, std: 0.06198, params: {'max_depth': 1, 'max_features': 7, 'min_samples_leaf': 8},\n",
       " mean: -0.57277, std: 0.06165, params: {'max_depth': 3, 'max_features': 5, 'min_samples_leaf': 7},\n",
       " mean: -0.57366, std: 0.22022, params: {'max_depth': 4, 'max_features': 8, 'min_samples_leaf': 9},\n",
       " mean: -0.58231, std: 0.05824, params: {'max_depth': 1, 'max_features': 6, 'min_samples_leaf': 7},\n",
       " mean: -0.58443, std: 0.17990, params: {'max_depth': 3, 'max_features': 5, 'min_samples_leaf': 5},\n",
       " mean: -0.58480, std: 0.18625, params: {'max_depth': 5, 'max_features': 5, 'min_samples_leaf': 9},\n",
       " mean: -0.58675, std: 0.03782, params: {'max_depth': 1, 'max_features': 10, 'min_samples_leaf': 9},\n",
       " mean: -0.58769, std: 0.21885, params: {'max_depth': 4, 'max_features': 6, 'min_samples_leaf': 7},\n",
       " mean: -0.59420, std: 0.08054, params: {'max_depth': 1, 'max_features': 6, 'min_samples_leaf': 9},\n",
       " mean: -0.59653, std: 0.26263, params: {'max_depth': 4, 'max_features': 9, 'min_samples_leaf': 9},\n",
       " mean: -0.60263, std: 0.06208, params: {'max_depth': 1, 'max_features': 6, 'min_samples_leaf': 6},\n",
       " mean: -0.60271, std: 0.16378, params: {'max_depth': 3, 'max_features': 5, 'min_samples_leaf': 9},\n",
       " mean: -0.60345, std: 0.21342, params: {'max_depth': 4, 'max_features': 10, 'min_samples_leaf': 9},\n",
       " mean: -0.60563, std: 0.21329, params: {'max_depth': 4, 'max_features': 7, 'min_samples_leaf': 9},\n",
       " mean: -0.60612, std: 0.20760, params: {'max_depth': 3, 'max_features': 9, 'min_samples_leaf': 5},\n",
       " mean: -0.60947, std: 0.13836, params: {'max_depth': 4, 'max_features': 5, 'min_samples_leaf': 5},\n",
       " mean: -0.61005, std: 0.21950, params: {'max_depth': 3, 'max_features': 7, 'min_samples_leaf': 9},\n",
       " mean: -0.61066, std: 0.02479, params: {'max_depth': 1, 'max_features': 5, 'min_samples_leaf': 6},\n",
       " mean: -0.61071, std: 0.21157, params: {'max_depth': 3, 'max_features': 9, 'min_samples_leaf': 8},\n",
       " mean: -0.61234, std: 0.21555, params: {'max_depth': 3, 'max_features': 9, 'min_samples_leaf': 9},\n",
       " mean: -0.61703, std: 0.37376, params: {'max_depth': 3, 'max_features': 8, 'min_samples_leaf': 5},\n",
       " mean: -0.61812, std: 0.01322, params: {'max_depth': 1, 'max_features': 5, 'min_samples_leaf': 5},\n",
       " mean: -0.62550, std: 0.21972, params: {'max_depth': 4, 'max_features': 5, 'min_samples_leaf': 7},\n",
       " mean: -0.63272, std: 0.19087, params: {'max_depth': 4, 'max_features': 8, 'min_samples_leaf': 6},\n",
       " mean: -0.63637, std: 0.21480, params: {'max_depth': 4, 'max_features': 7, 'min_samples_leaf': 5},\n",
       " mean: -0.63728, std: 0.36605, params: {'max_depth': 3, 'max_features': 7, 'min_samples_leaf': 7},\n",
       " mean: -0.65127, std: 0.22694, params: {'max_depth': 4, 'max_features': 8, 'min_samples_leaf': 7},\n",
       " mean: -0.65572, std: 0.25096, params: {'max_depth': 4, 'max_features': 7, 'min_samples_leaf': 8},\n",
       " mean: -0.65760, std: 0.21067, params: {'max_depth': 4, 'max_features': 6, 'min_samples_leaf': 9},\n",
       " mean: -0.67094, std: 0.28390, params: {'max_depth': 4, 'max_features': 6, 'min_samples_leaf': 8},\n",
       " mean: -0.67159, std: 0.28715, params: {'max_depth': 3, 'max_features': 9, 'min_samples_leaf': 7},\n",
       " mean: -0.67547, std: 0.17565, params: {'max_depth': 3, 'max_features': 8, 'min_samples_leaf': 6},\n",
       " mean: -0.67723, std: 0.34890, params: {'max_depth': 4, 'max_features': 8, 'min_samples_leaf': 8},\n",
       " mean: -0.68286, std: 0.25277, params: {'max_depth': 5, 'max_features': 7, 'min_samples_leaf': 6},\n",
       " mean: -0.68441, std: 0.37675, params: {'max_depth': 4, 'max_features': 6, 'min_samples_leaf': 6},\n",
       " mean: -0.68609, std: 0.23836, params: {'max_depth': 4, 'max_features': 6, 'min_samples_leaf': 5},\n",
       " mean: -0.69287, std: 0.23947, params: {'max_depth': 5, 'max_features': 7, 'min_samples_leaf': 8},\n",
       " mean: -0.69489, std: 0.21677, params: {'max_depth': 4, 'max_features': 5, 'min_samples_leaf': 9},\n",
       " mean: -0.69671, std: 0.23201, params: {'max_depth': 4, 'max_features': 5, 'min_samples_leaf': 6},\n",
       " mean: -0.70158, std: 0.36450, params: {'max_depth': 3, 'max_features': 10, 'min_samples_leaf': 8},\n",
       " mean: -0.70839, std: 0.21257, params: {'max_depth': 5, 'max_features': 6, 'min_samples_leaf': 6},\n",
       " mean: -0.70873, std: 0.36113, params: {'max_depth': 3, 'max_features': 10, 'min_samples_leaf': 7},\n",
       " mean: -0.73546, std: 0.34670, params: {'max_depth': 4, 'max_features': 9, 'min_samples_leaf': 6},\n",
       " mean: -0.73802, std: 0.33836, params: {'max_depth': 4, 'max_features': 10, 'min_samples_leaf': 8},\n",
       " mean: -0.74026, std: 0.28842, params: {'max_depth': 4, 'max_features': 9, 'min_samples_leaf': 8},\n",
       " mean: -0.74605, std: 0.26286, params: {'max_depth': 5, 'max_features': 5, 'min_samples_leaf': 8},\n",
       " mean: -0.75232, std: 0.33410, params: {'max_depth': 3, 'max_features': 10, 'min_samples_leaf': 5},\n",
       " mean: -0.77711, std: 0.21324, params: {'max_depth': 4, 'max_features': 7, 'min_samples_leaf': 6},\n",
       " mean: -0.77975, std: 0.38064, params: {'max_depth': 6, 'max_features': 8, 'min_samples_leaf': 9},\n",
       " mean: -0.78595, std: 0.31518, params: {'max_depth': 4, 'max_features': 7, 'min_samples_leaf': 7},\n",
       " mean: -0.78675, std: 0.35023, params: {'max_depth': 4, 'max_features': 10, 'min_samples_leaf': 7},\n",
       " mean: -0.79563, std: 0.32515, params: {'max_depth': 3, 'max_features': 10, 'min_samples_leaf': 6},\n",
       " mean: -0.82642, std: 0.46697, params: {'max_depth': 5, 'max_features': 6, 'min_samples_leaf': 7},\n",
       " mean: -0.82693, std: 0.23670, params: {'max_depth': 5, 'max_features': 10, 'min_samples_leaf': 9},\n",
       " mean: -0.82819, std: 0.29689, params: {'max_depth': 4, 'max_features': 10, 'min_samples_leaf': 5},\n",
       " mean: -0.82993, std: 0.30394, params: {'max_depth': 5, 'max_features': 9, 'min_samples_leaf': 9},\n",
       " mean: -0.83784, std: 0.34342, params: {'max_depth': 6, 'max_features': 5, 'min_samples_leaf': 5},\n",
       " mean: -0.85935, std: 0.30690, params: {'max_depth': 7, 'max_features': 6, 'min_samples_leaf': 9},\n",
       " mean: -0.87512, std: 0.26217, params: {'max_depth': 5, 'max_features': 8, 'min_samples_leaf': 8},\n",
       " mean: -0.87948, std: 0.34230, params: {'max_depth': 6, 'max_features': 5, 'min_samples_leaf': 8},\n",
       " mean: -0.88027, std: 0.29296, params: {'max_depth': 5, 'max_features': 6, 'min_samples_leaf': 8},\n",
       " mean: -0.88390, std: 0.25927, params: {'max_depth': 5, 'max_features': 5, 'min_samples_leaf': 5},\n",
       " mean: -0.89530, std: 0.21850, params: {'max_depth': 6, 'max_features': 6, 'min_samples_leaf': 6},\n",
       " mean: -0.89603, std: 0.46272, params: {'max_depth': 5, 'max_features': 5, 'min_samples_leaf': 6},\n",
       " mean: -0.90589, std: 0.32838, params: {'max_depth': 6, 'max_features': 5, 'min_samples_leaf': 7},\n",
       " mean: -0.91603, std: 0.46340, params: {'max_depth': 5, 'max_features': 8, 'min_samples_leaf': 7},\n",
       " mean: -0.92193, std: 0.33149, params: {'max_depth': 5, 'max_features': 7, 'min_samples_leaf': 9},\n",
       " mean: -0.92259, std: 0.29573, params: {'max_depth': 4, 'max_features': 10, 'min_samples_leaf': 6},\n",
       " mean: -0.93879, std: 0.35395, params: {'max_depth': 7, 'max_features': 5, 'min_samples_leaf': 9},\n",
       " mean: -0.93973, std: 0.45417, params: {'max_depth': 5, 'max_features': 8, 'min_samples_leaf': 9},\n",
       " mean: -0.94692, std: 0.33859, params: {'max_depth': 4, 'max_features': 9, 'min_samples_leaf': 5},\n",
       " mean: -0.95484, std: 0.24418, params: {'max_depth': 4, 'max_features': 8, 'min_samples_leaf': 5},\n",
       " mean: -0.96153, std: 0.34519, params: {'max_depth': 5, 'max_features': 7, 'min_samples_leaf': 5},\n",
       " mean: -0.97998, std: 0.50031, params: {'max_depth': 6, 'max_features': 6, 'min_samples_leaf': 9},\n",
       " mean: -0.99678, std: 0.29588, params: {'max_depth': 5, 'max_features': 6, 'min_samples_leaf': 9},\n",
       " mean: -0.99705, std: 0.39484, params: {'max_depth': 6, 'max_features': 9, 'min_samples_leaf': 9},\n",
       " mean: -1.00013, std: 0.36810, params: {'max_depth': 7, 'max_features': 6, 'min_samples_leaf': 8},\n",
       " mean: -1.00035, std: 0.57971, params: {'max_depth': 5, 'max_features': 9, 'min_samples_leaf': 5},\n",
       " mean: -1.00083, std: 0.49874, params: {'max_depth': 5, 'max_features': 10, 'min_samples_leaf': 6},\n",
       " mean: -1.02807, std: 0.47957, params: {'max_depth': 8, 'max_features': 7, 'min_samples_leaf': 9},\n",
       " mean: -1.05485, std: 0.23746, params: {'max_depth': 6, 'max_features': 10, 'min_samples_leaf': 9},\n",
       " mean: -1.06944, std: 0.28736, params: {'max_depth': 7, 'max_features': 5, 'min_samples_leaf': 8},\n",
       " mean: -1.08383, std: 0.57262, params: {'max_depth': 9, 'max_features': 6, 'min_samples_leaf': 9},\n",
       " mean: -1.09093, std: 0.13065, params: {'max_depth': 6, 'max_features': 6, 'min_samples_leaf': 5},\n",
       " mean: -1.10011, std: 0.50658, params: {'max_depth': 6, 'max_features': 6, 'min_samples_leaf': 7},\n",
       " mean: -1.10313, std: 0.36830, params: {'max_depth': 5, 'max_features': 10, 'min_samples_leaf': 8},\n",
       " mean: -1.11641, std: 0.44375, params: {'max_depth': 6, 'max_features': 7, 'min_samples_leaf': 8},\n",
       " mean: -1.12964, std: 0.35004, params: {'max_depth': 5, 'max_features': 8, 'min_samples_leaf': 6},\n",
       " mean: -1.13273, std: 0.47328, params: {'max_depth': 7, 'max_features': 8, 'min_samples_leaf': 9},\n",
       " mean: -1.13715, std: 0.52488, params: {'max_depth': 6, 'max_features': 7, 'min_samples_leaf': 6},\n",
       " mean: -1.14416, std: 0.39522, params: {'max_depth': 5, 'max_features': 9, 'min_samples_leaf': 7},\n",
       " mean: -1.14483, std: 0.37531, params: {'max_depth': 5, 'max_features': 8, 'min_samples_leaf': 5},\n",
       " mean: -1.14705, std: 0.52260, params: {'max_depth': 6, 'max_features': 6, 'min_samples_leaf': 8},\n",
       " mean: -1.14962, std: 0.32767, params: {'max_depth': 5, 'max_features': 6, 'min_samples_leaf': 5},\n",
       " mean: -1.15306, std: 0.51573, params: {'max_depth': 6, 'max_features': 5, 'min_samples_leaf': 6},\n",
       " mean: -1.15693, std: 0.57101, params: {'max_depth': 5, 'max_features': 9, 'min_samples_leaf': 6},\n",
       " mean: -1.16210, std: 0.43035, params: {'max_depth': 6, 'max_features': 7, 'min_samples_leaf': 9},\n",
       " mean: -1.16811, std: 0.57899, params: {'max_depth': 8, 'max_features': 5, 'min_samples_leaf': 9},\n",
       " mean: -1.17366, std: 0.45909, params: {'max_depth': 5, 'max_features': 10, 'min_samples_leaf': 5},\n",
       " mean: -1.17880, std: 0.24658, params: {'max_depth': 7, 'max_features': 7, 'min_samples_leaf': 6},\n",
       " mean: -1.18094, std: 0.54643, params: {'max_depth': 6, 'max_features': 8, 'min_samples_leaf': 8},\n",
       " mean: -1.18501, std: 0.31557, params: {'max_depth': 8, 'max_features': 6, 'min_samples_leaf': 9},\n",
       " mean: -1.19432, std: 0.28481, params: {'max_depth': 7, 'max_features': 5, 'min_samples_leaf': 5},\n",
       " mean: -1.23339, std: 0.54250, params: {'max_depth': 5, 'max_features': 9, 'min_samples_leaf': 8},\n",
       " mean: -1.23410, std: 0.25578, params: {'max_depth': 6, 'max_features': 5, 'min_samples_leaf': 9},\n",
       " mean: -1.24600, std: 0.38291, params: {'max_depth': 7, 'max_features': 6, 'min_samples_leaf': 6},\n",
       " mean: -1.27511, std: 0.28099, params: {'max_depth': 5, 'max_features': 7, 'min_samples_leaf': 7},\n",
       " mean: -1.28102, std: 0.60483, params: {'max_depth': 9, 'max_features': 7, 'min_samples_leaf': 9},\n",
       " mean: -1.28275, std: 0.25511, params: {'max_depth': 7, 'max_features': 7, 'min_samples_leaf': 9},\n",
       " mean: -1.28568, std: 0.67694, params: {'max_depth': 8, 'max_features': 5, 'min_samples_leaf': 7},\n",
       " mean: -1.30586, std: 0.60900, params: {'max_depth': 6, 'max_features': 9, 'min_samples_leaf': 6},\n",
       " mean: -1.30891, std: 0.29157, params: {'max_depth': 8, 'max_features': 8, 'min_samples_leaf': 9},\n",
       " mean: -1.31303, std: 0.36612, params: {'max_depth': 6, 'max_features': 10, 'min_samples_leaf': 5},\n",
       " mean: -1.34064, std: 0.41293, params: {'max_depth': 9, 'max_features': 8, 'min_samples_leaf': 9},\n",
       " mean: -1.34282, std: 0.34856, params: {'max_depth': 7, 'max_features': 7, 'min_samples_leaf': 8},\n",
       " mean: -1.34327, std: 0.32238, params: {'max_depth': 6, 'max_features': 8, 'min_samples_leaf': 6},\n",
       " mean: -1.35166, std: 0.54742, params: {'max_depth': 6, 'max_features': 9, 'min_samples_leaf': 7},\n",
       " mean: -1.35789, std: 0.52443, params: {'max_depth': 6, 'max_features': 7, 'min_samples_leaf': 5},\n",
       " mean: -1.36226, std: 0.36229, params: {'max_depth': 9, 'max_features': 9, 'min_samples_leaf': 9},\n",
       " mean: -1.36592, std: 0.33022, params: {'max_depth': 7, 'max_features': 5, 'min_samples_leaf': 7},\n",
       " mean: -1.36671, std: 0.47171, params: {'max_depth': 9, 'max_features': 9, 'min_samples_leaf': 8},\n",
       " mean: -1.36834, std: 0.38452, params: {'max_depth': 7, 'max_features': 9, 'min_samples_leaf': 9},\n",
       " mean: -1.36856, std: 0.55944, params: {'max_depth': 8, 'max_features': 6, 'min_samples_leaf': 8},\n",
       " mean: -1.36870, std: 0.36315, params: {'max_depth': 5, 'max_features': 10, 'min_samples_leaf': 7},\n",
       " mean: -1.37092, std: 0.57620, params: {'max_depth': 6, 'max_features': 10, 'min_samples_leaf': 7},\n",
       " mean: -1.37733, std: 0.59616, params: {'max_depth': 6, 'max_features': 9, 'min_samples_leaf': 8},\n",
       " mean: -1.38715, std: 0.55747, params: {'max_depth': 9, 'max_features': 5, 'min_samples_leaf': 9},\n",
       " mean: -1.39308, std: 0.44535, params: {'max_depth': 7, 'max_features': 8, 'min_samples_leaf': 8},\n",
       " mean: -1.40761, std: 0.55723, params: {'max_depth': 9, 'max_features': 10, 'min_samples_leaf': 9},\n",
       " mean: -1.41215, std: 0.76420, params: {'max_depth': 9, 'max_features': 5, 'min_samples_leaf': 8},\n",
       " mean: -1.41290, std: 0.50971, params: {'max_depth': 7, 'max_features': 10, 'min_samples_leaf': 9},\n",
       " mean: -1.41395, std: 0.29000, params: {'max_depth': 7, 'max_features': 8, 'min_samples_leaf': 6},\n",
       " mean: -1.41423, std: 0.60943, params: {'max_depth': 8, 'max_features': 10, 'min_samples_leaf': 9},\n",
       " mean: -1.41944, std: 0.55676, params: {'max_depth': 8, 'max_features': 9, 'min_samples_leaf': 9},\n",
       " mean: -1.45348, std: 0.55740, params: {'max_depth': 7, 'max_features': 5, 'min_samples_leaf': 6},\n",
       " mean: -1.45534, std: 0.77533, params: {'max_depth': 8, 'max_features': 9, 'min_samples_leaf': 8},\n",
       " mean: -1.45829, std: 0.54158, params: {'max_depth': 7, 'max_features': 8, 'min_samples_leaf': 7},\n",
       " mean: -1.45941, std: 0.43461, params: {'max_depth': 6, 'max_features': 7, 'min_samples_leaf': 7},\n",
       " mean: -1.46639, std: 0.67485, params: {'max_depth': 8, 'max_features': 7, 'min_samples_leaf': 7},\n",
       " mean: -1.47189, std: 0.63743, params: {'max_depth': 6, 'max_features': 8, 'min_samples_leaf': 7},\n",
       " mean: -1.47528, std: 0.33763, params: {'max_depth': 6, 'max_features': 10, 'min_samples_leaf': 8},\n",
       " mean: -1.48577, std: 0.39139, params: {'max_depth': 7, 'max_features': 6, 'min_samples_leaf': 7},\n",
       " mean: -1.49677, std: 0.34504, params: {'max_depth': 9, 'max_features': 5, 'min_samples_leaf': 7},\n",
       " mean: -1.50354, std: 0.35203, params: {'max_depth': 9, 'max_features': 6, 'min_samples_leaf': 7},\n",
       " mean: -1.51910, std: 0.64040, params: {'max_depth': 8, 'max_features': 5, 'min_samples_leaf': 8},\n",
       " mean: -1.52533, std: 0.68670, params: {'max_depth': 8, 'max_features': 5, 'min_samples_leaf': 6},\n",
       " mean: -1.54298, std: 0.40167, params: {'max_depth': 7, 'max_features': 7, 'min_samples_leaf': 7},\n",
       " mean: -1.54471, std: 0.58284, params: {'max_depth': 8, 'max_features': 8, 'min_samples_leaf': 6},\n",
       " mean: -1.57436, std: 0.58238, params: {'max_depth': 8, 'max_features': 7, 'min_samples_leaf': 8},\n",
       " mean: -1.58040, std: 0.34992, params: {'max_depth': 8, 'max_features': 6, 'min_samples_leaf': 6},\n",
       " mean: -1.58808, std: 0.34303, params: {'max_depth': 6, 'max_features': 9, 'min_samples_leaf': 5},\n",
       " mean: -1.59521, std: 0.45511, params: {'max_depth': 8, 'max_features': 7, 'min_samples_leaf': 6},\n",
       " mean: -1.62063, std: 0.72289, params: {'max_depth': 8, 'max_features': 8, 'min_samples_leaf': 8},\n",
       " mean: -1.62950, std: 0.65124, params: {'max_depth': 8, 'max_features': 8, 'min_samples_leaf': 7},\n",
       " mean: -1.63593, std: 0.79797, params: {'max_depth': 9, 'max_features': 6, 'min_samples_leaf': 6},\n",
       " mean: -1.65397, std: 0.51626, params: {'max_depth': 8, 'max_features': 5, 'min_samples_leaf': 5},\n",
       " mean: -1.65772, std: 0.60705, params: {'max_depth': 7, 'max_features': 10, 'min_samples_leaf': 7},\n",
       " mean: -1.67002, std: 0.57958, params: {'max_depth': 7, 'max_features': 9, 'min_samples_leaf': 8},\n",
       " mean: -1.67955, std: 0.72355, params: {'max_depth': 7, 'max_features': 6, 'min_samples_leaf': 5},\n",
       " mean: -1.68703, std: 0.67376, params: {'max_depth': 9, 'max_features': 7, 'min_samples_leaf': 6},\n",
       " mean: -1.68882, std: 0.27021, params: {'max_depth': 8, 'max_features': 6, 'min_samples_leaf': 7},\n",
       " mean: -1.68948, std: 0.45239, params: {'max_depth': 9, 'max_features': 5, 'min_samples_leaf': 5},\n",
       " mean: -1.70613, std: 0.68291, params: {'max_depth': 9, 'max_features': 5, 'min_samples_leaf': 6},\n",
       " mean: -1.71424, std: 0.64435, params: {'max_depth': 7, 'max_features': 8, 'min_samples_leaf': 5},\n",
       " mean: -1.71653, std: 0.45615, params: {'max_depth': 7, 'max_features': 9, 'min_samples_leaf': 7},\n",
       " mean: -1.71764, std: 0.51475, params: {'max_depth': 7, 'max_features': 10, 'min_samples_leaf': 6},\n",
       " mean: -1.71945, std: 0.51325, params: {'max_depth': 6, 'max_features': 10, 'min_samples_leaf': 6},\n",
       " mean: -1.72290, std: 0.85502, params: {'max_depth': 9, 'max_features': 7, 'min_samples_leaf': 5},\n",
       " mean: -1.72431, std: 0.84847, params: {'max_depth': 9, 'max_features': 7, 'min_samples_leaf': 7},\n",
       " mean: -1.78842, std: 0.67464, params: {'max_depth': 8, 'max_features': 10, 'min_samples_leaf': 6},\n",
       " mean: -1.79066, std: 0.43275, params: {'max_depth': 7, 'max_features': 9, 'min_samples_leaf': 5},\n",
       " mean: -1.80532, std: 0.47811, params: {'max_depth': 6, 'max_features': 8, 'min_samples_leaf': 5},\n",
       " mean: -1.82401, std: 0.76419, params: {'max_depth': 8, 'max_features': 6, 'min_samples_leaf': 5},\n",
       " mean: -1.82772, std: 0.43936, params: {'max_depth': 7, 'max_features': 9, 'min_samples_leaf': 6},\n",
       " mean: -1.83035, std: 0.60566, params: {'max_depth': 9, 'max_features': 8, 'min_samples_leaf': 8},\n",
       " mean: -1.85207, std: 0.59596, params: {'max_depth': 8, 'max_features': 9, 'min_samples_leaf': 7},\n",
       " mean: -1.85441, std: 0.96079, params: {'max_depth': 8, 'max_features': 7, 'min_samples_leaf': 5},\n",
       " mean: -1.85838, std: 0.55786, params: {'max_depth': 9, 'max_features': 10, 'min_samples_leaf': 8},\n",
       " mean: -1.86676, std: 0.91369, params: {'max_depth': 7, 'max_features': 7, 'min_samples_leaf': 5},\n",
       " mean: -1.88459, std: 0.83771, params: {'max_depth': 9, 'max_features': 7, 'min_samples_leaf': 8},\n",
       " mean: -1.89084, std: 0.64063, params: {'max_depth': 9, 'max_features': 6, 'min_samples_leaf': 8},\n",
       " mean: -1.89703, std: 0.74357, params: {'max_depth': 7, 'max_features': 10, 'min_samples_leaf': 8},\n",
       " mean: -1.93524, std: 0.61475, params: {'max_depth': 8, 'max_features': 9, 'min_samples_leaf': 6},\n",
       " mean: -1.93858, std: 0.67307, params: {'max_depth': 9, 'max_features': 10, 'min_samples_leaf': 7},\n",
       " mean: -1.98554, std: 0.45608, params: {'max_depth': 9, 'max_features': 9, 'min_samples_leaf': 7},\n",
       " mean: -1.99054, std: 0.69323, params: {'max_depth': 9, 'max_features': 8, 'min_samples_leaf': 7},\n",
       " mean: -2.06220, std: 0.58031, params: {'max_depth': 9, 'max_features': 6, 'min_samples_leaf': 5},\n",
       " mean: -2.07469, std: 0.61898, params: {'max_depth': 8, 'max_features': 10, 'min_samples_leaf': 7},\n",
       " mean: -2.07639, std: 0.98899, params: {'max_depth': 9, 'max_features': 9, 'min_samples_leaf': 5},\n",
       " mean: -2.08701, std: 0.79683, params: {'max_depth': 8, 'max_features': 10, 'min_samples_leaf': 8},\n",
       " mean: -2.15462, std: 0.77284, params: {'max_depth': 8, 'max_features': 10, 'min_samples_leaf': 5},\n",
       " mean: -2.15852, std: 0.66834, params: {'max_depth': 7, 'max_features': 10, 'min_samples_leaf': 5},\n",
       " mean: -2.17559, std: 0.56615, params: {'max_depth': 9, 'max_features': 9, 'min_samples_leaf': 6},\n",
       " mean: -2.22562, std: 0.50044, params: {'max_depth': 9, 'max_features': 8, 'min_samples_leaf': 5},\n",
       " mean: -2.25807, std: 0.22408, params: {'max_depth': 9, 'max_features': 8, 'min_samples_leaf': 6},\n",
       " mean: -2.38612, std: 0.46317, params: {'max_depth': 9, 'max_features': 10, 'min_samples_leaf': 6},\n",
       " mean: -2.41181, std: 0.79072, params: {'max_depth': 8, 'max_features': 9, 'min_samples_leaf': 5},\n",
       " mean: -2.57316, std: 0.59161, params: {'max_depth': 9, 'max_features': 10, 'min_samples_leaf': 5},\n",
       " mean: -2.61565, std: 0.85921, params: {'max_depth': 8, 'max_features': 8, 'min_samples_leaf': 5}]"
      ]
     },
     "execution_count": 56,
     "metadata": {},
     "output_type": "execute_result"
    }
   ],
   "source": [
    "sorted(gridsearch.grid_scores_, key = lambda x: -x.mean_validation_score)"
   ]
  },
  {
   "cell_type": "code",
   "execution_count": 57,
   "metadata": {
    "collapsed": true
   },
   "outputs": [],
   "source": [
    "clf_final = DecisionTreeClassifier(max_depth=9, max_features=9, min_samples_leaf=5)"
   ]
  },
  {
   "cell_type": "code",
   "execution_count": 58,
   "metadata": {},
   "outputs": [
    {
     "data": {
      "text/plain": [
       "DecisionTreeClassifier(class_weight=None, criterion='gini', max_depth=9,\n",
       "            max_features=9, max_leaf_nodes=None, min_impurity_decrease=0.0,\n",
       "            min_impurity_split=None, min_samples_leaf=5,\n",
       "            min_samples_split=2, min_weight_fraction_leaf=0.0,\n",
       "            presort=False, random_state=None, splitter='best')"
      ]
     },
     "execution_count": 58,
     "metadata": {},
     "output_type": "execute_result"
    }
   ],
   "source": [
    "clf_final.fit(X_train_fin, y_train_fin)"
   ]
  },
  {
   "cell_type": "markdown",
   "metadata": {},
   "source": [
    "### Делаем предсказание"
   ]
  },
  {
   "cell_type": "code",
   "execution_count": 59,
   "metadata": {
    "collapsed": true
   },
   "outputs": [],
   "source": [
    "y_pred_proba = clf_final.predict_proba(X_test_imputed_scaled)\n",
    "y_pred = clf_final.predict(X_test_imputed_scaled)"
   ]
  },
  {
   "cell_type": "code",
   "execution_count": 60,
   "metadata": {},
   "outputs": [
    {
     "data": {
      "text/plain": [
       "array([0, 1, 0, 0, 0, 0, 1, 0, 1, 0, 0, 1, 1, 0, 1, 1, 0, 0, 1, 1, 0, 0, 1,\n",
       "       0, 1, 0, 1, 0, 1, 0, 0, 0, 1, 0, 0, 0, 0, 0, 0, 1, 0, 0, 0, 1, 1, 0,\n",
       "       1, 0, 1, 1, 0, 0, 1, 1, 0, 0, 0, 0, 0, 1, 0, 0, 0, 1, 1, 1, 1, 0, 0,\n",
       "       1, 1, 0, 1, 0, 1, 0, 0, 1, 0, 1, 0, 0, 1, 0, 0, 0, 1, 0, 1, 1, 0, 0,\n",
       "       1, 0, 0, 0, 1, 0, 1, 0, 1, 0, 0, 0, 0, 0, 0, 0, 0, 0, 0, 1, 1, 1, 1,\n",
       "       0, 0, 1, 0, 1, 1, 0, 1, 0, 0, 0, 0, 1, 0, 0, 0, 1, 0, 0, 0, 0, 0, 0,\n",
       "       0, 0, 0, 1, 0, 0, 1, 0, 0, 0, 0, 0, 1, 0, 0, 1, 0, 0, 1, 1, 1, 0, 1,\n",
       "       0, 1, 0, 0, 0, 0, 0, 1, 0, 0, 0, 0, 0, 0, 1, 1, 0, 1, 1, 0, 0, 1, 0,\n",
       "       1, 0, 1, 0, 0, 0, 0, 0, 0, 0, 0, 0, 1, 1, 0, 0, 1, 0, 0, 1, 0, 0, 1,\n",
       "       0, 1, 0, 0, 0, 0, 1, 1, 0, 1, 0, 1, 0, 1, 0, 1, 0, 1, 0, 0, 1, 0, 0,\n",
       "       0, 1, 0, 0, 0, 0, 0, 0, 1, 1, 1, 1, 0, 0, 0, 0, 1, 0, 1, 0, 1, 0, 0,\n",
       "       0, 0, 0, 0, 0, 1, 0, 0, 0, 1, 1, 0, 0, 0, 0, 0, 0, 0, 0, 1, 1, 0, 1,\n",
       "       0, 0, 0, 0, 0, 0, 1, 0, 1, 0, 0, 0, 0, 0, 0, 1, 0, 0, 0, 0, 1, 0, 0,\n",
       "       0, 0, 0, 0, 0, 1, 1, 1, 0, 0, 1, 0, 0, 0, 1, 1, 1, 0, 0, 0, 0, 0, 0,\n",
       "       0, 1, 1, 0, 1, 0, 0, 0, 1, 1, 0, 1, 0, 0, 0, 0, 0, 0, 0, 0, 0, 1, 0,\n",
       "       1, 0, 1, 0, 1, 1, 0, 0, 0, 1, 1, 1, 0, 0, 1, 0, 1, 1, 0, 1, 0, 0, 0,\n",
       "       1, 0, 0, 1, 0, 0, 1, 1, 0, 0, 0, 0, 0, 0, 1, 0, 0, 1, 0, 0, 0, 0, 0,\n",
       "       1, 0, 0, 0, 1, 0, 1, 0, 0, 1, 0, 1, 0, 1, 0, 0, 0, 1, 1, 1, 1, 1, 0,\n",
       "       1, 0, 0, 0], dtype=int64)"
      ]
     },
     "execution_count": 60,
     "metadata": {},
     "output_type": "execute_result"
    }
   ],
   "source": [
    "y_pred"
   ]
  },
  {
   "cell_type": "markdown",
   "metadata": {},
   "source": [
    "### Формируем сабмит"
   ]
  },
  {
   "cell_type": "code",
   "execution_count": 127,
   "metadata": {
    "collapsed": true
   },
   "outputs": [],
   "source": [
    "submussion = 'PassengerId,Survived\\n'\n",
    "submussion += \"\\n\".join([\"{},{}\".format(pid, y_pred) for pid, y_pred in zip(test.PassengerId, y_pred)])"
   ]
  },
  {
   "cell_type": "code",
   "execution_count": 128,
   "metadata": {
    "collapsed": true
   },
   "outputs": [],
   "source": [
    "with open('submission.csv', 'w') as file:\n",
    "    file.write(submussion)"
   ]
  },
  {
   "cell_type": "markdown",
   "metadata": {},
   "source": [
    "### Формируем дерево"
   ]
  },
  {
   "cell_type": "code",
   "execution_count": 146,
   "metadata": {
    "collapsed": true
   },
   "outputs": [],
   "source": [
    "from sklearn.preprocessing import LabelEncoder\n",
    "from collections import Counter"
   ]
  },
  {
   "cell_type": "code",
   "execution_count": 147,
   "metadata": {
    "collapsed": true
   },
   "outputs": [],
   "source": [
    "le = LabelEncoder()\n",
    "y = le.fit_transform(y_train)"
   ]
  },
  {
   "cell_type": "code",
   "execution_count": 148,
   "metadata": {
    "collapsed": true
   },
   "outputs": [],
   "source": [
    "#y = le_y.fit_transform(y_train)"
   ]
  },
  {
   "cell_type": "code",
   "execution_count": 149,
   "metadata": {
    "collapsed": true
   },
   "outputs": [],
   "source": [
    "from sklearn.tree import export_graphviz\n",
    "\n",
    "def get_tree_dot_view(clf, feature_names=None, class_names=None):\n",
    "    print(export_graphviz(clf, out_file=None, filled=True, feature_names=feature_names, class_names=class_names))"
   ]
  },
  {
   "cell_type": "markdown",
   "metadata": {},
   "source": [
    "http://www.webgraphviz.com"
   ]
  },
  {
   "cell_type": "code",
   "execution_count": 150,
   "metadata": {},
   "outputs": [
    {
     "data": {
      "text/plain": [
       "0    549\n",
       "1    342\n",
       "dtype: int64"
      ]
     },
     "execution_count": 150,
     "metadata": {},
     "output_type": "execute_result"
    }
   ],
   "source": [
    "pd.Series(le.inverse_transform(y)).value_counts().sort_index()"
   ]
  },
  {
   "cell_type": "code",
   "execution_count": 151,
   "metadata": {},
   "outputs": [
    {
     "data": {
      "text/plain": [
       "[0, 1]"
      ]
     },
     "execution_count": 151,
     "metadata": {},
     "output_type": "execute_result"
    }
   ],
   "source": [
    "list(le.classes_)"
   ]
  },
  {
   "cell_type": "code",
   "execution_count": 152,
   "metadata": {},
   "outputs": [
    {
     "data": {
      "text/plain": [
       "['Age',\n",
       " 'SibSp',\n",
       " 'Parch',\n",
       " 'Fare',\n",
       " 'isMale',\n",
       " 'Pclass_1',\n",
       " 'Pclass_2',\n",
       " 'Pclass_3',\n",
       " 'Embarked_C',\n",
       " 'Embarked_Q',\n",
       " 'Embarked_S']"
      ]
     },
     "execution_count": 152,
     "metadata": {},
     "output_type": "execute_result"
    }
   ],
   "source": [
    "list(X_train_fin.columns)"
   ]
  },
  {
   "cell_type": "code",
   "execution_count": 153,
   "metadata": {},
   "outputs": [
    {
     "ename": "TypeError",
     "evalue": "ufunc 'add' did not contain a loop with signature matching types dtype('<U75') dtype('<U75') dtype('<U75')",
     "output_type": "error",
     "traceback": [
      "\u001b[1;31m---------------------------------------------------------------------------\u001b[0m",
      "\u001b[1;31mTypeError\u001b[0m                                 Traceback (most recent call last)",
      "\u001b[1;32m<ipython-input-153-826fa5ce88c5>\u001b[0m in \u001b[0;36m<module>\u001b[1;34m()\u001b[0m\n\u001b[1;32m----> 1\u001b[1;33m \u001b[0mget_tree_dot_view\u001b[0m\u001b[1;33m(\u001b[0m\u001b[0mclf_final\u001b[0m\u001b[1;33m,\u001b[0m \u001b[0mlist\u001b[0m\u001b[1;33m(\u001b[0m\u001b[0mX_train_fin\u001b[0m\u001b[1;33m.\u001b[0m\u001b[0mcolumns\u001b[0m\u001b[1;33m)\u001b[0m\u001b[1;33m,\u001b[0m \u001b[0mlist\u001b[0m\u001b[1;33m(\u001b[0m\u001b[0mle\u001b[0m\u001b[1;33m.\u001b[0m\u001b[0mclasses_\u001b[0m\u001b[1;33m)\u001b[0m\u001b[1;33m)\u001b[0m\u001b[1;33m\u001b[0m\u001b[0m\n\u001b[0m",
      "\u001b[1;32m<ipython-input-149-ddeca1de0e84>\u001b[0m in \u001b[0;36mget_tree_dot_view\u001b[1;34m(clf, feature_names, class_names)\u001b[0m\n\u001b[0;32m      2\u001b[0m \u001b[1;33m\u001b[0m\u001b[0m\n\u001b[0;32m      3\u001b[0m \u001b[1;32mdef\u001b[0m \u001b[0mget_tree_dot_view\u001b[0m\u001b[1;33m(\u001b[0m\u001b[0mclf\u001b[0m\u001b[1;33m,\u001b[0m \u001b[0mfeature_names\u001b[0m\u001b[1;33m=\u001b[0m\u001b[1;32mNone\u001b[0m\u001b[1;33m,\u001b[0m \u001b[0mclass_names\u001b[0m\u001b[1;33m=\u001b[0m\u001b[1;32mNone\u001b[0m\u001b[1;33m)\u001b[0m\u001b[1;33m:\u001b[0m\u001b[1;33m\u001b[0m\u001b[0m\n\u001b[1;32m----> 4\u001b[1;33m     \u001b[0mprint\u001b[0m\u001b[1;33m(\u001b[0m\u001b[0mexport_graphviz\u001b[0m\u001b[1;33m(\u001b[0m\u001b[0mclf\u001b[0m\u001b[1;33m,\u001b[0m \u001b[0mout_file\u001b[0m\u001b[1;33m=\u001b[0m\u001b[1;32mNone\u001b[0m\u001b[1;33m,\u001b[0m \u001b[0mfilled\u001b[0m\u001b[1;33m=\u001b[0m\u001b[1;32mTrue\u001b[0m\u001b[1;33m,\u001b[0m \u001b[0mfeature_names\u001b[0m\u001b[1;33m=\u001b[0m\u001b[0mfeature_names\u001b[0m\u001b[1;33m,\u001b[0m \u001b[0mclass_names\u001b[0m\u001b[1;33m=\u001b[0m\u001b[0mclass_names\u001b[0m\u001b[1;33m)\u001b[0m\u001b[1;33m)\u001b[0m\u001b[1;33m\u001b[0m\u001b[0m\n\u001b[0m",
      "\u001b[1;32m~\\Anaconda3\\lib\\site-packages\\sklearn\\tree\\export.py\u001b[0m in \u001b[0;36mexport_graphviz\u001b[1;34m(decision_tree, out_file, max_depth, feature_names, class_names, label, filled, leaves_parallel, impurity, node_ids, proportion, rotate, rounded, special_characters, precision)\u001b[0m\n\u001b[0;32m    462\u001b[0m             \u001b[0mrecurse\u001b[0m\u001b[1;33m(\u001b[0m\u001b[0mdecision_tree\u001b[0m\u001b[1;33m,\u001b[0m \u001b[1;36m0\u001b[0m\u001b[1;33m,\u001b[0m \u001b[0mcriterion\u001b[0m\u001b[1;33m=\u001b[0m\u001b[1;34m\"impurity\"\u001b[0m\u001b[1;33m)\u001b[0m\u001b[1;33m\u001b[0m\u001b[0m\n\u001b[0;32m    463\u001b[0m         \u001b[1;32melse\u001b[0m\u001b[1;33m:\u001b[0m\u001b[1;33m\u001b[0m\u001b[0m\n\u001b[1;32m--> 464\u001b[1;33m             \u001b[0mrecurse\u001b[0m\u001b[1;33m(\u001b[0m\u001b[0mdecision_tree\u001b[0m\u001b[1;33m.\u001b[0m\u001b[0mtree_\u001b[0m\u001b[1;33m,\u001b[0m \u001b[1;36m0\u001b[0m\u001b[1;33m,\u001b[0m \u001b[0mcriterion\u001b[0m\u001b[1;33m=\u001b[0m\u001b[0mdecision_tree\u001b[0m\u001b[1;33m.\u001b[0m\u001b[0mcriterion\u001b[0m\u001b[1;33m)\u001b[0m\u001b[1;33m\u001b[0m\u001b[0m\n\u001b[0m\u001b[0;32m    465\u001b[0m \u001b[1;33m\u001b[0m\u001b[0m\n\u001b[0;32m    466\u001b[0m         \u001b[1;31m# If required, draw leaf nodes at same depth as each other\u001b[0m\u001b[1;33m\u001b[0m\u001b[1;33m\u001b[0m\u001b[0m\n",
      "\u001b[1;32m~\\Anaconda3\\lib\\site-packages\\sklearn\\tree\\export.py\u001b[0m in \u001b[0;36mrecurse\u001b[1;34m(tree, node_id, criterion, parent, depth)\u001b[0m\n\u001b[0;32m    330\u001b[0m             out_file.write('%d [label=%s'\n\u001b[0;32m    331\u001b[0m                            % (node_id,\n\u001b[1;32m--> 332\u001b[1;33m                               node_to_str(tree, node_id, criterion)))\n\u001b[0m\u001b[0;32m    333\u001b[0m \u001b[1;33m\u001b[0m\u001b[0m\n\u001b[0;32m    334\u001b[0m             \u001b[1;32mif\u001b[0m \u001b[0mfilled\u001b[0m\u001b[1;33m:\u001b[0m\u001b[1;33m\u001b[0m\u001b[0m\n",
      "\u001b[1;32m~\\Anaconda3\\lib\\site-packages\\sklearn\\tree\\export.py\u001b[0m in \u001b[0;36mnode_to_str\u001b[1;34m(tree, node_id, criterion)\u001b[0m\n\u001b[0;32m    300\u001b[0m                                           \u001b[0mnp\u001b[0m\u001b[1;33m.\u001b[0m\u001b[0margmax\u001b[0m\u001b[1;33m(\u001b[0m\u001b[0mvalue\u001b[0m\u001b[1;33m)\u001b[0m\u001b[1;33m,\u001b[0m\u001b[1;33m\u001b[0m\u001b[0m\n\u001b[0;32m    301\u001b[0m                                           characters[2])\n\u001b[1;32m--> 302\u001b[1;33m             \u001b[0mnode_string\u001b[0m \u001b[1;33m+=\u001b[0m \u001b[0mclass_name\u001b[0m\u001b[1;33m\u001b[0m\u001b[0m\n\u001b[0m\u001b[0;32m    303\u001b[0m \u001b[1;33m\u001b[0m\u001b[0m\n\u001b[0;32m    304\u001b[0m         \u001b[1;31m# Clean up any trailing newlines\u001b[0m\u001b[1;33m\u001b[0m\u001b[1;33m\u001b[0m\u001b[0m\n",
      "\u001b[1;31mTypeError\u001b[0m: ufunc 'add' did not contain a loop with signature matching types dtype('<U75') dtype('<U75') dtype('<U75')"
     ]
    }
   ],
   "source": [
    "get_tree_dot_view(clf_final, list(X_train_fin.columns), list(le.classes_))"
   ]
  },
  {
   "cell_type": "code",
   "execution_count": null,
   "metadata": {
    "collapsed": true
   },
   "outputs": [],
   "source": []
  }
 ],
 "metadata": {
  "anaconda-cloud": {},
  "kernelspec": {
   "display_name": "Python 3",
   "language": "python",
   "name": "python3"
  },
  "language_info": {
   "codemirror_mode": {
    "name": "ipython",
    "version": 3
   },
   "file_extension": ".py",
   "mimetype": "text/x-python",
   "name": "python",
   "nbconvert_exporter": "python",
   "pygments_lexer": "ipython3",
   "version": "3.6.3"
  }
 },
 "nbformat": 4,
 "nbformat_minor": 2
}
