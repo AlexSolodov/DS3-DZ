{
 "cells": [
  {
   "cell_type": "markdown",
   "metadata": {},
   "source": [
    "#  Домашнее задание по NLP # 3 [100 баллов] \n",
    "## Классификация и генерация фамилий \n",
    "\n",
    "В этом домашнем задании вам предстоит классифицировать и генерировать фамилии на 19 разных языках. Обучающие данные хранятся в папке data и разбиты по языкам: один язык – одна подпапка. Ниже представлен код для считывания данных в словарь вида: \n",
    "```d{язык} : [список имен]```."
   ]
  },
  {
   "cell_type": "code",
   "execution_count": 1,
   "metadata": {
    "scrolled": true
   },
   "outputs": [
    {
     "name": "stdout",
     "output_type": "stream",
     "text": [
      "['data/names/Japanese.txt', 'data/names/English.txt', 'data/names/Chinese.txt', 'data/names/Portuguese.txt', 'data/names/Irish.txt', 'data/names/Scottish.txt', 'data/names/Polish.txt', 'data/names/German.txt', 'data/names/Greek.txt', 'data/names/Russian.txt', 'data/names/Dutch.txt', 'data/names/Spanish.txt', 'data/names/Korean.txt', 'data/names/Vietnamese.txt', 'data/names/Arabic.txt', 'data/names/French.txt', 'data/names/Italian.txt', 'data/names/Czech.txt']\n",
      "['Abels', 'Abelsky', 'Abeltsev', 'Abelyan', 'Aberson', 'Abertasov', 'Abesadze', 'Abezgauz', 'Abgaryan', 'Abibulaev', 'Abidoff', 'Abidov', 'Abih', 'Abikh', 'Abisaloff', 'Abisalov', 'Abitoff', 'Abitov', 'Abjaliloff', 'Abjalilov']\n"
     ]
    }
   ],
   "source": [
    "from __future__ import unicode_literals, print_function, division\n",
    "from io import open\n",
    "import glob\n",
    "\n",
    "def findFiles(path): return glob.glob(path)\n",
    "\n",
    "print(findFiles('data/names/*.txt'))\n",
    "\n",
    "\n",
    "def readLines(filename):\n",
    "    lines = open(filename, encoding='utf-8').read().strip().split('\\n')\n",
    "    return lines\n",
    "\n",
    "all_categories = []\n",
    "category_lines = {}\n",
    "for filename in findFiles('data/names/*.txt'):\n",
    "    category = filename.split('/')[-1].split('.')[0]\n",
    "    all_categories.append(category)\n",
    "    lines = readLines(filename)\n",
    "    category_lines[category] = lines\n",
    "\n",
    "n_categories = len(all_categories)\n",
    "\n",
    "print(category_lines['Russian'][100:120])"
   ]
  },
  {
   "cell_type": "code",
   "execution_count": 2,
   "metadata": {
    "scrolled": true
   },
   "outputs": [
    {
     "name": "stdout",
     "output_type": "stream",
     "text": [
      "['Miao', 'Min', 'Ming', 'Moy', 'Mui', 'Nie', 'Niu', 'Ou-Yang', 'Ow-Yang', 'Pan', 'Pang', 'Pei', 'Peng', 'Ping', 'Qian', 'Qin', 'Qiu', 'Quan', 'Que', 'Ran']\n"
     ]
    }
   ],
   "source": [
    "print(category_lines['Chinese'][100:120])"
   ]
  },
  {
   "cell_type": "markdown",
   "metadata": {},
   "source": [
    "## Часть 1. Предварительная обработка данных [10 баллов]\n",
    "\n",
    "1. Удалите неоднозначные фамилии (т.е. одинаковые фамилии на разных языка), если такие есть;\n",
    "2. Оцените \n",
    "* среднюю длину фамилии по всей коллекции\n",
    "* по каждому языку\n",
    "3. Для последующей классификации (части 2 и 3) оздайте обучающее и тестовое множество так, чтобы в обучающем множестве классы были сбалансированы: то есть, в обучающее множество должно входить примерно одинаковое количество фамилий на разных ящыка. "
   ]
  },
  {
   "cell_type": "code",
   "execution_count": 3,
   "metadata": {
    "collapsed": true
   },
   "outputs": [],
   "source": [
    "#Удаляем одинаковые фамилии из разных языков. Для этого в цикле проходим все языки и поочередно сравниваем вся фамилии \n",
    "#из первого и второго списка\n",
    "category1={}\n",
    "category2={}\n",
    "for i in range(len(all_categories)):\n",
    "    category1=set(category_lines[all_categories[i]])\n",
    "    for j in range(i+1, len(all_categories)):\n",
    "        category2=set(category_lines[all_categories[j]])\n",
    "        category2-=category1\n",
    "        category_lines[j]=list(category2)"
   ]
  },
  {
   "cell_type": "code",
   "execution_count": 4,
   "metadata": {},
   "outputs": [
    {
     "name": "stdout",
     "output_type": "stream",
     "text": [
      "Среднее количество букв в фамилии: 6.329515213451118\n",
      "Japanese ; 6.691220988900101\n",
      "English ; 6.395038167938932\n",
      "Chinese ; 3.6529850746268657\n",
      "Portuguese ; 6.418918918918919\n",
      "Irish ; 7.004310344827586\n",
      "Scottish ; 6.52\n",
      "Polish ; 7.266187050359712\n",
      "German ; 6.669889502762431\n",
      "Greek ; 8.758620689655173\n",
      "Russian ; 8.09906462585034\n",
      "Dutch ; 6.915824915824916\n",
      "Spanish ; 6.4865771812080535\n",
      "Korean ; 3.5\n",
      "Vietnamese ; 3.643835616438356\n",
      "Arabic ; 5.595\n",
      "French ; 6.805054151624549\n",
      "Italian ; 6.957686882933709\n",
      "Czech ; 6.551059730250482\n"
     ]
    }
   ],
   "source": [
    "#Вычисляем среднее количество букв в фамилии для каждого языка и в общем для выборки\n",
    "categories=dict()\n",
    "for cat in all_categories:\n",
    "    category=category_lines[cat]\n",
    "    l=0\n",
    "    for c in category:\n",
    "        l+=len(c)\n",
    "    col=len(category)\n",
    "    m=l/col\n",
    "    categories[cat]=m\n",
    "col=0\n",
    "sr=0\n",
    "for c in categories:\n",
    "    col+=categories[c]\n",
    "sr=col/len(categories)\n",
    "print('Среднее количество букв в фамилии:', sr)\n",
    "for category in categories:\n",
    "    print(category, ';', categories[category])\n"
   ]
  },
  {
   "cell_type": "code",
   "execution_count": 5,
   "metadata": {
    "collapsed": true
   },
   "outputs": [],
   "source": [
    "#Считаем частотность букв в каждом из языков и записываем это в словарь\n",
    "categoriesLet=dict()\n",
    "for cat in all_categories:\n",
    "    category=category_lines[cat]\n",
    "    alf=dict()\n",
    "    for c in category:\n",
    "        alf[c[0]]=alf.get(c[0], 0)+1\n",
    "    categoriesLet[cat]=alf"
   ]
  },
  {
   "cell_type": "code",
   "execution_count": 6,
   "metadata": {},
   "outputs": [
    {
     "data": {
      "text/plain": [
       "{'Arabic': {'A': 276,\n",
       "  'B': 194,\n",
       "  'C': 25,\n",
       "  'D': 59,\n",
       "  'E': 13,\n",
       "  'F': 28,\n",
       "  'G': 134,\n",
       "  'H': 162,\n",
       "  'I': 31,\n",
       "  'K': 176,\n",
       "  'M': 197,\n",
       "  'N': 143,\n",
       "  'Q': 33,\n",
       "  'R': 20,\n",
       "  'S': 352,\n",
       "  'T': 115,\n",
       "  'W': 21,\n",
       "  'Z': 21},\n",
       " 'Chinese': {'A': 2,\n",
       "  'B': 7,\n",
       "  'C': 23,\n",
       "  'D': 7,\n",
       "  'E': 1,\n",
       "  'F': 7,\n",
       "  'G': 16,\n",
       "  'H': 17,\n",
       "  'J': 11,\n",
       "  'K': 13,\n",
       "  'L': 20,\n",
       "  'M': 13,\n",
       "  'N': 3,\n",
       "  'O': 2,\n",
       "  'P': 6,\n",
       "  'Q': 8,\n",
       "  'R': 6,\n",
       "  'S': 28,\n",
       "  'T': 17,\n",
       "  'W': 10,\n",
       "  'X': 12,\n",
       "  'Y': 19,\n",
       "  'Z': 20},\n",
       " 'Czech': {'A': 6,\n",
       "  'B': 30,\n",
       "  'C': 27,\n",
       "  'D': 18,\n",
       "  'E': 2,\n",
       "  'F': 14,\n",
       "  'G': 12,\n",
       "  'H': 41,\n",
       "  'J': 20,\n",
       "  'K': 73,\n",
       "  'L': 7,\n",
       "  'M': 34,\n",
       "  'N': 18,\n",
       "  'O': 12,\n",
       "  'P': 44,\n",
       "  'Q': 1,\n",
       "  'R': 16,\n",
       "  'S': 81,\n",
       "  'T': 14,\n",
       "  'U': 7,\n",
       "  'V': 16,\n",
       "  'W': 14,\n",
       "  'Z': 12},\n",
       " 'Dutch': {'A': 30,\n",
       "  'B': 9,\n",
       "  'C': 3,\n",
       "  'D': 8,\n",
       "  'H': 21,\n",
       "  'K': 34,\n",
       "  'L': 13,\n",
       "  'M': 24,\n",
       "  'N': 8,\n",
       "  'O': 10,\n",
       "  'P': 17,\n",
       "  'R': 50,\n",
       "  'S': 53,\n",
       "  'T': 7,\n",
       "  'V': 9,\n",
       "  'Z': 1},\n",
       " 'English': {'A': 199,\n",
       "  'B': 200,\n",
       "  'C': 200,\n",
       "  'D': 200,\n",
       "  'E': 186,\n",
       "  'F': 200,\n",
       "  'G': 200,\n",
       "  'H': 200,\n",
       "  'I': 48,\n",
       "  'J': 92,\n",
       "  'K': 200,\n",
       "  'L': 200,\n",
       "  'M': 200,\n",
       "  'N': 127,\n",
       "  'O': 97,\n",
       "  'P': 200,\n",
       "  'Q': 7,\n",
       "  'R': 200,\n",
       "  'S': 200,\n",
       "  'T': 200,\n",
       "  'U': 21,\n",
       "  'V': 55,\n",
       "  'W': 200,\n",
       "  'Y': 35,\n",
       "  'Z': 1},\n",
       " 'French': {'A': 9,\n",
       "  'B': 33,\n",
       "  'C': 18,\n",
       "  'D': 28,\n",
       "  'E': 1,\n",
       "  'F': 18,\n",
       "  'G': 17,\n",
       "  'H': 5,\n",
       "  'J': 4,\n",
       "  'L': 34,\n",
       "  'M': 20,\n",
       "  'N': 1,\n",
       "  'O': 2,\n",
       "  'P': 28,\n",
       "  'R': 14,\n",
       "  'S': 23,\n",
       "  'T': 14,\n",
       "  'V': 6,\n",
       "  'Y': 1,\n",
       "  'É': 1},\n",
       " 'German': {'A': 29,\n",
       "  'B': 80,\n",
       "  'C': 3,\n",
       "  'D': 18,\n",
       "  'E': 12,\n",
       "  'F': 34,\n",
       "  'G': 50,\n",
       "  'H': 62,\n",
       "  'I': 1,\n",
       "  'J': 11,\n",
       "  'K': 75,\n",
       "  'L': 35,\n",
       "  'M': 41,\n",
       "  'N': 6,\n",
       "  'O': 8,\n",
       "  'P': 18,\n",
       "  'R': 28,\n",
       "  'S': 121,\n",
       "  'T': 12,\n",
       "  'U': 4,\n",
       "  'V': 18,\n",
       "  'W': 53,\n",
       "  'X': 1,\n",
       "  'Z': 4},\n",
       " 'Greek': {'A': 16,\n",
       "  'B': 10,\n",
       "  'C': 17,\n",
       "  'D': 13,\n",
       "  'E': 3,\n",
       "  'F': 4,\n",
       "  'G': 13,\n",
       "  'H': 6,\n",
       "  'J': 1,\n",
       "  'K': 31,\n",
       "  'L': 7,\n",
       "  'M': 13,\n",
       "  'N': 2,\n",
       "  'P': 26,\n",
       "  'R': 5,\n",
       "  'S': 14,\n",
       "  'T': 13,\n",
       "  'V': 6,\n",
       "  'X': 1,\n",
       "  'Z': 2},\n",
       " 'Irish': {'A': 6,\n",
       "  'B': 8,\n",
       "  'C': 30,\n",
       "  'D': 20,\n",
       "  'E': 3,\n",
       "  'F': 10,\n",
       "  'G': 4,\n",
       "  'H': 1,\n",
       "  'I': 1,\n",
       "  'J': 1,\n",
       "  'K': 4,\n",
       "  'L': 2,\n",
       "  'M': 36,\n",
       "  'N': 10,\n",
       "  'O': 47,\n",
       "  'P': 4,\n",
       "  'Q': 3,\n",
       "  'R': 18,\n",
       "  'S': 13,\n",
       "  'T': 8,\n",
       "  'W': 3},\n",
       " 'Italian': {'A': 145,\n",
       "  'B': 75,\n",
       "  'C': 55,\n",
       "  'D': 28,\n",
       "  'E': 5,\n",
       "  'F': 28,\n",
       "  'G': 28,\n",
       "  'I': 2,\n",
       "  'L': 27,\n",
       "  'M': 47,\n",
       "  'N': 46,\n",
       "  'O': 5,\n",
       "  'P': 53,\n",
       "  'Q': 2,\n",
       "  'R': 39,\n",
       "  'S': 57,\n",
       "  'T': 30,\n",
       "  'U': 6,\n",
       "  'V': 23,\n",
       "  'Z': 8},\n",
       " 'Japanese': {'A': 46,\n",
       "  'B': 4,\n",
       "  'C': 6,\n",
       "  'D': 7,\n",
       "  'E': 14,\n",
       "  'F': 28,\n",
       "  'G': 7,\n",
       "  'H': 78,\n",
       "  'I': 72,\n",
       "  'J': 7,\n",
       "  'K': 162,\n",
       "  'M': 104,\n",
       "  'N': 65,\n",
       "  'O': 65,\n",
       "  'R': 3,\n",
       "  'S': 125,\n",
       "  'T': 117,\n",
       "  'U': 21,\n",
       "  'W': 7,\n",
       "  'Y': 53},\n",
       " 'Korean': {'A': 1,\n",
       "  'B': 3,\n",
       "  'C': 13,\n",
       "  'G': 3,\n",
       "  'H': 7,\n",
       "  'J': 7,\n",
       "  'K': 7,\n",
       "  'L': 3,\n",
       "  'M': 3,\n",
       "  'N': 3,\n",
       "  'O': 1,\n",
       "  'P': 3,\n",
       "  'R': 9,\n",
       "  'S': 16,\n",
       "  'T': 1,\n",
       "  'W': 2,\n",
       "  'Y': 12},\n",
       " 'Polish': {'A': 4,\n",
       "  'B': 9,\n",
       "  'C': 4,\n",
       "  'D': 4,\n",
       "  'F': 3,\n",
       "  'G': 9,\n",
       "  'J': 9,\n",
       "  'K': 17,\n",
       "  'L': 2,\n",
       "  'M': 11,\n",
       "  'N': 4,\n",
       "  'P': 8,\n",
       "  'R': 5,\n",
       "  'S': 27,\n",
       "  'W': 12,\n",
       "  'Z': 7,\n",
       "  'Ś': 3,\n",
       "  'Ż': 1},\n",
       " 'Portuguese': {'A': 6,\n",
       "  'B': 3,\n",
       "  'C': 8,\n",
       "  'D': 5,\n",
       "  'E': 1,\n",
       "  'F': 7,\n",
       "  'G': 5,\n",
       "  'H': 1,\n",
       "  'L': 1,\n",
       "  'M': 11,\n",
       "  'N': 1,\n",
       "  'P': 5,\n",
       "  'R': 7,\n",
       "  'S': 10,\n",
       "  'T': 1,\n",
       "  'V': 2},\n",
       " 'Russian': {'A': 966,\n",
       "  'B': 901,\n",
       "  'C': 232,\n",
       "  'D': 495,\n",
       "  'E': 217,\n",
       "  'F': 109,\n",
       "  'G': 527,\n",
       "  'H': 514,\n",
       "  'I': 74,\n",
       "  'J': 622,\n",
       "  'K': 209,\n",
       "  'L': 394,\n",
       "  'M': 730,\n",
       "  'N': 169,\n",
       "  'O': 80,\n",
       "  'P': 478,\n",
       "  'R': 295,\n",
       "  'S': 317,\n",
       "  'T': 635,\n",
       "  'U': 79,\n",
       "  'V': 585,\n",
       "  'Y': 299,\n",
       "  'Z': 481},\n",
       " 'Scottish': {'A': 4,\n",
       "  'B': 6,\n",
       "  'C': 7,\n",
       "  'D': 5,\n",
       "  'F': 3,\n",
       "  'G': 5,\n",
       "  'H': 6,\n",
       "  'J': 5,\n",
       "  'K': 4,\n",
       "  'L': 1,\n",
       "  'M': 26,\n",
       "  'P': 1,\n",
       "  'R': 6,\n",
       "  'S': 8,\n",
       "  'T': 2,\n",
       "  'W': 10,\n",
       "  'Y': 1},\n",
       " 'Spanish': {'A': 39,\n",
       "  'B': 17,\n",
       "  'C': 21,\n",
       "  'D': 13,\n",
       "  'E': 14,\n",
       "  'F': 8,\n",
       "  'G': 16,\n",
       "  'H': 6,\n",
       "  'I': 4,\n",
       "  'J': 5,\n",
       "  'L': 4,\n",
       "  'M': 27,\n",
       "  'N': 4,\n",
       "  'O': 13,\n",
       "  'P': 15,\n",
       "  'Q': 3,\n",
       "  'R': 25,\n",
       "  'S': 22,\n",
       "  'T': 9,\n",
       "  'U': 3,\n",
       "  'V': 21,\n",
       "  'Y': 1,\n",
       "  'Z': 7,\n",
       "  'Á': 1},\n",
       " 'Vietnamese': {'A': 1,\n",
       "  'B': 3,\n",
       "  'C': 5,\n",
       "  'D': 9,\n",
       "  'G': 1,\n",
       "  'H': 5,\n",
       "  'K': 2,\n",
       "  'L': 9,\n",
       "  'M': 3,\n",
       "  'N': 3,\n",
       "  'P': 5,\n",
       "  'Q': 3,\n",
       "  'S': 1,\n",
       "  'T': 16,\n",
       "  'V': 6,\n",
       "  'a': 1}}"
      ]
     },
     "execution_count": 6,
     "metadata": {},
     "output_type": "execute_result"
    }
   ],
   "source": [
    "categoriesLet"
   ]
  },
  {
   "cell_type": "markdown",
   "metadata": {},
   "source": [
    "### Разбиение на обучающую и тестовую выборки"
   ]
  },
  {
   "cell_type": "code",
   "execution_count": 7,
   "metadata": {
    "collapsed": true
   },
   "outputs": [],
   "source": [
    "#Определяем размер обучающей выгрузки\n",
    "size=0.8"
   ]
  },
  {
   "cell_type": "code",
   "execution_count": 8,
   "metadata": {
    "collapsed": true
   },
   "outputs": [],
   "source": [
    "#Для каждой категории определяем какое количество фамилиий на каждую букву должно попасть в обучающую выборку\n",
    "for cat in categoriesLet:\n",
    "    category=categoriesLet[cat]\n",
    "    for c in category:\n",
    "        category[c]=round(category[c]*size)\n",
    "#print(categoriesLet)"
   ]
  },
  {
   "cell_type": "code",
   "execution_count": 9,
   "metadata": {
    "collapsed": true
   },
   "outputs": [],
   "source": [
    "#Создаем два словаря, в который будем заносить фамилии для обучающей и тестовой выборки\n",
    "import random\n",
    "train=dict()\n",
    "test=dict()\n",
    "\n",
    "for cat in all_categories:\n",
    "    category=category_lines[cat]\n",
    "    letters=categoriesLet[cat]\n",
    "    l=len(category)\n",
    "    trainf=list()\n",
    "    testf=list()\n",
    "    for i in range(l):\n",
    "        k=random.choice(category)\n",
    "        if letters.get(k[0], 0)>0:             \n",
    "            trainf.append(k)\n",
    "            letters[k[0]]=letters[k[0]]-1\n",
    "        else:\n",
    "            testf.append(k)\n",
    "        category.remove(k)\n",
    "    train[cat]=trainf\n",
    "    test[cat]=testf"
   ]
  },
  {
   "cell_type": "code",
   "execution_count": 10,
   "metadata": {},
   "outputs": [
    {
     "name": "stdout",
     "output_type": "stream",
     "text": [
      "{'Japanese': ['Chikanatsu', 'Horigoshi', 'Nonomura', 'Hirano', 'Ayugai', 'Yamanoue', 'Nakahara', 'Arita', 'Tamuro', 'Hamada', 'Hagino', 'Nakasawa', 'Goto', 'Terauchi', 'Nagai', 'Narita', 'Akamatsu', 'Hirasi', 'Yamaguchiya', 'Yamashita', 'Yamabe', 'Fukusaku', 'Hiranuma', 'Takenouchi', 'Taku', 'Watari', 'Hideyoshi', 'Fukao', 'Nijo', 'Yoshikawa', 'Masuko', 'Kate', 'Kamioka', 'Komon', 'Marusa', 'Koizumi', 'Karubo', 'Kodama', 'Shimohira', 'Toru', 'Okuma', 'Sakai', 'Furusawa', 'Mushashibo', 'Iseya', 'Shimamura', 'Ieyasu', 'Kokan', 'Shinozaki', 'Kunikida', 'Fujikage', 'Okura', 'Imoo', 'Sarumara', 'Sugitani', 'Shimada', 'Ekiguchi', 'Terada', 'Takei', 'Motoyoshi', 'Takayama', 'Kasamatsu', 'Ueda', 'Morimoto', 'Bunya', 'Ebina', 'Hokusai', 'Yamura', 'Shibasaki', 'Tsukamoto', 'Marubeni', 'Kikkawa', 'Segawa', 'Sone', 'Okazaki', 'Shidehara', 'Takemago', 'Asahi', 'Tsumura', 'Mifune', 'Kido', 'Ezakiya', 'Kawatake', 'Tsuda', 'Takara', 'Hamaguchi', 'Kimiyama', 'Takizawa', 'Kudara', 'Amaya', 'Kamon', 'Terajima', 'Mazaki', 'Ogiwara', 'Fumihiko', 'Sugiyama', 'Ogyu', 'Komagata', 'Sugimura', 'Hirayama', 'Tsurimi', 'Fujimoto', 'Isozaki', 'Modegi', 'Oshima', 'Ui', 'Serizawa', 'Aida', 'Tatsuya', 'Hishida', 'Onishi', 'Nakada', 'Sugase', 'Uemura', 'Kurusu', 'Takeda', 'Murakami', 'Uesugi', 'Ishihara', 'Kenkyusha', 'Joshuyo', 'Nagata', 'Harada', 'Kunomasu', 'Miyake', 'Ozawa', 'Shirai', 'Yasuhiro', 'Akita', 'Asuhara', 'Ryusaki', 'Kataoka', 'Mitsuya', 'Mitsubishi', 'Matsuoka', 'Okimoto', 'Dan', 'Takimoto', 'Maehata', 'Yano', 'Narahashi', 'Sugisata', 'Shigi', 'Akatsuka', 'Yoshinobu', 'Shiomiya', 'Torisei', 'Kentaro', 'Oyama', 'Inihara', 'Katsu', 'Morita', 'Ippitsusai', 'Kitoaji', 'Yamato', 'Imagawa', 'Horiuchi', 'Nishikawa', 'Hida', 'Sakoda', 'Yamazaki', 'Osaragi', 'Miyagi', 'Nagumo', 'Iwasa', 'Higashikuni', 'Ishimura', 'Shimuzu', 'Mitzusaka', 'Horri', 'Nakamura', 'Kitao', 'Okanao', 'Imamura', 'Kiski', 'Takahama', 'Sekozawa', 'Siagyo', 'Kawate', 'Kawazu', 'Ninomiya', 'Masaoka', 'Takishita', 'Ichihara', 'Ichiyusai', 'Kusunoki', 'Kozu', 'Tayama', 'Shioya', 'Kuramochi', 'Ohka', 'Karube', 'Sakagami', 'Iemochi', 'Kono', 'Miyahara', 'Motoori'], 'English': ['Iddon', 'Isherwod', 'Iles', 'Ireson', 'Ingham', 'Caton', 'Charles', 'Bower', 'Nicoll', 'Court', 'Utton', 'Cairns', 'Bamford', 'Buchan', 'Christie', 'Brooker', 'Ackary', 'Crocker', 'Newman', 'Barclay', 'Nelson', 'Carmichael', 'Adam', 'Annan', 'Bullock', 'Noon', 'Algar', 'Crouch', 'Atkin', 'Nutella', 'Lyme', 'Laurie', 'Norm', 'Ledger', 'Roach', 'Nicks', 'Coulter', 'Laraway', 'Proctor', 'Rawlinson', 'Nelmes', 'Lambert', 'Crowley', 'Prosser', 'Nicolas', 'Latham', 'Aikman', 'Glossop', 'Arkins', 'Ulyatt', 'Travers', 'Parks', 'Artliff', 'Austen', 'Grout', 'Brelsford', 'Burford', 'Booth', 'Aston', 'Crabb', 'Barber', 'Tomkins', 'Bennett', 'Cope', 'Waterhouse', 'Laver', 'Pillay', 'Renwick', 'Daly', 'Button', 'Grant', 'Rand', 'Whitaker', 'Rook', 'Newson', 'Peace', 'Dale', 'Abbey', 'Golding', 'Fairweather', 'Costello', 'Barlow', 'Gardiner', 'Winman', 'Kinnersley', 'Tollis', 'Pryor', 'Charge', 'Foulkes', 'Corner', 'Kurray', 'Kinghorn', 'Leggett', 'Roden', 'Fabb', 'Perks', 'Arnall', 'Sherry', 'Neish', 'Stevens', 'Stephenson', 'Crosby', 'Guinard', 'Marsh', 'Weller', 'Newill', 'Mccabe', 'Thomason', 'Millard', 'Bowen', 'Tunks', 'Field', 'Roebuck', 'Lunt', 'Reyes', 'Park', 'Ferreira', 'Laycock', 'Kell', 'Aspey', 'Gillard', 'Wong', 'Moody', 'Ketley', 'Godwin', 'Farren', 'Ness', 'Kydd', 'Fryer', 'Dodson', 'Steer', 'Roome', 'Yardley', 'Richman', 'Pope', 'Hardwick', 'Drake', 'Crabtree', 'Houghton', 'Lowrie', 'Holder', 'Thoms', 'Helm', 'Kavanagh', 'Pilkington', 'Farrington', 'Rann', 'Kampfner', 'Ivory', 'Horner', 'Issac', 'Packer', 'Dowell', 'Mckay', 'Hampton', 'Downie', 'Frary', 'Kidner', 'Dillon', 'Nessbert', 'Raven', 'Guttridge', 'Lucas', 'Hine', 'Cannon', 'Hassani', 'Hammond', 'More', 'Elsdon', 'Greenwood', 'Hodkinson', 'Vaughn', 'Jennson', 'Heath', 'Cohen', 'Nichol', 'Norcross', 'Keywood', 'Ferguson', 'Govier', 'Evason', 'Mcfarlane', 'Worrall', 'Vaughan', 'Leigh', 'Delaney', 'Asher', 'Dalby', 'Odam', 'Browne', 'Girdwood', 'Feeney', 'Hoyle', 'Cleary', 'Ainley', 'Dermody', 'Maddocks', 'Travill', 'Rashid', 'Ingleby', 'Vass', 'Felix', 'Leeson', 'Lockie', 'Peel', 'Torney', 'Reed', 'Gaumont', 'Millward', 'Knight', 'Hassan', 'Kenny', 'Kimble', 'Ball', 'Stuckey', 'Emmott', 'Petticrew', 'Montgomery', 'Mcrae', 'Freedman', 'Gilmore', 'Tyler', 'Nugent', 'Kewley', 'Fischer', 'Shanks', 'Findley', 'Fenn', 'Everitt', 'Tompkin', 'Sparkes', 'Smit', 'Kerrell', 'Finlay', 'Rhoades', 'Saxton', 'Brennan', 'Rowlands', 'Dowson', 'Jewett', 'Nineham', 'Forrest', 'Geyer', 'Heywood', 'Herron', 'Joseph', 'Griff', 'Haggett', 'Fenlon', 'Purse', 'Heron', 'Everson', 'Rose', 'Geeson', 'Cove', 'Nelms', 'Forde', 'Mistry', 'Auborn', 'Pitts', 'Foss', 'Woodland', 'Wolfe', 'Robertson', 'Fountain', 'Torrens', 'Orrell', 'Bradshaw', 'Farnsworth', 'Dandy', 'Mullen', 'Amod', 'Erridge', 'Pitchford', 'Vyner', 'Arthur', 'Anwar', 'France', 'Ayton', 'Oakes', 'Edlington', 'Sutton', 'Radcliffe', 'Gall', 'Cowie', 'Ebeling', 'Petrova', 'Cotter', 'Mcnulty', 'Chidlow', 'Wilson', 'Laing', 'Clayton', 'Egleton', 'Ellingham', 'Fothergill', 'Wolstencroft', 'Falconer', 'Lewis', 'Gomez', 'Bishop', 'Whitmore', 'Hindle', 'Smythe', 'Alber', 'Oleary', 'Picot', 'Smith', 'Kensington', 'Plouvin', 'Anakin', 'Muir', 'Goldman', 'Vinny', 'Victor', 'Wellman', 'Leeming', 'Hallett', 'Mooney', 'Reisser', 'Clegg', 'Oxtoby', 'Davidson', 'Bates', 'Robbins', 'Vane', 'English', 'Ennis', 'Esan', 'Thatcher', 'Thurston', 'Hamnett', 'Symes', 'Stack', 'Arnott', 'Elwood', 'Lynes', 'Kram', 'Ripley', 'Burch', 'Yeardsley', 'Leal', 'Sampson', 'Milne', 'Cliff', 'Killock', 'Larsen', 'Steadman', 'Halford', 'Ahern', 'Oneill', 'Rowan', 'Quirke', 'Lindsay', 'Mcneil', 'Thurman', 'Jermy', 'Larsson', 'Alesbury', 'Kirkbride', 'Eagle', 'Vincent', 'Haines', 'Kinnear', 'Grady', 'Brown', 'Eatherington', 'Stedman', 'Buckley', 'Salisbury', 'Danks', 'Gilks', 'Ware', 'Orman', 'Newall', 'Welsh', 'Roffey', 'Nevis', 'Keetley', 'Ellery', 'Holloway', 'Moorhouse', 'Geaney', 'Palin', 'Karim', 'Oreilly', 'Crossley', 'Jubb', 'Singh', 'Collingwood', 'Grivet', 'Dowler', 'Wormald', 'Farrelly', 'Stoppard', 'Woolley', 'Whitley', 'Beck', 'Sargent', 'Rooney', 'Johnson', 'Thornton', 'Strachan', 'Derrick', 'Adamson', 'Kilbey', 'Ashe', 'Wilcox', 'Freeth', 'Burrows', 'Thornley', 'Ohalloran', 'Thorpe', 'Norgate', 'Shields', 'Lawton', 'Yeoman', 'Pemberton', 'Thurbon', 'Jukes', 'Gorman', 'Prendergast', 'Howarth', 'Lathey', 'Altham', 'Weaver', 'Titmarsh', 'Frostick', 'Sherwood', 'Guest', 'Dennis', 'Odling', 'Hind', 'Mackenzie', 'Shipley', 'Stone', 'Charnock', 'Aherne', 'Hyde', 'Elmes', 'Newbury', 'Reading', 'Howden', 'Perkin', 'Floyd', 'Fairbrace', 'Kendell', 'Linley', 'Hoult', 'Frame', 'Davenport', 'Thake', 'Weasley', 'Gibb', 'Ronald', 'Hennessy', 'Wigley', 'Talbot', 'Faye', 'Thelwell', 'Preece', 'Hurst', 'Robin', 'Whitfield', 'Eames', 'Mansfield', 'Allington', 'Appleby', 'Doherty', 'Waite', 'Walters', 'Turnham', 'Warden', 'Langton', 'Jewson', 'Dolman', 'Riches', 'Luke', 'Copley', 'Kilmurry', 'Tyman', 'Stannard', 'Stephens', 'Kearsley', 'Fairhurst', 'Jardine', 'Makin', 'Rumbold', 'Hole', 'Fernandez', 'Gandham', 'Eansworth', 'Binnington', 'Doyle', 'Moroney', 'Groom', 'Ryder', 'Windsor', 'Allan', 'Draper', 'Livermore', 'Grierson', 'Osullivan', 'Green', 'Poulton', 'Fish', 'Stanford', 'Jeffs', 'Farrell', 'Lohan', 'Spicer', 'Rees', 'Gascoyne', 'Darlington', 'Duncan', 'Saville', 'Lawrence', 'Elford', 'South', 'Davy', 'Mcdougall', 'Hough', 'Bryant', 'Philpott', 'Eade', 'Cheung', 'Khalid', 'Withers', 'Creasey', 'Wears', 'Tang', 'Linton', 'Wheatcroft', 'Daugherty', 'Macdonald', 'Healey', 'Yard', 'Turrell', 'Karne', 'Walpole', 'Lloyd', 'Bracey', 'Kingman', 'Bonner', 'Yarnold', 'Edmondson', 'Werrett', 'Steere', 'Milner', 'Jefferson', 'Deakin', 'Oldfield', 'Kinnaird', 'Wheeler', 'Hamill', 'Oneil', 'Peebles', 'Probert', 'Berger', 'Damon', 'Mcleod', 'Chadwick', 'Geary', 'Peach', 'Whittley', 'Timms', 'Doble', 'England', 'Elson', 'Norville', 'Epsom', 'Garratt', 'Buck', 'Moore', 'Underwood', 'Hollis', 'Ring', 'Yorston', 'Hawtin', 'Everton', 'Breen', 'Power', 'Osman', 'Johansen', 'Eddison', 'Stockley', 'Ayling', 'Higgs', 'Varndell', 'Salmon', 'Danby', 'Osborn', 'Oswald', 'Edgerton', 'Ludlow', 'Daniells', 'Hooton', 'Handley', 'Ferry', 'Yeung', 'Jenkins', 'Wardle', 'Anker', 'Welch', 'Barrett', 'Trent', 'Lind', 'Elworthy', 'Olsen', 'Markham', 'Rennalls', 'Rollinson', 'Eadie', 'Wiles', 'Isman', 'Macarthur', 'Donnelly', 'Ilsley', 'Pell', 'Rouse', 'Jansen', 'Benjamin', 'Gold', 'Kent', 'Pendleton', 'Calveley', 'Corbett', 'Sheehan', 'Good', 'Maher', 'Barron', 'Tindall', 'Lewin', 'Lowdon', 'Tonge', 'Purcell', 'Unwin', 'Daniels', 'Traynor', 'Conrad', 'Kaufman', 'Ganivet', 'Bourne', 'Driffield', 'Bone', 'Seer', 'Wrigglesworth', 'Kenward', 'Drury', 'Kruger', 'Cowley', 'May', 'Piercey', 'Essan', 'Odea', 'Tuthill', 'Jordan', 'Kouma', 'Alsop', 'Pawson', 'Kay', 'Ewing', 'Barr', 'Pennell', 'Tunstall', 'Whelan', 'Mcphail', 'Mccormick', 'Swanson', 'Dobbins', 'Gilbey', 'Veitch', 'Oman', 'Mcbain', 'Aylott', 'Childs', 'Major', 'Roche', 'Pedley', 'Gilder', 'Doran', 'Kapoor', 'Finnigan', 'Bloom', 'East', 'Whitehead', 'Chantler', 'Apsley', 'Elmhirst', 'Turnbull', 'Raymond', 'Duval', 'Sharpe', 'Mcewan', 'Simmonds', 'Toal', 'Khalil', 'Mears', 'Topham', 'Pegg', 'Jolley', 'Jiggens', 'Tansley', 'Love', 'Rumsey', 'Michael', 'Armstrong', 'Goldsmith', 'Farge', 'Eley', 'Mohamed', 'Keene', 'Keane', 'Dunlop', 'Acton', 'Pigott', 'Ralph', 'Hale', 'Newell', 'Lowes', 'Varley', 'Tidmarsh', 'Tolley', 'Levann', 'Bryan', 'Alway', 'Egerton', 'Jeffries', 'Walls', 'Dutt', 'Thorp', 'Pullen'], 'Chinese': ['Nie', 'Sze ', 'Geng', 'Seto', 'Kuang', 'Khoo', 'Ban', 'Long', 'Chai', 'Lin', 'Joe', 'Yin', 'Sam', 'Wong', 'Yau', 'Wei', 'Lau', 'Tan', 'Rang', 'Shui', 'Guo', 'Qiu', 'Siew', 'Peng', 'Xiong', 'Hou', 'Xun', 'Zhui', 'Cong', 'Hsiao', 'Kong', 'Man', 'Lim', 'Jiao', 'Zhuan', 'See ', 'Tong', 'Mao', 'Hang', 'Chin', 'Cheung', 'Teoh', 'Que', 'Yao', 'Zheng', 'Mar', 'Zhen', 'Cao', 'Yang', 'Foong', 'Dai', 'Gim'], 'Portuguese': ['Pinho', 'Gouveia', 'Barros', 'Cardozo', 'Romão', 'Crespo', \"D'cruz\", 'Ferreira', 'Santiago', 'Mendes', 'Abreu', 'Silveira', 'Mateus'], 'Irish': ['Bradan', 'William', 'Gallchobhar', 'Scolaidhe', 'Casey', 'Quigley', 'Sheehy', 'Adam', 'Patrick', \"O'Bree\", 'Teague', \"O'Donnell\", \"O'Hare\", 'Eoghan', 'Bhrighde', 'Caomh', 'Colman', 'Donovan', \"O'Neal\", 'Reagan', 'Dubhain', 'Cleirigh', 'Kennedy', 'Raghailligh', 'Milligan', \"O'Brien\", 'Murphy', 'Flann', 'Ceallachan', 'Taidhg', \"O'Mahoney\", 'Macdermott', 'Sechnall', \"O'Mooney\", 'Neil', 'Naomhan', 'Doyle', 'Cathan', 'Ruadhan', 'Mcguire', \"O'Ryan\", 'Macghabhann', 'Mullen', 'Rinn', 'Domhnall', 'Maceachthighearna', 'Faolan', \"O'Brien\"], 'Scottish': ['Mackenzie', 'Murray', 'Martin', 'Davidson', 'Craig', 'Allan', 'Wallace', 'Hughes', 'Miller', 'Munro', 'Kennedy', 'White', 'Ritchie', 'Bruce', 'Sinclair', 'Shaw', 'Jones', 'Gordon', 'Ferguson'], 'Polish': ['Jaskolski', 'Marek', 'Dziedzic', 'Sokoloff', 'Auttenberg', 'Bartosz', 'Serafin', 'Stanek', 'Niemec', 'Bobienski', 'Zdunowski', 'Chlebek', 'Paszek', 'Król', 'Gniewek', 'Ślusarski', 'Kijek', 'Poplawski', 'Wyrick', 'Miazga', 'Rudaski', 'Filipek', 'Jordan', 'Warszawski', 'Stawski', 'Kowalski', 'Górka', 'Smolák'], 'German': ['Ursler', 'Diefenbach', 'Jordan', 'Cline', 'Oppenheimer', 'Von grimmelshausen', 'Freund', 'Vieth', 'Voß', 'Wang', 'Böttcher', 'Freudenberger', 'Bader', 'Dürr', 'Boer', 'Wildgrube', 'Neuman', 'Martin', 'Richard', 'Bambach', 'Jollenbeck', 'Buchholz', 'Waltz', 'Bocker', 'Oberst', 'Mein', 'Boehler', 'Mandel', 'Borchard', 'Everhart', 'Siekert', 'Dreschner', 'West', 'Sturm', 'Schwangau', 'Acker', 'Metz', 'Krauss', 'Kruger', 'Siskin', 'Krauß', 'Roth', 'Krause', 'Karl', 'Stenger', 'Sommer', 'Samuel', 'Forst', 'Eberhardt', 'Kleid', 'Königsmann', 'Schultes', 'Wähner', 'Drechsler', 'Seelenfreund', 'Albrecht', 'Kempf', 'Kramer', 'Hutmacher', 'Armbruster', 'Paternoster', 'Adlersflügel', 'Loewe', 'Senft', 'Lawerenz', 'Buckholtz', 'Bachmeier', 'Stark', 'Hoffman', 'Lohrenz', 'Holzknecht', 'Gottlieb', 'Gerhardt', 'Giehl', 'Lawrenz', 'Schräder', 'Horn', 'Maus', 'Hofer', 'Gunther', 'Kolbe', 'Groos', 'Weeber', 'Simen', 'Faust', 'Frank', 'Kerwar', 'Silverstein', 'Hellewege', 'Albert', 'Schuchardt', 'Tiedeman', 'König', 'Von brandt', 'Paul', 'Gensch', 'Langer', 'Garber', 'Sauber', 'Weiner', 'Schermer', 'Linden', 'Breiner', 'Hass', 'Havener', 'Baumhauer', 'Steen', 'Waldfogel', 'Goebel', 'Behrend', 'Rothbauer', 'Achterberg', 'Spellmeyer', 'Hofmann', 'Schuttmann', 'Walkenhorst', 'Kopp', 'Sulzbach', 'Houk', 'Grosser', 'Pfenning', 'Falk', 'Rademaker', 'Shriver', 'Holzmann', 'Foerstner', 'Herrmann', 'Rose', 'Rothschild', 'Schneider', 'Brand', 'Meisner', 'Michel', 'Martell', 'Wedekind', 'Berger', 'Penzig', 'Gerver', 'Böhmer', 'Tschida', 'Köhler', 'Wegener', 'Lorenzen', 'Zimmerman', 'Kruckel', 'Schmid'], 'Greek': ['Fourakis', 'Ruvelas', 'Eatros', 'Batsakis', 'Hadjiyianakies', 'Liatos', 'Geracimos', 'Koumanidis', 'Kringos', 'Chrysanthopoulos', 'Vourlis', 'Paraskevopoulos', 'Gavril', 'Spyridis', 'Tselios', 'Moraitopoulos', 'Antonopoulos', 'Samios', 'Antonakos', 'Bursinos', 'Close', 'Maneates', 'Antonopoulos', 'Petrakis', 'Kaglantge', 'Pappayiorgas', 'Makricosta', 'Demetrious', 'Tsahalis', 'Totolos', 'Kanavos', 'Strilakos', 'Demakis', 'Karnoupakis', 'Dritsas', 'Pezos', 'Gomatos', 'Karahalios', 'Chrysanthopoulos', 'Poniros'], 'Russian': ['Otstavnov', 'Onuchin', 'Onischuk', 'Otradnov', 'Senyakovich', 'Ondrikov', 'Pokhitonov', 'Omoloev', 'Shahnarovich', 'Pontekorvo', 'Shadura', 'Ponedelkov', 'Shaikin', 'Prigov', 'Shahorin', 'Shahmaev', 'Pitel', 'Saker', 'Zolotarevsky', 'Pavlyuchuk', 'Haladzhan', 'Helimsky', 'Schebrov', 'Ponedelnik', 'Zharsky', 'Pirsky', 'Pohvisnev', 'Zhelvakov', 'Zhigachev', 'Shainsky', 'Shahlevich', 'Yudolovich', 'Piradov', 'Hanjin', 'Hain', 'Seredov', 'Pahomov', 'Harahinov', 'Habin', 'Heveshi', 'Paragulgov', 'Halfin', 'Hlgatyan', 'Pavkin', 'Zhuchenko', 'Baiburtyan', 'Yudkin', 'Zhekulin', 'Shen', 'Babikov', 'Pohilchuk', 'Bakh', 'Zherebovich', 'Baram', 'Zhigulenkov', 'Holeva', 'Prigara', 'Shening', 'Hairullov', 'Tsaliev', 'To The First Page', 'Tuporshin', 'Hirikilis', 'To The First Page', 'Hetagurov', 'Babak', 'Bahanov', 'Tumolsky', 'Tsvetov', 'Valy', 'Julev', 'Voronikhin', 'Eidelstein', 'Yakovchenko', 'Turko', 'Tupihin', 'Bekleshov', 'Tujilkin', 'Jijin', 'Tamaev', 'Vihrev', 'Avdiev', 'Jatzkov', 'Toien', 'Yatzkovsky', 'Balahovsky', 'Zenin', 'Abdulrahmanov', 'Elebaev', 'Badygin', 'Adylov', 'Harkovchuk', 'Haletsky', 'Averotchkin', 'Birin', 'Petrov', 'Yatsun', 'Agadzhanoff', 'Tcharukhin', 'Zhmakin', 'Jamschikov', 'Hahva', 'Julyabin', 'Hazanovich', 'Varakuta', 'Poyarkov', 'Engelke', 'Valtuh', 'Abubakirov', 'Atamanenko', 'Agakhanyan', 'Awetisyan', 'Yangarber', 'Harkin', 'Abylgaziev', 'Balandin', 'Avrutsky', 'Egiazarov', 'Yugov', 'Agabekov', 'Abashev', 'Vyhodtsev', 'Voznitsin', 'Hadarin', 'Belorossov', 'Plis', 'Piskus', 'Tzaplinsky', 'Yanenko', 'Baigildeev', 'Avtomovich', 'Jiro', 'Agranovich', 'Batsura', 'Engel', 'Holkin', 'Jidkin', 'Jadrennikov', 'Tokarenko', 'Tziolkovsky', 'Belkov', 'Jurman', 'Abdullin', 'Polilov', 'Dubina', 'Fabrichnikov', 'Yadrihinsky', 'Beltsev', 'Ablesimoff', 'Dzhatdoev', 'Dobryansky', 'Tsann-Kay-Si', 'Galevko', 'Dogadaev', 'Jamsuev', 'Atyurievsky', 'Jidelev', 'Jagodnikov', 'Zhernosek', 'Yadryshnikov', 'Jarkov', 'Jeltuhin', 'Zhukovets', 'Baiteryakov', 'Zhidilev', 'Pitaevsky', 'Haitov', 'Hapov', 'Potseiko', 'Jeleznov', 'Vesner', 'Pechenezhsky', 'Piruzyan', 'Tulyakov', 'Belotsvetov', 'Habelashvili', 'Polivanov', 'Djunkovsky', 'Egorov', 'Hardin', 'Andrukhovich', 'Yagutyan', 'Polibin', 'Pavlinov', 'Abaleshev', 'Badikoff', 'Derich', 'Turtsevich', 'Enman', 'Bagashev', 'Jilyuk', 'Adelhanov', 'Uhin', 'Vajorov', 'Jminko', 'Tomashev', 'Bakhtchivandzhi', 'Hamatnurov', 'Filippov', 'Zhura', 'Hlyzov', 'Loson', 'Gorbunov-Posadov', 'Promyslov', 'Hityaev', 'Deniskin', 'Gaskov', 'Hatuntsev', 'Viselov', 'Jura', 'Lezhenko', 'Schepiorko', 'Lyskov', 'Saksagansky', 'Agasaroff', 'Pazi', 'Enukidze', 'Zhevlakov', 'Ajiganoff', 'Jeliba', 'Habirov', 'Lebedich', 'Portnov', 'Alchevsky', 'Ponomarkov', 'Abdeev', 'Jakunkin', 'Abragam', 'Ageshin', 'Sakiyaev', 'Gramatke', 'Abelev', 'Bakhmetoff', 'Tokmakov', 'Pahtanov', 'Vybornov', 'Helvas', 'Schepetkov', 'Tupolev', 'Gudimov', 'Tsekhanovich', 'Jekulin', 'Pokhodin', 'Kablov', 'Ziyatdinov', 'Bazilev', 'Shalabanov', 'Pavlushin', 'Horujev', 'Vilde', 'Valov', 'Gaskoin', 'Teunaev', 'Mikhailjuk', 'Tupikhin', 'Lapikov', 'Zhiritsky', 'Jeryapin', 'Hlestov', 'Getselev', 'Beknazar-Yuzbashev', 'Yukhtanov', 'Moschenko', 'Bakunovets', 'Piskunov', 'Tikhonravov', 'Luhmanov', 'Valkin', 'Jakubonis', 'Granov', 'Bilderling', 'Gladenkov', 'Darkov', 'Mokhorov', 'Jirnov', 'Zhurakovsky', 'Eifman', 'Mikhalevich', 'Piskarev', 'Tokmagambetov', 'Halimov', 'Junin', 'Aboyantsev', 'Berezin', 'Minding', 'Lodkin', 'Digurov', 'Podsvirov', 'Mischikhin', 'Abdrazakov', 'Leiberov', 'Shamsiev', 'Mozhartsev', 'Jadovsky', 'Evsyutin', 'Zinder', 'Shamrun', 'Yadrikhinsky', 'Ajogin', 'Timakov', 'Nakhutin', 'Divov', 'Galkovsky', 'Dzhamaldinov', 'Jurov', 'Jatskov', 'Bakhlulzade', 'Jakunov', 'Likholat', 'Valihanov', 'Abrahimov', 'Kalinochkin', 'Yushnevsky', 'Lezhnin', 'Abalikhin', 'Janitsky', 'Agranov', 'Polikashkin', 'Miheenkov', 'Antohin', 'Pirin', 'Bahorin', 'Katzman', \"V'Unnikov\", 'Schkrebitko', 'Ekimov', 'Zhemchujnikov', 'Zhuravlenko', 'Djumagaliev', 'Lysikhin', 'Rjanov', 'Kabulov', 'Pawluk', 'Makhaev', 'Truchanow', 'Yudochkin', 'Eroshin', 'Gershkovitsh', 'Pridvorov', 'Mlechin', 'Judenkov', 'Tokombaev', 'Vymenets', 'Turlapov', 'Vyazmikin', 'Juhanaev', 'Vakichev', 'Tuktarov', 'Tsapaev', 'Baitov', 'Agrachev', 'Zhandarov', 'Bakhmatoff', 'Mihnov', 'Alhimov', 'Uemov', 'Adrov', 'Dobretsov', 'Tulohonov', 'Baichikov', 'Munehin', 'Pochtarev', 'Jamaltdinov', 'Jadan', 'Valtchuk', 'Govallo', 'Musahanyants', 'Jdanko', 'Yakubik', 'Yakimenko', 'Vyuchnov', 'Shirdov', 'Gulenko', 'Hudolei', 'Viharev', 'Gagulin', 'Shamanin', 'Gudarenko', 'Jatzyshin', 'Davidov', 'Yankovsky', 'Luppian', 'Fortov', 'Makaseev', 'Zhalnin', 'Zhovnerik', 'Sheludko', 'Badych', 'Saifutdinov', 'Atamanov', 'Serejin', 'Tsvibak', 'Martoyas', 'Adamov', 'Jaruev', 'Zhupanenko', 'Juzhalin', 'Li', 'Muzykin', 'Shakhnazaryants', 'Kalashnikov', 'Balahonov', 'Djabruev', 'Yaikbaev', 'Guzanov', 'Nasonov', 'Moloshnikov', 'Shadursky', 'Awduewski', 'Aderkas', 'Musalimov', 'Jidkikh', 'Alfimov', 'Zenchenko', 'Ponomarev', 'Jachevsky', 'Rujnikov', 'Tsagunov', 'Agaltsoff', 'Javoronkov', 'Bakhuta', 'Bahvaloff', 'Shirmankin', 'Halyuta', 'Bezrukov', 'Zhiharevitch', 'Berezutsky', 'Evdoshenko', 'Maksutov', 'Duronov', 'Agzamov', 'Grushetsky', 'Vilmont', 'To The First Page', 'Zolotar', 'Galkin', 'Abezgauz', 'Valev', 'Mihasenko', 'Nesvetaev', 'Baglaenko', 'Pahtel', 'Chepygin', 'Everstov', 'Grushevoi', 'Turyansky', 'Lihtentul', 'Dubelt', 'Saifitdinov', 'Fazilov', 'Abolins', 'Eihenbaum', 'Danisevich', 'Peltser', 'Geftler', 'Bahin', 'Yakhnenko', 'Zabrovsky', 'Chusov', 'Marsky', 'Sen', 'Bestemyanov', 'Agudoff', 'Visnapu', 'Galler', 'Tchartorijsky', 'Baramidze', 'Jatzevich', 'Nosik', 'Golosov', 'Abushenko', 'Gulyashko', 'Babenchikov', 'Bawin', 'Awetyan', 'Danilchuk', 'Mochanovsky', 'Bahmetev', 'Zhelezovsky', 'Grammatikov', 'Awramchik', 'Makhmudov', 'Vikulov', 'Mikhailyuk', 'Durasov', 'Lihtenshtedt', 'Tzarek', 'Fortunov', 'Rovnev', 'Jagudin', 'Chamov', 'Mihnevich', 'Tselischev', 'Tsarik', 'Zelenkin', 'Shirmanov', 'Uhanov', 'Zenkov', 'Abrajevich', 'Avdiewski', 'Porohov', 'Tikhotsky', 'Gastello', 'Zhevahov', 'Abakushin', 'Atyashkin', 'Beilin', 'Gayanov', 'Agatoff', 'Minovalov', 'Holodovsky', 'Tursunov', 'Zhevanov', 'Birich', 'Tzapin', 'Durakov', 'Zelenov', 'Yamschikov', 'Hundanov', 'Darminov', 'Gluskin', 'Gaubrich', 'Avvakumoff', 'Tulinov', 'Rahimbaev', 'Bah', 'Frolov', 'Danichenko', 'Matsaev', 'Jamlikhanov', 'Raikhlin', 'Chuvaldin', 'Geft', 'Baburoff', 'Lupichev', 'Zhurbin', 'Podsevalov', 'Lebin', 'Kalautov', 'Golomovzy', 'Janaslov', 'Otlivschikov', 'Elensky', 'Kalinkin', 'Lischenko', 'Hulhachiev', 'Haradze', 'Bilinsky', 'Abramtsev', 'Awramenko', 'Zhilyardy', 'Timashuk', 'Govoruhin', 'Chursalov', 'Makhalin', 'Vyskrebtsov', 'Lymarev', 'Hayaletdinov', 'Bakkarevitch', 'Batsevich', 'Minuhin', 'Mihailichenko', 'Bakrymoff', 'Tursky', 'Mihnev', 'Enns', 'Behmetiev', 'Zhikin', 'Alsky', 'Vozgov', 'Raimanov', 'Abramov', 'Agaltsov', 'Jankilovich', 'Talyzin', 'Awdyukoff', 'Zeleny', 'Chevtzoff', 'Chuhadjyan', 'Abramkoff', 'Kalentiev', 'Avelan', 'Jalnin', 'Zhimerin', 'Bakerkin', 'Yudasin', 'Vasyuchkov', 'Pirojkov', 'Vaidanovich', 'Moshnyaga', \"Dar'In\", 'Rahmilovich', 'Vaitsehovsky', 'Gordyushin', 'Porval', 'Erjenkov', 'Tzallagov', 'Dehant', 'Djikovich', 'Grot', 'Lihodedov', 'Grigorevsky', 'Djejela', 'Visnap', 'Kabatsky', 'Leites', 'Junusov', 'Bajinov', 'Bakum', 'Rzheshevsky', 'Bakshansky', 'Jidenko', 'Chizhik', 'Hitrenko', 'Fofanov', 'Rotshtein', 'Lapenkov', 'Nizhevyasov', 'Homyakov', 'Zhunin', 'Talapa', 'Yakshin', 'Pytel', 'Aboimoff', 'Minh', 'Valiullin', 'Lysyuk', 'Neverov', 'Jurakovsky', 'Turarov', 'Bakulin', 'Belotserkovsky', 'Zheryapin', 'Yuzin', 'Eilenkrig', 'Eimontov', 'Leihtenbergsky', 'Grokhov', 'Mukovozov', 'Yatskevich', 'Fedosov', 'Antyshev', 'Tubelsky', 'Lystsov', 'Martkovich', 'Vintikov', 'To The First Page', 'Elesin', 'Hlopov', 'Dyakov', 'Ryzhkov', \"V'Yunkov\", 'Chekin', 'Chuvatkin', 'Moshenkov', 'Awryasoff', 'Hodorovich', 'Enileev', 'Grodsky', 'Adlerberg', 'Rendino', 'Granik', 'Averin', 'Grigorenko', 'Prygoda', 'Jankilevsky', 'Leizerman', 'Cheplakov', 'Dobryshev', 'Rukhlyadko', 'Bagaev', 'Ryzhankov', 'Mliss', 'Chukhlomsky', 'Renne', 'Bavilin', 'Adabir', 'Abakumoff', 'Babichenko', 'Rivman', 'Vil', 'Lapitsky', 'Eizhvertin', 'Zinoviev', 'Morenets', 'Bahmin', 'Mahalov', 'Dargevich', 'Jabotinsky', 'Hudiev', 'Bahchivandji', 'Yudkov', 'Baboshkin', 'Vihlyaev', 'Pakhunov', 'Eizenstein', 'Tchekhovich', 'Zelensky', 'Batukov', 'Abankin', 'Valtchikovsky', 'Zhaivoronok', 'Jemlikhanov', 'Ujvy', 'Ligorner', 'Pajitnov', 'Abdrazakoff', 'Tal', 'Bagretsov', 'Katsuba', 'Levitis', 'Jarmukhamedov', 'Bessonov', 'Denisov', 'Ponagushin', 'Hakamada', 'Ageichik', 'Mozheiko', 'Gatin', 'Bilimovich', 'Hlestkov', 'Liharev', 'Ruslanov', 'Divilkovsky', 'Astyrev', 'Tsigal', 'Tumanovsky', 'Kablukov', 'Fabrikant', 'Ens', 'Zhurov', 'Miniahhmetov', 'Useev', 'Beloborodov', 'Tovbin', 'Nasetkin', 'Nijegorodov', 'Mudrak', 'Gasanov', 'Jilyakov', 'Gransky', 'Almetiev', 'Glasko', 'Belov', 'Nesmachko', 'Mihalkovsky', 'Yagupa', 'Dubrovsky', 'Bakhtov', 'Jerebin', 'Dubkoff', 'Enden', 'Zhaba', 'Huramshin', 'Vaisner', 'Rakhamimov', 'Glavinsky', 'Gagarinsky', 'Vagapov', 'Matzko', 'Dzhindo', 'Vilchur', 'Yakushevich', 'Utrobin', 'Abzhaliloff', 'Jiharevitch', 'Antoschin', 'Nutrihin', 'Antushevsky', 'Bairamukoff', 'Dubrovin', 'Huraskin', 'Yadrov', 'Bachelis', 'Tumilovich', 'Tzelovalnikov', 'Goloborodov', 'Andrusenko', 'Porhun', 'Sakin', 'Ivchenko', 'Vyjletsov', 'Virehovsky', 'Vydrin', 'Horalya', 'Hudokormov', 'Durov', 'Dzhumagaliev', 'Alybin', 'Baiborodov', 'Chuhin', 'Multyh', 'Jejera', 'Bahturin', 'Pirozhkov', 'Tumunbayarov', 'Belchikov', 'Baevski', 'Jaglintsev', 'Chepraga', 'Pontryagin', 'Rotenberg', 'Jakubov', 'Serechenko', 'Judinsky', 'Ruhimovich', 'Dikusar', 'Vinchevsky', 'Mahanov', 'Habov', 'Bawilin', 'Dzhahaya', 'Adonts', 'Abarinoff', 'Alperovich', 'Makhmutov', 'Natashkin', 'Abov', 'Adelhanoff', 'Prokudin', 'Fionov', 'Vedeneev', 'Bekoryukov', 'Bazhanov', 'Timerbulatov', 'Tomas', 'Nyuren', 'Davydovich', 'Didevich', 'Nurzat', 'Goloborodko', 'Awranek', 'Saifulov', 'Bildin', 'Turlak', 'Yuhma', 'Potsepkin', 'Veselenko', 'Abdulladjanov', 'Zhitkov', 'Mohnatkin', 'Janenko', 'Abuzov', 'Murylev', 'Yuferov', 'Jvirblis', 'Pelyushenko', 'Atiskov', 'Egamberdiev', 'Jandutkin', 'Jigalin', 'Likhodeev', 'Yalunin', 'Jebelev', 'Lyskin', 'Ryjenkov', 'Glaziev', 'Hanykov', 'Awroff', 'Awtamonoff', 'Yakuschenko', 'Pochkailo', 'Gasinov', 'Averbuh', 'Vestov', 'Abramkov', 'Lizorkin', 'Shalnov', 'Shakhnazarov', 'Glazov', 'Kalitin', 'Yatsyk', 'Ladyjnikov', 'Agoev', 'Hanetsky', 'Mohorov', 'Mukomel', 'Dovjuk', 'Grant', 'Bahshiev', 'Lejnin', 'Zhavrid', 'Balazovsky', 'Antoshevsky', 'Harlinsky', 'Awerianoff', 'Muksunov', 'Aganov', 'Awerintsev', 'Turatbekov', 'Chadrantsev', 'Luss', 'Velikorussov', 'Guzevatov', 'Muzenitov', 'Alchubaev', 'Doguzov', 'Azhaev', 'Kalesnik', 'Berezitzky', 'Yukhtman', 'Pensky', 'Yudinsky', 'Pechatnov', 'Galkus', 'Martyuk', 'Jangel', 'Anistratenko', 'Belokhin', 'Veprentsev', 'Abolin', 'Uchaev', 'Moh', 'Tsai', 'Glazaty', 'Anisimkin', 'Bagmewsky', 'Mihalev', 'Katsev', 'Fedotiev', 'Nesmelov', 'Yuhotsky', 'Ilyasov', 'Atalikov', 'Balahowski', 'Tsarek', 'Bakhusoff', 'Kachemaev', 'Anofriev', 'Marshansky', 'Imeretinsky', 'Mokryak', 'Novosiltsev', 'Avakoff', 'Martinovsky', 'Seredavin', 'Avelitchev', 'Bagmet', 'Gudoshin', 'Yuzefovich', 'Zherikhin', 'Tzekhansky', 'Bahmutoff', 'Handorin', 'Movshovich', 'Diky', 'Zhimila', 'Vikhirev', 'Kabakov', 'Polikanov', 'Raitses', 'Vainrub', 'Shenfer', 'Animitsa', 'Baklanov', 'Nezamutdinov', 'Kaberov', 'Morehin', 'Onchukov', 'Hasainov', 'Chijov', 'Jalchevsky', 'Halatnikov', 'Frolovsky', 'Vagizov', 'Gujva', 'Bakheloff', 'Baibikoff', 'Leikin', 'Mnuskin', 'Agenosoff', 'Groshikov', 'Agamoff', 'Prigorovsky', 'Graifer', 'Jakunichev', 'Tovstolit', 'Shalahonov', 'Adamyuk', 'Marlovetsky', 'Lohanin', 'Chuho', 'Chekachev', 'Zheimo', 'Jahnyuk', 'Yanek', 'Tsaizer', 'Hoteev', 'Mordkin', 'Juzva', 'Vinkler', 'Lezhankin', 'Baidavletov', 'Chikirev', 'Parenago', 'Jabinsky', 'Mkrtumov', 'Baksheev', 'Grigolyuk', 'Lyvin', 'Batchaldin', 'Hlobystov', 'Her', 'Yagofarov', 'Nosach', 'Taliev', 'Erusalimchik', 'Avinovitski', 'Jagfarov', 'Ustinchenko', 'Veprentsov', 'Gordeev', 'Glazychev', 'Guzichenko', 'Mstislavets', 'Jiboedov', 'Zhenin', 'Zenzinov', 'Maryashev', 'Shakhbazov', 'Avlukov', 'Zhitlukhin', 'Remyannikov', 'Zhabinsky', 'Katsur', 'Yakhnyuk', 'Tzegoev', 'Gladysh', 'Kaliashvili', 'Tihomirnov', 'Timaev', 'Helashvili', 'Gladkih', 'Jam', 'Yuzefov', 'Atramov', 'Babenyshev', 'Vizhonsky', 'Galda', 'Zhirenkin', 'Zavodskoi', 'Rehbinder', 'Vavkin', 'Haibullin', 'Avrus', 'Shaimardanov', 'Awdonin', 'Omelyanenko', 'Jdanov', 'Paharkov', 'Homutnikov', 'Rovnyansky', 'Bestuzhev-Lada', 'Bakunts', 'Pokhis', 'Jachmentsev', 'Cheh', 'To The First Page', 'Mahinov', 'Babushkin', 'Drozdetsky', 'Hapchaev', 'Avakov', 'Abdrashitov', 'Vikhrov', 'Mikhnov', 'Makhorin', 'Demirchyan', 'Markushev', 'Vyalyh', 'Bazhenov', 'Utyaganov', 'Lohtin', 'Beiman', 'Alcheka', 'Chaldymov', 'Fedotov', 'Jituhin', 'Lubutin', 'Bajanov', 'Averchev', 'Jikov', 'Yukhov', 'Lepihov', 'Adelhanyan', 'Veprik', 'Renkevich', 'Avksentievsky', 'Gribachev', 'Porhunov', 'Kachainik', 'Bakihanoff', 'Vyaznikov', 'Hitrun', 'Gorbikov', 'Michurin', 'Gribin', 'Mischenkov', 'Hamadullin', 'Talov', 'Lihterman', 'Batchmanov', 'Jakimychev', 'Babochkin', 'Kaliberda', 'Veltischev', 'Tzeboev', 'Baisarov', 'Tron', 'Sakulin', 'Tcharnolusky', 'Lohanov', 'Hapaev', 'Zitserman', 'Chukhrov', 'Andreichik', 'Djigit', 'Adzhaloff', 'Lebidko', 'Remezentsev', 'Awiloff', 'Jukov', 'Katzan', 'Goloveshkin', 'Jigailo', 'Zherebyatiev', 'Bavykin', 'Chalov', 'Babaev', 'Awelicheff', 'Doveiko', 'Schevaev', 'Pitkevich', 'Mihailin', 'Shain', 'Adroff', 'Jarkih', 'Yuhtman', 'Nyrkov', 'Zingman', 'Matsnev', 'Dmitrochenko', 'Ryjov', 'Bagalin', 'Beloschin', 'Shaidurov', 'Bakihanov', 'Hugaev', 'Bereznevich', 'Amelyakin', 'Awraamoff', 'Babenkoff', 'Hakimov', 'Averianov', \"At'Kov\", 'Pochinok', 'Zhadenov', 'Mombelli', 'Onilov', 'Doich', 'Bahtiyaroff', 'Isaiko', 'Rahmaninov', 'Tupalo', 'Vilyamovsky', 'Jivulin', 'Porokhnya', 'Zhimulev', 'Padalkin', 'Avranek', 'Iskenderov', 'Jeltyannikov', 'Bawidov', 'Oborkin', 'Lebereht', 'Gayulsky', 'Ruzavin', 'Zhilinsky', 'Homenko', 'Abelyan', 'Neznanov', 'Lygach', 'Jakimov', 'Andreichev', 'Avanesov', 'Bakov', 'Isaakidis', 'Baka', 'Katzenelenbaum', 'Limanov', 'Jejel', 'Awdyunin', 'Plihin', 'Loevsky', 'Livson', 'Rohatsevich', 'Katsan', 'Jitnikov', 'Marfusalov', 'Demich', 'Yagich', 'Harchevnikov', 'Baggovut', 'Tcheharin', 'Abdulkadyroff', 'Sheludshev', 'Yakovets', 'Talitskih', 'Grushenko', 'Neskorodev', 'Mindibekov', 'Researcher', 'Utoplov', 'Vijonsky', 'Vedikhov', 'Ruhtoev', 'Jmotov', 'Feschenko', 'Kartoshkin', 'Gorsun', 'Davlatov', 'Chadin', 'Averyanov', 'Islon', 'Bakuroff', 'Churshukov', 'Juon', 'Agramov', 'Mihalevsky', 'Vasindin', 'Jujnev', 'Awaeff', 'Jafaev', 'Baitchenko', 'Altentaller', 'Bahtin', 'Jechkov', 'Awrutsky', 'Babanin', 'Kalatsky', 'Nasrullaev', 'Gridnev', 'Mozhin', 'Likhodedov', 'Richardson', 'Vilchinsky', 'Zherebko', 'Valiakhmetov', 'Nelyubin', 'Rjavinsky', 'Raikin', 'Jeravin', 'Govendyaev', 'Yakunkin', 'Kalikhman', 'Raifeld', 'Zhdakaev', 'Novoselski', 'Bakradze', 'Uchitel', 'Lappo', 'Grosu', 'Ryjy', 'Rivel', 'Vyshnegradsky', 'Gorchinsky', 'Zhavoronkov', 'Zhuruli', 'Zhuravsky', 'Emanov', 'Usik', 'Yanalov', 'Eidelman', 'Jakushev', 'Jablovsky', 'Varakin', 'Vyzhletsov', 'Dobronos', 'Balaev', 'Vanetchkin', 'Anuprienko', 'Deripaska', 'Ableuhov', 'Fisichev', 'Ustryalov', 'Yankov', 'Gasilov', 'Lyhin', 'Vazyaev', 'Gorbuzenko', 'Vyshinsky', 'Vyrubov', 'Morozov', 'Hramov', 'Gaguliya', 'Danilyak', 'Isakov', 'Lezjov', 'Nezvigin', 'Tsalko', 'Marchuk', 'Adibekov', 'Movchan', 'Dogmarov', 'Balasoglo', 'Bekhterev', 'Adulov', 'Bibler', 'Maksimyuk', 'Tzarkov', 'Batugin', 'Gesse', 'Bassin', 'Tundykov', 'Djamaldinov', 'Balavensky', 'Lischuk', 'Zhurikhin', 'Zhalilo', 'Mihalsky', 'Chalyshev', 'Peltsman', 'Chijevsky', 'Glukhov', 'Divin', 'Veselkov', 'Averbuch', 'Viner', 'Teterkin', 'Patzev', 'Davlertgareev', 'Rakhimbaev', 'Vozlyubleny', 'Uss', 'Kalikyan', 'Janimov', 'Zenischev', 'Tsaplin', 'Awtsin', 'Chepurov', 'Pylnev', 'Zolotavin', 'Kalatin', 'Tulubensky', 'Teteruk', 'Marutsky', 'Eberling', 'Charukhin', 'Gaspirovich', 'Bawtrukevitch', 'Iskandaryan', 'Hitarov', 'Hinchuk', 'Tuganov', 'Abzgildin', 'Jiril', 'Juravliov', 'Kalitinsky', 'Evstifeev', 'Martyushov', 'Pokhvisnev', 'Isakovsky', 'Eidman', 'Harito', 'Divinets', 'To The First Page', 'Mochulsky', 'Livenzon', 'Minnubaev', 'Velichko', 'Drozdkov', 'Patzyna', 'Djatdoev', 'Yuzhanov', 'Zherihin', 'Zheurov', 'Jagoda', 'Tsvei', 'Valdes', 'Baderskov', 'Matsukevich', 'Zhitinev', 'Albanov', 'Eremkin', 'Zasetsky', 'Golovatov', 'Rzhevsky', 'Mahortov', 'Vitryansky', 'Chepin', 'Matsyuk', 'Derfelden', 'Minovitsky', 'Zhulyabin', 'Yaganov', 'Tchanturia', 'Chyrgal-Ool', 'Vypolzov', 'Lotosh', 'Bajov', 'Haprov', 'Chuharev', 'Froman', 'Rengarten', 'Adams', 'Pakharkov', 'Zabrodin', 'Agrikov', 'Dubinkin', 'Verushkin', 'Moshetov', 'Tokaev', 'Muromtsev', 'Raikhman', 'Valdman', 'Vadovsky', 'Golovanets', 'Bilibin', 'Zhuravel', 'Lejava', 'Chaleev', 'Vainshtein', 'Shahkalamyan', 'Gordov', 'Yakutin', 'Saiko', 'Barandych', 'Bazunov', 'Guldin', 'Kaldybaev', 'Goncharuk', 'Loifman', 'Hlopkin', 'Chehladze', 'Guzner', 'Tsalyhin', 'Kalihanov', 'Nesselrode', 'Dahno', 'Azhiganoff', 'Jeromsky', 'Matsigura', 'Tchanyshev', 'Kabuzan', 'Dzhabrailov', 'Ruts', 'Pavlychev', 'Tikhonenko', 'Molnovetsky', 'Vanichev', 'Fazleev', 'Dovgel', 'Babayan', 'Avtaev', 'Novosadsky', 'Dubnikov', 'Anurov', 'Auerbakh', 'Chekh', 'Timin', 'Birkin', 'Martsenyuk', 'Martyshkin', 'Holodkov', 'Talpin', 'Schetinin', 'Hangurian', 'Vakulko', 'Jdanovich', 'Bazulin', 'Nahamkin', 'Rujenkov', 'Balabudkin', 'Makul', 'Galenkovsky', 'Baistryutchenko', 'Mogilner', 'Tchekhlakovsky', 'Mravinsky', 'Dobreitser', 'Kabjihov', 'Zheldakov', 'Molvo', 'Rustamov', 'Mokhosoev', 'Pochupailov', 'Minervin', 'Nakhimov', 'Matzyuk', 'Awerkowich', 'Troepolsky', 'Lutchenkov', 'Gulak', 'Mikhailin', 'Dav', 'Talalykin', 'Rotin', 'Levitt', 'Likhtentul', 'Mahurov', 'Tamanyan', 'Rakhov', 'Andrukhov', 'Glukharev', 'Zharnov', 'Jolkov', 'Nurullin', 'Minyaichev', 'Jestkov', 'Zavolokin', 'Yatskov', 'Turchak', 'Velichansky', 'Baderski', 'Bastrygin', 'Abaev', 'Martzevich', 'Vedrov', 'Badykshanoff', 'Mkrtchan', 'Avelichev', 'Kalintsev', 'Chekletsov', 'Drozdov', 'Daniltsev', 'Molyavin', 'Kachanovsky', 'Hisamutdinov', 'Lichkanovsky', 'Jakon', 'Anutriev', 'Kalimullin', 'Riga', 'Avtuhov', 'Zhidkov', 'Molokanov', 'Awloff', 'Martinkus', 'Moshkarkin', 'Gorskikh', 'Chertushkin', 'Vitoshnov', 'Lotsmanov', 'Rujentsov', \"Es'Kin\", 'Isanbet', 'Tsevlonsky', 'Nessen', 'Kalenov', 'Shel', 'Frolkov', 'Tukvachinsky', 'Vistitsky', 'Moshnikov', 'Awatyan', 'Zhemoitel', 'Awrorin', 'Rjeshevsky', 'Jemchujny', 'Juhman', 'Bakin', 'Hairetdinov', 'Pontovich', 'Bairashevsky', 'Babusenko', 'Vyshkovsky', 'Jushman', 'Djuro', 'Darenkov', 'Mikhailovsky', 'Hantuev', 'Albertini', 'Minkov', 'Bahtinov', 'Iskin', 'Jiznevsky', 'Vandalkovsky', 'Dijur', 'Murov', 'Bekker', 'Maksimychev', 'Zhogov', 'Awakyan', 'Dubentsov', 'Agenosov', 'Mniszech', 'Zavoisky', 'Fortygin', 'Time', 'Mohosoev', 'Detengof', 'Timonin', 'Nurjanov', 'Makhlinsky', 'Chepelyanov', 'Dantsig', 'Finogenov', 'Chertischev', 'Gulyansky', 'Vallakh', 'Jagovenko', 'Lokhmatikov', 'Bekmahanov', 'Luferov', 'Gansky', 'Abdrahimov', 'Hinchin', 'Haraman', 'Haneev', 'Vaarandi', 'Turik', 'Katz', 'Hlebnikov', 'Haliullin', 'Elentuh', 'Batchinsky', 'Tulya', 'Makhlai', 'Portnikov', 'Onusaitis', 'Mnatsakanov', 'Balawensky', 'Mikheikin', 'Imnadze', 'Otstavnoi', 'Zhigun', 'Rikhman', 'Durmanov', 'Divnov', 'Rukhimovich', 'Jalunin', 'Jokin', 'Granikov', 'Shahbanov', 'Bekyashev', 'Agaigeldiev', 'Glebovich', 'Jafrakov', 'Jakutin', 'Imendaev', 'Tchaganov', 'Avramov', 'Vederman', 'Zhelokhovtsev', 'Yakushkov', 'Desyatnikov', 'Paduchev', 'Darchinyants', 'Bir', 'Halyapin', 'Tcharykov', 'Livanov', 'Hanakhu', 'Lebedintsev', 'Yudaev', 'Zheltov', 'Tueshev', 'Omelin', 'Finyutin', 'Andreyanov', 'Tsanava', 'Lepikhov', 'Veligorsky', 'Badikov', 'Mogilevtsev', 'Shahnazaryants', 'Gridchin', 'Baer', 'Juravov', 'Ots', 'Tsvetaev', 'Bakhovkin', 'Hachapuridze', 'Shamardin', 'Babadei', 'Bakhin', 'Diveev', 'Haimi', 'Lezhikov', 'Vedensky', 'Ebzeev', 'Turischev', 'Jakuschenko', 'Homeriki', 'Zhaboev', 'Turyanov', 'Gulishambarov', 'Mochalygin', 'Ekin', 'Luhovitsky', 'Gul', 'Shakhmagon', 'Tsaran', 'Groundon', 'Vavra', 'Goloschapov', 'Agdarov', 'Tubli', 'Glukhman', 'Harik', 'Babakhanov', 'Pazdnikov', 'Vannovsky', 'Belinskij', 'Djevetsky', 'Bekhmetiev', 'Ilyukhin', 'Eremushkin', 'Chekhlakovsky', 'Mogila', 'Novosilsky', 'Charykov', 'Tchajengin', 'Binshtok', 'Prigozhy', 'Abaidullin', 'Kartashov', 'Jagubov', 'Ryjenko', 'Molodin', 'Mikhilev', 'Vaganov', 'Bazili', 'Kalaev', 'Mujkaterov', 'Bacherikoff', 'Modyaev', 'Vasyankin', \"Zasyad'Ko\", 'Bazowsky', 'Lebedyansky', 'Baglai', 'Saitov', 'Pecheritsa', 'Veltistov', 'Shamahov', 'Shalunov', 'Hegai', 'Moletotov', 'Mojartsev', 'Bimbas', 'Awerkoff', 'Admakin', 'Changli', 'Charoshnikov', 'Lupov', 'Shalaginov', 'Zhitluhin', 'Vysokosov', 'Vaigant', 'Martzenkov', 'Avanesyan', 'Yakubchik', 'Jijnov', 'Galei', 'Nizhegorodtsev', 'Hanifatullin', 'Albedinsky', 'Chepelkin', 'Anisimov', 'Yakubovich', 'Fedotko', 'Adigamoff', 'Jija', 'Mihailovich', 'Jamilov', 'Adadurov', 'Neverkovich', 'Balanovski', 'Elanin', 'Abletsov', 'Padkin', 'Pohlebkin', 'Valentik', 'Jernakov', 'Groshopf', 'Poshevnev', 'Mikhailyants', 'Shamraev', 'Hankeev', 'Minyajetdinov', 'Rahmatullin', 'Valyushkin', 'Utyashev', 'Balashov', 'To The First Page', 'Vyalko', 'Berezkin', 'To The First Page', 'Uzhvy', 'Dehtyarenko', 'Otchenashenko', 'Tovarovsky', 'Voronihin', 'Hasbulatov', 'Zhelezko', 'Chehanov', 'Lozovsky', 'Avkhimovich', 'Avdienko', 'Dudorov', 'Lepikhin', 'Luspekaev', 'Jivotinsky', 'Pohitonov', 'Bakhmutov', 'Tulin', 'Dzhincharadze', \"Dan'Ko\", 'Vagnoryus', 'Janovich', 'Janibekov', 'Ryjikh', 'Holschigin', 'Yudovich', 'Aboev', 'Rakhlevsky', 'Maksimovsky', 'Dzhanashia', 'Hlynov', 'Rutkovsky', 'Dobretsky', 'Galkin-Vraskoi', 'Vakker', 'Kalambetov', 'Maryasov', 'Azhiganov', 'Pavlukhin', 'Muijel', 'Eijvertin', 'Bazaev', 'Mollo', 'Paramonov', 'Abdulatipoff', 'Pechuev', 'Durnovtsev', 'Graminovsky', 'Hitrinsky', 'Baikowsky', 'Shirinyants', 'Mingalev', 'Mihalitsin', 'Drozdenko', 'Agapochkin', 'Shaikhmurzin', 'Valendik', 'Zimatsky', 'Balabuha', 'Bagishaev', 'Derfel', 'Vaskovsky', 'Lupin', 'Renov', 'Vyaznikovtsev', 'Yahot', 'Hudonogov', 'Agababoff', 'Rihman', 'Dehtyarev', 'Dojin', 'Polikarpov', 'Abyzov', 'Turutin', 'Dobulevich', 'Dargomyjsky', 'Voronin', 'Abramenkov', 'Shahovskoi', 'Balanchivadze', 'Chuta', 'Marusin', 'Yakovlev', 'Dovgyallo', 'Velikanov', 'Lezhnev', 'Tikhomirnov', 'Egle', 'Horoshih', 'Teterichev', 'Estafiev', 'Zolotarev'], 'Dutch': ['Nelissen', 'Marqueringh', 'Kollen', 'Koumans', 'Nagel', 'Meeuwsen', 'Koole', 'Schneider', 'Severins', 'Schorel', 'Althuis', 'Mas', 'Vliert', 'Klerks', 'Penners', 'Antwerp', 'Mertens', 'Laar', 'Schoorel', 'Canne', 'Peusen', 'Kuiper', 'Rossum', 'Snijder', 'Rameckers', 'Haenraats', 'Laren', 'Spijker', 'Antwerpen', 'Reinders', 'Buggenum', 'Houten', 'Denend', 'Houttum', 'Schenck', 'Ramaaker', 'Oirschot', 'Haenraets', 'Pender', 'Simonis', 'Arendonk', 'Lucas', 'Rijnders', 'Seghers', 'Agteren', 'Daal', 'Roijackers', 'Sniders', 'Rooijakker', 'Klerkse', 'Ogterop', 'Bokhoven', 'Kolijn', 'Reijnder', 'Rompa', 'Achteren', 'Tunison', 'Snyders', 'Rompa', 'Meeuwis', 'Vandale'], 'Spanish': ['Travieso', 'Robles', 'Losa', 'Rivera', 'Rodríguez', 'Aritza', 'Prieto', 'Villalobos', 'Franco', 'Abano', 'Huerta', 'Antúnez', 'Ferrer', 'Alfaro', 'Garza', 'Gonzalez', 'Viola', 'Romà', 'Perez', 'Echeverría', 'Alamilla', 'De la fuente', 'Duarte', 'Quirós', 'Urbina', 'Esparza', 'Ola', 'Oleastro', 'Bustos', 'Gebara', 'Benitez', 'Santana', 'Méndez', 'Agramunt', 'Jordà', 'Rios', 'Díaz', 'Espinoza', 'Iturburua', 'Narváez', 'Vargas', 'Torres', 'Palomo', 'Soler', 'Colón', 'Michel', 'Chavez', 'Suárez', 'Castellano', 'Machado', 'Vázquez', 'Sepúlveda', 'Busto', 'Medina', 'Obando', 'Cabrera', 'Martínez', 'Zamorano', 'Araullo', 'Abelló'], 'Korean': ['Cho', 'Jung ', 'Ri', 'Ngai', 'Lim ', 'Chong', 'Byon', 'Hong', 'Ron', 'Yim', 'Koo', 'Pae', 'Chou', 'Shon', 'Yang', 'Sung', 'Ma', 'Gil', 'Seok'], 'Vietnamese': ['Bui', 'Ma', 'Than', 'Phung', 'To', 'Quang', 'Lam', 'Van', 'Thi', 'Ha', 'Dinh', 'Le', 'Nghiem', 'Diep', 'Chu'], 'Arabic': ['Quraishi', 'Fakhoury', 'Rahal', 'Quraishi', 'Qureshi', 'Fakhoury', 'Maroun', 'Masih', 'Mifsud', 'Mansour', 'Maloof', 'Maroun', 'Basara', 'Fakhoury', 'Maroun', 'Bishara', 'Guirguis', 'Bishara', 'Mustafa', 'Maloof', 'Mustafa', 'Mifsud', 'Issa', 'Masih', 'Baba', 'Guirguis', 'Ganim', 'Mustafa', 'Baz', 'Assaf', 'Mikhail', 'Assaf', 'Cham', 'Rahal', 'Antoun', 'Naser', 'Bishara', 'Kalb', 'Antar', 'Nahas', 'Masih', 'Sarraf', 'Qureshi', 'Nader', 'Assaf', 'Asker', 'Salib', 'Bitar', 'Botros', 'Morcos', 'Shadid', 'Kattan', 'Fakhoury', 'Kalb', 'Kouri', 'Quraishi', 'Cham', 'Koury', 'Moghadam', 'Quraishi', 'Harb', 'Antoun', 'Awad', 'Khoury', 'Handal', 'Khoury', 'Baba', 'Bitar', 'Gaber', 'Sleiman', 'Ghanem', 'Assaf', 'Shamon', 'Abadi', 'Handal', 'Bahar', 'Saliba', 'Baz', 'Bazzi', 'Kattan', 'Saliba', 'Bitar', 'Ganem', 'Arian', 'Saliba', 'Nassar', 'Almasi', 'Issa', 'Ghanem', 'Nader', 'Ganim', 'Morcos', 'Mikhail', 'Awad', 'Salib', 'Essa', 'Baba', 'Asghar', 'Mansour', 'Kassis', 'Ghanem', 'Ganim', 'Bishara', 'Mustafa', 'Said', 'Bishara', 'Nader', 'Kassab', 'Isa', 'Haddad', 'Haddad', 'Shalhoub', 'Safar', 'Shamon', 'Kassis', 'Antar', 'Saliba', 'Shammas', 'Baz', 'Awad', 'Naifeh', 'Isa', 'Sleiman', 'Maalouf', 'Shadid', 'Samaha', 'Tahan', 'Antar', 'Shamon', 'Dagher', 'Tahan', 'Zogby', 'Srour', 'Wasem', 'Tannous', 'Mansour', 'Issa', 'Khoury', 'Tahan', 'Touma', 'Nahas', 'Bata', 'Boulos', 'Asghar', 'Salib', 'Asfour', 'Sarkis', 'Hadad', 'Sabbag', 'Sarkis', 'Rahal', 'Aswad', 'Bishara', 'Asghar', 'Tuma', 'Dagher', 'Boulos', 'Amari', 'Sabbag', 'Srour', 'Sarraf', 'Nahas', 'Totah', 'Hajjar', 'Gaber', 'Nader', 'Srour', 'Tahan', 'Bishara', 'Harb', 'Nader', 'Guirguis', 'Arian', 'Antoun', 'Essa', 'Rahal', 'Kalb', 'Amari', 'Sarkis', 'Wasem', 'Hadad', 'Abboud', 'Kattan', 'Nader', 'Arian', 'Gaber', 'Said', 'Shadid', 'Abadi', 'Ganem', 'Haik', 'Malouf', 'Amari', 'Said', 'Daher', 'Attia', 'Shadid', 'Tannous', 'Malouf', 'Nassar', 'Arian', 'Wasem', 'Hanania', 'Safar', 'Hanania', 'Tannous', 'Bitar', 'Sabbag', 'Dagher', 'Assaf', 'Ganim', 'Wasem', 'Deeb', 'Nazari', 'Naifeh', 'Isa', 'Said', 'Zogby', 'Haddad', 'Morcos', 'Antar', 'Kattan', 'Totah', 'Gaber', 'Sayegh', 'Said', 'Kanaan', 'Ghanem', 'Deeb', 'Safar', 'Dagher', 'Boutros', 'Fakhoury', 'Nazari', 'Tannous', 'Mifsud', 'Maroun', 'Mansour', 'Nahas', 'Said', 'Basara', 'Boulos', 'Asghar', 'Ganim', 'Koury', 'Toma', 'Gerges', 'Sayegh', 'Handal', 'Shamoun', 'Seif', 'Seif', 'Koury', 'Mustafa', 'Touma', 'Maalouf', 'Cham', 'Awad', 'Amari', 'Totah', 'Sayegh', 'Koury', 'Nahas', 'Hajjar', 'Hadad', 'Gerges', 'Hadad', 'Haddad', 'Bitar', 'Deeb', 'Sayegh', 'Hajjar', 'Kalb', 'Saliba', 'Hadad', 'Amari', 'Kassis', 'Seif', 'Naser', 'Antar', 'Shammas', 'Sleiman', 'Cham', 'Sayegh', 'Asker', 'Boutros', 'Kattan', 'Quraishi', 'Sayegh', 'Kattan', 'Naifeh', 'Atiyeh', 'Mustafa', 'Shamon', 'Hajjar', 'Mikhail', 'Zogby', 'Naifeh', 'Nassar', 'Zogby', 'Abboud', 'Haik', 'Atiyeh', 'Hajjar', 'Kattan', 'Tahan', 'Totah', 'Nassar', 'Naifeh', 'Almasi', 'Cham', 'Maroun', 'Gerges', 'Boulos', 'Said', 'Toma', 'Guirguis', 'Hanania', 'Antar', 'Bata', 'Koury', 'Koury', 'Haddad', 'Bitar', 'Salib', 'Malouf', 'Tuma', 'Shamoon', 'Salib', 'Tahan', 'Daher', 'Naifeh', 'Said', 'Touma', 'Ganim', 'Abboud', 'Haddad', 'Totah', 'Maroun', 'Sarraf', 'Halabi', 'Abboud', 'Deeb', 'Awad', 'Ba', 'Bahar', 'Harb', 'Mustafa', 'Ganim', 'Kassis', 'Asker', 'Hanania', 'Gerges', 'Antar', 'Hakimi', 'Naser', 'Dagher', 'Kanaan', 'Kalb', 'Haddad', 'Bazzi', 'Samaha', 'Shadid', 'Khoury', 'Said', 'Assaf', 'Handal', 'Maloof', 'Khouri', 'Guirguis', 'Daher', 'Shamon', 'Srour', 'Toma', 'Malouf', 'Awad', 'Sabbag', 'Salib', 'Fakhoury', 'Baba', 'Baz', 'Ganim', 'Kouri', 'Sabbagh', 'Said', 'Kassis', 'Khoury', 'Aswad', 'Nader', 'Sarraf', 'Almasi', 'Essa', 'Asghar', 'Bahar', 'Najjar', 'Bahar', 'Antar', 'Najjar', 'Shamon', 'Kouri'], 'French': ['Hébert', 'Archambault', 'Arthur', 'Sergeant', 'Sauvage', 'Duval', 'Renaud', 'Coupe', 'Michaud', 'Guérin', 'Sault', 'Lachapelle', 'Sarkozi', 'Chastain', 'Deniel', 'Perrault', 'Favreau', 'Gosselin', 'Colbert', 'Langlais', 'Travers', 'Pape', 'Lebeau', 'Thayer', 'David', 'Martel', 'Deniaud', 'Paternoster', 'Leclerc', 'Mathieu', 'Richard', 'Richelieu', 'Tolbert', 'Dubois', 'Forest', 'Boucher', 'Dufour', 'Janvier', 'Lévesque', 'Beaumont', 'Blanchet', 'Bélanger', 'Garcon', 'Lestrange', 'Page', 'Fabre', 'Sauveterre', 'Borde', 'Victor', 'Bouchard', 'Chevalier', 'Bonnaire', 'Félix', 'Paquet', 'Legrand', 'Pettigrew', 'Mullins'], 'Italian': ['Orlando', 'Vespa', 'Tumicelli', 'Nervetti', 'Gronchi', 'Toselli', 'Nascimbene', 'De luca', 'Trapani', 'Nervi', 'Fabbro', 'De campo', 'Arrighi', 'Ardizzone', 'Notaro', 'Ferrero', 'Morra', 'Abbatantuono', 'Aggio', 'Ughi', 'Franco', 'Acardi', 'Amello', 'Gaspari', 'Aiolfi', 'Di mercurio', 'Ambrogi', 'Grimaldi', 'Albani', 'Aggi', 'Napoliello', 'Bondesan', 'Bagni', 'Longo', 'Perugia', 'Agnellutti', 'Zeni', 'Boveri', 'De rege', 'Monti', 'Furlan', 'Parri', 'Mancini', 'Tanzi', 'Abatangelo', 'Caro', 'Viola', 'Acquati', 'Catalano', 'Amadei', 'Di pasqua', 'Pedrotti', 'Pace', 'Anselmetti', 'Abbracciabeni', 'Marchegiano', 'Barsetti', 'Làconi', 'Nespola', 'Tafani', 'Veronesi', 'Leggièri', 'Cavallo', 'Vitali', 'Benedetti', 'Nave', 'Campo', 'Bartalotti', 'Rustici', 'Milani', 'Lèmmi', 'Arnolfi', 'Abbaticchio', 'Antonino', 'Bassi', 'Poggi', 'Costanzo', 'Negri', 'Abandonato', 'Giordano', 'Bencivenni', 'Bellandi', 'Pietri', 'Speziale', 'Castro', 'Franzese', 'Vicario', 'Greco', 'Paternoster', 'Colombo', 'Bosco', 'Alessi', 'Corvi', 'Robustelli', 'Bello', 'Acquarone', 'Traversini', 'Zangari', 'Marchioni', 'Santini', 'Stilo', 'Riva', 'Cuoco', 'Pesaro', 'Sebastiani', 'Sarno', 'Piovene', 'Acciaioli', 'Lupo', 'Soldati', 'Biondo', 'Ruggeri', 'Abbate', 'Barbieri', 'Addario', 'Adimari', 'Amalberti', 'Aiello', 'Guidi', 'Pozzi', 'Ansaldi', 'Mariani', 'De palma', 'Campana', 'Scarpa', 'Rotolo', 'Ermacora', 'Palladino', 'Baggio', 'Sarti', 'Rinaldi', 'Cola', 'Murgia', 'Selvaggio', 'Rossini', 'Siena', 'Murtas', 'Roma', 'Nieddu', 'Balboni', 'Salucci', 'Farina'], 'Czech': ['Toman', 'Tomes', 'Rafaj1', 'Giersig', 'Divoky', 'Georgijev', 'Biganska', 'Koza', 'Kouba', 'Kofron', 'Ruba', 'Blecha', 'Kuffel', 'Nowak', 'Kremlacek', 'Veverka', 'Stanzel', 'Slepica', 'Svotchak', 'Urbanek', 'Stupka', 'Blober', 'Kacirek', 'Zak', 'Oesterreicher', 'Finfera', 'Shula', 'Vavra', 'Jares', 'Hudecek', 'Naizer', 'Stepan', 'Stangl', 'Soukup', 'Chicken', 'Chalupka', 'Trnkova', 'Slepicka', 'Zajicek', 'Ruzicka', 'Nadvornizch', 'Wykruta', 'Krhovsky', 'Molcan', 'Kazmier', 'Weisener', 'Coma', 'Paisar', 'Schwartz', 'Hana', 'Bruckner', 'Driml', 'Schneider', 'Michalovic', 'Plisko', 'Voneve', 'Chemlik', 'Dolezal', 'Ocasek', 'Hynna', 'Kvasnicka', 'Duyava', 'Charlott', 'Lynsmeier', 'Kaplanek', 'Maly', 'Bleskan', 'Jedlicka', 'Koliha', 'Planick', 'Kruessel', 'Marik', 'Persein', 'Faltysek', 'Stegon', 'Kirchma', 'Pillar', 'Brousil', 'Matocha', 'Metjeka', 'Harger', 'Skwor', 'Hodoval', 'Skokan', 'Meier', 'Novy Novy', 'Patril', 'Pavlicka', 'Praseta', 'Alt', 'Finferovy', 'Kucharova', 'Homulka', 'Klemper', 'Jaluvka', 'Hanek', 'Simonek', 'Picha', 'Weiss', 'Stotzky', 'Hajicek', 'Janick']}\n"
     ]
    }
   ],
   "source": [
    "#Тестовая выборка\n",
    "print(test)"
   ]
  },
  {
   "cell_type": "code",
   "execution_count": 11,
   "metadata": {},
   "outputs": [
    {
     "name": "stdout",
     "output_type": "stream",
     "text": [
      "{'Japanese': ['Sada', 'Isoda', 'Takaoka', 'Shige', 'Shikuk', 'Sunada', 'Tamazaki', 'Odaka', 'Inouye', 'Sasaki', 'Miyajima', 'Yamhata', 'Komatsuzaki', 'Abe', 'Nobunaga', 'Yoshida', 'Genda', 'Eda', 'Amagawa', 'Hoshino', 'Togo', 'Tokuda', 'Yamana', 'Deguchi', 'Kawaii', 'Takudo', 'Tomioka', 'Hasegawa', 'Jimbo', 'Watnabe', 'Yakuta', 'Shirane', 'Shibaguchi', 'Matsushina', 'Mimasuya', 'Hosokawa', 'Nishimoto', 'Hiro', 'Sekine', 'Onoda', 'Minatoya', 'Matsuya', 'Kamisaka', 'Kogo', 'Miyazawa', 'Ota', 'Shikitei', 'Iida', 'Ibi', 'Chikamatsu', 'Hitomi', 'Kamata', 'Umeki', 'Okita', 'Kasaya', 'Ishinomori', 'Uetake', 'Yonai', 'Chino', 'Honda', 'Maruya', 'Kunisada', 'Higuchi', 'Yanagita', 'Matsukata', 'Arakida', 'Yasuda', 'Iwakura', 'Kobi', 'Itoh', 'Hama', 'Arishima', 'Hojo', 'Inukai', 'Yokokawa', 'Imada', 'Ohmae', 'Ono', 'Kan', 'Sakuraba', 'Satake', 'Akiyama', 'Saga', 'Sakata', 'Minamoto', 'Kanesaka', 'Fukunaka', 'Narato', 'Hirase', 'Yamahata', 'Asano', 'Yamaoka', 'Ogura', 'Nakamoto', 'Kotoku', 'Shiroyama', 'Kamachi', 'Yasui', 'Atshushi', 'Shimaoka', 'Kumasaka', 'Yanagawa', 'Ihara', 'Nakanishi', 'Matsumara', 'Nakae', 'Otani', 'Yamanouchi', 'Shibukji', 'Morinaga', 'Shimizu', 'Shionoya', 'Kurata', 'Kusonoki', 'Yokoyama', 'Yuhara', 'Kuwabara', 'Kitagawa', 'Akutagawa', 'Kawakami', 'Maeda', 'Hira', 'Komine', 'Kogara', 'Ashia', 'Asai', 'Higo', 'Mushanaokoji', 'Kikuchi', 'Haga', 'Shibanuma', 'Ieyoshi', 'Hanari', 'Shunsen', 'Iijima', 'Yoshifumi', 'Konda', 'Tsutomu', 'Hotta', 'Fujiwara', 'Fujimaki', 'Akaike', 'Miyazaki', 'Enoki', 'Saiki', 'Daishi', 'Ebisawa', 'Kahae', 'Mizumaki', 'Matsushita', 'Minobe', 'Okasawa', 'Yamamoto', 'Taira', 'Ohba', 'Osagawa', 'Hohki', 'Ikina', 'Numajiri', 'Makino', 'Tarumi', 'Nozara', 'Sumitimo', 'Doi', 'Inao', 'Nakadai', 'Tsukade', 'Kijimuta', 'Shimazaki', 'Tawaraya', 'Yamakage', 'Satoh', 'Kimio', 'Ko', 'Fukayama', 'Hagiwara', 'Ibu', 'Tankoshitsu', 'Hasekura', 'Yunokawa', 'Kurkawa', 'Nishihara', 'Fukumitsu', 'Morioka', 'Toyoshima', 'Nozaki', 'Shiomi', 'Sotomura', 'Kato', 'Kishi', 'Iwahashi', 'Iwasaki', 'Yasujiro', 'Kon', 'Murasaki', 'Sanda', 'Soma', 'Takasu', 'Okimasa', 'Nishiwaki', 'Sasada', 'Teshigahara', 'Kajiyama', 'Hosokaya', 'Kenmotsu', 'Arai', 'Hayata', 'Fujioka', 'Saionji', 'Obata', 'Tsukada', 'Oishi', 'Kubota', 'Erizawa', 'Yamawaki', 'Nakayama', 'Tanuma', 'Kumagae', 'Yoshioka', 'Egami', 'Tochikura', 'Noguchi', 'Kitamura', 'Konishi', 'Abukara', 'Fukushima', 'Ikeda', 'Handa', 'Yamada', 'Ashida', 'Chiba', 'Taka', 'Nose', 'Sakiyurai', 'Mitsukuri', 'Ishikawa', 'Moriguchi', 'Hirota', 'Takekawa', 'Satoya', 'Kurohiko', 'Yamakawa', 'Takemitsu', 'Kikui', 'Mashita', 'Hasimoto', 'Hayakawa', 'Taketomo', 'Kanagaki', 'Matokai', 'Kaima', 'Masuno', 'Tomori', 'Kawagishi', 'Arakawa', 'Hayashida', 'Takishida', 'Shima', 'Uno', 'Iitaka', 'Ajibana', 'Takashita', 'Tatsuno', 'Nataga', 'Teshima', 'Deushi', 'Toyama', 'Yamanaka', 'Kunda', 'Kihara', 'Shunji', 'Ienari', 'Shiraishi', 'Araki', 'Hashimoto', 'Shigeki', 'Kasai', 'Kawashima', 'Makiguchi', 'Shobo', 'Murata', 'Suzuki', 'Masudu', 'Sakakibara', 'Okano', 'Masanobu', 'Igarashi', 'Kuramoto', 'Takeuchi', 'Suzambo', 'Nakatoni', 'Muruyama', 'Nogi', 'Nakane', 'Kawachi', 'Uoya', 'Ayabito', 'Baba', 'Tagawa', 'Tsumemasa', 'Uboshita', 'Kahaya', 'Okui', 'Tsukatani', 'Koruba', 'Mizuno', 'Takeshita', 'Raikatuji', 'Nagahama', 'Ibuka', 'Tanizaki', 'Kaminaga', 'Kurofuji', 'Nitta', 'Imaizumi', 'Arato', 'Kusatsu', 'Hino', 'Mazuka', 'Ijichi', 'Senmatsu', 'Kamio', 'Hike', 'Nogushi', 'Matoke', 'Nakano', 'Umari', 'Katsushika', 'Gushiken', 'Soseki', 'Mizutani', 'Ino', 'Omura', 'Takemura', 'Genji', 'Tsucgimoto', 'Tadeshi', 'Maeno', 'Yoshimatsu', 'Etsuko', 'Minabuchi', 'Usami', 'Iwahara', 'Ishiyama', 'Wakai', 'Otsu', 'Tsuruya', 'Nagasawa', 'Ando', 'Ukiyo', 'Yamaha', 'Uchida', 'Kamo', 'Kazuyoshi', 'Okubo', 'Urogataya', 'Kawagichi', 'Jippensha', 'Takecare', 'Takagawa', 'Ichigawa', 'Shirokawa', 'Momotani', 'Toyota', 'Okawa', 'Kondo', 'Nakajima', 'Katsukawa', 'Okamoto', 'Kasahara', 'Mitsuwa', 'Onoe', 'Nakazawa', 'Matsuo', 'Tsukehara', 'Mishima', 'Higoshi', 'Nemoto', 'Tamura', 'Takagaki', 'Tomimoto', 'Mazawa', 'Aoki', 'Hamacho', 'Muraoka', 'Sugai', 'Muso', 'Tojo', 'Minami', 'Nishio', 'Shimedzu', 'Omori', 'Yamagata', 'Ohira', 'Niijima', 'Shinko', 'Miwa', 'Jumonji', 'Takarabe', 'Ikoma', 'Fuschida', 'Masoni', 'Tsutaya', 'Kwakami', 'Ichisada', 'Nagase', 'Yosano', 'Wakatsuki', 'Kawaguchi', 'Shiratori', 'Tatsuko', 'Ushiba', 'Saitoh', 'Toyotomi', 'Hatayama', 'Ii', 'Ito', 'Mitsui', 'Hayami', 'Nakadan', 'Maruyama', 'Toshusai', 'Hayuata', 'Takasugi', 'Nishi', 'Takabe', 'Okuda', 'Hiraki', 'Akechi', 'Akimoto', 'Takudome', 'Nomura', 'Obuchi', 'Sonoda', 'Saji', 'Hideaki', 'Kuga', 'Shiotani', 'Nakao', 'Shiga', 'Noda', 'Morisue', 'Ozaki', 'Terakado', 'Tenshin', 'Horigome', 'Takamura', 'Ohishi', 'Hachirobei', 'Okada', 'Gensai', 'Katayanagi', 'Kurogane', 'Izumi', 'Baisotei', 'Sasakawa', 'Yanagi', 'Takaki', 'Ariwa', 'Nishimuraya', 'Anami', 'Hishikawa', 'Kajiwara', 'Okuma', 'Shintaro', 'Natsume', 'Hiraga', 'Ooka', 'Inoue', 'Nagatsuka', 'Tsuruga', 'Tokuoka', 'Sakubara', 'Chishu', 'Komiya', 'Namiki', 'Naito', 'Nakanoi', 'Morri', 'Muraguchi', 'Godo', 'Tabuchi', 'Numata', 'Kagabu', 'Santo', 'Katsumata', 'Mitsuharu', 'Watanabe', 'Kaza', 'Tsujimoto', 'Endo', 'Aihara', 'Inaba', 'Shibasawa', 'Kawasaki', 'Kawamura', 'Amori', 'Saromi', 'Yamakazi', 'Nanami', 'Nosaka', 'Ozu', 'Okanaya', 'Nakasato', 'Matsuki', 'Katoaka', 'Soho', 'Iseki', 'Tanaka', 'Futabatei', 'Komura', 'Kinugasa', 'Otake', 'Takewaki', 'Katsura', 'Shimakage', 'Hirata', 'Saeki', 'Tsubouchi', 'Tange', 'Matsumoto', 'Fukuda', 'Nawabe', 'Toshitala', 'Momotami', 'Nakata', 'Takagi', 'Kimura', 'Koiso', 'Hattori', 'Hanabusa', 'Murase', 'Hotate', 'Oichi', 'Kijmuta', 'Tsukioka', 'Tsujimura', 'Miura', 'Marugo', 'Mayuzumi', 'Hatoyama', 'Kotara', 'Kajitani', 'Fukuyama', 'Ashikaga', 'Yamamura', 'Royama', 'Otaka', 'Hideki', 'Tommii', 'Utagawa', 'Kanada', 'Shizuma', 'Hamamoto', 'Shiokawa', 'Kawayama', 'Okumura', 'Hatakeyama', 'Enomoto', 'Saigo', 'Sato', 'Shiba', 'Ochida', 'Okamura', 'Bando', 'Makioka', 'Aizawa', 'Tsuji', 'Kada', 'Arihyoshi', 'Kita', 'Funakoshi', 'Joshuya', 'Honami', 'Koga', 'Fujishima', 'Asari', 'Kaneko', 'Ohmiya', 'Idane', 'Inokuma', 'Sakanoue', 'Tokudome', 'Hyata', 'Tsushima', 'Sohda', 'Yoshihara', 'Ise', 'Okabe', 'Okakura', 'Otomo', 'Asanuma', 'Ogata', 'Irie', 'Kikutake', 'Tsukawaki', 'Choshi', 'Ugaki', 'Kasuse', 'Kudo', 'Tsukahara', 'Akera', 'Sugihara', 'Ki', 'Hayashi', 'Shiskikura', 'Uehara', 'Shinozuka', 'Hiroyuki', 'Ueshima', 'Date', 'Okazawaya', 'Kikugawa', 'Sakurai', 'Taguchi', 'Kurosawa', 'Kanegawa', 'Moto', 'Kubo', 'Someya', 'Kinashita', 'Miyoshi', 'Hiratasuka', 'Torii', 'Yanagimoto', 'Hirose', 'Tatenaka', 'Kuno', 'Adachi', 'Ishida', 'Fukuoka', 'Tokaji', 'Mori', 'Hatakeda', 'Koyama', 'Yamaguchi', 'Koshin', 'Shiganori', 'Jukodo', 'Ijiri', 'Ishimaru', 'Muro', 'Munkata', 'Kyubei', 'Saito', 'Yoshizawa', 'Funabashi', 'Sen', 'Mutsu', 'Shibata', 'Yoemon', 'Haruguchi', 'Tansho', 'Shimazu', 'Hiyama', 'Oinuma', 'Fuse', 'Murkami', 'Nishimura', 'Hisamatsu', 'Mihashi', 'Matsuda', 'Koyanagi', 'Funaki', 'Kawasie', 'Kashiwagi', 'Fukuzawa', 'Oshin', 'Suenami', 'Tani', 'Miyamoto', 'Kira', 'Kajahara', 'Uchiyama', 'Sekigawa', 'Miki', 'Fuwa', 'Isayama', 'Maita', 'Sammiya', 'Tono', 'Nakagawa', 'Itagaki', 'Kakinomoto', 'Takahashi', 'Nagano', 'Takano', 'Ichikawa', 'Konae', 'Hara', 'Inoguchi', 'Komatsu', 'Kano', 'Yasukawa', 'Monomonoi', 'Munakata', 'Imai', 'Kobayashi', 'Ochiai', 'Toshishai', 'Yoshitomi', 'Kinoshita', 'Ichimonji', 'Kurmochi', 'Kagawa', 'Shichirobei', 'Ina', 'Katayama', 'Hyobanshi', 'Hori', 'Yuasa', 'Asahara', 'Onohara', 'Konoe', 'Karamorita', 'Higashiyama', 'Watabe', 'Noro', 'Takashi', 'Ishiguro', 'Tomonaga', 'Shoda', 'Shirasu', 'Kase', 'Masuzoe', 'Kawamata', 'Kusuhara', 'Shirahata', 'Yasutake', 'Fugunaga', 'Taniguchi', 'Kitabatake', 'Anzai', 'Matsumura', 'Tomika', 'Kawasawa', 'Temko', 'Nakasone', 'Eto', 'Hiraoka', 'Iesada', 'Tsunoda', 'Dazai', 'Kawabata', 'Isobe', 'Kakutama', 'Sassa', 'Obinata', 'Endoso', 'Sugita', 'Ariwara', 'Soga', 'Kuroki', 'Fujita', 'Kitano', 'Yoshizaki', 'Toyoda', 'Iriye', 'Shimon', 'Umehara', 'Tsuchie', 'Matano', 'Kawai', 'Shimanouchi', 'Shigemitsu', 'Matsura', 'Ouchi', 'Seo', 'Miyamae', 'Sanjo', 'Ishibashi', 'Otsuka', 'Sugawara', 'Fuchida', 'Gakusha', 'Mizoguchi', 'Sawamura', 'Sano', 'Sakamoto', 'Makuda', 'Kuroda', 'Morishita', 'Koguchi', 'Ichiro', 'Eguchi', 'Kojima', 'Watoga', 'Matsuzawa', 'Sawamatsu', 'Kaibara', 'Sayuki', 'Shimura', 'Itami', 'Jo'], 'English': ['Knighton', 'Alanson', 'Redhead', 'Lobb', 'Broomfield', 'Quigley', 'Downer', 'Browning', 'Oakton', 'Fretwell', 'Pagan', 'Woods', 'Ridle', 'Mace', 'Beech', 'Toomer', 'Best', 'Glasby', 'Nickolls', 'Elwell', 'Thirlwell', 'Tennant', 'Cotton', 'Rothery', 'Hodson', 'Caddy', 'Sheppard', 'Edgar', 'Pack', 'Lawlor', 'Hawley', 'Killen', 'Gallagher', 'Wareing', 'Elms', 'Flannery', 'Evenden', 'Vikers', 'Maxwell', 'Hutchison', 'Mcarthur', 'Dingle', 'Crofts', 'Devine', 'Carruthers', 'Butter', 'Bingham', 'Sykes', 'Clifton', 'Fowler', 'Teasdale', 'Rackham', 'Kiernan', 'Veevers', 'Molyneux', 'Snow', 'Vollans', 'Orritt', 'Copland', 'Harden', 'Nuttall', 'Drain', 'Graham', 'Perry', 'Sawyer', 'Upsdell', 'Baines', 'Gander', 'Eyres', 'Kinsella', 'Anton', 'Freestone', 'Keating', 'Archer', 'Beer', 'Nobbs', 'Pledger', 'Nokes', 'Frith', 'Mills', 'Lopes', 'Procter', 'Avenue', 'Thorndyke', 'Furse', 'Stubbs', 'Orwin', 'Poole', 'Woodford', 'Virgo', 'Rust', 'Knuckles', 'Obrien', 'Fleetwood', 'Jebson', 'Hutchinson', 'Beadle', 'Paton', 'Impey', 'Pelling', 'Bannister', 'Innes', 'Beaumont', 'Newton', 'Allcock', 'Hawkridge', 'Copeland', 'Thorley', 'Otter', 'Anthony', 'Purnell', 'Kiely', 'Spooner', 'Ettrick', 'Elven', 'Cronin', 'Kilb', 'Crowther', 'Neeson', 'Palfrey', 'Thompson', 'Buxton', 'Geldart', 'Harvey', 'Mackie', 'Thonon', 'Haigh', 'Pendlebury', 'Durand', 'Darby', 'Hussey', 'Blackman', 'Bird', 'Clarke', 'Bolton', 'Finbow', 'Foxall', 'Reader', 'Wellington', 'Devlin', 'Reddy', 'Donnachie', 'Dubois', 'Kill', 'Drinkwater', 'Otten', 'Sisson', 'Dempster', 'Vernon', 'Tanner', 'Gilchrist', 'Adanet', 'Jerome', 'Fahy', 'Yule', 'Lopez', 'Floss', 'Stout', 'Hicks', 'Oxenham', 'Gerrard', 'Derrien', 'Hinton', 'Kettlewell', 'Coward', 'Hanson', 'Lilly', 'Ainsworth', 'Kelso', 'Lord', 'Harper', 'Franklin', 'Glynn', 'Leys', 'Adlam', 'Falsh', 'Sanderson', 'Knowler', 'Lowry', 'Wakefield', 'Rennie', 'Rosenbloom', 'Thirlway', 'Joyce', 'Lockwood', 'Fitzsimmons', 'Coyle', 'Martin', 'Amos', 'Fairley', 'Leonard', 'Devenish', 'Harman', 'Lake', 'Mullins', 'Holding', 'Patton', 'Tovar', 'Taggart', 'Furlong', 'Ayliffe', 'Riddell', 'Jarman', 'Kinch', 'Firth', 'Geldard', 'Shepherd', 'Yeardley', 'Rampling', 'Etherington', 'Kirk', 'Lyons', 'Keir', 'Exon', 'Akram', 'Mcavoy', 'Graves', 'Oflynn', 'Whitlock', 'Hewitt', 'Kacy', 'Hudson', 'Polson', 'Duff', 'Callaghan', 'Elphick', 'Edmunds', 'Ironmonger', 'Mcgee', 'Ewin', 'Hallam', 'Langridge', 'Tait', 'Norbury', 'Fordham', 'Jefford', 'Ellans', 'Church', 'Merritt', 'Slocombe', 'Kennett', 'Welton', 'Millett', 'Tisdall', 'Matthews', 'Appleton', 'Waghorn', 'Overson', 'Ellershaw', 'Hardy', 'Wilde', 'Arah', 'Fewtrell', 'Mcgill', 'Timson', 'Alpin', 'Dyerson', 'Younge', 'Mcgregor', 'Blair', 'Knox', 'Stokes', 'Oloughlin', 'Batten', 'Aird', 'Walmsley', 'Drew', 'Burden', 'Trew', 'Blackmore', 'Lomax', 'Trattles', 'Dufour', 'Judd', 'Turnock', 'Rutter', 'Prevost', 'Sinclair', 'Hobson', 'Bate', 'Begum', 'Jarratt', 'Malone', 'Selby', 'Sherriff', 'Le tissier', 'Avis', 'Truscott', 'Warwick', 'Bentley', 'Peal', 'Sallis', 'Hurley', 'Roper', 'Ritchie', 'French', 'Kealey', 'Abbott', 'Deacon', 'Rippin', 'Newington', 'Jowett', 'Lockyer', 'Elbutt', 'Noach', 'Hepples', 'Forester', 'Larkings', 'Eburne', 'Benson', 'Hagan', 'Peters', 'Etherton', 'Tilston', 'Reveley', 'Boyce', 'Bill', 'Deans', 'Goodacre', 'Rochford', 'Goble', 'Valmary', 'Dickson', 'Hirst', 'Westwell', 'Ewart', 'Alford', 'Nicholl', 'Norwood', 'Lacey', 'Gleave', 'Levine', 'Ellard', 'Ogden', 'Mccaffrey', 'Oakey', 'Tailor', 'Philips', 'Yang', 'Leroy', 'Winward', 'Broughton', 'Dobbin', 'D arcy', 'Bowers', 'Knowles', 'Finn', 'Spinks', 'Kinsey', 'Dicker', 'Wilkshire', 'Cain', 'Sloan', 'Napier', 'Last', 'Weston', 'Northcott', 'Budd', 'Hackett', 'Ashton', 'Fielding', 'Eglin', 'Mcmillan', 'Core', 'Devon', 'Ashworth', 'Oddy', 'Vardy', 'Littlewood', 'Williams', 'Viner', 'Whittle', 'Carey', 'Kilner', 'Willetts', 'Cockburn', 'Russon', 'Wiggins', 'Johannson', 'Tohill', 'Blake', 'Abrams', 'Cowell', 'Goodall', 'Adkins', 'Corcoran', 'Peers', 'Elmer', 'Rush', 'Cousins', 'Tuck', 'Jenkin', 'Richter', 'Bedford', 'Lennox', 'Kirkpatrick', 'Burnett', 'Longhurst', 'Ibbotson', 'Alliott', 'Haslam', 'Pearce', 'Wallis', 'Orme', 'Hobbs', 'Rooke', 'Little', 'Antic', 'Fearon', 'Rixon', 'Churchill', 'Winter', 'Atherstone', 'Roscoe', 'Mckee', 'Donohoe', 'Foucher', 'Gammon', 'Ingledew', 'Carroll', 'Reeve', 'Watkinson', 'Legge', 'Anstee', 'Fulker', 'Wall', 'Hatton', 'Sinha', 'Hilton', 'Nesbitt', 'Franco', 'Sturrock', 'Head', 'Jevons', 'Trump', 'Underdown', 'Vodden', 'Mellor', 'Everill', 'Luscombe', 'Inglethorpe', 'Easdale', 'David', 'Kempster', 'Granger', 'Newcombe', 'Pallett', 'Pringle', 'Gell', 'Ferrier', 'Mould', 'Tully', 'Findlay', 'Gill', 'Kenning', 'Stanton', 'Fontaine', 'Tansey', 'Simon', 'Nairn', 'Wheatley', 'Will', 'Klein', 'Rycroft', 'Tonner', 'Mccormack', 'Kerridge', 'Blakey', 'Patel', 'Levy', 'Jowitt', 'Pickthall', 'Helley', 'Yasmin', 'Carrington', 'Brooks', 'Ballantyne', 'Wakeham', 'Newey', 'Ronflard', 'Connor', 'Dupont', 'Senior', 'Eastham', 'Anscombe', 'Kaur', 'Frederikson', 'Paine', 'Alcock', 'Tozer', 'Newby', 'Dawson', 'Searle', 'Goodchild', 'Plumb', 'Escott', 'Dorrington', 'Pitcher', 'Gamble', 'Ernest', 'Sharples', 'Southern', 'Chatterton', 'Sellars', 'Abbas', 'Moseley', 'Gibbs', 'Ludgrove', 'Tuttle', 'Watt', 'Gadsden', 'Dawkins', 'Nowak', 'Houlton', 'Dean', 'Kehoe', 'Turner', 'Tickner', 'Ashby', 'Rowson', 'Lange', 'Elvin', 'Speight', 'Wain', 'Garbutt', 'Kilshaw', 'Waterson', 'Biddle', 'Aves', 'Allcott', 'Donn', 'Eaton', 'Eldeston', 'Alexander', 'Neyland', 'Gale', 'Reese', 'Rickards', 'Newland', 'Weir', 'Alden', 'Carson', 'Nord', 'Barrow', 'Storey', 'Caldwell', 'Odonnell', 'Mcgrath', 'Widdowson', 'Coulson', 'Cummings', 'Funnell', 'Naughton', 'Harley', 'Lewins', 'Conroy', 'Ballard', 'Readle', 'Partridge', 'Aldren', 'Said', 'Simpson', 'Martinez', 'Collier', 'Ullmann', 'Harkness', 'Greer', 'Gunter', 'Gunston', 'Knigge', 'Garber', 'Kirkman', 'Dudley', 'Kyle', 'Gardener', 'Okten', 'Armer', 'Worsnop', 'Nason', 'West', 'Rickard', 'Berry', 'Dodds', 'Kingdon', 'Heatley', 'Vinicombe', 'Kirkwood', 'Rosso', 'Nightingale', 'Antony', 'Mcconnell', 'Bateman', 'Bush', 'Vickerman', 'Blundell', 'Varey', 'Jarrett', 'Shackleton', 'Jewers', 'Lakey', 'Kanes', 'Eccles', 'Odonoghue', 'Ashwell', 'Hamer', 'Nickel', 'Peck', 'Riddle', 'Fitch', 'Keeble', 'Myatt', 'Hatch', 'Ohara', 'Gunning', 'Roth', 'Cornock', 'Joss', 'Jacobson', 'Ingermann', 'Jacques', 'Mccann', 'Harlow', 'Norgrove', 'Greening', 'Bailey', 'Wales', 'Allen', 'Turland', 'Trickett', 'Eggleston', 'Legg', 'Ormston', 'Meredith', 'Astbury', 'Byrne', 'Wooldridge', 'Rogers', 'Patterson', 'Sands', 'Banks', 'Quinlivan', 'Tosh', 'Essam', 'Thornes', 'Clancy', 'Metcalf', 'Wraight', 'Jeffreys', 'Tayler', 'Eason', 'Alam', 'Grainger', 'Ashbrook', 'Barry', 'Parrott', 'Tonks', 'Amin', 'Barnard', 'Douthwaite', 'Kimber', 'Brook', 'Towers', 'Nandi', 'Leslie', 'Delamarre', 'Vickers', 'Brain', 'Kinsley', 'Trinder', 'Fowley', 'Ellerby', 'Kenworthy', 'Sharp', 'Leahy', 'Myers', 'Daniel', 'Costa', 'Emmerson', 'Elvins', 'Fitton', 'Rowe', 'Umney', 'Oulton', 'Southwick', 'Pierre', 'Duckworth', 'Hoare', 'Fawn', 'Yeadon', 'Langdon', 'Tudor', 'Styles', 'Elfman', 'Kirby', 'Errity', 'Silva', 'Winstanley', 'Jones', 'Ingles', 'Cumming', 'Heaton', 'Rhodes', 'Norton', 'Simons', 'Singleton', 'Coleman', 'Cashmore', 'Devonport', 'Irvin', 'Keeling', 'Faust', 'Forsyth', 'Bright', 'Tong', 'Durber', 'Thurgood', 'Kirkbright', 'Gillen', 'Betts', 'Parish', 'Partington', 'Kurian', 'Gibbins', 'Bains', 'Nield', 'Render', 'Baron', 'Snowden', 'Ireland', 'Nova', 'Gilfillan', 'Goodridge', 'Gallacher', 'Gerard', 'Kitt', 'Ashman', 'Ratcliffe', 'Dawe', 'Amner', 'Warner', 'Lawson', 'Molloy', 'Lucey', 'Packard', 'Ravenscroft', 'Loftus', 'Pearson', 'Enticott', 'Penn', 'Worgan', 'Agar', 'Flowers', 'Yeatman', 'Stretton', 'Addis', 'Labbe', 'Elliott', 'Harries', 'Bloggs', 'Bond', 'Hopkins', 'Pinder', 'Fulleron', 'Mangnall', 'Jonas', 'Ralston', 'Macrae', 'Fricker', 'Harris', 'Westwood', 'Yeldon', 'Murrell', 'Woodcock', 'Durant', 'Porter', 'Vicens', 'Mcgrory', 'Morris', 'Pennington', 'Ottey', 'Marriott', 'Fosse', 'Keeler', 'Grimshaw', 'Leek', 'Woodhams', 'Finney', 'Burt', 'Wiseman', 'Lendon', 'Meakin', 'Fairchild', 'Kenneford', 'Loft', 'Watling', 'Elling', 'Flanagan', 'Gourlay', 'Dervish', 'Horrocks', 'Edmundson', 'Foran', 'Jupp', 'Kamara', 'Hargreaves', 'Bull', 'Dacey', 'Lumsden', 'Fern', 'Ogrady', 'Bean', 'Water', 'Tucker', 'Denton', 'Sissons', 'Trevor', 'De ath', 'Angus', 'Povey', 'Tatnell', 'Mcghee', 'Stringer', 'Mccluskey', 'Nevins', 'Waring', 'Pointer', 'Broadley', 'Robotham', 'Wrightson', 'Galvin', 'Jamieson', 'Madden', 'Frankland', 'Lacy', 'Atherley', 'Davis', 'Hodges', 'Hiscocks', 'Shannon', 'Ferdinand', 'Faulkner', 'Plummer', 'Dayman', 'Grundy', 'Simms', 'Trigg', 'Hodge', 'Walkden', 'Lilwall', 'Brett', 'Freeburn', 'Wilkes', 'Godfrey', 'Emerick', 'Lowbridge', 'Nash', 'Fairlie', 'Gosden', 'Speed', 'Tilley', 'Holt', 'Cracknell', 'Lofthouse', 'Corr', 'White', 'Batty', 'Longworth', 'Peake', 'Howard', 'Thurlow', 'Lovell', 'Patchett', 'Gibbon', 'Cookson', 'Clark', 'Rayner', 'Vanwell', 'Morrison', 'Tedd', 'Bouvet', 'Neaverson', 'Fagan', 'Trott', 'Greenhill', 'Glencross', 'Farmer', 'Poulter', 'Hodgkins', 'Thackray', 'Pinner', 'Isbitt', 'Tallett', 'Lockett', 'Alldridge', 'Philip', 'Howie', 'Pomphrey', 'Curwood', 'Flanders', 'Walton', 'Crawford', 'Dickens', 'Ebden', 'Yorke', 'Atterbury', 'Schmid', 'Pitt', 'Brunton', 'Auton', 'Dykes', 'Greene', 'Rich', 'Whittington', 'Tappin', 'Fields', 'Watts', 'Wrench', 'Keelan', 'Easdown', 'Anley', 'Leedham', 'Finnimore', 'Hetherington', 'Batt', 'Olivier', 'Parsons', 'Dumont', 'Farhall', 'Wright', 'Sugden', 'Rudd', 'Doon', 'Sadler', 'Allsop', 'Boulton', 'Denis', 'Mackay', 'Laird', 'Rogerson', 'Curran', 'Emerson', 'Gillies', 'Edge', 'Hibbert', 'Frampton', 'Penney', 'Strickland', 'Otton', 'Mallinson', 'Kelk', 'Hansen', 'Mcphee', 'Bob', 'Naysmith', 'Russel', 'Rickett', 'Downing', 'Nutt', 'Heneghan', 'Irvine', 'Turton', 'Forrester', 'Easen', 'Knibb', 'Mcginty', 'Flack', 'Alexandar', 'Ricci', 'Froy', 'Jeffers', 'Pattison', 'Squires', 'Rigg', 'Jepson', 'Carnegie', 'Leech', 'Brewer', 'Caplan', 'Fall', 'Lines', 'Earley', 'Hawes', 'Garrett', 'Alves', 'Donaldson', 'Waugh', 'Darcy', 'Greener', 'Dunford', 'Neilsen', 'Hamilton', 'Stamp', 'Middleton', 'Hemmings', 'Kenyon', 'Leyland', 'Lamb', 'Tuckey', 'Ormiston', 'Leary', 'Ansell', 'Irwin', 'Mcgrady', 'Ramsey', 'Dymott', 'Ashford', 'Leitch', 'Pickering', 'Mckie', 'Clowes', 'Wade', 'Howes', 'Bellamy', 'Tinsley', 'Forman', 'Fishlock', 'Michel', 'Collinson', 'Clarkson', 'Carr', 'Bradbury', 'Cormack', 'Felton', 'Tilson', 'Ealy', 'Noyes', 'Eddy', 'Elliston', 'Robinson', 'Emmett', 'Tapscott', 'Drummond', 'Fletcher', 'Timberlake', 'Cheshire', 'Coles', 'Phoenix', 'Ranson', 'Inglefield', 'Ferris', 'Foley', 'Rankin', 'Westgate', 'Addams', 'Howells', 'Driscoll', 'Goodwin', 'Mcauley', 'Naylor', 'Dowling', 'Samuel', 'Magee', 'Parnaby', 'Stephen', 'Kitching', 'Lister', 'Benfield', 'Towle', 'Frederick', 'Aubrey', 'Thurling', 'Oxby', 'Garner', 'Finnegan', 'Tocher', 'Tomlin', 'Cox', 'Swales', 'Slater', 'Newsome', 'Large', 'Crawley', 'Salter', 'Doughty', 'Redfern', 'Izzard', 'Keal', 'Reasbeck', 'Small', 'Martins', 'Chaplin', 'Pascoe', 'Atter', 'Flaherty', 'Carter', 'Attard', 'Kibblewhite', 'Tipping', 'Long', 'Mann', 'Oram', 'Yarwood', 'Arscott', 'Adler', 'Conway', 'Hawkins', 'Kellems', 'Farnum', 'Cochrane', 'Gene', 'Manson', 'Beattie', 'Phillips', 'Sunderland', 'Rick', 'Ward', 'Jennison', 'Aitchison', 'Smart', 'Exley', 'Killick', 'Waters', 'Howe', 'Rutherford', 'Holland', 'Harding', 'Verell', 'Jewitt', 'Eastaugh', 'Sumner', 'Connolly', 'Kerr', 'Nisbet', 'Dougal', 'Cadman', 'Neville', 'Kore', 'Allwood', 'Rothwell', 'Jameson', 'Kennell', 'Connelly', 'Cooper', 'Mccourt', 'Thom', 'Jems', 'Mccartney', 'Gauntlett', 'Armsden', 'Deverell', 'Frusher', 'Street', 'Exton', 'Falk', 'Oconnell', 'Wale', 'Vale', 'Allaway', 'Bray', 'Yusuf', 'Wickens', 'Bain', 'Illingworth', 'Mcmahon', 'Gaynor', 'Readman', 'Mcintyre', 'Fitzgerald', 'Fernyhough', 'Kumar', 'Busby', 'Gordon', 'Titterington', 'Giblin', 'Parkins', 'Olson', 'Farre', 'Rolfe', 'Rushbrooke', 'Keefe', 'Hunter', 'Johns', 'Ibrahim', 'Wilmot', 'Spence', 'Trafford', 'Airey', 'Hogg', 'Temple', 'Froggatt', 'Rahman', 'Oldham', 'Earle', 'Lawther', 'Neal', 'Gray', 'Briggs', 'Hepburn', 'Beveridge', 'Ecclestone', 'Galloway', 'Cresswell', 'Kingsley', 'Burdett', 'Foreman', 'Tomlinson', 'Nielsen', 'Phelan', 'Kitson', 'Okey', 'Armour', 'Shea', 'Leighton', 'Franks', 'Downton', 'Richards', 'Poon', 'Butler', 'Aldersley', 'Khalifa', 'Potts', 'Mathers', 'Glew', 'Hurrell', 'Glover', 'Ashley', 'Compton', 'Alldritt', 'Reid', 'Yarlett', 'Taylor', 'Ellison', 'Cameron', 'Dougherty', 'Foxley', 'Litchfield', 'Chester', 'Clay', 'Islam', 'Nayler', 'Dora', 'Harrop', 'Marlow', 'Doolin', 'Velds', 'Hadden', 'Kreyling', 'Linford', 'Alexnader', 'Newham', 'Donoghue', 'Ebdon', 'Chance', 'Marr', 'Redman', 'Oxley', 'Cross', 'Pears', 'Romans', 'Taurel', 'Duvall', 'Easton', 'Paul', 'Pierce', 'Frey', 'Burns', 'Anderton', 'Rugg', 'Machin', 'Corlett', 'Ekin', 'Isaacs', 'Connell', 'Kings', 'Downs', 'Donkin', 'Ambrose', 'Down', 'Finan', 'Lois', 'Fairbrother', 'Garvey', 'Oliver', 'Luttrell', 'Cottrell', 'Underhill', 'Hulme', 'Hastings', 'Ropple', 'Tinker', 'Tippins', 'Devaney', 'Rodrigues', 'Storer', 'Symonds', 'Lumley', 'Liddle', 'Haynes', 'Evans', 'Eccott', 'Upson', 'Sherman', 'Pickard', 'Emery', 'Whitham', 'Adair', 'Preston', 'Ottley', 'Redin', 'Nicholson', 'Gaffney', 'Estlick', 'Cole', 'Ostler', 'Peyton', 'Lander', 'Lawrance', 'Wagstaff', 'Yarnall', 'Norris', 'Cartwright', 'Main', 'Tompkins', 'Bickley', 'Winship', 'Etheridge', 'Dooley', 'Rodgers', 'Gillett', 'Fellmen', 'Mcintosh', 'Dipper', 'Burr', 'Eastell', 'Saunders', 'Dewar', 'Guilmard', 'Storr', 'Hutton', 'Judge', 'Crook', 'Templar', 'Tierney', 'Cummins', 'Eslick', 'Fogg', 'Downey', 'Andersson', 'Bowles', 'Slade', 'Loat', 'Kinnison', 'Levett', 'Crown', 'Showell', 'Almond', 'Kirkland', 'Knights', 'Kemp', 'Teal', 'Cheetham', 'Baxter', 'Galbraith', 'Paterson', 'Mitchell', 'Oriley', 'Girling', 'Knutt', 'Warren', 'Lilley', 'Kerrighen', 'Tutton', 'Askew', 'Aldworth', 'Ross', 'Owings', 'Goddard', 'Alder', 'Moriarty', 'Mottram', 'Jagger', 'Price', 'Raval', 'Noyce', 'Wise', 'Nicol', 'Smyth', 'Toland', 'Warburton', 'Cornish', 'Blackburn', 'Topliss', 'Shotton', 'Needham', 'Eilers', 'Kenrick', 'Fotheringham', 'Keilty', 'Fawcett', 'Mather', 'Hill', 'Tillett', 'Brooke', 'Linden', 'Diamond', 'Whittaker', 'Hemingway', 'Rainford', 'Randle', 'Wilks', 'Halliwell', 'Goodson', 'Overall', 'Fifield', 'Flynn', 'Barton', 'Clough', 'Lockhart', 'Iggleden', 'Yabsley', 'Boyd', 'Vann', 'Thistlethwaite', 'Rogan', 'Kelliher', 'Baldwin', 'Edney', 'Phipps', 'Nood', 'Mulligan', 'Morley', 'Hunt', 'Fenwick', 'Dolan', 'Perrin', 'Kennedy', 'Neary', 'Dickinson', 'Pickersgill', 'Greig', 'Gilbert', 'Pooke', 'Tuffnell', 'Mustafa', 'Attrill', 'Foden', 'Swain', 'Pole', 'Boden', 'Ahmad', 'Laws', 'Nartey', 'Hendry', 'Wheeldon', 'Samuels', 'Aziz', 'Doors', 'Inman', 'Stafford', 'Jeffrey', 'Ranks', 'Davison', 'Gillam', 'Plastow', 'Malley', 'Stuart', 'Donovan', 'Webber', 'Hawkes', 'Newberry', 'Dyer', 'Thackeray', 'Oldroyd', 'Chalmers', 'Dexter', 'Smallwood', 'Skipper', 'Amesbury', 'Craven', 'Watters', 'Horn', 'Alladee', 'Tarr', 'Ryan', 'Mcpherson', 'Turney', 'Rousset', 'Cockle', 'Winfield', 'Dukes', 'Walter', 'Tombs', 'Glen', 'Stenhouse', 'Hedley', 'Farrier', 'Collins', 'Addinall', 'Dreyer', 'Guthrie', 'Higginson', 'Parker', 'Furniss', 'Ellam', 'Logan', 'Hills', 'Francis', 'Albrighton', 'Yeomans', 'Lynn', 'Foston', 'Glennon', 'Fearns', 'Perkins', 'Yarker', 'Aldred', 'Bartlett', 'Hogan', 'Ferns', 'Eveson', 'Wild', 'Awad', 'Blakeley', 'Locke', 'Coomber', 'Docherty', 'Gleeson', 'Fulton', 'Kilminster', 'Ridgwell', 'Grenard', 'Veale', 'Eyett', 'Metcalfe', 'Vines', 'Keward', 'Flaxman', 'Abrahams', 'Collett', 'Mclaren', 'Patten', 'Louth', 'Fisk', 'Axon', 'Lewington', 'Bostock', 'Nutman', 'Inker', 'Randall', 'Chan', 'Holden', 'Rosenblatt', 'Stocker', 'Fraser', 'Curtis', 'Chamberlain', 'Allkins', 'Brady', 'Tate', 'Gifford', 'Grose', 'Mahoney', 'Norburn', 'Odell', 'Number', 'Whitworth', 'Isherwood', 'Callow', 'Gates', 'Cripps', 'Upjohn', 'Palfreyman', 'Edgell', 'Andrews', 'Petersen', 'Britton', 'Kingscott', 'Jesson', 'Whiting', 'Mcguire', 'Errington', 'Rootham', 'Mason', 'Short', 'Avery', 'Somerville', 'Gonzalez', 'Wragg', 'Harrison', 'Austin', 'Horne', 'Bacon', 'Broadhurst', 'Sandison', 'Cosgrove', 'Winn', 'Lawal', 'Ilett', 'Wrenn', 'Read', 'Richmond', 'Boyle', 'Bowler', 'Torrance', 'Normington', 'Prince', 'Toomey', 'Terry', 'Ackroyd', 'Grosvenor', 'Luker', 'Till', 'Aspin', 'Lumb', 'Farnworth', 'Emmanuel', 'Wadham', 'Edmond', 'Lennon', 'Allum', 'Child', 'Daley', 'Willis', 'Moss', 'Vallory', 'Kirtley', 'Braithwaite', 'Clamp', 'Halstead', 'Maguire', 'Jobson', 'Oates', 'Sneddon', 'Allison', 'Akhtar', 'Willett', 'Pocock', 'Clifford', 'Hitchcock', 'Oatridge', 'Jackman', 'Jefferies', 'Abdi', 'Trueman', 'Bass', 'Piper', 'Laverick', 'Mcgowan', 'Sullivan', 'Glenn', 'Epton', 'Wang', 'Mcdermott', 'Aderson', 'Marshall', 'Brunet', 'Swann', 'Templeman', 'Dalton', 'Carpenter', 'Lees', 'Gales', 'Asom', 'Perez', 'Chandler', 'Redden', 'Imran', 'Tomas', 'Crew', 'Nicholls', 'Sparrow', 'Kerrigan', 'Openshaw', 'Snelling', 'Millington', 'Willson', 'Ranger', 'Brookfield', 'Seddon', 'Ould', 'Farley', 'Holmes', 'Broadbent', 'Gammer', 'Radford', 'Montague', 'King', 'Kenley', 'Ogilvie', 'Sheldon', 'Karras', 'Gosling', 'Drabble', 'Rushby', 'Drewett', 'Youssouf', 'Sellers', 'Rainey', 'Auberton', 'Millar', 'Darbyshire', 'Lanham', 'Fleming', 'Brandrick', 'Drysdale', 'Hewlett', 'Ingle', 'Younis', 'Lonsdale', 'Lynas', 'Silcock', 'Allgood', 'Lethbridge', 'Phelps', 'Kenney', 'Nair', 'Cann', 'Garland', 'Keable', 'Eden', 'Rosser', 'Loudon', 'Forsythe', 'Glaister', 'Hart', 'Walling', 'Mckenna', 'Aylett', 'Mcelroy', 'Kaul', 'Joynson', 'Robe', 'Tyrrell', 'Fuller', 'Wicks', 'Woodhall', 'Albert', 'Cotterill', 'Rodham', 'Were', 'Utterson', 'Mcshane', 'Hussein', 'Liddell', 'Furness', 'Morrow', 'Mcmanus', 'Lovett', 'Edler', 'Gately', 'Atterton', 'Bancroft', 'Lodge', 'Gemmell', 'Burman', 'Putt', 'Kidman', 'Emberson', 'Lynch', 'Cutts', 'Nanton', 'Upfield', 'Hume', 'Black', 'Jourdan', 'Rowland', 'Plant', 'Andrew', 'Butterworth', 'Prescott', 'Dawes', 'Edgson', 'Duggan', 'Pattinson', 'John', 'Heathcote', 'Stanfield', 'Mcfadden', 'Blythe', 'Twigg', 'Fox', 'Knab', 'Westlake', 'Yallop', 'Kernick', 'Chisholm', 'Gough', 'Wither', 'Hancock', 'Ogilvy', 'Ealham', 'Olley', 'Kendrick', 'Vickars', 'Masters', 'Ianson', 'Worth', 'Turke', 'Simmons', 'Teague', 'Prentice', 'Shaughnessy', 'Purvis', 'Kellie', 'Penfold', 'Percival', 'Negros', 'Lenihan', 'Partlett', 'Wainwright', 'Mcguinness', 'Summers', 'Royle', 'Easterbrook', 'Peterson', 'Macmillan', 'Boland', 'Glass', 'Eyles', 'Chapman', 'Gregory', 'Ewles', 'Lyon', 'Stark', 'Barnett', 'Pereira', 'Jervis', 'Roberts', 'Colman', 'Tolmay', 'Mortimer', 'Raeburn', 'Weldon', 'Hull', 'Wane', 'Tasker', 'Bernard', 'Wharton', 'Venables', 'Gooch', 'Hickey', 'Purkis', 'Neale', 'Edmonds', 'Notman', 'Cawley', 'Jenkyns', 'Fellows', 'Furey', 'Kilford', 'Goulden', 'Essop', 'Skelton', 'Denney', 'Dunmore', 'Murray', 'Orton', 'Templeton', 'Crump', 'Kirwan', 'Worthington', 'Snowdon', 'Peat', 'Tugwell', 'Miles', 'Renna', 'Whiteley', 'Cavanagh', 'Kristensen', 'Allard', 'Thirlwall', 'Dimmock', 'Trotman', 'Murphy', 'Barker', 'Nichols', 'Ollerhead', 'Ridley', 'Carty', 'Tamber', 'Harwood', 'Whyte', 'Nourse', 'Dornan', 'Ocallaghan', 'Antram', 'Yates', 'Stainton', 'Attwood', 'Shelton', 'Lowndes', 'Dundon', 'Whitehouse', 'Peigne', 'Crossland', 'Deane', 'Froggett', 'Napper', 'Omalley', 'Kershaw', 'Bell', 'Eddleston', 'Quinnell', 'Tellis', 'Ramsay', 'Russell', 'Vinton', 'Manning', 'Pinnock', 'Rice', 'Davey', 'Capper', 'Lomas', 'Ransom', 'Marsden', 'Bruce', 'Llewellyn', 'Eldridge', 'Hinde', 'Johnstone', 'Morgan', 'Nurse', 'Jenner', 'Goodman', 'Mccullough', 'Layton', 'Ormsby', 'Hawker', 'Curry', 'Olan', 'Powles', 'Ironman', 'Tindell', 'Isnard', 'Mcdonald', 'Miller', 'Glennie', 'Walshe', 'Fisher', 'Wells', 'Orvis', 'Ullman', 'Nettleton', 'Topp', 'Cousin', 'Carling', 'Pollard', 'Odriscoll', 'Burton', 'Veasey', 'Forbes', 'Burn', 'Fitchett', 'Langston', 'Rowley', 'Loughran', 'Elsmore', 'Groves', 'Hopes', 'Jessop', 'Kenneth', 'Wills', 'Lawler', 'Noble', 'Macfarlane', 'Ellis', 'Chung', 'Gould', 'Dolton', 'Ashdown', 'Turford', 'Kilroy', 'Stevenson', 'Luckhurst', 'Tempest', 'Kaddour', 'Trainor', 'Niles', 'Chappell', 'Cowan', 'Farrant', 'Inson', 'Nemeth', 'Wildman', 'Tarrant', 'Whitby', 'Jopson', 'Mctaggart', 'Forster', 'Jewkes', 'Reay', 'Allman', 'Parnell', 'Rapson', 'Jonhson', 'Mclaughlin', 'Stewart', 'Everett', 'Ruscoe', 'Heather', 'Sterling', 'Conneely', 'Aylward', 'Pollock', 'Bale', 'Kiddle', 'Neave', 'Isbill', 'Rehman', 'Kirkby', 'Lovey', 'Irving', 'Bugg', 'Duffin', 'Keight', 'Steward', 'Nolan', 'Page', 'Depp', 'Viney', 'Grange', 'Lowis', 'Fargher', 'Hodder', 'Seymour', 'Dann', 'Owen', 'Nurton', 'Knott', 'Olds', 'Keeley', 'Coffey', 'Waterfield', 'Illing', 'Isaac', 'Florey', 'Paige', 'Mawson', 'Macintyre', 'Lee', 'Skinner', 'Weeks', 'Kidd', 'Duke', 'Donlan', 'Frost', 'Elleray', 'Woodhead', 'Bristow', 'Paskell', 'Borland', 'Sharma', 'Fearn', 'Hayward', 'Overton', 'Voakes', 'Livingstone', 'Ingram', 'Lowe', 'Stock', 'Fossard', 'Shuttleworth', 'Glasgow', 'Jacob', 'Grey', 'Holl', 'Gowing', 'Painter', 'Reynolds', 'Slattery', 'Deegan', 'Patrick', 'Herbert', 'Elliman', 'Arrowsmith', 'Smullen', 'Dardenne', 'Powell', 'Tyne', 'Nunn', 'Coombes', 'Fitzpatrick', 'Thorne', 'Schmidt', 'Wilton', 'Macleod', 'Mcloughlin', 'Croft', 'Mcclymont', 'Truman', 'Entwistle', 'Yomkins', 'Bing', 'Mcdonnell', 'Lawrie', 'Lyes', 'Albutt', 'Milford', 'Buchanan', 'Anderson', 'Woodhouse', 'Redwood', 'Deeley', 'Lennard', 'Leith', 'Gibbons', 'Wintersgill', 'Rodden', 'Isgate', 'Goring', 'Saleh', 'Twine', 'Goff', 'Crowe', 'Quinton', 'Pratt', 'Farrer', 'Govender', 'Oconnor', 'Bethell', 'Hegney', 'Wray', 'Lavery', 'Earl', 'Colley', 'Provan', 'Christy', 'Flavell', 'Kinchin', 'Alker', 'Bowman', 'Jewell', 'Dunnett', 'Villis', 'Lovegrove', 'Ludkin', 'Brookes', 'Harry', 'Carney', 'Rhys', 'Tweddle', 'Gaskell', 'Tapping', 'Elkington', 'Adams', 'Keogh', 'Knoxville', 'Beamish', 'Matthams', 'Mccall', 'Vallance', 'Macgregor', 'Elmore', 'Watson', 'Thornhill', 'Tyrer', 'Tatlow', 'Peacock', 'Adsett', 'Aspinall', 'Blanchard', 'Dolcy', 'Crisp', 'Edkins', 'Grayson', 'Farrar', 'Tatlock', 'Treseder', 'Emberey', 'Uddin', 'Rigby', 'Crow', 'Kitchen', 'Perowne', 'Noonan', 'Ryans', 'Featherstone', 'Eggison', 'Baird', 'Warriner', 'Monaghan', 'Gallo', 'Yapp', 'Leake', 'Overfield', 'Reade', 'Lathan', 'Potter', 'Kearney', 'Leach', 'Hutchins', 'Banner', 'Milligan', 'Driver', 'Rossi', 'Turvey', 'Longley', 'Kennard', 'Wateridge', 'Frankish', 'Overing', 'Topley', 'Nero', 'Moon', 'Quinn', 'Atkinson', 'Kelsall', 'Flower', 'Stacey', 'Blackwell', 'Pannell', 'Chase', 'Lattimore', 'Jenas', 'Emmings', 'Nilsen', 'Roussel', 'Kone', 'Jerry', 'Fallows', 'Sheridan', 'Ventura', 'Pugh', 'Tufnall', 'Sweeting', 'Ramm', 'Pavot', 'Grinham', 'Mohammed', 'Dwyer', 'Mack', 'Southgate', 'Parkin', 'Hampson', 'Innalls', 'Kilnan', 'Garcia', 'Vockins', 'Knappett', 'Wilkie', 'Widdows', 'Regan', 'Wilkins', 'Towell', 'Nedd', 'Norsworthy', 'Jennings', 'Dalzell', 'Bowes', 'Coll', 'Fortin', 'Uttridge', 'Gladwell', 'Pyle', 'Titmuss', 'Gunn', 'Mclellan', 'Swan', 'Youlden', 'Vicary', 'Townsend', 'Nott', 'Dunne', 'Ashcroft', 'Eltis', 'Ayres', 'Kilbee', 'Royall', 'Goldberg', 'Hannam', 'Line', 'Werner', 'Smithson', 'Lamond', 'Savage', 'Sanchez', 'Chambers', 'Toms', 'Attewell', 'Passmore', 'Newbold', 'Calvert', 'Gillespie', 'Reeves', 'Sadiq', 'Cook', 'Greenshields', 'Mill', 'Ahmed', 'Adrol', 'Wren', 'Thomson', 'Dover', 'Palmer', 'Craig', 'Yeates', 'Whiteford', 'Crane', 'Finch', 'Telford', 'Wyatt', 'Kaye', 'Verney', 'Buckingham', 'Parry', 'Yetman', 'Kendall', 'Warn', 'Mansell', 'Cunningham', 'Owens', 'Lock', 'Edley', 'Fenton', 'Ayley', 'Sweeney', 'Burland', 'Nicholas', 'Pike', 'Tovey', 'Rushton', 'Harrington', 'Davie', 'Ginty', 'Cullen', 'Neill', 'Dent', 'Pine', 'Wilkin', 'Freeman', 'Dunkley', 'Holgate', 'Foster', 'Mathews', 'Parr', 'Pomeroy', 'Sturgess', 'Mcnaught', 'Keaveney', 'Rawsthorne', 'Elston', 'Opayne', 'Godby', 'Tinkler', 'Hayes', 'Kettell', 'Ridgway', 'Newsham', 'Gaudin', 'Chelmy', 'Okeefe', 'Gulley', 'Eastwood', 'Sexton', 'Lightfoot', 'Lambton', 'Nowell', 'Ostcliffe', 'Tell', 'Kromberg', 'Ricketts', 'Lakin', 'Dorrian', 'Baker', 'Moreno', 'Bevan', 'Tips', 'Keith', 'Evrard', 'Eckersley', 'Powis', 'Eccleston', 'Butt', 'Darr', 'Garside', 'Greensmith', 'Ibbs', 'Duffield', 'Huggins', 'Morton', 'Sharkey', 'Ormond', 'Luxton', 'Griffith', 'Roles', 'Eaves', 'Train', 'Twiggs', 'Redding', 'Heritage', 'Winfer', 'Atkins', 'Addley', 'Keay', 'Given', 'Powers', 'Milward', 'Chilvers', 'Lindo', 'Unsworth', 'Fielder', 'Howell', 'Roff', 'Munro', 'Dymond', 'Paisley', 'Couch', 'Edon', 'Verdon', 'Hubbard', 'Matheson', 'Galliford', 'Bryson', 'Boon', 'Platt', 'Rodger', 'Bramley', 'Emmins', 'Towns', 'Fairclough', 'Gardner', 'Ebbs', 'Goodyear', 'Kipling', 'Eales', 'Kingston', 'Janes', 'Webb', 'Edwick', 'Shearer', 'Todd', 'Adey', 'Whittingham', 'Shakespeare', 'Wakeford', 'Denham', 'Kinrade', 'Kilburn', 'Edeson', 'Fallon', 'Totten', 'Oatway', 'Jenks', 'Langley', 'Batchelor', 'Cleaver', 'Newlands', 'Barnes', 'Robson', 'Marks', 'Reardon', 'Pounder', 'Vancoller', 'Ellwood', 'Higgins', 'Luce', 'Hartley', 'Kett', 'Debenham', 'Jacks', 'Sutherland', 'Lang', 'Atherton', 'Aldridge', 'Beatty', 'Kearns', 'Hodgkinson', 'Lunn', 'Chauhan', 'Mcnally', 'Gillan', 'Bradley', 'Pett', 'Beale', 'Frazer', 'Waller', 'Leck', 'Coburn', 'Appleyard', 'Garrard', 'Hall', 'Kassell', 'Dorman', 'Humphries', 'Deighton', 'Charlton', 'Overett', 'Leadley', 'Currie', 'Dobson', 'Townsley', 'Abraham', 'Trennery', 'Keighley', 'Abel', 'Lawn', 'Robb', 'Lyall', 'Rockliffe', 'Lane', 'Casey', 'Orbell', 'Brock', 'Lincoln', 'Hopkinson', 'Snell', 'Campbell', 'Jolly', 'Farr', 'Routledge', 'Leese', 'Uttley', 'Earing', 'Leaver', 'Leyshon', 'Burgess', 'Yoman', 'Ardern', 'Birch', 'Burke', 'Utley', 'Lame', 'Allport', 'Godden', 'Greenway', 'North', 'Warrington', 'Hinds', 'Lester', 'Pick', 'Swift', 'Pailing', 'Mac', 'Olding', 'Furnell', 'Peaper', 'Stoddart', 'Chapple', 'Kelsey', 'Ford', 'Biggs', 'Bassett', 'Levin', 'Day', 'Gavin', 'Kysel', 'Ruff', 'Walker', 'Woolnough', 'Stanley', 'Astley', 'Parratt', 'Reygan', 'Durham', 'Greenleaf', 'Dempsey', 'Sylvester', 'Mcdonagh', 'Elzer', 'Croucher', 'Strong', 'Bithell', 'Shand', 'Sayers', 'Arnett', 'Newstead', 'Nixon', 'Althoff', 'Walsh', 'Maughan', 'Greenall', 'Garbett', 'Ridge', 'Bland', 'Radley', 'Keyte', 'Gutteridge', 'Waterman', 'Neilson', 'Collard', 'Pond', 'Villiger', 'Young', 'Sims', 'Robishaw', 'Houston', 'Cassidy', 'Alvey', 'Tomes', 'Moran', 'Sanders', 'Cahill', 'Amor', 'Scott', 'Parmar', 'Dyde', 'Perrins', 'Fairbairn', 'Redmond', 'Ali', 'Woollard', 'Norman', 'Furnish', 'Forshaw', 'Everdell', 'Close', 'Griffiths', 'Cherry', 'Rigley', 'Armitage', 'Knightley', 'Greenslade', 'Shaw', 'Keegan', 'Adderley', 'Kilbride', 'Dixon', 'Dyson', 'Haddock', 'Raine', 'Regent', 'Coates', 'Maynard', 'Richardson', 'Bainbridge', 'Titmus', 'Gresham', 'Eggby', 'Pipe', 'Larkin', 'Dove', 'Kempson', 'Nielson', 'Thomas', 'Curley', 'Prime', 'Friel', 'Leckie', 'Goldsworthy', 'Oakley', 'Kearton', 'Cooke', 'Aitken', 'Travis', 'Lovatt', 'Platts', 'Santos', 'Steel', 'Neighbour', 'Mclean', 'Norbert', 'Otoole', 'Whitelaw', 'Jackson', 'Payne', 'Dickenson', 'Parkes', 'Haine', 'Kerrison', 'Bridges', 'Douglas', 'Kirwin', 'Kolt', 'Privett', 'Eyre', 'Noggins', 'Orchard', 'Pickford', 'Butcher', 'Maloney', 'Corrigan', 'Sewell', 'Keffler', 'Jeffery', 'Giles', 'Goulding', 'Wakelin', 'Pinsmail', 'Clements', 'Timmins', 'Williamson', 'Urwin', 'Emms', 'Trollope', 'Naumann', 'Jordison', 'Elliot', 'Wotherspoon', 'Nanson', 'Langford', 'Panesar', 'Gilmartin', 'Beal', 'Hutchings', 'Mckenzie', 'Greenaway', 'Rawlings', 'Mair', 'Wilkinson', 'Duck', 'Fagon', 'Fereday', 'Mckeown', 'Greaves', 'Koban', 'Arnold', 'Klam', 'Emmery', 'Riley', 'Holdsworth', 'Robins', 'Allam', 'Gilmour', 'Upton', 'Pinkney', 'Nicolson', 'Aslam', 'Feetham', 'Evison', 'Noakes', 'Dunsford', 'Rivers', 'Burge', 'Kelland', 'Lindop', 'Roman', 'Dallas', 'Healy', 'Dell', 'Oldland', 'Downes', 'Henry', 'Lovelock', 'Gunby', 'Addison', 'Bear', 'Khan', 'Flett', 'Grogan', 'Chong', 'Durrant', 'Dunn', 'Horton', 'Vine', 'Pritchard', 'Jordon', 'Harker', 'Ketteringham', 'Ashurst', 'Rowlinson', 'Astle', 'Espley', 'Melia', 'Bowden', 'Valentine', 'Ramsden', 'Wootton', 'Dack', 'Halliday', 'Shah', 'Jenkinson', 'Tobin', 'Henderson', 'Winder', 'Gledhill', 'Hocking', 'Freight', 'Renshaw', 'Desai', 'Lewry', 'Kayes', 'Rafferty', 'Alderson', 'Jacobs', 'Toucet', 'Bayliss', 'Feltham', 'Riseborough', 'Riddler', 'Perrett', 'Torres', 'Davies', 'Forth', 'Ashbridge', 'Linsby', 'Eglan', 'Reilly', 'Friend', 'Grennan', 'Emmons', 'Kitchin', 'Wiltshire', 'Skelly', 'Hodgson', 'Poyser', 'Vallins', 'Wickham', 'Squire', 'Wyer', 'Pankhurst', 'Staff', 'George', 'Jakeman', 'Hand', 'Lancaster', 'Keenan', 'Holman', 'Schofield', 'Robert', 'Pateman', 'Pickett', 'Mccallum', 'Gibson', 'Hopwood', 'Ducon', 'Fearnley', 'Kentwood', 'Fullerton', 'Stott', 'Macaulay', 'Woodley', 'Whalley', 'Elstone', 'Kelly', 'Eskins', 'Parkinson', 'Stokoe', 'Elkin', 'Donald', 'Trimble', 'Farrow', 'Mcneill', 'Griffin', 'Troon', 'Pender', 'Ling', 'Stroud', 'Oddie', 'Hooper', 'Wolf', 'Hellier', 'Salt', 'Mcculloch', 'Rodwell', 'Dick', 'Mundy', 'Killeen', 'York', 'London', 'Harness', 'Grimes', 'Webster', 'Etchells', 'Vince', 'Hussain', 'Vanstone', 'Townend', 'Watkins', 'Kane', 'Rodriguez', 'Dunning', 'Gooding', 'Keys', 'Turkington', 'Prior', 'Wood', 'Pasfield', 'Timney', 'Duffy', 'Mccarthy', 'Mcnamara', 'Fyall', 'Woodward', 'Steele', 'Dibble', 'Teale', 'Jarrold', 'Warby', 'Denby', 'Griggs', 'Goode', 'Humphrey', 'Jensen', 'Moffat', 'Gower', 'Wallace', 'Fell', 'Dodd', 'Western', 'Kinder', 'Spencer', 'Strange', 'Treble', 'Woodham', 'Hood', 'Wileman', 'Waldron', 'Humphreys', 'Moreton', 'Jury', 'Docker', 'Jarram', 'Quirk', 'Spiller', 'Meadows', 'Macpherson', 'Johanson', 'Ennos', 'Jaffray', 'Johnston', 'Maclean', 'Kinniburgh', 'Endroe', 'James', 'Emsden', 'Hanlon', 'Eckersall', 'Enright', 'Hughes', 'Kerby', 'Edgley', 'Elcock', 'Spears', 'Haworth', 'Hadfield', 'Voyse', 'Homer', 'Hickman', 'Vickery', 'Hook', 'Jeffcock', 'Elder', 'Osmond', 'Hindley', 'Embleton', 'Oaks', 'Ellrott', 'Eedie', 'Jarvis', 'Hope', 'Edwards', 'Eastaway', 'Egan', 'Jasper', 'Osborne', 'Zaoui'], 'Chinese': ['Gok', 'Yun', 'Hong', 'Kwan', 'Sum', 'Qin', 'Tai', 'Gwock', 'Seah', 'Guan', 'Dan', 'Wen', 'Liu', 'Nao', 'Chao', 'Shaw', 'Xin', 'Sha', 'Dou', 'Zhao', 'Loong', 'Thean', 'Thien', 'Zhai', 'Shum', 'Bing', 'Mui', 'Gan', 'Hua', 'Shi', 'Hiu', 'Quan', 'Kwong', 'Ming', 'Mak', 'Bei', 'Zhang', 'Qing', 'Gou', 'Guan', 'Chieu', 'Lang', 'Niu', 'Zha', 'Cui', 'Bian', 'Kang', 'Feng', 'Han', 'She', 'Lao', 'Zhi', 'Chu', 'Rong', 'Hui', 'Kan', 'Tsang', 'Moy', 'Thian', 'Chou', 'Cai', 'Pang', 'Huo', 'Ang', 'Ran', 'Yee', 'Wei', 'Cheng', 'Shu', 'Jue', 'Xing', 'Khu', 'Lu:', 'Chew', 'Guo', 'Yue', 'Wan', 'Ruan', 'Bai', 'Pan', 'Sui', 'Tow', 'Huan', 'Siu', 'Chen', 'Zhuo', 'Jian', 'You', 'Min', 'Shuo', 'Wan', 'Wang', 'Lam', 'Chong', 'Fan', 'Xuan', 'Sheng', 'Chi', 'Zha', 'Jiang', 'Hor', 'Yong', 'Kuai', 'Ying', 'Cuan', 'Che', 'Jin', 'Feng', 'Won', 'Chu', 'Gui', 'Woo', 'Cen', 'Gong', 'Shang', 'Zhang', 'Xiao', 'Shuai', 'Luo', 'Xue', 'Jiu', 'Zou', 'Dong', 'Jing', 'Yep', 'Xie', 'Tsen', 'Sun', 'Shao', 'Mai', 'Deng', 'Rao', 'Kwei', 'Tian', 'Pei', 'Ow-Yang', 'Bui', 'Miao', 'Gao', 'Weng', 'Tang', 'Ling', 'Song', 'Zhong', 'Kui', 'Bao', 'Yin', 'Huang', 'Luo', 'Gai', 'Seow', 'Shen', 'Chang', 'Liao', 'Lai', 'Kau', 'Chan', 'Koo', 'Ding', 'Shi', 'Huie', 'Meng', 'Mei', 'Tao', 'She', 'Shan', 'Jin', 'Zhu', 'Gauk', 'Yan', 'Liang', 'Zang', 'Qiao', 'Qian', 'Yuan', 'Jia', 'Huan', 'Yim', 'Hao', 'Ying', 'Guang', 'Yan', 'Tze', 'Lew', 'Law', 'Chaim', 'Yuan', 'Lian', 'Fei', 'Loh', 'Hew', 'Zhan', 'Ou-Yang', 'Yap', 'Xian', 'Juan', 'Fei', 'Ping', 'Xie', 'Xing', 'Pian', 'Zhou', 'Zong', 'Au-Yong', 'Rui', 'Tse', 'Duan', 'Teng', 'Tso', 'Qiu', 'Xiang', 'Mah', 'Hong', 'Zeng', 'Fung', 'Eng'], 'Portuguese': ['Palmeiro', 'Machado', 'Garcia', \"D'cruze\", 'Moreno', 'De santigo', 'Campos', 'Simões', 'Magalhães', 'Silva', 'Rios', 'Gaspar', 'Matos', 'Nunes', 'Ramires', 'Belo', 'Albuquerque', 'Serafim', 'Souza', 'Ribeiro', 'Paredes', 'Maria', 'Mata', 'Madeira', 'Araújo', 'Estéves', 'Basurto', 'Cruz', 'Rodrigues', 'Guerra', 'Rocha', 'Henriques', 'Delgado', 'Costa', 'Santana', 'Soares', 'Cabral', 'Salazar', 'Ventura', 'Vargas', 'Lobo', 'Pinheiro', 'Freitas', 'Coelho', 'Melo', 'Ferro', 'Pereira', 'Medeiros', 'Alves', 'Gomes', 'Santos', 'Ferreiro', 'Torres', 'Franco', 'Rosario', 'Fonseca', 'Fernandes', 'Duarte', 'Castro', 'Almeida', 'Araullo'], 'Irish': ['Sloan', 'Bran', 'Fergus', 'Madaidhin', 'Reynold', 'Cnaimhin', 'Tracey', 'Dalach', 'Aodh', 'Rian', 'Samuel', 'Neville', \"O'Malley\", 'Michael', 'Kelly', 'Madden', 'Mcmahon', 'Donndubhan', 'Mcneil', 'Braden', 'Ruadh', 'Whalen', 'Cearbhall', \"O'Boyle\", 'Diarmaid', 'Cuidightheach', 'Mckay', 'Pharlain', 'Ahearn', \"O'Callaghann\", 'Cathasach', 'Seighin', 'Connolly', 'Muirchertach', 'Eoin', 'Conn', 'Meadhra', 'Mochan', 'Brady', 'Cormac', 'Ceallach', 'Fionn', 'Flynn', \"O'Kane\", 'Devin', 'Mulryan', \"O'Hara\", 'Mcnab', 'Power', 'Doherty', 'Sioda', 'Callaghan', 'Malone', 'Duncan', 'Sullivan', 'Damhain', 'Clark', 'Maille', 'Mohan', \"O'Donnell\", 'Aonghus', 'Aodha', 'Cleirich', 'Bradach', 'Mahoney', \"O'Byrne\", 'Rhys', 'Teagan', 'Names', 'Whelan', 'Simon', 'Niall', 'Macclelland', 'Molloy', 'Mathghamhain', 'Ruadhain', 'Macfarland', \"O'Shea\", 'Cassidy', 'Cennetig', 'Ciardha', 'Maurice', 'Brannon', \"O'Hagan\", 'Carey', 'Treasach', \"O'Boyle\", 'Monahan', 'Nolan', 'Macshuibhne', 'Peatain', \"O'Meara\", 'Dúbhshlaine', 'Finn', 'John', \"O'Brian\", 'Maciomhair', 'Mclain', 'Suaird', 'Roach', \"O'Grady\", 'Cathain', \"O'Dowd\", \"O'Sullivan\", 'Eoin', 'Brian', 'Donnchadh', 'Damhan', 'Dubhan', \"O'Toole\", \"O'Driscoll\", 'Coghlan', \"O'Keefe\", \"O'Hanlon\", 'Rodagh', 'Hayden', 'Donnell', 'Nuallan', 'Keefe', \"O'Leary\", 'Connell', 'Finnegan', 'Quinn', 'Shannon', \"O'Neal\", \"O'Hannigain\", 'Collins', 'Tighearnach', 'Ivor', 'Kavanagh', 'Fearghal', 'Reilly', 'Mooney', 'Gerald', \"O'Neill\", 'Ruaidh', \"O'Doherty\", \"O'Loughlin\", \"O'Keeffe\", 'Gorman', 'Conall', 'Nevin', 'Conchobhar', 'Register', 'Murchadh', 'Maguire', \"O'Hannagain\", 'Coilean', \"O'Rourke\", \"O'Reilly\", 'Riagan', \"O'Gorman\", 'Sluaghadhan', \"O'Donoghue\", 'Tadhg', 'Niadh', 'Giolla', 'Quirke', 'Delaney', \"O'Connor\", 'Donoghue', 'Curran', 'Corraidhin', 'Riain', 'Seaghdha', \"O'Dell\", 'Farrell', 'Lennon', 'Riagain', \"O'Keefe\", \"O'Halloran\", \"O'Kelly\", \"O'Mahony\", 'Flanagan', 'Aonghuis', \"O'Connell\", 'Manus', 'Rory', 'Login', 'Tadhgan', 'Daly', 'Desmond', 'Maolmhuaidh', 'Naoimhin'], 'Scottish': ['Cunningham', 'Macdonald', 'Ross', 'Dickson', 'Murphy', 'Mitchell', 'Crawford', 'Smith', 'Boyle', 'Aitken', 'Muir', 'Macleod', 'Mccallum', 'Grant', 'Kelly', 'Whyte', 'Hay', 'Fleming', 'Reid', 'Duncan', 'Fraser', 'Mclaughlin', 'Thomson', 'Henderson', 'Taylor', 'Morrison', 'Mackay', 'Mckenzie', 'Mcintosh', 'Hill', 'Wright', 'Scott', 'Burns', 'Russell', 'Marshall', 'Sutherland', 'Williamson', 'Stevenson', 'Mcmillan', 'Millar', 'Mclean', 'Wilson', 'Mcdonald', 'Wood', 'Jamieson', 'Clark', 'Maclean', 'Mckay', 'Walker', 'Jackson', 'Douglas', 'Hunter', 'Black', 'Christie', 'Watt', 'Anderson', 'Mcintyre', 'Bell', 'Kerr', 'Lindsay', 'King', 'Alexander', 'Milne', 'Campbell', 'Mcgregor', 'Cameron', 'Johnstone', 'Ramsay', 'Gibson', 'Johnston', 'Gray', 'Docherty', 'Simpson', 'Young', 'Watson', 'Hamilton', 'Graham', 'Robertson', 'Paterson', 'Stewart', 'Brown'], 'Polish': ['Janda', 'Pasternack', 'Sokolowski', 'Klimek', 'Sienkiewicz', 'Szewc', 'Gomolka', 'Ziemniak', 'Niemczyk', 'Maly', 'Budny', 'Adamczak', 'Szczepanski', 'Sadowski', 'Szwarc', 'Wyrzyk', 'Gwozdek', 'Majewski', 'Wojewódzki', 'Kosmatka', 'Bukoski', 'Broż', 'Jagoda', 'Michel', 'Jelen', 'Gorecki', 'Ślusarczyk', 'Jez', 'Kaluza', 'Jaskulski', 'Filipowski', 'Fabian', 'Zdunowski', 'Jedynak', 'Skala', 'Lis', 'Kamiński', 'Gomulka', 'Bukowski', 'Starek', 'Kedzierski', 'Wawrzaszek', 'Bernard', 'Sokolof', 'Sówka', 'Kumiega', 'Sokolsky', 'Dunajski', 'Sokolofsky', 'Wojda', 'Czajka', 'Pakulski', 'Kowalczyk', 'Szwedko', 'Czajkowski', 'Mencher', 'Wiater', 'Szweda', 'Stolarz', 'Zawisza', 'Walentowicz', 'Bosko', 'Ślązak', 'Zielinski', 'Sokal', 'Piatek', 'Sitko', 'Pokorny', 'Nosek', 'Brzezicki', 'Grzeskiewicz', 'Chmiel', 'Górski', 'Róg', 'Kaczka', 'Adamczyk', 'Nowak', 'Sobol', 'Kava', 'Slaski', 'Sniegowski', 'Sierzant', 'Maslanka', 'Dubicki', 'Pasternak', 'Rutkowski', 'Dubanowski', 'Koziol', 'Winogrodzki', 'Mikolajczak', 'Andrysiak', 'Krakowski', 'Malinowski', 'Janowski', 'Marszałek', 'Mozdzierz', 'Piontek', 'Wojewódka', 'Salomon', 'Kozlowski', 'Rudawski', 'Zientek', 'Gajos', 'Kasprzak', 'Kozlow', 'Rusnak', 'Zabek', 'Winograd', 'Lawniczak', 'Wronski', 'Żuraw'], 'German': ['Krämer', 'Hirsch', 'Peter', 'Hasenkamp', 'Kaspar', 'Derrick', 'Pletcher', 'Brant', 'Aeschelman', 'Dittmar', 'Saller', 'Meindl', 'Augustin', 'Papke', 'Bergfalk', 'Kuhn', 'Kunkel', 'Behrends', 'Otto', 'Kohler', 'Kistner', 'Schubert', 'Fertig', 'Glöckner', 'Wirt', 'Schlimme', 'Adenauer', 'Käufer', 'Janson', 'Xylander', 'Bäcker', 'Bähr', 'Lange', 'Gerst', 'Zimmermann', 'Voss', 'Schuchard', 'Weiss', 'Von essen', 'Teufel', 'Jaeger', 'Spannagel', 'Artz', 'Hoover', 'Aleshite', 'Schmitz', 'Weiß', 'Tifft', 'Regenbogen', 'Jund', 'Oelberg', 'Spitznogle', 'Stieber', 'Lorenz', 'Aue', 'Papp', 'Best', 'Tillens', 'Dohman', 'Blau', 'Kruse', 'Koenigsmann', 'Reiher', 'Großer', 'Bieber', 'Vogel', 'Gott', 'Siskind', 'Senft', 'Dresdner', 'Braune', 'Bauer', 'Kästner', 'Reier', 'Fiedler', 'Hoch', 'Kröger', 'Hölzer', 'Breitbarth', 'Vonnegut', 'Faerber', 'Färber', 'Friedrich', 'Schuhart', 'Bach', 'Wagner', 'Abeln', 'Kalb', 'Unkle', 'Ludwig', 'Schultheis', 'Fürst', 'Küchler', 'Sitz', 'Bretz', 'Scheinberg', 'Dirchs', 'Möller', 'Von wegberg', 'Kunze', 'Suess', 'Winter', 'Wolter', 'Rosenfeld', 'Gwerder', 'Schultheiß', 'Trumbauer', 'Wexler', 'Schwartz', 'Lieberenz', 'Freud', 'Schrader', 'Feldt', 'Janz', 'Schuhmacher', 'Frost', 'Schreck', 'Weber', 'Porsche', 'Baumgartner', 'Metzger', 'Blecher', 'Beringer', 'Bayer', 'Reuter', 'Böhme', 'Frei', 'Lewerenz', 'Hafner', 'Stoppelbein', 'Benn', 'Denzel', 'Winther', 'Graner', 'Fuchs', 'Althaus', 'Volk', 'Vogts', 'Peters', 'Rosenberger', 'Schroeder', 'Fenstermacher', 'Messer', 'Gorman', 'Kranz', 'Marquardt', 'Schreier', 'Stueck', 'Beckert', 'Keil', 'Rapp', 'Ohme', 'Strobel', 'Meyer', 'Ebner', 'Schenck', 'Kirchner', 'Siegel', 'Halle', 'Hase', 'Klein', 'Beyersdorf', 'Adam', 'Esser', 'Schulze', 'Baumgärtner', 'Gross', 'Kock', 'Biermann', 'Mas', 'Rothenberg', 'Nagel', 'Dunkle', 'Geissler', 'Greenberg', 'Brune', 'Garb', 'Moser', 'Loris', 'Gass', 'Knochenmus', 'Lehrer', 'Rosenberg', 'Messner', 'Kaube', 'Steuben', 'Brauer', 'Abt', 'Hofmeister', 'Schnoor', 'Wägner', 'Tanzer', 'Knef', 'Beltz', 'Mueller', 'Wolf', 'Rettig', 'Markwardt', 'Salomon', 'Hasek', 'Leitner', 'Reuter', 'Schuchert', 'Leitzke', 'Meinhardt', 'Böhm', 'Haber', 'Berg', 'Größel', 'Fischer', 'Walther', 'Richter', 'Baasch', 'Kerwer', 'Braun', 'Sitz', 'Garver', 'Ackermann', 'Sommer', 'Holzer', 'Wirner', 'Schultz', 'Von ingersleben', 'Strohkirch', 'Gerhard', 'Kneib', 'Pahlke', 'Solberg', 'Hausler', 'Bösch', 'Knepp', 'Kiefer', 'Ott', 'Bauers', 'Schulte', 'Becke', 'Flater', 'Schwarzenegger', 'Duerr', 'Klossner', 'Mohren', 'Tobias', 'Tritten', 'Jans', 'Fromm', 'Boesch', 'Abel', 'Salzwedel', 'Abbing', 'Hall', 'Steube', 'Falkenrath', 'Schoettmer', 'Keller', 'Hildebrand', 'Aleshire', 'Kaiser', 'Tangeman', 'Saller', 'Stoppelbein', 'Meier', 'Oliver', 'Kerner', 'Rot', 'Riese', 'Walter', 'Mendelsohn', 'Löwe', 'Wendel', 'Beckenbauer', 'Simmon', 'Höfler', 'Maas', 'Hinrichs', 'Metz', 'Hüber', 'Wechsler', 'Unruh', 'Rier', 'Foth', 'Schwinghammer', 'Wörner', 'Hummel', 'Swango', 'Sheinfeld', 'Hintzen', 'Stumpf', 'Weiman', 'Gutermuth', 'Sommer', 'Kraus', 'Wyman', 'Mayer', 'Leitz', 'Raske', 'Maurer', 'Eichel', 'Baumann', 'Schuler', 'Feld', 'Habich', 'Fuhrmann', 'Chevrolet', 'Herbert', 'Adler', 'Armbrüster', 'Sommer', 'Lenz', 'Voigts', 'Junge', 'Strand', 'Andres', 'Huffmann', 'Waldvogel', 'Laurenz', 'Kistler', 'Brodbeck', 'Kunkle', 'Bohn', 'Schirmer', 'Grosz', 'Pawlitzki', 'Burgstaller', 'Geiszler', 'Schuster', 'Buhr', 'Knopp', 'Jäger', 'Stauss', 'Waxweiler', 'Böhler', 'Dahl', 'Schlusser', 'Krebs', 'Sponaugle', 'Schröder', 'Morgenstern', 'Geisler', 'Dressler', 'Pfaff', 'Mendelssohn', 'Seidel', 'Marquerink', 'Werner', 'Müller', 'Muhlfeld', 'Brandt', 'Vann', 'Ritter', 'Wernher', 'Egger', 'Schröter', 'Wiegand', 'Wehunt', 'Kraemer', 'Bruhn', 'Baumbach', 'Huffman', 'Paulis', 'Sachs', 'Melsbach', 'Große', 'Köhl', 'Gotti', 'Weigand', 'Kuntz', 'Großel', 'Wolff', 'Krüger', 'Stroman', 'Busch', 'Stein', 'Fabel', 'Bleier', 'Welter', 'Essert', 'Mann', 'Autenburg', 'Haase', 'Lang', 'Zellweger', 'Kohl', 'Ebner', 'Sternberg', 'Vogt', 'Neumann', 'Slusser', 'Schwenke', 'Simon', 'Krantz', 'Huber', 'Kron', 'Habicht', 'Schäfer', 'Hahn', 'Gärtner', 'Jager', 'Wahner', 'Fux', 'Schumacher', 'Van tonder', 'Bernat', 'Dunst', 'Eilerts', 'Bischoffs', 'Hertz', 'Nuremberg', 'Gerber', 'Fleischer', 'Katz', 'Hermann', 'Dietrich', 'Horowitz', 'Fried', 'Giese', 'Heinrich', 'Steinmann', 'Kiefer', 'Gerig', 'Krüger', 'Lorentz', 'Carver', 'Achilles', 'Schnur', 'Sorge', 'Stuber', 'Koch', 'Lafrentz', 'Westerberg', 'Geiger', 'Dreher', 'Auttenberg', 'Winther', 'Siemon', 'Wetzel', 'Voigt', 'Lichtenberg', 'Wirth', 'Unterbrink', 'Wetterman', 'Dieter', 'Baum', 'Feigenbaum', 'Messerli', 'Lafrenz', 'Geier', 'Wieck', 'Bosch', 'Schmeling', 'Hochberg', 'Wegner', 'Haas', 'Holtzer', 'Wörnhör', 'Sander', 'Zilberschlag', 'Mendel', 'Brahms', 'Jung', 'Herschel', 'Nussenbaum', 'Brose', 'Bumgarner', 'Martz', 'Wruck', 'Raskop', 'Knopf', 'Fashingbauer', 'Gaertner', 'Enns', 'Schulz', 'Blumenthal', 'Horn', 'Rademacher', 'Meissner', 'Schmitt', 'Schwarz', 'Ingersleben', 'Sonnen', 'Kundert', 'Langenberg', 'Voll', 'Breisacher', 'Heidrich', 'Brinkerhoff', 'Landau', 'Engel', 'Maier', 'Kalbfleisch', 'Lehmann', 'Gerstle', 'Beutel', 'Kassmeyer', 'Wirnhier', 'Raskoph', 'Scheer', 'Schroeter', 'Wehner', 'Kappel', 'Blumstein', 'Nussbaum', 'Kauffmann', 'Becker', 'Wendell', 'Hartmann', 'Schultheiss', 'Oursler', 'Beyer', 'Hummel', 'Kurzmann', 'Gros', 'Beck', 'Franke', 'Kerper', 'Lewerentz', 'Brotz', 'Reiter', 'Straub', 'Marquering', 'Förstner', 'Beitel', 'Simons', 'Kruse', 'Schmidt', 'Kneller', 'Laberenz', 'Hauer', 'Kahler', 'Siegel', 'Warner', 'Schlender', 'Brun', 'Raskob', 'Kaufer', 'Schröder', 'Goldschmidt', 'Grünewald', 'Messmann', 'Lauritz', 'Kaufman', 'Sorg', 'Groß', 'Eckstein', 'Harman', 'Specht', 'Switzer', 'Schult', 'Koenig', 'Steffen', 'Luther', 'Aust', 'Amsel', 'Heintze', 'Schultze', 'Gehrig', 'Auer', 'Schindler', 'Protz', 'Larenz', 'Tresler', 'Gehring', 'Hoffmann', 'Gottschalk', 'Huff', 'Heppenheimer', 'Hoefler', 'Haupt', 'Heinrichs', 'Leverenz', 'Loritz', 'Portner', 'Günther', 'Tolkien', 'Prinz', 'Gabler', 'Holst', 'Plank', 'Grosse'], 'Greek': ['Panayiotopoulos', 'Demas', 'Koustoubos', 'Stavropoulos', 'Stamatelos', 'Adamidis', 'Forakis', 'Sklavenitis', 'Sotiris', 'Koulaxizis', 'Kefalas', 'Alexandropoulos', 'Pantelakos', 'Avgerinos', 'Phocas', 'Grammatakakis', 'Michalaras', 'Varvitsiotes', 'Taflambas', 'Houlis', 'Rousses', 'Vamvakidis', 'Bilias', 'Missiakos', 'Gavrilopoulos', 'Zouvelekis', 'Adamou', 'Kreskas', 'Matsoukis', 'Bertsimas', 'Kokkali', 'Kapsimalles', 'Metrofanis', 'Manos', 'Malihoudis', 'Kaloxylos', 'Rorris', 'Katsourinis', 'Danas', 'Konstantatos', 'Belesis', 'Hagias', 'Nomikos', 'Tourna', 'Kyritsis', 'Dioletis', 'Tsoumada', 'Leontarakis', 'Close', 'Mersinias', 'Rigatos', 'Antonopoulos', 'Sakelaris', 'Banos', 'Kosmas', 'Brisimitzakis', 'Chellos', 'Close', 'Kouches', 'Stamatas', 'Laganas', 'Petimezas', 'Milionis', 'Sardelis', 'Tsangaris', 'Christodoulou', 'Mentis', 'Rallis', 'Egonidis', 'Kotsiopoulos', 'Galanopoulos', 'Stroggylis', 'Frangopoulos', 'Kalakos', 'Horiatis', 'Lillis', 'Dasios', 'Paraskos', 'Tableriou', 'Kotsilimbas', 'Xydis', 'Close', 'Georgeakopoulos', 'Anetakis', 'Christakos', 'Karameros', 'Demarchis', 'Gianakopulos', 'Glynatsis', 'Sakellariou', 'Karkampasis', 'Vassilikos', 'Christou', 'Calogerakis', 'Fotopoulos', 'Protopsaltis', 'Bekyros', 'Patrianakos', 'Sortras', 'Antipas', 'Telis', 'Kolovos', 'Jamussa', 'Koutsoubos', 'Papadelias', 'Louverdis', 'Blades', 'Letsos', 'Vassilopulos', 'Haritopoulos', 'Papoutsis', 'Polites', 'Akrivopoulos', 'Antoniadis', 'Theofilopoulos', 'Polymenakou', 'Tassioglou', 'Papadopulos', 'Pispinis', 'Paschalis', 'Close', 'Theohari', 'Calpis', 'Angelopoulos', 'Bouloukos', 'Zaloumi', 'Kouros', 'Vlahos', 'Close', 'Dounias', 'Lolos', 'Drivakis', 'Honjas', 'Giannakopoulos', 'Garofalis', 'Close', 'Agelakos', 'Giannakos', 'Close', 'Kokoris', 'Eliopoulos', 'Sfakianos', 'Dalianis', 'Comino', 'Kouretas', 'Patselas', 'Gravari', 'Paloumbas', 'Kouropoulos', 'Papageorge', 'Pantelas', 'Panoulias', 'Antimisiaris', 'Kalogeria', 'Paitakes', 'Nikolaou', 'Kourempes', 'Pefanis', 'Manoukarakis', 'Diakogeorgiou', 'Arvanitoyannis', 'Tsogas', 'Dertilis'], 'Russian': ['Vedyashkin', 'Vystavkin', 'Vyakhirev', 'Mahmudov', 'Dubrowsky', 'Demidov', 'Avalov', 'Polivoda', 'Abugov', 'Toka', 'Didigov', 'Agol', 'Natareev', 'Mun', 'Anisemenok', 'Hon', 'Himich', 'Horkin', 'Zhorov', 'Patzevich', 'Velikov', 'Jatsunov', 'Dubrouski', 'Raih', 'Zingarevich', 'Shenkovets', 'Belyavsky', 'Rovner', 'Jablonovsky', 'Mihaleiko', 'Vanyashin', 'Vitov', 'Kalaganov', 'Deryabkin', 'Vaksberg', 'Batchaev', 'Gessen', 'Fazlov', 'Daunene', 'Molin', 'Movsesov', 'Awdeenko', 'Anikin', 'Horohorkin', 'Zhivago', 'Dudurich', 'Astratov', 'Rukhlyada', 'Adamyants', 'Bazhukov', 'Anorin', 'Yuzhakov', 'Mogilny', 'Harchev', 'Pytalev', 'Zheglov', 'Judanov', 'Likhtenshtein', 'Abatsiev', 'Shadyev', 'Abih', 'Tikhonov', 'Pavlyushkevich', 'Pochechikin', 'Tsveiba', 'Atlas', 'Haraz', 'Jakubik', 'Vanchagov', 'Rohlin', 'Islambekov', 'Dizhbak', 'Poshutilin', 'Agabekoff', 'Vikhrev', 'Zhemchugov', 'Muromtsov', 'Jukhotsky', 'Bestujev-Ryumin', 'Jarnikov', 'Hautiev', 'Auerbah', 'Rotast', 'Dubakin', 'Jimila', 'Novoselsky', 'Dardyk', 'Lupenkov', 'Zheltouhov', 'Vakser', 'Zhadanov', 'Agaponov', 'Vakulsky', 'Dzhigit', 'Baturov', 'Hilkov', 'Holmogortsev', 'Hisametdinov', 'Yakimovich', 'Egerev', 'Likin', 'Saks', 'Agapotchkin', 'Jirkevich', 'Pyschev', 'Yakimchik', 'Vazhorov', 'Rokhin', 'Jadrihinsky', 'Tzapov', 'Zhizhikin', 'Dovetov', 'Tropinin', 'Dontsov', 'Tihodeev', 'Schetinkin', 'Bairashewski', 'Pyrlin', 'Tchamov', 'Hafizov', 'Jivotovsky', 'Avakshin', 'Vaindrakh', 'Babikoff', 'Bilonog', 'Hlopetsky', 'Molochkov', 'Shadkhan', 'Astrahantsev', 'Zhilov', 'Shamshurin', 'Abdurahmanov', 'Pelshe', 'Kalitievsky', 'Balabuev', 'Ziyakov', 'Abbakumovsky', 'Velichinsky', 'Juzeev', 'Demetkin', 'Abitoff', 'Novoselitsky', 'Likhobabin', 'Zhongolovich', 'Hashaba', 'Muzalevsky', 'Mikhalkov', 'Adoratski', 'Rogashkov', 'Jadin', 'Avhadiev', 'To The First Page', 'Batsman', 'Djikaev', 'Chanchikov', 'Zimakov', 'Tomeev', 'Nosikov', 'Vilyunas', 'Onikov', 'Dobrik', 'Anisovich', 'Chekhluev', 'Chepulyanis', 'Zinkevich', 'Habichev', 'Jankis', 'Jugin', 'Juhov', 'Baban', 'Jalovoi', 'Himenko', 'Zharikhin', 'Jikin', 'Novokhatsky', 'Grokholsky', 'Engelsberg', 'Marchanukov', 'Novosadov', 'Kalinich', 'Liliental', 'Mahrov', 'Turanov', 'Baikowski', 'Pitomets', 'Gudz', 'Yachikov', 'Guzun', 'Aderihin', 'Deriglazov', 'Baklastov', 'Chekhonin', 'Astrakhantsev', 'Adashik', 'Haraev', 'Lutkov', 'Yalovets', 'Guzairov', 'Zhavoronsky', 'Alman', 'Awtaeff', 'Balakin', 'Prigarin', 'Groshkov', 'Porkhun', 'Turpaev', 'Losik', 'Jakov', 'Golovanyov', 'Rakhmanov', 'Chehovich', 'Harinov', 'Badridze', 'Tumov', 'Tchalovsky', 'Jamlihanov', 'Luppov', 'Gastfreind', 'Beider', 'Glavak', 'Valishin', 'Mochulov', 'Priemykhov', 'Katsevman', 'Hidirov', 'Bakshtanovski', 'Hlystun', 'Ryzhko', 'Rebinder', 'Bakaleinikov', 'Galetsky', 'Likhovskikh', 'Zelenko', 'Agalakov', 'Birman', 'Dzhumaev', 'Prikazchikov', 'Chepikov', 'Tuzin', 'Finov', 'Verstin', 'Bakholdin', 'Mikhailets', 'Zhemlikhanov', 'Pahunov', 'Ekaterininsky', 'Bachyanskas', 'Fedotkin', 'Finkelshtein', 'Seredinin', 'Hahanyan', 'Jan', 'Churyukin', 'Horhordin', 'Vipper', 'Tsapko', 'Vaskovtsev', 'Mochanov', 'Turno', 'Hariton', 'Iskortsev', 'Piterskikh', 'Lukhvich', 'Balakhovsky', 'Albov', 'Tsiulev', 'Fotiadi', 'Artyuhov', 'Jevanov', 'Eventov', 'Awtchenko', 'Bauman', 'Chuvilev', 'Serejnikov', 'Vakulenchuk', 'Hanzhin', 'Pavin', 'Ryjikov', 'Bakshandaev', 'Zavoruev', 'Veselago', 'Augustov', 'Chanyshev', 'Saifulin', 'Lykosov', 'Lychakov', 'Adzhemyan', 'Halipov', 'Hasanov', 'Isagaliev', 'Hlystov', 'Abaturov', 'Babukh', 'Pats', 'Sakiev', 'Beilis', 'Dobrynsky', 'Haziev', 'Besschetny', 'Hanzhin', 'Pavlenok', 'Bakastoff', 'Avaev', 'Nezavitin', 'Beklemeshev', 'Babadzhan', 'Murygin', 'Dzhanakavov', 'Vyzhutovich', 'Hamitov', 'Hait', 'Rekke', 'Dobrovolsky', 'Jemoitel', 'Mujikov', 'Djeladze', 'Davidenko', 'Horujenko', 'Eikhvald', 'Poroykov', 'Minko', 'Jadryshnikov', 'Ryzhakov', 'Ryjankov', 'Bibin', 'Shakhpaev', 'Mikhalevsky', 'Tumin', 'Belikovetsky', 'Yanaev', 'Turusov', 'Bahmetov', 'Turbin', 'Gashkov', 'Porokh', 'Vingilevsky', 'Awksentiewski', 'Jamoido', 'Muzykantsky', 'Tomaev', 'Shalganov', 'Awtsyn', 'Avraamov', 'Jikharev', 'Shaevich', 'Mikhaleiko', 'Pechenev', 'Parasyuk', 'Tobiash', 'Kartaev', 'Muzhitskih', 'Vyjutovich', 'Mikhalev', 'Shakhanov', 'Golosenko', 'Abrikosov', 'Lilov', 'Golochevsky', 'Murtazaliev', 'Zhinov', 'Zhuchkov', 'Leikisman', 'Otain', 'Nyurnberg', 'Tikhonin', 'Mikhel', 'Shahurin', 'Podshivalov', 'Lyrschikov', 'Evelson', 'Adjemyan', 'Mordvin', 'Maksyutov', 'Almut', 'Nasledov', 'Androsov', 'Hinich', 'Zhirov', 'Bakhrushin', 'Hallyev', 'Bekov', 'Minih', 'Aberson', 'Dogadin', 'Velikorodny', 'Baichenko', 'Yachmentsev', 'Badmaev', 'Shakhnazaryan', 'Bass', 'Yagafarov', 'Belous', 'Glusov', 'Pavlyukov', 'Yukhimuk', 'Pyankov', 'Julebin', 'Homsky', 'Vavilov', 'Katzari', 'Heruvimov', 'Zheleztsov', 'Zhiganov', 'Hanahu', 'Harchikov', 'Zavrajnov', 'Halansky', 'Granin', 'Horos', 'Awagimoff', 'Chkhartishvili', 'Zasursky', 'Belobrovkin', 'Tubolkin', 'Filipchenko', 'Avtsin', 'Avtorkhanov', 'Glubokovsky', 'Avrov', 'Mikhels', 'Gorchilin', 'Zhorin', 'Iskakov', 'Hantsev', 'Yankilevsky', 'Holstov', 'Yablonovsky', 'Astrakhansky', 'Tolboev', 'Agaryshev', 'Velikorechanin', 'Bekman', 'Glebovitsky', 'Jirenkin', 'Gerschcovich', 'Pazukhin', 'Hudyakov', 'Chizhikov', 'Abdrakhmanov', 'Eliasov', 'Lianozov', 'Lozovoy', 'Harmansky', 'Danyukov', 'Yatzuba', 'Velichkovsky', 'Dubrowski', 'Valyanov', 'Yujilin', 'Pitatelev', 'Jablontzev', 'Agatyev', 'Lyndyaev', 'Belogorsky', 'Yanowich', 'Juhimenko', 'Grotus', 'Engman', 'Gribanovsky', 'Mogilyuk', 'Dikikh', 'Zingerman', 'Abbasov', 'Kabytov', 'Evald', 'Djigarhanyan', 'Didkovsky', 'Islyamov', 'Davydchenkov', 'Anedchenko', 'Velts', 'Getmanov', 'Badoev', 'Shinkaruk', 'Kalinin', 'Moller', 'Kalimulin', 'Gasparyan', 'Dovnar', 'Jelohovtsev', 'Badyunoff', 'Elehin', 'Prokoshev', 'Yakub', 'Livadny', 'Podsyadlo', 'Demidoff', 'Holodilin', 'Zhevolozhnov', 'Granitov', 'Mischenko', 'Jelekhovsky', 'Agababyan', 'Golota', 'Porublev', 'Yatzevich', 'Minyaev', 'Tropinov', 'Katzebin', 'Baklashov', 'Momdjyan', 'Homaiko', 'Hamitsev', 'Charnetsky', 'Alper', 'Hakhva', 'Abrosimov', 'Hanikyan', 'Awtonomoff', 'Babukhin', 'Valentei', 'Rzheussky', 'Homentovsky', 'Helkvist', 'Sepp', 'Bim-Bad', 'Talberg', 'Deribo', 'Beltyukov', 'Vihrov', 'Kalaidjan', 'Abdulbasiroff', 'Bag', 'Androsik', 'Zhohov', 'Golovachev', 'Doinikov', 'Lysyh', 'Abubekeroff', 'Avryasov', 'Awdoshin', 'Aguzarov', 'Schirovsky', 'Adov', 'Dobrojanov', 'Bakusov', 'Mkervali', 'Adabashian', 'Lapegin', 'Vaikin', 'Belosvet', 'Avrorin', 'Nurdinov', 'Abrukov', 'Ebergard', 'Jarovtsev', 'Tikhov', 'Guzik', 'Yakhontov', 'Holoshin', 'Mstislavsky', 'Jevakhov', 'Timakin', 'Pyrchenko', 'Belik', 'Haritonenko', 'Chalyh', 'Behtenev', 'Yakubonis', 'Yanko', 'Yablochkov', 'Babin', 'Vyazovoy', 'Vyguzov', 'Awalyan', 'Mogilnikov', 'Vajnichy', 'Loi', 'Nakhamkis', 'Bilalov', 'Zhiltsov', 'Matskevich', 'Awdyushin', 'Erunov', 'Patzkevich', 'Nahapetov', 'Taldykin', 'Omarov', 'Noskin', 'Tzakh', 'Priezjaev', 'Mahankov', 'Jernovoy', 'Nakhushev', 'Hlyupin', 'Ustimkin', 'Tzeiner', 'Holschevnikov', 'Bakis', 'Ustyuzhanin', 'Loza', 'Chekhanov', 'Likholobov', 'Eroshkevich', 'Juditsky', 'Bakhtin', 'Jadov', 'Shalmanov', 'Esin', 'Visilkin', 'Horoshevsky', 'Golosenin', 'Glebov', 'Schitov', 'Vyschipan', 'Belosohov', 'Losev', 'Mumdjian', 'Rifkind', 'Makhlov', 'Pokhmelkin', 'Juzefovich', 'Horoshev', 'Pelih', 'Vanchugov', 'Gastev', 'Losenko', 'Kachurin', 'Bachaldin', 'Zhamoida', 'Isachenkov', 'Pokholkov', 'Atlanov', 'Likhovidov', 'Lukhmanov', 'Awerkowitch', 'Evarestov', 'Holboev', 'Dikarev', 'Mahutov', 'Pokhodeev', 'Zholovan', 'Nakhabtsev', 'Anikiev', 'Haliulin', 'Engalychev', 'Fadyuhin', 'Zhvykin', 'Baevsky', 'Kalita', 'Zhimirov', 'Adelgeim', 'Jilyaev', 'Barabolya', 'Zelenevsky', 'Dovgun', 'Atarskih', 'Portsevsky', 'Mogilev', 'Ponizov', 'Veligjanin', 'Kalinovsky', 'Andreichenko', 'Jivoluk', 'Vavich', 'Sakson', 'Barabash', 'Elenin', 'Rochegov', 'Mordberg', 'Badoff', 'Zolotilin', 'Bachilo', 'Raizer', 'Ilyuhin', 'Frukalov', 'Bakunov', 'Kabachev', 'Kalandinsky', 'Zinin', 'Lihonosov', 'Janovitsky', 'Tzarsky', 'Trukhnin', 'Tsehansky', 'Priklonsky', 'Biryuzov', 'Pyhov', 'Jatzuba', 'Evsiukov', 'Mahotkin', 'Vantorin', 'Hahalev', 'Gorst', 'Andruhovich', 'Danyarov', 'Pavlischev', 'Jabitsky', 'Atamanyuk', 'Baginoff', 'Pahmutov', 'Lepihin', 'Vedenisov', 'Baburin', 'Elansky', 'Hatkevich', 'Djankezov', 'Tihobrazov', 'Tzapaev', 'Bauze', 'Mihalkov', 'Muzychenko', 'Kalin', 'Demin', 'Taller', 'Vikhert', 'Plikhin', 'Zhitin', 'Rotgang', 'Janishevsky', 'Guzeev', 'Valovoi', 'Baikalov', 'Bakikhanov', 'To The First Page', 'Tchalyshev', 'Makhortov', 'Isachenko', 'Puschin', 'Shangin', 'Baibakoff', 'Pekhotin', 'Tropin', 'Ryzhey', 'Martens', 'Alshevsky', 'Zhigmytov', 'Bakhtiev', 'Tchekhonin', 'Bakmeister', 'Pieha', 'Zimakin', 'Lebinson', 'Kaufman', 'Jurkov', 'Abegyan', 'Agayants', 'Eberman', 'Kalganov', 'Froltsov', 'Kachkov', 'Huako', 'Nyamin', 'Savinov', 'Zavodchikov', 'Valden', 'Jadaev', 'Jigun', 'Onishko', 'Davidenkov', 'Kabashkin', 'Tchekhov', 'Azhnikoff', 'Baklykoff', 'Paraskun', 'Makhalov', 'Glezer', 'Tsvetnov', 'Yankov', 'Yuskevich', 'Pirtskhalava', 'Chizhov', 'Vanshenkin', 'Bekhoev', 'Bibitinsky', 'Jorin', 'Ryzhik', 'Engelgardt', 'Isangulov', 'Zhiharev', 'Jigalov', 'Bazil', 'Atabekyan', 'Bairak', 'David', 'Makushok', 'Mojaiskov', 'Ukhobotin', 'Jmudsky', 'Likhterman', 'Jarkovsky', 'Dzhahbarov', 'Zhilenko', 'Poliev', 'Vasyaev', 'Agalakoff', 'Avetisyan', 'Vildanov', 'Tzaregradsky', 'Zhun', 'Elatontsev', 'Abakeliya', 'Katzis', 'Birilev', 'Dikovsky', 'Lotkov', 'Isasev', 'Mujitskih', 'Valchikovski', 'Basygysov', 'Chizhevsky', 'Chuvilyaev', 'Martysyuk', 'Velikson', 'Markholenko', 'Babaskin', 'Kartuzov', 'Moltenskoi', 'Bakaleiko', 'Juferev', 'Zhitinkin', 'Gordon', 'Tulov', 'Poshekhonov', 'Harnikov', 'Awramtchik', 'Djindo', 'Dubnov', 'Avalishvili', 'Tsakul', 'Averkoff', 'Tchehoev', 'Tulnikov', 'Vasyuk', 'Bestuzhev-Ryumin', 'Lupanenko', 'Zhardetsky', 'Prigozhin', 'Velyaminov', 'Uchuvatkin', 'Esionov', 'Esipenko', 'Jadenov', 'Handurin', 'Tromonin', 'Finsky', 'Rigin', 'Bezugly', 'Likh', 'Kabakchi', 'Modzalevsky', 'Marushkin', 'Renzyaev', 'Kaloshin', 'Dikushin', 'Abeldyaev', 'Lapisov', 'Mulin', 'Zhovtyak', 'Valchitsky', 'Cheharin', 'Chuhrov', 'Ukhabin', 'Awchinnikoff', 'Agoshkoff', 'Jolovan', 'Muru', 'Onopko', 'Gromyko', 'Zharkikh', 'Kachioni', 'Gefter', 'To The First Page', 'Abasov', 'Yuhman', 'Molyavinsky', 'Pochekin', 'Minnikov', 'Nejinsky', 'Pochinkovsky', 'Galena', 'Belnov', 'Glazanov', 'Jitnik', 'Zhestovsky', 'Haitsin', 'Parahin', 'Vikhorev', 'Pohis', 'Getsov', 'Lyzhin', 'Marychev', 'Mojarenko', 'Tihonin', 'Mogilensky', 'Chukhman', 'Ukhin', 'Yahimovich', 'Pechnikov', 'Tulebaev', 'Adzhemov', 'Jovnir', 'Bekhtold', 'Harebov', 'Aparin', 'Doev', 'Yakobson', 'Shaldybin', 'Plotnicky', 'Abramchikov', 'Moklyachenko', 'Yuhimuk', 'Erenkov', 'Batura', 'Rohmanov', 'Lotarev', 'Bakhturin', 'Valevsky', 'Tchehovsky', 'Vihirev', 'Drozdovsky', 'Viroslavsky', 'Bilihodze', 'Researcher', 'Leibkin', 'Awhadieff', 'Tihy', 'Tovstoles', 'Tcharnetsky', 'Robakidze', 'Tihobaev', 'Jigin', 'Zharnikov', 'Ryjev', 'Chekmezov', 'Lidval', 'Tsytovich', 'Yanishin', 'Shakhgildyan', 'Bakoff', 'Turchaninov', 'Hanzhonkov', 'Jitluhin', 'Grossman', 'Matasov', 'Jilchikov', 'To The First Page', 'Dobrosotsky', 'Jestovsky', 'Tuganaev', 'Serednitsky', 'Sai', 'Bagroff', 'Minitsky', 'Rakhmail', 'Valchitski', 'Zelenenkov', 'Diderihs', 'Lozhchenko', 'Atallakhanov', 'Jakovlenko', 'Davydenko', 'Schepitsky', 'Veselovsky', 'Tsyurko', 'Viranovsky', 'Ustimovich', 'Lokhanin', 'Chertorogov', 'Lyjin', 'Lichko', 'Mints', 'Agzamoff', 'Filipchuk', 'Balagula', 'Granovsky', 'Dzheladze', 'Valaev', 'Voznyak', 'Bakhmutoff', 'Muzhzhavlev', 'Mih', 'Jurkin', 'Atazhakhov', 'Olenew', 'Ryzhkin', 'Bibichev', 'Hapkov', 'Eletsky', 'Hudkov', 'Abubekerov', 'Hanenya', 'Pribytkov', 'Nunuev', 'Abdulgapurov', 'Tzaizer', 'Tchanov', 'Katzuba', 'Molojavy', 'Demidovich', 'Zholkov', 'Pitersky', 'Zhemuhov', 'Abalakoff', 'Yablokov', 'Zinovin', 'Judochkin', 'Grib', 'Timkov', 'Humaryan', 'Agadjanoff', 'Badyin', 'Martzenko', 'Baewski', 'Jitomirsky', 'Jimirov', 'Glazyrin', 'Tsarevsky', 'Zhelezny', 'Paidyshev', 'Guzenkov', 'Gudilin', 'Chernov', 'Jilnikov', 'Vikharev', 'Jovnerik', 'Yufit', 'Polivkin', 'Onegin', 'Divaev', 'Gzovsky', 'Talkov', 'Haikov', 'Shirnin', 'Tokarsky', 'Chuhonkin', 'Remaev', 'Talalihin', 'Vitrik', 'Djemilev', 'Pliskanovsky', 'Yukhanaev', 'Hanukov', 'Pakhalchuk', 'Yablontsev', 'Fedchenkov', 'Baiguzov', 'Yaburov', 'Bagandaliev', 'Abduloff', 'Todorovsky', 'Emelyantsev', 'Dobroslavin', 'Iskaev', 'Jangarber', 'Hairyuzov', 'Verstakov', 'Djirin', 'Ladyzhensky', 'Jmelkov', 'Yuzva', 'Tugov', 'Guzatov', 'Jernevsky', 'Zhorzhev', 'Heifets', 'Grosov', \"V'Yurkov\", 'Zhivokini', 'Mukaseev', 'Minskoi', 'Mindra', 'Yansons', 'Shirin', 'Ponkratov', 'Bagaryatsky', 'Alter', 'Bakaleinik', 'Mikhasenko', 'Lody', 'Bajaev', 'Glukhotko', 'Agulnik', 'Momotov', 'Utochkin', 'Lihosherstov', 'Natapov', 'Atepko', 'Lozivets', 'Rishitnik', 'Bekovich-Cherkassky', 'Nezhlukto', 'Moguchev', 'Pohmelkin', 'Zhalybin', 'Fiskin', 'Limitovsky', 'Reks', 'Maron', 'Abibulaev', 'Shahmametiev', 'Grodko', 'Pavlusha', 'Abzyaparov', 'Nezhinsky', 'Alftan', 'Rivkind', 'Jagello', 'Balanowsky', 'Vasyutynsky', 'Artyukhov', 'Lichkov', 'Yakushevich', 'Finkel', 'Trukhin', 'Baholdin', 'Jilyardy', 'Jevlakov', 'Dojdikov', 'Vedinyapin', 'Grohov', 'Hizriev', 'Janov', 'Lozinsky', 'Jaitsky', 'Gallai', 'Jugov', 'Makhtiev', 'Jeurov', 'Bessogonov', 'Gagarinov', 'Bahmatoff', 'Barazbiev', 'Hlopin', 'Jakunin', 'Markus', 'Maruschenko', 'Desyatchikov', 'Morzhin', 'Poyasnik', 'Pisklov', 'Avsenev', 'Zheronkin', 'Ruhlov', 'Derunov', 'Adzhemoff', 'Badykshanov', 'Shanaurin', 'Dagaev', 'Onoprienko', 'Anoskov', 'Omelichev', 'Lubsky', 'Tropp', 'Lebedkin', 'Adoniev', 'Jagofarov', 'Djumabaev', 'Mikhalkov', 'Hurinov', 'Morenshildt', 'Zhmelkov', 'Valeev', 'Pekhterev', 'Zhemaitis', 'Pechkovsky', 'Kalachihin', 'Lapkin', 'Jigily', 'Jakhnyuk', 'Pyavko', 'Djelepov', 'Schepelev', 'Gordopolov', 'Beloshapkov', 'Horev', 'Bekshtrem', 'Beklemishev', 'Isayan', 'Andreevsky', 'Yablontzev', 'Hatin', 'Gagin', 'Entus', 'Gest', 'Vagapoff', 'Pavlin', 'Minniakhmetov', 'Zhirdetsky', 'Pirzadyan', 'Talzi', 'Daugule', 'Shenderovich', 'Mintz', 'Bilyarsky', 'Viskhanov', 'Bazhev', 'Pazuhin', 'Balaban', 'Zhmaev', 'Tujikov', 'Turmov', 'Nahimov', 'Tronye', 'Vysochin', 'Penkov', 'Omischenko', 'Dizhur', 'Rakhalsky', 'Gach', 'Uzunov', 'Matsotsky', 'Ableukhoff', 'Tsaplinsky', 'Tzah', 'Averbukh', 'Marchenkov', 'Vislobokov', 'Abramovich', 'Filipovsky', 'Hizh', 'Tchekin', 'Dzhemal', 'Abovyan', 'Markhanov', 'Babilyas', 'Holyuchenko', 'Harharov', 'Martirosov', 'Mozhar', 'Ablyazov', 'Zhizhemsky', 'Utropov', 'Babel', 'Dzhanibekov', 'Gachinsky', 'Balabukha', 'Vyazikov', 'Minov', 'Astronomov', 'Seredyuk', 'Kachin', 'Agalaroff', 'Zhivoderov', 'Charkin', 'Faddeev', 'Vertiprahov', 'Engibarov', 'Shaitanov', 'Durdin', 'Bakhmutsky', 'Awetisoff', 'Finyagin', 'Lishin', 'Grokhovsky', 'Obuhov', 'Valikov', 'Zhabin', 'Holuev', 'Bazhenin', 'Lotter', 'Tokmachev', 'Timlin', 'Jigalev', 'Numerov', 'Todorov', 'Pavlunin', 'Peleev', 'Kalekin', 'Zhmuro', 'Rogachev', 'Golovanov', 'Ilyakhin', 'Zelent', 'Libson', 'Yamskov', 'Baichikoff', 'Ajnikov', 'Anoprienko', 'Jakimets', 'Tumanyan', 'Habalov', 'Zhminko', 'Nosenko', 'Hagajeev', 'Valetto', 'Zhigily', 'Tokunov', 'Zhidilin', 'Tomashenko', 'Halitov', 'Nazarkin', 'Kabes', 'Tuikov', 'Adamishin', 'Talvir', 'Averchenko', 'Muksinov', 'Histyaev', 'Tzeiger', 'Rotaru', 'Jadanov', 'Chepel', 'Patsyna', 'Zheltoukhov', 'Kalitinkin', 'Jukhnin', 'Vakulski', 'Kalihov', 'Baidak', 'Vylkov', 'Yaglintsev', 'Tulupov', 'Hayutin', 'Rjanitsin', 'Jalamov', 'Birentsveig', 'Hahaev', 'Zhivov', 'Lishtovny', 'Chershintsev', 'Shalaev', 'Judenich', 'Pohodun', 'Ableukhov', 'Podolinsky', 'Andronov', 'Goloskokov', 'Baichorov', 'Chikhanchin', 'Halutin', 'Chepaksin', 'Kalinovich', 'Schits', 'August', 'Vyazov', 'Adelkhanyan', 'Halkechev', 'Persov', 'Mikhnenko', 'Habibullaev', 'Shamov', 'Hapachev', 'Chugunov', 'Abaimov', 'Porokhin', 'Desyatovsky', 'Zasko', 'Rakhmilovich', 'Mujdabaev', 'Deulenko', 'Jaklashkin', 'Lokhno', 'Vitram', 'Hloponin', 'Gasyukov', 'Gatiyatullin', 'Nastoyaschy', 'Kaledin', 'Huziyatov', 'Andreyak', 'Bekshansky', 'Babadjanov', 'Tchanchikov', 'Modylevsky', 'Hesin', 'Gorbunov', 'Baitalsky', 'Lysko', 'Turukhin', 'Vakulich', 'Verbitsky', 'Gramenitsky', 'Durnov', 'Halifman', 'Egarmin', 'Zenkin', 'Shaihutdinov', 'Mikhalkovsky', 'Ufimtsev', 'Moldovanov', 'Chuhalov', 'Yapaskurt', 'Leibov', 'Cheptsov', 'Pechenin', 'Kartushin', 'Otletov', 'Padva', 'Rahmetov', 'Tikhobaev', 'Zhikharevitch', 'Bahelov', 'Valetov', 'Pastreiter', 'Judashkin', 'Pyrikov', 'Barakov', 'Mihailidi', 'Tobulinsky', 'Tzenkovsky', 'Jbankov', 'Zasypkin', 'Teterin', 'Grojantsev', 'Getie', 'Elachich', 'Batuev', 'Hlobystin', 'Sert', 'Dobujinsky', 'Gudvan', 'Shakhno', 'Handirov', 'Babetov', 'Rjeussky', 'Yudashkin', 'Kaliteevsky', 'Jalilo', 'Vaisero', 'Chekoev', 'Vozovik', 'Grizodubov', 'Shahtin', 'Jablochkov', 'Yuhno', 'Pavlichenko', 'Mihalychev', 'Jarikov', 'Vertelko', 'Lyzlov', 'Jalkovsky', 'Zhamsuev', 'Artobolevsky', 'Hapy', 'Martyushev', 'Vesnovsky', 'Shamrai', 'Hlopotin', 'Gatsak', 'Tzipushtanov', 'To The First Page', 'Holodilov', 'Valts', 'Habitsov', 'Bilyaev', 'Johov', 'Abagyan', 'Aulov', 'Kalishewsky', 'Nuridjanov', 'Artseulov', 'Bairov', 'Badov', 'Jelobinsky', 'Toktahunov', 'Turbanov', 'Molochnikov', 'Lysenko', 'Yadne', 'Jiharev', 'Didarov', 'Evstafiev', 'Obolsky', 'Gronsky', 'Pazy', 'Shahmatov', 'Daraev', 'Rakhmatulin', 'Tugarov', 'Yudenkov', 'Baheloff', 'Mordkovich', 'Eigin', 'Abdurakhmanov', 'Mikhalkin', 'Dobrohotov', 'Bazhinov', 'Gafiyatullin', 'Jilov', 'Mahtiev', 'Almyashkin', 'Poshumensky', 'Yanov', 'Avkhadiev', 'Janalov', 'Vinidiktov', 'Likum', 'Lysihin', 'Dobuzhinsky', 'Tsyrulik', 'Balakleevski', 'Leimon', 'Lokhtin', 'Zhelehovsky', 'Halymbadja', 'Vaimer', 'Bahusov', 'Guio', 'Haikin', 'Zharkovsky', 'Kalaichev', 'Avdiyants', 'Jitarev', 'Villamov', 'Kablahov', 'Saihanov', 'Homich', 'Jmaev', 'Zobov', 'Pyshin', 'Tsyavlovsky', 'Dozmorov', 'Averintsev', 'Bakaev', 'Agababov', 'Desyatkin', 'Yalamov', 'Dehtyar', 'Mihailenko', 'Zhemukhov', 'Vagramenko', 'Babenkov', 'Turovsky', 'Gehman', 'Eversman', 'Abdulgapuroff', 'Beklov', 'Bazhutkin', 'Katsis', 'Virgasov', 'Abutaliev', 'Davidzon', 'Shenk', 'Mikhailov', 'Djahaya', 'Awtchinnikoff', 'Galepa', 'Imamaliev', 'Shamurin', 'Atabiev', 'Baturkin', 'Anekshtein', 'Porfiriev', 'Prigorodov', 'Tukmanov', 'Fedotenko', 'Govorushin', 'Miheikin', 'Velovsky', 'Judkovich', 'Leikam', 'Lozhkin', 'Likhtenshtedt', 'Gudenok', 'Tchekhladze', 'Otsing', 'Zhivilo', 'Zhadan', 'Bekhtenev', 'Yanovitsky', 'Bak', 'Tumashev', 'Ruzhenkov', 'Badelin', 'Emets', 'Jvachkin', 'Tsagareli', 'Pavlenko', 'Filipovich', 'Kalabekov', 'Zasyadko', 'Hashachih', 'Shirinyan', 'Zholtovsky', 'Yakubenko', 'Veletsky', 'Gagen', 'Yahlakov', 'Remikh', 'Timirev', 'Juzvyuk', 'Jagafarov', 'Todorsky', 'Tokin', 'Ryzhikov', 'Fomintsev', 'Beloenko', 'Finkelson', 'Tokovoi', 'Jelnin', 'Azhogin', 'Vinnichenko', 'Babosoff', 'Jarov', 'Pajinsky', 'Grossgeim', 'First', 'Bagrich', 'Hudoshin', 'Pohlebaev', 'Adzhalov', 'Mordinov', 'Eindorf', 'Muizhel', 'Yatzkevich', 'Turgenev', 'Agrba', \"Dan'Shin\", 'Mokrov', 'Ladyjets', 'Grigorovich', 'Shengeliya', 'Yukhnev', 'Zeifert', 'Tomashov', 'Katzarev', 'Egides', 'Chertok', 'Shahvorostov', 'Gaudasinsky', 'Yagya', 'Vinberg', 'Awdiyski', 'Halip', 'Vyahirev', 'Mlynnik', 'Libkin', 'Eltsin', 'Chabrov', 'Chijik', 'Pavlyuchenko', 'Datsenko', 'Vinius', 'Alfionov', 'Binevich', 'Jemuhov', 'Shaitan', 'Obydennov', 'Jirmunsky', 'Frolandin', 'Minnikhanov', 'Plichko', 'Zhdankov', 'Vadkovsky', 'Tsverkun', 'Ilyunin', 'Musabaev', 'Hairullin', 'Zhedrinsky', 'Guzei', 'Marshak', 'Yakovuk', 'Bagdasaroff', 'Hatkov', 'Abkin', 'Vyborny', 'Tikhvinsky', 'Mikhailjants', 'Lebeshev', 'Ablaev', 'Yujanov', 'Baigulov', 'Novohatsky', 'Tchekoev', 'Hazanov', 'Agaponoff', 'Jankov', 'Shakhovsky', 'Likov', 'Frolenkov', 'Baushev', 'Martynovsky', 'Shirinkin', 'Abdulkhabirov', 'Jilin', 'Ebert', 'Finoshin', 'Lajintsev', 'Jadkevich', 'Anurin', 'Kalakutsky', 'Yanovsky', 'Mindiashvili', 'Makhachev', 'Hanevich', 'Bezyazykov', 'Maryanov', 'Valitov', 'Tolvinsky', 'Gatsenko', 'Pavlishin', 'Dmukhovsky', 'Bahvalov', 'Zhikharev', 'Tzalikov', 'Pyrin', 'Jelehovsky', 'Gorbulin', 'Mikhalchenko', 'Baichoroff', 'Abdulrakhmanoff', 'Pohilko', 'Avtorhanov', 'Otroshenko', 'Turushev', 'Shenfeld', 'Vanzhula', 'Lerner', 'Pyshkin', 'Talalikhin', 'Bagmevski', 'Rovinsky', 'Gorbachev', 'Awduewsky', 'Baikin', 'Zhernokleev', 'Pehotin', 'Evert', 'Jimulev', 'Katsovsky', 'Yuzvishin', 'Renard', 'Isanin', 'Yaguzhinsky', 'Jeltouhov', 'Bahovtsev', 'Prik', 'Mulyavin', 'Zhelaev', 'Tsyurupa', 'Tchaly', 'Timerbaev', 'Valter', 'Hamatov', 'Shamkov', 'Bagdatiev', 'Talagaev', 'Vilin', 'Diyajev', 'Frunze', 'Vesnin', 'Jilis', 'Nudatov', 'Jakhontov', 'Porodnya', 'Schepkin', 'Zhuravov', 'Belogubov', 'Jaganov', 'Belorussov', 'Belotelov', 'Lezhankov', 'Bilik', 'Dubnyakov', 'Tsvilgnev', 'Divakov', 'Rahletsky', 'Hamitski', 'Dopiro', 'Yaminsky', 'Abdulhabiroff', 'To The First Page', 'Jornyak', 'Yagubov', 'Yuschenko', 'Zobnin', 'Bairamukov', 'Jagujinsky', 'Bagrak', 'Jurkovsky', 'Averochkin', 'Lokh', 'Ajinov', 'Mlachnev', 'Truhnin', 'Vinaver', 'Yabrov', 'Hotimsky', 'Agibalov', 'Gudovich', 'Remmert', 'Auktsionek', 'Tchekmezov', 'Bestolov', 'Ruzsky', 'Guzovsky', 'Lajentsev', 'Hizhnyakov', 'Zhidenko', 'Horuzhy', 'Isachenok', 'Mikhin', 'Mihailitsyn', 'Maruschak', 'Bacherikov', 'Onyky', 'Doikov', 'Modin', 'Poroh', 'Shahrai', 'Bakhtiyarov', 'Onischenko', 'Limarov', 'Parensky', 'Kalihman', 'Bahtiyarov', 'Balakleevsky', 'Jaivoronok', 'Jablochkin', 'Balashev', 'Matasoff', 'Movchun', 'Juzhakov', 'Ligostaev', 'Batsanov', 'Vazhnichy', 'Rott', 'Zhelyabuzhsky', 'Valdaev', 'Hakhanyan', 'Porai-Koshits', 'Chikun', 'Turkestanov', 'Davletyarov', 'Rokhmanov', 'Agarkoff', 'Azhinov', 'Jenin', 'Lurie', 'Awwakumoff', 'Yafrakov', 'Saitiev', 'Maryanovsky', 'Chazov', 'Jablonowsky', 'Balakhontsev', 'Amerhanov', 'Dutov', 'Russov', 'Zhdanovsky', 'Jachikov', 'Esenin', 'Jakhimovich', 'Danshin', 'Baklan', 'Babashov', 'Pakhmutov', 'Dzhangirli', 'Awtomovitch', 'Adlerov', 'Lysikov', 'Turchin', 'Getmanenko', 'Nejlukto', 'Zhilyuk', 'Shakhmaev', 'Gashkin', 'Gorchkhanov', 'Babetoff', 'Finenko', 'Bakanoff', 'Movsaev', 'Livshin', 'Dernov', 'Antoschenko', 'Dzhezhela', 'Tokar', 'Adjubei', 'Markhinin', 'Jatsuba', 'Baisak', 'Vanja', 'Portugalsky', 'Rakhletzky', 'Pliner', 'Araslanov', 'Ryjak', 'Jukhma', 'Avagimoff', 'Atlantov', 'Bachmanoff', 'Adamsky', 'Mikhailychev', 'Vlasievsky', 'Bagration', 'Zinatullin', 'Chalykh', 'Deulin', 'Pochinsky', 'Maksimchik', 'Serjantov', 'Deryagin', 'Porshnev', 'Poshibalov', 'Jachmenkov', 'Moreinis', 'Abdulkadyrov', 'Javoronsky', 'Islamshin', 'Vasyukevich', 'Vertiev', 'Dankuldinets', 'Kabalevsky', 'Rekunkov', 'Minchev', 'Vedihov', 'Lishansky', 'Dobrolensky', 'Jahlakov', 'Novoselov', 'Dikson', 'Vyatkovsky', 'Antonyuk', 'Vilson', 'Barazgov', 'Talroze', 'Jigulenkov', 'Granatkin', 'Tobias', 'Nurgaleev', 'Pahrin', 'Aven', 'To The First Page', 'Katzev', 'Hudoleev', 'Yachevsky', 'Juromsky', 'Haptakhaev', 'Bagimov', 'Isaev', 'Golofeev', 'Hersonsky', 'Marunin', 'Zherdev', 'Zimitsky', 'Gladkov', 'Churnosov', 'Tsakhilov', 'Mingazetdinov', 'Matsak', 'Daue', 'Habarin', 'Gribanov', 'Zimenkov', 'Pliss', 'Gulevich', 'Artemev', 'Bakhanoff', 'Chekhovsky', 'Grankov', 'Jurin', 'Chagin', 'Dovgopoly', 'Mahaev', 'Harybin', 'Adiloff', 'Shalashilin', 'Djibladze', 'Peller', 'Golovatsky', 'Zasulich', 'Zinchuk', 'Matznev', 'Remishevsky', 'Gasho', 'Ukhtomsky', 'Lutovinov', 'Ustimenko', 'Atlasov', 'Awerotchkin', 'Awdakoff', 'Pyankovsky', 'Gulshin', 'Jakhot', 'Herovets', 'Kachanov', 'Bajenoff', 'Yudakov', 'Researcher', 'Timkaev', 'Mikheenkov', 'Chernovol', 'Bakadorov', 'Balashoff', 'Matsko', 'Balahovski', 'Dobrushin', 'Mudrov', 'Shadsky', 'Dertynov', 'Paradzinsky', 'Leiviman', 'Daursky', 'Deribin', 'Hagur', 'Bazjin', 'Baidjanoff', 'Pyjikov', 'Vilken', 'Esmonsky', 'Adamenko', 'Getling', 'Astsaturov', 'Tcharkin', 'Chikichev', 'Hairutdinov', 'Agroskin', 'Vysotsky', 'Mordvinoff', 'Shakhmin', 'Porohin', 'Enenko', 'Isadjanov', 'Muzalevskih', 'Baikoff', 'Eroschenkov', 'Zhurko', 'Moshenko', 'Loitzyansky', 'Jukhov', 'Awtorkhanoff', 'Jakovets', 'Pavsky', 'Tihonenko', 'Yakir', 'Barabanov', 'Alshits', 'Matzak', 'Finn', 'Zhmulev', 'Groizman', 'Jakushevich', 'Pyl', 'Zheravin', 'Makusev', 'Gagonin', 'Bagramyan', 'Pylyaev', 'Zhigin', 'Chehov', 'Grigoriev', 'Talygin', 'Yagodnikov', 'Pain', 'Bakhrakh', 'Balagul', 'Bekmurzov', 'Chertorijsky', 'Atanasyan', 'Zaskokin', 'Zelenkov', 'Jivlyuk', 'Dikovenko', 'Jahot', 'Researcher', 'Hatit', 'Shahbazov', 'Kalimahi', 'Paholkov', 'Golohvastov', 'Mordin', 'Mikhmel', 'Avchinnikov', 'Avramtchik', 'Mokh', 'Jmakin', 'Morev', 'Avdyukov', 'Tulchinsky', 'Baidalin', 'Levish', 'Gulaev', 'Belin', 'Bajutkin', 'Awtandiloff', 'Shenaev', 'Lidorenko', 'Jarinov', 'Portnoy', 'Yamaletdinov', 'Bazhaev', 'Remin', 'Anikst', 'Pakholkov', 'Adjemov', 'Lebedinsky', 'Joltovsky', 'Bahmat', 'Daushev', 'Jaguzhinsky', 'Rzhavinsky', 'Bezuglov', 'Adamovich', 'Shahov', 'Jernosek', 'Bahtizin', 'Zinkovsky', 'Hanaev', 'Jagutyan', 'Portyansky', 'Valednitsky', 'Yapparov', 'Aniskin', 'Jukhanaev', 'Tsiolkovsky', 'Libreht', 'Goloschuk', 'Golovenchenko', 'Nijevyasov', 'Piffer', 'Novosiltsov', 'Zimarev', 'Abjalilov', 'Zolotarsky', 'Andreenko', 'Veselitsky', 'Shakhbazyan', 'Zhitny', 'Vikuliev', 'Livadin', 'Andrusov', 'Avdeichikov', 'Yanitsky', 'Homutov', 'Dasaev', 'Jorov', 'Jakir', 'Awakoff', 'Yakubovsky', 'Belotserkovets', 'Abramson', 'Zhivaev', 'Omelianovsky', 'Tsarenkov', 'Piskulov', 'Dubensky', 'Likhvantsev', 'Nesis', 'Vlasenko', 'Jdankin', 'Shaldenkov', 'Dats', 'Liberman', 'Jatsevich', 'Badyagin', 'Makhagonov', 'Shalai', 'Golovan', 'Janbarisov', 'Chertykov', 'Jablonsky', 'Tikhenko', 'Nujdin', 'Minenkov', 'Belogrud', 'Zheleznyakov', 'Dobrolyubov', 'Neskrebin', 'Hazeev', 'Utyugov', 'Jakovuk', 'Gorchakov', 'Vertkov', 'Abalakov', 'Grokhotov', 'Yanjul', 'Valchikovsky', 'Baglanov', 'Bachaev', 'Johin', 'Leipunsky', 'Tomashuk', 'Golosovker', 'Japondych', 'Imedoev', 'Pribylovsky', 'Abletsoff', 'Hismatulov', 'Jupikov', 'Rutman', 'Tseizik', 'Vansheidt', 'Pyhtin', 'Glagolevsky', 'Zasedatelev', 'Janovka', 'Lysakov', 'Tokarovsky', 'Molokov', 'Villevalde', 'Tikhy', 'Mohov', 'Desyatnichenko', 'Balahowsky', 'Dzhatiev', 'Ruzin', 'Defabr', 'Molev', 'Pokhojaev', 'Lyjenkov', 'Dutikov', 'Derkachev', 'Eberg', 'Jakovichenko', 'Shakhmametiev', 'Pecheny', 'Rainbagin', 'Belishko', 'Avzalov', 'Uemlyanin', 'Evstafiev', 'Jidkih', 'Barannikov', 'Yanvarev', 'Ageitchik', 'Agratchev', 'Jadne', 'Yuzgin', 'Beh', 'Virachev', 'Jijikin', 'Auslender', 'Balabanov', 'Horobryh', 'Chikin', 'Tzelikov', 'Tugolukov', 'Tsvelyuh', 'Zhiznevsky', 'Rahmanin', 'Avksentievski', 'Vorotnikov', 'Dyachkovsky', 'Homar', 'Portyankin', 'Lysy', 'Fin', 'Ponikarov', 'Dogel', 'Bazarevich', 'Tihonitsky', 'Kartashkin', 'Valentsev', 'Gasfort', 'Zenilov', 'Agakov', 'Adashev', 'Morekhin', 'Ruzhitsky', 'Adrianov', 'Tihankin', 'Minukhin', 'Autlev', 'Djatiev', 'Nyrko', 'Oboldin', 'Vanslov', 'Adriyanoff', 'Oborin', 'Turusin', 'Rakhlin', 'Yatskovsky', 'Frolushkin', 'Jivokini', 'Vyazovchenko', 'Dobritsky', 'Shalitkin', 'Tselibeev', 'Gulevsky', 'Dogilev', 'Haziahmetov', 'Emchenko', 'Tsah', 'Serednyakov', 'Nugaev', 'Bazhov', 'Pypin', 'Jirinovsky', 'Privalov', 'Timashev', 'Mozhaikin', 'Jahin', 'Gladyshev', \"Pen'Kovsky\", 'Dmokhovsky', 'Petlenko', 'Matzievsky', 'Dobridnyuk', 'Chuhnin', 'To The First Page', 'Bahrushin', 'Sepelev', 'Nureev', 'Pirozhenko', 'Baklastoff', 'Zhuravliov', 'Mihailyuk', 'Awerichkin', 'Pyslar', 'Tzaplin', 'Isaevich', 'Eihvald', 'Jachmenev', 'Paimullin', 'Vainshtok', 'Jakubovsky', 'Bilichenko', 'Antonts', 'Jakshin', 'Voznesensky', 'Pitukhin', 'Alferiev', 'Lebedinets', 'Jageman', 'Shakhnovsky', 'Andryuschenko', 'Lebsky', 'Abdrakhmanoff', 'Eroschenko', 'Grodetsky', 'Tselikovsky', 'Tsekhmistrenko', 'Babeshkin', 'Shamankov', 'Desyatov', 'Velsovsky', 'Tseiner', 'Tukabaev', 'Djahbarov', 'Avtokratov', 'Postnikov', 'Mordvintsev', 'Bezrukavnikov', 'Zhmotov', 'Finchuk', 'Dubman', 'Juikov', 'Baidjanov', 'Maksimchenko', 'Hitro', 'Kabaloev', 'Zinchenko', 'Mogilevich', 'Tchamushev', 'Hlamov', 'Kachenovsky', 'Bakushinsky', 'Jamov', 'Janjul', 'Tsvigun', 'Yatsunov', 'Tomjevsky', 'Belgibaev', 'Zhigailov', 'Kabak', 'Molcanovs', 'Zhilnikov', 'Gromyhalin', 'Yambaev', 'Marchenov', 'Gorski', 'Mikhno', 'Liberzon', 'Paramoshin', 'Dmuhovsky', 'Yafaev', 'Mohnatsky', 'Ponafidin', 'Bim', 'Mokeev', 'Alfonsov', 'Tuguz', 'Birkenberg', 'Tsigelnik', 'Bekhteev', 'Matzakov', 'Baibikov', 'Turaev', 'Lupalenko', 'Balakhonov', 'Bekh', 'Pokhilevich', 'Abdurahmanoff', 'Forsh', 'Harchenkov', 'Jabrov', 'Jeldakov', 'Jigalkin', 'Hannanov', 'Pavelko', 'Dubenetsky', 'Islanov', 'Vitorsky', 'Lichkus', 'Berezovoi', 'Raizman', 'Bagritch', 'Juravkov', 'Vinchi', 'Poretzky', 'Onufrienko', 'Grandberg', 'Mihalevich', 'Zhabsky', 'Dakhaev', 'Valberh', 'Bazovsky', 'Baimakov', \"Tsel'Ko\", 'Shalikov', 'Enyagin', 'Yakunichev', 'Eroshov', 'Arsky', 'Lykov', 'Adaryukov', 'Harisov', 'Bereznikov', 'Lupehin', 'Valshin', 'Balayan', 'Vaver', 'Zimovets', 'Tzarenko', 'Gulyakov', 'Baulin', 'Hasaev', 'Raihlin', 'Jahaev', 'Kabeshov', 'Visloguzov', 'Uzakov', 'Adashevsky', 'Tzehanovich', 'Tuganbaev', 'Frumkin', 'Abdulov', 'Petsyuha', 'Tetelmin', 'Valdenberg', 'Groholsky', 'Shahanov', 'Bekrenev', 'Tchekharin', 'Awaloff', 'Zhandr', 'Troinitsky', 'Raimov', 'Vantenkov', 'Awseenko', 'Hij', 'Ekelchik', 'Kartunov', 'Tulikov', 'Bezyuk', 'Bilenkin', 'Abdrahmanoff', 'Vild', 'Vasin', 'Bagaturiya', 'Belchenkov', 'Holin', 'Gultyaev', 'Seredin', \"Pokhmel'Nyh\", 'Porohnya', 'Tulub', 'Bachish', 'Makushev', 'Abolikhin', 'Vorotnikov', 'Ryzhenko', 'Awerin', 'Vantchagov', 'Zherbin', 'Mogilnitsky', 'Tsval', 'Jurko', 'Lileev', 'Jakovchenko', 'Bazulev', 'Zhbankov', 'Shakhlamov', 'Kachinsky', 'Dobrotvortsev', 'Timerhanov', 'Bagmewski', 'Habriev', 'Vaitsekhovsky', 'Bausov', 'Valk', 'Eiler', 'Eruzalimchik', 'Jivov', 'Martyshko', 'Gatovsky', 'Vanstein', 'Galko', 'Djabrailov', 'Bilyk', 'Yanpolsky', 'Poshehonov', 'Nesmachnov', 'Bajinoff', 'Mischuk', 'Valkevitch', 'Dmitrovsky', 'Grokhar', 'Pokhvoschev', 'Dehanov', 'Pokhilko', 'Yushkin', 'Deshkin', 'Lohin', 'Tumarkin', 'Yakurin', 'Alkvist', 'Muzyrya', 'Basto', 'Grodzensky', 'Kalitvin', 'Adodurov', 'Yanochkin', \"Bas'Holov\", 'Geshtovt', 'Jandarbiev', 'Alianaki', 'Zharuev', 'Judakov', 'Artenov', 'Velikorechin', 'Jalovenko', 'Tchekhovsky', 'Ametistov', 'Rakhmaninov', 'Usiskin', 'Grushin', 'Plimak', 'Otdelnov', 'Vitoshkin', 'Lysyakov', 'Vaistuh', 'Podshibikhin', 'Hasnulin', 'Tchekmasov', 'Gulin', 'Vanin', 'Endogurov', 'Abalkin', 'Ryzhev', 'Murogov', 'Baderskoff', 'Pogosov', 'Rikhter', 'Zhitarev', 'Hlupin', 'Gatilov', 'Kats', 'Iskos', 'Balahonsky', 'Chikomasov', 'Saitanov', 'Lihomanov', 'Darevsky', 'Pitenin', 'Vanjula', 'Danilchenko', 'Astrov', 'Tzederbaum', 'Mahachev', 'Emyshev', 'Absalyamov', 'Tuleev', 'Pyrchenkov', 'Efanov', 'Makhno', 'Talashkevich', 'Artibyakin', 'Agoshkov', 'Rahmatulin', 'Patsalo', 'Yakimchuk', 'Honenev', 'Patskevich', 'Valyaev', 'Taltangov', 'Deryabin', 'Imenin', 'Bagimoff', 'Bakhmin', 'Jufit', 'Leibovich', 'Tzapelik', 'Filippovich', 'Tzelobenok', 'Detsenko', 'Jandulsky', 'Agapitov', 'Yakovlenko', 'Veselov', 'Bakshtein', 'Ilyushin', 'Bilenko', 'Harlampovich', 'Yachmenev', 'Tubylov', 'Hamzin', 'Abalov', 'Behteev', 'Bazowski', 'Artyukhin', 'Martyshov', 'Abloff', 'Mihailets', 'Martyshevsky', 'Jagich', 'Mubarakshin', 'Glazkov', 'Anipkin', 'Aggeev', 'Balazowski', 'Julidov', 'Zhabrev', 'Djugashvili', 'Chuguev', 'Jarmuhamedov', 'Vakulenko', 'Kalachikhin', 'Verbenko', 'Dudunov', 'Lichman', 'Ryzhy', 'Vaniev', 'Mulatov', 'Agamirzyan', 'Deshevyh', 'Halatov', 'Avvakumov', 'Adamski', 'Markushevich', 'Harlanov', 'Verbin', 'Awerbah', 'Tikhonitsky', 'Rjeshotarsky', 'Pylev', 'Kabaidze', 'Bawarin', 'Shalenkov', 'Yakushin', 'Agadzhanov', 'Bagirov', 'Noschenko', 'Balanda', 'Shamaro', 'Vaisberg', 'Baboshin', 'Awerbuh', 'Ustinov', 'Jurikhin', 'Kalina', 'Admoni', 'Mikhalushkin', 'Andreev', 'Bakhtoff', 'Darichev', 'Mokshin', 'Bajoff', 'Nejdanov', 'Yakutkin', 'Rahalsky', 'Detinko', 'Huajev', 'Markhasin', 'Pochtennyh', 'Atalian', 'Lutoshnikov', 'Zhernovoy', 'Goloveshko', 'Molevich', 'Babenchikoff', 'Kalishevsky', 'Ageevets', 'Abyzgiddin', 'Bestujev-Lada', 'Momdji', 'Groskov', 'Jatzun', 'Emelianov', 'Belitsky', 'Lezdinysh', 'Shahgildyan', 'Auerbach', 'Holodnykh', 'Azhnikov', 'Porva', 'Rotermel', 'Badyunov', 'Egin', 'Nasikovsky', 'Yachnik', 'Minjurenko', 'Ukhanov', 'Getman', 'Kalinichenko', 'Gulyak', 'Diduh', 'Yahontov', 'Androkhanov', 'Nijinsky', 'Gulichev', 'Adyan', 'Abrasimoff', 'Yushmanov', 'Avtsyn', 'Chernovisov', 'Jeronkin', 'Baikaloff', 'Shahlamov', 'Rekun', 'Grushi', 'Chukhnov', 'Yuhanaev', 'Lysykh', 'Adjalov', 'Eganyan', 'Beloglazov', 'Molodojenov', 'Pismichenko', 'Kachaev', 'Adleroff', 'Poroshin', 'Jegin', 'Chkhikvadze', 'Lebzyak', 'Badyaev', 'Shakhnarovich', 'Abarinov', 'Haryuchi', 'Kachalov', 'Tsehmistrenko', 'Yanushevsky', 'Minkov', 'Gudenko', 'Lebzak', 'Tunkin', 'Baziner', 'Pontyushenko', 'Danchenko', 'Zolkin', 'Vavrovsky', 'Yanovka', 'Maruk', 'Vesnitsky', 'Gasman', 'Esmansky', 'Peftiev', 'Enchev', 'Gluhman', 'Lohov', 'Rents', 'Dzhirin', 'Agaloff', 'Chehlakovsky', 'Babayants', 'Beltov', 'Bahtov', 'Muzipov', 'Darakov', 'Balabai', 'Hazipov', 'Gladtsin', 'Vygodin', 'Maksinev', 'Agadjanyan', 'Jakupov', 'Zolin', 'Antropov', 'Tzarev', 'Yamaltdinov', 'Zhelobinsky', 'Eretsky', 'Avlov', 'Yakovenko', 'Natochin', 'Vyalbe', 'Hait', 'Bazarov', 'Lychev', 'Marhasin', 'Chukhadzhyan', 'Vaginoff', 'Pentsak', 'Aboimov', 'Jatzenko', 'Gassan', 'Lukha', 'Glubotsky', 'Ponizovsky', 'Mursalimov', 'Babahanov', 'Vabbe', 'Lejankin', 'Doino', 'Vepryushkin', 'Bautin', 'Zheleznyak', 'Poroskov', 'Musaev', 'Lykin', 'Jegunov', 'Zhirkevich', 'Frontov', 'Huzangai', 'Antyufeev', 'Riverov', 'Nasretdinov', 'Novotortsev', 'Guzilov', 'Lymar', 'Vadbolsky', 'Mihels', 'Baum', 'Awrutin', 'Agahanyan', 'Holoevsky', 'Himonenko', 'Birger', 'Dardyrenko', 'Shaidullin', 'Obuh', 'Bakhchivandzhi', 'Arbudu', 'Kalinichev', 'Jebrovsky', 'Tsidilkovsky', 'Avdeeff', 'Ponarovsky', 'Averkovich', 'Getta', 'Balaguroff', 'Lojchenko', 'Chikviladze', 'Esikov', 'Katsarev', 'Ujentsev', 'Lihovidov', 'Mokrinsky', 'Baishev', 'Turashev', 'Martyushin', 'Hanov', 'Lokhanov', 'Lichintser', 'Zhitnikov', 'Javoronok', 'Fadeev', 'Abels', 'Plisetsky', 'Babichev', 'Shalamov', 'Dijbak', 'Hagondokov', 'Hizhny', 'Neskoromny', 'Paradiz', 'Balakhonsky', 'Likutov', 'Gatsunaev', 'Minyazhetdinov', 'Bindyukov', 'Raikhelgauz', 'Jakovenko', 'Danin', 'Lapakov', 'Filippishin', 'Abrahimoff', 'Deryugin', 'Pavlusenko', 'Saikov', 'Tovstolujsky', 'Ruzhentsov', 'Belinder', 'Goloshov', 'Vilkitsky', 'Abramovitch', 'Hachirov', 'Abdulbekov', 'Androhanov', 'Awrus', 'Katsenelenbaum', 'Tseidler', 'Vysokov', 'Baukin', 'Mingrelsky', 'Katsnelson', 'Avdiyski', 'Bagramoff', 'Zozulya', 'Deryujkov', 'Shamonin', 'Zastrojny', 'Abel', 'Pochevalov', 'Bajenov', 'Zhokin', 'Filippenkov', 'Antoshin', 'Yakhno', 'Tuzov', 'Mikhersky', 'Vihorev', 'Agumaa', 'Awertcheff', 'Pehtin', 'Poret', 'Dyo', 'Vanteev', 'Gagentorn', 'Molchanov', 'Gess', 'Minkin', 'Andropov', 'Molotkov', 'Abrikosoff', 'Belousko', 'Dzhanumov', 'Abudihin', 'Likhonosov', 'Pelevin', 'Glavin', 'Dakhin', 'Jagutkin', 'Jilinsky', 'Vaisfeld', 'Shakhlevich', 'Abrosoff', 'Shelyakin', 'Limansky', 'Djumaniyazov', 'Bakalinsky', 'Pakhtanov', 'Jilkin', 'Kabitsin', 'Talypin', 'Gudev', 'Fionin', 'Jujlev', 'Zherebtsov', 'Kalabin', 'Vyazankin', 'Yakshibaev', 'Chadin', 'Tseluiko', 'Bahanoff', 'Bagrintsev', 'Mahalin', 'Belichev', 'To The First Page', 'Holzakov', 'Babadzhanoff', 'Bekkarevich', 'Faen', 'Baklykov', 'Rovkovsky', 'Vedenkov', 'Kaberman', 'Sapon', 'Pyanov', 'Grischuk', 'Tulintsev', 'Pechenejsky', 'Zhuromsky', 'Yatzkov', 'Jebryakov', 'Agamirov', 'Zhabotinsky', 'Zharkov', 'Dzhibladze', 'Mihmel', 'Juchenko', 'Yuferev', 'Chertorinsky', 'Averbah', 'Gluhih', 'Avdakoff', 'Razygrin', 'Eidlin', 'Yandiev', 'Grushko', 'Vesnik', 'Abulhanoff', 'Avkhimovitch', 'Vadovski', 'Haldoyanidi', 'Zhadkevich', 'Glagolev', 'Zavodov', 'Nevezhin', 'Nasedkin', 'Grametsky', 'Jakmon', 'Rahamimov', 'Durkin', 'Harchenko', 'Tunev', 'Albats', 'Tuvin', 'Fiohin', 'Lutfullin', 'Poogelman', 'Bakhtiaroff', 'Hamikoev', 'Beloded', 'Jdankov', 'Alshibaya', 'Senyavin', 'Govyrin', 'Belich', 'Fabrichny', 'Zaskanov', 'Janko', 'Tsidilin', 'Jukovets', 'Biragov', 'Neslyuzov', 'Havroshkin', 'Andreiko', 'Chekmenev', 'Avinov', 'Hudyaev', 'Jdanovsky', 'Bahtadze', 'Agafonov', 'Valdin', 'Zhmakov', 'Kabachnik', 'Valtchitski', 'Molodykh', 'Demeshko', 'Tikhankin', 'Zhirnikov', 'Dankov', 'Zhigalkin', 'Behoev', 'Togunov', 'Guzenko', 'Belikovich', 'Evdakov', 'Tukumtsev', 'Danyushevsky', 'Remmer', 'Rahmail', 'Tsevlovsky', 'Androsyuk', 'Vinarov', 'Galstyan', 'Zasluev', 'Anzonger', 'Zhizhilev', 'Vakulentchuk', 'Agnivtsev', 'Tulakov', 'Voronichev', 'Adam', 'Podstavka', 'Marfelev', 'Loh', 'Musakov', 'Huroshvili', 'Janover', 'Vasyukov', 'Ryjkin', 'Veller', 'Chikhachev', 'Emeshin', 'Shakhvorostov', 'Avduewski', 'Chuhlomsky', 'Markushin', 'Dubenkov', 'Grosse', 'Tzeimen', 'Minyar', 'Dobryakov', 'Turta', 'Jirnyakov', 'Gulaya', 'Bektabegov', 'Zimaev', 'Porus', 'Nasyrov', 'Bagai-Ool', 'Nastogunin', 'Baklanoff', 'Halaev', 'Fabri', 'Bakikhanoff', 'Elanchik', 'Golosnenko', 'Gataullin', 'Tzakunov', 'Maharov', 'Egides', 'Rzhavin', 'Libusov', 'Rotov', 'Jagalin', 'Rutshtein', 'Dzhavahishvili', 'Olenev', 'Lepehin', 'Tzaliev', 'Zhuravkov', 'Zharkih', 'Harlov', 'Pochkaev', 'Velichkin', 'Bavtrukevich', 'Leiman', 'Haluga', 'Shaiewich', 'Avramchik', 'Dudnikov', 'Belikov', 'Truhanov', 'Djemal', 'Pecherkin', 'Batchelis', 'Shirinsky-Shikhmatov', 'Lizunov', 'Pohilevich', 'Yahnyuk', 'Abulmambetoff', 'Zhizhnov', 'Jakshibaev', 'Tzaregorodtsev', 'Tobolin', 'Lygin', 'Vakulovski', 'Yufryakov', 'Chepko', 'Turkevich', 'Dubinovsky', 'Jdakaev', 'Rovbel', 'Tchehonin', 'Rahimov', 'Zharihin', 'Lihobabin', 'Babadjanyan', 'Halyavkin', 'Pyhteev', 'Agurski', 'Lapenko', 'Tsarkov', 'Havkunov', 'Katsenellenbogen', 'Mahlov', 'Grushevsky', 'Yakunov', 'Avatyan', 'Dobrushkin', 'Abyzoff', 'Molotov', 'Yuzvyuk', 'Avash', 'Shakhorin', 'Vyshegorodtsev', 'Nizhinsky', 'Janzhul', 'Vantchugov', 'Lupei', 'Schetchikov', 'Bahuta', 'Gagiev', 'Vilke', 'Chuhray', 'Saifulaev', 'Holomenko', 'Judkin', 'Gorbushin', 'Medved', 'Chekvin', 'Balazovski', 'Rochev', 'Abuladze', 'Mukin', 'Jeleznyakov', 'Ottyasov', 'Muzalevskikh', 'Vilyams', 'Pakhtel', 'Tuev', 'Mubaryakov', 'Joludev', 'Haleev', 'Golotyuk', 'Pavlyuk', 'Vyborov', 'Bair', 'Jerebko', 'Avchenko', 'Tovstykh', 'Glek', 'Jahimovich', 'Rukhlov', 'Roganov', 'Mokievsky', 'Bastian', 'Tzekhanovich', 'Holyavin', 'Esyp', 'Belohvostikov', 'Bakhelov', 'Tcheh', 'Babaitsev', 'Chusovitin', 'Handjyan', 'Gributsky', 'Avinovitsky', 'Zhurman', 'Havroshin', 'Tselovalnov', 'Tulaikov', 'Porokhovschikov', 'Velidov', 'Haschev', 'Raifikesht', 'Agishev', 'Holodov', 'Juhma', 'Babanoff', 'Yablovsky', 'Kalamkaryan', 'Lihovskih', 'Grusha', 'Roganovich', 'Lebedenko', 'Valiev', 'Zhagalin', 'Bestujev', 'Golofastov', 'Chuhlov', 'Handohin', 'Mukusev', 'Zhulev', 'Van-Puteren', 'Getmanchuk', 'Jakhnenko', 'Bahtchivandji', 'Hitrin', 'Poholkov', 'Esenkov', 'Agursky', 'Tchekomasov', 'Aderikhin', 'Halkin', 'Gashibayazov', 'Agrenev', 'Holkin', 'Jakushkov', 'Jatskevich', \"Ren'Kas\", 'Charuhin', 'Uchuev', 'Agin', 'Behtold', 'Babst', 'Tzeitlin', 'Demidenko', 'Bakhanov', 'Liholobov', 'Tikhomirov', 'Veledeev', 'Iskrov', 'Jufryakov', 'Jeverjeev', 'Mikhailutsa', 'Penkovsky', 'Levitin', 'Ilyushkin', 'Tseimen', 'Por', 'Tzagareli', 'Zhuikov', 'Mikhailushkin', 'Shakh', 'Tuinov', 'Tovstonogov', 'Vyalov', 'Yanishevsky', 'Muklevich', 'Adokhin', 'Mozharenko', 'Jahnenko', 'Chuvahin', 'Mojaisky', 'Pismensky', 'Enikolopov', 'Anikanov', 'Lohmatikov', 'Ponikarovsky', 'Nurislamov', 'Bakanov', 'Teterev', 'Matzaev', 'Tsekhansky', 'Horoshavin', 'Ruzakov', 'Makukhin', 'Uzenya', 'Hanchuk', 'Limar', 'Valentinovitch', 'Bakinoff', 'Awksentiewsky', 'Awdieff', 'Vozmitel', 'Vasyurin', 'Rokhatsevich', 'Chursin', 'Avilov', 'Poryvay', 'Tzei', 'Eretzky', 'Kabitsky', 'Abdulin', 'Artischev', 'Dehtyar', 'Vyalushkin', 'Alyrchikov', 'Jivago', 'Avseenko', 'Yakimovsky', 'Habibullin', 'Badanov', 'Alshtut', 'Jelyabov', 'Habarovsky', 'Jakutkin', 'Belogolovy', 'Jabykin', 'Eletskih', 'Michkov', 'Omelkov', 'Paderin', 'Shamsetdinov', 'Abdulbekoff', 'Shamshurov', 'Agamiroff', 'Uzdenov', 'Shalnikov', 'Jinov', 'Emkov', 'Molokovsky', 'Rukhtoev', 'Hanyutin', 'Djakson', 'Zhebo', 'Avik', 'Sak', 'Dudochkin', 'Jeltov', 'Mindel', 'Babinoff', 'Lebed', 'Gorskih', 'Vanke', 'Awanesov', 'Vasyutin', 'Bektimirov', 'Baiteryakoff', 'Tchaleev', 'Hairulin', 'Bakotin', 'Balasanyan', 'Jokhin', 'Yanover', 'Davidyants', 'Omelko', 'Agayan', 'Djanibekov', 'Togulev', 'Lejebokov', 'Grigorishin', 'Balabanoff', 'Chadrantsev', 'Shirle', 'Cherpakov', 'Jakhin', 'Prolubnikov', 'Chuhnov', 'Makhotin', 'Chertkov', 'Halatyan', 'Turunov', 'Tudorovsky', 'Bakhtinov', 'Dzhikovich', 'Zheludkov', 'Dogujiev', 'Nahmanovich', 'Zhivlyuk', 'Shalyto', 'Jokhov', 'Rahlevsky', 'Pokhodun', 'Kabyshev', 'Remchukov', 'Nyashin', 'Davydov', 'Jalovets', 'Rzheshotarsky', 'Yakhimovich', 'Goloushin', 'Hitruk', 'Yakovchuk', 'Adamiants', 'Vazhov', 'Rjavin', 'Prokofiev', 'Mordyukov', 'Belostotsky', 'Portnyakov', 'Baimiev', 'Cheryshev', 'Pochivalov', 'Vihnovich', 'Shahovsky', 'Chuhman', 'Shalgin', 'Eig', 'Moshkin', 'Lysyansky', 'Bakhusov', 'Yagfarov', 'Glaznev', 'Tsederbaum', 'Vedenov', 'Nurhamitov', 'Abisalov', 'Jablokov', 'Matzkov', 'Yaitsky', 'Atyashev', 'Dobrinsky', 'Tihov', 'Nahodkin', 'Tzarevsky', 'Limarev', 'Vankov', 'Guleichik', 'Batchmanoff', 'Dankin', 'Pechenkin', 'Gukov', 'Bahlulzade', 'Antontsev', 'Beltsov', 'Galdin', 'Kachan', 'Hatov', 'Zhumenko', 'Hlutkov', 'Isleniev', 'Nasrutdinov', 'Jedrinsky', 'Frush', 'Mindlin', 'Donchenko', 'Jakushin', 'Batskaev', 'Jakimenko', 'Molyakov', 'Holodnyh', 'Rujitsky', 'Didichenko', 'Shahnazarov', 'Anert', 'Jukhtanov', 'Tomashevsky', 'Babutski', 'Zimnitsky', 'Porkhunov', 'Pellenen', 'Gasymov', 'Mozhaev', 'Belodubrovsky', 'Tselovalnikov', 'Jeleznikov', 'Ponasov', 'Sheluntsov', 'Belogolovkin', 'Yamlihanov', 'Rogalnikov', 'Yakushkin', 'Judovich', 'Tzarakov', 'Marushko', 'Mihalchuk', 'Zitev', 'Likhodei', 'Tsalaban', 'Vanifatiev', 'Toidze', 'Havkin', 'Beloshapkin', 'Lichkun', 'Baiguzin', 'Mojin', 'Zobanov', 'Zhurkovsky', 'Shirkov', 'Makferson', 'Makhotkin', 'Nasibullin', 'Baksaraev', 'Zhernov', 'Podshibihin', 'Dobriyan', 'Russkih', 'Minevich', 'Dodonov', 'Matsuev', 'Havin', 'Shamarin', 'Rusyaev', 'Leibe', 'Vainson', 'Zhegin', 'Jahno', 'Drojdin', 'Vikhlyaev', 'Babakulov', 'Mikhlin', 'Zhebit', 'Kalinchuk', 'Tsigra', 'Haesh', 'Nevelskoi', 'Dermelev', 'Tronin', 'Leiferkus', 'Horkov', 'Yagunov', 'Pokhlebkin', 'Vasiliev', 'Hachaturyan', 'Katzur', 'Avturkhanov', 'Vyatkin', 'Abertasov', 'Makhin', 'Bakurinsky', 'Shirikov', 'Viliev', 'Vakulovsky', 'Bezumov', 'Vitovoi', 'Turovtsev', 'Vyaltsin', 'Pokhilchuk', 'Jvanetsky', 'Gulyaev', 'Saidullaev', 'Golovaty', 'Tovbich', 'Vilinbahov', 'Fromberg', 'Mahlai', 'Tzagunov', 'Harlamov', 'Abramyan', 'Tzebrikov', 'Horanov', 'Turubanov', 'Baglanoff', 'Janovsky', 'Evsyukov', 'Pehterev', 'Jukhman', 'Shakhmatov', 'Badyashin', 'Zogalev', 'Abovin', 'Abisaloff', 'Chutchenko', 'Loenko', 'Makhnenko', 'Adelung', 'Morzhitsky', 'Bairamkulov', 'Tzarenkov', 'Tikhonkih', 'Tujilin', 'Hijny', 'Routiyainen', 'Durmashkin', 'Levite', 'Muzhkaterov', 'Gatsuk', 'Shahmin', 'Turpyatko', 'Abyshev', 'Berezansky', 'Vaskin', 'Tcharoshnikov', 'Zelenev', 'Tunnikov', 'Zhvirblis', 'Zhebrovsky', 'Pyriev', 'Veliky', 'Vaiman', 'Shamshev', 'Limoshin', 'Overchuk', 'Geta', 'Tihvinsky', 'Glezmer', 'Kalinov', 'Vyrupaev', 'Vyacheslavov', 'Groza', 'Vasianov', 'Berezitsky', 'Ateev', 'Zhushman', 'Zaslavets', 'Matsiev', 'Dovgaev', 'Pavluhin', 'Dozorny', 'Maksumov', 'Belohin', 'Zhurba', 'Agranat', 'Jolobov', 'Jenovach', 'Imbulgin', 'Duryagin', 'Vedyaskin', 'Jabsky', 'Tsalykhin', 'Danilyuk', 'Dakhno', 'Martov', 'Barakin', 'Filipiev', 'Pen', 'Piterskih', 'Vygran', 'Val', 'Dzhemilev', 'Bazanov', 'Valiahmetov', 'Abesadze', 'Tsvelikhovsky', 'Avksentiev', 'Gujavin', 'Yuzeev', 'Bakitsky', 'Zis', 'Rekitar', 'Grozhantsev', 'Andreichuk', 'Rahov', 'Rakhmanin', 'Eikhenbaum', 'Abrashin', 'Tzenin', 'Timirgazeev', 'Shirkovets', 'Marhinin', 'Molodkin', 'Shalyapin', 'Tsapenko', 'Bazarbaev', 'Engelgard', 'Galoganov', 'Jakimchik', 'Baturin', 'Bazylnikov', 'Ujvak', 'Jukhimenko', 'Vinichenko', 'Turtygin', 'Tobolkin', 'Kablits', 'Tuneev', 'Nurgaliev', 'Chihanchin', 'Zinnurov', 'Livshitz', 'Volsky', 'Lupenko', 'Mujitskikh', 'Durgaryan', 'Vinnikov', 'Bagramov', 'Shamakhov', 'Vallander', 'Imamutdinov', 'Multakh', 'Lejikov', 'Artyushkov', 'Shamakin', 'Shalyugin', 'Levitan', 'Raikhert', 'Viskovatov', 'Belichenko', 'Rakhvalov', 'Tihonov', 'Bakharev', 'Glazachev', 'Fiokhin', 'Tsigler', 'Zhirnov', 'Jitinev', 'Anisihin', 'Jikharevitch', 'Nastavin', 'Babuh', 'Gordyagin', 'Aurov', 'Mihailov', 'Davletkildeev', 'Bahmetiev', 'Lapochkin', 'Pridchenko', 'Hairov', 'Rakhmetov', 'Gudjabidze', 'Omelyansky', 'Dogadov', 'Shakhurin', 'Abrakhimov', 'Dorofeev', 'Abdulazizoff', 'Dahaev', 'Jurihin', 'Belbaev', 'Ageenko', 'Dzhuromsky', 'Vertogradsky', 'Lysov', 'Aden', 'Artizov', 'Jalagin', 'Agarev', 'Ebralidze', 'Shaihmurzin', 'Troilin', 'Vakitchev', 'Shenfeldt', 'Zhidkih', 'Neverovsky', 'Gruschak', 'Fotinov', 'Marov', 'Yanbarisov', 'Djincharadze', 'Bahmetoff', 'Yatsuba', 'Eruhimovich', 'Jeltukhin', 'Otmakhov', 'Abragamson', 'Grushinsky', 'Jatzkovsky', 'Avdonin', 'Lebedev', 'Murchenko', 'Batchilo', 'Vilkov', 'Nurmuhamedov', 'Ryjakov', 'Zhiro', 'Morjin', 'Zavorohin', 'Avetyan', 'Zimarin', 'Galochkin', 'Belshtein', 'Velikhov', 'Yuzhalin', 'Shahin', 'Zolotkov', 'Zhigalev', 'Babadjanoff', 'Awroroff', 'Habarov', 'Abramovsky', 'Varaev', 'Mikhailichenko', 'Dubatkov', 'Lykhin', 'Awladeeff', 'Avertchev', 'Researcher', 'Schepotyev', 'Batchev', 'Glukhonkov', 'Mokronosov', 'Shazzo', 'Yuhnev', 'Martynenko', 'Zhiboedov', 'Juhimuk', 'Zhebryakov', 'Halilulin', 'Jarnov', 'Androvsky', 'Bazhan', 'Vingovatov', 'Abashidze', 'Vilenchik', 'Pistolkors', 'Tsander', 'Guzov', 'Deshesko', 'Zharov', 'Imatkulov', 'Pridannikov', 'Yangel', 'Judaev', 'Luptsov', 'Velmukin', 'Zhokhin', 'Viridarsky', 'Virkovsky', 'Zihanov', 'Schepatov', 'Otyaev', 'Makurov', 'Pendyurin', 'Tzelikovsky', 'From', 'Pyavchenko', 'Haidukov', 'Davlyatov', 'Agutin', 'Halymbadzha', 'Yugin', 'Tumasiev', 'Makshakov', 'Mojaev', 'Pridybailo', 'Kartomyshev', 'Mikhaltsov', 'Fortunatov', 'Miodushevsky', 'Jitenev', 'Jeleztsov', 'Yukhno', 'Bahovkin', 'Beinenson', 'Tseboev', 'Adaikin', 'Pelsh', 'Gudovsky', 'Voznov', 'Vylomov', 'Eroshkin', 'Marhanov', 'Bakatin', 'Dobrynchenko', 'Tsvylev', 'Deminov', 'Mollaev', 'Chukhmantsev', 'Ribopier', 'Nesmeyanov', 'Vilensky', 'Parensov', 'Isaenko', 'Avenarius', 'Vanechkin', 'Tamanin', 'Grosfeld', 'Tchekis', 'Tselikov', 'Mordvinov', 'Los', 'Avhimovich', 'Abaloff', 'Zhendarov', 'Mozhaiskov', 'Yujakov', 'Loiter', 'Hamaev', 'Jinkin', 'Remezov', 'Matzievich', 'Altfater', 'Esaulov', 'Vanykin', 'Minenko', 'Behterev', 'Yakunin', 'Abdulazizov', 'Holoshevsky', 'Bagryanski', 'Jigailov', 'Dovgello', 'Atabekov', 'Bekhtin', 'Awaliani', 'Dikolenko', 'Pokhilenko', 'Zhadaev', 'Harkevich', 'Ukhovsky', 'Pechinkin', 'Molotilov', 'Hudik', 'Baidukoff', 'Dobrodeev', 'Troitsky', 'Mikhalychev', 'Hamukov', 'Bakst', 'Shaikhutdinov', 'Pokhlebaev', 'Obolyaninov', 'Mikh', 'Agarkov', 'Gujov', 'Adashevski', 'Chaadaev', 'Vainberg', 'Shalashov', 'Gladchenko', 'Ziyazov', 'Hatmullin', 'Cheruhin', 'Pohodin', 'Chukhin', 'Rekunov', 'Yudushkin', 'Hudilainen', 'Gordeenko', 'Seredkin', 'Jankovsky', 'Obyedkov', 'Lichnov', 'Lykasov', 'Talitsky', 'Kartoziya', 'Eihengolts', 'Agranovski', 'Tugujekov', 'Dobroserdov', 'Favorsky', 'Nezamai', 'Dubkov', 'Shananykin', 'Tzahilov', 'Tchaldymov', 'Bahrah', 'Gorfunkel', 'Prokurorov', 'Jebo', 'Mihailyants', 'Hurdey', 'Yanaslov', 'Yankevich', 'Hanenko', 'Juchkov', 'Shenker', 'Andronikov', 'Avturhanov', 'Lysev', 'Anikushin', 'Shelting', 'Pyjov', 'Nezlin', 'To The First Page', 'Haidin', 'Bereznitzky', 'Tsapelik', 'Bazovski', 'Dahnov', 'Holomeev', 'Bakhtiarov', 'Shalagaev', 'Hazan', 'Mikhalchev', 'Rembeza', 'Tzelischev', 'Likhobaba', 'Russkin', 'Tzagolov', 'Tamarchenko', 'Demihov', 'Hevrolin', 'Hadonov', 'Dublyansky', 'Baiborodoff', 'Sereda', 'Gudymo', 'Batsyn', 'Vozianov', 'Kachimov', 'Shenterev', 'Tzeizik', 'Onenko', 'Abgaryan', 'Aivazovski', 'Juzhenko', 'Bachuk', 'Neznamov', 'Zhigulin', 'Jirnikov', 'Maryenko', 'Nasikan', 'Adno', 'Judin', 'Anopriev', 'Adohin', 'Dobrivsky', 'Bajanoff', 'Mlotkovsky', 'Chikurov', 'Yakush', 'Ujva', 'Pohodeev', 'Hadjiev', 'Omashev', 'Isaikov', 'Truhanovsky', 'Lishtva', 'Jjenov', 'Jidilin', 'Parakhin', 'Pechurkin', 'Baimakoff', 'Emohonov', 'Noskov', 'Egorihin', 'Cherukhin', 'Abelmazov', 'Shahpaev', 'Poshlyakov', 'Baitchikoff', 'Kalinsky', 'Yanshole', 'Zherebin', 'Jernov', 'Hramtsov', 'Antonchenkov', 'Balamutenko', 'Deryujinsky', 'Lejenko', 'Bakhtadze', 'Zhmudsky', 'Vainberger', 'Yagubsky', 'Batchyanskas', 'Vedenkin', 'Bagmevsky', 'Agaphonov', 'Gerasimovsky', 'Geht', 'Glavatsky', 'Jemchujnikov', 'Bagishvili', 'Serejkin', 'Vantchurov', 'Dikul', 'Ivanov', 'Vassoevich', 'Avtchenko', 'Andryuk', 'Pliev', 'Nyuhtilin', 'Mnogogreshny', 'Emtsov', 'Abzaev', 'Nusinov', 'Vitmer', 'Govorin', 'Hakhulin', 'Lytkin,', 'Agrest', 'Dzhankezov', 'Kaleshin', 'Jemaldinov', 'Harlashkin', 'Dovydenko', 'Atallahanov', 'Judushkin', 'Bass', 'Babiy', 'Davydenkov', 'Babuhin', 'Zhuravlev', 'Frumin', 'Jiganov', 'Talkovsky', 'Mordovtsev', 'Dikarevsky', 'Jakubenko', 'Lim', 'Davidovich', 'Lih', 'Tikhodeev', 'Shakhtin', 'Jaimov', 'Shenshin', 'Yaimov', 'Mojar', 'Mikheev', 'Lichenko', 'Scheblykin', 'Chuvashov', 'Adigamov', 'Makhurov', 'Portsienko', 'Mulerman', 'Yampolsky', 'Iskyul', 'Atarskikh', 'Gulchinsky', 'Gorlov', 'Ruhledev', 'Mahovikov', 'Shalko', 'Evdokimov', 'Kacharov', 'Jupanenko', 'Zhirmunsky', 'Turkul', 'Jagupets', 'Mndjoyan', 'Churuksaev', 'Dovzhuk', 'Yanzinov', 'Dovgusha', 'Haslavsky', 'Adriankin', 'Shamilyan', 'Djanashiya', 'Livnev', 'Katzepov', 'Mihelson', 'Shakhkalamyan', 'Vadkovski', 'Yukhvidov', 'Levitsky', 'Chepurin', 'Govorov', 'Talovirko', 'Mitsukov', 'Matsevich', 'Shaidakov', 'Vypirailenko', 'Tikhmenev', 'Bakunin', 'Mochalin', 'Padylin', 'Jogin', 'Jerzdev', 'Awdiewsky', 'Zhuk', 'Elisman', 'Shahnovich', 'Zavorokhin', 'Eikhmans', 'Dubnitsky', 'Lein', 'Privalihin', 'Haluev', 'Erzhenkov', 'Turlov', 'Denisovsky', 'Gafarov', 'To The First Page', 'Chekhovich', 'Morjitsky', 'Rzhanitsin', 'Abamelek', 'Babeshko', 'Mahin', 'Jukovich', 'Muzyukin', 'Vinding', 'Zhilenkov', 'Horuzhev', 'Awksentiev', 'Gesti', 'Kalikhanov', 'Rainov', 'Lupan', 'Paradzhanov', 'Tihonravov', 'Hramchenkov', 'Mojarov', 'Egipko', 'Katsebin', 'Jimerin', 'Rogatkin', 'Portnenko', 'Zhemaldinov', 'Chukhontsev', 'Awelan', 'Harkov', 'Awertchenko', 'Talyantsev', 'Liven', 'Badukin', 'Vellansky', 'Vaidanovitch', 'Leitis', 'Hilyuk', 'Lositsky', 'Shalamanov', 'Mahno', 'Baranetsky', 'Guk', 'Senyagin', 'Jmakov', 'Jelezny', 'Chadov', 'Rutkevich', 'Adelkhanoff', 'Raikhelson', 'Nurkaev', 'Bakhtinoff', 'Talalaev', 'Jarikhin', 'Yukhma', 'Talian', 'Zhivulin', 'Bakalov', 'Chadov', 'Bagmut', 'Agramoff', 'Loskutov', 'Shaidenko', 'Renskov', 'Balahontsev', 'Zhelekhovsky', \"V'Yun\", 'Hailov', 'Tzalaban', 'Vaipan', 'Juzgin', 'Vistchinsky', 'Gladun', 'Nuryshev', 'Timonov', 'Jabrev', 'Yalovenko', 'Vinyarsky', 'Harionovsky', 'Vygotsky', 'Levitsky', 'Abdrahimoff', 'Tzann-Kay-Si', 'Jatsun', 'Abulmambetov', 'Alchangyan', 'Endolov', 'Lodyagin', 'Babaevsky', 'Rohmistrov', 'Gujvin', 'Harabornikov', 'Ott', 'Hanafiev', 'Porosenkov', 'Veligura', 'Hujin', 'Bezyzvestnyh', 'Vyaltsev', 'Awinowitsky', 'Gorcharenko', 'Altman', 'Bazai', 'Shakhbanov', 'Emelianenkov', 'Zolotdinov', 'Gerasimov', 'Shakhovskoi', 'Azhinoff', 'Matskovsky', 'Alchin', 'Bazyuta', 'Abulkhanoff', 'Kartazhev', 'Paranin', 'Vaskov', 'Zhelyabov', 'Shammazov', 'Zhornyak', 'Shah', 'Tovstyko', 'Awdiyants', \"Es'Kov\", 'Bakhmetev', 'Hizhnyak', 'Pyrkov', 'Bakhmat', 'Yablochkin', 'Mahagonov', 'Minyukov', 'Dzhaldzhireev', 'Vakar', 'Sailotov', 'Badalyants', 'Abramoff', 'Martinenas', 'Shanaev', 'Awturkhanoff', 'Mrevlishvili', 'Adushkin', 'Bahlaev', 'Lupandin', 'Eremchenko', 'Dudnik', 'Eikhe', 'Shahlin', 'Engelmeier', 'Kabisha', 'Avdeev', 'Tovuu', 'Bahmatov', 'Gulia', 'Bakiev', 'Zhizha', 'Jeltoukhov', 'Vedyaev', 'Hachaturov', 'Juferov', 'Obyedkin', 'Paivin', 'Belorusov', 'Ustvolsky', 'Virekhovsky', 'Harev', 'Yakushov', 'Zhakov', 'Vozgilevich', 'Lihachev', 'Otmahov', 'Gasich', 'Yukhotsky', 'Baidachny', 'Abdulaev', 'Atajakhov', 'Katznelson', 'Meshkovsky', 'Makulov', 'Timonnikov', 'Leiko', 'Bakhurin', 'Babienko', 'Agakoff', 'Baitoff', 'Shalavin', 'Vangengeim', 'Jatkov', 'Vedernikov', 'Derkovsky', 'Mihno', 'Katzenellenbogen', 'Balagurov', 'Gachev', 'Averichkin', 'Ustyugov', 'Belchuk', 'Nugaibekov', 'Jerdev', 'Ciurlionis', 'Egiazaryan', 'Priimkov', 'Bei-Bienko', 'Mihailovsky', 'Zimyanin', 'Yan', 'Bakhchivandji', 'Abramenko', 'Hudaiberdin', 'Zhidkikh', 'Jakov', 'Abdulatipov', 'Togoev', 'Baewsky', 'Vaiserman', 'Hapsirokov', 'Pogosyan', 'Vertinsky', 'Trukhachev', 'Baitchorov', 'Robkanov', 'Lossky', 'Kaleri', 'Balavin', 'Yanshin', 'Dzhevetsky', 'Muzrukov', 'Veligodsky', 'Enik', 'Bauer', 'Gasparov', 'Pakhomov', 'Mihailutsa', 'Zhiznyakov', 'Mndoyants', 'Mukke', 'Marfunin', 'Tikhin', 'Pismenny', 'Adrianoff', 'Tumko', 'Cherushov', 'Gukovsky', 'Kachkaev', 'Baev', 'Mindeli', 'Yatsenko', 'Nymmik', 'Zhigultsov', 'Abzyaparoff', 'Bairamkuloff', 'Basovsky', 'Vanyat', 'Raihman', 'Abukhoff', 'Beilshtein', 'Altshuller', 'Behtin', 'Adjemoff', 'Yushkov', 'Egorenkov', 'Bezrukikh', 'Lyzin', 'Hantimerov', 'Vyslouh', 'Avdulov', 'Zhernakov', 'Priymak', 'Nakhamkin', 'Renovants', 'Zelenkevich', 'Bakhovtsev', 'Chaganov', 'Elashkin', 'Chuvstvin', 'Chertakov', 'Shamburkin', 'Vyshemirsky', 'Entov', 'Hudainatov', 'Eikhengolts', 'Yushkevich', 'Gladilschikov', 'Obolonsky', 'Ligin', 'Gladston', 'Munsky', 'Bagler', 'Dienko', 'Bilenshtein', 'Babchenko', 'Otrokhov', 'Pochkin', 'Zhashkov', 'Richter', 'Eger', 'Hanjonkov', 'Halyavin', 'Dauengauer', 'To The First Page', 'Judasin', 'Zhurin', 'Truhin', 'Hludeev', 'Pelman', 'Gagrin', 'Shamanaev', 'Reles', 'Vintov', 'Shahmagon', 'Dovzhenko', 'Zhirikov', 'Usynin', 'Dzhabruev', 'Raikh', 'Batunov', 'Pochkunov', 'Belokhvostikov', 'Basyrov', 'Zhitetsky', 'Eliashberg', 'Ader', 'Uzov', 'Gribnov', 'Utugunov', 'Tchekachev', 'Lotman', 'Likunov', 'Paikin', 'Jelyabovsky', 'Jakubovich', 'Gladky', 'Tchekmenev', 'Zelenetsky', 'Ponyatkov', 'Ustkachkintsev', 'Porokhov', 'Matsievich', 'Jevaikin', 'Halkiopov', 'Yakimov', 'Golovei', 'Otrohov', 'Omegov', 'Bagdasaryan', 'Martzenyuk', 'Jigachev', 'Bereznitsky', 'Turiyansky', 'Aushev', 'Velsh', 'Zimny', 'Finko', 'Fedchenko', 'Juravlenko', 'Batchuk', 'Kachalkin', 'Chaly', 'Jukalov', 'Halilov', 'Talitskikh', 'Molorodov', 'Abuhoff', 'Zhalkovsky', 'Balakhnin', 'Makhutov', 'Yudakhin', 'Molodtsov', 'Ustyantsev', 'Minovitzky', 'Verstovsky', 'Yuhnin', 'Zhegunov', 'Jiryakov', 'Adzhubei', 'Filipkov', 'Minniahmetov', 'Bezyzvestnykh', 'Abrakhimoff', 'Shamota', 'Tzalko', 'Zholobov', 'Vakulitch', 'Barankin', 'Balakhovski', 'Awerbukh', 'Nezhdanov', 'Galteev', 'Atamanchuk', 'Moldovyan', 'Baikovski', 'Baitin', 'Rogatsky', 'Balanev', 'Makhankov', 'Yadrennikov', 'Beldy', 'Belimov', 'Onkov', 'Chuhmantsev', 'Daragan', 'Antyuganov', 'Datdeev', 'Balandyuk', 'Anikeev', 'Bakhorin', 'Bektemirov', 'Mikhelson', 'Troeglazov', 'Talipov', 'Kalamanov', 'Shahurov', 'Galkov', 'Paradjanov', 'Minchenkov', 'Vyglovsky', 'Vyschepan', 'Hot', 'Baraboshkin', 'Jitny', 'Babosov', 'Yamov', 'Bahtigareev', 'Yamilov', 'Pechkurov', 'Kartajev', 'Jakush', 'Jgutov', 'Chikulaev', 'Adamson', 'Turov', 'Agranowsky', 'Chamushev', 'Babinich', 'Abdurakhmanoff', 'Pechernikov', 'Hasiev', 'Sheluhin', 'Belsky', 'Tkachuk', 'Bahmutsky', 'Hlebovich', 'Utkin', 'Valentinov', 'Djavahishvili', 'Jerebtsov', 'Bajin', 'Rokhlin', 'Kallash', 'Timonkin', 'Juravsky', 'Tihotsky', 'Eizen', 'Alshansky', 'Gorchak', 'Kaleev', 'Vazhenin', 'Sherman', 'Shahnazaryan', 'Vajov', 'Sheludchenko', 'Pazhinsky', 'Bazilevitch', 'Gorfinkel', 'Dzhikaev', 'Jambaev', 'Bakhtizin', 'Tugaev', 'Lyndin', 'Tcharushin', 'Hanin', 'Tsagolov', 'Loskov', 'Yankelevich', 'Beklenischev', 'Yakupov', 'Bakaleinikoff', 'Bestov', 'Artemiev', 'Martinson', 'Mikhnev', 'Jandiev', 'Shahno', 'Mihlin', 'Tikhonchuk', 'Hlypovka', 'Entov', 'Kaletkin', 'Jevolojnov,', 'Abdildin', 'Yagello', 'Yandutkin', 'Haratyan', 'Halileev', 'Patsev', 'Zhogin', 'Jachnik', 'Abalmasoff', 'Gribov', 'Shakhurov', 'Abikh', 'Lykoshin', 'Saksonov', 'Baigushev', 'Bagaryakov', 'Lazhintsev', 'Liverovsky', 'Minushkin', 'Nyago', 'Talankin', 'Balakhowsky', 'Lermontov', 'Peresada', 'Baiguzoff', 'Billevich', 'Divavin', 'Gagemeister', 'Juhnev', 'Shirko', 'Bakrymov', 'Basov', 'Velgus', 'Bakhlaev', 'Aguzaroff', 'Holmov', 'Grakovich', 'Babakin', 'Jagodinsky', 'Charnolusky', 'Tovkan', 'Bahtinoff', 'Awerchenko', 'Moderah', 'Chijikov', 'Nyrtsev', 'Mogilevsky', 'Babyuk', 'Morozovsky', 'Moisinovich', 'Puscharovsky', 'Abaza', 'Vanzha', 'Talmin', 'Kartavtsev', 'Baibakov', 'Ontikov', 'Hataevich', \"Mar'In\", 'Zhigulsky', 'Zheverzheev', 'Kaliyants', 'Bakhir', 'Kartvelin', 'Mukanov', 'Chukhlov', 'Ryzhih', 'Avgustov', 'Emelin', 'Pocheshev', 'Averkov', 'Villiam', 'Berezovaya', 'Ataev', 'Levitzky', 'Dubinsky', 'Nesgovorov', 'Pohojaev', 'Zhurkov', 'Zasoba', 'Saidbaev', 'Hasminsky', 'Shaikov', 'Fazylzyanov', 'Bakkarevich', 'Prigojin', 'Bilmus', 'Zhirnyakov', 'Belman', 'Abdulkhabiroff', 'Tsyrba', 'Abrosimoff', 'Onufriev', 'Gorbovsky', 'Pirojenko', 'Hudyak', 'Mihnenko', 'Antopolsky', 'Yagupets', 'Moshin', 'Fadin', 'Adelfinski', 'Agratin', 'Nosko', 'Abashin', 'Janowich', 'Anodin', 'Dubinin', 'Adabash', 'Martynov', 'Talbaev', 'Mogilnichenko', 'Kalinko', 'Zholudev', 'Bachmanov', 'Balabaev', 'Agdaroff', 'Jaikbaev', 'Matzeyovsky', 'Bachinski', 'Martyshin', 'Shangareev', 'Juravel', 'Saigutin', 'Yuhtanov', 'Vagizoff', 'Makharov', 'Evstratov', 'Piskotin', \"Pohmel'Nyh\", 'Bein', 'Jijchenko', 'Baikovsky', 'Yuschak', 'Jagupa', 'Yugai', 'Tunik', 'Zheludev', 'Matsievsky', 'Zhitomirsky', 'Eganov', 'Badalov', 'Bagautdinov', 'Berezinsky', 'Finochkin', 'Abaidulin', 'Gudima', 'Maksimov', 'Tzagadaev', 'Guzev', 'Nijegorodtsev', 'Pavlinsky', 'Katzovsky', 'Otov', 'Taltskov', 'Horvat', 'Saidulaev', 'Tsenin', 'Yankilovich', 'Egorin', 'Zhatkov', 'Gulkevich', 'Elgin', 'Gladkikh', 'Mineev', 'Yatzun', 'Janshin', 'Tzarikaev', 'Andrusiw', 'Nevejin', 'Potsyapun', 'Abidoff', 'Mihelyus', 'Abakumov', 'Abzhalilov', 'Jankin', 'Adilov', 'Haustovich', 'Gauk', 'Tchehovich', 'Gallyamov', 'Hasyanov', 'Awduloff', 'Rivkin', 'Tsakunov', 'Ryzhanov', 'Hlybov', 'Balakaev', 'Zavorin', 'Rovkov', 'Jijilev', 'Lysansky,', 'Hurtov', 'Hagurov', 'Zhuzhlev', 'Vlasevich', 'Jerebyatiev', 'Lewitckyj', 'Uhov', 'Dobromyslov', 'Yudelevich', 'Maksyuta', 'Neveselov', 'Poryadin', 'Mulenkov', 'Yakovichenko', 'Handokhin', 'Ageichev', 'Vilchitsky', 'Alkov', 'Oom', 'Kachnov', 'Gorchakovsky', 'Paramoshkin', 'Jigulin', 'Hidiyatullin', 'Zhigarev', 'Vaisman', 'Mihailychev', 'Fintiktikov', 'Mokin', 'Tsarakov', 'Andryuhin', 'Zhdanko', 'Hurtsilava', 'Yuzhenko', 'Gudov', 'Grobovsky', 'Zavodnov', 'Vertegel', 'Saigin', 'Djumaev', 'Lezhepekov', 'Yalovoi', 'Awramoff', 'Yakushev', 'Antonchenko', 'Janaki', 'Researcher', 'Gershkovich', 'Gaur', 'Hentov', 'Lihtin', 'Abramenkoff', 'Tetekin', 'Bilov', 'Golofaev', 'Tsvirko', 'Minnibaev', 'Adarchenko', 'Baburkin', 'Yahnenko', 'Movsumadze', 'Abramowitch', 'Zasodimsky', 'Bibishev', 'Valmus', 'Zenkovich', 'Remih', 'Zhukovich', 'Petsyk', 'Levichev', 'Zhivotinsky', 'Haritoshkin', 'Zhivotenko', 'Darsigov', 'Belovol', 'Lepekhin', 'Yanovich', 'Jigarev', 'Baidavletoff', 'Mikhoels', 'Nuruchev', 'Eliasberg', 'Baumgarten', 'Abrazhevich', 'Molchansky', 'Turetskov', 'Juzefov', 'Hludov', 'Yepishev', 'Grositsky', 'Belinsky', 'Rakhmatullin', 'Gulenkov', 'Rogalev', 'Derman', 'Jakovlev', 'Mulyarchik', 'Vertyankin', 'Eikhenvald', 'Jamskov', 'Hunov', 'Yamlikhanov', 'Yadov', 'Jaboev', 'Mokhnatkin', 'Biryukov', 'Zheleznov', 'Yablonowsky', 'Mujjavlev', 'Aweryanoff', 'Toman', 'Tsallagov', 'Pribylov', 'Kalaidovich', 'Ryzhikh', 'Abrarov', 'Dmohovsky', 'Sakun', 'Elepov', 'Uzhinov', 'Rakhimov', 'Usenko', 'Vavakin', 'Portnyagin', 'Eroshevsky', 'Shaimiev', 'Juzvishin', 'Bahmutov', 'Zolotnitsky', 'Antyuhov', 'Tsarsky', 'Zasukha', 'Berezovsky', 'Harkovsky', 'Yandarbiev', 'Anzimirov', 'Bakaloff', 'Batchurin', 'Privorotsky', 'Atyasov', 'Agranowitch', 'Bawvykin', 'Pavlenkov', 'Lodygin', 'Detkov', 'Vyucheisky', 'Abakshin', 'Vagnyuk', 'Moshcovitsh', 'Portyanik', 'Jukhvidov', 'Yakunchikov', 'Vasserman', 'Rozenbloom', 'Chepurnoy', 'Gluhotko', 'Vilutis', 'Bahtiev', 'Lichagin', 'Lohno', 'Tzeidler', 'Guldenbalk', 'Goloschekin', 'Adamoff', 'Potseluev', 'Daty', 'Chertolyas', 'Jakimovich', 'Mikhalitsin', 'Derzhavin', 'Vihansky', 'Tokarev', 'Valtchitsky', 'Nusuev', 'Gordasevich', 'Bakshtanowsky', 'Zhidomirov', 'Avladeev', 'Gulbinsky', 'Muzarev', 'Yatzyk', 'Renkas', 'Chanturia', 'Awkhimovich', 'Gallinger', 'Jalybin', 'Rekemchuk', 'Pligin', 'Toktakhunov', 'Postemsky', 'Muzylev', 'Bill', 'Gudojnik', 'Myatlev', 'Bagrov', 'Bakshtanowski', 'Jelezovsky', 'Tsarikaev', 'Gudtsov', 'Mihalkov', 'Chuhnovsky', 'Hil', 'Andryunin', 'Abrameitsev', 'Jigultsov', 'Zhevakhov', 'Horoshko', 'Mikhailitsyn', 'Dzhelepov', 'Jemchugov', 'Vagner', 'Davidyuk', 'Jatzkevich', 'Jevahov', 'Hahulin', 'Vakanya', 'Jakovkin', 'Balakhowski', 'Pushkov', 'Hamraev', 'Balabko', 'Visly', 'Tolbuhin', 'Zhizhin', 'Egishev', 'Hudekov', 'Barakovsky', 'Galerkin', 'Poretsky', 'Dovgalev', 'Veselkin', 'Glagolevskii', 'Guzovatsker', 'Abroskin', 'Valyavsky', 'Onoshkin', 'Yagujinsky', 'Esipov', 'Avtandilov', 'Anuchin', 'Eglevsky', 'Pagaev', 'Piunov', 'Dzhigarhanyan', 'Otiev', 'Groer', 'Tsei', 'Awakshin', 'Chikanov', 'Pagiev', 'Chepurnyh', 'Jitlukhin', 'Vasyutsky', 'Juzhilin', 'Jurbin', 'Tchehov', 'Dakhnov', 'Patzalo', 'Baibursky', 'Bazzhin', 'Bazikov', 'Minyushev', 'Zavolokov', 'Vilm', 'Zheromsky', 'Tcharushkin', 'Golovenkin', 'Gulchenko', 'Poshiklov', 'Chihachev', 'Uzbekov', 'Jelezko', 'Mahmutov', 'Jukhno', 'Filippenko', 'Nuikin', 'Feschuk', 'Lut', 'Dobrovsky', 'Raisky', 'Yageman', 'Awerkieff', 'Davydchenko', 'Artyushin', 'Marievsky', 'Andryukov', 'Alhimenko', 'Enohin', 'Jemukhov', 'Avtchinnikov', 'Lihanov', 'Shamro', 'Grigoriev', 'Zheltukhin', 'Matseyovsky', 'Tulaev', 'Isaichikov', 'Abidov', 'Katsman', 'Troekurov', 'Hasabov', 'Holod', 'Makukha', 'Patsiorkovsky', 'Hlopkov', 'Padalka', 'Awdeichikoff', 'Bezrukih', 'Balawin', 'Martsenkov', 'Bakshtanovsky', 'Zhelohovtsev', 'Awkhadieff', 'Uhabin', 'Agranenko', 'Grodensky', 'Dahin', 'Zhelezov', 'Bajan', 'Jemaitis', 'Abugoff', 'Mozharovsky', 'Andrushkevich', 'Zhilyakov', 'Agadjanov', 'Babarin', 'Zhdanov', 'Babansky', 'Nyuhalov', 'Hotetovsky', 'Pechinin', 'Mozharov', 'Adamovitch', 'Lihobaba', 'Bagryantsev', 'Jeleznyak', 'Vikhansky', 'Sakov', 'Bazen', 'Lizander', 'Ruzimatov', 'Paimukhin', 'Benevolensky', 'Tupikin', 'Pituhin', 'Jitinkin', 'Mahrovsky', 'Hilchevsky', 'Egolin', 'Jmulev', 'Molodyh', 'Penkin', 'Kartyshov', 'Makhnev', 'Lezhebokov', 'Molostvov', 'Barabashev', 'Tulkin', 'Minin', 'Grosul', 'Nuraliev', 'Jadrikhinsky', 'Miheev', 'Tsalikov', 'Levit', 'Jekov', 'Yakuba', \"Shan'Gin\", 'Handjaevsky', 'Kalinka', 'Uzky', 'Esennikov', 'Adyrhaev', 'Gluzsky', 'Awalishwili', 'Gasilin', 'Forshteter', 'Vinter', 'Rotshild', 'Tsahilov', 'Eroshenko', 'Zenkovsky', 'Davletgaraev', 'Makhinya', 'Talvik', 'Jerebovich', 'Halikov', 'Islamov', 'Abaturoff', 'Valkovoy', 'Lutoshkin', 'Hunagov', 'Taloverov', 'Tcheklyanov', 'Jimailov', 'Baiseitov', 'Halepsky', 'Beloselsky', 'Batcherikov', 'Babadzhanyan', \"V'Yugin\", 'Bazilevsky', 'Agapitoff', 'Musalnikov', 'Serchuk', 'Belyavin', 'Vagin', 'Isaichev', 'Remez', 'Gulamov', 'Yujalin', 'Zelenin', 'Talambum', 'Glasov', 'Morengeim', 'Andreli', 'Munekhin', 'Dobrotvorsky', 'Rusov', 'Rutberg', 'Golomolzin', 'Homatsky', 'Chajengin', 'Lihodeev', 'Yakhlakov', 'Demirhanov', 'Asylmuratov', 'Abaziev', 'Hatukaev', 'Zhizhchenko', 'Jadrov', 'Abjaliloff', 'Valchuk', 'Balakhonoff', 'Yakob', 'Omelchenko', 'Toguzov', 'Vasyatkin', 'Avduloff', 'Luskanov', 'Yatsevich', 'Libman', 'Pliska', 'Vaksman', 'Mahinya', 'Mokhnachev', 'Dik', 'Bazetskov', 'Avtukhov', 'Rotmistrov', 'Valitsky', 'Vyakkerev', 'Avalyan', 'Hihich', 'Adjaloff', 'Jabin', 'Tchekmarev', 'Jorjev', 'Fisik', 'Tsegoev', 'Habibulaev', 'Zhunda', 'Jitin', 'Harlashenkov', 'Shalonin', 'Marusev', 'Shakhin', 'Hayaliev', 'Agulian', 'Vavravsky', 'Tumaev', 'Novoshinsky', 'Zolotnitzky', 'Andruhov', 'Otellin', 'Vedyakin', 'Bakhmutski', 'Avgustoff', 'Nizhegorodov', 'Dodolev', 'Ryjkov', 'Yudanov', 'Patziorkovsky', 'Galenkov', 'Ladyjensky', 'Zhigunov', 'Ruzaev', 'Raikov', 'Enin', 'Pyjev', 'Govyadin', 'Holodkovsky', 'Val', 'Barabanschikov', 'Baistryuchenko', 'Ablyakimov', 'Duben', 'Tungusov', 'Agaev', 'Belilovsky', 'Haustov', 'Maryutin', 'Abramowich', 'Davidson', 'Dikansky', 'Albinesku', 'Dubrovo', 'Vagarshyan', 'Neverkovets', 'Remeslo', 'Tzakhilov', 'Shainurov', 'Bachinsky', 'Munyabin', 'Turkov', 'Tchekonov', 'Awsyuk', 'Molov', 'Guketlev', 'Tchajegov', 'Zhurkin', 'Badanin', 'Davidchuk', 'Baiseitoff', 'Bagretsoff', 'Zenkevich', 'Gribovsky', 'Kalaida', 'Baidakov', 'Abdulladzhanoff', 'Jigulsky', 'Vasilievsky', 'Ville', 'Tsapov', 'Awilkin', 'Halin', 'Hujev', 'Vestfrid', 'Abdulhabirov', 'Bajukov', 'Mnatsakanyan', 'Handruev', 'Averkin', 'Hanjiev', 'Verba', 'Belikin', 'Vinnik', 'To The First Page', 'Bahtoff', 'Zhigalov', 'Bakuridze', 'Jelnov', 'Zhikov', 'Dubelir', 'Rakhletsky', 'Kalashnik', 'Arbuzov', 'Awdiysky', 'Aganbegyan', 'Chuhanov', 'Yuzhilin', 'Tobolev', 'Likhov', 'Ustyujanin', 'Chukhonkin', 'Dakhov', 'Jitukhin', 'Vertkin', 'Shakhnovich', 'Tokarchuk', 'Dantsiger', 'Homusko', 'Nuriev', 'Charushin', 'Chukhnin', 'Jukovsky', 'Judolovich', 'Adelfinsky', 'Japaskurt', 'Japparov', 'Pribylsky', 'Martsinkovsky', 'Djarimov', 'Zhukovin', 'Mihalenkov', 'Atazhahov', 'Haladjan', 'Vyalykh', 'Ujinov', 'Katsepov', 'Pajukov', 'Luts', 'Bakhtchivandji', \"V'Yunov\", 'Badylkin', 'Havronin', 'Beizerov', 'Abalakin', 'Badeschenkov', 'Chekomasov', 'Dzharimov', 'Maksimchikov', 'Shahtmeister', 'Birk', 'Zasuhin', 'Gladilin', 'Gaganov', 'Mihaltsev', 'Dzhuro', 'Zhevaikin', 'Bakshanski', 'Daugelo', 'Aivazovsky', 'Andrusiv', 'Yanaki', 'Timkin', 'Shalov', 'Hudabirdin', 'Bakiroff', 'Derkach', 'Tovma', 'Cherchesov', 'Dzhumaniyazov', 'Ablov', 'Badanoff', 'Hlebanov', 'Virichev', 'Juzhanov', 'Galdus', 'Dovlatyan', 'Eliovitch', 'Bakhvalov', 'Zhilis', 'Mikhalsky', 'Kalistratov', 'Penzin', 'Katsari', 'Gudzenko', 'Zhitnik', 'Abalihin', 'Vyltsan', 'Hubutiya', 'Zhitukhin', 'Poryvaev', 'Liventsev', 'Imukov', 'Yudin', 'Pytov', 'Kalinchenko', 'Yam', 'Zhdanovich', 'Gorsky', 'Jovtyak', 'Janochkin', 'Zhdankin', 'Filippkin', 'Pirumov', 'Usikov', 'Goloulin', 'Modzko', 'Velikopolsky', 'Zhovnir', 'Shakhov', 'Jakunchikov', 'Mahorin', 'Dzhunkovsky', 'Tulaikin', 'Andronchik', 'Makushkin', 'Vaikule', 'Dautov', 'Gulkin', 'Eihenvald', 'Cheparev', 'Averkiev', 'Saikin', 'Awgustoff', 'Yaklashkin', 'Ustilovsky', 'Jeglov', 'Gladshtein', 'Livansky', 'Hitrovo', 'Zinich', 'Vakulin', 'Shamsutdinov', 'Lihov', 'Badamshin', 'Jarihin', 'Jirov', 'Zinevich', 'Avhimovitch', 'Muzgin', 'Troinin', 'Huranov', 'Henkin', 'Turintsev', 'Pietsuh', 'Shendel', 'Nasakin', 'Baidzhanov', 'Tsipushtanov', 'Tchehanov', 'Avdiysky', 'Vintergalter', 'Abdrahmanov', 'Havanov', 'Atroshenko', 'Virenius', 'Lapidus', 'Chadovich', 'Tchekhoev', 'Chukhlomin', 'Hanok', 'Eneev', 'Abukhov', 'Chkhenkeli', 'Shelyag', 'Shakhtmeister', 'Galeev', 'Gaschenkov', 'Jeludev', 'Velli', 'Avsyuk', 'Avertchenko', 'Almedingen', 'Babakhanoff', 'Kalenik', 'Yagudin', 'Molchadsky', 'Eingorn', 'Martsevich', 'Vihert', 'Tchehlakovsky', 'Turupanov', 'Ukhov', 'Hazov', 'Priemyhov', 'Vyrodkov', 'Gasnikov', 'Averianoff', 'Vaks', 'Jivaev', 'Mukov', 'Tsapin', 'Grankin', 'Babentsev', 'Tovstukha', 'Emlin', 'Hominsky', 'Shain', 'Imanov', 'Vanitchev', 'Yatzunov', 'Babintsev', 'Gudkov', 'Chehovsky', 'Bavtrukevitch', 'Kalinnikov', 'Rekshinsky', 'Groshovkin', 'Yankin', 'Grushka', 'Djunusov', 'Zhizdik', 'Vikhnovich', 'Absattaroff', 'Getsen', 'Marshalko', 'Haskin', 'Birshtein', 'Hlopotnya', 'Onopriev', 'Bakhtiyaroff', 'Pazhitnov', 'Balakirev', 'Filipov', 'Davitashvili', 'Gorbach', 'Iskandarov', 'Balanovsky', 'Mojaikin', 'Tsaregorodtsev', 'Tchekhluev', 'Agapkin', 'Dobrynin', 'Agliullin', 'Bakun', 'Abdrakhimov', 'Eglevsky', 'Bagryansky', 'Abitov', 'Shaidarov', 'Abelman', 'Tsigleev', 'Tsvetkov', 'Grigorov', 'Altshuler', 'Yufa', 'Dobropolsky', 'Jakushov', 'Zukerman', 'Granberg', 'Groisberg', 'Piruev', 'Darchiev', 'Yakhot', 'Ponosov', 'Rennenkampf', 'Andronnikov', 'Agranoff', 'Abakovsky', 'Lejankov', 'Djibuti', 'Martidi', 'Shamshin', 'Bakulev', 'Jaburov', 'Raikevich', 'Babanov', 'Nakhapetov', 'Havinson', 'Abdulrahmanoff', 'Jeludkov', 'Vesninov', 'Biryulin', 'Nurov', 'Zhitenev', 'Bahtiaroff', 'Amelin', 'Jvykin', 'Jandr', 'Jafarov', 'Agrashev', 'Talalai', 'Timashov', 'Anuriev', 'Ponidelko', 'Pazhukov', 'Adyrkhaev', 'Dovgan', 'Berezovikov', 'Zozrov', 'Kartamyshev', 'Lukhovitsky', 'Morduhovich', 'Baklagin', 'Hamidullin', 'Mulinov', 'Agapoff', 'Baisaroff', 'Shamsudinov', 'Anisovets', 'Shentel', 'Kalinushkin', 'Shamaev', 'Zhidkin', 'Habibulin', 'Gulko', 'Ryjko', 'Leibenzon', 'Tugushev', 'Ruzhilo', 'Luppol', 'Valevin', 'Dubitsky', 'Hudyshkin', 'Tomashpolsky', 'Karteshkin', 'Abdulbasirov', 'Vampilov', 'Hanbikov', 'Lutchenko', 'Marutenkov', 'Mullayanov', 'Bawtrukevich', 'Mosheev', 'Gassiy', 'Forer', 'Jatsyk', 'Tchekhanov', 'Nursubin', 'Multah', 'Gatturov', 'Musavirov', 'Shambazov', 'Mochtarev', 'Belnikov', 'Makhanov', 'Babadzhanov', 'Desnitsky', 'Nevedomsky', 'Pasternak', 'Alpert', 'Makuha', 'Gorskin', 'Chepurkovsky', 'Zaslavsky', 'Jukhnev', 'Vysheslavtsev', 'Shenagin', 'Gortikov', 'Eihmans', 'Kaldin', 'Nevitsky', 'Yanibekov', 'Nurtdinov', 'Chehluev', 'Zhakmon', 'Jigunov', 'Zelenovsky', 'Horuzhenko', 'Mokhnatsky', 'Turchenko', 'Agranovsky', 'Katsibin', 'Taube', 'Lubushkin', 'Piskun', 'Shaer', 'Porfirov', 'Sapojnikov', 'Likhovtsev', 'Lychanaya', 'Ageikin', 'Gololobov', 'Rementsov', 'Janaev', 'Loder', 'Bakhmetiev', 'Prigojy', 'Uzhentsev', 'Baigozin', 'Kabalkin', 'Tumanov', 'Moshkov', 'Baidzhanoff', 'Zimnuhov', 'Yakhin', 'Tsvelyukh', 'Holmsky', 'Vasyanovich', 'Agranowski', 'Abanin', 'Raich', 'Halevin', 'Pochuev', 'Abdullaev', 'Almetov', 'Janek', 'Zhirinovsky', 'Jivkovich', 'Aweritchkin', 'Varaksin', 'Kartashev', 'Sakovich', 'Felkerzam', 'Munasipov', 'Chartorizhsky', 'Jamaletdinov', 'Darjaev', 'Kartovenko', 'Zastrozhny', 'Leitman', 'Jelyabujsky', 'Zhigalin', 'Baikin', 'Awtokratoff', \"En'Ko\", 'Jendarov', 'Jivopistsev', 'Derzhavets', 'Gatsukov', 'Baharev', 'Agitshtein', 'Ents', 'Yudenich', 'Ponyatovsky', 'Mischihin', 'Eihe', 'Zharovtsev', 'Glaz', 'Eikhfeld', 'Jankov', 'Parakin', 'Biron', 'Turetsky', 'Zhivkovich', 'Abakumtsev', 'Yukhnin', 'Absattarov', 'Jdan', 'Andruschenko', 'Myachkov', 'Juhtanov', 'Neskuchaev', 'Velyashev', 'Dzhanashiya', 'Vaksel', 'Omelyuk', 'Belotsitsky', 'Lokhin', 'Baikov', 'Gribkov', 'Aganoff', 'Deryushev', 'Prokoshkin', 'Zenbitsky', 'Trukhanov', 'Mikhalchuk', 'Lutsev', 'Prikupets', 'Ennikeev', 'Maksyutenko', 'Durnovo', 'Moshkunov', 'Nurok', 'Pentin', 'Kachalovsky', 'Jigmytov', 'Basyuk', 'Schepansky', 'Martynenkov', 'Golotik', 'Agureev', 'Hismatullin', 'Janpolsky', 'Tsayukov', 'Awtuhoff', 'Zimin', 'Andrushko', 'Zenger', 'Babkeev', 'Gulyga', 'Judakhin', 'Tcharuhin', 'Desyatskov', 'Hubaev', 'Kacharyants', 'Abramchuk', 'Patsevich', 'Molostov', 'Jagunov', 'Belyusov', 'Hankoev', 'Yahno', 'Baklund', 'Jurba', 'Eidelnant', 'Yamburg', 'Bahir', 'Osipenko', 'Abulhanov', 'Makhinov', 'Shakhlin', 'Tzarik', 'Gatashov', 'Arapov', 'Chuvanov', 'Zhovtun', 'Yakov', 'Pendyuhov', 'Anosov', 'Geroeff', 'Martemyanov', 'Matsakov', 'Zhilkin', 'Judelevich', 'Chursinov', 'Hijnyak', 'Ponomarenko', 'Plitman', 'Obolensky', 'Grozdov', 'Drojjinov', 'Eideman', 'Dozortsev', 'Chikishev', 'Hamadeev', 'Minnihanov', 'Makhro', 'Gauer', 'Galevsky', 'Gorbachevsky', 'Jidkov', 'Jatsyshin', 'Jirikov', 'Bagiroff', 'Abramtchikoff', 'Jidomirov', 'Handrilov', 'Shahansky', 'Dobrusin', 'Gaft', 'Lupekhin', 'Grobivker', 'Uzlov', 'Awtorhanoff', 'Dovgolevsky', 'Martyanchik', 'Isaichenkov', 'Govorkov', 'Shelyuh', 'Zhirkov', 'Valkevich', 'Mikhalenkov', 'Turoverov', 'Awdeeff', 'Tihin', 'Mkrtumyan', 'Chepchyak', 'Dobrjansky', 'Bagomaev', 'Jakuba', 'Juhotsky', 'Auzan', 'Jirkov', 'Zinnatov', 'Hublaryan', 'Shamuzafarov', 'Grosshopf', 'Gallutdinov', 'Tettenborn', 'Shalygin', 'Batuhtin', 'Valtchikovski', 'Jbanov', 'Alfonsky', 'Timiryazev', 'Halevinsky', 'Jankelevich', 'Harlachev', 'Levitansky', 'Uzhvak', 'Bezusko', 'Babakov', 'Balarev', 'Prokuronov', 'Baitchoroff', 'Deryuzhinsky', 'Jirdetsky', 'Otlesnov', 'Balalaev', 'Gleizer', 'Zhloba', 'Kaletsky', 'Baiguloff', 'Holminov', 'Shalimov', 'Darinsky', 'Murychev', 'Mahnev', 'Valnev', 'Kalabuhov', 'Vyshkvarko', 'Ufimkin', 'Iskujin', 'Agilera', 'Porosyuk', 'Fadyaev', 'Harakhinov', 'Abdrashitoff', 'Iskander', 'Imshenetsky', 'Nelyubov', 'Trukhanovsky', 'Zharikov', 'Vilimaa', 'Andryushin', 'Richman', 'Adoff', 'Tumenov', 'Zastavsky', 'Velio', 'Dovjenko', 'Zherzdev', 'Novoseltsev', 'Hasis', 'Darchiashvili', 'Yandulsky', 'Likhomanov', 'Tovstuha', 'Jelokhovtsev', 'Avdyushin', 'Tsaregradsky', 'Vyalba', 'Hardaev', 'Jizdik', 'Zhivopistsev', 'Remnev', 'Leonenko', 'Vikulin', 'Grushihin', 'Tzai', 'Zheliba', 'Zhgutov', 'Vyazmitinov', 'Penev', 'Fabelinsky', 'Guznischev', 'Darkshevich', 'Gribalev', 'Tzapenko', 'Jakhlakov', 'Belosludtsev', 'Chuvailov', 'Gorbov', 'Agaphonoff', 'Kalgashkin', 'Groshev', 'Isakovich', 'Cherov', 'Adamyan', 'Govorun', 'To The First Page', 'Abuzoff', 'Bazhin', 'Avrorov', 'Chabanov', 'Vitorgan', 'Mordasov', 'Valkov', 'Chugaev', 'Awinowitski', 'Belyaninov', 'Harin', 'Golov', 'Shalnev', 'Valikhanov', 'Griboedov', 'Piskorsky', 'Shahnovsky', 'Pechagin', 'Horoshilov', 'Lazhentsev', 'Kalitvintsev', 'Bader', 'Marysyuk', 'Gafin', 'Mingaleev', 'Glazman', 'Vaginov', 'Ryjkovsky', 'Minkevich', 'Goloushev', 'Ruzaikin', 'Gropyanov', 'Shah-Nazaroff', 'Vinsgeim', 'Vansovich', 'Yalchevsky', 'Vavulin', 'Baidakoff', 'Lozben', 'Obukovkin', 'Agapov', 'Yuhov', 'Plotnitsky', 'Yagoda', 'Ageenkov', 'Vedev', 'Limorenko', 'Abudikhin', 'Abubakiroff', 'Davydkin', 'Rahletzky', 'Zhurihin', 'Lejepekov', 'Tsarenko', 'Janishin', 'Gribenkin', 'Chajegov', 'Atvilov', 'Abdulrakhmanov', 'Zhilyaev', 'Tchehladze', 'Mindadze', 'Mahonin', 'Pohilenko', 'Gets', 'Hapitsky', 'Jurbenko', 'Fominyh', 'Tulumbasov', 'Yanzhul', 'Vlasenkov', 'Artyuhin', 'Vygodovsky', 'Abramchikoff', 'Getelmaher', 'Jivoderov', 'Lutkovsky', 'Agalaradze', 'Babadjan', 'Lojkin', 'Badich', 'Jerikhin', 'Jakushkin', 'Adoduroff', 'Vakilov', 'Velikin', 'Anisikhin', 'Gordusenko', 'Djura', 'Zhukov', 'Rogal', 'Ilyutenko', 'Abdulladzhanov', 'Zhernevsky', 'Obydennikov', 'Aedonitsky', 'Zinkovsky', 'Awanesyan', 'Chekhoev', 'Schitsyn', 'Ageev', 'Pohvoschev', 'Turmilov', 'Tultsev', 'Yafarov', 'Juhtman', 'Averitchkin', 'Bahchivandzhi', 'Haritonov', 'Vyazalov', 'Batchish', 'Halapkhaev', 'Awen', 'Jakhaev', 'Vertman', 'Veprev', 'Makunin', 'Bakhvaloff', 'Raihelson', 'Vedischev', 'Munin', 'Shakhansky', 'Shamanov', 'Zhulebin', 'Avaliani', 'Evers', 'Zinov', 'Shalin', 'Dubatolov', 'Mlodik', 'Agapiev', 'Zolotai', 'Pavlyuchkov', 'Schepovskih', 'Augustoff', 'Musahanov', 'Jloba', 'Lejnev', 'Avetisov', 'Awelitcheff', 'Ablyakimoff', 'Moshkarnev', 'Bakunoff', 'Hatagov', 'Dobrov', 'Awinoff', 'Molochko', 'Nuryaev', 'Lapir', 'Hamenkov', 'Valyavski', 'Awhimowich', 'Astrahankin', 'Dzhunusov', 'Zhilin', 'Galli', 'Rutenburg', 'Murtazin', 'Zhavoronok', 'Ajiganov', 'Hananaev', 'Munchaev', 'Honov', 'Dubko', 'Bezruchenkov', 'Laps', 'Ustinovich', 'Grischenko', 'Nezametdinov', 'Jakimovsky', 'Babarykin', 'Vielgorsky', 'Gehfenbaum', 'Yapondych', 'Gagarin', 'Gluharev', 'Vainer', 'Pahalchuk', 'Tuboltsev', 'Kalachev', 'Grohovsky', 'Pavelyev', 'Pavlyukovsky', 'Yakovkin', 'Vilbushevich', 'Yushenkov', 'Antufiev', 'Velihov', 'Model', 'Jilenkov', 'Jiznyakov', 'Luriya', 'Kabysh', 'Yukhimenko', 'Agapeev', 'Anin', 'Diev', 'Gorbenko', 'Tovstyh', 'Baidukov', 'Hudojnikov', 'Jakubchik', 'Handzhyan', 'Senyukov', 'Plisov', 'Biljo', 'Gordeichik', 'Harkharov', 'Munster', 'Mihel', 'Atanov', 'Zhivoluk', 'Abashkin', 'Piskoppel', 'Maksin', 'Egorenko', 'Zhluktov', 'Rovnin', 'Gudim', 'Tsebrikov', 'Nosihin', 'Batsev', 'Kalaberda', 'Zavatsky', 'Minnulin', 'Bagin', 'Rukhledev', 'Likhachev', 'Vylegjanin', 'Tets', 'Kalachov', 'Likharev', 'Engver', 'Altshtein', 'Bavidoff', 'Glavatskih', 'Havrichev', 'Gafurov', 'Zheleznikov', 'Dudnakov', 'Haidakin', 'Gluhov', 'Kabalin', 'Bektuganov', 'Bazilevich', 'Rjevsky', 'Andruzsky', 'Vygovsky', 'Mahro', 'Awchenko', 'Zhamoido', 'Anufriev', 'Nurmuhametov', 'Babkoff', 'Vilbreht', 'Vinitsky', 'Chukhalov', 'Awlukoff', 'Hainadsky', 'Haryukov', 'Schepotkin', 'Zhinkin', 'Zasukhin', 'Alianov', 'Enner', 'Tchaadaev', 'Agasarov', 'Elapov', 'Muzychka', 'Valuev', 'Tchagin', 'Agarin', 'Adelkhanov', 'Bass', 'Katsukov', 'Grozovsky', 'Pyanochenko', 'Tzelovalnov', 'Chugainov', 'Portyanko', 'Vitruk', 'Dikih', 'Bakhshiev', 'Dovgalevsky', 'Kalikhov', 'Akimov', 'Avtonomov', 'Fedotovskih', 'Baklashoff', 'Antoshkin', 'Ufimov', 'Paharev', 'Zolotenkov', 'Abramtchuk', 'Baidyuk', 'Onufrievich', 'Mokeenkov', 'Vasyagin', 'Doga', 'Agalarov', 'Grammatin', 'Bestuzhev', 'Zhdan', 'Davletshin', 'Hlopiev', 'Katzevman', 'Djaldjireev', 'Dobrotin', 'Aglinskas', 'Bagachev', 'Mochalsky', 'Muzykantov', 'Baburov', 'Martynyuk', 'Dubasov', 'Nevelsky', 'Patz', 'Nasibullaev', 'Rahlin', 'Emelianenko', 'Pismanik', 'Gribashev', 'Hakhaev', 'Demetr', 'Ligachev', 'Mihalushkin', 'Marshev', 'Adomaitis', 'Porshenkov', 'Uhobotin', 'Guliev', 'Liders', 'Hanjin', 'Tihonchuk', 'Jijemsky', 'Liventsov', 'Bazylev', 'Anisfeld', 'Dobrenkov', 'Awerochkin', 'Lutohin', 'Vyalkov', 'Marks', 'Jablontsev', 'Finik', \"Tzel'Ko\", 'Grushevenko', 'Nugumanov', 'Bastanov', 'Zhenovach', 'Bairashewsky', 'Fotiev', 'Zhadovsky', 'Bairashevski', 'Vesich', 'Andreichin', 'Eihfeld', 'Egorichev', 'Astrakhankin', 'Dzhura', 'Lebedevich', 'Awash', 'Hudoinatov', 'Pechersky', 'Vesin', 'Gribakin', 'Mahov', 'Yankis', 'Aboff', 'Bagalei', 'Yahaev', 'Shamgulov', 'Yakubov', 'Jandarov', 'Viskov', 'Guldreih', 'Homa', 'Mokrousov', 'Geroev', 'Limonov', 'Balabas', 'Shaiahmetov', 'Badaev', 'Kalievsky', 'Tsvelihovsky', 'Zhestkov', 'Handzhaevsky', 'Leiba', 'Obysov', 'Janin', 'Vyrenkov', 'Jukovin', 'Bakeev', 'Makhovikov', 'Yudkovich', 'Ryjih', 'Elinson', 'Dobroklonsky', 'Chersky', 'Avrutin', 'Likhosherstov', 'Minkovich', 'Porohovschikov', 'Ryjik', 'Vestman', 'Maksimtsev', 'Djanashia', 'Hamlov', 'To The First Page', 'Abolihin', 'Holmansky', 'Mikhnevich', 'Zhemchujny', 'Oborotov', 'Yatzyshin', 'Gagut', 'Chapko', 'Halaphaev', 'Pendik', 'Zhivotovsky', 'Yuhvidov', 'Tupikov', 'Zimonin', 'Baidin', 'Iskoz', 'Mojarovsky', 'Didrikil', 'Adiev', 'Granat', 'Almuhametov', 'Tropinsky', 'Muzhitskikh', 'Marmazov', 'Tugai', 'Agranovitch', 'Gudymenko', 'Holmogorov', 'Jitkov', 'Lihtenshtein', 'Zhbanov', 'Abelsky', 'Bahurin', 'Dneprov', 'Gatiev', 'Mokry', 'Lohvitsky', 'Hitrov', 'Pelmenev', 'Valko', 'Haptahaev', 'Cherchen', 'Nahutin', 'Beloshitsky', 'Ajnikoff', 'Gulidov', 'Adoratsky', 'Horoshkevich', 'Gasvitsky', 'Gasselblat', 'Timarevsky', 'Hajkasimov', 'Muladjanov', 'Ruzhnikov', 'Otyutsky', 'Birut', 'Abrosov', 'Zhohin', 'Foht', 'Shalagin', 'Pytsky', 'Djuromsky', 'Mihin', 'Liepa', 'Yakhaev', 'Jeimo', 'Golobokov', 'Gorchatov', 'Poninsky', 'Tikhobrazov', 'Ruhlyada', 'Derkachenko', 'Asfandiyarov', 'Tallat', 'Likhtin', 'Yatsyshin', 'Avakyan', 'Absalyamoff', 'Babutsky', 'Muzhdabaev', 'Entin', 'Marholenko', 'Zhituhin', 'Chikov', 'Hubulava', 'Jitetsky', 'Agamov', 'Uhtomsky', 'Balakshin', 'Zhechkov', 'Awtukhoff', 'Judahin', 'Abdank-Kossovsky', 'Kartavenko', 'Vindman', 'Haldei', 'Avilkin', 'Jebit', 'Shendrik', 'Ado', 'Yagutkin', 'Cheklyanov', 'Horoshiltsev', 'Bahtiarov', 'Hlusov', 'Ajinoff', 'Kaburneev', 'Cheptygmashev', 'Beklemischev', 'Mukubenov', 'Egershtrom', 'Matzigura', 'Babynin', 'Evranov', 'Chukho', 'Juruli', 'Fominov', 'Rogachevsky', 'Pirushkin', 'Tzapko', 'Tzehansky', 'Zhadin', 'Vainunas', 'Abraroff', 'Tihenko', 'Albitsky', 'Abdulgaziev', 'Jivotenko', 'Dizhin', 'Ustenko', 'Tchapko', 'Horujy', 'Vysokinsky', 'Tzaran', 'Munaev', 'Vispovatyh', 'Adibekoff', 'Finagin', 'Kalabukhov', 'Uhovsky', 'Zinger', 'Babinov', 'Tchekvin', 'Awdienko', 'Mojeiko', 'Tsenkovsky', 'Lgov', 'Jagodin', 'Shendalev', 'Tchartorizhsky', 'Michudo', 'Elagin', 'Pochinkov', 'Scetintsev', 'Tzayukov', 'Hartukov', 'Podsizertsev', 'Emyashev', 'Lodyjensky', 'Vozdvijensky', \"V'Yuhin\", 'Bakastov', 'Pirashkov', 'Mukasey', 'Jakimchuk', 'Pechatkin', 'Velikih', 'Avdievsky', 'Lutovich', 'Usievich', 'Dyachkov', 'Todriya', 'Avtomovitch', 'Raiter', 'Jakhno', 'Adelson', 'Androsenko', 'Harlap', 'Zhokhov', 'Chehonin', 'Zhelnov', 'Hadjula', 'Maksimchuk', 'Tzehmistrenko', 'Marchenko', 'Gorstkin', 'Bakinov', 'Ladyzhets', 'Truhachev', 'Chukhnovsky', 'Chukharev', 'Jogov', 'Grohar', 'Hanutin', 'Djanaev', 'Talikov', 'Prokoshin', 'Hijnyakov', 'Ebsvort', 'Danchuk', 'Dannenberg', 'Bavidov', 'Homichenko', 'Vozilov', 'Vinterfeldt', 'Golostenov', 'Shaikevich', 'Ladyzhnikov', 'Baiburin', 'Balabolkin', 'Bekk', 'Turmanov', 'Zhvachkin', 'Dubrov', 'Yagodinsky', 'Senkov', 'Han', 'Matzkevich', 'Abrashitov', 'Mrelashvili', 'Gorbman', 'Moshnyakov', 'Galenovich', 'Jankevich', 'Ruhlyadko', 'Tzalyhin', 'Yatzenko', 'Egorkin', 'Mulyukov', 'Horoshavtsev', 'Kabaev', 'Abuhov', 'Chadovich', 'Tuniev', 'Grohotov', 'Billert', 'Atyushov', 'Chekonov', 'Omarjanov', 'Saifullin', 'Djisev', 'Badalbeili', 'Tubinov', 'Bekleshev', 'Agafonoff', 'Javrid', 'Demichev', 'Djangirli', 'Avdyunin', 'Hakhalev', 'Rogatko', 'Yuhimenko', 'Luha', 'Fadzaev', 'Agatov', 'Chertoritsky', 'Yukalov', 'Bakhmetov', 'Vorogushin', 'Tronko', 'Makuhin', 'Zheltuhin', 'Chekharin', 'Kabanov', 'Jluktov', 'Teumin', 'Awenarius', 'Vanag', 'Agrikoff', 'Balazowsky', 'Derchansky', 'Zasuha', 'Sheludyakov', 'Vedenin', \"Awak'Yan\", 'Paimuhin', 'Lilyin', 'Lustgarten', 'Gerasimovich', 'Dubin', 'Mikhelyus', 'Chuhlomin', 'Piskovoy', 'Mahlinsky', 'Dudchik', 'Katzibin', 'Vazyulin', 'Astrahansky', 'Bekuh', 'Beloyartsev', 'Zhupikov', 'Valters', 'Mordashov', 'Zhanimov', 'Avtamonov', 'Chukhanov', 'Awik', 'Verpeto', 'Rempel', 'Kaletin', 'Nasybullin', 'Adaksin', 'Herheulidzev', 'Litovchenko', 'Getya', 'Lihodei', 'Lihvantsev', 'Durylin', 'Vanyushin', 'Foya', 'Jamburg', 'Maryushkin', 'Yujenko', 'Pashkov', 'Turbai', 'Gortyshov', 'Rusu', 'Djanakavov', 'Molodensky', 'Isaikin', 'Abrasimov', 'Ryzhov', 'Rempler', 'Nazarko', 'Avagimov', 'Jernokleev', 'Eggert', 'Rokhmistrov', 'Balamykin', 'Abulgatin', 'Balanowski', 'Vasyakin', 'Zhunusov', 'Tchalyh', 'Chepik', 'Zhvanetsky', 'Yahin', 'Maryshev', 'Glazenap', 'Mikhailovich', 'Bahtchivandzhi', 'Lutov', 'Handrikov', 'Ustynyuk', 'Dijin', 'Bajukoff', 'Awerbakh', 'Vyazmin', 'Halenkov', 'Paraschenko', 'Averbakh', 'Gayazov', 'Destunis', 'Erusalimsky', 'Jilenko', 'Pelin', 'Rzhanov', 'Hlevniuk', 'Dzhanaev', 'Tzalykhin', 'Beloshapka', 'Vasyutinsky', 'Gorskov', 'Dubik', 'Raikovsky', 'Homuha', 'Derjavets', 'Grushikhin', 'Shakhrai', 'Kamenetzky', 'Movsarov', 'Jivin', 'Shenyavsky', 'Eirih', 'Zhezhel', 'Gulyaschih', 'Shirvindt', 'Atamoglanov', 'Dobryshin', 'Fadeechev', 'Mokretsov', 'Mohnachev', 'Yanson', 'Hadartsev', 'Rahil', 'Ablesimov', 'Bazarhandaev', 'Leichik', 'Schepin', 'Junda', 'Vavilin', 'Aduloff', 'Matskov', 'Tihmenev', 'Jakovchuk', 'Pylin', 'Belobrov', 'Belgov', 'Biryukovich', 'Zhabykin', 'Bavin', 'Vyvodtsev', 'Yushin', 'Vysotskih', 'Levitov', 'Glumov', 'Glussky', 'Alferov', 'Tseiger', 'Kartashevsky', 'Zhiril', 'Tzander', 'Yachmenkov', 'Danilyan', 'Holshevnikov', 'Gujo', 'Glazunov', 'Bakhmatov', 'Schugorev', 'Awturhanoff', 'Shevtsov', 'Matzkovsky', 'Nezabytovsky', 'Adolf', 'Gateev', 'Vinnitsky', 'Yudahin', 'Jumenko', 'Pazyun', 'Valentinovich', 'Eidinov', 'Loiko', 'Chutko', 'Yakon', 'Munte', 'Vallah', 'Raihelgauz', 'Zasosov', 'Jongolovich', 'Jmuro', 'Lokhov', 'Pepelyaev', 'Matzuev', 'Donchak', 'Chepurnov', 'Schevelev', 'Babich', 'Biryulev', 'Yuditsky', 'Vylko', 'Fistal', 'Tchehluev', 'Bajenin', 'Dodin', 'Hatskevich', 'Verber', 'Bereznev', 'Babitsky', 'Kalachinsky', 'Yablonsky', 'Pavlunovsky', 'Vanyukov', 'Awtomovich', 'Jampolsky', \"En'Kov\", 'Vilchek', 'Tomanov', 'Tchalykh', 'Chekhov', 'Shenkarev', 'Chertkovsky', 'Uzhva', 'Lysenkov', 'Vadbolski', 'Tropko', 'Piskarenkov', 'Hamchiev', 'Glavchev', 'Vedenyapin', 'Vingranovsky', 'Pakhrin', 'Dogadkin', 'Jagya', 'Lozin', 'Nahabtsev', 'Bachev', 'Antyushin', 'Leibin', 'Vyrodov', 'Babkin', 'Tzeluiko', 'Abelmazoff', 'Leizarenko', 'Yakimychev', 'Jakurin', 'Fingrut', 'Verre', 'Hakmaza', 'Gachegov', 'Harms', 'Martin', 'Maksimovich', 'Avdeenko', 'Shamin', 'Jidilev', 'Gulimov', 'Zelenkov', 'Shennikov', 'Didychenko', 'Zinyuhin', 'Jovtun', 'Luhvich', 'Chernin', 'Likhanov', 'Tumbakov', 'Juhvidov', 'Golovach', 'Tzelibeev', 'Hudyh', 'Lupachev', 'Kalisov', 'Tchazov', 'Usyskin', 'Juhno', 'Shadhan', 'Senkovsky', 'Avdakov', 'Vaindrah', 'Zhivin', 'Seredohov', 'Researcher', 'Pyjiev', 'Heraskov', 'Versan', 'Awercheff', 'Halo', 'Eikalovich', 'Awkhimovitch', 'Jadanovsky', \"Hachatur'Yan\", 'Timiskov', 'Nouvel', 'Agranowich', 'Gramberg', 'Mochutkovsky', 'Agadzhanyan', 'Grushelevsky', 'Dzhisev', 'Tchalov', 'Raihert', 'Adodin', 'Agudov', 'Privalikhin', 'Mudrik', 'Shalimo', 'Nessler', 'Awerkin', 'Pakharev', 'Atajahov', 'Glazatov', 'Zhiryakov', 'Almondinov', 'Tsvelev', 'Gluzman', 'Tchangli', 'Tchekh', 'Pekhtin', 'Huzin', 'Zhadanovsky', 'Egof', 'Gall', 'Zhidelev', 'Muldashev', 'Islakaev', 'Robustov', 'Lupanov', 'Jiltsov', 'Dovator', 'Multykh', 'Tchekletsov', 'Polivka', 'Zhilchikov', 'Glazovsky', 'Zheltyannikov', 'Mozhaisky', 'Mihalchenko', 'Penyaev', 'Darsky', 'Tselobenok', 'Bablumyan', \"Get'Man\", 'Agibaloff', 'Vedrinsky', 'Shaev', 'Shahbazyan', 'Baginov', 'Dzhakson', 'Kartalov', 'Ruzanov', 'Alytsky', 'Mryhin', 'Nusberg', 'Utulov', 'Babloev', 'Lapinsky', 'Bakusoff', 'Abaimoff', 'Hlebodarov', 'Sapojinsky', 'Chabanov', 'Esenchuk', 'Hazbulatov', 'Nezhentsev', 'Mumladze', 'Shiraev', 'Ruzankin', 'Turuhin', 'Holopov', 'Liholat', 'Himichev', 'Glezerman', 'Dikov', 'Mravin', 'Yakimets', 'Avdoshin', 'Gluz', 'Mokhov', 'Chehoev', 'Yuzvikov', 'Zhalagin', 'Zhelnin', 'Baranenko', 'Mihoels', 'Abasheev', 'Fisun', 'Lychagin', 'Kalandarov', 'Vanshtein', 'Dovlatov', 'Awseneff', 'Prigoda', 'Moshkovsky', \"Avak'Yan\", 'Tihonkih', 'Berezyuk', 'Pochitalin', 'Yagodin', 'Makyshev', 'Balahnin', 'Ponurovsky', 'Birnbaum', 'Ryzhak', 'Didenko', 'Zhemlihanov', 'Paidoverov', 'Vadin', 'Mintskovsky', 'Dauman', 'Mokrushev', 'Haradurov', 'Zoloev', 'Bilbasov', 'Ababko', 'Gluhonkov', 'Zhebelev', 'Vilesov', 'Judkov', 'Babkov', 'Marchukov', 'Turkin', 'Albert', 'Jatsenko', 'Erepov', 'Jarsky', 'Daryalov', 'Evstigneev', 'Moshkovich', 'Jelezov', 'Vaganoff', 'Tsehanovich', 'Zharinov', 'Zhabitsky', 'Jelaev', 'Abeltsev', 'Jukhimuk', 'Janshole', 'Hubiev', 'Abalmasov', 'Matzotsky', 'Jivilo', 'Zobkob', 'Pirogov', 'Luppa', 'Muzhikov', 'Jerbin', 'Vakulov', 'Jatzyk', 'Dmitrov', 'Zharmuhamedov', 'Juzin', 'Abdrakhimoff', 'Amelkin', 'Lapin', 'Tuikin', 'Ruhlin', 'Rujje', 'Ustimov', 'Babashoff', 'Zhulidov', 'Matzevich', 'Lysak', 'Jakub', 'Haidurov', 'Gerojev', 'Chukhraev', 'Hamidulin', 'Drojjin', 'Rotar', 'Noskovsky', 'Vannikov', 'Zhuzhnev', 'Fabrichnov', 'Gross', 'Molodchinin', 'Lizogub', 'Yukhman', 'Talanov', 'Zhelyabovsky', 'Talmud', 'Raitsin', 'Ajaev', 'Zhekov', 'Leibovsky', 'Avduevsky', 'Muller', 'Badersky', 'Berezutzky', 'Durnopeiko', 'Zelentsov', 'Gehtman', \"Dar'Kin\", 'Jaminsky', 'Turulo', 'Dnishev', 'Bakhtigareev', 'Golovanchikov', 'Filipenko', 'Ustinkin', 'Toichkin', 'Baiburski', 'Adriyanov', 'Veseliev', 'Vainonen', 'Vaiserman', 'Abulkhanov', 'Lotorev', 'Belchenko', 'Vilchepolsky', 'Rukhlin', 'Jamoida', 'Valyushkis', 'Abramtchikov', 'Mocharov', 'Chutchikov', 'Dobronravov', 'Bakirov', 'Chugreev', 'Gulentsov', 'Finogeev', 'Dzhumabaev', 'Yakobi', 'Avramenko', 'Dobychin', 'Bakanchuk', 'Hanzhiev', 'Harash', 'Jukhtman', 'Jelvakov', 'Veselitsky', 'Mokritsky', 'Gorbulsky', 'Chepurenko', 'Zhukovsky', 'Zelenoi', 'Jardetsky', 'Martyanov', 'Chekhladze', 'Zhurbenko', 'Dovbyschuk', 'Jemlihanov', 'Chkheidze', 'Babenko', 'Anufrienko', 'Zhigailo', 'Jarkikh', 'To The First\\xa0 Page', 'Bakadoroff', 'Bajev', 'Bakoni', 'Zhimailov', 'Musalatov', 'Haschenko', 'Lezov', 'Jugai', 'Jiritsky', 'Ryzhkovsky', 'Halichevsky', 'Endzelin', 'Bashkov', 'Bachurin', 'Mihalchev', 'Vysokin', 'Bagdasarov', 'Tur', 'Deribas', 'Elepin', 'Gau', 'Maksheev', 'Enshin', 'Lysenny', 'Losyukov', 'Kalakin', 'Yagovenko', 'Nahamkis', 'Elez', 'Zharmukhamedov', 'Alferaki', 'Bakai', 'Natalushko', 'Yanin', 'Chuhraev', 'Zhegulin', 'Zhezhera', 'Dahov', 'Baraks', 'Bakurov', 'Vispovatykh', 'Remenny', 'Nakhmanovich', 'Abramowsky', 'Mindovsky', 'Mitskevich', 'Dublin', 'Timkachev', 'Jaba', 'Alypov', 'Tsagadaev', 'Maryltsev', 'Gulai', 'Holodny', 'Jun', 'Researcher', 'Eides', 'Remizov', 'Grigoriadi', 'Nejentsev', 'Lapinus', 'Muzyka', 'Bavarin', 'Baier', 'Tseitlin', 'Mikhaltsev', 'Mordakov', 'Deyanov', 'Averkovitch', 'Mihersky', 'Abbakumov', 'Esimontovsky', 'Vins', 'Tsakh', 'Vilonov', 'Mladentsev', 'Glukhih', 'Golovenok', 'Tsarev', 'Jahontov', 'Leboperov', 'Kallik', 'Lapaev', 'Jatskovsky', 'Tugarinov', 'Mokerov', 'Mihalkin', 'Vanchurov', 'Chanov', 'Jegulin', 'Vandyshev', 'Bakitski', 'Chertorizhsky', 'Vykhodtsev', 'Dovladbegyan', 'Juzvikov', 'Uchaikin', 'Tzekhmistrenko', 'Valmasov', 'Davletov', 'Groisman', 'Jagubsky', 'Juhnin', 'Desyatkov', 'Lubutov', 'Dzhibuti', 'Bezubyak', 'Chuvilkin', 'Martos', 'Froyanov', 'Juk', 'Grigorchikov', 'Alymov', 'Tsys', 'Bagaryakoff', 'Glezarov', 'Virvitsiotti', 'Veltman', 'Dzhugashvili', 'Belousov', 'Talmi', 'Enikeev', 'Baitchikov', 'Lihovtsev', 'Golobokih', 'Awzaloff', 'Makhonov', 'Tumansky', 'Kalimakhi', 'Chekis', 'Vinchugov', 'Vilkovsky', 'Ebers', 'Kachur', 'Danich', 'Atopov', 'Modenov', 'Mahotin', 'Amet-Han', 'Agalov', 'Ageitchev', 'Gukasov', 'Adler', 'Tihomirov', 'Jashkov', 'Dabahov', 'Vertogradov', 'Jatzunov', 'Esipovich', 'Marr', 'Deryuzhkov', 'Vadeev', 'Jerihin', 'Rahvalov', 'Viron', 'Vilgelminin', 'Agashin', 'Vajenin', 'Ableuhoff', 'Durnev', 'Govoretsky', 'Charushkin', 'Lezhava', 'Kalitkin', 'Chartorijsky', 'Nurgalin', 'Goloha', 'Chalovsky', 'Mikhailidi', 'Durdyev', 'Divnich', 'Daugulis', 'Nakhodkin', 'Chepasov', 'Demishev', 'Naslednikov', 'Makhonin', 'Grigoraschuk', 'Natho', 'Gall', 'Ribakov', 'Lyzhenkov', 'Mkrtchyants', 'Derjavin', 'Lokhvitsky', 'Muntyan', 'Moshninov', 'Fabr', 'Rotai', 'Imniaminov', 'Galkovsky', 'Chuhontsev', 'Chukhray', 'Nahushev', 'Islavin', 'Chutchev', 'Chuvyrov', 'Myatishkin', 'Dobrajansky', 'Lodochnikov', 'Dzhavakhishvili', 'Djanumov', 'Mingazov', 'Mahnenko', 'Gludin', 'Mikhailenko', 'Mahonov', 'Rujilo', 'Danichkin', 'Galev', 'Chuvilo', 'Makhrovsky', 'Mihilev', 'Kabirov', 'Rovensky', 'Russkikh', 'Rozenblum', 'Musatov', 'Natalenko', 'Kabulahin', 'Matziev', 'Mochalov', 'Rigert', 'Mordovin', 'Ryzhenkov', 'Modestov', 'Rahmanov', 'Martsenko', 'Katzukov', 'Rakhil', 'Kachalin', 'Matzukevich', 'Moshonkin', 'Mihailushkin', 'Martzinkovsky', 'Rapota', 'Makhrov', 'Muzafarov', 'Makhov', 'Mihaltsov', 'Marfin', 'Rustikov', 'Rosenbloom', 'Rihter', 'Chuvashev', 'Ryjanov', 'Researcher', 'Rohin', 'Chertov', 'Ilyahin', 'Chabrov', 'Chekmarev', 'Chekmasov', 'Ilyumjinov', 'Ignatyuk', 'Iskra', 'Imerlishvili', 'Iskritsky'], 'Dutch': ['Roosa', 'Laar', 'Houte', 'Snider', 'Hout', 'Peij', 'Michel', 'Kools', 'Kan', 'Daele', 'Reynder', 'Maes', 'Peter', 'Ter Avest', 'Snijders', 'Dale', 'Krusen', 'Nifterick', 'Schwarzenberg', 'Ven', 'Koning', 'Aalst', 'Koemans', 'Roosevelt', 'Rietveld', 'Romeijn', 'Sneijers', 'Rademakers', 'Schoonraad', 'Paulis', 'Ramecker', 'Segher', 'Apeldoorn', 'Snyder', 'Meeuwes', 'Hanraets', 'Hofwegen', 'Schneijder', 'Offermans', 'Marquering', 'Vennen', 'Houtum', 'Reynders', 'Haanrath', 'Rompaey', 'Snaaijer', 'Amstel', 'Ophoven', 'Alphen', 'Roggeveen', 'Nifterick', 'Smits', 'Muyskens', 'Krantz', 'Vandroogenbroeck', 'Andel', 'Rompay', 'Oorschot', 'Hassel', 'Nifterik', 'Peeters', 'Tunneson', 'Reijnders', 'Sneijer', 'Sneiders', 'Ramaker', 'Laar', 'Andel', 'Venn', 'Snell', 'Smeets', 'Ryskamp', 'Amersvoort', 'Richard', 'Leeuwenhoek', 'Rijnder', 'Baarle', 'Dael', 'Snaijer', 'Simon', 'Philips', 'Daalen', 'Kloet', 'Seegers', 'Meeuwe', 'Sevriens', 'Dalen', 'Panders', 'Horn', 'Niftrik', 'Nifterik', 'Heel', 'Tholberg', 'Sneijder', 'Aarle', 'Niftrik', 'Smit', 'Schneijders', 'Veen', 'Akker', 'Spiker', 'Buren', 'Rossem', 'Sanna', 'Pennders', 'Penders', 'Kloeter', 'Lyon', 'Aart', 'Langbroek', 'Roijakkers', 'Schuyler', 'Schoorl', 'Hautum', 'Samson', 'Schneiders', 'Klein', 'Sneijders', 'Haanrade', 'Raske', 'Maas', 'Kuijpers', 'Roijacker', 'Meeuwissen', 'Kolen', 'Kool', 'Mulder', 'Schermer', 'Middlesworth', 'Reinder', 'Rompaeij', 'Aggelen', 'Lucassen', 'Haanraads', 'Houtem', 'Hout', 'Kuipers', 'Alst', 'Slootmaekers', 'Haanraats', 'Pander', 'Oomen', 'Schrijnemakers', 'Prinsen', 'Ankeren', 'Klerken', 'Lauwers', 'Akkeren', 'Romeijnsen', 'Kikkert', 'Romijnsen', 'Penner', 'Marquerink', 'Seelen', 'Kouman', 'Peerenboom', 'Merckx', 'Oirschotten', 'Rooiakkers', 'Middelburg', 'Adrichem', 'Romijn', 'Meisner', 'Donk', 'Koolen', 'Silje', 'Aller', 'Severijns', 'Bueren', 'Romijnders', 'Meeuweszen', 'Rompaye', 'Andringa', 'Klerx', 'Rompu', 'Koeman', 'Breda', 'Berg', 'Kappel', 'Paulissen', 'Herten', 'Klerkx', 'Roijakker', 'Venne', 'Romeijnders', 'Rooijakkers', 'Rutten', 'Beek', 'Ramakers', 'Robert', 'Asch', 'Assen', 'Theunissen', 'Kloeten', 'Lauwens', 'Oorschot', 'Specht', 'Aalsburg', 'Seeger', 'Meeuwessen', 'Amelsvoort', 'Cann', 'Kann', 'Achthoven', 'Schoorel', 'Vann', 'Kanne', 'Agthoven', 'Mohren', 'Klerk', 'Mooren', 'Leeuwenhoek', 'Maessen', 'Pey', 'Rademaker', 'Rompuy', 'Leeuwenhoeck', 'Segers', 'Kranz', 'Karl', 'Rooiakker', 'Smets', 'Schoonenburg', 'Hautem', 'See', 'Otten', 'Altena', 'Rumpade', 'Stoep', 'Can', 'Rompaij', 'Buiren', 'Zee', 'Ogtrop', 'Tillens', 'Teunissen'], 'Spanish': ['Herrera', 'Ramos', 'Molina', 'Espinosa', 'Solo', 'Jasso', 'Sala', 'Tomàs', 'Villa', 'Guerra', 'Rodriquez', 'Salazar', 'Merlo', 'Arechavaleta', 'Trujillo', 'Asis', 'Aquino', 'Santos', 'Nieves', 'Gutiérrez', 'Gallo', 'Cuéllar', 'Rocha', 'Etxeberria', 'Fuentes', 'Amador', 'Robledo', 'Roldán', 'Ybarra', 'Araújo', 'Castillion', 'Vivas', 'Vega', 'Gutierrez', 'San nicolas', 'Garrastazu', 'Puga', 'Cuevas', 'De santigo', 'Barros', 'Ventura', 'Salamanca', 'Basurto', 'Costa', 'Bustillo', 'Bermúdez', 'Grec', 'Tosell', 'Asturias', 'Estévez', 'Fernández', 'Andreu', 'Tos', 'Rojo', 'Arena', 'De leon', 'Fonseca', 'Rosa', 'Zavala', 'Abarca', 'Gallego', 'Ochoa', 'Moralez', 'Ramírez', 'Mas', 'Ortiz', 'Lobo', 'Álvarez', 'Puerta', 'Fierro', 'Bolívar', 'Pérez', 'Aqua', 'Zubizarreta', 'Moreno', 'Campos', 'Pavia', 'Durante', 'Abaroa', 'Tapia', 'Mateu', 'Alvarado', 'Macías', 'Escamilla', 'Porra', 'Ureña', 'Rosales', 'Santillian', 'Loyola', 'Paredes', 'Oquendo', 'Terrazas', 'Vela', 'Ruiz', 'Romà', 'Reyes', 'Alves', 'Olguin', 'Abascal', 'Gonzales', 'Rana', 'Valencia', 'Quinones', 'Albuquerque', 'Mata', 'Abasolo', 'Toset', 'Flores', 'Vásquez', 'Crespo', 'Martell', 'Silva', 'Juárez', 'Echevarría', 'Suero', 'Azarola', 'Escárcega', 'Bosque', 'Núñez', 'Bonaventura', 'Albert', 'Herrero', 'Peña', 'Roig', 'Villanueva', 'Mendoza', 'Rojas', 'Vicario', 'Oriol', 'Viteri', 'Acosta', 'Aiza', 'Casales', 'García', 'Aldana', 'Zuñiga', 'Salcedo', 'Félix', 'Arce', 'Valdez', 'Castro', 'Morales', 'Ibarra', 'Noguerra', 'Armando', \"D'cruz\", 'De la cruz', 'Villaverde', 'Escarrà', 'Rubio', 'Sastre', 'Hernandez', 'Oliver', 'Arreola', 'Vives', 'Arriola', 'Mingo', 'Cardona', 'Etxebarria', 'Abel', 'Gaspar', 'Avana', 'Melendez', 'Salinas', 'Varela', 'Delgado', 'Espino', 'Del bosque', 'Belmonte', 'Lopez', 'Marino', 'Rey', 'Rendón', 'Maradona', 'Vilaró', 'Ubina', 'Jimenez', 'Petit', 'Rivero', 'Sandoval', 'Peláez', 'Abreu', 'Bengochea', 'Blanco', 'Araya', 'Romero', 'Castell', 'Zabala', 'Cabello', 'Del olmo', 'Montero', 'Hierro', 'Sanchez', 'Bello', \"D'cruze\", 'Abana', 'Aberquero', 'Banderas', 'Elizondo', 'Guerrero', 'Picasso', 'María', 'Guadarrama', 'Capello', 'Gomez', 'Márquez', 'Zapatero', 'Velazquez', 'Soto', 'Dominguez', 'Puig', 'Porras', 'Solos', 'Zambrano', 'Orellana', 'Chavarría', 'Martí', 'Holguín', 'Quintana', 'Vela', 'Castillo', 'Blanxart', 'Olmos', 'Martinez', 'Menendez', 'Jaso', 'Sierra', 'Ibáñez', 'Espina', 'Cruz', 'Moles', 'Ortega', 'Iñíguez', 'Campo', 'Bautista', 'Ojeda', 'Caro', 'Santiago'], 'Korean': ['Nam', 'Chi', 'So', 'Chung', 'Yeon', 'Li', 'Pak', 'Hung', 'Jon', 'San', 'Song', 'Shim', 'Park ', 'Jeong', 'Jeon', 'Kwang ', 'Jang', 'You', 'Wang', 'Cha', 'Ryom', 'Yoon', 'Hwang', 'Woo', 'Moon', 'Ryoo', 'Yoo', 'Yeo', 'Son', 'Ha', 'Han', 'Jo', 'Chweh', 'Ryu', 'Ra', 'Hyun ', 'Mo', 'Oh ', 'Suk', 'Baik', 'Kang', 'Choe', 'Sin', 'Noh', 'Chang', 'Tsai ', 'Choi', 'Suh', 'Jong', 'Yun', 'Chin', 'Kwak', 'Kim', 'Rhee', 'Rim', 'Sun', 'Ho', 'Chun', 'Chu', 'Gwang ', 'Rheem', 'Bang', 'Lee', 'Yu', 'Youn', 'Ahn', 'Yi', 'Seo', 'Youj', 'Ku', 'Sook', 'Gu', 'Ko', 'Si', 'Shin'], 'Vietnamese': ['Giang', 'Pham', 'Ton', 'Hoang', 'Quach', 'Do', 'Lieu', 'Thai', 'Chau', 'Mach', 'Tron', 'Banh', 'Truong', 'Dang', 'an', 'Trieu', 'Phan', 'An', 'Thao', 'Ta', 'Dam', 'Quyen', 'Chu', 'Ngo', 'Doan', 'Luong', 'Mai', 'Bach', 'Trang', 'Tong', 'Luc', 'Thach', 'Phi', 'Dao', 'Trinh', 'Han', 'Ly', 'Duong', 'Doan', 'Chung', 'Kieu', 'Thuy', 'Sai', 'Tieu', 'Pho', 'Cao', 'Vinh', 'Nguyen', 'Lac', 'Luu', 'Vuu', 'Vu', 'La', 'Vo', 'Vuong', 'Huynh', 'Kim', 'Ho'], 'Arabic': ['Tuma', 'Sleiman', 'Shammas', 'Arian', 'Quraishi', 'Daher', 'Mustafa', 'Salib', 'Shadid', 'Nader', 'Shadid', 'Kattan', 'Samaha', 'Fakhoury', 'Naifeh', 'Sarraf', 'Baz', 'Mansour', 'Asghar', 'Sleiman', 'Kanaan', 'Bazzi', 'Kalb', 'Tahan', 'Assaf', 'Malouf', 'Daher', 'Mifsud', 'Harb', 'Antar', 'Srour', 'Hakimi', 'Malouf', 'Dagher', 'Ganim', 'Assaf', 'Kassab', 'Malouf', 'Sarraf', 'Fakhoury', 'Asghar', 'Attia', 'Sarraf', 'Baba', 'Gerges', 'Cham', 'Shamon', 'Sabbag', 'Khouri', 'Bazzi', 'Maloof', 'Quraishi', 'Cham', 'Bishara', 'Srour', 'Quraishi', 'Amari', 'Nahas', 'Kassab', 'Cham', 'Nazari', 'Dagher', 'Ba', 'Said', 'Antar', 'Tahan', 'Issa', 'Antar', 'Qureshi', 'Awad', 'Maroun', 'Dagher', 'Kattan', 'Shamoun', 'Kanaan', 'Essa', 'Rahal', 'Said', 'Said', 'Samaha', 'Mustafa', 'Gaber', 'Ba', 'Najjar', 'Awad', 'Guirguis', 'Ganim', 'Gerges', 'Nader', 'Qureshi', 'Sabbag', 'Shamoun', 'Nazari', 'Harb', 'Naifeh', 'Antoun', 'Quraishi', 'Masih', 'Kassab', 'Koury', 'Khouri', 'Boutros', 'Naifeh', 'Qureshi', 'Srour', 'Sarraf', 'Ganim', 'Saliba', 'Sayegh', 'Seif', 'Haik', 'Botros', 'Haik', 'Asghar', 'Issa', 'Saliba', 'Nassar', 'Qureshi', 'Aswad', 'Antar', 'Quraishi', 'Maloof', 'Morcos', 'Wasem', 'Bishara', 'Guirguis', 'Kouri', 'Saliba', 'Arian', 'Ganem', 'Sarkis', 'Awad', 'Bata', 'Attia', 'Handal', 'Srour', 'Cham', 'Shadid', 'Zogby', 'Maloof', 'Daher', 'Bahar', 'Asfour', 'Mansour', 'Basara', 'Amari', 'Fakhoury', 'Naifeh', 'Naifeh', 'Amari', 'Ghannam', 'Shamoon', 'Toma', 'Ghanem', 'Assaf', 'Wasem', 'Khoury', 'Kassis', 'Toma', 'Kouri', 'Tuma', 'Mustafa', 'Morcos', 'Harb', 'Ghannam', 'Fakhoury', 'Basara', 'Bahar', 'Assaf', 'Seif', 'Hajjar', 'Najjar', 'Mifsud', 'Seif', 'Ghanem', 'Tannous', 'Samaha', 'Sleiman', 'Kouri', 'Atiyeh', 'Baba', 'Rahal', 'Daher', 'Morcos', 'Sayegh', 'Cham', 'Issa', 'Nassar', 'Mustafa', 'Daher', 'Nahas', 'Baba', 'Isa', 'Fakhoury', 'Toma', 'Najjar', 'Wasem', 'Haddad', 'Khoury', 'Nassar', 'Haik', 'Rahal', 'Shadid', 'Kassis', 'Bishara', 'Rahal', 'Kouri', 'Ghannam', 'Gerges', 'Sarraf', 'Hakimi', 'Deeb', 'Haik', 'Amari', 'Bazzi', 'Botros', 'Malouf', 'Totah', 'Malouf', 'Mustafa', 'Shammas', 'Asghar', 'Kassis', 'Antoun', 'Kouri', 'Ganim', 'Nassar', 'Totah', 'Ghannam', 'Atiyeh', 'Srour', 'Isa', 'Assaf', 'Hanania', 'Koury', 'Boutros', 'Asfour', 'Touma', 'Koury', 'Kassis', 'Totah', 'Guirguis', 'Saliba', 'Moghadam', 'Dagher', 'Mansour', 'Seif', 'Koury', 'Mustafa', 'Safar', 'Aswad', 'Bahar', 'Shalhoub', 'Dagher', 'Khoury', 'Hadad', 'Wasem', 'Kassis', 'Naser', 'Ghannam', 'Shamoon', 'Hadad', 'Nahas', 'Sarkis', 'Kassab', 'Koury', 'Wasem', 'Nader', 'Antar', 'Nader', 'Shamoon', 'Bitar', 'Gerges', 'Shalhoub', 'Naifeh', 'Kattan', 'Moghadam', 'Attia', 'Antar', 'Nader', 'Seif', 'Said', 'Asghar', 'Sleiman', 'Qureshi', 'Almasi', 'Sabbag', 'Seif', 'Handal', 'Antar', 'Ba', 'Kassis', 'Awad', 'Asfour', 'Amari', 'Baz', 'Shadid', 'Rahal', 'Handal', 'Assaf', 'Awad', 'Ganim', 'Shalhoub', 'Samaha', 'Guirguis', 'Salib', 'Sleiman', 'Bata', 'Botros', 'Isa', 'Issa', 'Malouf', 'Moghadam', 'Essa', 'Safar', 'Khoury', 'Khoury', 'Assaf', 'Wasem', 'Awad', 'Salib', 'Najjar', 'Arian', 'Samaha', 'Arian', 'Sarkis', 'Masih', 'Sabbag', 'Hajjar', 'Nazari', 'Mustafa', 'Nassar', 'Shamoon', 'Nassar', 'Deeb', 'Zogby', 'Srour', 'Sarraf', 'Tahan', 'Koury', 'Antar', 'Salib', 'Rahal', 'Abboud', 'Bishara', 'Asker', 'Quraishi', 'Hakimi', 'Basara', 'Touma', 'Ganim', 'Qureshi', 'Harb', 'Hanania', 'Gaber', 'Fakhoury', 'Hadad', 'Hakimi', 'Nader', 'Mifsud', 'Saliba', 'Arian', 'Tahan', 'Atiyeh', 'Shamoun', 'Arian', 'Antar', 'Sabbag', 'Boutros', 'Koury', 'Harb', 'Sarraf', 'Mustafa', 'Wasem', 'Daher', 'Shamoun', 'Kalb', 'Kanaan', 'Ba', 'Mifsud', 'Abboud', 'Koury', 'Quraishi', 'Baba', 'Sleiman', 'Gaber', 'Isa', 'Khoury', 'Zogby', 'Mifsud', 'Masih', 'Bishara', 'Khoury', 'Naifeh', 'Tuma', 'Saliba', 'Atiyeh', 'Ganem', 'Wasem', 'Qureshi', 'Cham', 'Sarraf', 'Safar', 'Shamoun', 'Haik', 'Kassab', 'Ghanem', 'Aswad', 'Srour', 'Asghar', 'Deeb', 'Botros', 'Ba', 'Boutros', 'Seif', 'Touma', 'Salib', 'Maroun', 'Fakhoury', 'Nahas', 'Daher', 'Kalb', 'Tahan', 'Abadi', 'Hadad', 'Tannous', 'Kalb', 'Maalouf', 'Saliba', 'Kattan', 'Sarkis', 'Bazzi', 'Tannous', 'Shammas', 'Srour', 'Ghanem', 'Kanaan', 'Hakimi', 'Totah', 'Haddad', 'Asghar', 'Kalb', 'Nader', 'Kouri', 'Ganim', 'Baz', 'Kalb', 'Quraishi', 'Abadi', 'Tahan', 'Maroun', 'Bazzi', 'Baz', 'Hakimi', 'Nazari', 'Sarraf', 'Botros', 'Hanania', 'Asker', 'Deeb', 'Harb', 'Abadi', 'Seif', 'Ganem', 'Isa', 'Ghannam', 'Gaber', 'Awad', 'Sabbagh', 'Bishara', 'Boutros', 'Hadad', 'Basara', 'Shadid', 'Tahan', 'Rahal', 'Najjar', 'Atiyeh', 'Sabbag', 'Ganim', 'Cham', 'Basara', 'Sayegh', 'Kanaan', 'Kassis', 'Masih', 'Hanania', 'Aswad', 'Aswad', 'Masih', 'Isa', 'Hakimi', 'Harb', 'Nader', 'Tuma', 'Hakimi', 'Shamon', 'Gerges', 'Antar', 'Abadi', 'Haik', 'Malouf', 'Mansour', 'Sleiman', 'Kouri', 'Maroun', 'Nassar', 'Tuma', 'Cham', 'Maalouf', 'Koury', 'Samaha', 'Moghadam', 'Kanaan', 'Fakhoury', 'Guirguis', 'Tahan', 'Handal', 'Tannous', 'Almasi', 'Antar', 'Maloof', 'Bitar', 'Zogby', 'Bishara', 'Quraishi', 'Sayegh', 'Cham', 'Kanaan', 'Bahar', 'Mifsud', 'Bahar', 'Ghanem', 'Moghadam', 'Khoury', 'Bazzi', 'Tuma', 'Attia', 'Mansour', 'Khoury', 'Gerges', 'Bishara', 'Shadid', 'Baz', 'Bazzi', 'Mansour', 'Harb', 'Abadi', 'Tuma', 'Kanaan', 'Cham', 'Bitar', 'Essa', 'Maalouf', 'Basara', 'Shamoun', 'Nazari', 'Maalouf', 'Bishara', 'Hadad', 'Boutros', 'Mikhail', 'Mustafa', 'Gaber', 'Daher', 'Atiyeh', 'Ganim', 'Asfour', 'Ghannam', 'Guirguis', 'Khouri', 'Bahar', 'Toma', 'Antoun', 'Nahas', 'Gerges', 'Sabbagh', 'Handal', 'Malouf', 'Maalouf', 'Koury', 'Khouri', 'Nazari', 'Morcos', 'Morcos', 'Nahas', 'Arian', 'Guirguis', 'Abboud', 'Sayegh', 'Shamon', 'Mustafa', 'Bishara', 'Quraishi', 'Bata', 'Najjar', 'Dagher', 'Shamon', 'Botros', 'Ghannam', 'Abadi', 'Nazari', 'Asfour', 'Kassis', 'Khouri', 'Bazzi', 'Cham', 'Almasi', 'Safar', 'Sarraf', 'Baz', 'Almasi', 'Assaf', 'Antar', 'Cham', 'Kouri', 'Rahal', 'Haddad', 'Zogby', 'Sleiman', 'Mifsud', 'Mifsud', 'Moghadam', 'Said', 'Shalhoub', 'Gaber', 'Asker', 'Almasi', 'Malouf', 'Attia', 'Fakhoury', 'Haik', 'Fakhoury', 'Arian', 'Ganem', 'Quraishi', 'Shadid', 'Bazzi', 'Ganim', 'Haddad', 'Fakhoury', 'Amari', 'Quraishi', 'Kassis', 'Sabbag', 'Saliba', 'Botros', 'Masih', 'Almasi', 'Gerges', 'Shadid', 'Guirguis', 'Hanania', 'Mifsud', 'Nahas', 'Kattan', 'Kalb', 'Attia', 'Kassab', 'Srour', 'Khouri', 'Shadid', 'Shalhoub', 'Asker', 'Toma', 'Hadad', 'Haddad', 'Atiyeh', 'Dagher', 'Kassis', 'Salib', 'Shamoon', 'Naifeh', 'Srour', 'Maalouf', 'Asfour', 'Bazzi', 'Kattan', 'Kalb', 'Hakimi', 'Hadad', 'Daher', 'Rahal', 'Maalouf', 'Tahan', 'Shamoon', 'Salib', 'Dagher', 'Toma', 'Nazari', 'Maroun', 'Koury', 'Najjar', 'Nazari', 'Haddad', 'Totah', 'Saliba', 'Kassis', 'Boutros', 'Kouri', 'Ba', 'Mustafa', 'Botros', 'Bitar', 'Srour', 'Malouf', 'Cham', 'Maloof', 'Isa', 'Samaha', 'Sabbag', 'Asker', 'Mikhail', 'Srour', 'Nader', 'Quraishi', 'Issa', 'Kalb', 'Nader', 'Qureshi', 'Tahan', 'Ganem', 'Najjar', 'Baz', 'Mustafa', 'Toma', 'Essa', 'Naser', 'Koury', 'Morcos', 'Saliba', 'Harb', 'Kassab', 'Salib', 'Sayegh', 'Quraishi', 'Mikhail', 'Nahas', 'Kassis', 'Hadad', 'Tuma', 'Ghannam', 'Hanania', 'Maroun', 'Hadad', 'Sarraf', 'Isa', 'Cham', 'Tuma', 'Hadad', 'Asghar', 'Gaber', 'Botros', 'Haddad', 'Khoury', 'Daher', 'Botros', 'Mansour', 'Malouf', 'Toma', 'Seif', 'Touma', 'Hakimi', 'Handal', 'Attia', 'Attia', 'Essa', 'Hadad', 'Aswad', 'Shammas', 'Moghadam', 'Safar', 'Ghanem', 'Samaha', 'Bazzi', 'Bahar', 'Khouri', 'Daher', 'Sabbag', 'Arian', 'Boutros', 'Hakimi', 'Kassis', 'Koury', 'Ganem', 'Antar', 'Deeb', 'Sarkis', 'Naser', 'Shadid', 'Awad', 'Wasem', 'Abadi', 'Halabi', 'Handal', 'Sabbag', 'Boutros', 'Hanania', 'Almasi', 'Shamon', 'Nazari', 'Ba', 'Maalouf', 'Daher', 'Dagher', 'Botros', 'Shamoun', 'Sabbagh', 'Abboud', 'Saliba', 'Hakimi', 'Nader', 'Fakhoury', 'Tannous', 'Shamon', 'Fakhoury', 'Wasem', 'Tahan', 'Bahar', 'Boulos', 'Halabi', 'Morcos', 'Mifsud', 'Mustafa', 'Malouf', 'Zogby', 'Nahas', 'Quraishi', 'Asghar', 'Khouri', 'Gerges', 'Samaha', 'Nassar', 'Antar', 'Gaber', 'Malouf', 'Salib', 'Shamoon', 'Moghadam', 'Bazzi', 'Aswad', 'Sarraf', 'Ghannam', 'Harb', 'Tannous', 'Zogby', 'Boutros', 'Hajjar', 'Mustafa', 'Mansour', 'Mansour', 'Aswad', 'Haddad', 'Essa', 'Naser', 'Khouri', 'Mifsud', 'Shammas', 'Fakhoury', 'Abadi', 'Mifsud', 'Najjar', 'Abadi', 'Khouri', 'Kouri', 'Halabi', 'Sarraf', 'Abadi', 'Aswad', 'Sayegh', 'Haik', 'Sayegh', 'Tuma', 'Boutros', 'Nahas', 'Morcos', 'Asker', 'Mikhail', 'Malouf', 'Salib', 'Sarraf', 'Said', 'Shamoun', 'Morcos', 'Isa', 'Naifeh', 'Abboud', 'Ghannam', 'Najjar', 'Naser', 'Harb', 'Totah', 'Tuma', 'Boutros', 'Zogby', 'Shammas', 'Hajjar', 'Issa', 'Koury', 'Sabbag', 'Antoun', 'Hanania', 'Tuma', 'Haddad', 'Atiyeh', 'Kassis', 'Abboud', 'Gerges', 'Khoury', 'Nassar', 'Boulos', 'Samaha', 'Ba', 'Abadi', 'Deeb', 'Tuma', 'Rahal', 'Mifsud', 'Tahan', 'Zogby', 'Naifeh', 'Maloof', 'Mifsud', 'Assaf', 'Awad', 'Bazzi', 'Halabi', 'Atiyeh', 'Morcos', 'Sayegh', 'Shamoon', 'Zogby', 'Handal', 'Amari', 'Fakhoury', 'Atiyeh', 'Sayegh', 'Nazari', 'Seif', 'Naser', 'Bishara', 'Kouri', 'Amari', 'Zogby', 'Halabi', 'Saliba', 'Maroun', 'Rahal', 'Baz', 'Mifsud', 'Basara', 'Totah', 'Tannous', 'Maalouf', 'Morcos', 'Shamon', 'Arian', 'Kassis', 'Kalb', 'Morcos', 'Sleiman', 'Tuma', 'Rahal', 'Basara', 'Ghanem', 'Basara', 'Touma', 'Mifsud', 'Baba', 'Bata', 'Antoun', 'Shalhoub', 'Halabi', 'Boulos', 'Tahan', 'Asghar', 'Dagher', 'Ganem', 'Awad', 'Qureshi', 'Totah', 'Guirguis', 'Nahas', 'Sayegh', 'Ghanem', 'Nader', 'Nader', 'Salib', 'Morcos', 'Tahan', 'Asker', 'Haddad', 'Fakhoury', 'Gerges', 'Qureshi', 'Mikhail', 'Nassar', 'Rahal', 'Almasi', 'Shamoun', 'Hakimi', 'Atiyeh', 'Hadad', 'Ganim', 'Handal', 'Botros', 'Shalhoub', 'Sabbag', 'Asker', 'Kattan', 'Nader', 'Boutros', 'Fakhoury', 'Said', 'Sleiman', 'Shammas', 'Awad', 'Hadad', 'Basara', 'Boulos', 'Shalhoub', 'Ganim', 'Maalouf', 'Halabi', 'Amari', 'Nazari', 'Ghannam', 'Maroun', 'Salib', 'Abboud', 'Samaha', 'Abadi', 'Antoun', 'Botros', 'Toma', 'Sarkis', 'Bitar', 'Bazzi', 'Essa', 'Atiyeh', 'Maalouf', 'Kassis', 'Shamoun', 'Atiyeh', 'Najjar', 'Shammas', 'Quraishi', 'Naifeh', 'Sarkis', 'Mifsud', 'Shammas', 'Antar', 'Wasem', 'Atiyeh', 'Botros', 'Ganem', 'Isa', 'Kalb', 'Safar', 'Tahan', 'Abboud', 'Issa', 'Arian', 'Zogby', 'Attia', 'Shamoun', 'Maloof', 'Abadi', 'Kalb', 'Shalhoub', 'Masih', 'Baba', 'Toma', 'Ghannam', 'Mansour', 'Gerges', 'Ganem', 'Atiyeh', 'Basara', 'Guirguis', 'Salib', 'Shalhoub', 'Malouf', 'Harb', 'Deeb', 'Toma', 'Boutros', 'Almasi', 'Asghar', 'Seif', 'Isa', 'Wasem', 'Kalb', 'Shammas', 'Mikhail', 'Morcos', 'Shadid', 'Baz', 'Shammas', 'Asghar', 'Aswad', 'Haik', 'Kalb', 'Harb', 'Nassar', 'Gaber', 'Seif', 'Zogby', 'Kalb', 'Deeb', 'Morcos', 'Nader', 'Koury', 'Nahas', 'Baba', 'Nader', 'Shadid', 'Bitar', 'Shalhoub', 'Salib', 'Attia', 'Touma', 'Shamoon', 'Kanaan', 'Gerges', 'Nahas', 'Cham', 'Maloof', 'Daher', 'Koury', 'Halabi', 'Boutros', 'Hadad', 'Awad', 'Shadid', 'Bishara', 'Bazzi', 'Shadid', 'Najjar', 'Bata', 'Bazzi', 'Nassar', 'Ganim', 'Gaber', 'Mustafa', 'Sabbag', 'Tahan', 'Boutros', 'Moghadam', 'Samaha', 'Koury', 'Bazzi', 'Boutros', 'Maalouf', 'Dagher', 'Sleiman', 'Gaber', 'Daher', 'Gaber', 'Hanania', 'Issa', 'Atiyeh', 'Hanania', 'Koury', 'Sarkis', 'Issa', 'Mustafa', 'Abadi', 'Naifeh', 'Gaber', 'Basara', 'Bishara', 'Ghanem', 'Antoun', 'Bitar', 'Kassis', 'Awad', 'Saliba', 'Safar', 'Antoun', 'Kouri', 'Khoury', 'Mansour', 'Ba', 'Asker', 'Gerges', 'Kassis', 'Seif', 'Sarraf', 'Ghannam', 'Sarraf', 'Toma', 'Halabi', 'Mansour', 'Harb', 'Attia', 'Tuma', 'Awad', 'Cham', 'Sarkis', 'Sleiman', 'Safar', 'Kattan', 'Sarkis', 'Aswad', 'Shamon', 'Sarraf', 'Moghadam', 'Sleiman', 'Nassar', 'Atiyeh', 'Bahar', 'Basara', 'Abboud', 'Tahan', 'Masih', 'Shamoun', 'Abboud', 'Najjar', 'Haik', 'Assaf', 'Attia', 'Mansour', 'Bahar', 'Samaha', 'Gerges', 'Rahal', 'Koury', 'Safar', 'Khouri', 'Wasem', 'Fakhoury', 'Nassar', 'Ghanem', 'Totah', 'Shamoon', 'Gerges', 'Masih', 'Gaber', 'Shammas', 'Khoury', 'Handal', 'Awad', 'Halabi', 'Handal', 'Samaha', 'Shamoon', 'Kassis', 'Aswad', 'Gerges', 'Arian', 'Baba', 'Asfour', 'Shamoun', 'Amari', 'Ganim', 'Bazzi', 'Haddad', 'Asfour', 'Guirguis', 'Tahan', 'Baba', 'Asfour', 'Boulos', 'Arian', 'Attia', 'Antar', 'Naser', 'Abadi', 'Amari', 'Malouf', 'Essa', 'Maroun', 'Fakhoury', 'Boulos', 'Naifeh', 'Awad', 'Isa', 'Shamon', 'Nahas', 'Deeb', 'Sarraf', 'Saliba', 'Moghadam', 'Baba', 'Fakhoury', 'Hajjar', 'Shadid', 'Cham', 'Arian', 'Sarraf', 'Arian', 'Said', 'Bahar', 'Guirguis', 'Botros', 'Nazari', 'Khoury', 'Rahal', 'Nahas', 'Ghannam', 'Totah', 'Attia', 'Guirguis', 'Halabi', 'Shalhoub', 'Shamon', 'Moghadam', 'Antoun', 'Nader', 'Koury', 'Tuma', 'Mustafa', 'Hanania', 'Almasi', 'Botros', 'Abboud', 'Zogby', 'Dagher', 'Khoury', 'Gaber', 'Tuma', 'Khouri', 'Kanaan', 'Nahas', 'Gaber', 'Shadid', 'Fakhoury', 'Mikhail', 'Rahal', 'Kassis', 'Safar', 'Baz', 'Ganem', 'Kanaan', 'Guirguis', 'Zogby', 'Khouri', 'Mifsud', 'Issa', 'Malouf', 'Hadad', 'Shadid', 'Handal', 'Ba', 'Said', 'Ghannam', 'Najjar', 'Basara', 'Fakhoury', 'Harb', 'Moghadam', 'Totah', 'Naifeh', 'Asghar', 'Asker', 'Arian', 'Cham', 'Touma', 'Sarraf', 'Khouri', 'Cham', 'Almasi', 'Najjar', 'Khouri', 'Bazzi', 'Bishara', 'Seif', 'Shadid', 'Mifsud', 'Assaf', 'Issa', 'Bitar', 'Totah', 'Naifeh', 'Daher', 'Sarkis', 'Deeb', 'Handal', 'Shamon', 'Arian', 'Mansour', 'Mifsud', 'Handal', 'Sabbagh', 'Shamoon', 'Bitar', 'Morcos', 'Mansour', 'Kouri', 'Ghanem', 'Nassar', 'Shammas', 'Hajjar', 'Sarkis', 'Antar', 'Amari', 'Shalhoub', 'Assaf', 'Botros', 'Shamoun', 'Kanaan', 'Daher', 'Awad', 'Touma', 'Asghar', 'Hajjar', 'Sabbag', 'Tannous', 'Nader', 'Botros', 'Zogby', 'Gerges', 'Nahas', 'Shalhoub', 'Sabbagh', 'Shadid', 'Tuma', 'Shamon', 'Sarraf', 'Morcos', 'Baz', 'Nazari', 'Malouf', 'Khouri', 'Najjar', 'Nassar', 'Toma', 'Sleiman', 'Seif', 'Haddad', 'Sabbagh', 'Mikhail', 'Sayegh', 'Cham', 'Kassis', 'Amari', 'Sarraf', 'Ganim', 'Boulos', 'Atiyeh', 'Attia', 'Mustafa', 'Gaber', 'Maloof', 'Moghadam', 'Najjar', 'Handal', 'Kassab', 'Essa', 'Bata', 'Antoun', 'Samaha', 'Ganem', 'Ganem', 'Khoury', 'Ba', 'Harb', 'Hadad', 'Essa', 'Khouri', 'Mifsud', 'Morcos', 'Shamon', 'Mikhail', 'Mikhail', 'Deeb', 'Sabbagh', 'Toma', 'Safar', 'Handal', 'Maroun', 'Sabbagh', 'Kanaan', 'Hajjar', 'Malouf', 'Baba', 'Hadad', 'Awad', 'Morcos', 'Zogby', 'Boutros', 'Shamoun', 'Tuma', 'Tannous', 'Said', 'Totah', 'Tuma', 'Mifsud', 'Almasi', 'Nahas', 'Nader', 'Tahan', 'Mustafa', 'Nader', 'Deeb', 'Seif', 'Tahan', 'Shamoun', 'Baz', 'Tuma', 'Atiyeh', 'Khouri', 'Toma', 'Kalb', 'Shalhoub', 'Asfour', 'Isa', 'Antoun', 'Harb', 'Haik', 'Handal', 'Dagher', 'Arian', 'Khouri', 'Assaf', 'Atiyeh', 'Kattan', 'Antar', 'Baba', 'Hadad', 'Botros', 'Najjar', 'Hakimi', 'Daher', 'Abboud', 'Gerges', 'Sleiman', 'Nassar', 'Shammas', 'Abboud', 'Najjar', 'Atiyeh', 'Bazzi', 'Attia', 'Harb', 'Aswad', 'Srour', 'Bitar', 'Saliba', 'Handal', 'Shamon', 'Boutros', 'Nahas', 'Shamon', 'Guirguis', 'Wasem', 'Daher', 'Haddad', 'Kanaan', 'Gerges', 'Guirguis', 'Naser', 'Tahan', 'Sleiman', 'Hakimi', 'Srour', 'Naifeh', 'Sarkis', 'Hadad', 'Said', 'Sayegh', 'Tahan', 'Abboud', 'Khoury', 'Isa', 'Safar', 'Halabi', 'Sayegh', 'Deeb', 'Saliba', 'Sayegh', 'Attia', 'Asghar', 'Sleiman', 'Sarkis', 'Hajjar', 'Kassab', 'Assaf', 'Kassab', 'Asker', 'Touma', 'Asghar', 'Kouri', 'Wasem', 'Salib', 'Najjar', 'Koury', 'Hakimi', 'Sayegh', 'Hajjar', 'Hadad', 'Deeb', 'Wasem', 'Touma', 'Daher', 'Dagher', 'Tannous', 'Totah', 'Wasem'], 'French': ['Lane', 'Fortier', 'Allard', 'Travere', 'Abraham', 'Faucher', 'De sauveterre', 'Bertrand', 'Gagnier', 'Armistead', 'Couture', 'Proulx', 'Lemaire', 'Bissette', 'Jordan', 'Plamondon', 'Parent', 'De la fontaine', 'Porcher', 'Vincent', 'Lachance', 'Cloutier', 'Villeneuve', 'Bisset', 'Robert', 'St martin', 'Guillory', 'Thibault', 'Traverse', 'Cousineau', 'Herriot', 'Sartre', 'Sarkozy', 'Charbonneau', 'Bellamy', 'Géroux', \"D'aramitz\", 'Martel', 'Adam', 'Abel', 'Beaulieu', 'Fournier', 'Faure', 'Favre', 'Roux', 'Noel', 'Salvage', 'Gagne', 'Firmin', 'Bureau', 'Rey', 'Fay', 'Séverin', 'Mercier', 'Pelletier', 'Romilly', 'Coté', 'Bonfils', 'Albert', 'Lévêque', 'Duguay', 'Petit', 'Descoteaux', 'Desrosiers', 'Foss', 'Larue', 'Masson', 'Roy', 'Fabron', 'Paul', 'Beauchene', 'Lécuyer', 'Pierre', 'Reyer', 'Vipond', 'Belrose', 'Lefebvre', 'Segal', 'Martin', 'Chevrolet', 'Charron', 'Faucheux', 'Parris', 'Gage', 'Delacroix', 'Monette', 'Degarmo', 'Favager', 'Blanc', 'Giles', 'Durant', 'Desrochers', 'Linville', 'Poirier', 'Rome', 'Harman', 'Sauvageon', 'Durand', 'Lémieux', 'Herbert', 'Roche', 'Hardy', 'Poulin', 'Deforest', 'Bordelon', 'Poingdestre', 'Lamar', 'Sargent', 'Brodeur', 'Moulin', 'Yount', 'Dupond', 'Leon', 'Bernard', 'Paquet', 'Courtemanche', 'Lyon', 'Caron', 'Sauvageot', 'Langlois', 'Fabian', 'Charpentier', 'Dupont', 'Samson', 'Rose', 'Lefurgey', 'Oliver', 'Pascal', 'Patenaude', 'Augustin', 'Babineaux', 'Leclair', 'Leblanc', 'Sauvageau', 'Laurent', 'Solomon', 'Thomas', 'St pierre', 'Masson', 'Giroux', 'Eustis', 'Victors', 'Travert', 'Béringer', 'Palomer', 'Marie', 'Rousseau', 'Lesauvage', 'Cavey', 'Desjardins', 'Simon', 'Bonhomme', 'Duchamps', 'Granger', 'Daviau', 'Gardinier', 'Girard', 'Montagne', 'Lyon', 'Denis', 'Lambert', 'Voclain', 'Soucy', 'Samuel', 'Perrot', 'Cornett', 'Paget', 'Paris', 'Michel', 'Plourde', 'Germain', 'Bonheur', 'Maçon', 'Jacques', 'Berger', 'Savatier', 'Blanchett', 'Royer', 'Salomon', 'Monet', 'Bellerose', 'Gosse', 'Dufort', 'Marchand', 'Deschamps', 'Moreau', 'Lavigne', 'Chaput', 'Glaisyer', 'Tremblay', 'Bonnet', 'Deniau', 'Bonnay', 'Émile', 'Tailler', 'Daniau', 'Perreault', 'Forestier', 'Comtois', 'Tremble', 'Merle', 'Gagnon', 'Lapointe', 'Tasse', 'Labelle', 'Marion', 'Lavoie', 'Leroy', 'Leandres', 'Lefévre', 'Bonner', 'Traver', 'Brisbois', 'Fontaine', 'Pan', 'Tobias', 'Joubert', 'Blaise', 'Baudin', 'Olivier'], 'Italian': ['Accorsi', 'Nizzola', 'Amerighi', 'Sparacello', 'Belmonte', 'Africano', 'Benetton', 'Laguardia', 'Alamanni', \"D'onofrio\", 'Falco', 'Notoriano', 'Innocenti', 'Amatore', \"D'amore\", 'Agnelli', 'Baldini', 'Ventura', 'Fausti', 'Napoleoni', 'De laurentis', 'Sanna', 'Scarsi', 'Pini', 'Toloni', 'Poletti', 'Cipriani', 'Faraldo', 'Pagani', 'Abrami', 'Selmone', 'Righi', 'De felice', 'Conti', 'Ratti', 'Bellandini', 'Alberghini', 'Caiazzo', \"D'ambrosio\", 'Mari', 'Salomon', 'Ganza', 'Riggi', 'Sartini', 'Como', 'Mondo', 'Nelli', 'Sciacchitano', 'Magro', 'Gallo', 'Carrara', 'Poggio', 'Fini', 'Uberti', 'Marino', 'Pavesi', 'Germano', 'Rizzo', 'Costa', 'Cucinotta', 'Oberti', 'Ricchetti', 'Affini', 'Rocchi', 'Trudu', 'Orsini', 'Acconci', 'Tedesco', 'Giannino', 'Albini', 'Aliberti', 'Piccirillo', 'Tivoli', 'Marchetti', 'Zanetti', 'Alesio', 'Cremonesi', 'Sultana', 'Traversa', 'Accardi', 'Taverna', 'Nieri', 'Columbo', 'Spanò', 'Bruno', 'Belluomi', 'Alagona', 'Amantea', 'Zambrano', 'Colombera', 'Abbà', 'Uccello', 'Manfredonia', 'Bandoni', 'Maestri', 'Buffone', 'Ventimiglia', 'Corti', 'Spada', 'Salvatici', 'Ragno', 'Nascimbeni', 'Locatelli', 'Pontecorvo', 'Benini', 'Viteri', 'Drago', 'Alescio', 'Laganà', 'Anselmi', 'Arbore', 'Manfredi', 'Basurto', 'Silvestri', 'Albanesi', 'Agresta', 'Ongaro', 'Neri', 'Laurito', 'Traversi', 'Pesce', 'Parma', 'Scavo', 'Pherigo', 'Bartolomei', 'Pittaluga', 'Acconcio', 'Portoghese', 'Accardo', 'Fava', 'Capello', 'Natale', 'Raneri', 'Armati', 'Cavalcante', 'Messana', 'Armani', 'Cattaneo', 'Terzi', 'Oberto', 'Aquino', 'Di antonio', 'Aucciello', 'Nazario', 'Alesi', 'Ricci', 'Nanni', 'Passerini', 'Goretti', 'Agrioli', 'Aringheri', 'Fermi', 'Gagliardi', 'Bianchi', 'Dioli', 'Nardi', 'Biondi', 'Monte', 'Sessa', 'Morandi', 'Adamo', 'Nicotera', 'Zino', 'Nepi', 'Landi', 'Negrini', 'Maria', 'Alberighi', 'Accosi', 'Vacca', 'Bassanelli', 'Portelli', 'Tornincasa', 'Salvaggi', 'Alessandri', 'Montagna', 'Agli', 'Zunino', 'Fontana', 'Brambilla', 'Carracci', 'Pugliese', 'Salvay', 'Di pietro', 'Arena', 'Fierro', 'Luzzatto', 'Sebastino', 'Terranova', 'Nardovino', 'Adriatico', 'Pecora', 'Barone', 'Rocco', 'Aita', 'Armonni', 'Sacco', 'Gori', 'Manco', 'Pesaresi', 'Abatescianni', 'Ré', 'Ungaretti', 'Barzetti', 'De santis', 'Nicastro', 'Alcheri', 'Accursio', 'Abbatelli', 'Berardi', 'Verona', 'Trucco', 'Nannini', 'Ferraro', 'Baggi', 'Agnusdei', 'Abbiati', 'Evangelista', 'Lando', 'Serafini', 'Aloisi', 'Ferrari', 'Alesini', 'Valentini', 'Sciarra', 'Valerio', 'Pagano', 'Favero', 'Leoni', 'Montanari', 'Neroni', 'Padovan', 'Modugno', 'Albano', 'Stabile', 'Bellomi', 'Adelardi', 'Carbone', 'Bellincioni', 'Agostini', 'Fiscella', 'Lamon', 'Bassani', 'Bulgarelli', 'Potenza', 'Durante', 'Nigro', 'Giunta', 'Genovese', 'Abramo', 'Rocca', 'Calabrese', 'Roma', 'Alunni', 'Aldebrandi', 'Noschese', 'Adami', 'Provenzano', 'Micheli', 'Brambani', 'Tessaro', 'Abelli', 'Bartolomeo', 'Sansone', 'Salvail', 'Abate', 'Sabbadin', 'Crocetti', 'Rovigatti', 'Nisi', 'Bonomo', 'Ferrara', 'Fortunato', 'Esposito', 'Bertolini', 'Caivano', 'Ferro', 'Sinagra', 'Agosti', 'Borghi', 'Martinelli', 'Valenti', 'Bandini', 'Allegro', 'Ungaro', 'Vigo', 'Ardovini', 'Ajello', 'Varano', 'Marchesi', 'Garofalo', 'Abbadelli', 'Scutese', 'De vitis', 'Idoni', 'Altoviti', 'Adessi', 'Moretti', 'Merlo', 'Aloia', 'Lamberti', 'Russo', 'Alfero', 'Dinapoli', 'Aliprandi', 'Crespo', 'Albrici', 'Cuocco', 'Arrighetti', 'Di stefano', 'Altimari', 'Parrino', 'Rais', 'Abatantuono', 'Accorso', 'Ronchi', 'Angioli', 'Villa', 'Antonini', 'Alinari', 'Martelli', 'Nicolai', 'Alemagna', 'Acqua', 'Sciacca', 'Romagna', 'Lombardi', 'Fabbri', 'Caito', 'Vestri', 'Cantu', 'Marmo', 'Naggi', 'Nardo', 'Abelló', 'Gabrielli', 'Sorrentino', 'Giùgovaz', 'Turati', 'Sordi', 'Bellini', 'Vinci', 'Serpico', 'Rao', 'Baldovini', 'Ambrosi', 'Zappa', 'Nacar', 'Rapallino', 'Vescovi', 'Nasato', 'Bagnoli', 'De angelis', 'Nenci', 'Petri', 'Di caprio', 'Acerbi', 'Leccese', 'Albero', 'Garfagnini', 'Belloni', 'Santoro', 'Ardiccioni', 'Baldinotti', 'Arrigucci', 'Acquafredda', 'Acone', 'Bove', 'Masin', 'Ruzzier', 'Vinci', 'Vico', 'Romano', 'Alduino', 'Masi', 'Tiraboschi', 'Airò', 'Motta', 'Aconi', 'Tosetti', 'Milano', 'Alberici', 'Alò', 'Berti', 'Amadori', 'Nicodemo', 'Labriola', 'Cino', 'Breda', 'Caruso', 'Calligaris', 'Guerriero', 'Pellegrino', 'Laterza', 'Marconi', 'Nicosia', 'De filippis', 'Farro', 'Sarto', 'Napoletani', 'Buonarroti', 'Traverso', 'Savona', 'Moschella', 'Adamoli', 'Grillo', 'Gatti', 'Tamàro', 'Voltolini', 'Serafin', 'Bazzoli', 'Lecce', 'Fiscella', 'Stablum', 'Bovér', 'Basso', 'Vaccaro', 'Palmisano', 'Todaro', 'Guarneri', 'Profeta', 'Amato', 'Piccoli', 'Naldi', 'Brunetti', 'Nicchi', 'Africani', 'Borgogni', 'Testa', 'Parodi', 'Sinagra', \"D'angelo\", 'Mosconi', 'Brioschi', 'Tosi', 'Gimondi', 'Biancardi', 'Lippi', 'Benvenuti', 'Gismondi', 'Baldi', 'Abategiovanni', 'Pisani', 'Azzarà', 'Carboni', 'Agani', 'Bergamaschi', 'Fiore', 'Morello', 'Tarantino', 'Acciai', 'Romano', 'Aquila', 'Confortola', 'Lagomarsìno', 'Capello', 'Nicolosi', 'Guttuso', 'Lama', 'Nana', 'Alberghi', 'Palumbo', 'Necchi', 'Roncalli', 'Filippi', 'Bologna', 'Albricci', 'Fattore', 'Cisternino', 'Romagnoli', 'Lazzari', 'Turchi', 'Cingolani', 'Abbatangelo', 'Antonelli', 'Fonda', 'Leone', 'Segreti', 'Porto', 'Gentile', 'Amoretto', 'Tamboia', 'Nani', 'Prosdocimi', 'Bulgari', 'Provenza', 'Mondadori', 'Arnoni', 'Quaranta', 'Elena', 'Parisi', 'Pierno', 'Rosa', 'Mantovani', 'Zini', 'Rana', 'Tosto', 'Costantini', 'Naggia', 'Acciaio', 'Abbascia', 'Padovano', 'Guerra', 'Sapienti', 'Donati', 'Damiani', 'Battaglia', 'Altamura', \"D'antonio\", 'De fiore', 'Sala', 'Ravenna', 'Alderisi', 'Airaldi', 'Mazza', 'Benenati', 'Croce', 'Muggia', 'Cassano', 'Romero', 'Arlotti', 'Aleppo', 'Lagorio', 'Busto', 'Allegri', 'Carideo', 'Como', 'Pastore', 'Capitani', 'Abbracciabene', 'Baglio', 'Boerio', 'Pavoni', 'Muraro', 'Adalardi', 'Brivio', 'Panzavecchia', 'Scotti', 'Piazza', 'Episcopo', 'Corna', 'Bicchieri', 'Somma', 'Mancuso', 'Montana', 'Capello', 'Landolfi', 'Alesci', 'Salvai', 'Coiro', 'Rossi', 'Pavone', 'Uggeri', 'Basile', 'Benivieni', 'Sgro', 'Piraino', 'Borgnino', 'Scordato', 'Carlevaro', 'Raimondi', 'Cremona', 'Cracchiolo', 'Quattrocchi', 'Cremaschi', 'Spini', 'Soriano'], 'Czech': ['Sponer', 'Paiser', 'Rezac', 'Tomanek', 'Stites', 'Hajek', 'Urbanovska', 'Kessel', 'Mojjis', 'Weichert', 'Petersen', 'Hlavsa', 'Janca', 'Krupala', 'Janosik', 'Pokorny', 'Cervenka', 'Pavlik', 'Piskach', 'Kopecky', 'Marek', 'Matjeka', 'Cvacek', 'Vaculova', 'Volcik', 'Pellar', 'Urista', 'Osladil', 'Abl', 'Trampotova', 'Prchal', 'Vlach', 'Drassal', 'Kesl', 'Slejtr', 'Hanek', 'Petru', 'Sappe', 'Wizner', 'Tomasek', 'Till', 'Staska', 'Dopita', 'Dziadik', 'Kozumplikova', 'Svotak', 'Riha', 'Borovsky', 'Peisar', 'Matejka', 'Srpcikova', 'Kara', 'Sedmikova', 'Sappe', 'Benesch', 'Grabski', 'Hnizdil', 'Ruda', 'Pesek', 'Siegl', 'Rypka', 'Schallom', 'Ocaskova', 'Malec', 'Zoucha', 'Ponec', 'Colling', 'Uerling', 'Stramba', 'Skomicka', 'Kaiser', 'Pfeifer', 'Kasimor', 'Samz', 'Blazek', 'Dempko', 'Klein', 'Malecha', 'Cablikova', 'Dolejsi', 'Zipperer', 'Markytan', 'Srda', 'Schmied', 'Doljs', 'Sabol', 'Perina', 'Hanzlik', 'Faltejsek', 'Navratil', 'Miksatkova', 'Zeman', 'Sedmik', 'Michalovicova', 'Dana', 'Morek', 'Konarik', 'Zaruba', 'Steinborn', 'Pech', 'Chromy', 'Koberna', 'Ponec', 'Hrula', 'MonkoAustria', 'Dinko', 'Raffel', 'Votke', 'Dvorak', 'Holan', 'Cernochova', 'Treblik', 'Kosko', 'Rzehak', 'Tykal', 'Sztegon', 'Kolacny', 'Brabbery', 'Entler', 'Ballaltick', 'Kudrna', 'Ustohal', 'Kafka', 'Mudra', 'Katschker', 'Subertova', 'Kremlicka', 'Zajicek', 'Hovanec', 'Blazek', 'Brezovjak', 'Neisser', 'Havlice', 'Borovka', 'Smith', 'Neusser', 'Hanika', 'Demall', 'Jindra', 'Kurtz', 'Waclauska', 'Novotny', 'Koma', 'Hodowal', 'Trampota', 'Muchalon', 'Zwolenksy', 'Shima', 'Betlach', 'Urbanek1', 'Vejvoda', 'Komo', 'Antonowitz', 'Gavalok', 'Sip', 'Holub', 'Slivka', 'Malafa', 'Serak', 'Svejkovsky', 'Korandak', 'Sokolik', 'Kenzel', 'Handzlik', 'Timpy', 'Dejmal', 'Slapnickova', 'Stluka', 'Lokay', 'Hruska', 'Plisek', 'Stary', 'Tikal', 'Kunik', 'Borowski', 'Vlach', 'Bohac', 'Wondracek', 'Damell', 'Bolcar', 'Grozmanova', 'Kratschmar', 'Kanak', 'Timpe', 'Kupfel', 'Hrabak', 'Rumisek', 'Jirku', 'Slezak', 'Hradek', 'Marik', 'Krivolavy', 'Merta', 'Glockl', 'Monfort', 'Nestrojil', 'Schlantz', 'Kriz', 'Tejc', 'Janacek', 'Sula', 'Krytinar', 'Netsch', 'Rozinek', 'Riedel', 'Bastl', 'Jenicek', 'Cap', 'Kessler', 'Sankovsky', 'Sitta', 'Koci', 'Ransom', 'Friedrich', 'Simodines', 'Kocian', 'Navrkal', 'Hanusch', 'Vlasek', 'Cerny', 'Antonowitsch', 'Gabrisova', 'Nemec', 'Kubin', 'Lind', 'Satorie', 'Heidl', 'Schenk', 'Ondrisek', 'Buchta', 'Riha', 'Swatchak', 'Adsit', 'Fencl', 'Uhlik', 'Piller', 'Jelinek', 'Geryk', 'Vaca', 'Hawlata', 'Karlovsky', 'Schubert', 'Psik', 'Macikova', 'Muhlbauer', 'Morava', 'Grygarova', 'Fojtikova', 'Hruskova', 'Ballalatak', 'Loskot', 'Jonas', 'Kusak', 'Kreisinger', 'Sarna', 'Weineltk', 'Vrazel', 'Hiorvst', 'Kerner', 'Perevuznik', 'Opp', 'Prachar', 'Kober', 'Silhan', 'Spoerl', 'Werlla', 'Pear', 'Fillipova', 'Spicka', 'Svoboda', 'Khork', 'Ozimuk', 'Pretsch', 'Nemecek', 'Ritchie', 'Kafka', 'Opova', 'Okenfuss', 'Safko', 'Herback', 'Wood', 'Snelker', 'Hadash', 'Bohunovsky', 'Novak', 'Demko', 'Borovski', 'Hafernik', 'Kazimor', 'Hajkova', 'Bartonova', 'Oborny', 'Czabal', 'Husk', 'Kulhanek', 'Cerny', 'Grulich', 'Soucek', 'Vozab', 'Cermak', 'Baroch', 'Pudel', 'Cermak', 'Kolman', 'Koukal', 'Hladky', 'Zelinka', 'Panek', 'Kouba', 'Svejda', 'Janutka', 'Chilar', 'Bacon', 'Suchanka', 'Stedronsky', 'Cerda', 'Krivan', 'Rebka', 'Pawlak', 'Geier', 'Nekuza', 'Mayer', 'Cerv', 'Krawiec', 'Dehmel', 'Vykruta', 'Pitterman', 'Cober', 'Klineberg', 'Blahut', 'Savchak', 'Quasninsky', 'Svocak', 'Mojzis', 'Wiesner', 'Bock', 'Hrdy', 'Cernohous', 'Widerlechner', 'Kocian', 'Seger', 'Schwarz', 'Soukup', 'Korycansky', 'Skeril', 'Kofel', 'Chermak', 'Fenyo', 'Havlatova', 'Korycan', 'Pinter', 'Frierdich', 'Herodes', 'Glatter', 'Hartl', 'Skala', 'Jirovy', 'Kopp', 'Navara', 'Navratil', 'Janicek', 'Simecek', 'Bilek', 'Mozzis', 'Whitmire1', 'Victor', 'Kucera', 'Kreutschmer', 'Macha', 'Blazejovsky', 'Kasa', 'Olbrich', 'Semick', 'Peary', 'Camfrlova', 'Pachr', 'Wilchek', 'Cihak', 'Opizka', 'Kauphsman', 'Vlasak', 'Lawa', 'Furtsch', 'Sekovora', 'Janoch', 'Nadwornik', 'Purdes', 'Maxa/B', 'Zaruba', 'Klimes', 'Zimola', 'Hanzlick', 'Ludwig', 'Palzewicz', 'Sherak', 'Jirik', 'Jirava', 'Fremut', 'StrakaO', 'Petrezelka', 'Zitka', 'Fritsch', 'Prehatney', 'Schmeiser', 'Ajdrna', 'Meszes', 'Clineburg', 'Linart', 'Finke', 'Pavlu', 'Jarzembowski', 'Hora', 'Jobst', 'Machacek', 'Cerney', 'Prill', 'Egr']}\n"
     ]
    }
   ],
   "source": [
    "#Обучающая выборка\n",
    "print(train)"
   ]
  },
  {
   "cell_type": "markdown",
   "metadata": {},
   "source": [
    "##  Часть 2. Базовый метод классификации [20 баллов]\n",
    "\n",
    "\n",
    "\n",
    "Используйте метод наивного Байеса, логистическую регрессию или любой другой метод для классификации фамилий: в качестве признаков используйте символьные $n$-граммы. Сравните результаты, получаемые при разных $n=2,3,4$ по $F$-мере и аккуратности. В каких случаях метод ошибается?\n",
    "\n",
    "Для генерации $n$-грамм используйте:"
   ]
  },
  {
   "cell_type": "code",
   "execution_count": 12,
   "metadata": {
    "collapsed": true
   },
   "outputs": [],
   "source": [
    "import nltk\n",
    "from nltk.util import ngrams\n",
    "from tqdm import tqdm"
   ]
  },
  {
   "cell_type": "code",
   "execution_count": 13,
   "metadata": {
    "collapsed": true
   },
   "outputs": [],
   "source": [
    "import pandas as pd\n",
    "columns = ['Language', 'Family']\n",
    "df = pd.DataFrame(columns=columns) \n",
    "dftest = pd.DataFrame(columns=columns) "
   ]
  },
  {
   "cell_type": "code",
   "execution_count": 14,
   "metadata": {},
   "outputs": [
    {
     "data": {
      "text/html": [
       "<div>\n",
       "<style>\n",
       "    .dataframe thead tr:only-child th {\n",
       "        text-align: right;\n",
       "    }\n",
       "\n",
       "    .dataframe thead th {\n",
       "        text-align: left;\n",
       "    }\n",
       "\n",
       "    .dataframe tbody tr th {\n",
       "        vertical-align: top;\n",
       "    }\n",
       "</style>\n",
       "<table border=\"1\" class=\"dataframe\">\n",
       "  <thead>\n",
       "    <tr style=\"text-align: right;\">\n",
       "      <th></th>\n",
       "      <th>Language</th>\n",
       "      <th>Family</th>\n",
       "    </tr>\n",
       "  </thead>\n",
       "  <tbody>\n",
       "    <tr>\n",
       "      <th>0</th>\n",
       "      <td>Japanese</td>\n",
       "      <td>Sada</td>\n",
       "    </tr>\n",
       "    <tr>\n",
       "      <th>1</th>\n",
       "      <td>Japanese</td>\n",
       "      <td>Isoda</td>\n",
       "    </tr>\n",
       "    <tr>\n",
       "      <th>2</th>\n",
       "      <td>Japanese</td>\n",
       "      <td>Takaoka</td>\n",
       "    </tr>\n",
       "    <tr>\n",
       "      <th>3</th>\n",
       "      <td>Japanese</td>\n",
       "      <td>Shige</td>\n",
       "    </tr>\n",
       "    <tr>\n",
       "      <th>4</th>\n",
       "      <td>Japanese</td>\n",
       "      <td>Shikuk</td>\n",
       "    </tr>\n",
       "  </tbody>\n",
       "</table>\n",
       "</div>"
      ],
      "text/plain": [
       "   Language   Family\n",
       "0  Japanese     Sada\n",
       "1  Japanese    Isoda\n",
       "2  Japanese  Takaoka\n",
       "3  Japanese    Shige\n",
       "4  Japanese   Shikuk"
      ]
     },
     "execution_count": 14,
     "metadata": {},
     "output_type": "execute_result"
    }
   ],
   "source": [
    "for cat in train:\n",
    "    category=train[cat]\n",
    "    for f in category:\n",
    "        df.loc[len(df)]=[cat, f] \n",
    "df.head()"
   ]
  },
  {
   "cell_type": "code",
   "execution_count": 15,
   "metadata": {},
   "outputs": [
    {
     "name": "stderr",
     "output_type": "stream",
     "text": [
      "100%|██████████| 18/18 [00:10<00:00,  1.67it/s]\n"
     ]
    },
    {
     "data": {
      "text/html": [
       "<div>\n",
       "<style>\n",
       "    .dataframe thead tr:only-child th {\n",
       "        text-align: right;\n",
       "    }\n",
       "\n",
       "    .dataframe thead th {\n",
       "        text-align: left;\n",
       "    }\n",
       "\n",
       "    .dataframe tbody tr th {\n",
       "        vertical-align: top;\n",
       "    }\n",
       "</style>\n",
       "<table border=\"1\" class=\"dataframe\">\n",
       "  <thead>\n",
       "    <tr style=\"text-align: right;\">\n",
       "      <th></th>\n",
       "      <th>Language</th>\n",
       "      <th>Family</th>\n",
       "    </tr>\n",
       "  </thead>\n",
       "  <tbody>\n",
       "    <tr>\n",
       "      <th>0</th>\n",
       "      <td>Japanese</td>\n",
       "      <td>Chikanatsu</td>\n",
       "    </tr>\n",
       "    <tr>\n",
       "      <th>1</th>\n",
       "      <td>Japanese</td>\n",
       "      <td>Horigoshi</td>\n",
       "    </tr>\n",
       "    <tr>\n",
       "      <th>2</th>\n",
       "      <td>Japanese</td>\n",
       "      <td>Nonomura</td>\n",
       "    </tr>\n",
       "    <tr>\n",
       "      <th>3</th>\n",
       "      <td>Japanese</td>\n",
       "      <td>Hirano</td>\n",
       "    </tr>\n",
       "    <tr>\n",
       "      <th>4</th>\n",
       "      <td>Japanese</td>\n",
       "      <td>Ayugai</td>\n",
       "    </tr>\n",
       "  </tbody>\n",
       "</table>\n",
       "</div>"
      ],
      "text/plain": [
       "   Language      Family\n",
       "0  Japanese  Chikanatsu\n",
       "1  Japanese   Horigoshi\n",
       "2  Japanese    Nonomura\n",
       "3  Japanese      Hirano\n",
       "4  Japanese      Ayugai"
      ]
     },
     "execution_count": 15,
     "metadata": {},
     "output_type": "execute_result"
    }
   ],
   "source": [
    "for cat in tqdm(test):\n",
    "    category=test[cat]\n",
    "    for f in category:\n",
    "        dftest.loc[len(dftest)]=[cat, f] \n",
    "dftest.head()"
   ]
  },
  {
   "cell_type": "markdown",
   "metadata": {},
   "source": [
    "### N=2"
   ]
  },
  {
   "cell_type": "markdown",
   "metadata": {},
   "source": [
    "Разбиваем слова на n-граммы, записываем все в словарь, а так же создаем список n-грамм"
   ]
  },
  {
   "cell_type": "code",
   "execution_count": 16,
   "metadata": {
    "collapsed": true
   },
   "outputs": [],
   "source": [
    "n=2"
   ]
  },
  {
   "cell_type": "code",
   "execution_count": 17,
   "metadata": {},
   "outputs": [
    {
     "name": "stderr",
     "output_type": "stream",
     "text": [
      "100%|██████████| 18/18 [00:00<00:00, 109.40it/s]\n"
     ]
    }
   ],
   "source": [
    "train_ng=dict()\n",
    "names=set()\n",
    "for cat in tqdm(train):\n",
    "    category=train[cat]\n",
    "    cat_ng=dict()\n",
    "    for f in category:\n",
    "        ngs=[ng for ng in nltk.ngrams(f, n)]\n",
    "        cat_ng[f]=ngs\n",
    "        for ng in ngs:\n",
    "            names.add(ng)\n",
    "    train_ng[cat]=cat_ng"
   ]
  },
  {
   "cell_type": "code",
   "execution_count": 18,
   "metadata": {},
   "outputs": [
    {
     "data": {
      "text/plain": [
       "18"
      ]
     },
     "execution_count": 18,
     "metadata": {},
     "output_type": "execute_result"
    }
   ],
   "source": [
    "len(train_ng)"
   ]
  },
  {
   "cell_type": "code",
   "execution_count": 19,
   "metadata": {
    "collapsed": true
   },
   "outputs": [],
   "source": [
    "test_ng=dict()\n",
    "for cat in test:\n",
    "    category=test[cat]\n",
    "    cat_ng=dict()\n",
    "    for f in category:\n",
    "        ngs=[ng for ng in nltk.ngrams(f, n)]\n",
    "        cat_ng[f]=ngs\n",
    "        for ng in ngs:\n",
    "            names.add(ng)\n",
    "    test_ng[cat]=cat_ng"
   ]
  },
  {
   "cell_type": "code",
   "execution_count": 20,
   "metadata": {
    "collapsed": true
   },
   "outputs": [],
   "source": [
    "#Заполняем нулями обучающую матрицу\n",
    "for name in names:\n",
    "    df[name]=df.fillna(0, inplace=True)"
   ]
  },
  {
   "cell_type": "code",
   "execution_count": 21,
   "metadata": {},
   "outputs": [
    {
     "name": "stderr",
     "output_type": "stream",
     "text": [
      "100%|██████████| 1166/1166 [00:19<00:00, 59.77it/s]\n"
     ]
    }
   ],
   "source": [
    "#Заполняем нулями тестовую матрицу\n",
    "for name in tqdm(names):\n",
    "    dftest[name]=dftest.fillna(0, inplace=True)"
   ]
  },
  {
   "cell_type": "code",
   "execution_count": null,
   "metadata": {
    "collapsed": true
   },
   "outputs": [],
   "source": []
  },
  {
   "cell_type": "code",
   "execution_count": 22,
   "metadata": {},
   "outputs": [
    {
     "name": "stderr",
     "output_type": "stream",
     "text": [
      "\r",
      "  0%|          | 0/18 [00:00<?, ?it/s]"
     ]
    },
    {
     "name": "stdout",
     "output_type": "stream",
     "text": [
      "CPU times: user 2 µs, sys: 2 µs, total: 4 µs\n",
      "Wall time: 7.63 µs\n"
     ]
    },
    {
     "name": "stderr",
     "output_type": "stream",
     "text": [
      "100%|██████████| 18/18 [12:44<00:00, 42.49s/it]\n"
     ]
    }
   ],
   "source": [
    "%time\n",
    "#Заполняем 1 поля на пересечении фамилии и входящей в ее состав n-граммы\n",
    "for cat in tqdm(all_categories):\n",
    "    family = train_ng[cat]\n",
    "    for f in family:\n",
    "        ngs=family[f]\n",
    "        for ng in ngs:\n",
    "            df.loc[(df['Language'] == cat) & (df['Family'] == family), ng] = 1"
   ]
  },
  {
   "cell_type": "code",
   "execution_count": 23,
   "metadata": {
    "scrolled": false
   },
   "outputs": [
    {
     "data": {
      "text/html": [
       "<div>\n",
       "<style>\n",
       "    .dataframe thead tr:only-child th {\n",
       "        text-align: right;\n",
       "    }\n",
       "\n",
       "    .dataframe thead th {\n",
       "        text-align: left;\n",
       "    }\n",
       "\n",
       "    .dataframe tbody tr th {\n",
       "        vertical-align: top;\n",
       "    }\n",
       "</style>\n",
       "<table border=\"1\" class=\"dataframe\">\n",
       "  <thead>\n",
       "    <tr style=\"text-align: right;\">\n",
       "      <th></th>\n",
       "      <th>Language</th>\n",
       "      <th>Family</th>\n",
       "      <th>(K, u)</th>\n",
       "      <th>(j, z)</th>\n",
       "      <th>(H, é)</th>\n",
       "      <th>(p, r)</th>\n",
       "      <th>(d, i)</th>\n",
       "      <th>(í, v)</th>\n",
       "      <th>(i, è)</th>\n",
       "      <th>(I, e)</th>\n",
       "      <th>...</th>\n",
       "      <th>(e, h)</th>\n",
       "      <th>(s, i)</th>\n",
       "      <th>(', K)</th>\n",
       "      <th>(g, h)</th>\n",
       "      <th>(ß, e)</th>\n",
       "      <th>(e, j)</th>\n",
       "      <th>(í, g)</th>\n",
       "      <th>(d, à)</th>\n",
       "      <th>(m, u)</th>\n",
       "      <th>(s, a)</th>\n",
       "    </tr>\n",
       "  </thead>\n",
       "  <tbody>\n",
       "    <tr>\n",
       "      <th>0</th>\n",
       "      <td>Japanese</td>\n",
       "      <td>Sada</td>\n",
       "      <td>0</td>\n",
       "      <td>0</td>\n",
       "      <td>0</td>\n",
       "      <td>0</td>\n",
       "      <td>0</td>\n",
       "      <td>0</td>\n",
       "      <td>0</td>\n",
       "      <td>0</td>\n",
       "      <td>...</td>\n",
       "      <td>0</td>\n",
       "      <td>0</td>\n",
       "      <td>0</td>\n",
       "      <td>0</td>\n",
       "      <td>0</td>\n",
       "      <td>0</td>\n",
       "      <td>0</td>\n",
       "      <td>0</td>\n",
       "      <td>0</td>\n",
       "      <td>None</td>\n",
       "    </tr>\n",
       "    <tr>\n",
       "      <th>1</th>\n",
       "      <td>Japanese</td>\n",
       "      <td>Isoda</td>\n",
       "      <td>0</td>\n",
       "      <td>0</td>\n",
       "      <td>0</td>\n",
       "      <td>0</td>\n",
       "      <td>0</td>\n",
       "      <td>0</td>\n",
       "      <td>0</td>\n",
       "      <td>0</td>\n",
       "      <td>...</td>\n",
       "      <td>0</td>\n",
       "      <td>0</td>\n",
       "      <td>0</td>\n",
       "      <td>0</td>\n",
       "      <td>0</td>\n",
       "      <td>0</td>\n",
       "      <td>0</td>\n",
       "      <td>0</td>\n",
       "      <td>0</td>\n",
       "      <td>None</td>\n",
       "    </tr>\n",
       "    <tr>\n",
       "      <th>2</th>\n",
       "      <td>Japanese</td>\n",
       "      <td>Takaoka</td>\n",
       "      <td>0</td>\n",
       "      <td>0</td>\n",
       "      <td>0</td>\n",
       "      <td>0</td>\n",
       "      <td>0</td>\n",
       "      <td>0</td>\n",
       "      <td>0</td>\n",
       "      <td>0</td>\n",
       "      <td>...</td>\n",
       "      <td>0</td>\n",
       "      <td>0</td>\n",
       "      <td>0</td>\n",
       "      <td>0</td>\n",
       "      <td>0</td>\n",
       "      <td>0</td>\n",
       "      <td>0</td>\n",
       "      <td>0</td>\n",
       "      <td>0</td>\n",
       "      <td>None</td>\n",
       "    </tr>\n",
       "    <tr>\n",
       "      <th>3</th>\n",
       "      <td>Japanese</td>\n",
       "      <td>Shige</td>\n",
       "      <td>0</td>\n",
       "      <td>0</td>\n",
       "      <td>0</td>\n",
       "      <td>0</td>\n",
       "      <td>0</td>\n",
       "      <td>0</td>\n",
       "      <td>0</td>\n",
       "      <td>0</td>\n",
       "      <td>...</td>\n",
       "      <td>0</td>\n",
       "      <td>0</td>\n",
       "      <td>0</td>\n",
       "      <td>0</td>\n",
       "      <td>0</td>\n",
       "      <td>0</td>\n",
       "      <td>0</td>\n",
       "      <td>0</td>\n",
       "      <td>0</td>\n",
       "      <td>None</td>\n",
       "    </tr>\n",
       "    <tr>\n",
       "      <th>4</th>\n",
       "      <td>Japanese</td>\n",
       "      <td>Shikuk</td>\n",
       "      <td>0</td>\n",
       "      <td>0</td>\n",
       "      <td>0</td>\n",
       "      <td>0</td>\n",
       "      <td>0</td>\n",
       "      <td>0</td>\n",
       "      <td>0</td>\n",
       "      <td>0</td>\n",
       "      <td>...</td>\n",
       "      <td>0</td>\n",
       "      <td>0</td>\n",
       "      <td>0</td>\n",
       "      <td>0</td>\n",
       "      <td>0</td>\n",
       "      <td>0</td>\n",
       "      <td>0</td>\n",
       "      <td>0</td>\n",
       "      <td>0</td>\n",
       "      <td>None</td>\n",
       "    </tr>\n",
       "  </tbody>\n",
       "</table>\n",
       "<p>5 rows × 1168 columns</p>\n",
       "</div>"
      ],
      "text/plain": [
       "   Language   Family  (K, u)  (j, z)  (H, é)  (p, r)  (d, i)  (í, v)  (i, è)  \\\n",
       "0  Japanese     Sada       0       0       0       0       0       0       0   \n",
       "1  Japanese    Isoda       0       0       0       0       0       0       0   \n",
       "2  Japanese  Takaoka       0       0       0       0       0       0       0   \n",
       "3  Japanese    Shige       0       0       0       0       0       0       0   \n",
       "4  Japanese   Shikuk       0       0       0       0       0       0       0   \n",
       "\n",
       "   (I, e)   ...    (e, h)  (s, i)  (', K)  (g, h)  (ß, e)  (e, j)  (í, g)  \\\n",
       "0       0   ...         0       0       0       0       0       0       0   \n",
       "1       0   ...         0       0       0       0       0       0       0   \n",
       "2       0   ...         0       0       0       0       0       0       0   \n",
       "3       0   ...         0       0       0       0       0       0       0   \n",
       "4       0   ...         0       0       0       0       0       0       0   \n",
       "\n",
       "   (d, à)  (m, u)  (s, a)  \n",
       "0       0       0    None  \n",
       "1       0       0    None  \n",
       "2       0       0    None  \n",
       "3       0       0    None  \n",
       "4       0       0    None  \n",
       "\n",
       "[5 rows x 1168 columns]"
      ]
     },
     "execution_count": 23,
     "metadata": {},
     "output_type": "execute_result"
    }
   ],
   "source": [
    "df.head()"
   ]
  },
  {
   "cell_type": "code",
   "execution_count": 24,
   "metadata": {},
   "outputs": [
    {
     "name": "stderr",
     "output_type": "stream",
     "text": [
      "100%|██████████| 18/18 [02:14<00:00,  7.47s/it]\n"
     ]
    }
   ],
   "source": [
    "#Заполняем 1 поля на пересечении фамилии и входящей в ее состав n-граммы\n",
    "for cat in tqdm(all_categories):\n",
    "    family = test_ng[cat]\n",
    "    for f in family:\n",
    "        ngs=family[f]\n",
    "        for ng in ngs:\n",
    "            dftest.loc[(dftest['Language'] == cat) & (dftest['Family'] == family), ng] = 1"
   ]
  },
  {
   "cell_type": "code",
   "execution_count": 25,
   "metadata": {
    "collapsed": true
   },
   "outputs": [],
   "source": [
    "Y_train=df['Language']\n",
    "Y_test=dftest['Language']"
   ]
  },
  {
   "cell_type": "code",
   "execution_count": 26,
   "metadata": {},
   "outputs": [
    {
     "data": {
      "text/html": [
       "<div>\n",
       "<style>\n",
       "    .dataframe thead tr:only-child th {\n",
       "        text-align: right;\n",
       "    }\n",
       "\n",
       "    .dataframe thead th {\n",
       "        text-align: left;\n",
       "    }\n",
       "\n",
       "    .dataframe tbody tr th {\n",
       "        vertical-align: top;\n",
       "    }\n",
       "</style>\n",
       "<table border=\"1\" class=\"dataframe\">\n",
       "  <thead>\n",
       "    <tr style=\"text-align: right;\">\n",
       "      <th></th>\n",
       "      <th>Language</th>\n",
       "      <th>Family</th>\n",
       "      <th>(K, u)</th>\n",
       "      <th>(j, z)</th>\n",
       "      <th>(H, é)</th>\n",
       "      <th>(p, r)</th>\n",
       "      <th>(d, i)</th>\n",
       "      <th>(í, v)</th>\n",
       "      <th>(i, è)</th>\n",
       "      <th>(I, e)</th>\n",
       "      <th>...</th>\n",
       "      <th>(e, h)</th>\n",
       "      <th>(s, i)</th>\n",
       "      <th>(', K)</th>\n",
       "      <th>(g, h)</th>\n",
       "      <th>(ß, e)</th>\n",
       "      <th>(e, j)</th>\n",
       "      <th>(í, g)</th>\n",
       "      <th>(d, à)</th>\n",
       "      <th>(m, u)</th>\n",
       "      <th>(s, a)</th>\n",
       "    </tr>\n",
       "  </thead>\n",
       "  <tbody>\n",
       "    <tr>\n",
       "      <th>0</th>\n",
       "      <td>Japanese</td>\n",
       "      <td>Chikanatsu</td>\n",
       "      <td>0</td>\n",
       "      <td>0</td>\n",
       "      <td>0</td>\n",
       "      <td>0</td>\n",
       "      <td>0</td>\n",
       "      <td>0</td>\n",
       "      <td>0</td>\n",
       "      <td>0</td>\n",
       "      <td>...</td>\n",
       "      <td>0</td>\n",
       "      <td>0</td>\n",
       "      <td>0</td>\n",
       "      <td>0</td>\n",
       "      <td>0</td>\n",
       "      <td>0</td>\n",
       "      <td>0</td>\n",
       "      <td>0</td>\n",
       "      <td>0</td>\n",
       "      <td>None</td>\n",
       "    </tr>\n",
       "    <tr>\n",
       "      <th>1</th>\n",
       "      <td>Japanese</td>\n",
       "      <td>Horigoshi</td>\n",
       "      <td>0</td>\n",
       "      <td>0</td>\n",
       "      <td>0</td>\n",
       "      <td>0</td>\n",
       "      <td>0</td>\n",
       "      <td>0</td>\n",
       "      <td>0</td>\n",
       "      <td>0</td>\n",
       "      <td>...</td>\n",
       "      <td>0</td>\n",
       "      <td>0</td>\n",
       "      <td>0</td>\n",
       "      <td>0</td>\n",
       "      <td>0</td>\n",
       "      <td>0</td>\n",
       "      <td>0</td>\n",
       "      <td>0</td>\n",
       "      <td>0</td>\n",
       "      <td>None</td>\n",
       "    </tr>\n",
       "    <tr>\n",
       "      <th>2</th>\n",
       "      <td>Japanese</td>\n",
       "      <td>Nonomura</td>\n",
       "      <td>0</td>\n",
       "      <td>0</td>\n",
       "      <td>0</td>\n",
       "      <td>0</td>\n",
       "      <td>0</td>\n",
       "      <td>0</td>\n",
       "      <td>0</td>\n",
       "      <td>0</td>\n",
       "      <td>...</td>\n",
       "      <td>0</td>\n",
       "      <td>0</td>\n",
       "      <td>0</td>\n",
       "      <td>0</td>\n",
       "      <td>0</td>\n",
       "      <td>0</td>\n",
       "      <td>0</td>\n",
       "      <td>0</td>\n",
       "      <td>0</td>\n",
       "      <td>None</td>\n",
       "    </tr>\n",
       "    <tr>\n",
       "      <th>3</th>\n",
       "      <td>Japanese</td>\n",
       "      <td>Hirano</td>\n",
       "      <td>0</td>\n",
       "      <td>0</td>\n",
       "      <td>0</td>\n",
       "      <td>0</td>\n",
       "      <td>0</td>\n",
       "      <td>0</td>\n",
       "      <td>0</td>\n",
       "      <td>0</td>\n",
       "      <td>...</td>\n",
       "      <td>0</td>\n",
       "      <td>0</td>\n",
       "      <td>0</td>\n",
       "      <td>0</td>\n",
       "      <td>0</td>\n",
       "      <td>0</td>\n",
       "      <td>0</td>\n",
       "      <td>0</td>\n",
       "      <td>0</td>\n",
       "      <td>None</td>\n",
       "    </tr>\n",
       "    <tr>\n",
       "      <th>4</th>\n",
       "      <td>Japanese</td>\n",
       "      <td>Ayugai</td>\n",
       "      <td>0</td>\n",
       "      <td>0</td>\n",
       "      <td>0</td>\n",
       "      <td>0</td>\n",
       "      <td>0</td>\n",
       "      <td>0</td>\n",
       "      <td>0</td>\n",
       "      <td>0</td>\n",
       "      <td>...</td>\n",
       "      <td>0</td>\n",
       "      <td>0</td>\n",
       "      <td>0</td>\n",
       "      <td>0</td>\n",
       "      <td>0</td>\n",
       "      <td>0</td>\n",
       "      <td>0</td>\n",
       "      <td>0</td>\n",
       "      <td>0</td>\n",
       "      <td>None</td>\n",
       "    </tr>\n",
       "  </tbody>\n",
       "</table>\n",
       "<p>5 rows × 1168 columns</p>\n",
       "</div>"
      ],
      "text/plain": [
       "   Language      Family  (K, u)  (j, z)  (H, é)  (p, r)  (d, i)  (í, v)  \\\n",
       "0  Japanese  Chikanatsu       0       0       0       0       0       0   \n",
       "1  Japanese   Horigoshi       0       0       0       0       0       0   \n",
       "2  Japanese    Nonomura       0       0       0       0       0       0   \n",
       "3  Japanese      Hirano       0       0       0       0       0       0   \n",
       "4  Japanese      Ayugai       0       0       0       0       0       0   \n",
       "\n",
       "   (i, è)  (I, e)   ...    (e, h)  (s, i)  (', K)  (g, h)  (ß, e)  (e, j)  \\\n",
       "0       0       0   ...         0       0       0       0       0       0   \n",
       "1       0       0   ...         0       0       0       0       0       0   \n",
       "2       0       0   ...         0       0       0       0       0       0   \n",
       "3       0       0   ...         0       0       0       0       0       0   \n",
       "4       0       0   ...         0       0       0       0       0       0   \n",
       "\n",
       "   (í, g)  (d, à)  (m, u)  (s, a)  \n",
       "0       0       0       0    None  \n",
       "1       0       0       0    None  \n",
       "2       0       0       0    None  \n",
       "3       0       0       0    None  \n",
       "4       0       0       0    None  \n",
       "\n",
       "[5 rows x 1168 columns]"
      ]
     },
     "execution_count": 26,
     "metadata": {},
     "output_type": "execute_result"
    }
   ],
   "source": [
    "dftest.head()"
   ]
  },
  {
   "cell_type": "code",
   "execution_count": 27,
   "metadata": {
    "collapsed": true
   },
   "outputs": [],
   "source": [
    "df.drop('Language', axis=1, inplace=True)\n",
    "dftest.drop('Language', axis=1, inplace=True)\n",
    "df.drop('Family', axis=1, inplace=True)\n",
    "dftest.drop('Family', axis=1, inplace=True)"
   ]
  },
  {
   "cell_type": "code",
   "execution_count": 30,
   "metadata": {
    "collapsed": true
   },
   "outputs": [],
   "source": [
    "df.drop(('s', 'a'), axis=1, inplace=True)\n",
    "dftest.drop(('s', 'a'), axis=1, inplace=True)"
   ]
  },
  {
   "cell_type": "markdown",
   "metadata": {},
   "source": [
    "### Logistic Regression"
   ]
  },
  {
   "cell_type": "code",
   "execution_count": 31,
   "metadata": {
    "collapsed": true
   },
   "outputs": [],
   "source": [
    "from sklearn.metrics import auc, roc_curve\n",
    "from sklearn.linear_model import LogisticRegression"
   ]
  },
  {
   "cell_type": "code",
   "execution_count": 32,
   "metadata": {},
   "outputs": [],
   "source": [
    "clf = LogisticRegression(C=1)\n",
    "clf.fit(df, Y_train) \n",
    "y_pred_l = clf.predict(df)\n",
    "y_t_pred_l = clf.predict(dftest)"
   ]
  },
  {
   "cell_type": "code",
   "execution_count": 34,
   "metadata": {
    "collapsed": true
   },
   "outputs": [],
   "source": [
    "from sklearn.metrics import *"
   ]
  },
  {
   "cell_type": "code",
   "execution_count": 35,
   "metadata": {},
   "outputs": [
    {
     "name": "stdout",
     "output_type": "stream",
     "text": [
      "F1-measure:  0.035\n",
      "Accuracy:  0.469\n"
     ]
    },
    {
     "name": "stderr",
     "output_type": "stream",
     "text": [
      "/home/alexey/anaconda3/lib/python3.6/site-packages/sklearn/metrics/classification.py:1135: UndefinedMetricWarning: F-score is ill-defined and being set to 0.0 in labels with no predicted samples.\n",
      "  'precision', 'predicted', average, warn_for)\n"
     ]
    }
   ],
   "source": [
    "print(\"F1-measure: {0:6.3f}\".format(f1_score(Y_train, y_pred_l, average='macro')))\n",
    "print(\"Accuracy: {0:6.3f}\".format(accuracy_score(Y_train, y_pred_l)))"
   ]
  },
  {
   "cell_type": "code",
   "execution_count": 36,
   "metadata": {},
   "outputs": [
    {
     "name": "stdout",
     "output_type": "stream",
     "text": [
      "F1-measure:  0.035\n",
      "Accuracy:  0.469\n"
     ]
    },
    {
     "name": "stderr",
     "output_type": "stream",
     "text": [
      "/home/alexey/anaconda3/lib/python3.6/site-packages/sklearn/metrics/classification.py:1135: UndefinedMetricWarning: F-score is ill-defined and being set to 0.0 in labels with no predicted samples.\n",
      "  'precision', 'predicted', average, warn_for)\n"
     ]
    }
   ],
   "source": [
    "print(\"F1-measure: {0:6.3f}\".format(f1_score(Y_test, y_t_pred_l, average='macro')))\n",
    "print(\"Accuracy: {0:6.3f}\".format(accuracy_score(Y_test, y_t_pred_l)))"
   ]
  },
  {
   "cell_type": "markdown",
   "metadata": {},
   "source": [
    "### Random Forest"
   ]
  },
  {
   "cell_type": "code",
   "execution_count": 37,
   "metadata": {
    "collapsed": true
   },
   "outputs": [],
   "source": [
    "from sklearn.metrics import auc, roc_curve\n",
    "from sklearn.linear_model import LogisticRegression"
   ]
  },
  {
   "cell_type": "code",
   "execution_count": 38,
   "metadata": {},
   "outputs": [
    {
     "data": {
      "text/plain": [
       "RandomForestClassifier(bootstrap=True, class_weight=None, criterion='gini',\n",
       "            max_depth=15, max_features=0.8, max_leaf_nodes=None,\n",
       "            min_impurity_decrease=0.0, min_impurity_split=None,\n",
       "            min_samples_leaf=20, min_samples_split=2,\n",
       "            min_weight_fraction_leaf=0.0, n_estimators=200, n_jobs=-1,\n",
       "            oob_score=False, random_state=None, verbose=0,\n",
       "            warm_start=False)"
      ]
     },
     "execution_count": 38,
     "metadata": {},
     "output_type": "execute_result"
    }
   ],
   "source": [
    "from sklearn.ensemble import RandomForestClassifier\n",
    "clf_rf = RandomForestClassifier(n_estimators=200, max_depth=15, min_samples_leaf=20, max_features=0.8, n_jobs=-1)\n",
    "clf_rf.fit(df, Y_train)    "
   ]
  },
  {
   "cell_type": "code",
   "execution_count": 39,
   "metadata": {
    "collapsed": true
   },
   "outputs": [],
   "source": [
    "y_pred = clf_rf.predict(df)\n",
    "y_t_pred = clf_rf.predict(dftest)"
   ]
  },
  {
   "cell_type": "code",
   "execution_count": 40,
   "metadata": {
    "collapsed": true
   },
   "outputs": [],
   "source": [
    "from sklearn.metrics import accuracy_score\n",
    "from sklearn.metrics import f1_score"
   ]
  },
  {
   "cell_type": "code",
   "execution_count": 41,
   "metadata": {},
   "outputs": [
    {
     "name": "stdout",
     "output_type": "stream",
     "text": [
      "F1-measure:  0.035\n",
      "Accuracy:  0.469\n"
     ]
    },
    {
     "name": "stderr",
     "output_type": "stream",
     "text": [
      "/home/alexey/anaconda3/lib/python3.6/site-packages/sklearn/metrics/classification.py:1135: UndefinedMetricWarning: F-score is ill-defined and being set to 0.0 in labels with no predicted samples.\n",
      "  'precision', 'predicted', average, warn_for)\n"
     ]
    }
   ],
   "source": [
    "print(\"F1-measure: {0:6.3f}\".format(f1_score(Y_train, y_pred, average='macro')))\n",
    "print(\"Accuracy: {0:6.3f}\".format(accuracy_score(Y_train, y_pred)))"
   ]
  },
  {
   "cell_type": "code",
   "execution_count": 42,
   "metadata": {
    "scrolled": true
   },
   "outputs": [
    {
     "name": "stdout",
     "output_type": "stream",
     "text": [
      "F1-measure:  0.035\n",
      "Accuracy:  0.469\n"
     ]
    },
    {
     "name": "stderr",
     "output_type": "stream",
     "text": [
      "/home/alexey/anaconda3/lib/python3.6/site-packages/sklearn/metrics/classification.py:1135: UndefinedMetricWarning: F-score is ill-defined and being set to 0.0 in labels with no predicted samples.\n",
      "  'precision', 'predicted', average, warn_for)\n"
     ]
    }
   ],
   "source": [
    "print(\"F1-measure: {0:6.3f}\".format(f1_score(Y_test, y_t_pred, average='macro')))\n",
    "print(\"Accuracy: {0:6.3f}\".format(accuracy_score(Y_test, y_t_pred)))"
   ]
  },
  {
   "cell_type": "markdown",
   "metadata": {},
   "source": [
    "## N=3"
   ]
  },
  {
   "cell_type": "markdown",
   "metadata": {},
   "source": [
    "Заводим новые датафреймы для обучения и для теста для n-грамм состоящих из трех символов"
   ]
  },
  {
   "cell_type": "code",
   "execution_count": 43,
   "metadata": {
    "collapsed": true
   },
   "outputs": [],
   "source": [
    "columns = ['Language', 'Family']\n",
    "dftrain3 = pd.DataFrame(columns=columns) \n",
    "dftest3 = pd.DataFrame(columns=columns) "
   ]
  },
  {
   "cell_type": "code",
   "execution_count": 44,
   "metadata": {},
   "outputs": [
    {
     "data": {
      "text/html": [
       "<div>\n",
       "<style>\n",
       "    .dataframe thead tr:only-child th {\n",
       "        text-align: right;\n",
       "    }\n",
       "\n",
       "    .dataframe thead th {\n",
       "        text-align: left;\n",
       "    }\n",
       "\n",
       "    .dataframe tbody tr th {\n",
       "        vertical-align: top;\n",
       "    }\n",
       "</style>\n",
       "<table border=\"1\" class=\"dataframe\">\n",
       "  <thead>\n",
       "    <tr style=\"text-align: right;\">\n",
       "      <th></th>\n",
       "      <th>Language</th>\n",
       "      <th>Family</th>\n",
       "    </tr>\n",
       "  </thead>\n",
       "  <tbody>\n",
       "    <tr>\n",
       "      <th>0</th>\n",
       "      <td>Japanese</td>\n",
       "      <td>Sada</td>\n",
       "    </tr>\n",
       "    <tr>\n",
       "      <th>1</th>\n",
       "      <td>Japanese</td>\n",
       "      <td>Isoda</td>\n",
       "    </tr>\n",
       "    <tr>\n",
       "      <th>2</th>\n",
       "      <td>Japanese</td>\n",
       "      <td>Takaoka</td>\n",
       "    </tr>\n",
       "    <tr>\n",
       "      <th>3</th>\n",
       "      <td>Japanese</td>\n",
       "      <td>Shige</td>\n",
       "    </tr>\n",
       "    <tr>\n",
       "      <th>4</th>\n",
       "      <td>Japanese</td>\n",
       "      <td>Shikuk</td>\n",
       "    </tr>\n",
       "  </tbody>\n",
       "</table>\n",
       "</div>"
      ],
      "text/plain": [
       "   Language   Family\n",
       "0  Japanese     Sada\n",
       "1  Japanese    Isoda\n",
       "2  Japanese  Takaoka\n",
       "3  Japanese    Shige\n",
       "4  Japanese   Shikuk"
      ]
     },
     "execution_count": 44,
     "metadata": {},
     "output_type": "execute_result"
    }
   ],
   "source": [
    "for cat in train:\n",
    "    category=train[cat]\n",
    "    for f in category:\n",
    "        dftrain3.loc[len(dftrain3)]=[cat, f] \n",
    "dftrain3.head()"
   ]
  },
  {
   "cell_type": "code",
   "execution_count": 45,
   "metadata": {},
   "outputs": [
    {
     "data": {
      "text/html": [
       "<div>\n",
       "<style>\n",
       "    .dataframe thead tr:only-child th {\n",
       "        text-align: right;\n",
       "    }\n",
       "\n",
       "    .dataframe thead th {\n",
       "        text-align: left;\n",
       "    }\n",
       "\n",
       "    .dataframe tbody tr th {\n",
       "        vertical-align: top;\n",
       "    }\n",
       "</style>\n",
       "<table border=\"1\" class=\"dataframe\">\n",
       "  <thead>\n",
       "    <tr style=\"text-align: right;\">\n",
       "      <th></th>\n",
       "      <th>Language</th>\n",
       "      <th>Family</th>\n",
       "    </tr>\n",
       "  </thead>\n",
       "  <tbody>\n",
       "    <tr>\n",
       "      <th>0</th>\n",
       "      <td>Japanese</td>\n",
       "      <td>Sada</td>\n",
       "    </tr>\n",
       "    <tr>\n",
       "      <th>1</th>\n",
       "      <td>Japanese</td>\n",
       "      <td>Isoda</td>\n",
       "    </tr>\n",
       "    <tr>\n",
       "      <th>2</th>\n",
       "      <td>Japanese</td>\n",
       "      <td>Takaoka</td>\n",
       "    </tr>\n",
       "    <tr>\n",
       "      <th>3</th>\n",
       "      <td>Japanese</td>\n",
       "      <td>Shige</td>\n",
       "    </tr>\n",
       "    <tr>\n",
       "      <th>4</th>\n",
       "      <td>Japanese</td>\n",
       "      <td>Shikuk</td>\n",
       "    </tr>\n",
       "  </tbody>\n",
       "</table>\n",
       "</div>"
      ],
      "text/plain": [
       "   Language   Family\n",
       "0  Japanese     Sada\n",
       "1  Japanese    Isoda\n",
       "2  Japanese  Takaoka\n",
       "3  Japanese    Shige\n",
       "4  Japanese   Shikuk"
      ]
     },
     "execution_count": 45,
     "metadata": {},
     "output_type": "execute_result"
    }
   ],
   "source": [
    "for cat in train:\n",
    "    category=train[cat]\n",
    "    for f in category:\n",
    "        dftest3.loc[len(dftest3)]=[cat, f] \n",
    "dftest3.head()"
   ]
  },
  {
   "cell_type": "code",
   "execution_count": 46,
   "metadata": {
    "collapsed": true
   },
   "outputs": [],
   "source": [
    "n=3"
   ]
  },
  {
   "cell_type": "markdown",
   "metadata": {},
   "source": [
    "Разбиваем слова на n-граммы, записываем все в словарь, а так же создаем список n-грамм"
   ]
  },
  {
   "cell_type": "code",
   "execution_count": 47,
   "metadata": {},
   "outputs": [
    {
     "name": "stderr",
     "output_type": "stream",
     "text": [
      "100%|██████████| 18/18 [00:00<00:00, 142.27it/s]\n"
     ]
    }
   ],
   "source": [
    "train_ng=dict()\n",
    "names=set()\n",
    "for cat in tqdm(train):\n",
    "    category=train[cat]\n",
    "    cat_ng=dict()\n",
    "    for f in category:\n",
    "        ngs=[ng for ng in nltk.ngrams(f, n)]\n",
    "        cat_ng[f]=ngs\n",
    "        for ng in ngs:\n",
    "            names.add(ng)\n",
    "    train_ng[cat]=cat_ng"
   ]
  },
  {
   "cell_type": "code",
   "execution_count": 48,
   "metadata": {
    "collapsed": true
   },
   "outputs": [],
   "source": [
    "test_ng=dict()\n",
    "for cat in tqdm(test):\n",
    "    category=test[cat]\n",
    "    cat_ng=dict()\n",
    "    for f in category:\n",
    "        ngs=[ng for ng in nltk.ngrams(f, n)]\n",
    "        cat_ng[f]=ngs\n",
    "        for ng in ngs:\n",
    "            names.add(ng)\n",
    "    test_ng[cat]=cat_ng"
   ]
  },
  {
   "cell_type": "code",
   "execution_count": 49,
   "metadata": {},
   "outputs": [],
   "source": [
    "#Заполняем нулями обучающую матрицу\n",
    "for name in tqdm(names):\n",
    "    dftrain3[name]=dftrain3.fillna(0, inplace=True)"
   ]
  },
  {
   "cell_type": "code",
   "execution_count": 50,
   "metadata": {},
   "outputs": [
    {
     "name": "stderr",
     "output_type": "stream",
     "text": [
      "100%|██████████| 8221/8221 [1:19:03<00:00,  1.73it/s]\n"
     ]
    }
   ],
   "source": [
    "#Заполняем нулями тестовую матрицу\n",
    "for name in tqdm(names):\n",
    "    dftest3[name]=dftest3.fillna(0, inplace=True)"
   ]
  },
  {
   "cell_type": "code",
   "execution_count": 51,
   "metadata": {},
   "outputs": [
    {
     "name": "stderr",
     "output_type": "stream",
     "text": [
      "\r",
      "  0%|          | 0/18 [00:00<?, ?it/s]"
     ]
    },
    {
     "name": "stdout",
     "output_type": "stream",
     "text": [
      "CPU times: user 3 µs, sys: 0 ns, total: 3 µs\n",
      "Wall time: 4.53 µs\n"
     ]
    },
    {
     "name": "stderr",
     "output_type": "stream",
     "text": [
      "100%|██████████| 18/18 [06:57<00:00, 23.22s/it]\n"
     ]
    }
   ],
   "source": [
    "%time\n",
    "#Заполняем 1 поля на пересечении фамилии и входящей в ее состав n-граммы в обучающей выборке\n",
    "for cat in tqdm(all_categories):\n",
    "    family = train_ng[cat]\n",
    "    for f in family:\n",
    "        ngs=family[f]\n",
    "        for ng in ngs:\n",
    "            dftrain3.loc[(dftrain3['Language'] == cat) & (dftrain3['Family'] == family), ng] = 1"
   ]
  },
  {
   "cell_type": "code",
   "execution_count": 52,
   "metadata": {},
   "outputs": [
    {
     "name": "stderr",
     "output_type": "stream",
     "text": [
      "100%|██████████| 18/18 [01:52<00:00,  6.28s/it]\n"
     ]
    }
   ],
   "source": [
    "#Заполняем 1 поля на пересечении фамилии и входящей в ее состав n-граммы в тестовой выборке\n",
    "for cat in tqdm(all_categories):\n",
    "    family = test_ng[cat]\n",
    "    for f in family:\n",
    "        ngs=family[f]\n",
    "        for ng in ngs:\n",
    "            dftest3.loc[(dftest3['Language'] == cat) & (dftest3['Family'] == family), ng] = 1"
   ]
  },
  {
   "cell_type": "markdown",
   "metadata": {},
   "source": [
    "### Отделяем целевую переменную"
   ]
  },
  {
   "cell_type": "code",
   "execution_count": 53,
   "metadata": {
    "collapsed": true
   },
   "outputs": [],
   "source": [
    "Y_train=dftrain3['Language']\n",
    "Y_test=dftest3['Language']"
   ]
  },
  {
   "cell_type": "code",
   "execution_count": 54,
   "metadata": {},
   "outputs": [
    {
     "data": {
      "text/html": [
       "<div>\n",
       "<style>\n",
       "    .dataframe thead tr:only-child th {\n",
       "        text-align: right;\n",
       "    }\n",
       "\n",
       "    .dataframe thead th {\n",
       "        text-align: left;\n",
       "    }\n",
       "\n",
       "    .dataframe tbody tr th {\n",
       "        vertical-align: top;\n",
       "    }\n",
       "</style>\n",
       "<table border=\"1\" class=\"dataframe\">\n",
       "  <thead>\n",
       "    <tr style=\"text-align: right;\">\n",
       "      <th></th>\n",
       "      <th>Language</th>\n",
       "      <th>Family</th>\n",
       "      <th>(A, l, p)</th>\n",
       "      <th>(H, i, c)</th>\n",
       "      <th>(l, b, y)</th>\n",
       "      <th>(r, d, v)</th>\n",
       "      <th>(t, r, i)</th>\n",
       "      <th>(e, o, g)</th>\n",
       "      <th>(l, f, e)</th>\n",
       "      <th>(d, e, l)</th>\n",
       "      <th>...</th>\n",
       "      <th>(v, g, o)</th>\n",
       "      <th>(T, a, v)</th>\n",
       "      <th>(P, e, d)</th>\n",
       "      <th>(k, n, e)</th>\n",
       "      <th>(N, a, n)</th>\n",
       "      <th>(V, o, u)</th>\n",
       "      <th>(N, u, t)</th>\n",
       "      <th>(a, s, a)</th>\n",
       "      <th>(H, ü, b)</th>\n",
       "      <th>(a, v, n)</th>\n",
       "    </tr>\n",
       "  </thead>\n",
       "  <tbody>\n",
       "    <tr>\n",
       "      <th>0</th>\n",
       "      <td>Japanese</td>\n",
       "      <td>Sada</td>\n",
       "      <td>0</td>\n",
       "      <td>0</td>\n",
       "      <td>0</td>\n",
       "      <td>0</td>\n",
       "      <td>0</td>\n",
       "      <td>0</td>\n",
       "      <td>0</td>\n",
       "      <td>0</td>\n",
       "      <td>...</td>\n",
       "      <td>0</td>\n",
       "      <td>0</td>\n",
       "      <td>0</td>\n",
       "      <td>0</td>\n",
       "      <td>0</td>\n",
       "      <td>0</td>\n",
       "      <td>0</td>\n",
       "      <td>0</td>\n",
       "      <td>0</td>\n",
       "      <td>None</td>\n",
       "    </tr>\n",
       "    <tr>\n",
       "      <th>1</th>\n",
       "      <td>Japanese</td>\n",
       "      <td>Isoda</td>\n",
       "      <td>0</td>\n",
       "      <td>0</td>\n",
       "      <td>0</td>\n",
       "      <td>0</td>\n",
       "      <td>0</td>\n",
       "      <td>0</td>\n",
       "      <td>0</td>\n",
       "      <td>0</td>\n",
       "      <td>...</td>\n",
       "      <td>0</td>\n",
       "      <td>0</td>\n",
       "      <td>0</td>\n",
       "      <td>0</td>\n",
       "      <td>0</td>\n",
       "      <td>0</td>\n",
       "      <td>0</td>\n",
       "      <td>0</td>\n",
       "      <td>0</td>\n",
       "      <td>None</td>\n",
       "    </tr>\n",
       "    <tr>\n",
       "      <th>2</th>\n",
       "      <td>Japanese</td>\n",
       "      <td>Takaoka</td>\n",
       "      <td>0</td>\n",
       "      <td>0</td>\n",
       "      <td>0</td>\n",
       "      <td>0</td>\n",
       "      <td>0</td>\n",
       "      <td>0</td>\n",
       "      <td>0</td>\n",
       "      <td>0</td>\n",
       "      <td>...</td>\n",
       "      <td>0</td>\n",
       "      <td>0</td>\n",
       "      <td>0</td>\n",
       "      <td>0</td>\n",
       "      <td>0</td>\n",
       "      <td>0</td>\n",
       "      <td>0</td>\n",
       "      <td>0</td>\n",
       "      <td>0</td>\n",
       "      <td>None</td>\n",
       "    </tr>\n",
       "    <tr>\n",
       "      <th>3</th>\n",
       "      <td>Japanese</td>\n",
       "      <td>Shige</td>\n",
       "      <td>0</td>\n",
       "      <td>0</td>\n",
       "      <td>0</td>\n",
       "      <td>0</td>\n",
       "      <td>0</td>\n",
       "      <td>0</td>\n",
       "      <td>0</td>\n",
       "      <td>0</td>\n",
       "      <td>...</td>\n",
       "      <td>0</td>\n",
       "      <td>0</td>\n",
       "      <td>0</td>\n",
       "      <td>0</td>\n",
       "      <td>0</td>\n",
       "      <td>0</td>\n",
       "      <td>0</td>\n",
       "      <td>0</td>\n",
       "      <td>0</td>\n",
       "      <td>None</td>\n",
       "    </tr>\n",
       "    <tr>\n",
       "      <th>4</th>\n",
       "      <td>Japanese</td>\n",
       "      <td>Shikuk</td>\n",
       "      <td>0</td>\n",
       "      <td>0</td>\n",
       "      <td>0</td>\n",
       "      <td>0</td>\n",
       "      <td>0</td>\n",
       "      <td>0</td>\n",
       "      <td>0</td>\n",
       "      <td>0</td>\n",
       "      <td>...</td>\n",
       "      <td>0</td>\n",
       "      <td>0</td>\n",
       "      <td>0</td>\n",
       "      <td>0</td>\n",
       "      <td>0</td>\n",
       "      <td>0</td>\n",
       "      <td>0</td>\n",
       "      <td>0</td>\n",
       "      <td>0</td>\n",
       "      <td>None</td>\n",
       "    </tr>\n",
       "  </tbody>\n",
       "</table>\n",
       "<p>5 rows × 8223 columns</p>\n",
       "</div>"
      ],
      "text/plain": [
       "   Language   Family  (A, l, p)  (H, i, c)  (l, b, y)  (r, d, v)  (t, r, i)  \\\n",
       "0  Japanese     Sada          0          0          0          0          0   \n",
       "1  Japanese    Isoda          0          0          0          0          0   \n",
       "2  Japanese  Takaoka          0          0          0          0          0   \n",
       "3  Japanese    Shige          0          0          0          0          0   \n",
       "4  Japanese   Shikuk          0          0          0          0          0   \n",
       "\n",
       "   (e, o, g)  (l, f, e)  (d, e, l)    ...      (v, g, o)  (T, a, v)  \\\n",
       "0          0          0          0    ...              0          0   \n",
       "1          0          0          0    ...              0          0   \n",
       "2          0          0          0    ...              0          0   \n",
       "3          0          0          0    ...              0          0   \n",
       "4          0          0          0    ...              0          0   \n",
       "\n",
       "   (P, e, d)  (k, n, e)  (N, a, n)  (V, o, u)  (N, u, t)  (a, s, a)  \\\n",
       "0          0          0          0          0          0          0   \n",
       "1          0          0          0          0          0          0   \n",
       "2          0          0          0          0          0          0   \n",
       "3          0          0          0          0          0          0   \n",
       "4          0          0          0          0          0          0   \n",
       "\n",
       "   (H, ü, b)  (a, v, n)  \n",
       "0          0       None  \n",
       "1          0       None  \n",
       "2          0       None  \n",
       "3          0       None  \n",
       "4          0       None  \n",
       "\n",
       "[5 rows x 8223 columns]"
      ]
     },
     "execution_count": 54,
     "metadata": {},
     "output_type": "execute_result"
    }
   ],
   "source": [
    "dftrain3.head()"
   ]
  },
  {
   "cell_type": "code",
   "execution_count": 55,
   "metadata": {
    "collapsed": true
   },
   "outputs": [],
   "source": [
    "dftrain3.drop('Language', axis=1, inplace=True)\n",
    "dftest3.drop('Language', axis=1, inplace=True)\n",
    "dftrain3.drop('Family', axis=1, inplace=True)\n",
    "dftest3.drop('Family', axis=1, inplace=True)\n",
    "dftrain3.drop(('a', 'v', 'n'), axis=1, inplace=True)\n",
    "dftest3.drop(('a', 'v', 'n'), axis=1, inplace=True)"
   ]
  },
  {
   "cell_type": "markdown",
   "metadata": {},
   "source": [
    "### Logistic Regression"
   ]
  },
  {
   "cell_type": "code",
   "execution_count": 56,
   "metadata": {},
   "outputs": [
    {
     "data": {
      "text/html": [
       "<div>\n",
       "<style>\n",
       "    .dataframe thead tr:only-child th {\n",
       "        text-align: right;\n",
       "    }\n",
       "\n",
       "    .dataframe thead th {\n",
       "        text-align: left;\n",
       "    }\n",
       "\n",
       "    .dataframe tbody tr th {\n",
       "        vertical-align: top;\n",
       "    }\n",
       "</style>\n",
       "<table border=\"1\" class=\"dataframe\">\n",
       "  <thead>\n",
       "    <tr style=\"text-align: right;\">\n",
       "      <th></th>\n",
       "      <th>(A, l, p)</th>\n",
       "      <th>(H, i, c)</th>\n",
       "      <th>(l, b, y)</th>\n",
       "      <th>(r, d, v)</th>\n",
       "      <th>(t, r, i)</th>\n",
       "      <th>(e, o, g)</th>\n",
       "      <th>(l, f, e)</th>\n",
       "      <th>(d, e, l)</th>\n",
       "      <th>(L, a, g)</th>\n",
       "      <th>(i, s, t)</th>\n",
       "      <th>...</th>\n",
       "      <th>(v, r, y)</th>\n",
       "      <th>(v, g, o)</th>\n",
       "      <th>(T, a, v)</th>\n",
       "      <th>(P, e, d)</th>\n",
       "      <th>(k, n, e)</th>\n",
       "      <th>(N, a, n)</th>\n",
       "      <th>(V, o, u)</th>\n",
       "      <th>(N, u, t)</th>\n",
       "      <th>(a, s, a)</th>\n",
       "      <th>(H, ü, b)</th>\n",
       "    </tr>\n",
       "  </thead>\n",
       "  <tbody>\n",
       "    <tr>\n",
       "      <th>0</th>\n",
       "      <td>0</td>\n",
       "      <td>0</td>\n",
       "      <td>0</td>\n",
       "      <td>0</td>\n",
       "      <td>0</td>\n",
       "      <td>0</td>\n",
       "      <td>0</td>\n",
       "      <td>0</td>\n",
       "      <td>0</td>\n",
       "      <td>0</td>\n",
       "      <td>...</td>\n",
       "      <td>0</td>\n",
       "      <td>0</td>\n",
       "      <td>0</td>\n",
       "      <td>0</td>\n",
       "      <td>0</td>\n",
       "      <td>0</td>\n",
       "      <td>0</td>\n",
       "      <td>0</td>\n",
       "      <td>0</td>\n",
       "      <td>0</td>\n",
       "    </tr>\n",
       "    <tr>\n",
       "      <th>1</th>\n",
       "      <td>0</td>\n",
       "      <td>0</td>\n",
       "      <td>0</td>\n",
       "      <td>0</td>\n",
       "      <td>0</td>\n",
       "      <td>0</td>\n",
       "      <td>0</td>\n",
       "      <td>0</td>\n",
       "      <td>0</td>\n",
       "      <td>0</td>\n",
       "      <td>...</td>\n",
       "      <td>0</td>\n",
       "      <td>0</td>\n",
       "      <td>0</td>\n",
       "      <td>0</td>\n",
       "      <td>0</td>\n",
       "      <td>0</td>\n",
       "      <td>0</td>\n",
       "      <td>0</td>\n",
       "      <td>0</td>\n",
       "      <td>0</td>\n",
       "    </tr>\n",
       "    <tr>\n",
       "      <th>2</th>\n",
       "      <td>0</td>\n",
       "      <td>0</td>\n",
       "      <td>0</td>\n",
       "      <td>0</td>\n",
       "      <td>0</td>\n",
       "      <td>0</td>\n",
       "      <td>0</td>\n",
       "      <td>0</td>\n",
       "      <td>0</td>\n",
       "      <td>0</td>\n",
       "      <td>...</td>\n",
       "      <td>0</td>\n",
       "      <td>0</td>\n",
       "      <td>0</td>\n",
       "      <td>0</td>\n",
       "      <td>0</td>\n",
       "      <td>0</td>\n",
       "      <td>0</td>\n",
       "      <td>0</td>\n",
       "      <td>0</td>\n",
       "      <td>0</td>\n",
       "    </tr>\n",
       "    <tr>\n",
       "      <th>3</th>\n",
       "      <td>0</td>\n",
       "      <td>0</td>\n",
       "      <td>0</td>\n",
       "      <td>0</td>\n",
       "      <td>0</td>\n",
       "      <td>0</td>\n",
       "      <td>0</td>\n",
       "      <td>0</td>\n",
       "      <td>0</td>\n",
       "      <td>0</td>\n",
       "      <td>...</td>\n",
       "      <td>0</td>\n",
       "      <td>0</td>\n",
       "      <td>0</td>\n",
       "      <td>0</td>\n",
       "      <td>0</td>\n",
       "      <td>0</td>\n",
       "      <td>0</td>\n",
       "      <td>0</td>\n",
       "      <td>0</td>\n",
       "      <td>0</td>\n",
       "    </tr>\n",
       "    <tr>\n",
       "      <th>4</th>\n",
       "      <td>0</td>\n",
       "      <td>0</td>\n",
       "      <td>0</td>\n",
       "      <td>0</td>\n",
       "      <td>0</td>\n",
       "      <td>0</td>\n",
       "      <td>0</td>\n",
       "      <td>0</td>\n",
       "      <td>0</td>\n",
       "      <td>0</td>\n",
       "      <td>...</td>\n",
       "      <td>0</td>\n",
       "      <td>0</td>\n",
       "      <td>0</td>\n",
       "      <td>0</td>\n",
       "      <td>0</td>\n",
       "      <td>0</td>\n",
       "      <td>0</td>\n",
       "      <td>0</td>\n",
       "      <td>0</td>\n",
       "      <td>0</td>\n",
       "    </tr>\n",
       "  </tbody>\n",
       "</table>\n",
       "<p>5 rows × 8220 columns</p>\n",
       "</div>"
      ],
      "text/plain": [
       "   (A, l, p)  (H, i, c)  (l, b, y)  (r, d, v)  (t, r, i)  (e, o, g)  \\\n",
       "0          0          0          0          0          0          0   \n",
       "1          0          0          0          0          0          0   \n",
       "2          0          0          0          0          0          0   \n",
       "3          0          0          0          0          0          0   \n",
       "4          0          0          0          0          0          0   \n",
       "\n",
       "   (l, f, e)  (d, e, l)  (L, a, g)  (i, s, t)    ...      (v, r, y)  \\\n",
       "0          0          0          0          0    ...              0   \n",
       "1          0          0          0          0    ...              0   \n",
       "2          0          0          0          0    ...              0   \n",
       "3          0          0          0          0    ...              0   \n",
       "4          0          0          0          0    ...              0   \n",
       "\n",
       "   (v, g, o)  (T, a, v)  (P, e, d)  (k, n, e)  (N, a, n)  (V, o, u)  \\\n",
       "0          0          0          0          0          0          0   \n",
       "1          0          0          0          0          0          0   \n",
       "2          0          0          0          0          0          0   \n",
       "3          0          0          0          0          0          0   \n",
       "4          0          0          0          0          0          0   \n",
       "\n",
       "   (N, u, t)  (a, s, a)  (H, ü, b)  \n",
       "0          0          0          0  \n",
       "1          0          0          0  \n",
       "2          0          0          0  \n",
       "3          0          0          0  \n",
       "4          0          0          0  \n",
       "\n",
       "[5 rows x 8220 columns]"
      ]
     },
     "execution_count": 56,
     "metadata": {},
     "output_type": "execute_result"
    }
   ],
   "source": [
    "dftest3.head()"
   ]
  },
  {
   "cell_type": "code",
   "execution_count": 58,
   "metadata": {
    "collapsed": true
   },
   "outputs": [],
   "source": [
    "clf = LogisticRegression(C=1)\n",
    "clf.fit(dftrain3, Y_train) \n",
    "y_pred_l = clf.predict(dftrain3)\n",
    "y_t_pred_l = clf.predict(dftest3)"
   ]
  },
  {
   "cell_type": "code",
   "execution_count": 59,
   "metadata": {},
   "outputs": [
    {
     "name": "stdout",
     "output_type": "stream",
     "text": [
      "F1-measure:  0.035\n",
      "Accuracy:  0.469\n"
     ]
    },
    {
     "name": "stderr",
     "output_type": "stream",
     "text": [
      "/home/alexey/anaconda3/lib/python3.6/site-packages/sklearn/metrics/classification.py:1135: UndefinedMetricWarning: F-score is ill-defined and being set to 0.0 in labels with no predicted samples.\n",
      "  'precision', 'predicted', average, warn_for)\n"
     ]
    }
   ],
   "source": [
    "print(\"F1-measure: {0:6.3f}\".format(f1_score(Y_train, y_pred_l, average='macro')))\n",
    "print(\"Accuracy: {0:6.3f}\".format(accuracy_score(Y_train, y_pred_l)))"
   ]
  },
  {
   "cell_type": "code",
   "execution_count": 60,
   "metadata": {},
   "outputs": [
    {
     "name": "stdout",
     "output_type": "stream",
     "text": [
      "F1-measure:  0.035\n",
      "Accuracy:  0.469\n"
     ]
    },
    {
     "name": "stderr",
     "output_type": "stream",
     "text": [
      "/home/alexey/anaconda3/lib/python3.6/site-packages/sklearn/metrics/classification.py:1135: UndefinedMetricWarning: F-score is ill-defined and being set to 0.0 in labels with no predicted samples.\n",
      "  'precision', 'predicted', average, warn_for)\n"
     ]
    }
   ],
   "source": [
    "print(\"F1-measure: {0:6.3f}\".format(f1_score(Y_test, y_t_pred_l, average='macro')))\n",
    "print(\"Accuracy: {0:6.3f}\".format(accuracy_score(Y_test, y_t_pred_l)))"
   ]
  },
  {
   "cell_type": "markdown",
   "metadata": {},
   "source": [
    "### Random Forest"
   ]
  },
  {
   "cell_type": "code",
   "execution_count": 61,
   "metadata": {},
   "outputs": [
    {
     "data": {
      "text/plain": [
       "RandomForestClassifier(bootstrap=True, class_weight=None, criterion='gini',\n",
       "            max_depth=15, max_features=0.8, max_leaf_nodes=None,\n",
       "            min_impurity_decrease=0.0, min_impurity_split=None,\n",
       "            min_samples_leaf=20, min_samples_split=2,\n",
       "            min_weight_fraction_leaf=0.0, n_estimators=200, n_jobs=-1,\n",
       "            oob_score=False, random_state=None, verbose=0,\n",
       "            warm_start=False)"
      ]
     },
     "execution_count": 61,
     "metadata": {},
     "output_type": "execute_result"
    }
   ],
   "source": [
    "clf_rf = RandomForestClassifier(n_estimators=200, max_depth=15, min_samples_leaf=20, max_features=0.8, n_jobs=-1)\n",
    "clf_rf.fit(dftrain3, Y_train)    "
   ]
  },
  {
   "cell_type": "code",
   "execution_count": 62,
   "metadata": {
    "collapsed": true
   },
   "outputs": [],
   "source": [
    "y_pred = clf_rf.predict(dftrain3)\n",
    "y_t_pred = clf_rf.predict(dftest3)"
   ]
  },
  {
   "cell_type": "code",
   "execution_count": 63,
   "metadata": {},
   "outputs": [
    {
     "name": "stdout",
     "output_type": "stream",
     "text": [
      "F1-measure:  0.035\n",
      "Accuracy:  0.469\n"
     ]
    },
    {
     "name": "stderr",
     "output_type": "stream",
     "text": [
      "/home/alexey/anaconda3/lib/python3.6/site-packages/sklearn/metrics/classification.py:1135: UndefinedMetricWarning: F-score is ill-defined and being set to 0.0 in labels with no predicted samples.\n",
      "  'precision', 'predicted', average, warn_for)\n"
     ]
    }
   ],
   "source": [
    "print(\"F1-measure: {0:6.3f}\".format(f1_score(Y_train, y_pred, average='macro')))\n",
    "print(\"Accuracy: {0:6.3f}\".format(accuracy_score(Y_train, y_pred)))"
   ]
  },
  {
   "cell_type": "code",
   "execution_count": 64,
   "metadata": {},
   "outputs": [
    {
     "name": "stdout",
     "output_type": "stream",
     "text": [
      "F1-measure:  0.035\n",
      "Accuracy:  0.469\n"
     ]
    },
    {
     "name": "stderr",
     "output_type": "stream",
     "text": [
      "/home/alexey/anaconda3/lib/python3.6/site-packages/sklearn/metrics/classification.py:1135: UndefinedMetricWarning: F-score is ill-defined and being set to 0.0 in labels with no predicted samples.\n",
      "  'precision', 'predicted', average, warn_for)\n"
     ]
    }
   ],
   "source": [
    "print(\"F1-measure: {0:6.3f}\".format(f1_score(Y_test, y_t_pred, average='macro')))\n",
    "print(\"Accuracy: {0:6.3f}\".format(accuracy_score(Y_test, y_t_pred)))"
   ]
  },
  {
   "cell_type": "markdown",
   "metadata": {},
   "source": [
    "##  Часть 3. Нейронная сеть [35 баллов]\n",
    "\n",
    "\n",
    "Используйте  реккурентную нейронную сеть с  LSTM для решения задачи. В ней может быть несколько слоев с LSTM, несколько слоев c Bidirectional(LSTM).  У нейронной сети один выход, определяющий класс фамилии. \n",
    "\n",
    "Представление имени для классификации в этом случае: \n",
    "1 вариант: бинарная матрица размера (количество букв в корпусе $\\times$ максимальная длина имени). Обозначим его через $x$. Если первая буква имени a, то $x[1][1] = 1$, если вторая – b, то  $x[2][1] = 1$. То есть, используем one hot encoding для векторизации букв.  \n",
    "2 вариант: Embedding'и символов. \n",
    "\n",
    "Выберите тот вариант, который вам проще или интереснее реализовать :) \n",
    "\n",
    "Не забудьте про регуляризацию нейронной сети дропаутами. \n",
    "\n",
    "Сравните результаты классификации разными методами по accuracy, micro- и macro- F-measure, precision, recall. Какой метод лучше и почему?\n",
    "\n",
    "Сравните результаты, получаемые при разных значениях дропаута, разных числах узлов на слоях нейронной сети по $F$-мере и аккуратности. В каких случаях нейронная сеть ошибается?"
   ]
  },
  {
   "cell_type": "markdown",
   "metadata": {},
   "source": [
    "Если совсем не получается запрограммировать нейронную сеть самостоятельно, обратитесь к туториалу тут: https://github.com/divamgupta/lstm-gender-predictor"
   ]
  },
  {
   "cell_type": "markdown",
   "metadata": {},
   "source": [
    "##  Часть 4. Генерация фамилии [35 баллов]\n",
    "\n",
    "Используйте архитектуру нейронной сети из Части 3 для генерации имени. В этот момент можно забыть про разбиение коллекции на обучающее и тестовое множество. \n",
    "\n",
    "Рассмотрите два сценария генерация имени:\n",
    "* обучение нейронной сети по всей коллекции\n",
    "* обучение нейронной сети с обуславливанием на язык\n",
    "\n",
    "Для обуславливания на язык нужно изменить векторное представление фамилии. До этого момента мы разбивали фамилию на отдельные символы и находили векторное представление каждого символа. Теперь добавим в начало фамилии метку языка и будем ее считать первым символов фамилии. Так нейронная сеть научиться понимать, на каком языке написана фамилия. \n",
    "\n",
    "Пример: ```[rus bos i v a n o v eos pad pad pad]```\n",
    "\n",
    "Когда будем генерировать новую фамилию, будем начинать процесс генерации не с символа начала последовательности ```bos```, а с символа языка и символа начала последовательности ```rus bos```. \n",
    "\n",
    "Привидите несколько примеров удачно сгенерированных фамилий. "
   ]
  }
 ],
 "metadata": {
  "kernelspec": {
   "display_name": "Python 3",
   "language": "python",
   "name": "python3"
  },
  "language_info": {
   "codemirror_mode": {
    "name": "ipython",
    "version": 3
   },
   "file_extension": ".py",
   "mimetype": "text/x-python",
   "name": "python",
   "nbconvert_exporter": "python",
   "pygments_lexer": "ipython3",
   "version": "3.6.3"
  }
 },
 "nbformat": 4,
 "nbformat_minor": 2
}
