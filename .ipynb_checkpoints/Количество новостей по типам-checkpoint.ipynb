{
 "cells": [
  {
   "cell_type": "markdown",
   "metadata": {},
   "source": [
    "## Количество новостей по типам"
   ]
  },
  {
   "cell_type": "code",
   "execution_count": 9,
   "metadata": {
    "collapsed": true
   },
   "outputs": [],
   "source": [
    "# https://docs.python.org/2/library/re.html#re.compile\n",
    "import re\n",
    "\n",
    "# шаблон страницы новостей (любые символы, потом / и 8 цифр подряд)\n",
    "# http://www.petefreitag.com/cheatsheets/regex/\n",
    "pattern = '.*/[0-9]{8}'\n",
    "prog = re.compile( pattern )"
   ]
  },
  {
   "cell_type": "code",
   "execution_count": 16,
   "metadata": {},
   "outputs": [
    {
     "name": "stdout",
     "output_type": "stream",
     "text": [
      "politics 10\n",
      "world 8\n",
      "science 5\n",
      "video 10\n",
      "middleeast 3\n",
      "economics 3\n",
      "travel 1\n",
      "starlife 12\n",
      "health 2\n",
      "cis 4\n",
      "incidents 5\n",
      "sport 2\n",
      "crazy-world 2\n",
      "business 4\n",
      "head 2\n",
      "articles 7\n",
      "finances 1\n",
      "europe 1\n",
      "kinomusic 1\n",
      "lifestyle 1\n"
     ]
    }
   ],
   "source": [
    "# Создаем словарь news, ключами в котором будут типы новостей,\n",
    "# а значениями количество новостей\n",
    "news={}\n",
    "\n",
    "with open('URLs.txt', 'r') as f:\n",
    "    \n",
    "    for line in f:\n",
    "        # убираем символ переноса строки для каждой читаемой строчки\n",
    "        line = line.strip()\n",
    "        \n",
    "        # если текст строки удовлетворяем регулярному выражению pattern, то смотрим, \n",
    "        #какой тематики была новость. Тематику выбираем как строку начинающуюся и заканчивающуюся \n",
    "        #символом '/'\n",
    "        if prog.match( line ):\n",
    "            k1=line.find('/')\n",
    "            str=line[k1+1:]\n",
    "            k2=str.find('/')\n",
    "            str=str[:k2]\n",
    "            #производим добавление 1 к типу новостей, если новостей указанного типа еще не было,\n",
    "            #то news.get(str, 0) вернет значение 0, в словаре создастся новая запись со значением 1\n",
    "            news[str]=news.get(str, 0)+1\n",
    "            \n",
    "#Выводим значения словаря\n",
    "for elem in news:\n",
    "    print (elem, news[elem])"
   ]
  },
  {
   "cell_type": "code",
   "execution_count": null,
   "metadata": {
    "collapsed": true
   },
   "outputs": [],
   "source": []
  }
 ],
 "metadata": {
  "kernelspec": {
   "display_name": "Python 3",
   "language": "python",
   "name": "python3"
  },
  "language_info": {
   "codemirror_mode": {
    "name": "ipython",
    "version": 3
   },
   "file_extension": ".py",
   "mimetype": "text/x-python",
   "name": "python",
   "nbconvert_exporter": "python",
   "pygments_lexer": "ipython3",
   "version": "3.6.3"
  }
 },
 "nbformat": 4,
 "nbformat_minor": 2
}
