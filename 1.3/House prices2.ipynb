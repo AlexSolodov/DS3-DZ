{
 "cells": [
  {
   "cell_type": "markdown",
   "metadata": {},
   "source": [
    "# Предсказание цены на недвижимость \n",
    "\n",
    "Соревнование Kaggle: https://www.kaggle.com/c/house-prices-advanced-regression-techniques"
   ]
  },
  {
   "cell_type": "markdown",
   "metadata": {},
   "source": [
    "### Данные"
   ]
  },
  {
   "cell_type": "code",
   "execution_count": 1,
   "metadata": {
    "collapsed": true
   },
   "outputs": [],
   "source": [
    "#Загружаем pandas и numpy\n",
    "import pandas as pd\n",
    "import numpy as np"
   ]
  },
  {
   "cell_type": "code",
   "execution_count": 2,
   "metadata": {
    "collapsed": true
   },
   "outputs": [],
   "source": [
    "#Загружаем данные из учебной выборке и те, которые нужно предсказать в соревновании\n",
    "X = pd.read_csv('train.csv')\n",
    "X_pred = pd.read_csv('test.csv')"
   ]
  },
  {
   "cell_type": "code",
   "execution_count": 3,
   "metadata": {},
   "outputs": [
    {
     "data": {
      "text/html": [
       "<div>\n",
       "<style>\n",
       "    .dataframe thead tr:only-child th {\n",
       "        text-align: right;\n",
       "    }\n",
       "\n",
       "    .dataframe thead th {\n",
       "        text-align: left;\n",
       "    }\n",
       "\n",
       "    .dataframe tbody tr th {\n",
       "        vertical-align: top;\n",
       "    }\n",
       "</style>\n",
       "<table border=\"1\" class=\"dataframe\">\n",
       "  <thead>\n",
       "    <tr style=\"text-align: right;\">\n",
       "      <th></th>\n",
       "      <th>Id</th>\n",
       "      <th>MSSubClass</th>\n",
       "      <th>MSZoning</th>\n",
       "      <th>LotFrontage</th>\n",
       "      <th>LotArea</th>\n",
       "      <th>Street</th>\n",
       "      <th>Alley</th>\n",
       "      <th>LotShape</th>\n",
       "      <th>LandContour</th>\n",
       "      <th>Utilities</th>\n",
       "      <th>...</th>\n",
       "      <th>PoolArea</th>\n",
       "      <th>PoolQC</th>\n",
       "      <th>Fence</th>\n",
       "      <th>MiscFeature</th>\n",
       "      <th>MiscVal</th>\n",
       "      <th>MoSold</th>\n",
       "      <th>YrSold</th>\n",
       "      <th>SaleType</th>\n",
       "      <th>SaleCondition</th>\n",
       "      <th>SalePrice</th>\n",
       "    </tr>\n",
       "  </thead>\n",
       "  <tbody>\n",
       "    <tr>\n",
       "      <th>0</th>\n",
       "      <td>1</td>\n",
       "      <td>60</td>\n",
       "      <td>RL</td>\n",
       "      <td>65.0</td>\n",
       "      <td>8450</td>\n",
       "      <td>Pave</td>\n",
       "      <td>NaN</td>\n",
       "      <td>Reg</td>\n",
       "      <td>Lvl</td>\n",
       "      <td>AllPub</td>\n",
       "      <td>...</td>\n",
       "      <td>0</td>\n",
       "      <td>NaN</td>\n",
       "      <td>NaN</td>\n",
       "      <td>NaN</td>\n",
       "      <td>0</td>\n",
       "      <td>2</td>\n",
       "      <td>2008</td>\n",
       "      <td>WD</td>\n",
       "      <td>Normal</td>\n",
       "      <td>208500</td>\n",
       "    </tr>\n",
       "    <tr>\n",
       "      <th>1</th>\n",
       "      <td>2</td>\n",
       "      <td>20</td>\n",
       "      <td>RL</td>\n",
       "      <td>80.0</td>\n",
       "      <td>9600</td>\n",
       "      <td>Pave</td>\n",
       "      <td>NaN</td>\n",
       "      <td>Reg</td>\n",
       "      <td>Lvl</td>\n",
       "      <td>AllPub</td>\n",
       "      <td>...</td>\n",
       "      <td>0</td>\n",
       "      <td>NaN</td>\n",
       "      <td>NaN</td>\n",
       "      <td>NaN</td>\n",
       "      <td>0</td>\n",
       "      <td>5</td>\n",
       "      <td>2007</td>\n",
       "      <td>WD</td>\n",
       "      <td>Normal</td>\n",
       "      <td>181500</td>\n",
       "    </tr>\n",
       "    <tr>\n",
       "      <th>2</th>\n",
       "      <td>3</td>\n",
       "      <td>60</td>\n",
       "      <td>RL</td>\n",
       "      <td>68.0</td>\n",
       "      <td>11250</td>\n",
       "      <td>Pave</td>\n",
       "      <td>NaN</td>\n",
       "      <td>IR1</td>\n",
       "      <td>Lvl</td>\n",
       "      <td>AllPub</td>\n",
       "      <td>...</td>\n",
       "      <td>0</td>\n",
       "      <td>NaN</td>\n",
       "      <td>NaN</td>\n",
       "      <td>NaN</td>\n",
       "      <td>0</td>\n",
       "      <td>9</td>\n",
       "      <td>2008</td>\n",
       "      <td>WD</td>\n",
       "      <td>Normal</td>\n",
       "      <td>223500</td>\n",
       "    </tr>\n",
       "    <tr>\n",
       "      <th>3</th>\n",
       "      <td>4</td>\n",
       "      <td>70</td>\n",
       "      <td>RL</td>\n",
       "      <td>60.0</td>\n",
       "      <td>9550</td>\n",
       "      <td>Pave</td>\n",
       "      <td>NaN</td>\n",
       "      <td>IR1</td>\n",
       "      <td>Lvl</td>\n",
       "      <td>AllPub</td>\n",
       "      <td>...</td>\n",
       "      <td>0</td>\n",
       "      <td>NaN</td>\n",
       "      <td>NaN</td>\n",
       "      <td>NaN</td>\n",
       "      <td>0</td>\n",
       "      <td>2</td>\n",
       "      <td>2006</td>\n",
       "      <td>WD</td>\n",
       "      <td>Abnorml</td>\n",
       "      <td>140000</td>\n",
       "    </tr>\n",
       "    <tr>\n",
       "      <th>4</th>\n",
       "      <td>5</td>\n",
       "      <td>60</td>\n",
       "      <td>RL</td>\n",
       "      <td>84.0</td>\n",
       "      <td>14260</td>\n",
       "      <td>Pave</td>\n",
       "      <td>NaN</td>\n",
       "      <td>IR1</td>\n",
       "      <td>Lvl</td>\n",
       "      <td>AllPub</td>\n",
       "      <td>...</td>\n",
       "      <td>0</td>\n",
       "      <td>NaN</td>\n",
       "      <td>NaN</td>\n",
       "      <td>NaN</td>\n",
       "      <td>0</td>\n",
       "      <td>12</td>\n",
       "      <td>2008</td>\n",
       "      <td>WD</td>\n",
       "      <td>Normal</td>\n",
       "      <td>250000</td>\n",
       "    </tr>\n",
       "    <tr>\n",
       "      <th>5</th>\n",
       "      <td>6</td>\n",
       "      <td>50</td>\n",
       "      <td>RL</td>\n",
       "      <td>85.0</td>\n",
       "      <td>14115</td>\n",
       "      <td>Pave</td>\n",
       "      <td>NaN</td>\n",
       "      <td>IR1</td>\n",
       "      <td>Lvl</td>\n",
       "      <td>AllPub</td>\n",
       "      <td>...</td>\n",
       "      <td>0</td>\n",
       "      <td>NaN</td>\n",
       "      <td>MnPrv</td>\n",
       "      <td>Shed</td>\n",
       "      <td>700</td>\n",
       "      <td>10</td>\n",
       "      <td>2009</td>\n",
       "      <td>WD</td>\n",
       "      <td>Normal</td>\n",
       "      <td>143000</td>\n",
       "    </tr>\n",
       "    <tr>\n",
       "      <th>6</th>\n",
       "      <td>7</td>\n",
       "      <td>20</td>\n",
       "      <td>RL</td>\n",
       "      <td>75.0</td>\n",
       "      <td>10084</td>\n",
       "      <td>Pave</td>\n",
       "      <td>NaN</td>\n",
       "      <td>Reg</td>\n",
       "      <td>Lvl</td>\n",
       "      <td>AllPub</td>\n",
       "      <td>...</td>\n",
       "      <td>0</td>\n",
       "      <td>NaN</td>\n",
       "      <td>NaN</td>\n",
       "      <td>NaN</td>\n",
       "      <td>0</td>\n",
       "      <td>8</td>\n",
       "      <td>2007</td>\n",
       "      <td>WD</td>\n",
       "      <td>Normal</td>\n",
       "      <td>307000</td>\n",
       "    </tr>\n",
       "    <tr>\n",
       "      <th>7</th>\n",
       "      <td>8</td>\n",
       "      <td>60</td>\n",
       "      <td>RL</td>\n",
       "      <td>NaN</td>\n",
       "      <td>10382</td>\n",
       "      <td>Pave</td>\n",
       "      <td>NaN</td>\n",
       "      <td>IR1</td>\n",
       "      <td>Lvl</td>\n",
       "      <td>AllPub</td>\n",
       "      <td>...</td>\n",
       "      <td>0</td>\n",
       "      <td>NaN</td>\n",
       "      <td>NaN</td>\n",
       "      <td>Shed</td>\n",
       "      <td>350</td>\n",
       "      <td>11</td>\n",
       "      <td>2009</td>\n",
       "      <td>WD</td>\n",
       "      <td>Normal</td>\n",
       "      <td>200000</td>\n",
       "    </tr>\n",
       "    <tr>\n",
       "      <th>8</th>\n",
       "      <td>9</td>\n",
       "      <td>50</td>\n",
       "      <td>RM</td>\n",
       "      <td>51.0</td>\n",
       "      <td>6120</td>\n",
       "      <td>Pave</td>\n",
       "      <td>NaN</td>\n",
       "      <td>Reg</td>\n",
       "      <td>Lvl</td>\n",
       "      <td>AllPub</td>\n",
       "      <td>...</td>\n",
       "      <td>0</td>\n",
       "      <td>NaN</td>\n",
       "      <td>NaN</td>\n",
       "      <td>NaN</td>\n",
       "      <td>0</td>\n",
       "      <td>4</td>\n",
       "      <td>2008</td>\n",
       "      <td>WD</td>\n",
       "      <td>Abnorml</td>\n",
       "      <td>129900</td>\n",
       "    </tr>\n",
       "    <tr>\n",
       "      <th>9</th>\n",
       "      <td>10</td>\n",
       "      <td>190</td>\n",
       "      <td>RL</td>\n",
       "      <td>50.0</td>\n",
       "      <td>7420</td>\n",
       "      <td>Pave</td>\n",
       "      <td>NaN</td>\n",
       "      <td>Reg</td>\n",
       "      <td>Lvl</td>\n",
       "      <td>AllPub</td>\n",
       "      <td>...</td>\n",
       "      <td>0</td>\n",
       "      <td>NaN</td>\n",
       "      <td>NaN</td>\n",
       "      <td>NaN</td>\n",
       "      <td>0</td>\n",
       "      <td>1</td>\n",
       "      <td>2008</td>\n",
       "      <td>WD</td>\n",
       "      <td>Normal</td>\n",
       "      <td>118000</td>\n",
       "    </tr>\n",
       "  </tbody>\n",
       "</table>\n",
       "<p>10 rows × 81 columns</p>\n",
       "</div>"
      ],
      "text/plain": [
       "   Id  MSSubClass MSZoning  LotFrontage  LotArea Street Alley LotShape  \\\n",
       "0   1          60       RL         65.0     8450   Pave   NaN      Reg   \n",
       "1   2          20       RL         80.0     9600   Pave   NaN      Reg   \n",
       "2   3          60       RL         68.0    11250   Pave   NaN      IR1   \n",
       "3   4          70       RL         60.0     9550   Pave   NaN      IR1   \n",
       "4   5          60       RL         84.0    14260   Pave   NaN      IR1   \n",
       "5   6          50       RL         85.0    14115   Pave   NaN      IR1   \n",
       "6   7          20       RL         75.0    10084   Pave   NaN      Reg   \n",
       "7   8          60       RL          NaN    10382   Pave   NaN      IR1   \n",
       "8   9          50       RM         51.0     6120   Pave   NaN      Reg   \n",
       "9  10         190       RL         50.0     7420   Pave   NaN      Reg   \n",
       "\n",
       "  LandContour Utilities    ...     PoolArea PoolQC  Fence MiscFeature MiscVal  \\\n",
       "0         Lvl    AllPub    ...            0    NaN    NaN         NaN       0   \n",
       "1         Lvl    AllPub    ...            0    NaN    NaN         NaN       0   \n",
       "2         Lvl    AllPub    ...            0    NaN    NaN         NaN       0   \n",
       "3         Lvl    AllPub    ...            0    NaN    NaN         NaN       0   \n",
       "4         Lvl    AllPub    ...            0    NaN    NaN         NaN       0   \n",
       "5         Lvl    AllPub    ...            0    NaN  MnPrv        Shed     700   \n",
       "6         Lvl    AllPub    ...            0    NaN    NaN         NaN       0   \n",
       "7         Lvl    AllPub    ...            0    NaN    NaN        Shed     350   \n",
       "8         Lvl    AllPub    ...            0    NaN    NaN         NaN       0   \n",
       "9         Lvl    AllPub    ...            0    NaN    NaN         NaN       0   \n",
       "\n",
       "  MoSold YrSold  SaleType  SaleCondition  SalePrice  \n",
       "0      2   2008        WD         Normal     208500  \n",
       "1      5   2007        WD         Normal     181500  \n",
       "2      9   2008        WD         Normal     223500  \n",
       "3      2   2006        WD        Abnorml     140000  \n",
       "4     12   2008        WD         Normal     250000  \n",
       "5     10   2009        WD         Normal     143000  \n",
       "6      8   2007        WD         Normal     307000  \n",
       "7     11   2009        WD         Normal     200000  \n",
       "8      4   2008        WD        Abnorml     129900  \n",
       "9      1   2008        WD         Normal     118000  \n",
       "\n",
       "[10 rows x 81 columns]"
      ]
     },
     "execution_count": 3,
     "metadata": {},
     "output_type": "execute_result"
    }
   ],
   "source": [
    "X.head(10)"
   ]
  },
  {
   "cell_type": "code",
   "execution_count": 4,
   "metadata": {
    "collapsed": true
   },
   "outputs": [],
   "source": [
    "#Отделяем целевую переменную и удаляем ее из выборки\n",
    "y = X.SalePrice\n",
    "X.drop('SalePrice', axis=1, inplace=True)"
   ]
  },
  {
   "cell_type": "code",
   "execution_count": 5,
   "metadata": {
    "collapsed": true
   },
   "outputs": [],
   "source": [
    "#Добавляем к выборкам столбец is_test, по которому будем отличать тренеровочные данных от данных, \n",
    "#для которых нужно предсказать цену\n",
    "\n",
    "train=X\n",
    "test=X_pred\n",
    "\n",
    "train['is_test'] = 0\n",
    "test['is_test'] = 1"
   ]
  },
  {
   "cell_type": "code",
   "execution_count": 6,
   "metadata": {
    "collapsed": true
   },
   "outputs": [],
   "source": [
    "#Соединяем две выборки\n",
    "df = pd.concat([train, test])"
   ]
  },
  {
   "cell_type": "code",
   "execution_count": 7,
   "metadata": {
    "collapsed": true
   },
   "outputs": [],
   "source": [
    "#Удаляем из выборки параметры, с которымим не будем работать. Оставляем описание, чтобы можно было к ним вернуться\n",
    "df.drop([\"LotFrontage\", #Linear feet of street connected to property\n",
    "         \"Street\", #Type of road access to property\n",
    "         \"Alley\", #Type of alley access to property\n",
    "         \"LotShape\", #General shape of property\n",
    "         \"LandContour\", #Flatness of the property\n",
    "         \"Utilities\", #Type of utilities available\n",
    "         \"LotConfig\", #Lot configuration\n",
    "         \"LandSlope\", #Slope of property\n",
    "         \"OverallQual\", #Rates the overall material and finish of the house\n",
    "         \"OverallCond\", #Rates the overall condition of the house\n",
    "         \"YearBuilt\", #Original construction date\n",
    "         \"RoofStyle\", #Type of roof\n",
    "         \"RoofMatl\", #Roof material\n",
    "         \"Exterior2nd\", #Exterior covering on house (if more than one material)\n",
    "         \"MasVnrType\", #Masonry veneer type\n",
    "         \"MasVnrArea\", #Masonry veneer area in square feet\n",
    "         \"ExterQual\", #Evaluates the quality of the material on the exterior\n",
    "         \"ExterCond\", #Evaluates the present condition of the material on the exterior\n",
    "         \"Foundation\", #Type of foundation\n",
    "         \"BsmtCond\", #Evaluates the general condition of the basement\n",
    "         \"BsmtExposure\", #Refers to walkout or garden level walls\n",
    "         \"BsmtFinType1\", #Rating of basement finished area\n",
    "         \"BsmtFinSF1\", #Type 1 finished square feet\n",
    "         \"BsmtFinType2\", #Rating of basement finished area (if multiple types)\n",
    "         \"BsmtFinSF2\", #Type 2 finished square feet\n",
    "         \"BsmtUnfSF\", #Unfinished square feet of basement area\n",
    "         \"TotalBsmtSF\", #Total square feet of basement area\n",
    "         \"Heating\", #Type of heating\n",
    "         \"Electrical\", #Electrical system\n",
    "         \"1stFlrSF\", #First Floor square feet\n",
    "         \"2ndFlrSF\", #Second floor square feet\n",
    "         \"FireplaceQu\", #Fireplace quality\n",
    "         \"GarageType\", #Garage location\n",
    "         \"GarageYrBlt\", #Year garage was built\n",
    "         \"GarageFinish\", #Interior finish of the garage\n",
    "         \"GarageCond\", #Garage condition\n",
    "         \"PavedDrive\", #Paved driveway\n",
    "         \"WoodDeckSF\", #Wood deck area in square feet\n",
    "         \"OpenPorchSF\", #Open porch area in square feet\n",
    "         \"EnclosedPorch\", #Enclosed porch area in square feet\n",
    "         \"3SsnPorch\", #Three season porch area in square feet\n",
    "         \"ScreenPorch\", #Screen porch area in square feet\n",
    "         \"PoolQC\", #Pool quality\n",
    "         \"Fence\", #Fence quality\n",
    "         \"MiscFeature\", #Miscellaneous feature not covered in other categories\n",
    "         \"MiscVal\", #$Value of miscellaneous feature\n",
    "        ], \n",
    "        axis=1, inplace=True)"
   ]
  },
  {
   "cell_type": "code",
   "execution_count": 8,
   "metadata": {
    "collapsed": true
   },
   "outputs": [],
   "source": [
    "#Признаки, значения которых составляют небольшой перечислимый набор, закодируем в отдельные столбцы\n",
    "df_dummies = pd.get_dummies(df, columns=['MSSubClass', 'MSZoning', 'Neighborhood', 'Condition1', 'Condition2', 'BldgType',\n",
    "                                        'HouseStyle', 'YearRemodAdd', 'Exterior1st', 'BsmtQual', 'HeatingQC', 'CentralAir',\n",
    "                                        'KitchenQual', 'Functional', 'GarageQual', 'SaleType', 'SaleCondition'])"
   ]
  },
  {
   "cell_type": "code",
   "execution_count": 9,
   "metadata": {},
   "outputs": [
    {
     "data": {
      "text/html": [
       "<div>\n",
       "<style>\n",
       "    .dataframe thead tr:only-child th {\n",
       "        text-align: right;\n",
       "    }\n",
       "\n",
       "    .dataframe thead th {\n",
       "        text-align: left;\n",
       "    }\n",
       "\n",
       "    .dataframe tbody tr th {\n",
       "        vertical-align: top;\n",
       "    }\n",
       "</style>\n",
       "<table border=\"1\" class=\"dataframe\">\n",
       "  <thead>\n",
       "    <tr style=\"text-align: right;\">\n",
       "      <th></th>\n",
       "      <th>Id</th>\n",
       "      <th>LotArea</th>\n",
       "      <th>LowQualFinSF</th>\n",
       "      <th>GrLivArea</th>\n",
       "      <th>BsmtFullBath</th>\n",
       "      <th>BsmtHalfBath</th>\n",
       "      <th>FullBath</th>\n",
       "      <th>HalfBath</th>\n",
       "      <th>BedroomAbvGr</th>\n",
       "      <th>KitchenAbvGr</th>\n",
       "      <th>...</th>\n",
       "      <th>SaleType_ConLw</th>\n",
       "      <th>SaleType_New</th>\n",
       "      <th>SaleType_Oth</th>\n",
       "      <th>SaleType_WD</th>\n",
       "      <th>SaleCondition_Abnorml</th>\n",
       "      <th>SaleCondition_AdjLand</th>\n",
       "      <th>SaleCondition_Alloca</th>\n",
       "      <th>SaleCondition_Family</th>\n",
       "      <th>SaleCondition_Normal</th>\n",
       "      <th>SaleCondition_Partial</th>\n",
       "    </tr>\n",
       "  </thead>\n",
       "  <tbody>\n",
       "    <tr>\n",
       "      <th>0</th>\n",
       "      <td>1</td>\n",
       "      <td>8450</td>\n",
       "      <td>0</td>\n",
       "      <td>1710</td>\n",
       "      <td>1.0</td>\n",
       "      <td>0.0</td>\n",
       "      <td>2</td>\n",
       "      <td>1</td>\n",
       "      <td>3</td>\n",
       "      <td>1</td>\n",
       "      <td>...</td>\n",
       "      <td>0</td>\n",
       "      <td>0</td>\n",
       "      <td>0</td>\n",
       "      <td>1</td>\n",
       "      <td>0</td>\n",
       "      <td>0</td>\n",
       "      <td>0</td>\n",
       "      <td>0</td>\n",
       "      <td>1</td>\n",
       "      <td>0</td>\n",
       "    </tr>\n",
       "    <tr>\n",
       "      <th>1</th>\n",
       "      <td>2</td>\n",
       "      <td>9600</td>\n",
       "      <td>0</td>\n",
       "      <td>1262</td>\n",
       "      <td>0.0</td>\n",
       "      <td>1.0</td>\n",
       "      <td>2</td>\n",
       "      <td>0</td>\n",
       "      <td>3</td>\n",
       "      <td>1</td>\n",
       "      <td>...</td>\n",
       "      <td>0</td>\n",
       "      <td>0</td>\n",
       "      <td>0</td>\n",
       "      <td>1</td>\n",
       "      <td>0</td>\n",
       "      <td>0</td>\n",
       "      <td>0</td>\n",
       "      <td>0</td>\n",
       "      <td>1</td>\n",
       "      <td>0</td>\n",
       "    </tr>\n",
       "    <tr>\n",
       "      <th>2</th>\n",
       "      <td>3</td>\n",
       "      <td>11250</td>\n",
       "      <td>0</td>\n",
       "      <td>1786</td>\n",
       "      <td>1.0</td>\n",
       "      <td>0.0</td>\n",
       "      <td>2</td>\n",
       "      <td>1</td>\n",
       "      <td>3</td>\n",
       "      <td>1</td>\n",
       "      <td>...</td>\n",
       "      <td>0</td>\n",
       "      <td>0</td>\n",
       "      <td>0</td>\n",
       "      <td>1</td>\n",
       "      <td>0</td>\n",
       "      <td>0</td>\n",
       "      <td>0</td>\n",
       "      <td>0</td>\n",
       "      <td>1</td>\n",
       "      <td>0</td>\n",
       "    </tr>\n",
       "    <tr>\n",
       "      <th>3</th>\n",
       "      <td>4</td>\n",
       "      <td>9550</td>\n",
       "      <td>0</td>\n",
       "      <td>1717</td>\n",
       "      <td>1.0</td>\n",
       "      <td>0.0</td>\n",
       "      <td>1</td>\n",
       "      <td>0</td>\n",
       "      <td>3</td>\n",
       "      <td>1</td>\n",
       "      <td>...</td>\n",
       "      <td>0</td>\n",
       "      <td>0</td>\n",
       "      <td>0</td>\n",
       "      <td>1</td>\n",
       "      <td>1</td>\n",
       "      <td>0</td>\n",
       "      <td>0</td>\n",
       "      <td>0</td>\n",
       "      <td>0</td>\n",
       "      <td>0</td>\n",
       "    </tr>\n",
       "    <tr>\n",
       "      <th>4</th>\n",
       "      <td>5</td>\n",
       "      <td>14260</td>\n",
       "      <td>0</td>\n",
       "      <td>2198</td>\n",
       "      <td>1.0</td>\n",
       "      <td>0.0</td>\n",
       "      <td>2</td>\n",
       "      <td>1</td>\n",
       "      <td>4</td>\n",
       "      <td>1</td>\n",
       "      <td>...</td>\n",
       "      <td>0</td>\n",
       "      <td>0</td>\n",
       "      <td>0</td>\n",
       "      <td>1</td>\n",
       "      <td>0</td>\n",
       "      <td>0</td>\n",
       "      <td>0</td>\n",
       "      <td>0</td>\n",
       "      <td>1</td>\n",
       "      <td>0</td>\n",
       "    </tr>\n",
       "  </tbody>\n",
       "</table>\n",
       "<p>5 rows × 212 columns</p>\n",
       "</div>"
      ],
      "text/plain": [
       "   Id  LotArea  LowQualFinSF  GrLivArea  BsmtFullBath  BsmtHalfBath  FullBath  \\\n",
       "0   1     8450             0       1710           1.0           0.0         2   \n",
       "1   2     9600             0       1262           0.0           1.0         2   \n",
       "2   3    11250             0       1786           1.0           0.0         2   \n",
       "3   4     9550             0       1717           1.0           0.0         1   \n",
       "4   5    14260             0       2198           1.0           0.0         2   \n",
       "\n",
       "   HalfBath  BedroomAbvGr  KitchenAbvGr          ...            \\\n",
       "0         1             3             1          ...             \n",
       "1         0             3             1          ...             \n",
       "2         1             3             1          ...             \n",
       "3         0             3             1          ...             \n",
       "4         1             4             1          ...             \n",
       "\n",
       "   SaleType_ConLw  SaleType_New  SaleType_Oth  SaleType_WD  \\\n",
       "0               0             0             0            1   \n",
       "1               0             0             0            1   \n",
       "2               0             0             0            1   \n",
       "3               0             0             0            1   \n",
       "4               0             0             0            1   \n",
       "\n",
       "   SaleCondition_Abnorml  SaleCondition_AdjLand  SaleCondition_Alloca  \\\n",
       "0                      0                      0                     0   \n",
       "1                      0                      0                     0   \n",
       "2                      0                      0                     0   \n",
       "3                      1                      0                     0   \n",
       "4                      0                      0                     0   \n",
       "\n",
       "   SaleCondition_Family  SaleCondition_Normal  SaleCondition_Partial  \n",
       "0                     0                     1                      0  \n",
       "1                     0                     1                      0  \n",
       "2                     0                     1                      0  \n",
       "3                     0                     0                      0  \n",
       "4                     0                     1                      0  \n",
       "\n",
       "[5 rows x 212 columns]"
      ]
     },
     "execution_count": 9,
     "metadata": {},
     "output_type": "execute_result"
    }
   ],
   "source": [
    "df_dummies.head()"
   ]
  },
  {
   "cell_type": "code",
   "execution_count": 10,
   "metadata": {
    "collapsed": true
   },
   "outputs": [],
   "source": [
    "#Смотрим параметры в которых есть неопределенные значения\n",
    "d=df_dummies.isnull().sum()"
   ]
  },
  {
   "cell_type": "code",
   "execution_count": 11,
   "metadata": {},
   "outputs": [
    {
     "data": {
      "text/plain": [
       "Id                       0\n",
       "LotArea                  0\n",
       "LowQualFinSF             0\n",
       "GrLivArea                0\n",
       "BsmtFullBath             2\n",
       "BsmtHalfBath             2\n",
       "FullBath                 0\n",
       "HalfBath                 0\n",
       "BedroomAbvGr             0\n",
       "KitchenAbvGr             0\n",
       "TotRmsAbvGrd             0\n",
       "Fireplaces               0\n",
       "GarageCars               1\n",
       "GarageArea               1\n",
       "PoolArea                 0\n",
       "MoSold                   0\n",
       "YrSold                   0\n",
       "is_test                  0\n",
       "MSSubClass_20            0\n",
       "MSSubClass_30            0\n",
       "MSSubClass_40            0\n",
       "MSSubClass_45            0\n",
       "MSSubClass_50            0\n",
       "MSSubClass_60            0\n",
       "MSSubClass_70            0\n",
       "MSSubClass_75            0\n",
       "MSSubClass_80            0\n",
       "MSSubClass_85            0\n",
       "MSSubClass_90            0\n",
       "MSSubClass_120           0\n",
       "                        ..\n",
       "KitchenQual_Fa           0\n",
       "KitchenQual_Gd           0\n",
       "KitchenQual_TA           0\n",
       "Functional_Maj1          0\n",
       "Functional_Maj2          0\n",
       "Functional_Min1          0\n",
       "Functional_Min2          0\n",
       "Functional_Mod           0\n",
       "Functional_Sev           0\n",
       "Functional_Typ           0\n",
       "GarageQual_Ex            0\n",
       "GarageQual_Fa            0\n",
       "GarageQual_Gd            0\n",
       "GarageQual_Po            0\n",
       "GarageQual_TA            0\n",
       "SaleType_COD             0\n",
       "SaleType_CWD             0\n",
       "SaleType_Con             0\n",
       "SaleType_ConLD           0\n",
       "SaleType_ConLI           0\n",
       "SaleType_ConLw           0\n",
       "SaleType_New             0\n",
       "SaleType_Oth             0\n",
       "SaleType_WD              0\n",
       "SaleCondition_Abnorml    0\n",
       "SaleCondition_AdjLand    0\n",
       "SaleCondition_Alloca     0\n",
       "SaleCondition_Family     0\n",
       "SaleCondition_Normal     0\n",
       "SaleCondition_Partial    0\n",
       "Length: 212, dtype: int64"
      ]
     },
     "execution_count": 11,
     "metadata": {},
     "output_type": "execute_result"
    }
   ],
   "source": [
    "d"
   ]
  },
  {
   "cell_type": "code",
   "execution_count": 12,
   "metadata": {
    "collapsed": true
   },
   "outputs": [],
   "source": [
    "#Разделяем выборки на ту, по которой будем учиться и ту, на которой будем предсказывать на основе ранее созданного столбца\n",
    "X_tr = df_dummies[df_dummies.is_test==0].drop('is_test', axis=1)\n",
    "X_pred = df_dummies[df_dummies.is_test==1].drop('is_test', axis=1)"
   ]
  },
  {
   "cell_type": "code",
   "execution_count": 20,
   "metadata": {},
   "outputs": [],
   "source": [
    "columns = X_tr.columns"
   ]
  },
  {
   "cell_type": "code",
   "execution_count": 21,
   "metadata": {
    "scrolled": true
   },
   "outputs": [
    {
     "data": {
      "text/html": [
       "<div>\n",
       "<style>\n",
       "    .dataframe thead tr:only-child th {\n",
       "        text-align: right;\n",
       "    }\n",
       "\n",
       "    .dataframe thead th {\n",
       "        text-align: left;\n",
       "    }\n",
       "\n",
       "    .dataframe tbody tr th {\n",
       "        vertical-align: top;\n",
       "    }\n",
       "</style>\n",
       "<table border=\"1\" class=\"dataframe\">\n",
       "  <thead>\n",
       "    <tr style=\"text-align: right;\">\n",
       "      <th></th>\n",
       "      <th>Id</th>\n",
       "      <th>LotArea</th>\n",
       "      <th>LowQualFinSF</th>\n",
       "      <th>GrLivArea</th>\n",
       "      <th>BsmtFullBath</th>\n",
       "      <th>BsmtHalfBath</th>\n",
       "      <th>FullBath</th>\n",
       "      <th>HalfBath</th>\n",
       "      <th>BedroomAbvGr</th>\n",
       "      <th>KitchenAbvGr</th>\n",
       "      <th>...</th>\n",
       "      <th>SaleType_ConLw</th>\n",
       "      <th>SaleType_New</th>\n",
       "      <th>SaleType_Oth</th>\n",
       "      <th>SaleType_WD</th>\n",
       "      <th>SaleCondition_Abnorml</th>\n",
       "      <th>SaleCondition_AdjLand</th>\n",
       "      <th>SaleCondition_Alloca</th>\n",
       "      <th>SaleCondition_Family</th>\n",
       "      <th>SaleCondition_Normal</th>\n",
       "      <th>SaleCondition_Partial</th>\n",
       "    </tr>\n",
       "  </thead>\n",
       "  <tbody>\n",
       "    <tr>\n",
       "      <th>0</th>\n",
       "      <td>1</td>\n",
       "      <td>8450</td>\n",
       "      <td>0</td>\n",
       "      <td>1710</td>\n",
       "      <td>1.0</td>\n",
       "      <td>0.0</td>\n",
       "      <td>2</td>\n",
       "      <td>1</td>\n",
       "      <td>3</td>\n",
       "      <td>1</td>\n",
       "      <td>...</td>\n",
       "      <td>0</td>\n",
       "      <td>0</td>\n",
       "      <td>0</td>\n",
       "      <td>1</td>\n",
       "      <td>0</td>\n",
       "      <td>0</td>\n",
       "      <td>0</td>\n",
       "      <td>0</td>\n",
       "      <td>1</td>\n",
       "      <td>0</td>\n",
       "    </tr>\n",
       "    <tr>\n",
       "      <th>1</th>\n",
       "      <td>2</td>\n",
       "      <td>9600</td>\n",
       "      <td>0</td>\n",
       "      <td>1262</td>\n",
       "      <td>0.0</td>\n",
       "      <td>1.0</td>\n",
       "      <td>2</td>\n",
       "      <td>0</td>\n",
       "      <td>3</td>\n",
       "      <td>1</td>\n",
       "      <td>...</td>\n",
       "      <td>0</td>\n",
       "      <td>0</td>\n",
       "      <td>0</td>\n",
       "      <td>1</td>\n",
       "      <td>0</td>\n",
       "      <td>0</td>\n",
       "      <td>0</td>\n",
       "      <td>0</td>\n",
       "      <td>1</td>\n",
       "      <td>0</td>\n",
       "    </tr>\n",
       "    <tr>\n",
       "      <th>2</th>\n",
       "      <td>3</td>\n",
       "      <td>11250</td>\n",
       "      <td>0</td>\n",
       "      <td>1786</td>\n",
       "      <td>1.0</td>\n",
       "      <td>0.0</td>\n",
       "      <td>2</td>\n",
       "      <td>1</td>\n",
       "      <td>3</td>\n",
       "      <td>1</td>\n",
       "      <td>...</td>\n",
       "      <td>0</td>\n",
       "      <td>0</td>\n",
       "      <td>0</td>\n",
       "      <td>1</td>\n",
       "      <td>0</td>\n",
       "      <td>0</td>\n",
       "      <td>0</td>\n",
       "      <td>0</td>\n",
       "      <td>1</td>\n",
       "      <td>0</td>\n",
       "    </tr>\n",
       "    <tr>\n",
       "      <th>3</th>\n",
       "      <td>4</td>\n",
       "      <td>9550</td>\n",
       "      <td>0</td>\n",
       "      <td>1717</td>\n",
       "      <td>1.0</td>\n",
       "      <td>0.0</td>\n",
       "      <td>1</td>\n",
       "      <td>0</td>\n",
       "      <td>3</td>\n",
       "      <td>1</td>\n",
       "      <td>...</td>\n",
       "      <td>0</td>\n",
       "      <td>0</td>\n",
       "      <td>0</td>\n",
       "      <td>1</td>\n",
       "      <td>1</td>\n",
       "      <td>0</td>\n",
       "      <td>0</td>\n",
       "      <td>0</td>\n",
       "      <td>0</td>\n",
       "      <td>0</td>\n",
       "    </tr>\n",
       "    <tr>\n",
       "      <th>4</th>\n",
       "      <td>5</td>\n",
       "      <td>14260</td>\n",
       "      <td>0</td>\n",
       "      <td>2198</td>\n",
       "      <td>1.0</td>\n",
       "      <td>0.0</td>\n",
       "      <td>2</td>\n",
       "      <td>1</td>\n",
       "      <td>4</td>\n",
       "      <td>1</td>\n",
       "      <td>...</td>\n",
       "      <td>0</td>\n",
       "      <td>0</td>\n",
       "      <td>0</td>\n",
       "      <td>1</td>\n",
       "      <td>0</td>\n",
       "      <td>0</td>\n",
       "      <td>0</td>\n",
       "      <td>0</td>\n",
       "      <td>1</td>\n",
       "      <td>0</td>\n",
       "    </tr>\n",
       "  </tbody>\n",
       "</table>\n",
       "<p>5 rows × 211 columns</p>\n",
       "</div>"
      ],
      "text/plain": [
       "   Id  LotArea  LowQualFinSF  GrLivArea  BsmtFullBath  BsmtHalfBath  FullBath  \\\n",
       "0   1     8450             0       1710           1.0           0.0         2   \n",
       "1   2     9600             0       1262           0.0           1.0         2   \n",
       "2   3    11250             0       1786           1.0           0.0         2   \n",
       "3   4     9550             0       1717           1.0           0.0         1   \n",
       "4   5    14260             0       2198           1.0           0.0         2   \n",
       "\n",
       "   HalfBath  BedroomAbvGr  KitchenAbvGr          ...            \\\n",
       "0         1             3             1          ...             \n",
       "1         0             3             1          ...             \n",
       "2         1             3             1          ...             \n",
       "3         0             3             1          ...             \n",
       "4         1             4             1          ...             \n",
       "\n",
       "   SaleType_ConLw  SaleType_New  SaleType_Oth  SaleType_WD  \\\n",
       "0               0             0             0            1   \n",
       "1               0             0             0            1   \n",
       "2               0             0             0            1   \n",
       "3               0             0             0            1   \n",
       "4               0             0             0            1   \n",
       "\n",
       "   SaleCondition_Abnorml  SaleCondition_AdjLand  SaleCondition_Alloca  \\\n",
       "0                      0                      0                     0   \n",
       "1                      0                      0                     0   \n",
       "2                      0                      0                     0   \n",
       "3                      1                      0                     0   \n",
       "4                      0                      0                     0   \n",
       "\n",
       "   SaleCondition_Family  SaleCondition_Normal  SaleCondition_Partial  \n",
       "0                     0                     1                      0  \n",
       "1                     0                     1                      0  \n",
       "2                     0                     1                      0  \n",
       "3                     0                     0                      0  \n",
       "4                     0                     1                      0  \n",
       "\n",
       "[5 rows x 211 columns]"
      ]
     },
     "execution_count": 21,
     "metadata": {},
     "output_type": "execute_result"
    }
   ],
   "source": [
    "X_tr.head()"
   ]
  },
  {
   "cell_type": "markdown",
   "metadata": {},
   "source": [
    "### Заполнение пустых значений"
   ]
  },
  {
   "cell_type": "code",
   "execution_count": 22,
   "metadata": {
    "collapsed": true
   },
   "outputs": [],
   "source": [
    "from sklearn.preprocessing import Imputer"
   ]
  },
  {
   "cell_type": "code",
   "execution_count": 23,
   "metadata": {
    "collapsed": true
   },
   "outputs": [],
   "source": [
    "#Заполняем пустые значения средними\n",
    "imputer = Imputer(missing_values='NaN', strategy='mean', axis=0, verbose=0, copy=True)"
   ]
  },
  {
   "cell_type": "code",
   "execution_count": 24,
   "metadata": {},
   "outputs": [
    {
     "data": {
      "text/plain": [
       "Imputer(axis=0, copy=True, missing_values='NaN', strategy='mean', verbose=0)"
      ]
     },
     "execution_count": 24,
     "metadata": {},
     "output_type": "execute_result"
    }
   ],
   "source": [
    "imputer.fit(X_tr)"
   ]
  },
  {
   "cell_type": "code",
   "execution_count": 25,
   "metadata": {},
   "outputs": [],
   "source": [
    "X_train_imputed = imputer.transform(X_tr)\n",
    "X_train_imputed = pd.DataFrame(X_train_imputed, columns=columns)"
   ]
  },
  {
   "cell_type": "markdown",
   "metadata": {},
   "source": [
    "### Нормировка значений"
   ]
  },
  {
   "cell_type": "code",
   "execution_count": 26,
   "metadata": {
    "collapsed": true
   },
   "outputs": [],
   "source": [
    "from sklearn.preprocessing import StandardScaler"
   ]
  },
  {
   "cell_type": "code",
   "execution_count": 27,
   "metadata": {
    "collapsed": true
   },
   "outputs": [],
   "source": [
    "scaler = StandardScaler()"
   ]
  },
  {
   "cell_type": "code",
   "execution_count": 28,
   "metadata": {},
   "outputs": [
    {
     "data": {
      "text/plain": [
       "StandardScaler(copy=True, with_mean=True, with_std=True)"
      ]
     },
     "execution_count": 28,
     "metadata": {},
     "output_type": "execute_result"
    }
   ],
   "source": [
    "scaler.fit(X_train_imputed)"
   ]
  },
  {
   "cell_type": "code",
   "execution_count": 29,
   "metadata": {
    "collapsed": true
   },
   "outputs": [],
   "source": [
    "#Производим нормирование значений из тестовой выборки\n",
    "X_train_scaled = scaler.transform(X_train_imputed)\n",
    "X_train_scaled = pd.DataFrame(X_train_scaled, columns=columns)"
   ]
  },
  {
   "cell_type": "code",
   "execution_count": 30,
   "metadata": {},
   "outputs": [
    {
     "data": {
      "text/html": [
       "<div>\n",
       "<style>\n",
       "    .dataframe thead tr:only-child th {\n",
       "        text-align: right;\n",
       "    }\n",
       "\n",
       "    .dataframe thead th {\n",
       "        text-align: left;\n",
       "    }\n",
       "\n",
       "    .dataframe tbody tr th {\n",
       "        vertical-align: top;\n",
       "    }\n",
       "</style>\n",
       "<table border=\"1\" class=\"dataframe\">\n",
       "  <thead>\n",
       "    <tr style=\"text-align: right;\">\n",
       "      <th></th>\n",
       "      <th>Id</th>\n",
       "      <th>LotArea</th>\n",
       "      <th>LowQualFinSF</th>\n",
       "      <th>GrLivArea</th>\n",
       "      <th>BsmtFullBath</th>\n",
       "      <th>BsmtHalfBath</th>\n",
       "      <th>FullBath</th>\n",
       "      <th>HalfBath</th>\n",
       "      <th>BedroomAbvGr</th>\n",
       "      <th>KitchenAbvGr</th>\n",
       "      <th>...</th>\n",
       "      <th>SaleType_ConLw</th>\n",
       "      <th>SaleType_New</th>\n",
       "      <th>SaleType_Oth</th>\n",
       "      <th>SaleType_WD</th>\n",
       "      <th>SaleCondition_Abnorml</th>\n",
       "      <th>SaleCondition_AdjLand</th>\n",
       "      <th>SaleCondition_Alloca</th>\n",
       "      <th>SaleCondition_Family</th>\n",
       "      <th>SaleCondition_Normal</th>\n",
       "      <th>SaleCondition_Partial</th>\n",
       "    </tr>\n",
       "  </thead>\n",
       "  <tbody>\n",
       "    <tr>\n",
       "      <th>0</th>\n",
       "      <td>-1.730865</td>\n",
       "      <td>-0.207142</td>\n",
       "      <td>-0.120242</td>\n",
       "      <td>0.370333</td>\n",
       "      <td>1.107810</td>\n",
       "      <td>-0.241061</td>\n",
       "      <td>0.789741</td>\n",
       "      <td>1.227585</td>\n",
       "      <td>0.163779</td>\n",
       "      <td>-0.211454</td>\n",
       "      <td>...</td>\n",
       "      <td>-0.058621</td>\n",
       "      <td>-0.301962</td>\n",
       "      <td>-0.045376</td>\n",
       "      <td>0.390293</td>\n",
       "      <td>-0.272616</td>\n",
       "      <td>-0.052414</td>\n",
       "      <td>-0.091035</td>\n",
       "      <td>-0.117851</td>\n",
       "      <td>0.467651</td>\n",
       "      <td>-0.305995</td>\n",
       "    </tr>\n",
       "    <tr>\n",
       "      <th>1</th>\n",
       "      <td>-1.728492</td>\n",
       "      <td>-0.091886</td>\n",
       "      <td>-0.120242</td>\n",
       "      <td>-0.482512</td>\n",
       "      <td>-0.819964</td>\n",
       "      <td>3.948809</td>\n",
       "      <td>0.789741</td>\n",
       "      <td>-0.761621</td>\n",
       "      <td>0.163779</td>\n",
       "      <td>-0.211454</td>\n",
       "      <td>...</td>\n",
       "      <td>-0.058621</td>\n",
       "      <td>-0.301962</td>\n",
       "      <td>-0.045376</td>\n",
       "      <td>0.390293</td>\n",
       "      <td>-0.272616</td>\n",
       "      <td>-0.052414</td>\n",
       "      <td>-0.091035</td>\n",
       "      <td>-0.117851</td>\n",
       "      <td>0.467651</td>\n",
       "      <td>-0.305995</td>\n",
       "    </tr>\n",
       "    <tr>\n",
       "      <th>2</th>\n",
       "      <td>-1.726120</td>\n",
       "      <td>0.073480</td>\n",
       "      <td>-0.120242</td>\n",
       "      <td>0.515013</td>\n",
       "      <td>1.107810</td>\n",
       "      <td>-0.241061</td>\n",
       "      <td>0.789741</td>\n",
       "      <td>1.227585</td>\n",
       "      <td>0.163779</td>\n",
       "      <td>-0.211454</td>\n",
       "      <td>...</td>\n",
       "      <td>-0.058621</td>\n",
       "      <td>-0.301962</td>\n",
       "      <td>-0.045376</td>\n",
       "      <td>0.390293</td>\n",
       "      <td>-0.272616</td>\n",
       "      <td>-0.052414</td>\n",
       "      <td>-0.091035</td>\n",
       "      <td>-0.117851</td>\n",
       "      <td>0.467651</td>\n",
       "      <td>-0.305995</td>\n",
       "    </tr>\n",
       "    <tr>\n",
       "      <th>3</th>\n",
       "      <td>-1.723747</td>\n",
       "      <td>-0.096897</td>\n",
       "      <td>-0.120242</td>\n",
       "      <td>0.383659</td>\n",
       "      <td>1.107810</td>\n",
       "      <td>-0.241061</td>\n",
       "      <td>-1.026041</td>\n",
       "      <td>-0.761621</td>\n",
       "      <td>0.163779</td>\n",
       "      <td>-0.211454</td>\n",
       "      <td>...</td>\n",
       "      <td>-0.058621</td>\n",
       "      <td>-0.301962</td>\n",
       "      <td>-0.045376</td>\n",
       "      <td>0.390293</td>\n",
       "      <td>3.668167</td>\n",
       "      <td>-0.052414</td>\n",
       "      <td>-0.091035</td>\n",
       "      <td>-0.117851</td>\n",
       "      <td>-2.138345</td>\n",
       "      <td>-0.305995</td>\n",
       "    </tr>\n",
       "    <tr>\n",
       "      <th>4</th>\n",
       "      <td>-1.721374</td>\n",
       "      <td>0.375148</td>\n",
       "      <td>-0.120242</td>\n",
       "      <td>1.299326</td>\n",
       "      <td>1.107810</td>\n",
       "      <td>-0.241061</td>\n",
       "      <td>0.789741</td>\n",
       "      <td>1.227585</td>\n",
       "      <td>1.390023</td>\n",
       "      <td>-0.211454</td>\n",
       "      <td>...</td>\n",
       "      <td>-0.058621</td>\n",
       "      <td>-0.301962</td>\n",
       "      <td>-0.045376</td>\n",
       "      <td>0.390293</td>\n",
       "      <td>-0.272616</td>\n",
       "      <td>-0.052414</td>\n",
       "      <td>-0.091035</td>\n",
       "      <td>-0.117851</td>\n",
       "      <td>0.467651</td>\n",
       "      <td>-0.305995</td>\n",
       "    </tr>\n",
       "    <tr>\n",
       "      <th>5</th>\n",
       "      <td>-1.719002</td>\n",
       "      <td>0.360616</td>\n",
       "      <td>-0.120242</td>\n",
       "      <td>-0.292145</td>\n",
       "      <td>1.107810</td>\n",
       "      <td>-0.241061</td>\n",
       "      <td>-1.026041</td>\n",
       "      <td>1.227585</td>\n",
       "      <td>-2.288708</td>\n",
       "      <td>-0.211454</td>\n",
       "      <td>...</td>\n",
       "      <td>-0.058621</td>\n",
       "      <td>-0.301962</td>\n",
       "      <td>-0.045376</td>\n",
       "      <td>0.390293</td>\n",
       "      <td>-0.272616</td>\n",
       "      <td>-0.052414</td>\n",
       "      <td>-0.091035</td>\n",
       "      <td>-0.117851</td>\n",
       "      <td>0.467651</td>\n",
       "      <td>-0.305995</td>\n",
       "    </tr>\n",
       "    <tr>\n",
       "      <th>6</th>\n",
       "      <td>-1.716629</td>\n",
       "      <td>-0.043379</td>\n",
       "      <td>-0.120242</td>\n",
       "      <td>0.339875</td>\n",
       "      <td>1.107810</td>\n",
       "      <td>-0.241061</td>\n",
       "      <td>0.789741</td>\n",
       "      <td>-0.761621</td>\n",
       "      <td>0.163779</td>\n",
       "      <td>-0.211454</td>\n",
       "      <td>...</td>\n",
       "      <td>-0.058621</td>\n",
       "      <td>-0.301962</td>\n",
       "      <td>-0.045376</td>\n",
       "      <td>0.390293</td>\n",
       "      <td>-0.272616</td>\n",
       "      <td>-0.052414</td>\n",
       "      <td>-0.091035</td>\n",
       "      <td>-0.117851</td>\n",
       "      <td>0.467651</td>\n",
       "      <td>-0.305995</td>\n",
       "    </tr>\n",
       "    <tr>\n",
       "      <th>7</th>\n",
       "      <td>-1.714256</td>\n",
       "      <td>-0.013513</td>\n",
       "      <td>-0.120242</td>\n",
       "      <td>1.093729</td>\n",
       "      <td>1.107810</td>\n",
       "      <td>-0.241061</td>\n",
       "      <td>0.789741</td>\n",
       "      <td>1.227585</td>\n",
       "      <td>0.163779</td>\n",
       "      <td>-0.211454</td>\n",
       "      <td>...</td>\n",
       "      <td>-0.058621</td>\n",
       "      <td>-0.301962</td>\n",
       "      <td>-0.045376</td>\n",
       "      <td>0.390293</td>\n",
       "      <td>-0.272616</td>\n",
       "      <td>-0.052414</td>\n",
       "      <td>-0.091035</td>\n",
       "      <td>-0.117851</td>\n",
       "      <td>0.467651</td>\n",
       "      <td>-0.305995</td>\n",
       "    </tr>\n",
       "    <tr>\n",
       "      <th>8</th>\n",
       "      <td>-1.711883</td>\n",
       "      <td>-0.440659</td>\n",
       "      <td>-0.120242</td>\n",
       "      <td>0.492168</td>\n",
       "      <td>-0.819964</td>\n",
       "      <td>-0.241061</td>\n",
       "      <td>0.789741</td>\n",
       "      <td>-0.761621</td>\n",
       "      <td>-1.062465</td>\n",
       "      <td>4.328579</td>\n",
       "      <td>...</td>\n",
       "      <td>-0.058621</td>\n",
       "      <td>-0.301962</td>\n",
       "      <td>-0.045376</td>\n",
       "      <td>0.390293</td>\n",
       "      <td>3.668167</td>\n",
       "      <td>-0.052414</td>\n",
       "      <td>-0.091035</td>\n",
       "      <td>-0.117851</td>\n",
       "      <td>-2.138345</td>\n",
       "      <td>-0.305995</td>\n",
       "    </tr>\n",
       "    <tr>\n",
       "      <th>9</th>\n",
       "      <td>-1.709511</td>\n",
       "      <td>-0.310370</td>\n",
       "      <td>-0.120242</td>\n",
       "      <td>-0.834691</td>\n",
       "      <td>1.107810</td>\n",
       "      <td>-0.241061</td>\n",
       "      <td>-1.026041</td>\n",
       "      <td>-0.761621</td>\n",
       "      <td>-1.062465</td>\n",
       "      <td>4.328579</td>\n",
       "      <td>...</td>\n",
       "      <td>-0.058621</td>\n",
       "      <td>-0.301962</td>\n",
       "      <td>-0.045376</td>\n",
       "      <td>0.390293</td>\n",
       "      <td>-0.272616</td>\n",
       "      <td>-0.052414</td>\n",
       "      <td>-0.091035</td>\n",
       "      <td>-0.117851</td>\n",
       "      <td>0.467651</td>\n",
       "      <td>-0.305995</td>\n",
       "    </tr>\n",
       "  </tbody>\n",
       "</table>\n",
       "<p>10 rows × 211 columns</p>\n",
       "</div>"
      ],
      "text/plain": [
       "         Id   LotArea  LowQualFinSF  GrLivArea  BsmtFullBath  BsmtHalfBath  \\\n",
       "0 -1.730865 -0.207142     -0.120242   0.370333      1.107810     -0.241061   \n",
       "1 -1.728492 -0.091886     -0.120242  -0.482512     -0.819964      3.948809   \n",
       "2 -1.726120  0.073480     -0.120242   0.515013      1.107810     -0.241061   \n",
       "3 -1.723747 -0.096897     -0.120242   0.383659      1.107810     -0.241061   \n",
       "4 -1.721374  0.375148     -0.120242   1.299326      1.107810     -0.241061   \n",
       "5 -1.719002  0.360616     -0.120242  -0.292145      1.107810     -0.241061   \n",
       "6 -1.716629 -0.043379     -0.120242   0.339875      1.107810     -0.241061   \n",
       "7 -1.714256 -0.013513     -0.120242   1.093729      1.107810     -0.241061   \n",
       "8 -1.711883 -0.440659     -0.120242   0.492168     -0.819964     -0.241061   \n",
       "9 -1.709511 -0.310370     -0.120242  -0.834691      1.107810     -0.241061   \n",
       "\n",
       "   FullBath  HalfBath  BedroomAbvGr  KitchenAbvGr          ...            \\\n",
       "0  0.789741  1.227585      0.163779     -0.211454          ...             \n",
       "1  0.789741 -0.761621      0.163779     -0.211454          ...             \n",
       "2  0.789741  1.227585      0.163779     -0.211454          ...             \n",
       "3 -1.026041 -0.761621      0.163779     -0.211454          ...             \n",
       "4  0.789741  1.227585      1.390023     -0.211454          ...             \n",
       "5 -1.026041  1.227585     -2.288708     -0.211454          ...             \n",
       "6  0.789741 -0.761621      0.163779     -0.211454          ...             \n",
       "7  0.789741  1.227585      0.163779     -0.211454          ...             \n",
       "8  0.789741 -0.761621     -1.062465      4.328579          ...             \n",
       "9 -1.026041 -0.761621     -1.062465      4.328579          ...             \n",
       "\n",
       "   SaleType_ConLw  SaleType_New  SaleType_Oth  SaleType_WD  \\\n",
       "0       -0.058621     -0.301962     -0.045376     0.390293   \n",
       "1       -0.058621     -0.301962     -0.045376     0.390293   \n",
       "2       -0.058621     -0.301962     -0.045376     0.390293   \n",
       "3       -0.058621     -0.301962     -0.045376     0.390293   \n",
       "4       -0.058621     -0.301962     -0.045376     0.390293   \n",
       "5       -0.058621     -0.301962     -0.045376     0.390293   \n",
       "6       -0.058621     -0.301962     -0.045376     0.390293   \n",
       "7       -0.058621     -0.301962     -0.045376     0.390293   \n",
       "8       -0.058621     -0.301962     -0.045376     0.390293   \n",
       "9       -0.058621     -0.301962     -0.045376     0.390293   \n",
       "\n",
       "   SaleCondition_Abnorml  SaleCondition_AdjLand  SaleCondition_Alloca  \\\n",
       "0              -0.272616              -0.052414             -0.091035   \n",
       "1              -0.272616              -0.052414             -0.091035   \n",
       "2              -0.272616              -0.052414             -0.091035   \n",
       "3               3.668167              -0.052414             -0.091035   \n",
       "4              -0.272616              -0.052414             -0.091035   \n",
       "5              -0.272616              -0.052414             -0.091035   \n",
       "6              -0.272616              -0.052414             -0.091035   \n",
       "7              -0.272616              -0.052414             -0.091035   \n",
       "8               3.668167              -0.052414             -0.091035   \n",
       "9              -0.272616              -0.052414             -0.091035   \n",
       "\n",
       "   SaleCondition_Family  SaleCondition_Normal  SaleCondition_Partial  \n",
       "0             -0.117851              0.467651              -0.305995  \n",
       "1             -0.117851              0.467651              -0.305995  \n",
       "2             -0.117851              0.467651              -0.305995  \n",
       "3             -0.117851             -2.138345              -0.305995  \n",
       "4             -0.117851              0.467651              -0.305995  \n",
       "5             -0.117851              0.467651              -0.305995  \n",
       "6             -0.117851              0.467651              -0.305995  \n",
       "7             -0.117851              0.467651              -0.305995  \n",
       "8             -0.117851             -2.138345              -0.305995  \n",
       "9             -0.117851              0.467651              -0.305995  \n",
       "\n",
       "[10 rows x 211 columns]"
      ]
     },
     "execution_count": 30,
     "metadata": {},
     "output_type": "execute_result"
    }
   ],
   "source": [
    "X_train_scaled.head(10)"
   ]
  },
  {
   "cell_type": "code",
   "execution_count": 31,
   "metadata": {
    "collapsed": true
   },
   "outputs": [],
   "source": [
    "#Производим нормирование значений из выборки для которой будем делать предсказания\n",
    "X_pred_scaled = scaler.transform(imputer.transform(X_pred))"
   ]
  },
  {
   "cell_type": "code",
   "execution_count": null,
   "metadata": {
    "collapsed": true
   },
   "outputs": [],
   "source": []
  },
  {
   "cell_type": "markdown",
   "metadata": {},
   "source": [
    "### Разделение на обучающую и тестирующую выборки"
   ]
  },
  {
   "cell_type": "code",
   "execution_count": 33,
   "metadata": {
    "collapsed": true
   },
   "outputs": [],
   "source": [
    "from sklearn.model_selection import train_test_split"
   ]
  },
  {
   "cell_type": "code",
   "execution_count": 34,
   "metadata": {},
   "outputs": [],
   "source": [
    "X_train_fin, X_val, y_train_fin, y_val = train_test_split(X_train_scaled, y, test_size=0.2)"
   ]
  },
  {
   "cell_type": "code",
   "execution_count": 35,
   "metadata": {},
   "outputs": [
    {
     "data": {
      "text/plain": [
       "(1168, 211)"
      ]
     },
     "execution_count": 35,
     "metadata": {},
     "output_type": "execute_result"
    }
   ],
   "source": [
    "X_train_fin.shape"
   ]
  },
  {
   "cell_type": "code",
   "execution_count": null,
   "metadata": {
    "collapsed": true
   },
   "outputs": [],
   "source": []
  },
  {
   "cell_type": "markdown",
   "metadata": {},
   "source": [
    "### Обучение с кросс-валидацией"
   ]
  },
  {
   "cell_type": "code",
   "execution_count": 36,
   "metadata": {
    "collapsed": true
   },
   "outputs": [],
   "source": [
    "from sklearn.model_selection import GridSearchCV\n",
    "from sklearn.linear_model import LogisticRegression"
   ]
  },
  {
   "cell_type": "code",
   "execution_count": 37,
   "metadata": {},
   "outputs": [
    {
     "data": {
      "text/plain": [
       "array([  1.00000000e-03,   1.00000000e-02,   1.00000000e-01,\n",
       "         1.00000000e+00,   1.00000000e+01])"
      ]
     },
     "execution_count": 37,
     "metadata": {},
     "output_type": "execute_result"
    }
   ],
   "source": [
    "cs = 10**np.linspace(-3,1,5)\n",
    "cs"
   ]
  },
  {
   "cell_type": "code",
   "execution_count": 38,
   "metadata": {
    "collapsed": true
   },
   "outputs": [],
   "source": [
    "grid = {'C': cs}\n",
    "gridsearch = GridSearchCV(LogisticRegression(), grid, scoring='accuracy', cv=5)"
   ]
  },
  {
   "cell_type": "code",
   "execution_count": 39,
   "metadata": {},
   "outputs": [
    {
     "name": "stderr",
     "output_type": "stream",
     "text": [
      "C:\\Users\\alexe\\Anaconda3\\lib\\site-packages\\sklearn\\model_selection\\_split.py:605: Warning: The least populated class in y has only 1 members, which is too few. The minimum number of members in any class cannot be less than n_splits=5.\n",
      "  % (min_groups, self.n_splits)), Warning)\n"
     ]
    },
    {
     "name": "stdout",
     "output_type": "stream",
     "text": [
      "Wall time: 7min 10s\n"
     ]
    },
    {
     "data": {
      "text/plain": [
       "GridSearchCV(cv=5, error_score='raise',\n",
       "       estimator=LogisticRegression(C=1.0, class_weight=None, dual=False, fit_intercept=True,\n",
       "          intercept_scaling=1, max_iter=100, multi_class='ovr', n_jobs=1,\n",
       "          penalty='l2', random_state=None, solver='liblinear', tol=0.0001,\n",
       "          verbose=0, warm_start=False),\n",
       "       fit_params=None, iid=True, n_jobs=1,\n",
       "       param_grid={'C': array([  1.00000e-03,   1.00000e-02,   1.00000e-01,   1.00000e+00,\n",
       "         1.00000e+01])},\n",
       "       pre_dispatch='2*n_jobs', refit=True, return_train_score='warn',\n",
       "       scoring='accuracy', verbose=0)"
      ]
     },
     "execution_count": 39,
     "metadata": {},
     "output_type": "execute_result"
    }
   ],
   "source": [
    "%%time\n",
    "gridsearch.fit(X_train_fin, y_train_fin)"
   ]
  },
  {
   "cell_type": "code",
   "execution_count": 40,
   "metadata": {},
   "outputs": [
    {
     "name": "stderr",
     "output_type": "stream",
     "text": [
      "C:\\Users\\alexe\\Anaconda3\\lib\\site-packages\\sklearn\\model_selection\\_search.py:761: DeprecationWarning: The grid_scores_ attribute was deprecated in version 0.18 in favor of the more elaborate cv_results_ attribute. The grid_scores_ attribute will not be available from 0.20\n",
      "  DeprecationWarning)\n"
     ]
    },
    {
     "data": {
      "text/plain": [
       "[mean: 0.01370, std: 0.00678, params: {'C': 1.0},\n",
       " mean: 0.01370, std: 0.00400, params: {'C': 10.0},\n",
       " mean: 0.01027, std: 0.00591, params: {'C': 0.001},\n",
       " mean: 0.00942, std: 0.00647, params: {'C': 0.01},\n",
       " mean: 0.00942, std: 0.00427, params: {'C': 0.10000000000000001}]"
      ]
     },
     "execution_count": 40,
     "metadata": {},
     "output_type": "execute_result"
    }
   ],
   "source": [
    "#Подбираем лучший параметр C\n",
    "sorted(gridsearch.grid_scores_, key = lambda x: -x.mean_validation_score)"
   ]
  },
  {
   "cell_type": "code",
   "execution_count": 41,
   "metadata": {},
   "outputs": [
    {
     "data": {
      "text/plain": [
       "{'C': 1.0}"
      ]
     },
     "execution_count": 41,
     "metadata": {},
     "output_type": "execute_result"
    }
   ],
   "source": [
    "gridsearch.best_params_"
   ]
  },
  {
   "cell_type": "code",
   "execution_count": 42,
   "metadata": {
    "collapsed": true
   },
   "outputs": [],
   "source": [
    "best_C = gridsearch.best_params_[\"C\"]"
   ]
  },
  {
   "cell_type": "markdown",
   "metadata": {},
   "source": [
    "### Оценка точности"
   ]
  },
  {
   "cell_type": "code",
   "execution_count": 43,
   "metadata": {
    "collapsed": true
   },
   "outputs": [],
   "source": [
    "from sklearn.metrics import accuracy_score"
   ]
  },
  {
   "cell_type": "code",
   "execution_count": 44,
   "metadata": {
    "collapsed": true
   },
   "outputs": [],
   "source": [
    "clf = LogisticRegression(C=best_C)"
   ]
  },
  {
   "cell_type": "code",
   "execution_count": 45,
   "metadata": {},
   "outputs": [
    {
     "data": {
      "text/plain": [
       "LogisticRegression(C=1.0, class_weight=None, dual=False, fit_intercept=True,\n",
       "          intercept_scaling=1, max_iter=100, multi_class='ovr', n_jobs=1,\n",
       "          penalty='l2', random_state=None, solver='liblinear', tol=0.0001,\n",
       "          verbose=0, warm_start=False)"
      ]
     },
     "execution_count": 45,
     "metadata": {},
     "output_type": "execute_result"
    }
   ],
   "source": [
    "clf.fit(X_train_fin, y_train_fin)"
   ]
  },
  {
   "cell_type": "code",
   "execution_count": 46,
   "metadata": {
    "collapsed": true
   },
   "outputs": [],
   "source": [
    "y_val_pred = clf.predict(X_val)"
   ]
  },
  {
   "cell_type": "code",
   "execution_count": 47,
   "metadata": {},
   "outputs": [
    {
     "data": {
      "text/plain": [
       "0.010273972602739725"
      ]
     },
     "execution_count": 47,
     "metadata": {},
     "output_type": "execute_result"
    }
   ],
   "source": [
    "accuracy_score(y_val, y_val_pred)"
   ]
  },
  {
   "cell_type": "markdown",
   "metadata": {},
   "source": [
    "### Предсказание для Kaggle"
   ]
  },
  {
   "cell_type": "code",
   "execution_count": 49,
   "metadata": {},
   "outputs": [
    {
     "data": {
      "text/plain": [
       "LogisticRegression(C=1.0, class_weight=None, dual=False, fit_intercept=True,\n",
       "          intercept_scaling=1, max_iter=100, multi_class='ovr', n_jobs=1,\n",
       "          penalty='l2', random_state=None, solver='liblinear', tol=0.0001,\n",
       "          verbose=0, warm_start=False)"
      ]
     },
     "execution_count": 49,
     "metadata": {},
     "output_type": "execute_result"
    }
   ],
   "source": [
    "clf.fit(X_train_scaled, y)"
   ]
  },
  {
   "cell_type": "code",
   "execution_count": 50,
   "metadata": {},
   "outputs": [
    {
     "data": {
      "text/plain": [
       "array([[ 0.00063888,  0.00084542,  0.00124627, ...,  0.00061557,\n",
       "         0.00063251,  0.00081088],\n",
       "       [ 0.00210353,  0.00128729,  0.00101882, ...,  0.00090034,\n",
       "         0.00106129,  0.00074996],\n",
       "       [ 0.00090458,  0.00078255,  0.0011234 , ...,  0.00037411,\n",
       "         0.0009873 ,  0.00088788],\n",
       "       ..., \n",
       "       [ 0.00092224,  0.00082451,  0.00116696, ...,  0.00031844,\n",
       "         0.00094677,  0.00064439],\n",
       "       [ 0.00084179,  0.00124661,  0.0014203 , ...,  0.00050451,\n",
       "         0.00056322,  0.00076069],\n",
       "       [ 0.00103018,  0.00118021,  0.00103169, ...,  0.00094273,\n",
       "         0.0008731 ,  0.00076013]])"
      ]
     },
     "execution_count": 50,
     "metadata": {},
     "output_type": "execute_result"
    }
   ],
   "source": [
    "clf.predict_proba(X_pred_scaled)[:10]"
   ]
  },
  {
   "cell_type": "code",
   "execution_count": 51,
   "metadata": {},
   "outputs": [
    {
     "data": {
      "text/plain": [
       "array([139950, 136000, 181000, ..., 240000, 135000, 135000], dtype=int64)"
      ]
     },
     "execution_count": 51,
     "metadata": {},
     "output_type": "execute_result"
    }
   ],
   "source": [
    "#Делаем предсказания\n",
    "predictions = clf.predict(X_pred_scaled)\n",
    "predictions"
   ]
  },
  {
   "cell_type": "code",
   "execution_count": 52,
   "metadata": {
    "collapsed": true
   },
   "outputs": [],
   "source": [
    "#Формируем строку\n",
    "submussion = 'Id,SalePrice\\n'\n",
    "submussion += \"\\n\".join([\"{},{}\".format(pid, prediction) for pid, prediction in zip(test.Id, predictions)])"
   ]
  },
  {
   "cell_type": "code",
   "execution_count": 54,
   "metadata": {},
   "outputs": [],
   "source": [
    "#Записываем данные в файл\n",
    "with open('submission3.csv', 'w') as file:\n",
    "    file.write(submussion)"
   ]
  },
  {
   "cell_type": "code",
   "execution_count": 56,
   "metadata": {},
   "outputs": [],
   "source": [
    "#Записываем предсказания в словарь, чтобы была возможность удобного вывода результатов\n",
    "slovar=dict()\n",
    "for col, val in zip(X_tr.columns, clf.coef_[0]):\n",
    "    slovar[val]=col"
   ]
  },
  {
   "cell_type": "code",
   "execution_count": 205,
   "metadata": {},
   "outputs": [
    {
     "name": "stdout",
     "output_type": "stream",
     "text": [
      "GarageQual_TA : -0.205958305592\n",
      "Exterior1st_AsbShng : -0.13592138703\n",
      "SaleType_ConLD : -0.123606715899\n",
      "GarageQual_Fa : -0.106007825912\n",
      "HouseStyle_2.5Unf : -0.102796411105\n",
      "KitchenQual_Fa : -0.102546153611\n",
      "GarageArea : -0.080525059538\n",
      "YearRemodAdd_1952 : -0.0786726791874\n",
      "TotRmsAbvGrd : -0.0733458032909\n",
      "Exterior1st_BrkFace : -0.0668201286011\n",
      "SaleType_COD : -0.0551626316643\n",
      "SaleCondition_Alloca : -0.0548715397188\n",
      "SaleCondition_Normal : -0.0546328659366\n",
      "MSSubClass_70 : -0.0511452659649\n",
      "CentralAir_Y : -0.0498077411003\n",
      "Neighborhood_Edwards : -0.0491339345545\n",
      "GarageQual_Gd : -0.0483323887043\n",
      "Condition1_Feedr : -0.0480856510238\n",
      "Exterior1st_MetalSd : -0.0449208015367\n",
      "Neighborhood_BrkSide : -0.0445816036537\n",
      "Exterior1st_WdShing : -0.0429368309255\n",
      "MSSubClass_50 : -0.0413002909071\n",
      "HouseStyle_2.5Fin : -0.039066507755\n",
      "LowQualFinSF : -0.0386089201575\n",
      "YearRemodAdd_1982 : -0.0381616614868\n",
      "SaleType_Oth : -0.0371363418239\n",
      "GarageQual_Ex : -0.0357369752149\n",
      "Functional_Maj2 : -0.0330264676542\n",
      "HeatingQC_Gd : -0.0328608763526\n",
      "MSZoning_RM : -0.0310430207373\n",
      "GarageQual_Po : -0.0302010676583\n",
      "Exterior1st_AsphShn : -0.0291057383242\n",
      "BsmtQual_TA : -0.0288223548192\n",
      "Exterior1st_Stucco : -0.0283304019412\n",
      "Neighborhood_OldTown : -0.0264609766087\n",
      "MSSubClass_190 : -0.0253375175976\n",
      "YearRemodAdd_1978 : -0.0226557168407\n",
      "Functional_Sev : -0.0225339617994\n",
      "HouseStyle_1.5Fin : -0.0220824633127\n",
      "BsmtQual_Fa : -0.0218059499246\n",
      "MSZoning_RL : -0.0203760298738\n",
      "Neighborhood_MeadowV : -0.0203736730752\n",
      "MSSubClass_80 : -0.0194007452327\n",
      "HeatingQC_Ex : -0.0186924962001\n",
      "BsmtFullBath : -0.0185006768672\n",
      "MSSubClass_180 : -0.0182710219427\n",
      "YearRemodAdd_1997 : -0.0177651619013\n",
      "YearRemodAdd_1986 : -0.0172861459045\n",
      "YearRemodAdd_1968 : -0.0171924991931\n",
      "YearRemodAdd_1974 : -0.0171265678078\n",
      "YearRemodAdd_2007 : -0.0168871688439\n",
      "Condition2_Feedr : -0.0161416121535\n",
      "BldgType_2fmCon : -0.0160781996822\n",
      "YearRemodAdd_2009 : -0.0147448841561\n",
      "BsmtHalfBath : -0.0143506036152\n",
      "MSSubClass_20 : -0.0140504110985\n",
      "MSZoning_RH : -0.0140315260924\n",
      "MSZoning_FV : -0.0139729158248\n",
      "SaleCondition_Family : -0.0126142532914\n",
      "HouseStyle_2Story : -0.0117489835365\n",
      "YearRemodAdd_1966 : -0.0115928803817\n",
      "YearRemodAdd_1990 : -0.0113768791853\n",
      "BsmtQual_Gd : -0.0112844038326\n",
      "BldgType_Duplex : -0.010014131916\n",
      "Neighborhood_SawyerW : -0.00973170259157\n",
      "YearRemodAdd_1989 : -0.00963178823766\n",
      "SaleType_ConLI : -0.00877877870868\n",
      "HeatingQC_Fa : -0.00809439102884\n",
      "Neighborhood_NPkVill : -0.00793072683715\n",
      "YearRemodAdd_1971 : -0.00781336374851\n",
      "YearRemodAdd_1993 : -0.00773317873852\n",
      "YearRemodAdd_2006 : -0.00698771763751\n",
      "YearRemodAdd_1998 : -0.00688855668679\n",
      "Condition2_Norm : -0.00678411334787\n",
      "HeatingQC_Po : -0.0065158843174\n",
      "YearRemodAdd_1962 : -0.00643239514737\n",
      "MSSubClass_60 : -0.00605220320958\n",
      "MSSubClass_45 : -0.00552079051378\n",
      "YearRemodAdd_1985 : -0.00550647983757\n",
      "Neighborhood_Gilbert : -0.00465676027441\n",
      "SaleCondition_AdjLand : -0.0045424278975\n",
      "SaleType_CWD : -0.00442852315503\n",
      "Condition1_PosN : -0.00437850404168\n",
      "YearRemodAdd_2010 : -0.00432449333277\n",
      "YearRemodAdd_2008 : -0.00345721386892\n",
      "LotArea : -0.00327516189518\n",
      "YearRemodAdd_2002 : -0.00325225167589\n",
      "Functional_Mod : -0.00320023606955\n",
      "Exterior1st_Stone : -0.00299471502345\n",
      "YearRemodAdd_2000 : -0.00266356123403\n",
      "Id : -0.00260440007995\n",
      "YearRemodAdd_1963 : -0.00251234512881\n",
      "MSSubClass_120 : -0.00181826442563\n",
      "Condition1_PosA : -0.0014424249959\n",
      "BldgType_1Fam : -0.000780603928205\n",
      "YearRemodAdd_1981 : -0.000544752053941\n",
      "Neighborhood_NoRidge : -0.000540564224093\n",
      "HouseStyle_1.5Unf : -0.000347142036085\n",
      "Functional_Maj1 : -0.000321081010777\n",
      "YearRemodAdd_1980 : -0.000225041575681\n",
      "YearRemodAdd_1953 : -3.77528230369e-05\n",
      "Exterior1st_ImStucc : 0.0\n",
      "YearRemodAdd_1975 : 0.000127874978733\n",
      "Neighborhood_StoneBr : 0.000180631383744\n",
      "Condition1_RRNn : 0.000496118562259\n",
      "YearRemodAdd_1976 : 0.000660701063832\n",
      "YearRemodAdd_1988 : 0.000844094282655\n",
      "YearRemodAdd_1984 : 0.000939317023948\n",
      "Neighborhood_Sawyer : 0.00115986667627\n",
      "Neighborhood_ClearCr : 0.00126087744654\n",
      "YearRemodAdd_1967 : 0.00159956760056\n",
      "YearRemodAdd_1969 : 0.00166722157784\n",
      "Neighborhood_BrDale : 0.00206753996491\n",
      "YearRemodAdd_1961 : 0.0020849698512\n",
      "KitchenAbvGr : 0.00212917451074\n",
      "YearRemodAdd_2004 : 0.0026709565429\n",
      "BldgType_Twnhs : 0.00276789646056\n",
      "Functional_Min2 : 0.00296623073553\n",
      "Condition2_PosN : 0.00356191606439\n",
      "KitchenQual_Ex : 0.00386420118596\n",
      "Exterior1st_CemntBd : 0.00391716805923\n",
      "YearRemodAdd_1999 : 0.00470238528312\n",
      "Functional_Typ : 0.00475110783954\n",
      "Condition1_RRNe : 0.0048509615366\n",
      "YearRemodAdd_1992 : 0.00486884419198\n",
      "Exterior1st_Plywood : 0.005181818088\n",
      "YearRemodAdd_1983 : 0.00530343595572\n",
      "YearRemodAdd_1954 : 0.00530370693254\n",
      "YearRemodAdd_1964 : 0.00546308584903\n",
      "YearRemodAdd_1977 : 0.00551003437282\n",
      "Neighborhood_NWAmes : 0.00553130777648\n",
      "MSSubClass_160 : 0.00557062050033\n",
      "YearRemodAdd_1958 : 0.00558855041114\n",
      "Neighborhood_Blmngtn : 0.00570421588773\n",
      "MSSubClass_40 : 0.00582554620466\n",
      "YearRemodAdd_1959 : 0.00587859404638\n",
      "Neighborhood_Crawfor : 0.00591723585443\n",
      "YearRemodAdd_1960 : 0.00654461853659\n",
      "SaleType_New : 0.00701775429707\n",
      "YearRemodAdd_2005 : 0.00706612439759\n",
      "YearRemodAdd_1973 : 0.00746331681519\n",
      "KitchenQual_TA : 0.00753897597003\n",
      "YearRemodAdd_1996 : 0.00780841144694\n",
      "PoolArea : 0.00783856988434\n",
      "Neighborhood_Blueste : 0.00825841471715\n",
      "YearRemodAdd_1957 : 0.0088043001127\n",
      "Neighborhood_SWISU : 0.00887669805669\n",
      "Condition1_RRAe : 0.00901686589164\n",
      "YearRemodAdd_1955 : 0.00902549649357\n",
      "Exterior1st_VinylSd : 0.00941360554805\n",
      "YearRemodAdd_2003 : 0.00971166566799\n",
      "Neighborhood_IDOTRR : 0.00974938797131\n",
      "Condition2_PosA : 0.00989784713756\n",
      "Exterior1st_HdBoard : 0.0102438208452\n",
      "YearRemodAdd_2001 : 0.0103484457197\n",
      "Condition1_Norm : 0.0104224799111\n",
      "Functional_Min1 : 0.0104766854731\n",
      "YearRemodAdd_1970 : 0.0107076857532\n",
      "YearRemodAdd_1995 : 0.0107122757501\n",
      "Neighborhood_Timber : 0.0107361804902\n",
      "Condition2_RRAn : 0.0109281353847\n",
      "Condition1_Artery : 0.0117162958399\n",
      "Neighborhood_NridgHt : 0.0121535764281\n",
      "YearRemodAdd_1987 : 0.01233644554\n",
      "SaleType_Con : 0.0123569805111\n",
      "YearRemodAdd_1972 : 0.0127321667458\n",
      "YearRemodAdd_1965 : 0.0129699086413\n",
      "YearRemodAdd_1951 : 0.0142177743184\n",
      "Condition2_RRNn : 0.0142459086455\n",
      "Neighborhood_Somerst : 0.0142949326347\n",
      "YearRemodAdd_1994 : 0.015008349564\n",
      "BldgType_TwnhsE : 0.0150987805989\n",
      "YearRemodAdd_1950 : 0.0152354239864\n",
      "YearRemodAdd_1991 : 0.0155260149471\n",
      "YearRemodAdd_1979 : 0.0160590674065\n",
      "Neighborhood_Mitchel : 0.016143830986\n",
      "BsmtQual_Ex : 0.0164527252872\n",
      "SaleType_ConLw : 0.0165398631023\n",
      "Neighborhood_CollgCr : 0.0167452508209\n",
      "SaleCondition_Partial : 0.0171823806312\n",
      "MSSubClass_85 : 0.0173085848219\n",
      "Condition2_Artery : 0.0177890463306\n",
      "Neighborhood_Veenker : 0.0196236555569\n",
      "YearRemodAdd_1956 : 0.020447282659\n",
      "HouseStyle_SLvl : 0.0217034408003\n",
      "GarageCars : 0.0218551130667\n",
      "Exterior1st_BrkComm : 0.0243140737342\n",
      "KitchenQual_Gd : 0.0259960351672\n",
      "HouseStyle_SFoyer : 0.0264064003659\n",
      "Neighborhood_NAmes : 0.0273626123997\n",
      "HouseStyle_1Story : 0.0301256920973\n",
      "GrLivArea : 0.0307242341281\n",
      "Condition1_RRAn : 0.037398602899\n",
      "Fireplaces : 0.0385537392716\n",
      "BedroomAbvGr : 0.0405574705133\n",
      "MSSubClass_75 : 0.0492810606651\n",
      "CentralAir_N : 0.0498077411003\n",
      "HeatingQC_TA : 0.0507320237084\n",
      "HalfBath : 0.051376721066\n",
      "SaleType_WD : 0.0561899185215\n",
      "YrSold : 0.0707453916183\n",
      "FullBath : 0.0841828923163\n",
      "SaleCondition_Abnorml : 0.091363244426\n",
      "MoSold : 0.104253965109\n",
      "Exterior1st_Wd Sdng : 0.118855133052\n",
      "MSSubClass_30 : 0.159487071225\n",
      "MSZoning_C (all) : 0.270701153421\n"
     ]
    }
   ],
   "source": [
    "#Выводим параметры и их вклад в предсказание\n",
    "for k in sorted(slovar.keys()):\n",
    "    print (slovar[k], ':', k)"
   ]
  },
  {
   "cell_type": "code",
   "execution_count": null,
   "metadata": {
    "collapsed": true
   },
   "outputs": [],
   "source": []
  }
 ],
 "metadata": {
  "anaconda-cloud": {},
  "kernelspec": {
   "display_name": "Python 3",
   "language": "python",
   "name": "python3"
  },
  "language_info": {
   "codemirror_mode": {
    "name": "ipython",
    "version": 3
   },
   "file_extension": ".py",
   "mimetype": "text/x-python",
   "name": "python",
   "nbconvert_exporter": "python",
   "pygments_lexer": "ipython3",
   "version": "3.6.3"
  }
 },
 "nbformat": 4,
 "nbformat_minor": 2
}
