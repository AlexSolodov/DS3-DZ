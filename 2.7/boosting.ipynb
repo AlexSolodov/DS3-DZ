{
 "cells": [
  {
   "cell_type": "markdown",
   "metadata": {},
   "source": [
    "# ЗАНЯТИЕ 2.7. БУСТИНГ. ОБЗОР БИБЛИОТЕКИ XGBOOST"
   ]
  },
  {
   "cell_type": "markdown",
   "metadata": {},
   "source": [
    "Загружаем библиотеки"
   ]
  },
  {
   "cell_type": "code",
   "execution_count": 1,
   "metadata": {
    "ExecuteTime": {
     "end_time": "2018-04-26T08:08:29.935174Z",
     "start_time": "2018-04-26T08:08:29.915148Z"
    },
    "collapsed": true
   },
   "outputs": [],
   "source": [
    "import matplotlib.pyplot as plt\n",
    "import pandas as pd\n",
    "import numpy as np\n",
    "import tqdm\n",
    "\n",
    "%matplotlib inline\n",
    "%config InlineBackend.figure_format = 'retina'\n",
    "\n",
    "#устраним ошибки со шрифтами\n",
    "from matplotlib import rcParams\n",
    "rcParams['font.family'] = 'sans-serif'\n",
    "rcParams['font.sans-serif'] = ['DejaVu Sans']"
   ]
  },
  {
   "cell_type": "markdown",
   "metadata": {},
   "source": [
    "## Описание задачи\n",
    "\n",
    "Используем данные страхового подразделения BNP Paribas из соревнования\n",
    "\n",
    "https://www.kaggle.com/c/bnp-paribas-cardif-claims-management\n",
    "\n",
    "Решается задача классификации страховых случаев:\n",
    "    1. Случаи, требующие дополнительных документов для подтвердения (0)\n",
    "    2. Случаи, которые можно подтверждать автоматически на основе имеющейся информации (1)"
   ]
  },
  {
   "cell_type": "markdown",
   "metadata": {},
   "source": [
    "## Загрузка данных"
   ]
  },
  {
   "cell_type": "code",
   "execution_count": 2,
   "metadata": {
    "ExecuteTime": {
     "end_time": "2018-04-26T08:08:34.447495Z",
     "start_time": "2018-04-26T08:08:32.039845Z"
    },
    "collapsed": true
   },
   "outputs": [],
   "source": [
    "data = pd.read_csv('train.csv')"
   ]
  },
  {
   "cell_type": "markdown",
   "metadata": {},
   "source": [
    "Уменьшим размер данных для ускорения обучения, возмем случайную подвыборку 20% данных со стратификацией"
   ]
  },
  {
   "cell_type": "code",
   "execution_count": 3,
   "metadata": {
    "ExecuteTime": {
     "end_time": "2018-04-26T08:08:45.030900Z",
     "start_time": "2018-04-26T08:08:38.167336Z"
    },
    "collapsed": true
   },
   "outputs": [],
   "source": [
    "from sklearn.model_selection import StratifiedShuffleSplit\n",
    "\n",
    "random_splitter = StratifiedShuffleSplit(n_splits=1, test_size=0.2, random_state=777)\n",
    "\n",
    "for train_index, test_index in random_splitter.split(data, data.target):\n",
    "    data = data.iloc[test_index]"
   ]
  },
  {
   "cell_type": "code",
   "execution_count": 4,
   "metadata": {
    "ExecuteTime": {
     "end_time": "2018-04-26T08:08:53.733715Z",
     "start_time": "2018-04-26T08:08:53.721699Z"
    }
   },
   "outputs": [
    {
     "data": {
      "text/plain": [
       "(22865, 133)"
      ]
     },
     "execution_count": 4,
     "metadata": {},
     "output_type": "execute_result"
    }
   ],
   "source": [
    "data.shape"
   ]
  },
  {
   "cell_type": "markdown",
   "metadata": {},
   "source": [
    "Разбиение на обучение и hold-out тест 70/30. Данных достаточно много, поэтому можно принебречь честной кросс-валидацией и оценивать модель на тесте"
   ]
  },
  {
   "cell_type": "code",
   "execution_count": 5,
   "metadata": {
    "ExecuteTime": {
     "end_time": "2018-04-26T08:08:54.923617Z",
     "start_time": "2018-04-26T08:08:54.879560Z"
    },
    "collapsed": true
   },
   "outputs": [],
   "source": [
    "splitter = StratifiedShuffleSplit(n_splits=1, test_size=0.3, random_state=777)\n",
    "\n",
    "for train_index, test_index in splitter.split(data, data.target):\n",
    "    d_train = data.iloc[train_index]\n",
    "    d_test = data.iloc[test_index]\n",
    "    \n",
    "    y_train = data['target'].iloc[train_index]\n",
    "    y_test = data['target'].iloc[test_index]"
   ]
  },
  {
   "cell_type": "markdown",
   "metadata": {},
   "source": [
    "## Первичный анализ"
   ]
  },
  {
   "cell_type": "markdown",
   "metadata": {},
   "source": [
    "Размер датасета"
   ]
  },
  {
   "cell_type": "code",
   "execution_count": 6,
   "metadata": {
    "ExecuteTime": {
     "end_time": "2018-04-26T08:08:57.764304Z",
     "start_time": "2018-04-26T08:08:57.756291Z"
    }
   },
   "outputs": [
    {
     "data": {
      "text/plain": [
       "(22865, 133)"
      ]
     },
     "execution_count": 6,
     "metadata": {},
     "output_type": "execute_result"
    }
   ],
   "source": [
    "data.shape"
   ]
  },
  {
   "cell_type": "markdown",
   "metadata": {},
   "source": [
    "Распределение значений таргета (event rate)"
   ]
  },
  {
   "cell_type": "code",
   "execution_count": 7,
   "metadata": {
    "ExecuteTime": {
     "end_time": "2018-04-26T08:08:58.993749Z",
     "start_time": "2018-04-26T08:08:58.981735Z"
    }
   },
   "outputs": [
    {
     "data": {
      "text/plain": [
       "1    0.761207\n",
       "0    0.238793\n",
       "Name: target, dtype: float64"
      ]
     },
     "execution_count": 7,
     "metadata": {},
     "output_type": "execute_result"
    }
   ],
   "source": [
    "data.target.value_counts() / len(data)"
   ]
  },
  {
   "cell_type": "markdown",
   "metadata": {},
   "source": [
    "## Предобработка данных"
   ]
  },
  {
   "cell_type": "markdown",
   "metadata": {},
   "source": [
    "Находим категориальные признаки\n",
    "\n",
    "Чтобы в разы не увеличивать число признаков при построении dummy, будем использовать категориальные признаки с < 30 уникальных значений"
   ]
  },
  {
   "cell_type": "code",
   "execution_count": 8,
   "metadata": {
    "ExecuteTime": {
     "end_time": "2018-04-26T08:09:02.430067Z",
     "start_time": "2018-04-26T08:09:02.282122Z"
    }
   },
   "outputs": [
    {
     "name": "stdout",
     "output_type": "stream",
     "text": [
      "v3         3\n",
      "v22     6610\n",
      "v24        5\n",
      "v30        7\n",
      "v31        3\n",
      "v47        9\n",
      "v52       12\n",
      "v56       90\n",
      "v66        3\n",
      "v71        5\n",
      "v74        3\n",
      "v75        4\n",
      "v79       17\n",
      "v91        7\n",
      "v107       7\n",
      "v110       3\n",
      "v112      22\n",
      "v113      34\n",
      "v125      88\n",
      "dtype: int64\n"
     ]
    }
   ],
   "source": [
    "cat_feat = list(data.dtypes[data.dtypes == object].index)\n",
    "\n",
    "#закодируем пропущенные значений строкой, факт пропущенного значения тоже может нести в себе информацию\n",
    "data[cat_feat] = data[cat_feat].fillna('nan')\n",
    "\n",
    "#отфильтруем непрерывные признаки\n",
    "num_feat = [f for f in data if f not in (cat_feat + ['ID', 'target'])]\n",
    "\n",
    "cat_nunique = d_train[cat_feat].nunique()\n",
    "print(cat_nunique)\n",
    "cat_feat = list(cat_nunique[cat_nunique < 30].index)"
   ]
  },
  {
   "cell_type": "code",
   "execution_count": 9,
   "metadata": {
    "ExecuteTime": {
     "end_time": "2018-04-26T08:09:04.250622Z",
     "start_time": "2018-04-26T08:09:04.242607Z"
    },
    "collapsed": true
   },
   "outputs": [],
   "source": [
    "from sklearn.metrics import auc, roc_curve"
   ]
  },
  {
   "cell_type": "markdown",
   "metadata": {},
   "source": [
    "**Создаем признаки для \"деревянных\" моделей**\n",
    "\n",
    "1. Заменяем пропуски на специальное значение -999, чтобы деревья могли их отличить\n",
    "3. Создаем дамми-переменные для категорий"
   ]
  },
  {
   "cell_type": "code",
   "execution_count": 10,
   "metadata": {
    "ExecuteTime": {
     "end_time": "2018-04-26T08:09:05.738668Z",
     "start_time": "2018-04-26T08:09:05.603523Z"
    },
    "collapsed": true
   },
   "outputs": [],
   "source": [
    "dummy_train = pd.get_dummies(d_train[cat_feat], columns=cat_feat)\n",
    "dummy_test = pd.get_dummies(d_test[cat_feat], columns=cat_feat)\n",
    "\n",
    "dummy_cols = list(set(dummy_train) & set(dummy_test))\n",
    "\n",
    "dummy_train = dummy_train[dummy_cols]\n",
    "dummy_test = dummy_test[dummy_cols]\n",
    "\n",
    "\n",
    "X_train = pd.concat([d_train[num_feat].fillna(-999),\n",
    "                     dummy_train], axis=1)\n",
    "\n",
    "X_test = pd.concat([d_test[num_feat].fillna(-999),\n",
    "                     dummy_test], axis=1)"
   ]
  },
  {
   "cell_type": "markdown",
   "metadata": {
    "ExecuteTime": {
     "end_time": "2018-04-25T23:33:03.321847Z",
     "start_time": "2018-04-25T23:33:03.316834Z"
    }
   },
   "source": [
    "**Добавляем средние значения таргета внутри всех категориальных признаков по фолдам, через стекинг**"
   ]
  },
  {
   "cell_type": "code",
   "execution_count": 11,
   "metadata": {
    "ExecuteTime": {
     "end_time": "2018-04-26T08:09:12.648809Z",
     "start_time": "2018-04-26T08:09:08.108417Z"
    }
   },
   "outputs": [
    {
     "name": "stderr",
     "output_type": "stream",
     "text": [
      "100%|██████████████████████████████████████████████████████████████████████████████████| 19/19 [00:07<00:00,  2.67it/s]\n"
     ]
    }
   ],
   "source": [
    "class MeanClassifier():\n",
    "    def __init__(self, col):\n",
    "        self._col = col\n",
    "        \n",
    "    def fit(self, X, y):\n",
    "        self._y_mean = y.mean()\n",
    "        self._means = y.groupby(X[self._col].astype(str)).mean()\n",
    "\n",
    "    def predict_proba(self, X):\n",
    "        new_feature = X[self._col].astype(str)\\\n",
    "            .map(self._means.to_dict())\\\n",
    "            .fillna(self._y_mean)\n",
    "        return np.stack([1-new_feature, new_feature], axis=1)\n",
    "    \n",
    "    \n",
    "def get_meta_features(clf, X_train, y_train, X_test, stack_cv):\n",
    "    meta_train = np.zeros_like(y_train, dtype=float)\n",
    "    meta_test = np.zeros_like(y_test, dtype=float)\n",
    "    \n",
    "    for i, (train_ind, test_ind) in enumerate(stack_cv.split(X_train, y_train)):\n",
    "        \n",
    "        clf.fit(X_train.iloc[train_ind], y_train.iloc[train_ind])\n",
    "        meta_train[test_ind] = clf.predict_proba(X_train.iloc[test_ind])[:, 1]\n",
    "        meta_test += clf.predict_proba(X_test)[:, 1]\n",
    "    \n",
    "    return meta_train, meta_test / stack_cv.n_splits\n",
    "\n",
    "\n",
    "from sklearn.model_selection import StratifiedKFold\n",
    "\n",
    "stack_cv = StratifiedKFold(n_splits=10, random_state=555)\n",
    "\n",
    "meta_train = []\n",
    "meta_test = []\n",
    "col_names = []\n",
    "\n",
    "for c in tqdm.tqdm(cat_nunique.index.tolist()):\n",
    "    clf = MeanClassifier(c)\n",
    "    \n",
    "    meta_tr, meta_te = get_meta_features(clf, d_train, y_train, d_test, stack_cv)\n",
    "\n",
    "    meta_train.append(meta_tr)\n",
    "    meta_test.append(meta_te)\n",
    "    col_names.append('mean_pred_{}'.format(c))\n",
    "\n",
    "X_mean_train = pd.DataFrame(np.stack(meta_train, axis=1), columns=col_names, index=d_train.index)\n",
    "X_mean_test = pd.DataFrame(np.stack(meta_test, axis=1), columns=col_names, index=d_test.index)\n",
    "\n",
    "X_train = pd.concat([X_train, X_mean_train], axis=1)\n",
    "X_test = pd.concat([X_test, X_mean_test], axis=1)"
   ]
  },
  {
   "cell_type": "markdown",
   "metadata": {},
   "source": [
    "#### Считаем ROC AUC"
   ]
  },
  {
   "cell_type": "code",
   "execution_count": 12,
   "metadata": {
    "ExecuteTime": {
     "end_time": "2018-04-26T08:09:13.930260Z",
     "start_time": "2018-04-26T08:09:13.914237Z"
    },
    "collapsed": true
   },
   "outputs": [],
   "source": [
    "def calc_auc(y, y_pred, plot_label='', prin=True):\n",
    "    fpr, tpr, _ = roc_curve(y, y_pred)\n",
    "    auc_val = auc(fpr, tpr)\n",
    "    if prin:\n",
    "        print('ROC AUC: {0:.4f}'.format(auc_val))\n",
    "    if plot_label:\n",
    "        plt.plot(fpr, tpr, label=plot_label)\n",
    "        plt.xlabel('FPR')\n",
    "        plt.ylabel('TPR')\n",
    "    return auc_val"
   ]
  },
  {
   "cell_type": "markdown",
   "metadata": {},
   "source": [
    "## Обучение моделей"
   ]
  },
  {
   "cell_type": "markdown",
   "metadata": {},
   "source": [
    "### Случайный лес"
   ]
  },
  {
   "cell_type": "markdown",
   "metadata": {},
   "source": [
    "Предсказываем вероятность класса 1 и считаем ROC AUC"
   ]
  },
  {
   "cell_type": "code",
   "execution_count": 13,
   "metadata": {
    "ExecuteTime": {
     "end_time": "2018-04-26T08:15:47.255701Z",
     "start_time": "2018-04-26T08:15:33.106506Z"
    }
   },
   "outputs": [
    {
     "data": {
      "text/plain": [
       "RandomForestClassifier(bootstrap=True, class_weight=None, criterion='gini',\n",
       "            max_depth=15, max_features=0.8, max_leaf_nodes=None,\n",
       "            min_impurity_decrease=0.0, min_impurity_split=None,\n",
       "            min_samples_leaf=20, min_samples_split=2,\n",
       "            min_weight_fraction_leaf=0.0, n_estimators=50, n_jobs=-1,\n",
       "            oob_score=False, random_state=None, verbose=0,\n",
       "            warm_start=False)"
      ]
     },
     "execution_count": 13,
     "metadata": {},
     "output_type": "execute_result"
    }
   ],
   "source": [
    "from sklearn.ensemble import RandomForestClassifier\n",
    "\n",
    "clf_rf = RandomForestClassifier(n_estimators=50, max_depth=15, min_samples_leaf=20, max_features=0.8, n_jobs=-1)\n",
    "\n",
    "clf_rf.fit(X_train, y_train)"
   ]
  },
  {
   "cell_type": "code",
   "execution_count": 14,
   "metadata": {
    "ExecuteTime": {
     "end_time": "2018-04-26T08:15:50.500044Z",
     "start_time": "2018-04-26T08:15:49.938494Z"
    }
   },
   "outputs": [
    {
     "name": "stdout",
     "output_type": "stream",
     "text": [
      "Train:\n",
      "ROC AUC: 0.9128\n",
      "Test:\n",
      "ROC AUC: 0.7309\n"
     ]
    },
    {
     "data": {
      "image/png": "[encoded data removed]",
      "text/plain": [
       "<matplotlib.figure.Figure at 0x2c9d9376b70>"
      ]
     },
     "metadata": {
      "image/png": {
       "height": 263,
       "width": 387
      }
     },
     "output_type": "display_data"
    }
   ],
   "source": [
    "y_pred_rf_test = clf_rf.predict_proba(X_test)[:, 1]\n",
    "y_pred_rf_train = clf_rf.predict_proba(X_train)[:, 1]\n",
    "\n",
    "print('Train:')\n",
    "calc_auc(y_train, y_pred_rf_train, 'train')\n",
    "print('Test:')\n",
    "calc_auc(y_test, y_pred_rf_test, 'test')\n",
    "plt.legend();"
   ]
  },
  {
   "cell_type": "markdown",
   "metadata": {},
   "source": [
    "### Бустинг в sklearn"
   ]
  },
  {
   "cell_type": "code",
   "execution_count": 15,
   "metadata": {
    "ExecuteTime": {
     "end_time": "2018-04-26T10:08:47.440200Z",
     "start_time": "2018-04-26T10:08:47.432190Z"
    },
    "collapsed": true
   },
   "outputs": [],
   "source": [
    "from sklearn.ensemble import AdaBoostClassifier, GradientBoostingClassifier\n",
    "from sklearn.tree import DecisionTreeClassifier"
   ]
  },
  {
   "cell_type": "markdown",
   "metadata": {},
   "source": [
    "Adaboost"
   ]
  },
  {
   "cell_type": "code",
   "execution_count": 16,
   "metadata": {
    "ExecuteTime": {
     "end_time": "2018-04-26T10:38:08.023105Z",
     "start_time": "2018-04-26T10:37:55.943611Z"
    }
   },
   "outputs": [
    {
     "name": "stdout",
     "output_type": "stream",
     "text": [
      "Train:\n",
      "ROC AUC: 0.7969\n",
      "Test:\n",
      "ROC AUC: 0.7302\n"
     ]
    },
    {
     "data": {
      "image/png": "[encoded data removed]",
      "text/plain": [
       "<matplotlib.figure.Figure at 0x2c9d7f505c0>"
      ]
     },
     "metadata": {
      "image/png": {
       "height": 263,
       "width": 387
      }
     },
     "output_type": "display_data"
    }
   ],
   "source": [
    "clf_ada = AdaBoostClassifier(DecisionTreeClassifier(max_depth=5, min_samples_leaf=20, max_features=0.8),\n",
    "                             n_estimators=20, learning_rate=0.1)\n",
    "\n",
    "clf_ada.fit(X_train, y_train)\n",
    "y_pred_ada_test = clf_ada.predict_proba(X_test)[:, 1]\n",
    "y_pred_ada_train = clf_ada.predict_proba(X_train)[:, 1]\n",
    "\n",
    "print('Train:')\n",
    "calc_auc(y_train, y_pred_ada_train, 'train')\n",
    "print('Test:')\n",
    "calc_auc(y_test, y_pred_ada_test, 'test')\n",
    "plt.legend();"
   ]
  },
  {
   "cell_type": "markdown",
   "metadata": {},
   "source": [
    "GradientBoosting"
   ]
  },
  {
   "cell_type": "code",
   "execution_count": 17,
   "metadata": {
    "ExecuteTime": {
     "end_time": "2018-04-26T10:37:50.103771Z",
     "start_time": "2018-04-26T10:37:43.457709Z"
    }
   },
   "outputs": [
    {
     "name": "stdout",
     "output_type": "stream",
     "text": [
      "      Iter       Train Loss      OOB Improve   Remaining Time \n",
      "         1           1.0756           0.0232            9.89s\n",
      "         2           1.0427           0.0191            9.18s\n",
      "         3           1.0329           0.0143            8.51s\n",
      "         4           1.0269           0.0128            7.34s\n",
      "         5           1.0082           0.0095            6.87s\n",
      "         6           0.9997           0.0088            6.57s\n",
      "         7           0.9871           0.0069            6.14s\n",
      "         8           0.9692           0.0056            5.45s\n",
      "         9           0.9739           0.0049            4.86s\n",
      "        10           0.9611           0.0039            4.37s\n",
      "        11           0.9568           0.0036            3.85s\n",
      "        12           0.9513           0.0029            3.38s\n",
      "        13           0.9429           0.0027            2.94s\n",
      "        14           0.9388           0.0017            2.49s\n",
      "        15           0.9344           0.0016            2.05s\n",
      "        16           0.9234           0.0012            1.62s\n",
      "        17           0.9287           0.0021            1.22s\n",
      "        18           0.9281           0.0015            0.82s\n",
      "        19           0.9203           0.0010            0.41s\n",
      "        20           0.9279           0.0002            0.00s\n",
      "Train:\n",
      "ROC AUC: 0.7819\n",
      "Test:\n",
      "ROC AUC: 0.7330\n"
     ]
    },
    {
     "data": {
      "image/png": "[encoded data removed]",
      "text/plain": [
       "<matplotlib.figure.Figure at 0x2c9d7fc8550>"
      ]
     },
     "metadata": {
      "image/png": {
       "height": 263,
       "width": 387
      }
     },
     "output_type": "display_data"
    }
   ],
   "source": [
    "clf_gbm = GradientBoostingClassifier(max_depth=5, min_samples_leaf=20, n_estimators=20, learning_rate=0.1, \n",
    "                                     subsample=0.8, max_features=0.8, verbose=2)\n",
    "\n",
    "clf_gbm.fit(X_train, y_train)\n",
    "y_pred_gbm_test = clf_gbm.predict_proba(X_test)[:, 1]\n",
    "y_pred_gbm_train = clf_gbm.predict_proba(X_train)[:, 1]\n",
    "\n",
    "print('Train:')\n",
    "calc_auc(y_train, y_pred_gbm_train, 'train')\n",
    "print('Test:')\n",
    "calc_auc(y_test, y_pred_gbm_test, 'test')\n",
    "plt.legend();"
   ]
  },
  {
   "cell_type": "markdown",
   "metadata": {},
   "source": [
    "### XGBOOST"
   ]
  },
  {
   "cell_type": "code",
   "execution_count": 18,
   "metadata": {
    "ExecuteTime": {
     "end_time": "2018-04-26T08:17:33.628311Z",
     "start_time": "2018-04-26T08:17:33.194379Z"
    }
   },
   "outputs": [
    {
     "name": "stderr",
     "output_type": "stream",
     "text": [
      "C:\\Users\\alexe\\Anaconda3\\lib\\site-packages\\sklearn\\cross_validation.py:41: DeprecationWarning: This module was deprecated in version 0.18 in favor of the model_selection module into which all the refactored classes and functions are moved. Also note that the interface of the new CV iterators are different from that of this module. This module will be removed in 0.20.\n",
      "  \"This module will be removed in 0.20.\", DeprecationWarning)\n"
     ]
    }
   ],
   "source": [
    "import xgboost as xgb"
   ]
  },
  {
   "cell_type": "markdown",
   "metadata": {
    "ExecuteTime": {
     "end_time": "2018-04-26T08:18:07.469330Z",
     "start_time": "2018-04-26T08:18:07.449305Z"
    }
   },
   "source": [
    "**Важные гиперпараметры алгоритма**\n",
    "\n",
    "a. Параметры деревьев\n",
    "    1. max_depth - максимальная глубина дерева (обычно 3-10, больше глубина -> больше риск переобучения)\n",
    "    2. min_child_weight - минимальное число объектов в листе (обычно до 20, больше объектов -> меньше риск переобучения, но должен быть согласован с глубиной дерева)\n",
    "    3. gamma - минимально необходимый прирост качества для разбиения листа (редко используется)\n",
    "\n",
    "b. Параметры бустинга\n",
    "    0. objective - оптимизируемый функционал (встроен для классификации и регрессии, можно написать свой дифференцируемый)\n",
    "    1. n_estimators - кол-во базовых алгоритмов (чем меньше learning_rate, тем больше деревьев)\n",
    "    2. learning_rate - шаг создания ансамбля (зависит от n_estimators, но обычно 0.01 - 0.1)\n",
    "    2. colsample_bytree - доля признаков, случайно выбирающихся для построения дерева\n",
    "    3. subsample - доля объектов, случайно выбирающихся для построения дерева\n",
    "    4. n_jobs - кол-во потоков для одновременного построения деревьев (большая прибавка к скорости на многоядерных процах)\n",
    "    5. reg_alpha - вес L1 регуляризации (редко используется)\n",
    "    6. reg_lambda - вес L2 регуляризации (редко используется)"
   ]
  },
  {
   "cell_type": "markdown",
   "metadata": {},
   "source": [
    "Параметры по умолчанию"
   ]
  },
  {
   "cell_type": "code",
   "execution_count": 22,
   "metadata": {
    "ExecuteTime": {
     "end_time": "2018-04-26T10:20:26.421747Z",
     "start_time": "2018-04-26T10:20:19.963783Z"
    }
   },
   "outputs": [
    {
     "data": {
      "text/plain": [
       "XGBClassifier(base_score=0.5, colsample_bylevel=1, colsample_bytree=1,\n",
       "       gamma=0, learning_rate=0.1, max_delta_step=0, max_depth=3,\n",
       "       min_child_weight=1, missing=None, n_estimators=100, nthread=-1,\n",
       "       objective='binary:logistic', reg_alpha=0, reg_lambda=1,\n",
       "       scale_pos_weight=1, seed=0, silent=True, subsample=1)"
      ]
     },
     "execution_count": 22,
     "metadata": {},
     "output_type": "execute_result"
    }
   ],
   "source": [
    "params = {'n_estimators': 100,\n",
    "          'learning_rate': 0.1,\n",
    "          'max_depth': 3,\n",
    "          'min_child_weight': 1,\n",
    "          'subsample': 1,\n",
    "          'colsample_bytree': 1}\n",
    "\n",
    "clf_xgb = xgb.XGBClassifier(**params)\n",
    "clf_xgb.fit(X_train, y_train)"
   ]
  },
  {
   "cell_type": "code",
   "execution_count": 23,
   "metadata": {
    "ExecuteTime": {
     "end_time": "2018-04-26T08:34:44.455117Z",
     "start_time": "2018-04-26T08:34:43.946222Z"
    }
   },
   "outputs": [
    {
     "name": "stdout",
     "output_type": "stream",
     "text": [
      "Train:\n",
      "ROC AUC: 0.7835\n",
      "Test:\n",
      "ROC AUC: 0.7354\n"
     ]
    },
    {
     "data": {
      "image/png": "[encoded data removed]",
      "text/plain": [
       "<matplotlib.figure.Figure at 0x2c9d7ef9278>"
      ]
     },
     "metadata": {
      "image/png": {
       "height": 263,
       "width": 387
      }
     },
     "output_type": "display_data"
    }
   ],
   "source": [
    "y_pred_xgb_test = clf_xgb.predict_proba(X_test)[:, 1]\n",
    "y_pred_xgb_train = clf_xgb.predict_proba(X_train)[:, 1]\n",
    "\n",
    "print('Train:')\n",
    "calc_auc(y_train, y_pred_xgb_train, 'train')\n",
    "print('Test:')\n",
    "calc_auc(y_test, y_pred_xgb_test, 'test')\n",
    "plt.legend();"
   ]
  },
  {
   "cell_type": "markdown",
   "metadata": {},
   "source": [
    "#### Онлайн оценка качества "
   ]
  },
  {
   "cell_type": "markdown",
   "metadata": {},
   "source": [
    "Во время обучения можно следить за качеством во время каждой итерации\n",
    "\n",
    "Для этого используются параметры:\n",
    "    1. eval_metric - метрика 'auc', 'rmse', 'logloss', ...\n",
    "    2. eval_set - список выборок вида [(X, y), ...] на которых тестировать алгоритм"
   ]
  },
  {
   "cell_type": "code",
   "execution_count": 24,
   "metadata": {
    "ExecuteTime": {
     "end_time": "2018-04-26T08:35:19.128072Z",
     "start_time": "2018-04-26T08:35:00.603304Z"
    },
    "scrolled": true
   },
   "outputs": [
    {
     "name": "stdout",
     "output_type": "stream",
     "text": [
      "[0]\tvalidation_0-auc:0.705711\tvalidation_1-auc:0.698949\n",
      "[1]\tvalidation_0-auc:0.708731\tvalidation_1-auc:0.701512\n",
      "[2]\tvalidation_0-auc:0.709658\tvalidation_1-auc:0.699875\n",
      "[3]\tvalidation_0-auc:0.713969\tvalidation_1-auc:0.705119\n",
      "[4]\tvalidation_0-auc:0.718416\tvalidation_1-auc:0.711885\n",
      "[5]\tvalidation_0-auc:0.719184\tvalidation_1-auc:0.713378\n",
      "[6]\tvalidation_0-auc:0.723563\tvalidation_1-auc:0.716415\n",
      "[7]\tvalidation_0-auc:0.724939\tvalidation_1-auc:0.7178\n",
      "[8]\tvalidation_0-auc:0.728176\tvalidation_1-auc:0.721416\n",
      "[9]\tvalidation_0-auc:0.729732\tvalidation_1-auc:0.722481\n",
      "[10]\tvalidation_0-auc:0.731069\tvalidation_1-auc:0.724036\n",
      "[11]\tvalidation_0-auc:0.731379\tvalidation_1-auc:0.724257\n",
      "[12]\tvalidation_0-auc:0.731565\tvalidation_1-auc:0.723903\n",
      "[13]\tvalidation_0-auc:0.732835\tvalidation_1-auc:0.725882\n",
      "[14]\tvalidation_0-auc:0.732879\tvalidation_1-auc:0.725618\n",
      "[15]\tvalidation_0-auc:0.73422\tvalidation_1-auc:0.726499\n",
      "[16]\tvalidation_0-auc:0.735358\tvalidation_1-auc:0.727529\n",
      "[17]\tvalidation_0-auc:0.73582\tvalidation_1-auc:0.727045\n",
      "[18]\tvalidation_0-auc:0.737466\tvalidation_1-auc:0.728233\n",
      "[19]\tvalidation_0-auc:0.738806\tvalidation_1-auc:0.729455\n",
      "[20]\tvalidation_0-auc:0.739782\tvalidation_1-auc:0.730134\n",
      "[21]\tvalidation_0-auc:0.740457\tvalidation_1-auc:0.730044\n",
      "[22]\tvalidation_0-auc:0.740955\tvalidation_1-auc:0.730337\n",
      "[23]\tvalidation_0-auc:0.741138\tvalidation_1-auc:0.72991\n",
      "[24]\tvalidation_0-auc:0.742176\tvalidation_1-auc:0.730603\n",
      "[25]\tvalidation_0-auc:0.742486\tvalidation_1-auc:0.73054\n",
      "[26]\tvalidation_0-auc:0.743568\tvalidation_1-auc:0.730552\n",
      "[27]\tvalidation_0-auc:0.744465\tvalidation_1-auc:0.731106\n",
      "[28]\tvalidation_0-auc:0.745144\tvalidation_1-auc:0.730882\n",
      "[29]\tvalidation_0-auc:0.745664\tvalidation_1-auc:0.731071\n",
      "[30]\tvalidation_0-auc:0.746174\tvalidation_1-auc:0.731162\n",
      "[31]\tvalidation_0-auc:0.747228\tvalidation_1-auc:0.731653\n",
      "[32]\tvalidation_0-auc:0.747728\tvalidation_1-auc:0.731468\n",
      "[33]\tvalidation_0-auc:0.74845\tvalidation_1-auc:0.731825\n",
      "[34]\tvalidation_0-auc:0.748956\tvalidation_1-auc:0.731849\n",
      "[35]\tvalidation_0-auc:0.749808\tvalidation_1-auc:0.731915\n",
      "[36]\tvalidation_0-auc:0.750316\tvalidation_1-auc:0.731823\n",
      "[37]\tvalidation_0-auc:0.750992\tvalidation_1-auc:0.732115\n",
      "[38]\tvalidation_0-auc:0.751733\tvalidation_1-auc:0.731952\n",
      "[39]\tvalidation_0-auc:0.752132\tvalidation_1-auc:0.732097\n",
      "[40]\tvalidation_0-auc:0.752579\tvalidation_1-auc:0.732288\n",
      "[41]\tvalidation_0-auc:0.753406\tvalidation_1-auc:0.732305\n",
      "[42]\tvalidation_0-auc:0.754325\tvalidation_1-auc:0.733031\n",
      "[43]\tvalidation_0-auc:0.754902\tvalidation_1-auc:0.733176\n",
      "[44]\tvalidation_0-auc:0.755392\tvalidation_1-auc:0.733349\n",
      "[45]\tvalidation_0-auc:0.756085\tvalidation_1-auc:0.733334\n",
      "[46]\tvalidation_0-auc:0.757074\tvalidation_1-auc:0.733174\n",
      "[47]\tvalidation_0-auc:0.757753\tvalidation_1-auc:0.733348\n",
      "[48]\tvalidation_0-auc:0.758579\tvalidation_1-auc:0.733473\n",
      "[49]\tvalidation_0-auc:0.758865\tvalidation_1-auc:0.733587\n",
      "[50]\tvalidation_0-auc:0.759451\tvalidation_1-auc:0.733458\n",
      "[51]\tvalidation_0-auc:0.75992\tvalidation_1-auc:0.733748\n",
      "[52]\tvalidation_0-auc:0.760161\tvalidation_1-auc:0.733595\n",
      "[53]\tvalidation_0-auc:0.760775\tvalidation_1-auc:0.733528\n",
      "[54]\tvalidation_0-auc:0.761542\tvalidation_1-auc:0.733462\n",
      "[55]\tvalidation_0-auc:0.762192\tvalidation_1-auc:0.733272\n",
      "[56]\tvalidation_0-auc:0.762802\tvalidation_1-auc:0.73353\n",
      "[57]\tvalidation_0-auc:0.762993\tvalidation_1-auc:0.733497\n",
      "[58]\tvalidation_0-auc:0.763363\tvalidation_1-auc:0.733566\n",
      "[59]\tvalidation_0-auc:0.763696\tvalidation_1-auc:0.733751\n",
      "[60]\tvalidation_0-auc:0.76444\tvalidation_1-auc:0.733852\n",
      "[61]\tvalidation_0-auc:0.765098\tvalidation_1-auc:0.734165\n",
      "[62]\tvalidation_0-auc:0.765532\tvalidation_1-auc:0.734017\n",
      "[63]\tvalidation_0-auc:0.766449\tvalidation_1-auc:0.734484\n",
      "[64]\tvalidation_0-auc:0.767128\tvalidation_1-auc:0.734474\n",
      "[65]\tvalidation_0-auc:0.767461\tvalidation_1-auc:0.734666\n",
      "[66]\tvalidation_0-auc:0.768052\tvalidation_1-auc:0.734657\n",
      "[67]\tvalidation_0-auc:0.768706\tvalidation_1-auc:0.734737\n",
      "[68]\tvalidation_0-auc:0.769134\tvalidation_1-auc:0.734948\n",
      "[69]\tvalidation_0-auc:0.769567\tvalidation_1-auc:0.734998\n",
      "[70]\tvalidation_0-auc:0.770008\tvalidation_1-auc:0.734863\n",
      "[71]\tvalidation_0-auc:0.770654\tvalidation_1-auc:0.734958\n",
      "[72]\tvalidation_0-auc:0.771027\tvalidation_1-auc:0.734954\n",
      "[73]\tvalidation_0-auc:0.771563\tvalidation_1-auc:0.734787\n",
      "[74]\tvalidation_0-auc:0.772091\tvalidation_1-auc:0.734982\n",
      "[75]\tvalidation_0-auc:0.772333\tvalidation_1-auc:0.734971\n",
      "[76]\tvalidation_0-auc:0.772434\tvalidation_1-auc:0.734824\n",
      "[77]\tvalidation_0-auc:0.772934\tvalidation_1-auc:0.734618\n",
      "[78]\tvalidation_0-auc:0.773452\tvalidation_1-auc:0.734811\n",
      "[79]\tvalidation_0-auc:0.773995\tvalidation_1-auc:0.735021\n",
      "[80]\tvalidation_0-auc:0.774401\tvalidation_1-auc:0.735066\n",
      "[81]\tvalidation_0-auc:0.775163\tvalidation_1-auc:0.73505\n",
      "[82]\tvalidation_0-auc:0.775564\tvalidation_1-auc:0.735074\n",
      "[83]\tvalidation_0-auc:0.775908\tvalidation_1-auc:0.734948\n",
      "[84]\tvalidation_0-auc:0.776332\tvalidation_1-auc:0.73478\n",
      "[85]\tvalidation_0-auc:0.776725\tvalidation_1-auc:0.734901\n",
      "[86]\tvalidation_0-auc:0.777368\tvalidation_1-auc:0.734936\n",
      "[87]\tvalidation_0-auc:0.777621\tvalidation_1-auc:0.734941\n",
      "[88]\tvalidation_0-auc:0.778133\tvalidation_1-auc:0.734805\n",
      "[89]\tvalidation_0-auc:0.778503\tvalidation_1-auc:0.734873\n",
      "[90]\tvalidation_0-auc:0.778566\tvalidation_1-auc:0.734829\n",
      "[91]\tvalidation_0-auc:0.779256\tvalidation_1-auc:0.734798\n",
      "[92]\tvalidation_0-auc:0.779951\tvalidation_1-auc:0.734569\n",
      "[93]\tvalidation_0-auc:0.78057\tvalidation_1-auc:0.734936\n",
      "[94]\tvalidation_0-auc:0.780777\tvalidation_1-auc:0.734961\n",
      "[95]\tvalidation_0-auc:0.781454\tvalidation_1-auc:0.735309\n",
      "[96]\tvalidation_0-auc:0.781677\tvalidation_1-auc:0.735294\n",
      "[97]\tvalidation_0-auc:0.782304\tvalidation_1-auc:0.735255\n",
      "[98]\tvalidation_0-auc:0.782837\tvalidation_1-auc:0.735422\n",
      "[99]\tvalidation_0-auc:0.783535\tvalidation_1-auc:0.735389\n"
     ]
    },
    {
     "data": {
      "text/plain": [
       "XGBClassifier(base_score=0.5, colsample_bylevel=1, colsample_bytree=1,\n",
       "       gamma=0, learning_rate=0.1, max_delta_step=0, max_depth=3,\n",
       "       min_child_weight=1, missing=None, n_estimators=100, nthread=-1,\n",
       "       objective='binary:logistic', reg_alpha=0, reg_lambda=1,\n",
       "       scale_pos_weight=1, seed=0, silent=True, subsample=1)"
      ]
     },
     "execution_count": 24,
     "metadata": {},
     "output_type": "execute_result"
    }
   ],
   "source": [
    "params = {'n_estimators': 100,\n",
    "          'learning_rate': 0.1,\n",
    "          'max_depth': 3,\n",
    "          'min_child_weight': 1,\n",
    "          'subsample': 1,\n",
    "          'colsample_bytree': 1}\n",
    "clf_xgb = xgb.XGBClassifier(**params)\n",
    "\n",
    "clf_xgb.fit(X_train, y_train, eval_metric='auc', eval_set=[[X_train, y_train], [X_test, y_test]])"
   ]
  },
  {
   "cell_type": "markdown",
   "metadata": {},
   "source": [
    "### Самостоятельное задание"
   ]
  },
  {
   "cell_type": "markdown",
   "metadata": {
    "ExecuteTime": {
     "end_time": "2018-04-26T10:33:28.304675Z",
     "start_time": "2018-04-26T10:33:28.296665Z"
    }
   },
   "source": [
    "Сравнить алгоритмы AdaBoost, GradientBoostingClassifier и Xgboost с похожим набором параметров"
   ]
  },
  {
   "cell_type": "code",
   "execution_count": 149,
   "metadata": {
    "ExecuteTime": {
     "end_time": "2018-04-26T10:34:11.793304Z",
     "start_time": "2018-04-26T10:34:11.785326Z"
    },
    "collapsed": true
   },
   "outputs": [],
   "source": [
    "### TODO\n",
    "\n",
    "\n",
    "\n",
    "\n",
    "\n",
    "\n",
    "\n",
    "\n",
    "\n",
    "\n",
    "\n",
    "\n",
    "\n",
    "### TODO"
   ]
  },
  {
   "cell_type": "markdown",
   "metadata": {},
   "source": [
    "Возмем параметры, с которых лучше всего начать"
   ]
  },
  {
   "cell_type": "code",
   "execution_count": 26,
   "metadata": {
    "ExecuteTime": {
     "end_time": "2018-04-26T08:37:25.888518Z",
     "start_time": "2018-04-26T08:37:02.874039Z"
    },
    "scrolled": true
   },
   "outputs": [
    {
     "name": "stdout",
     "output_type": "stream",
     "text": [
      "[0]\tvalidation_0-auc:0.700222\tvalidation_1-auc:0.684096\n",
      "[1]\tvalidation_0-auc:0.740959\tvalidation_1-auc:0.716888\n",
      "[2]\tvalidation_0-auc:0.745951\tvalidation_1-auc:0.720815\n",
      "[3]\tvalidation_0-auc:0.744416\tvalidation_1-auc:0.720098\n",
      "[4]\tvalidation_0-auc:0.752819\tvalidation_1-auc:0.724906\n",
      "[5]\tvalidation_0-auc:0.757331\tvalidation_1-auc:0.728751\n",
      "[6]\tvalidation_0-auc:0.760079\tvalidation_1-auc:0.730346\n",
      "[7]\tvalidation_0-auc:0.762263\tvalidation_1-auc:0.731594\n",
      "[8]\tvalidation_0-auc:0.76422\tvalidation_1-auc:0.732471\n",
      "[9]\tvalidation_0-auc:0.766587\tvalidation_1-auc:0.733196\n",
      "[10]\tvalidation_0-auc:0.767929\tvalidation_1-auc:0.734033\n",
      "[11]\tvalidation_0-auc:0.77066\tvalidation_1-auc:0.734336\n",
      "[12]\tvalidation_0-auc:0.773167\tvalidation_1-auc:0.73515\n",
      "[13]\tvalidation_0-auc:0.774778\tvalidation_1-auc:0.735498\n",
      "[14]\tvalidation_0-auc:0.776446\tvalidation_1-auc:0.736108\n",
      "[15]\tvalidation_0-auc:0.777436\tvalidation_1-auc:0.735921\n",
      "[16]\tvalidation_0-auc:0.779441\tvalidation_1-auc:0.735671\n",
      "[17]\tvalidation_0-auc:0.781435\tvalidation_1-auc:0.735894\n",
      "[18]\tvalidation_0-auc:0.782393\tvalidation_1-auc:0.735433\n",
      "[19]\tvalidation_0-auc:0.784036\tvalidation_1-auc:0.735792\n",
      "[20]\tvalidation_0-auc:0.785413\tvalidation_1-auc:0.735695\n",
      "[21]\tvalidation_0-auc:0.78664\tvalidation_1-auc:0.735487\n",
      "[22]\tvalidation_0-auc:0.78885\tvalidation_1-auc:0.735141\n",
      "[23]\tvalidation_0-auc:0.791062\tvalidation_1-auc:0.735359\n",
      "[24]\tvalidation_0-auc:0.792949\tvalidation_1-auc:0.735005\n",
      "[25]\tvalidation_0-auc:0.793956\tvalidation_1-auc:0.735303\n",
      "[26]\tvalidation_0-auc:0.79563\tvalidation_1-auc:0.73541\n",
      "[27]\tvalidation_0-auc:0.796999\tvalidation_1-auc:0.735476\n",
      "[28]\tvalidation_0-auc:0.798741\tvalidation_1-auc:0.735179\n",
      "[29]\tvalidation_0-auc:0.800133\tvalidation_1-auc:0.735227\n",
      "[30]\tvalidation_0-auc:0.801725\tvalidation_1-auc:0.735506\n",
      "[31]\tvalidation_0-auc:0.803239\tvalidation_1-auc:0.735752\n",
      "[32]\tvalidation_0-auc:0.804481\tvalidation_1-auc:0.735665\n",
      "[33]\tvalidation_0-auc:0.805912\tvalidation_1-auc:0.736466\n",
      "[34]\tvalidation_0-auc:0.807528\tvalidation_1-auc:0.736713\n",
      "[35]\tvalidation_0-auc:0.809287\tvalidation_1-auc:0.737145\n",
      "[36]\tvalidation_0-auc:0.810692\tvalidation_1-auc:0.736432\n",
      "[37]\tvalidation_0-auc:0.812412\tvalidation_1-auc:0.736473\n",
      "[38]\tvalidation_0-auc:0.813133\tvalidation_1-auc:0.736252\n",
      "[39]\tvalidation_0-auc:0.814804\tvalidation_1-auc:0.736187\n",
      "[40]\tvalidation_0-auc:0.815727\tvalidation_1-auc:0.736129\n",
      "[41]\tvalidation_0-auc:0.81675\tvalidation_1-auc:0.736017\n",
      "[42]\tvalidation_0-auc:0.818594\tvalidation_1-auc:0.735644\n",
      "[43]\tvalidation_0-auc:0.820419\tvalidation_1-auc:0.735642\n",
      "[44]\tvalidation_0-auc:0.822019\tvalidation_1-auc:0.735394\n",
      "[45]\tvalidation_0-auc:0.823234\tvalidation_1-auc:0.735846\n",
      "[46]\tvalidation_0-auc:0.824654\tvalidation_1-auc:0.73584\n",
      "[47]\tvalidation_0-auc:0.826666\tvalidation_1-auc:0.735729\n",
      "[48]\tvalidation_0-auc:0.827454\tvalidation_1-auc:0.735848\n",
      "[49]\tvalidation_0-auc:0.82876\tvalidation_1-auc:0.735778\n",
      "[50]\tvalidation_0-auc:0.829936\tvalidation_1-auc:0.735406\n",
      "[51]\tvalidation_0-auc:0.830889\tvalidation_1-auc:0.735064\n",
      "[52]\tvalidation_0-auc:0.831456\tvalidation_1-auc:0.734978\n",
      "[53]\tvalidation_0-auc:0.832031\tvalidation_1-auc:0.735099\n",
      "[54]\tvalidation_0-auc:0.833123\tvalidation_1-auc:0.734548\n",
      "[55]\tvalidation_0-auc:0.834621\tvalidation_1-auc:0.734523\n",
      "[56]\tvalidation_0-auc:0.835704\tvalidation_1-auc:0.734605\n",
      "[57]\tvalidation_0-auc:0.837444\tvalidation_1-auc:0.734759\n",
      "[58]\tvalidation_0-auc:0.838297\tvalidation_1-auc:0.734654\n",
      "[59]\tvalidation_0-auc:0.839318\tvalidation_1-auc:0.734421\n",
      "[60]\tvalidation_0-auc:0.840104\tvalidation_1-auc:0.734623\n",
      "[61]\tvalidation_0-auc:0.84067\tvalidation_1-auc:0.734575\n",
      "[62]\tvalidation_0-auc:0.841186\tvalidation_1-auc:0.734653\n",
      "[63]\tvalidation_0-auc:0.842165\tvalidation_1-auc:0.734963\n",
      "[64]\tvalidation_0-auc:0.842989\tvalidation_1-auc:0.734741\n",
      "[65]\tvalidation_0-auc:0.844442\tvalidation_1-auc:0.734678\n",
      "[66]\tvalidation_0-auc:0.846065\tvalidation_1-auc:0.734995\n",
      "[67]\tvalidation_0-auc:0.847217\tvalidation_1-auc:0.73471\n",
      "[68]\tvalidation_0-auc:0.847758\tvalidation_1-auc:0.734702\n",
      "[69]\tvalidation_0-auc:0.848725\tvalidation_1-auc:0.734662\n",
      "[70]\tvalidation_0-auc:0.85039\tvalidation_1-auc:0.735117\n",
      "[71]\tvalidation_0-auc:0.851674\tvalidation_1-auc:0.735105\n",
      "[72]\tvalidation_0-auc:0.852997\tvalidation_1-auc:0.734954\n",
      "[73]\tvalidation_0-auc:0.85422\tvalidation_1-auc:0.735121\n",
      "[74]\tvalidation_0-auc:0.854981\tvalidation_1-auc:0.73515\n",
      "[75]\tvalidation_0-auc:0.855982\tvalidation_1-auc:0.735241\n",
      "[76]\tvalidation_0-auc:0.857659\tvalidation_1-auc:0.735283\n",
      "[77]\tvalidation_0-auc:0.858906\tvalidation_1-auc:0.734953\n",
      "[78]\tvalidation_0-auc:0.859555\tvalidation_1-auc:0.735181\n",
      "[79]\tvalidation_0-auc:0.860685\tvalidation_1-auc:0.735091\n",
      "[80]\tvalidation_0-auc:0.86115\tvalidation_1-auc:0.734978\n",
      "[81]\tvalidation_0-auc:0.862338\tvalidation_1-auc:0.734621\n",
      "[82]\tvalidation_0-auc:0.863272\tvalidation_1-auc:0.734849\n",
      "[83]\tvalidation_0-auc:0.864212\tvalidation_1-auc:0.734652\n",
      "[84]\tvalidation_0-auc:0.865313\tvalidation_1-auc:0.73443\n",
      "[85]\tvalidation_0-auc:0.866825\tvalidation_1-auc:0.734348\n",
      "[86]\tvalidation_0-auc:0.867848\tvalidation_1-auc:0.734419\n",
      "[87]\tvalidation_0-auc:0.868625\tvalidation_1-auc:0.734372\n",
      "[88]\tvalidation_0-auc:0.869431\tvalidation_1-auc:0.734468\n",
      "[89]\tvalidation_0-auc:0.870233\tvalidation_1-auc:0.734409\n",
      "[90]\tvalidation_0-auc:0.870965\tvalidation_1-auc:0.734368\n",
      "[91]\tvalidation_0-auc:0.871443\tvalidation_1-auc:0.734386\n",
      "[92]\tvalidation_0-auc:0.871665\tvalidation_1-auc:0.734361\n",
      "[93]\tvalidation_0-auc:0.871987\tvalidation_1-auc:0.734451\n",
      "[94]\tvalidation_0-auc:0.873438\tvalidation_1-auc:0.734551\n",
      "[95]\tvalidation_0-auc:0.874556\tvalidation_1-auc:0.734734\n",
      "[96]\tvalidation_0-auc:0.875649\tvalidation_1-auc:0.734549\n",
      "[97]\tvalidation_0-auc:0.877198\tvalidation_1-auc:0.734372\n",
      "[98]\tvalidation_0-auc:0.877645\tvalidation_1-auc:0.734771\n",
      "[99]\tvalidation_0-auc:0.878416\tvalidation_1-auc:0.734735\n"
     ]
    },
    {
     "data": {
      "text/plain": [
       "XGBClassifier(base_score=0.5, colsample_bylevel=1, colsample_bytree=0.8,\n",
       "       gamma=0, learning_rate=0.1, max_delta_step=0, max_depth=5,\n",
       "       min_child_weight=1, missing=None, n_estimators=100, nthread=-1,\n",
       "       objective='binary:logistic', reg_alpha=0, reg_lambda=1,\n",
       "       scale_pos_weight=1, seed=0, silent=True, subsample=0.8)"
      ]
     },
     "execution_count": 26,
     "metadata": {},
     "output_type": "execute_result"
    }
   ],
   "source": [
    "params = {'n_estimators': 100,\n",
    "          'learning_rate': 0.1,\n",
    "          'max_depth': 5,\n",
    "          'min_child_weight': 1,\n",
    "          'subsample': 0.8,\n",
    "          'colsample_bytree': 0.8}\n",
    "clf_xgb = xgb.XGBClassifier(**params)\n",
    "\n",
    "clf_xgb.fit(X_train, y_train, eval_metric='auc', eval_set=[[X_train, y_train], [X_test, y_test]])"
   ]
  },
  {
   "cell_type": "markdown",
   "metadata": {},
   "source": [
    "Достанем из объекта clf_xgb списки результатов метрик по итерациям, построим графики"
   ]
  },
  {
   "cell_type": "code",
   "execution_count": 27,
   "metadata": {
    "ExecuteTime": {
     "end_time": "2018-04-26T08:37:27.215704Z",
     "start_time": "2018-04-26T08:37:26.815687Z"
    }
   },
   "outputs": [
    {
     "data": {
      "text/plain": [
       "Text(0.5,0,'iteration number')"
      ]
     },
     "execution_count": 27,
     "metadata": {},
     "output_type": "execute_result"
    },
    {
     "data": {
      "image/png": "[encoded data removed]",
      "text/plain": [
       "<matplotlib.figure.Figure at 0x2c9d7ee7ef0>"
      ]
     },
     "metadata": {
      "image/png": {
       "height": 277,
       "width": 386
      }
     },
     "output_type": "display_data"
    },
    {
     "data": {
      "image/png": "[encoded data removed]",
      "text/plain": [
       "<matplotlib.figure.Figure at 0x2c9d7ee9a90>"
      ]
     },
     "metadata": {
      "image/png": {
       "height": 277,
       "width": 386
      }
     },
     "output_type": "display_data"
    }
   ],
   "source": [
    "def save_online_metric(clf):\n",
    "    return pd.DataFrame({'train': clf.evals_result()['validation_0']['auc'],\n",
    "                         'test': clf.evals_result()['validation_1']['auc']})\n",
    "res = save_online_metric(clf_xgb)\n",
    "res.plot(title='ROC AUC')\n",
    "plt.xlabel('iteration number')\n",
    "plt.figure()\n",
    "res.test.plot(ylim=(0.73, 0.74), title='ROC AUC TEST')\n",
    "plt.xlabel('iteration number')"
   ]
  },
  {
   "cell_type": "markdown",
   "metadata": {},
   "source": [
    "Нужно побороть переобучение, уменьшим learning_rate. Также уменьшим кол-во деревьев для ускорения обучения"
   ]
  },
  {
   "cell_type": "code",
   "execution_count": 28,
   "metadata": {
    "ExecuteTime": {
     "end_time": "2018-04-26T08:37:46.351543Z",
     "start_time": "2018-04-26T08:37:34.786692Z"
    },
    "scrolled": true
   },
   "outputs": [
    {
     "name": "stdout",
     "output_type": "stream",
     "text": [
      "[0]\tvalidation_0-auc:0.700222\tvalidation_1-auc:0.684096\n",
      "[1]\tvalidation_0-auc:0.73988\tvalidation_1-auc:0.715709\n",
      "[2]\tvalidation_0-auc:0.74255\tvalidation_1-auc:0.717417\n",
      "[3]\tvalidation_0-auc:0.740389\tvalidation_1-auc:0.71775\n",
      "[4]\tvalidation_0-auc:0.747719\tvalidation_1-auc:0.723049\n",
      "[5]\tvalidation_0-auc:0.75205\tvalidation_1-auc:0.727119\n",
      "[6]\tvalidation_0-auc:0.753635\tvalidation_1-auc:0.728977\n",
      "[7]\tvalidation_0-auc:0.755679\tvalidation_1-auc:0.730002\n",
      "[8]\tvalidation_0-auc:0.756377\tvalidation_1-auc:0.729622\n",
      "[9]\tvalidation_0-auc:0.757575\tvalidation_1-auc:0.730882\n",
      "[10]\tvalidation_0-auc:0.757825\tvalidation_1-auc:0.730837\n",
      "[11]\tvalidation_0-auc:0.75857\tvalidation_1-auc:0.730787\n",
      "[12]\tvalidation_0-auc:0.760087\tvalidation_1-auc:0.731596\n",
      "[13]\tvalidation_0-auc:0.761581\tvalidation_1-auc:0.732197\n",
      "[14]\tvalidation_0-auc:0.762423\tvalidation_1-auc:0.732764\n",
      "[15]\tvalidation_0-auc:0.763712\tvalidation_1-auc:0.733158\n",
      "[16]\tvalidation_0-auc:0.764322\tvalidation_1-auc:0.733265\n",
      "[17]\tvalidation_0-auc:0.765199\tvalidation_1-auc:0.733623\n",
      "[18]\tvalidation_0-auc:0.765735\tvalidation_1-auc:0.733585\n",
      "[19]\tvalidation_0-auc:0.766742\tvalidation_1-auc:0.733952\n",
      "[20]\tvalidation_0-auc:0.767265\tvalidation_1-auc:0.734086\n",
      "[21]\tvalidation_0-auc:0.767461\tvalidation_1-auc:0.734137\n",
      "[22]\tvalidation_0-auc:0.768515\tvalidation_1-auc:0.734267\n",
      "[23]\tvalidation_0-auc:0.769127\tvalidation_1-auc:0.734678\n",
      "[24]\tvalidation_0-auc:0.769754\tvalidation_1-auc:0.734521\n",
      "[25]\tvalidation_0-auc:0.769821\tvalidation_1-auc:0.734518\n",
      "[26]\tvalidation_0-auc:0.770222\tvalidation_1-auc:0.734324\n",
      "[27]\tvalidation_0-auc:0.770814\tvalidation_1-auc:0.734245\n",
      "[28]\tvalidation_0-auc:0.771441\tvalidation_1-auc:0.734619\n",
      "[29]\tvalidation_0-auc:0.771737\tvalidation_1-auc:0.734579\n",
      "[30]\tvalidation_0-auc:0.77229\tvalidation_1-auc:0.734529\n",
      "[31]\tvalidation_0-auc:0.772886\tvalidation_1-auc:0.734823\n",
      "[32]\tvalidation_0-auc:0.773116\tvalidation_1-auc:0.734859\n",
      "[33]\tvalidation_0-auc:0.773857\tvalidation_1-auc:0.734989\n",
      "[34]\tvalidation_0-auc:0.774248\tvalidation_1-auc:0.734839\n",
      "[35]\tvalidation_0-auc:0.774825\tvalidation_1-auc:0.735036\n",
      "[36]\tvalidation_0-auc:0.775183\tvalidation_1-auc:0.735101\n",
      "[37]\tvalidation_0-auc:0.775454\tvalidation_1-auc:0.735189\n",
      "[38]\tvalidation_0-auc:0.775935\tvalidation_1-auc:0.735367\n",
      "[39]\tvalidation_0-auc:0.776457\tvalidation_1-auc:0.735464\n",
      "[40]\tvalidation_0-auc:0.776579\tvalidation_1-auc:0.735563\n",
      "[41]\tvalidation_0-auc:0.776812\tvalidation_1-auc:0.735391\n",
      "[42]\tvalidation_0-auc:0.777231\tvalidation_1-auc:0.735282\n",
      "[43]\tvalidation_0-auc:0.77736\tvalidation_1-auc:0.735365\n",
      "[44]\tvalidation_0-auc:0.778106\tvalidation_1-auc:0.73544\n",
      "[45]\tvalidation_0-auc:0.778414\tvalidation_1-auc:0.735443\n",
      "[46]\tvalidation_0-auc:0.778788\tvalidation_1-auc:0.735636\n",
      "[47]\tvalidation_0-auc:0.779168\tvalidation_1-auc:0.73562\n",
      "[48]\tvalidation_0-auc:0.779637\tvalidation_1-auc:0.735596\n",
      "[49]\tvalidation_0-auc:0.779974\tvalidation_1-auc:0.735538\n"
     ]
    }
   ],
   "source": [
    "params = {'n_estimators': 50,\n",
    "          'learning_rate': 0.03,\n",
    "          'max_depth': 5,\n",
    "          'min_child_weight': 1,\n",
    "          'subsample': 0.8,\n",
    "          'colsample_bytree': 0.8}\n",
    "clf_xgb = xgb.XGBClassifier(**params)\n",
    "\n",
    "clf_xgb.fit(X_train, y_train, eval_metric='auc', eval_set=[[X_train, y_train], [X_test, y_test]])\n",
    "\n",
    "best_params = params"
   ]
  },
  {
   "cell_type": "markdown",
   "metadata": {
    "ExecuteTime": {
     "end_time": "2018-04-26T00:59:24.922624Z",
     "start_time": "2018-04-26T00:59:24.917104Z"
    }
   },
   "source": [
    "### Перебор параметров по сетке"
   ]
  },
  {
   "cell_type": "markdown",
   "metadata": {},
   "source": [
    "Опишем функцию, похожую на GridSearchCV, только для одной отложенной выборки X_test. Она перебирает параметки по заданной сетке и возврашает лучшие по ROC AUC"
   ]
  },
  {
   "cell_type": "code",
   "execution_count": 29,
   "metadata": {
    "ExecuteTime": {
     "end_time": "2018-04-26T08:37:59.691341Z",
     "start_time": "2018-04-26T08:37:59.675349Z"
    },
    "collapsed": true
   },
   "outputs": [],
   "source": [
    "def find_params(clf, param_grid):\n",
    "    clf = GridSearchCV(clf, param_grid, scoring='roc_auc', cv=[(np.arange(len(X_train)),\n",
    "                                                               np.arange(len(X_test)) + len(X_train))],\n",
    "                  verbose=3)\n",
    "\n",
    "    clf.fit(pd.concat([X_train, X_test]).values, pd.concat([y_train, y_test]).values)\n",
    "    best_params = clf.best_estimator_.get_params()\n",
    "    print('Best test ROC AUC: ', clf.best_score_)\n",
    "    print('Best params: ', best_params)\n",
    "    return best_params"
   ]
  },
  {
   "cell_type": "markdown",
   "metadata": {},
   "source": [
    "**Процесс подбора параметров**:\n",
    "\n",
    "1. Зафиксируем learning_rate и n_estimators, чтобы модель не переобучалась во время итераций\n",
    "2. Настраиваем параметры деревьев: max_depth и min_child_weight\n",
    "3. Настраиваем gamma (опционально)\n",
    "4. Настраиваем subsample и colsample_bytree\n",
    "5. Настраиваем регуляризацию reg_lambda и reg_alpha\n",
    "6. Уменьшаем learning_rate, увеличиваем кол-во деревьев и обучаем заново на лучших параметрах"
   ]
  },
  {
   "cell_type": "markdown",
   "metadata": {
    "ExecuteTime": {
     "end_time": "2018-04-26T01:11:38.717718Z",
     "start_time": "2018-04-26T01:11:38.712703Z"
    }
   },
   "source": [
    "#### Подбираем max_depth и min_child_weight"
   ]
  },
  {
   "cell_type": "code",
   "execution_count": 32,
   "metadata": {
    "ExecuteTime": {
     "end_time": "2018-04-26T05:52:53.749323Z",
     "start_time": "2018-04-26T05:50:39.822382Z"
    },
    "scrolled": true
   },
   "outputs": [
    {
     "name": "stdout",
     "output_type": "stream",
     "text": [
      "Fitting 1 folds for each of 9 candidates, totalling 9 fits\n",
      "[CV] max_depth=3, min_child_weight=10 ................................\n",
      "[CV]  max_depth=3, min_child_weight=10, score=0.7302479319905594, total=   2.9s\n"
     ]
    },
    {
     "name": "stderr",
     "output_type": "stream",
     "text": [
      "[Parallel(n_jobs=1)]: Done   1 out of   1 | elapsed:    3.0s remaining:    0.0s\n"
     ]
    },
    {
     "name": "stdout",
     "output_type": "stream",
     "text": [
      "[CV] max_depth=3, min_child_weight=20 ................................\n",
      "[CV]  max_depth=3, min_child_weight=20, score=0.7293147031274186, total=   2.9s\n"
     ]
    },
    {
     "name": "stderr",
     "output_type": "stream",
     "text": [
      "[Parallel(n_jobs=1)]: Done   2 out of   2 | elapsed:    6.2s remaining:    0.0s\n"
     ]
    },
    {
     "name": "stdout",
     "output_type": "stream",
     "text": [
      "[CV] max_depth=3, min_child_weight=100 ...............................\n",
      "[CV]  max_depth=3, min_child_weight=100, score=0.7278186142127161, total=   2.9s\n",
      "[CV] max_depth=5, min_child_weight=10 ................................\n",
      "[CV]  max_depth=5, min_child_weight=10, score=0.7358946534549752, total=   3.7s\n",
      "[CV] max_depth=5, min_child_weight=20 ................................\n",
      "[CV]  max_depth=5, min_child_weight=20, score=0.7362904500495462, total=   4.2s\n",
      "[CV] max_depth=5, min_child_weight=100 ...............................\n",
      "[CV]  max_depth=5, min_child_weight=100, score=0.7337311290777395, total=   4.5s\n",
      "[CV] max_depth=10, min_child_weight=10 ...............................\n",
      "[CV]  max_depth=10, min_child_weight=10, score=0.7339511524689617, total=   9.5s\n",
      "[CV] max_depth=10, min_child_weight=20 ...............................\n",
      "[CV]  max_depth=10, min_child_weight=20, score=0.73667508180147, total=   7.7s\n",
      "[CV] max_depth=10, min_child_weight=100 ..............................\n",
      "[CV]  max_depth=10, min_child_weight=100, score=0.7342829411960015, total=   5.6s\n"
     ]
    },
    {
     "name": "stderr",
     "output_type": "stream",
     "text": [
      "[Parallel(n_jobs=1)]: Done   9 out of   9 | elapsed:   45.8s finished\n"
     ]
    },
    {
     "name": "stdout",
     "output_type": "stream",
     "text": [
      "Best test ROC AUC:  0.736675081801\n",
      "Best params:  {'base_score': 0.5, 'colsample_bylevel': 1, 'colsample_bytree': 0.8, 'gamma': 0.25, 'learning_rate': 0.03, 'max_delta_step': 0, 'max_depth': 10, 'min_child_weight': 20, 'missing': None, 'n_estimators': 50, 'nthread': -1, 'objective': 'binary:logistic', 'reg_alpha': 0, 'reg_lambda': 1, 'scale_pos_weight': 1, 'seed': 0, 'silent': True, 'subsample': 0.8}\n"
     ]
    }
   ],
   "source": [
    "from sklearn.model_selection import GridSearchCV\n",
    "\n",
    "clf_xgb = xgb.XGBClassifier(**best_params)\n",
    "\n",
    "param_grid = {\n",
    "    'max_depth': [3, 5, 10],\n",
    "    'min_child_weight': [10, 20, 100]#[1, 5, 10]\n",
    "}\n",
    "\n",
    "best_params = find_params(clf_xgb, param_grid)"
   ]
  },
  {
   "cell_type": "markdown",
   "metadata": {
    "ExecuteTime": {
     "end_time": "2018-04-26T01:11:38.717718Z",
     "start_time": "2018-04-26T01:11:38.712703Z"
    }
   },
   "source": [
    "#### Подбираем gamma"
   ]
  },
  {
   "cell_type": "code",
   "execution_count": 31,
   "metadata": {
    "ExecuteTime": {
     "end_time": "2018-04-26T01:14:34.611791Z",
     "start_time": "2018-04-26T01:13:25.176553Z"
    }
   },
   "outputs": [
    {
     "name": "stdout",
     "output_type": "stream",
     "text": [
      "Fitting 1 folds for each of 5 candidates, totalling 5 fits\n",
      "[CV] gamma=0.0 .......................................................\n",
      "[CV] .............. gamma=0.0, score=0.7363567376493458, total=   8.5s\n"
     ]
    },
    {
     "name": "stderr",
     "output_type": "stream",
     "text": [
      "[Parallel(n_jobs=1)]: Done   1 out of   1 | elapsed:    8.6s remaining:    0.0s\n"
     ]
    },
    {
     "name": "stdout",
     "output_type": "stream",
     "text": [
      "[CV] gamma=0.125 .....................................................\n",
      "[CV] ............ gamma=0.125, score=0.7362043463154149, total=   7.6s\n"
     ]
    },
    {
     "name": "stderr",
     "output_type": "stream",
     "text": [
      "[Parallel(n_jobs=1)]: Done   2 out of   2 | elapsed:   16.4s remaining:    0.0s\n"
     ]
    },
    {
     "name": "stdout",
     "output_type": "stream",
     "text": [
      "[CV] gamma=0.25 ......................................................\n",
      "[CV] ............... gamma=0.25, score=0.73667508180147, total=   7.9s\n",
      "[CV] gamma=0.375 .....................................................\n",
      "[CV] ............ gamma=0.375, score=0.7348205488285917, total=   7.2s\n",
      "[CV] gamma=0.5 .......................................................\n",
      "[CV] .............. gamma=0.5, score=0.7349185188614527, total=   7.7s\n"
     ]
    },
    {
     "name": "stderr",
     "output_type": "stream",
     "text": [
      "[Parallel(n_jobs=1)]: Done   5 out of   5 | elapsed:   40.0s finished\n"
     ]
    },
    {
     "name": "stdout",
     "output_type": "stream",
     "text": [
      "Best test ROC AUC:  0.736675081801\n",
      "Best params:  {'base_score': 0.5, 'colsample_bylevel': 1, 'colsample_bytree': 0.8, 'gamma': 0.25, 'learning_rate': 0.03, 'max_delta_step': 0, 'max_depth': 10, 'min_child_weight': 20, 'missing': None, 'n_estimators': 50, 'nthread': -1, 'objective': 'binary:logistic', 'reg_alpha': 0, 'reg_lambda': 1, 'scale_pos_weight': 1, 'seed': 0, 'silent': True, 'subsample': 0.8}\n"
     ]
    }
   ],
   "source": [
    "clf_xgb = xgb.XGBClassifier(**best_params)\n",
    "\n",
    "param_grid = {\n",
    "    'gamma': np.linspace(0, 0.5, 5)\n",
    "}\n",
    "\n",
    "best_params = find_params(clf_xgb, param_grid)"
   ]
  },
  {
   "cell_type": "markdown",
   "metadata": {
    "ExecuteTime": {
     "end_time": "2018-04-26T04:31:16.807992Z",
     "start_time": "2018-04-26T04:31:16.799971Z"
    }
   },
   "source": [
    "#### Подбираем subsample и colsample_bytree"
   ]
  },
  {
   "cell_type": "code",
   "execution_count": 147,
   "metadata": {
    "ExecuteTime": {
     "end_time": "2018-04-26T04:40:00.461798Z",
     "start_time": "2018-04-26T04:33:42.004822Z"
    }
   },
   "outputs": [
    {
     "name": "stdout",
     "output_type": "stream",
     "text": [
      "Fitting 1 folds for each of 36 candidates, totalling 36 fits\n",
      "[CV] subsample=0.5, colsample_bytree=0.5 .............................\n",
      "[CV]  subsample=0.5, colsample_bytree=0.5, score=0.735011929429777, total=   7.5s\n"
     ]
    },
    {
     "name": "stderr",
     "output_type": "stream",
     "text": [
      "[Parallel(n_jobs=1)]: Done   1 out of   1 | elapsed:    7.6s remaining:    0.0s\n"
     ]
    },
    {
     "name": "stdout",
     "output_type": "stream",
     "text": [
      "[CV] subsample=0.6, colsample_bytree=0.5 .............................\n",
      "[CV]  subsample=0.6, colsample_bytree=0.5, score=0.734397629265496, total=   7.8s\n"
     ]
    },
    {
     "name": "stderr",
     "output_type": "stream",
     "text": [
      "[Parallel(n_jobs=1)]: Done   2 out of   2 | elapsed:   15.6s remaining:    0.0s\n"
     ]
    },
    {
     "name": "stdout",
     "output_type": "stream",
     "text": [
      "[CV] subsample=0.7, colsample_bytree=0.5 .............................\n",
      "[CV]  subsample=0.7, colsample_bytree=0.5, score=0.7375817722428217, total=   7.6s\n",
      "[CV] subsample=0.8, colsample_bytree=0.5 .............................\n",
      "[CV]  subsample=0.8, colsample_bytree=0.5, score=0.738602098569544, total=   7.3s\n",
      "[CV] subsample=0.9, colsample_bytree=0.5 .............................\n",
      "[CV]  subsample=0.9, colsample_bytree=0.5, score=0.7374508337740815, total=   7.9s\n",
      "[CV] subsample=1.0, colsample_bytree=0.5 .............................\n",
      "[CV]  subsample=1.0, colsample_bytree=0.5, score=0.7361929476540737, total=   8.3s\n",
      "[CV] subsample=0.5, colsample_bytree=0.6 .............................\n",
      "[CV]  subsample=0.5, colsample_bytree=0.6, score=0.7370271543002298, total=   8.3s\n",
      "[CV] subsample=0.6, colsample_bytree=0.6 .............................\n",
      "[CV]  subsample=0.6, colsample_bytree=0.6, score=0.7365391162308053, total=   8.0s\n",
      "[CV] subsample=0.7, colsample_bytree=0.6 .............................\n",
      "[CV]  subsample=0.7, colsample_bytree=0.6, score=0.7379464709510668, total=   8.1s\n",
      "[CV] subsample=0.8, colsample_bytree=0.6 .............................\n",
      "[CV]  subsample=0.8, colsample_bytree=0.6, score=0.7370681894810582, total=   8.1s\n",
      "[CV] subsample=0.9, colsample_bytree=0.6 .............................\n",
      "[CV]  subsample=0.9, colsample_bytree=0.6, score=0.7376131624025151, total=   8.2s\n",
      "[CV] subsample=1.0, colsample_bytree=0.6 .............................\n",
      "[CV]  subsample=1.0, colsample_bytree=0.6, score=0.7366345727127037, total=   8.3s\n",
      "[CV] subsample=0.5, colsample_bytree=0.7 .............................\n",
      "[CV]  subsample=0.5, colsample_bytree=0.7, score=0.7363867833515478, total=   8.8s\n",
      "[CV] subsample=0.6, colsample_bytree=0.7 .............................\n",
      "[CV]  subsample=0.6, colsample_bytree=0.7, score=0.7368315649625493, total=   9.1s\n",
      "[CV] subsample=0.7, colsample_bytree=0.7 .............................\n",
      "[CV]  subsample=0.7, colsample_bytree=0.7, score=0.7377164518106686, total=   9.2s\n",
      "[CV] subsample=0.8, colsample_bytree=0.7 .............................\n",
      "[CV]  subsample=0.8, colsample_bytree=0.7, score=0.7373034695420755, total=   9.6s\n",
      "[CV] subsample=0.9, colsample_bytree=0.7 .............................\n",
      "[CV]  subsample=0.9, colsample_bytree=0.7, score=0.7382047236987874, total=   9.4s\n",
      "[CV] subsample=1.0, colsample_bytree=0.7 .............................\n",
      "[CV]  subsample=1.0, colsample_bytree=0.7, score=0.7351416988050462, total=   9.5s\n",
      "[CV] subsample=0.5, colsample_bytree=0.8 .............................\n",
      "[CV]  subsample=0.5, colsample_bytree=0.8, score=0.734862110101482, total=   9.9s\n",
      "[CV] subsample=0.6, colsample_bytree=0.8 .............................\n",
      "[CV]  subsample=0.6, colsample_bytree=0.8, score=0.73711851895498, total=  10.3s\n",
      "[CV] subsample=0.7, colsample_bytree=0.8 .............................\n",
      "[CV]  subsample=0.7, colsample_bytree=0.8, score=0.7376659469727259, total=  10.4s\n",
      "[CV] subsample=0.8, colsample_bytree=0.8 .............................\n",
      "[CV]  subsample=0.8, colsample_bytree=0.8, score=0.7376232166063648, total=  10.5s\n",
      "[CV] subsample=0.9, colsample_bytree=0.8 .............................\n",
      "[CV]  subsample=0.9, colsample_bytree=0.8, score=0.7365242687437249, total=  10.7s\n",
      "[CV] subsample=1.0, colsample_bytree=0.8 .............................\n",
      "[CV]  subsample=1.0, colsample_bytree=0.8, score=0.734219810148573, total=  10.8s\n",
      "[CV] subsample=0.5, colsample_bytree=0.9 .............................\n",
      "[CV]  subsample=0.5, colsample_bytree=0.9, score=0.7342655801579585, total=  11.1s\n",
      "[CV] subsample=0.6, colsample_bytree=0.9 .............................\n",
      "[CV]  subsample=0.6, colsample_bytree=0.9, score=0.7357194063436883, total=  11.5s\n",
      "[CV] subsample=0.7, colsample_bytree=0.9 .............................\n",
      "[CV]  subsample=0.7, colsample_bytree=0.9, score=0.7361349021632437, total=  11.6s\n",
      "[CV] subsample=0.8, colsample_bytree=0.9 .............................\n",
      "[CV]  subsample=0.8, colsample_bytree=0.9, score=0.7356048936382142, total=  11.7s\n",
      "[CV] subsample=0.9, colsample_bytree=0.9 .............................\n",
      "[CV]  subsample=0.9, colsample_bytree=0.9, score=0.7354301141643156, total=  11.9s\n",
      "[CV] subsample=1.0, colsample_bytree=0.9 .............................\n",
      "[CV]  subsample=1.0, colsample_bytree=0.9, score=0.7340834938498668, total=  12.2s\n",
      "[CV] subsample=0.5, colsample_bytree=1.0 .............................\n",
      "[CV]  subsample=0.5, colsample_bytree=1.0, score=0.7336763570486282, total=  12.1s\n",
      "[CV] subsample=0.6, colsample_bytree=1.0 .............................\n",
      "[CV]  subsample=0.6, colsample_bytree=1.0, score=0.7346805498854523, total=  12.7s\n",
      "[CV] subsample=0.7, colsample_bytree=1.0 .............................\n",
      "[CV]  subsample=0.7, colsample_bytree=1.0, score=0.734603038988332, total=  12.7s\n",
      "[CV] subsample=0.8, colsample_bytree=1.0 .............................\n",
      "[CV]  subsample=0.8, colsample_bytree=1.0, score=0.7342239604303947, total=  12.8s\n",
      "[CV] subsample=0.9, colsample_bytree=1.0 .............................\n",
      "[CV]  subsample=0.9, colsample_bytree=1.0, score=0.7341079863580822, total=  13.0s\n",
      "[CV] subsample=1.0, colsample_bytree=1.0 .............................\n",
      "[CV]  subsample=1.0, colsample_bytree=1.0, score=0.7335877397635344, total=  13.0s\n"
     ]
    },
    {
     "name": "stderr",
     "output_type": "stream",
     "text": [
      "[Parallel(n_jobs=1)]: Done  36 out of  36 | elapsed:  6.1min finished\n"
     ]
    },
    {
     "name": "stdout",
     "output_type": "stream",
     "text": [
      "Best test ROC AUC:  0.73860209857\n",
      "Best params:  {'booster': 'gbtree', 'learning_rate': 0.03, 'reg_lambda': 1, 'colsample_bytree': 0.5, 'subsample': 0.80000000000000004, 'silent': True, 'colsample_bylevel': 1, 'nthread': None, 'n_jobs': -1, 'max_delta_step': 0, 'gamma': 0.25, 'seed': None, 'n_estimators': 50, 'min_child_weight': 10, 'reg_alpha': 0, 'scale_pos_weight': 1, 'max_depth': 5, 'objective': 'binary:logistic', 'base_score': 0.5, 'missing': None, 'random_state': 0}\n"
     ]
    }
   ],
   "source": [
    "clf_xgb = xgb.XGBClassifier(**best_params)\n",
    "\n",
    "param_grid = {\n",
    "    'subsample': np.linspace(0.5, 1, 6),\n",
    "    'colsample_bytree': np.linspace(0.5, 1, 6)\n",
    "}\n",
    "\n",
    "best_params = find_params(clf_xgb, param_grid)"
   ]
  },
  {
   "cell_type": "markdown",
   "metadata": {
    "ExecuteTime": {
     "end_time": "2018-04-26T04:31:16.807992Z",
     "start_time": "2018-04-26T04:31:16.799971Z"
    }
   },
   "source": [
    "#### Подбираем регуляризацию: reg_lambda и reg_alpha"
   ]
  },
  {
   "cell_type": "code",
   "execution_count": 150,
   "metadata": {
    "ExecuteTime": {
     "end_time": "2018-04-26T04:57:44.713647Z",
     "start_time": "2018-04-26T04:50:45.517400Z"
    },
    "scrolled": true
   },
   "outputs": [
    {
     "name": "stdout",
     "output_type": "stream",
     "text": [
      "Fitting 1 folds for each of 36 candidates, totalling 36 fits\n",
      "[CV] reg_lambda=0, reg_alpha=0 .......................................\n",
      "[CV]  reg_lambda=0, reg_alpha=0, score=0.7377212450938992, total=  10.6s\n"
     ]
    },
    {
     "name": "stderr",
     "output_type": "stream",
     "text": [
      "[Parallel(n_jobs=1)]: Done   1 out of   1 | elapsed:   10.8s remaining:    0.0s\n"
     ]
    },
    {
     "name": "stdout",
     "output_type": "stream",
     "text": [
      "[CV] reg_lambda=1e-05, reg_alpha=0 ...................................\n",
      "[CV]  reg_lambda=1e-05, reg_alpha=0, score=0.7379841742155031, total=  10.8s\n"
     ]
    },
    {
     "name": "stderr",
     "output_type": "stream",
     "text": [
      "[Parallel(n_jobs=1)]: Done   2 out of   2 | elapsed:   21.9s remaining:    0.0s\n"
     ]
    },
    {
     "name": "stdout",
     "output_type": "stream",
     "text": [
      "[CV] reg_lambda=0.01, reg_alpha=0 ....................................\n",
      "[CV]  reg_lambda=0.01, reg_alpha=0, score=0.7379704373672202, total=  11.0s\n",
      "[CV] reg_lambda=0.1, reg_alpha=0 .....................................\n",
      "[CV]  reg_lambda=0.1, reg_alpha=0, score=0.7378693107819878, total=  11.0s\n",
      "[CV] reg_lambda=1, reg_alpha=0 .......................................\n",
      "[CV]  reg_lambda=1, reg_alpha=0, score=0.738602098569544, total=  11.4s\n",
      "[CV] reg_lambda=100, reg_alpha=0 .....................................\n",
      "[CV]  reg_lambda=100, reg_alpha=0, score=0.7268217282100851, total=  10.0s\n",
      "[CV] reg_lambda=0, reg_alpha=1e-05 ...................................\n",
      "[CV]  reg_lambda=0, reg_alpha=1e-05, score=0.7379842326701768, total=  10.5s\n",
      "[CV] reg_lambda=1e-05, reg_alpha=1e-05 ...............................\n",
      "[CV]  reg_lambda=1e-05, reg_alpha=1e-05, score=0.7379841742155032, total=  11.0s\n",
      "[CV] reg_lambda=0.01, reg_alpha=1e-05 ................................\n",
      "[CV]  reg_lambda=0.01, reg_alpha=1e-05, score=0.7379704373672202, total=  10.5s\n",
      "[CV] reg_lambda=0.1, reg_alpha=1e-05 .................................\n",
      "[CV]  reg_lambda=0.1, reg_alpha=1e-05, score=0.7378692523273143, total=  12.9s\n",
      "[CV] reg_lambda=1, reg_alpha=1e-05 ...................................\n",
      "[CV]  reg_lambda=1, reg_alpha=1e-05, score=0.7386021570242175, total=  10.7s\n",
      "[CV] reg_lambda=100, reg_alpha=1e-05 .................................\n",
      "[CV]  reg_lambda=100, reg_alpha=1e-05, score=0.7268217282100851, total=  10.9s\n",
      "[CV] reg_lambda=0, reg_alpha=0.01 ....................................\n",
      "[CV]  reg_lambda=0, reg_alpha=0.01, score=0.7379707880952615, total=  11.4s\n",
      "[CV] reg_lambda=1e-05, reg_alpha=0.01 ................................\n",
      "[CV]  reg_lambda=1e-05, reg_alpha=0.01, score=0.7379707296405879, total=  11.0s\n",
      "[CV] reg_lambda=0.01, reg_alpha=0.01 .................................\n",
      "[CV]  reg_lambda=0.01, reg_alpha=0.01, score=0.7379460617683522, total=  10.6s\n",
      "[CV] reg_lambda=0.1, reg_alpha=0.01 ..................................\n",
      "[CV]  reg_lambda=0.1, reg_alpha=0.01, score=0.7378549309322959, total=  10.7s\n",
      "[CV] reg_lambda=1, reg_alpha=0.01 ....................................\n",
      "[CV]  reg_lambda=1, reg_alpha=0.01, score=0.7385149426512889, total=  10.5s\n",
      "[CV] reg_lambda=100, reg_alpha=0.01 ..................................\n",
      "[CV]  reg_lambda=100, reg_alpha=0.01, score=0.7268228973035562, total=  11.4s\n",
      "[CV] reg_lambda=0, reg_alpha=0.1 .....................................\n",
      "[CV]  reg_lambda=0, reg_alpha=0.1, score=0.7378818785368001, total=  11.1s\n",
      "[CV] reg_lambda=1e-05, reg_alpha=0.1 .................................\n",
      "[CV]  reg_lambda=1e-05, reg_alpha=0.1, score=0.7378818785368, total=  11.5s\n",
      "[CV] reg_lambda=0.01, reg_alpha=0.1 ..................................\n",
      "[CV]  reg_lambda=0.01, reg_alpha=0.1, score=0.7378822877195148, total=  10.9s\n",
      "[CV] reg_lambda=0.1, reg_alpha=0.1 ...................................\n",
      "[CV]  reg_lambda=0.1, reg_alpha=0.1, score=0.7381651498847974, total=  10.7s\n",
      "[CV] reg_lambda=1, reg_alpha=0.1 .....................................\n",
      "[CV]  reg_lambda=1, reg_alpha=0.1, score=0.7382392704108521, total=  10.9s\n",
      "[CV] reg_lambda=100, reg_alpha=0.1 ...................................\n",
      "[CV]  reg_lambda=100, reg_alpha=0.1, score=0.7268235987596385, total=  11.5s\n",
      "[CV] reg_lambda=0, reg_alpha=1 .......................................\n",
      "[CV]  reg_lambda=0, reg_alpha=1, score=0.7380793968787075, total=  11.2s\n",
      "[CV] reg_lambda=1e-05, reg_alpha=1 ...................................\n",
      "[CV]  reg_lambda=1e-05, reg_alpha=1, score=0.7380793968787074, total=  12.6s\n",
      "[CV] reg_lambda=0.01, reg_alpha=1 ....................................\n",
      "[CV]  reg_lambda=0.01, reg_alpha=1, score=0.7380779939665424, total=  11.3s\n",
      "[CV] reg_lambda=0.1, reg_alpha=1 .....................................\n",
      "[CV]  reg_lambda=0.1, reg_alpha=1, score=0.7381043570243111, total=  11.2s\n",
      "[CV] reg_lambda=1, reg_alpha=1 .......................................\n",
      "[CV]  reg_lambda=1, reg_alpha=1, score=0.7375552922757059, total=  11.8s\n",
      "[CV] reg_lambda=100, reg_alpha=1 .....................................\n",
      "[CV]  reg_lambda=100, reg_alpha=1, score=0.7270439144242284, total=  11.0s\n",
      "[CV] reg_lambda=0, reg_alpha=100 .....................................\n",
      "[CV]  reg_lambda=0, reg_alpha=100, score=0.7085637032017729, total=   9.8s\n",
      "[CV] reg_lambda=1e-05, reg_alpha=100 .................................\n",
      "[CV]  reg_lambda=1e-05, reg_alpha=100, score=0.7085637032017729, total=  11.1s\n",
      "[CV] reg_lambda=0.01, reg_alpha=100 ..................................\n",
      "[CV]  reg_lambda=0.01, reg_alpha=100, score=0.7085637616564464, total=  10.6s\n",
      "[CV] reg_lambda=0.1, reg_alpha=100 ...................................\n",
      "[CV]  reg_lambda=0.1, reg_alpha=100, score=0.7085641123844877, total=  11.3s\n",
      "[CV] reg_lambda=1, reg_alpha=100 .....................................\n",
      "[CV]  reg_lambda=1, reg_alpha=100, score=0.7088148244793209, total=   9.5s\n",
      "[CV] reg_lambda=100, reg_alpha=100 ...................................\n",
      "[CV]  reg_lambda=100, reg_alpha=100, score=0.7044256968615452, total=   9.7s\n"
     ]
    },
    {
     "name": "stderr",
     "output_type": "stream",
     "text": [
      "[Parallel(n_jobs=1)]: Done  36 out of  36 | elapsed:  6.8min finished\n"
     ]
    },
    {
     "name": "stdout",
     "output_type": "stream",
     "text": [
      "Best test ROC AUC:  0.738602157024\n",
      "Best params:  {'booster': 'gbtree', 'learning_rate': 0.03, 'reg_lambda': 1, 'colsample_bytree': 0.5, 'subsample': 0.80000000000000004, 'silent': True, 'colsample_bylevel': 1, 'nthread': None, 'n_jobs': -1, 'max_delta_step': 0, 'gamma': 0.25, 'seed': None, 'n_estimators': 50, 'min_child_weight': 10, 'reg_alpha': 1e-05, 'scale_pos_weight': 1, 'max_depth': 5, 'objective': 'binary:logistic', 'base_score': 0.5, 'missing': None, 'random_state': 0}\n"
     ]
    }
   ],
   "source": [
    "clf_xgb = xgb.XGBClassifier(**best_params)\n",
    "\n",
    "param_grid = {\n",
    "    'reg_alpha': [0, 0.0001, 0.001, 0.1, 1],\n",
    "    'reg_lambda': [0, 0.0001, 0.001, 0.1, 1]\n",
    "}\n",
    "\n",
    "best_params = find_params(clf_xgb, param_grid)"
   ]
  },
  {
   "cell_type": "markdown",
   "metadata": {
    "ExecuteTime": {
     "end_time": "2018-04-26T04:31:16.807992Z",
     "start_time": "2018-04-26T04:31:16.799971Z"
    }
   },
   "source": [
    "#### Уменьшим learning_rate"
   ]
  },
  {
   "cell_type": "code",
   "execution_count": 45,
   "metadata": {
    "ExecuteTime": {
     "end_time": "2018-04-26T08:39:19.973738Z",
     "start_time": "2018-04-26T08:39:11.774381Z"
    }
   },
   "outputs": [
    {
     "name": "stdout",
     "output_type": "stream",
     "text": [
      "[0]\tvalidation_0-auc:0.69676\tvalidation_1-auc:0.687659\n",
      "[1]\tvalidation_0-auc:0.737142\tvalidation_1-auc:0.722376\n",
      "[2]\tvalidation_0-auc:0.746214\tvalidation_1-auc:0.728762\n",
      "[3]\tvalidation_0-auc:0.749986\tvalidation_1-auc:0.729024\n",
      "[4]\tvalidation_0-auc:0.746946\tvalidation_1-auc:0.727398\n",
      "[5]\tvalidation_0-auc:0.747546\tvalidation_1-auc:0.726925\n",
      "[6]\tvalidation_0-auc:0.751865\tvalidation_1-auc:0.729724\n",
      "[7]\tvalidation_0-auc:0.752467\tvalidation_1-auc:0.729707\n",
      "[8]\tvalidation_0-auc:0.752825\tvalidation_1-auc:0.728763\n",
      "[9]\tvalidation_0-auc:0.755318\tvalidation_1-auc:0.730896\n",
      "[10]\tvalidation_0-auc:0.756158\tvalidation_1-auc:0.730352\n",
      "[11]\tvalidation_0-auc:0.756739\tvalidation_1-auc:0.730184\n",
      "[12]\tvalidation_0-auc:0.75883\tvalidation_1-auc:0.731678\n",
      "[13]\tvalidation_0-auc:0.75914\tvalidation_1-auc:0.731068\n",
      "[14]\tvalidation_0-auc:0.759786\tvalidation_1-auc:0.731675\n",
      "[15]\tvalidation_0-auc:0.759952\tvalidation_1-auc:0.731118\n",
      "[16]\tvalidation_0-auc:0.759779\tvalidation_1-auc:0.730595\n",
      "[17]\tvalidation_0-auc:0.759968\tvalidation_1-auc:0.73069\n",
      "[18]\tvalidation_0-auc:0.759581\tvalidation_1-auc:0.730092\n",
      "[19]\tvalidation_0-auc:0.759391\tvalidation_1-auc:0.729927\n",
      "[20]\tvalidation_0-auc:0.759766\tvalidation_1-auc:0.730268\n",
      "[21]\tvalidation_0-auc:0.760789\tvalidation_1-auc:0.730326\n",
      "[22]\tvalidation_0-auc:0.761973\tvalidation_1-auc:0.731637\n",
      "[23]\tvalidation_0-auc:0.763062\tvalidation_1-auc:0.731927\n",
      "[24]\tvalidation_0-auc:0.763638\tvalidation_1-auc:0.732473\n",
      "[25]\tvalidation_0-auc:0.764828\tvalidation_1-auc:0.733399\n",
      "[26]\tvalidation_0-auc:0.764756\tvalidation_1-auc:0.732752\n",
      "[27]\tvalidation_0-auc:0.765326\tvalidation_1-auc:0.733075\n",
      "[28]\tvalidation_0-auc:0.765347\tvalidation_1-auc:0.732936\n",
      "[29]\tvalidation_0-auc:0.76664\tvalidation_1-auc:0.733639\n",
      "[30]\tvalidation_0-auc:0.767573\tvalidation_1-auc:0.734406\n",
      "[31]\tvalidation_0-auc:0.767966\tvalidation_1-auc:0.734457\n",
      "[32]\tvalidation_0-auc:0.768541\tvalidation_1-auc:0.734243\n",
      "[33]\tvalidation_0-auc:0.768605\tvalidation_1-auc:0.73437\n",
      "[34]\tvalidation_0-auc:0.769236\tvalidation_1-auc:0.734853\n",
      "[35]\tvalidation_0-auc:0.769704\tvalidation_1-auc:0.735245\n",
      "[36]\tvalidation_0-auc:0.769902\tvalidation_1-auc:0.735463\n",
      "[37]\tvalidation_0-auc:0.770786\tvalidation_1-auc:0.735634\n",
      "[38]\tvalidation_0-auc:0.770967\tvalidation_1-auc:0.735717\n",
      "[39]\tvalidation_0-auc:0.771822\tvalidation_1-auc:0.736122\n",
      "[40]\tvalidation_0-auc:0.771782\tvalidation_1-auc:0.736005\n",
      "[41]\tvalidation_0-auc:0.771954\tvalidation_1-auc:0.736214\n",
      "[42]\tvalidation_0-auc:0.772485\tvalidation_1-auc:0.736667\n",
      "[43]\tvalidation_0-auc:0.772603\tvalidation_1-auc:0.73703\n",
      "[44]\tvalidation_0-auc:0.773\tvalidation_1-auc:0.737017\n",
      "[45]\tvalidation_0-auc:0.773464\tvalidation_1-auc:0.736867\n",
      "[46]\tvalidation_0-auc:0.774203\tvalidation_1-auc:0.737043\n",
      "[47]\tvalidation_0-auc:0.774685\tvalidation_1-auc:0.737344\n",
      "[48]\tvalidation_0-auc:0.775086\tvalidation_1-auc:0.737411\n",
      "[49]\tvalidation_0-auc:0.775536\tvalidation_1-auc:0.737637\n"
     ]
    },
    {
     "data": {
      "text/plain": [
       "XGBClassifier(base_score=0.5, booster='gbtree', colsample_bylevel=1,\n",
       "       colsample_bytree=0.5, gamma=0.25, learning_rate=0.03,\n",
       "       max_delta_step=0, max_depth=5, min_child_weight=10, missing=None,\n",
       "       n_estimators=50, n_jobs=-1, nthread=None,\n",
       "       objective='binary:logistic', random_state=0, reg_alpha=1e-05,\n",
       "       reg_lambda=1, scale_pos_weight=1, seed=None, silent=True,\n",
       "       subsample=0.8)"
      ]
     },
     "execution_count": 45,
     "metadata": {},
     "output_type": "execute_result"
    }
   ],
   "source": [
    "best_params['learning_rate'] = 0.01\n",
    "best_params['n_estimators'] = 500\n",
    "\n",
    "clf_xgb = xgb.XGBClassifier(**best_params)\n",
    "\n",
    "clf_xgb.fit(X_train, y_train, eval_metric='auc', eval_set=[[X_train, y_train], [X_test, y_test]])"
   ]
  },
  {
   "cell_type": "markdown",
   "metadata": {},
   "source": [
    "Визуализируем метрику в зависимости от итерации"
   ]
  },
  {
   "cell_type": "code",
   "execution_count": 157,
   "metadata": {
    "ExecuteTime": {
     "end_time": "2018-04-26T05:09:50.404695Z",
     "start_time": "2018-04-26T05:09:49.733905Z"
    }
   },
   "outputs": [
    {
     "data": {
      "text/plain": [
       "<matplotlib.text.Text at 0x1c2b0a43978>"
      ]
     },
     "execution_count": 157,
     "metadata": {},
     "output_type": "execute_result"
    },
    {
     "data": {
      "image/png": "[encoded data removed]",
      "text/plain": [
       "<matplotlib.figure.Figure at 0x1c2b0a08550>"
      ]
     },
     "metadata": {
      "image/png": {
       "height": 277,
       "width": 380
      }
     },
     "output_type": "display_data"
    },
    {
     "data": {
      "image/png": "[encoded data removed]",
      "text/plain": [
       "<matplotlib.figure.Figure at 0x1c2b0a08438>"
      ]
     },
     "metadata": {
      "image/png": {
       "height": 277,
       "width": 393
      }
     },
     "output_type": "display_data"
    }
   ],
   "source": [
    "res = save_online_metric(clf_xgb)\n",
    "res.plot(ylim=(0.72, 0.8), title='ROC AUC')\n",
    "plt.xlabel('iteration number')\n",
    "plt.figure()\n",
    "res.test.plot(ylim=(0.72, 0.74), title='ROC AUC TEST')\n",
    "plt.xlabel('iteration number')"
   ]
  },
  {
   "cell_type": "markdown",
   "metadata": {},
   "source": [
    "### HyperOpt"
   ]
  },
  {
   "cell_type": "markdown",
   "metadata": {},
   "source": [
    "http://hyperopt.github.io/hyperopt/\n",
    "\n",
    "Инструмент для автоматической \"умной\" оптимизации большого числа гиперпараметров. Использует алгоритм Tree of Parzen Estimators"
   ]
  },
  {
   "cell_type": "code",
   "execution_count": 110,
   "metadata": {
    "ExecuteTime": {
     "end_time": "2018-04-26T09:46:03.275271Z",
     "start_time": "2018-04-26T09:41:50.359976Z"
    }
   },
   "outputs": [
    {
     "name": "stdout",
     "output_type": "stream",
     "text": [
      "Training with params :  {'gamma': 0.5, 'learning_rate': 0.03, 'n_jobs': -1, 'colsample_bytree': 0.9, 'subsample': 0.7000000000000001, 'max_depth': 9, 'min_child_weight': 6.0, 'n_estimators': 50, 'silent': 1}\n",
      "TEST ROC AUC: 0.7341\n",
      "Training with params :  {'gamma': 0.9, 'learning_rate': 0.03, 'n_jobs': -1, 'colsample_bytree': 0.8, 'subsample': 0.55, 'max_depth': 6, 'min_child_weight': 3.0, 'n_estimators': 50, 'silent': 1}\n",
      "TEST ROC AUC: 0.7351\n",
      "Training with params :  {'gamma': 1.0, 'learning_rate': 0.03, 'n_jobs': -1, 'colsample_bytree': 0.8, 'subsample': 0.9500000000000001, 'max_depth': 8, 'min_child_weight': 2.0, 'n_estimators': 50, 'silent': 1}\n",
      "TEST ROC AUC: 0.7341\n",
      "Training with params :  {'gamma': 0.9500000000000001, 'learning_rate': 0.03, 'n_jobs': -1, 'colsample_bytree': 0.55, 'subsample': 1.0, 'max_depth': 10, 'min_child_weight': 3.0, 'n_estimators': 50, 'silent': 1}\n",
      "TEST ROC AUC: 0.7326\n",
      "Training with params :  {'gamma': 0.8, 'learning_rate': 0.03, 'n_jobs': -1, 'colsample_bytree': 0.6000000000000001, 'subsample': 0.8500000000000001, 'max_depth': 3, 'min_child_weight': 2.0, 'n_estimators': 50, 'silent': 1}\n",
      "TEST ROC AUC: 0.7318\n",
      "Training with params :  {'gamma': 0.8, 'learning_rate': 0.03, 'n_jobs': -1, 'colsample_bytree': 0.9, 'subsample': 0.5, 'max_depth': 8, 'min_child_weight': 8.0, 'n_estimators': 50, 'silent': 1}\n",
      "TEST ROC AUC: 0.7361\n",
      "Training with params :  {'gamma': 1.0, 'learning_rate': 0.03, 'n_jobs': -1, 'colsample_bytree': 0.7000000000000001, 'subsample': 0.8500000000000001, 'max_depth': 6, 'min_child_weight': 3.0, 'n_estimators': 50, 'silent': 1}\n",
      "TEST ROC AUC: 0.7375\n",
      "Training with params :  {'gamma': 1.0, 'learning_rate': 0.03, 'n_jobs': -1, 'colsample_bytree': 0.7000000000000001, 'subsample': 0.65, 'max_depth': 9, 'min_child_weight': 6.0, 'n_estimators': 50, 'silent': 1}\n",
      "TEST ROC AUC: 0.7337\n",
      "Training with params :  {'gamma': 1.0, 'learning_rate': 0.03, 'n_jobs': -1, 'colsample_bytree': 0.8500000000000001, 'subsample': 0.9, 'max_depth': 5, 'min_child_weight': 8.0, 'n_estimators': 50, 'silent': 1}\n",
      "TEST ROC AUC: 0.7369\n",
      "Training with params :  {'gamma': 0.7000000000000001, 'learning_rate': 0.03, 'n_jobs': -1, 'colsample_bytree': 0.75, 'subsample': 0.65, 'max_depth': 2, 'min_child_weight': 9.0, 'n_estimators': 50, 'silent': 1}\n",
      "TEST ROC AUC: 0.7248\n",
      "Training with params :  {'gamma': 0.9500000000000001, 'learning_rate': 0.03, 'n_jobs': -1, 'colsample_bytree': 0.65, 'subsample': 0.65, 'max_depth': 6, 'min_child_weight': 9.0, 'n_estimators': 50, 'silent': 1}\n",
      "TEST ROC AUC: 0.7376\n",
      "Training with params :  {'gamma': 0.8500000000000001, 'learning_rate': 0.03, 'n_jobs': -1, 'colsample_bytree': 0.55, 'subsample': 0.8500000000000001, 'max_depth': 6, 'min_child_weight': 3.0, 'n_estimators': 50, 'silent': 1}\n",
      "TEST ROC AUC: 0.7363\n",
      "Training with params :  {'gamma': 0.65, 'learning_rate': 0.03, 'n_jobs': -1, 'colsample_bytree': 0.9, 'subsample': 0.9500000000000001, 'max_depth': 8, 'min_child_weight': 7.0, 'n_estimators': 50, 'silent': 1}\n",
      "TEST ROC AUC: 0.7336\n",
      "Training with params :  {'gamma': 0.75, 'learning_rate': 0.03, 'n_jobs': -1, 'colsample_bytree': 0.55, 'subsample': 0.5, 'max_depth': 10, 'min_child_weight': 5.0, 'n_estimators': 50, 'silent': 1}\n",
      "TEST ROC AUC: 0.7323\n",
      "Training with params :  {'gamma': 0.9500000000000001, 'learning_rate': 0.03, 'n_jobs': -1, 'colsample_bytree': 0.9, 'subsample': 0.7000000000000001, 'max_depth': 5, 'min_child_weight': 2.0, 'n_estimators': 50, 'silent': 1}\n",
      "TEST ROC AUC: 0.7364\n",
      "Training with params :  {'gamma': 0.7000000000000001, 'learning_rate': 0.03, 'n_jobs': -1, 'colsample_bytree': 0.8, 'subsample': 0.9500000000000001, 'max_depth': 5, 'min_child_weight': 6.0, 'n_estimators': 50, 'silent': 1}\n",
      "TEST ROC AUC: 0.7365\n",
      "Training with params :  {'gamma': 0.9500000000000001, 'learning_rate': 0.03, 'n_jobs': -1, 'colsample_bytree': 0.9500000000000001, 'subsample': 0.75, 'max_depth': 3, 'min_child_weight': 3.0, 'n_estimators': 50, 'silent': 1}\n",
      "TEST ROC AUC: 0.7287\n",
      "Training with params :  {'gamma': 1.0, 'learning_rate': 0.03, 'n_jobs': -1, 'colsample_bytree': 0.6000000000000001, 'subsample': 0.55, 'max_depth': 7, 'min_child_weight': 8.0, 'n_estimators': 50, 'silent': 1}\n",
      "TEST ROC AUC: 0.7365\n",
      "Training with params :  {'gamma': 0.7000000000000001, 'learning_rate': 0.03, 'n_jobs': -1, 'colsample_bytree': 0.8, 'subsample': 0.5, 'max_depth': 7, 'min_child_weight': 4.0, 'n_estimators': 50, 'silent': 1}\n",
      "TEST ROC AUC: 0.7351\n",
      "Training with params :  {'gamma': 0.75, 'learning_rate': 0.03, 'n_jobs': -1, 'colsample_bytree': 0.7000000000000001, 'subsample': 0.65, 'max_depth': 9, 'min_child_weight': 4.0, 'n_estimators': 50, 'silent': 1}\n",
      "TEST ROC AUC: 0.7344\n"
     ]
    }
   ],
   "source": [
    "from hyperopt import hp, fmin, tpe, STATUS_OK, Trials\n",
    "\n",
    "#функция, которую будем МИНИМИЗИРОВАТЬ\n",
    "def score(params):\n",
    "    params['max_depth'] = int(params['max_depth'])\n",
    "    params['n_jobs'] = -1\n",
    "    print(\"Training with params : \", params)\n",
    "    clf = xgb.XGBClassifier(**params)\n",
    "    clf.fit(X_train, y_train)\n",
    "    y_pred_xgb_test = clf.predict_proba(X_test)[:, 1]\n",
    "    auc = calc_auc(y_test, y_pred_xgb_test, prin=False)\n",
    "    result = {'loss': 1-auc, 'status': STATUS_OK}\n",
    "    print('TEST ROC AUC: {0:.4f}'.format(auc))\n",
    "    return result\n",
    "\n",
    "\n",
    "\n",
    "space = {'max_depth' : hp.quniform('max_depth', 1, 10, 1),\n",
    "         'min_child_weight' : hp.quniform('min_child_weight', 1, 10, 1),\n",
    "         'subsample' : hp.quniform('subsample', 0.5, 1, 0.05),\n",
    "         'gamma' : hp.quniform('gamma', 0.5, 1, 0.05),\n",
    "         'colsample_bytree' : hp.quniform('colsample_bytree', 0.5, 1, 0.05),\n",
    "         'silent' : 1,\n",
    "         'n_estimators': 50,\n",
    "         'learning_rate': 0.03\n",
    "         }\n",
    "trials = Trials()\n",
    "\n",
    "best = fmin(score, space, algo=tpe.suggest, trials=trials, max_evals=20)"
   ]
  },
  {
   "cell_type": "code",
   "execution_count": 119,
   "metadata": {
    "ExecuteTime": {
     "end_time": "2018-04-26T09:52:41.188763Z",
     "start_time": "2018-04-26T09:52:41.183776Z"
    }
   },
   "outputs": [
    {
     "data": {
      "text/plain": [
       "{'colsample_bytree': 0.65,\n",
       " 'gamma': 0.9500000000000001,\n",
       " 'max_depth': 6.0,\n",
       " 'min_child_weight': 9.0,\n",
       " 'subsample': 0.65}"
      ]
     },
     "execution_count": 119,
     "metadata": {},
     "output_type": "execute_result"
    }
   ],
   "source": [
    "best"
   ]
  },
  {
   "cell_type": "code",
   "execution_count": 120,
   "metadata": {
    "ExecuteTime": {
     "end_time": "2018-04-26T09:52:42.562330Z",
     "start_time": "2018-04-26T09:52:42.556313Z"
    }
   },
   "outputs": [
    {
     "data": {
      "text/plain": [
       "{'book_time': datetime.datetime(2018, 4, 26, 9, 44, 1, 900000),\n",
       " 'exp_key': None,\n",
       " 'misc': {'cmd': ('domain_attachment', 'FMinIter_Domain'),\n",
       "  'idxs': {'colsample_bytree': [10],\n",
       "   'gamma': [10],\n",
       "   'max_depth': [10],\n",
       "   'min_child_weight': [10],\n",
       "   'subsample': [10]},\n",
       "  'tid': 10,\n",
       "  'vals': {'colsample_bytree': [0.65],\n",
       "   'gamma': [0.9500000000000001],\n",
       "   'max_depth': [6.0],\n",
       "   'min_child_weight': [9.0],\n",
       "   'subsample': [0.65]},\n",
       "  'workdir': None},\n",
       " 'owner': None,\n",
       " 'refresh_time': datetime.datetime(2018, 4, 26, 9, 44, 12, 977000),\n",
       " 'result': {'loss': 0.26235807789810095, 'status': 'ok'},\n",
       " 'spec': None,\n",
       " 'state': 2,\n",
       " 'tid': 10,\n",
       " 'version': 0}"
      ]
     },
     "execution_count": 120,
     "metadata": {},
     "output_type": "execute_result"
    }
   ],
   "source": [
    "trials.best_trial"
   ]
  },
  {
   "cell_type": "markdown",
   "metadata": {},
   "source": [
    "### Важность признаков"
   ]
  },
  {
   "cell_type": "markdown",
   "metadata": {},
   "source": [
    "#### Встроенные методы\n",
    "\n",
    "Нужно вытащить из sklearn обертки оригинальный объект класса xgboost.core.Booster\n",
    "\n",
    "Есть 3 типа важности в get_score():\n",
    "\n",
    "    weight - суммарное кол-во раз, когда признак использовался для разбиения вершины\n",
    "    gain - средний прирост качества, когда признак использовался для разбиения вершины\n",
    "    cover - среднее кол-во объектов, которые попадали в разбиение по признаку, когда он использовался для разбиения вершины"
   ]
  },
  {
   "cell_type": "code",
   "execution_count": 59,
   "metadata": {
    "ExecuteTime": {
     "end_time": "2018-04-26T08:46:21.086165Z",
     "start_time": "2018-04-26T08:46:20.369208Z"
    }
   },
   "outputs": [
    {
     "data": {
      "image/png": "[encoded data removed]",
      "text/plain": [
       "<matplotlib.figure.Figure at 0x28f6a297128>"
      ]
     },
     "metadata": {
      "image/png": {
       "height": 263,
       "width": 444
      }
     },
     "output_type": "display_data"
    },
    {
     "data": {
      "image/png": "[encoded data removed]",
      "text/plain": [
       "<matplotlib.figure.Figure at 0x28f6a318ef0>"
      ]
     },
     "metadata": {
      "image/png": {
       "height": 263,
       "width": 444
      }
     },
     "output_type": "display_data"
    },
    {
     "data": {
      "image/png": "[encoded data removed]",
      "text/plain": [
       "<matplotlib.figure.Figure at 0x28f6a3257f0>"
      ]
     },
     "metadata": {
      "image/png": {
       "height": 263,
       "width": 438
      }
     },
     "output_type": "display_data"
    }
   ],
   "source": [
    "bst = clf_xgb.get_booster()\n",
    "\n",
    "for kind in ['weight', 'gain', 'cover']:\n",
    "    imp = pd.Series(bst.get_score(importance_type=kind))\n",
    "    plt.figure()\n",
    "    imp.sort_values(ascending=False).iloc[:10].plot(kind='barh', title=kind)"
   ]
  },
  {
   "cell_type": "markdown",
   "metadata": {},
   "source": [
    "#### XGBFI\n",
    "\n",
    "Позволяет оценивать важности взаимодействия признаков\n",
    "\n",
    "https://github.com/limexp/xgbfir"
   ]
  },
  {
   "cell_type": "code",
   "execution_count": 61,
   "metadata": {
    "ExecuteTime": {
     "end_time": "2018-04-26T08:52:02.819360Z",
     "start_time": "2018-04-26T08:52:02.807345Z"
    },
    "collapsed": true
   },
   "outputs": [],
   "source": [
    "import xgbfir\n",
    "xgbfir.saveXgbFI(clf_xgb, OutputXlsxFile='xgbfi_report.xlsx')"
   ]
  },
  {
   "cell_type": "code",
   "execution_count": 86,
   "metadata": {
    "ExecuteTime": {
     "end_time": "2018-04-26T09:11:16.336379Z",
     "start_time": "2018-04-26T09:11:16.203202Z"
    }
   },
   "outputs": [
    {
     "data": {
      "text/html": [
       "<div>\n",
       "<style>\n",
       "    .dataframe thead tr:only-child th {\n",
       "        text-align: right;\n",
       "    }\n",
       "\n",
       "    .dataframe thead th {\n",
       "        text-align: left;\n",
       "    }\n",
       "\n",
       "    .dataframe tbody tr th {\n",
       "        vertical-align: top;\n",
       "    }\n",
       "</style>\n",
       "<table border=\"1\" class=\"dataframe\">\n",
       "  <thead>\n",
       "    <tr style=\"text-align: right;\">\n",
       "      <th></th>\n",
       "      <th>Interaction</th>\n",
       "      <th>Gain</th>\n",
       "      <th>FScore</th>\n",
       "      <th>wFScore</th>\n",
       "      <th>Average wFScore</th>\n",
       "      <th>Average Gain</th>\n",
       "      <th>Expected Gain</th>\n",
       "      <th>Gain Rank</th>\n",
       "      <th>FScore Rank</th>\n",
       "      <th>wFScore Rank</th>\n",
       "      <th>Avg wFScore Rank</th>\n",
       "      <th>Avg Gain Rank</th>\n",
       "      <th>Expected Gain Rank</th>\n",
       "      <th>Average Rank</th>\n",
       "      <th>Average Tree Index</th>\n",
       "      <th>Average Tree Depth</th>\n",
       "    </tr>\n",
       "  </thead>\n",
       "  <tbody>\n",
       "    <tr>\n",
       "      <th>0</th>\n",
       "      <td>v50</td>\n",
       "      <td>8379.119607</td>\n",
       "      <td>130</td>\n",
       "      <td>45.142183</td>\n",
       "      <td>0.347248</td>\n",
       "      <td>64.454766</td>\n",
       "      <td>6730.150249</td>\n",
       "      <td>1</td>\n",
       "      <td>1</td>\n",
       "      <td>1</td>\n",
       "      <td>7</td>\n",
       "      <td>3</td>\n",
       "      <td>1</td>\n",
       "      <td>2.333333</td>\n",
       "      <td>27.446154</td>\n",
       "      <td>2.246154</td>\n",
       "    </tr>\n",
       "    <tr>\n",
       "      <th>1</th>\n",
       "      <td>mean_pred_v56</td>\n",
       "      <td>3598.714822</td>\n",
       "      <td>67</td>\n",
       "      <td>26.168327</td>\n",
       "      <td>0.390572</td>\n",
       "      <td>53.712162</td>\n",
       "      <td>2935.516102</td>\n",
       "      <td>2</td>\n",
       "      <td>4</td>\n",
       "      <td>2</td>\n",
       "      <td>5</td>\n",
       "      <td>5</td>\n",
       "      <td>2</td>\n",
       "      <td>3.333333</td>\n",
       "      <td>21.343284</td>\n",
       "      <td>2.179104</td>\n",
       "    </tr>\n",
       "    <tr>\n",
       "      <th>2</th>\n",
       "      <td>mean_pred_v79</td>\n",
       "      <td>2572.762650</td>\n",
       "      <td>60</td>\n",
       "      <td>18.799761</td>\n",
       "      <td>0.313329</td>\n",
       "      <td>42.879378</td>\n",
       "      <td>1889.785204</td>\n",
       "      <td>3</td>\n",
       "      <td>5</td>\n",
       "      <td>3</td>\n",
       "      <td>10</td>\n",
       "      <td>6</td>\n",
       "      <td>3</td>\n",
       "      <td>5.000000</td>\n",
       "      <td>18.683333</td>\n",
       "      <td>2.533333</td>\n",
       "    </tr>\n",
       "    <tr>\n",
       "      <th>3</th>\n",
       "      <td>mean_pred_v113</td>\n",
       "      <td>1465.084740</td>\n",
       "      <td>48</td>\n",
       "      <td>12.661560</td>\n",
       "      <td>0.263783</td>\n",
       "      <td>30.522599</td>\n",
       "      <td>669.946590</td>\n",
       "      <td>4</td>\n",
       "      <td>6</td>\n",
       "      <td>6</td>\n",
       "      <td>12</td>\n",
       "      <td>10</td>\n",
       "      <td>4</td>\n",
       "      <td>7.000000</td>\n",
       "      <td>25.333333</td>\n",
       "      <td>2.645833</td>\n",
       "    </tr>\n",
       "    <tr>\n",
       "      <th>4</th>\n",
       "      <td>v10</td>\n",
       "      <td>1435.705430</td>\n",
       "      <td>69</td>\n",
       "      <td>15.155029</td>\n",
       "      <td>0.219638</td>\n",
       "      <td>20.807325</td>\n",
       "      <td>443.936822</td>\n",
       "      <td>5</td>\n",
       "      <td>3</td>\n",
       "      <td>5</td>\n",
       "      <td>17</td>\n",
       "      <td>12</td>\n",
       "      <td>7</td>\n",
       "      <td>8.166667</td>\n",
       "      <td>21.869565</td>\n",
       "      <td>2.884058</td>\n",
       "    </tr>\n",
       "    <tr>\n",
       "      <th>5</th>\n",
       "      <td>v12</td>\n",
       "      <td>1275.031661</td>\n",
       "      <td>76</td>\n",
       "      <td>15.607611</td>\n",
       "      <td>0.205363</td>\n",
       "      <td>16.776732</td>\n",
       "      <td>425.925391</td>\n",
       "      <td>6</td>\n",
       "      <td>2</td>\n",
       "      <td>4</td>\n",
       "      <td>18</td>\n",
       "      <td>19</td>\n",
       "      <td>8</td>\n",
       "      <td>9.500000</td>\n",
       "      <td>24.105263</td>\n",
       "      <td>2.907895</td>\n",
       "    </tr>\n",
       "    <tr>\n",
       "      <th>6</th>\n",
       "      <td>v66_C</td>\n",
       "      <td>1093.207090</td>\n",
       "      <td>33</td>\n",
       "      <td>12.009676</td>\n",
       "      <td>0.363930</td>\n",
       "      <td>33.127488</td>\n",
       "      <td>545.686811</td>\n",
       "      <td>7</td>\n",
       "      <td>10</td>\n",
       "      <td>7</td>\n",
       "      <td>6</td>\n",
       "      <td>8</td>\n",
       "      <td>5</td>\n",
       "      <td>7.166667</td>\n",
       "      <td>24.121212</td>\n",
       "      <td>2.272727</td>\n",
       "    </tr>\n",
       "    <tr>\n",
       "      <th>7</th>\n",
       "      <td>mean_pred_v66</td>\n",
       "      <td>912.209483</td>\n",
       "      <td>27</td>\n",
       "      <td>6.240608</td>\n",
       "      <td>0.231134</td>\n",
       "      <td>33.785536</td>\n",
       "      <td>326.200499</td>\n",
       "      <td>8</td>\n",
       "      <td>16</td>\n",
       "      <td>8</td>\n",
       "      <td>14</td>\n",
       "      <td>7</td>\n",
       "      <td>9</td>\n",
       "      <td>10.333333</td>\n",
       "      <td>17.703704</td>\n",
       "      <td>2.740741</td>\n",
       "    </tr>\n",
       "    <tr>\n",
       "      <th>8</th>\n",
       "      <td>v66_B</td>\n",
       "      <td>759.393880</td>\n",
       "      <td>29</td>\n",
       "      <td>4.337341</td>\n",
       "      <td>0.149563</td>\n",
       "      <td>26.185996</td>\n",
       "      <td>143.388821</td>\n",
       "      <td>9</td>\n",
       "      <td>14</td>\n",
       "      <td>14</td>\n",
       "      <td>32</td>\n",
       "      <td>11</td>\n",
       "      <td>12</td>\n",
       "      <td>15.333333</td>\n",
       "      <td>26.310345</td>\n",
       "      <td>2.482759</td>\n",
       "    </tr>\n",
       "    <tr>\n",
       "      <th>9</th>\n",
       "      <td>mean_pred_v31</td>\n",
       "      <td>601.634320</td>\n",
       "      <td>10</td>\n",
       "      <td>4.327141</td>\n",
       "      <td>0.432714</td>\n",
       "      <td>60.163432</td>\n",
       "      <td>489.597919</td>\n",
       "      <td>10</td>\n",
       "      <td>24</td>\n",
       "      <td>15</td>\n",
       "      <td>3</td>\n",
       "      <td>4</td>\n",
       "      <td>6</td>\n",
       "      <td>10.333333</td>\n",
       "      <td>22.300000</td>\n",
       "      <td>1.800000</td>\n",
       "    </tr>\n",
       "    <tr>\n",
       "      <th>10</th>\n",
       "      <td>v14</td>\n",
       "      <td>430.109870</td>\n",
       "      <td>40</td>\n",
       "      <td>5.780210</td>\n",
       "      <td>0.144505</td>\n",
       "      <td>10.752747</td>\n",
       "      <td>81.648628</td>\n",
       "      <td>11</td>\n",
       "      <td>8</td>\n",
       "      <td>9</td>\n",
       "      <td>33</td>\n",
       "      <td>28</td>\n",
       "      <td>14</td>\n",
       "      <td>17.166667</td>\n",
       "      <td>23.150000</td>\n",
       "      <td>3.250000</td>\n",
       "    </tr>\n",
       "    <tr>\n",
       "      <th>11</th>\n",
       "      <td>v40</td>\n",
       "      <td>396.481460</td>\n",
       "      <td>41</td>\n",
       "      <td>4.501851</td>\n",
       "      <td>0.109801</td>\n",
       "      <td>9.670280</td>\n",
       "      <td>50.818969</td>\n",
       "      <td>12</td>\n",
       "      <td>7</td>\n",
       "      <td>13</td>\n",
       "      <td>44</td>\n",
       "      <td>35</td>\n",
       "      <td>19</td>\n",
       "      <td>21.666667</td>\n",
       "      <td>27.756098</td>\n",
       "      <td>3.341463</td>\n",
       "    </tr>\n",
       "    <tr>\n",
       "      <th>12</th>\n",
       "      <td>mean_pred_v47</td>\n",
       "      <td>390.183949</td>\n",
       "      <td>30</td>\n",
       "      <td>5.626953</td>\n",
       "      <td>0.187565</td>\n",
       "      <td>13.006132</td>\n",
       "      <td>86.385971</td>\n",
       "      <td>13</td>\n",
       "      <td>13</td>\n",
       "      <td>10</td>\n",
       "      <td>19</td>\n",
       "      <td>22</td>\n",
       "      <td>13</td>\n",
       "      <td>15.000000</td>\n",
       "      <td>23.633333</td>\n",
       "      <td>3.166667</td>\n",
       "    </tr>\n",
       "    <tr>\n",
       "      <th>13</th>\n",
       "      <td>v110_B</td>\n",
       "      <td>384.801000</td>\n",
       "      <td>19</td>\n",
       "      <td>5.109727</td>\n",
       "      <td>0.268933</td>\n",
       "      <td>20.252684</td>\n",
       "      <td>163.003154</td>\n",
       "      <td>14</td>\n",
       "      <td>17</td>\n",
       "      <td>12</td>\n",
       "      <td>11</td>\n",
       "      <td>13</td>\n",
       "      <td>11</td>\n",
       "      <td>13.000000</td>\n",
       "      <td>23.421053</td>\n",
       "      <td>2.684211</td>\n",
       "    </tr>\n",
       "    <tr>\n",
       "      <th>14</th>\n",
       "      <td>mean_pred_v24</td>\n",
       "      <td>340.840080</td>\n",
       "      <td>33</td>\n",
       "      <td>5.301294</td>\n",
       "      <td>0.160645</td>\n",
       "      <td>10.328487</td>\n",
       "      <td>65.173464</td>\n",
       "      <td>15</td>\n",
       "      <td>11</td>\n",
       "      <td>11</td>\n",
       "      <td>24</td>\n",
       "      <td>30</td>\n",
       "      <td>18</td>\n",
       "      <td>18.166667</td>\n",
       "      <td>23.484848</td>\n",
       "      <td>2.848485</td>\n",
       "    </tr>\n",
       "    <tr>\n",
       "      <th>15</th>\n",
       "      <td>v31_A</td>\n",
       "      <td>322.715120</td>\n",
       "      <td>5</td>\n",
       "      <td>2.930606</td>\n",
       "      <td>0.586121</td>\n",
       "      <td>64.543024</td>\n",
       "      <td>285.404181</td>\n",
       "      <td>16</td>\n",
       "      <td>47</td>\n",
       "      <td>18</td>\n",
       "      <td>2</td>\n",
       "      <td>2</td>\n",
       "      <td>10</td>\n",
       "      <td>15.833333</td>\n",
       "      <td>21.200000</td>\n",
       "      <td>0.600000</td>\n",
       "    </tr>\n",
       "    <tr>\n",
       "      <th>16</th>\n",
       "      <td>v114</td>\n",
       "      <td>317.167951</td>\n",
       "      <td>33</td>\n",
       "      <td>3.496798</td>\n",
       "      <td>0.105964</td>\n",
       "      <td>9.611150</td>\n",
       "      <td>44.325811</td>\n",
       "      <td>17</td>\n",
       "      <td>12</td>\n",
       "      <td>16</td>\n",
       "      <td>46</td>\n",
       "      <td>36</td>\n",
       "      <td>20</td>\n",
       "      <td>24.500000</td>\n",
       "      <td>22.000000</td>\n",
       "      <td>3.393939</td>\n",
       "    </tr>\n",
       "    <tr>\n",
       "      <th>17</th>\n",
       "      <td>v34</td>\n",
       "      <td>288.250350</td>\n",
       "      <td>28</td>\n",
       "      <td>2.938613</td>\n",
       "      <td>0.104950</td>\n",
       "      <td>10.294655</td>\n",
       "      <td>35.131747</td>\n",
       "      <td>18</td>\n",
       "      <td>15</td>\n",
       "      <td>17</td>\n",
       "      <td>47</td>\n",
       "      <td>31</td>\n",
       "      <td>21</td>\n",
       "      <td>24.833333</td>\n",
       "      <td>25.821429</td>\n",
       "      <td>3.500000</td>\n",
       "    </tr>\n",
       "    <tr>\n",
       "      <th>18</th>\n",
       "      <td>v21</td>\n",
       "      <td>272.673280</td>\n",
       "      <td>37</td>\n",
       "      <td>2.915151</td>\n",
       "      <td>0.078788</td>\n",
       "      <td>7.369548</td>\n",
       "      <td>22.719559</td>\n",
       "      <td>19</td>\n",
       "      <td>9</td>\n",
       "      <td>19</td>\n",
       "      <td>60</td>\n",
       "      <td>62</td>\n",
       "      <td>24</td>\n",
       "      <td>32.166667</td>\n",
       "      <td>24.702703</td>\n",
       "      <td>3.675676</td>\n",
       "    </tr>\n",
       "    <tr>\n",
       "      <th>19</th>\n",
       "      <td>mean_pred_v110</td>\n",
       "      <td>252.673890</td>\n",
       "      <td>13</td>\n",
       "      <td>2.901530</td>\n",
       "      <td>0.223195</td>\n",
       "      <td>19.436453</td>\n",
       "      <td>72.997117</td>\n",
       "      <td>20</td>\n",
       "      <td>20</td>\n",
       "      <td>20</td>\n",
       "      <td>16</td>\n",
       "      <td>15</td>\n",
       "      <td>15</td>\n",
       "      <td>17.666667</td>\n",
       "      <td>22.076923</td>\n",
       "      <td>2.615385</td>\n",
       "    </tr>\n",
       "    <tr>\n",
       "      <th>20</th>\n",
       "      <td>v110_A</td>\n",
       "      <td>163.093900</td>\n",
       "      <td>5</td>\n",
       "      <td>2.017934</td>\n",
       "      <td>0.403587</td>\n",
       "      <td>32.618780</td>\n",
       "      <td>70.896592</td>\n",
       "      <td>21</td>\n",
       "      <td>48</td>\n",
       "      <td>21</td>\n",
       "      <td>4</td>\n",
       "      <td>9</td>\n",
       "      <td>17</td>\n",
       "      <td>20.000000</td>\n",
       "      <td>30.200000</td>\n",
       "      <td>2.200000</td>\n",
       "    </tr>\n",
       "    <tr>\n",
       "      <th>21</th>\n",
       "      <td>v24_C</td>\n",
       "      <td>132.109189</td>\n",
       "      <td>7</td>\n",
       "      <td>1.122508</td>\n",
       "      <td>0.160358</td>\n",
       "      <td>18.872741</td>\n",
       "      <td>22.373331</td>\n",
       "      <td>22</td>\n",
       "      <td>35</td>\n",
       "      <td>27</td>\n",
       "      <td>25</td>\n",
       "      <td>16</td>\n",
       "      <td>25</td>\n",
       "      <td>25.000000</td>\n",
       "      <td>15.857143</td>\n",
       "      <td>3.714286</td>\n",
       "    </tr>\n",
       "    <tr>\n",
       "      <th>22</th>\n",
       "      <td>mean_pred_v125</td>\n",
       "      <td>109.926033</td>\n",
       "      <td>17</td>\n",
       "      <td>1.611352</td>\n",
       "      <td>0.094785</td>\n",
       "      <td>6.466237</td>\n",
       "      <td>10.220528</td>\n",
       "      <td>23</td>\n",
       "      <td>18</td>\n",
       "      <td>23</td>\n",
       "      <td>50</td>\n",
       "      <td>74</td>\n",
       "      <td>29</td>\n",
       "      <td>36.166667</td>\n",
       "      <td>21.294118</td>\n",
       "      <td>3.294118</td>\n",
       "    </tr>\n",
       "    <tr>\n",
       "      <th>23</th>\n",
       "      <td>mean_pred_v112</td>\n",
       "      <td>94.963910</td>\n",
       "      <td>16</td>\n",
       "      <td>0.645209</td>\n",
       "      <td>0.040326</td>\n",
       "      <td>5.935244</td>\n",
       "      <td>5.050761</td>\n",
       "      <td>24</td>\n",
       "      <td>19</td>\n",
       "      <td>44</td>\n",
       "      <td>91</td>\n",
       "      <td>83</td>\n",
       "      <td>46</td>\n",
       "      <td>51.166667</td>\n",
       "      <td>29.625000</td>\n",
       "      <td>3.875000</td>\n",
       "    </tr>\n",
       "    <tr>\n",
       "      <th>24</th>\n",
       "      <td>v45</td>\n",
       "      <td>93.294770</td>\n",
       "      <td>12</td>\n",
       "      <td>1.273368</td>\n",
       "      <td>0.106114</td>\n",
       "      <td>7.774564</td>\n",
       "      <td>11.171631</td>\n",
       "      <td>25</td>\n",
       "      <td>23</td>\n",
       "      <td>26</td>\n",
       "      <td>45</td>\n",
       "      <td>56</td>\n",
       "      <td>27</td>\n",
       "      <td>33.666667</td>\n",
       "      <td>23.833333</td>\n",
       "      <td>3.583333</td>\n",
       "    </tr>\n",
       "    <tr>\n",
       "      <th>25</th>\n",
       "      <td>v66_A</td>\n",
       "      <td>92.529010</td>\n",
       "      <td>5</td>\n",
       "      <td>0.325519</td>\n",
       "      <td>0.065104</td>\n",
       "      <td>18.505802</td>\n",
       "      <td>6.239000</td>\n",
       "      <td>26</td>\n",
       "      <td>49</td>\n",
       "      <td>63</td>\n",
       "      <td>73</td>\n",
       "      <td>17</td>\n",
       "      <td>40</td>\n",
       "      <td>44.666667</td>\n",
       "      <td>14.000000</td>\n",
       "      <td>3.000000</td>\n",
       "    </tr>\n",
       "    <tr>\n",
       "      <th>26</th>\n",
       "      <td>mean_pred_v30</td>\n",
       "      <td>86.888610</td>\n",
       "      <td>13</td>\n",
       "      <td>1.618035</td>\n",
       "      <td>0.124464</td>\n",
       "      <td>6.683739</td>\n",
       "      <td>15.228965</td>\n",
       "      <td>27</td>\n",
       "      <td>21</td>\n",
       "      <td>22</td>\n",
       "      <td>37</td>\n",
       "      <td>72</td>\n",
       "      <td>26</td>\n",
       "      <td>34.166667</td>\n",
       "      <td>21.384615</td>\n",
       "      <td>3.615385</td>\n",
       "    </tr>\n",
       "    <tr>\n",
       "      <th>27</th>\n",
       "      <td>mean_pred_v91</td>\n",
       "      <td>80.871260</td>\n",
       "      <td>13</td>\n",
       "      <td>0.971774</td>\n",
       "      <td>0.074752</td>\n",
       "      <td>6.220866</td>\n",
       "      <td>7.358710</td>\n",
       "      <td>28</td>\n",
       "      <td>22</td>\n",
       "      <td>32</td>\n",
       "      <td>62</td>\n",
       "      <td>76</td>\n",
       "      <td>36</td>\n",
       "      <td>42.666667</td>\n",
       "      <td>21.153846</td>\n",
       "      <td>3.615385</td>\n",
       "    </tr>\n",
       "    <tr>\n",
       "      <th>28</th>\n",
       "      <td>v47_C</td>\n",
       "      <td>77.956760</td>\n",
       "      <td>4</td>\n",
       "      <td>1.278738</td>\n",
       "      <td>0.319684</td>\n",
       "      <td>19.489190</td>\n",
       "      <td>28.305959</td>\n",
       "      <td>29</td>\n",
       "      <td>54</td>\n",
       "      <td>25</td>\n",
       "      <td>9</td>\n",
       "      <td>14</td>\n",
       "      <td>22</td>\n",
       "      <td>25.500000</td>\n",
       "      <td>16.750000</td>\n",
       "      <td>3.250000</td>\n",
       "    </tr>\n",
       "    <tr>\n",
       "      <th>29</th>\n",
       "      <td>v115</td>\n",
       "      <td>76.339630</td>\n",
       "      <td>9</td>\n",
       "      <td>0.812381</td>\n",
       "      <td>0.090265</td>\n",
       "      <td>8.482181</td>\n",
       "      <td>7.096796</td>\n",
       "      <td>30</td>\n",
       "      <td>27</td>\n",
       "      <td>37</td>\n",
       "      <td>51</td>\n",
       "      <td>43</td>\n",
       "      <td>39</td>\n",
       "      <td>37.833333</td>\n",
       "      <td>31.444444</td>\n",
       "      <td>3.555556</td>\n",
       "    </tr>\n",
       "    <tr>\n",
       "      <th>...</th>\n",
       "      <td>...</td>\n",
       "      <td>...</td>\n",
       "      <td>...</td>\n",
       "      <td>...</td>\n",
       "      <td>...</td>\n",
       "      <td>...</td>\n",
       "      <td>...</td>\n",
       "      <td>...</td>\n",
       "      <td>...</td>\n",
       "      <td>...</td>\n",
       "      <td>...</td>\n",
       "      <td>...</td>\n",
       "      <td>...</td>\n",
       "      <td>...</td>\n",
       "      <td>...</td>\n",
       "      <td>...</td>\n",
       "    </tr>\n",
       "    <tr>\n",
       "      <th>70</th>\n",
       "      <td>v7</td>\n",
       "      <td>23.820050</td>\n",
       "      <td>3</td>\n",
       "      <td>0.219200</td>\n",
       "      <td>0.073067</td>\n",
       "      <td>7.940017</td>\n",
       "      <td>1.698584</td>\n",
       "      <td>71</td>\n",
       "      <td>71</td>\n",
       "      <td>72</td>\n",
       "      <td>64</td>\n",
       "      <td>51</td>\n",
       "      <td>77</td>\n",
       "      <td>67.666667</td>\n",
       "      <td>36.666667</td>\n",
       "      <td>4.000000</td>\n",
       "    </tr>\n",
       "    <tr>\n",
       "      <th>71</th>\n",
       "      <td>v43</td>\n",
       "      <td>23.054100</td>\n",
       "      <td>3</td>\n",
       "      <td>0.216815</td>\n",
       "      <td>0.072272</td>\n",
       "      <td>7.684700</td>\n",
       "      <td>2.166511</td>\n",
       "      <td>72</td>\n",
       "      <td>72</td>\n",
       "      <td>74</td>\n",
       "      <td>67</td>\n",
       "      <td>57</td>\n",
       "      <td>69</td>\n",
       "      <td>68.500000</td>\n",
       "      <td>21.666667</td>\n",
       "      <td>3.000000</td>\n",
       "    </tr>\n",
       "    <tr>\n",
       "      <th>72</th>\n",
       "      <td>v90</td>\n",
       "      <td>22.930810</td>\n",
       "      <td>6</td>\n",
       "      <td>0.600566</td>\n",
       "      <td>0.100094</td>\n",
       "      <td>3.821802</td>\n",
       "      <td>2.513522</td>\n",
       "      <td>73</td>\n",
       "      <td>46</td>\n",
       "      <td>45</td>\n",
       "      <td>49</td>\n",
       "      <td>99</td>\n",
       "      <td>60</td>\n",
       "      <td>62.000000</td>\n",
       "      <td>19.166667</td>\n",
       "      <td>3.666667</td>\n",
       "    </tr>\n",
       "    <tr>\n",
       "      <th>73</th>\n",
       "      <td>v69</td>\n",
       "      <td>22.415720</td>\n",
       "      <td>3</td>\n",
       "      <td>0.086202</td>\n",
       "      <td>0.028734</td>\n",
       "      <td>7.471907</td>\n",
       "      <td>0.664202</td>\n",
       "      <td>74</td>\n",
       "      <td>73</td>\n",
       "      <td>96</td>\n",
       "      <td>97</td>\n",
       "      <td>60</td>\n",
       "      <td>95</td>\n",
       "      <td>82.500000</td>\n",
       "      <td>17.000000</td>\n",
       "      <td>4.000000</td>\n",
       "    </tr>\n",
       "    <tr>\n",
       "      <th>74</th>\n",
       "      <td>v11</td>\n",
       "      <td>22.269720</td>\n",
       "      <td>3</td>\n",
       "      <td>0.149885</td>\n",
       "      <td>0.049962</td>\n",
       "      <td>7.423240</td>\n",
       "      <td>1.127666</td>\n",
       "      <td>75</td>\n",
       "      <td>74</td>\n",
       "      <td>88</td>\n",
       "      <td>84</td>\n",
       "      <td>61</td>\n",
       "      <td>86</td>\n",
       "      <td>78.000000</td>\n",
       "      <td>25.000000</td>\n",
       "      <td>3.666667</td>\n",
       "    </tr>\n",
       "    <tr>\n",
       "      <th>75</th>\n",
       "      <td>v83</td>\n",
       "      <td>20.835690</td>\n",
       "      <td>3</td>\n",
       "      <td>0.331147</td>\n",
       "      <td>0.110382</td>\n",
       "      <td>6.945230</td>\n",
       "      <td>2.656122</td>\n",
       "      <td>76</td>\n",
       "      <td>75</td>\n",
       "      <td>62</td>\n",
       "      <td>43</td>\n",
       "      <td>66</td>\n",
       "      <td>57</td>\n",
       "      <td>63.166667</td>\n",
       "      <td>36.000000</td>\n",
       "      <td>4.000000</td>\n",
       "    </tr>\n",
       "    <tr>\n",
       "      <th>76</th>\n",
       "      <td>v2</td>\n",
       "      <td>20.321620</td>\n",
       "      <td>3</td>\n",
       "      <td>0.158419</td>\n",
       "      <td>0.052806</td>\n",
       "      <td>6.773873</td>\n",
       "      <td>1.004573</td>\n",
       "      <td>77</td>\n",
       "      <td>76</td>\n",
       "      <td>82</td>\n",
       "      <td>80</td>\n",
       "      <td>68</td>\n",
       "      <td>90</td>\n",
       "      <td>78.833333</td>\n",
       "      <td>46.000000</td>\n",
       "      <td>4.000000</td>\n",
       "    </tr>\n",
       "    <tr>\n",
       "      <th>77</th>\n",
       "      <td>v80</td>\n",
       "      <td>19.912220</td>\n",
       "      <td>3</td>\n",
       "      <td>0.432218</td>\n",
       "      <td>0.144073</td>\n",
       "      <td>6.637407</td>\n",
       "      <td>3.152952</td>\n",
       "      <td>78</td>\n",
       "      <td>77</td>\n",
       "      <td>54</td>\n",
       "      <td>34</td>\n",
       "      <td>73</td>\n",
       "      <td>51</td>\n",
       "      <td>61.166667</td>\n",
       "      <td>39.666667</td>\n",
       "      <td>3.333333</td>\n",
       "    </tr>\n",
       "    <tr>\n",
       "      <th>78</th>\n",
       "      <td>v58</td>\n",
       "      <td>19.404620</td>\n",
       "      <td>2</td>\n",
       "      <td>0.143241</td>\n",
       "      <td>0.071620</td>\n",
       "      <td>9.702310</td>\n",
       "      <td>1.275332</td>\n",
       "      <td>79</td>\n",
       "      <td>86</td>\n",
       "      <td>89</td>\n",
       "      <td>68</td>\n",
       "      <td>34</td>\n",
       "      <td>84</td>\n",
       "      <td>73.333333</td>\n",
       "      <td>21.500000</td>\n",
       "      <td>4.000000</td>\n",
       "    </tr>\n",
       "    <tr>\n",
       "      <th>79</th>\n",
       "      <td>v109</td>\n",
       "      <td>18.645400</td>\n",
       "      <td>2</td>\n",
       "      <td>0.159225</td>\n",
       "      <td>0.079612</td>\n",
       "      <td>9.322700</td>\n",
       "      <td>1.464925</td>\n",
       "      <td>80</td>\n",
       "      <td>87</td>\n",
       "      <td>81</td>\n",
       "      <td>58</td>\n",
       "      <td>37</td>\n",
       "      <td>81</td>\n",
       "      <td>70.666667</td>\n",
       "      <td>32.500000</td>\n",
       "      <td>3.000000</td>\n",
       "    </tr>\n",
       "    <tr>\n",
       "      <th>80</th>\n",
       "      <td>v120</td>\n",
       "      <td>18.324430</td>\n",
       "      <td>3</td>\n",
       "      <td>0.130615</td>\n",
       "      <td>0.043538</td>\n",
       "      <td>6.108143</td>\n",
       "      <td>0.888963</td>\n",
       "      <td>81</td>\n",
       "      <td>78</td>\n",
       "      <td>92</td>\n",
       "      <td>89</td>\n",
       "      <td>80</td>\n",
       "      <td>91</td>\n",
       "      <td>85.166667</td>\n",
       "      <td>41.333333</td>\n",
       "      <td>3.666667</td>\n",
       "    </tr>\n",
       "    <tr>\n",
       "      <th>81</th>\n",
       "      <td>v79_P</td>\n",
       "      <td>17.763000</td>\n",
       "      <td>1</td>\n",
       "      <td>0.153945</td>\n",
       "      <td>0.153945</td>\n",
       "      <td>17.763000</td>\n",
       "      <td>2.734520</td>\n",
       "      <td>82</td>\n",
       "      <td>99</td>\n",
       "      <td>85</td>\n",
       "      <td>28</td>\n",
       "      <td>18</td>\n",
       "      <td>55</td>\n",
       "      <td>61.166667</td>\n",
       "      <td>16.000000</td>\n",
       "      <td>2.000000</td>\n",
       "    </tr>\n",
       "    <tr>\n",
       "      <th>82</th>\n",
       "      <td>v67</td>\n",
       "      <td>17.330080</td>\n",
       "      <td>3</td>\n",
       "      <td>0.218181</td>\n",
       "      <td>0.072727</td>\n",
       "      <td>5.776693</td>\n",
       "      <td>1.613458</td>\n",
       "      <td>83</td>\n",
       "      <td>79</td>\n",
       "      <td>73</td>\n",
       "      <td>66</td>\n",
       "      <td>84</td>\n",
       "      <td>79</td>\n",
       "      <td>77.333333</td>\n",
       "      <td>38.333333</td>\n",
       "      <td>4.000000</td>\n",
       "    </tr>\n",
       "    <tr>\n",
       "      <th>83</th>\n",
       "      <td>v111</td>\n",
       "      <td>17.238450</td>\n",
       "      <td>2</td>\n",
       "      <td>0.165700</td>\n",
       "      <td>0.082850</td>\n",
       "      <td>8.619225</td>\n",
       "      <td>1.026976</td>\n",
       "      <td>84</td>\n",
       "      <td>88</td>\n",
       "      <td>80</td>\n",
       "      <td>56</td>\n",
       "      <td>40</td>\n",
       "      <td>88</td>\n",
       "      <td>72.666667</td>\n",
       "      <td>17.500000</td>\n",
       "      <td>4.000000</td>\n",
       "    </tr>\n",
       "    <tr>\n",
       "      <th>84</th>\n",
       "      <td>v70</td>\n",
       "      <td>16.830050</td>\n",
       "      <td>3</td>\n",
       "      <td>0.096260</td>\n",
       "      <td>0.032087</td>\n",
       "      <td>5.610017</td>\n",
       "      <td>0.816707</td>\n",
       "      <td>85</td>\n",
       "      <td>80</td>\n",
       "      <td>94</td>\n",
       "      <td>94</td>\n",
       "      <td>87</td>\n",
       "      <td>92</td>\n",
       "      <td>88.666667</td>\n",
       "      <td>39.666667</td>\n",
       "      <td>4.000000</td>\n",
       "    </tr>\n",
       "    <tr>\n",
       "      <th>85</th>\n",
       "      <td>v78</td>\n",
       "      <td>16.559770</td>\n",
       "      <td>4</td>\n",
       "      <td>0.152534</td>\n",
       "      <td>0.038133</td>\n",
       "      <td>4.139943</td>\n",
       "      <td>0.663867</td>\n",
       "      <td>86</td>\n",
       "      <td>64</td>\n",
       "      <td>87</td>\n",
       "      <td>92</td>\n",
       "      <td>97</td>\n",
       "      <td>96</td>\n",
       "      <td>87.000000</td>\n",
       "      <td>25.000000</td>\n",
       "      <td>3.250000</td>\n",
       "    </tr>\n",
       "    <tr>\n",
       "      <th>86</th>\n",
       "      <td>v28</td>\n",
       "      <td>16.021780</td>\n",
       "      <td>2</td>\n",
       "      <td>0.142723</td>\n",
       "      <td>0.071362</td>\n",
       "      <td>8.010890</td>\n",
       "      <td>1.382446</td>\n",
       "      <td>87</td>\n",
       "      <td>89</td>\n",
       "      <td>90</td>\n",
       "      <td>69</td>\n",
       "      <td>49</td>\n",
       "      <td>82</td>\n",
       "      <td>77.666667</td>\n",
       "      <td>26.000000</td>\n",
       "      <td>4.000000</td>\n",
       "    </tr>\n",
       "    <tr>\n",
       "      <th>87</th>\n",
       "      <td>v82</td>\n",
       "      <td>15.949910</td>\n",
       "      <td>2</td>\n",
       "      <td>0.088016</td>\n",
       "      <td>0.044008</td>\n",
       "      <td>7.974955</td>\n",
       "      <td>0.722239</td>\n",
       "      <td>88</td>\n",
       "      <td>90</td>\n",
       "      <td>95</td>\n",
       "      <td>88</td>\n",
       "      <td>50</td>\n",
       "      <td>93</td>\n",
       "      <td>84.000000</td>\n",
       "      <td>32.000000</td>\n",
       "      <td>3.500000</td>\n",
       "    </tr>\n",
       "    <tr>\n",
       "      <th>88</th>\n",
       "      <td>v99</td>\n",
       "      <td>15.685450</td>\n",
       "      <td>2</td>\n",
       "      <td>0.306840</td>\n",
       "      <td>0.153420</td>\n",
       "      <td>7.842725</td>\n",
       "      <td>2.435673</td>\n",
       "      <td>89</td>\n",
       "      <td>91</td>\n",
       "      <td>64</td>\n",
       "      <td>29</td>\n",
       "      <td>53</td>\n",
       "      <td>61</td>\n",
       "      <td>64.500000</td>\n",
       "      <td>16.500000</td>\n",
       "      <td>4.000000</td>\n",
       "    </tr>\n",
       "    <tr>\n",
       "      <th>89</th>\n",
       "      <td>v116</td>\n",
       "      <td>15.602440</td>\n",
       "      <td>2</td>\n",
       "      <td>0.085046</td>\n",
       "      <td>0.042523</td>\n",
       "      <td>7.801220</td>\n",
       "      <td>0.622860</td>\n",
       "      <td>90</td>\n",
       "      <td>92</td>\n",
       "      <td>97</td>\n",
       "      <td>90</td>\n",
       "      <td>54</td>\n",
       "      <td>97</td>\n",
       "      <td>86.666667</td>\n",
       "      <td>46.500000</td>\n",
       "      <td>3.500000</td>\n",
       "    </tr>\n",
       "    <tr>\n",
       "      <th>90</th>\n",
       "      <td>v20</td>\n",
       "      <td>15.585230</td>\n",
       "      <td>2</td>\n",
       "      <td>0.306501</td>\n",
       "      <td>0.153251</td>\n",
       "      <td>7.792615</td>\n",
       "      <td>2.218882</td>\n",
       "      <td>91</td>\n",
       "      <td>93</td>\n",
       "      <td>65</td>\n",
       "      <td>30</td>\n",
       "      <td>55</td>\n",
       "      <td>68</td>\n",
       "      <td>67.000000</td>\n",
       "      <td>49.000000</td>\n",
       "      <td>4.000000</td>\n",
       "    </tr>\n",
       "    <tr>\n",
       "      <th>91</th>\n",
       "      <td>v102</td>\n",
       "      <td>15.420890</td>\n",
       "      <td>3</td>\n",
       "      <td>0.339088</td>\n",
       "      <td>0.113029</td>\n",
       "      <td>5.140297</td>\n",
       "      <td>1.744795</td>\n",
       "      <td>92</td>\n",
       "      <td>81</td>\n",
       "      <td>61</td>\n",
       "      <td>40</td>\n",
       "      <td>90</td>\n",
       "      <td>75</td>\n",
       "      <td>73.166667</td>\n",
       "      <td>28.666667</td>\n",
       "      <td>2.666667</td>\n",
       "    </tr>\n",
       "    <tr>\n",
       "      <th>92</th>\n",
       "      <td>v48</td>\n",
       "      <td>15.193060</td>\n",
       "      <td>2</td>\n",
       "      <td>0.058965</td>\n",
       "      <td>0.029482</td>\n",
       "      <td>7.596530</td>\n",
       "      <td>0.396497</td>\n",
       "      <td>93</td>\n",
       "      <td>94</td>\n",
       "      <td>98</td>\n",
       "      <td>96</td>\n",
       "      <td>59</td>\n",
       "      <td>99</td>\n",
       "      <td>89.833333</td>\n",
       "      <td>29.000000</td>\n",
       "      <td>3.000000</td>\n",
       "    </tr>\n",
       "    <tr>\n",
       "      <th>93</th>\n",
       "      <td>v119</td>\n",
       "      <td>14.668802</td>\n",
       "      <td>4</td>\n",
       "      <td>0.212566</td>\n",
       "      <td>0.053141</td>\n",
       "      <td>3.667200</td>\n",
       "      <td>1.033306</td>\n",
       "      <td>94</td>\n",
       "      <td>65</td>\n",
       "      <td>75</td>\n",
       "      <td>79</td>\n",
       "      <td>100</td>\n",
       "      <td>87</td>\n",
       "      <td>83.333333</td>\n",
       "      <td>26.750000</td>\n",
       "      <td>3.500000</td>\n",
       "    </tr>\n",
       "    <tr>\n",
       "      <th>94</th>\n",
       "      <td>v127</td>\n",
       "      <td>14.630540</td>\n",
       "      <td>3</td>\n",
       "      <td>0.174159</td>\n",
       "      <td>0.058053</td>\n",
       "      <td>4.876847</td>\n",
       "      <td>1.011909</td>\n",
       "      <td>95</td>\n",
       "      <td>82</td>\n",
       "      <td>79</td>\n",
       "      <td>78</td>\n",
       "      <td>94</td>\n",
       "      <td>89</td>\n",
       "      <td>86.166667</td>\n",
       "      <td>28.333333</td>\n",
       "      <td>3.666667</td>\n",
       "    </tr>\n",
       "    <tr>\n",
       "      <th>95</th>\n",
       "      <td>v122</td>\n",
       "      <td>14.444980</td>\n",
       "      <td>2</td>\n",
       "      <td>0.050118</td>\n",
       "      <td>0.025059</td>\n",
       "      <td>7.222490</td>\n",
       "      <td>0.399589</td>\n",
       "      <td>96</td>\n",
       "      <td>95</td>\n",
       "      <td>99</td>\n",
       "      <td>99</td>\n",
       "      <td>63</td>\n",
       "      <td>98</td>\n",
       "      <td>91.666667</td>\n",
       "      <td>29.500000</td>\n",
       "      <td>4.000000</td>\n",
       "    </tr>\n",
       "    <tr>\n",
       "      <th>96</th>\n",
       "      <td>v15</td>\n",
       "      <td>14.173630</td>\n",
       "      <td>2</td>\n",
       "      <td>0.037750</td>\n",
       "      <td>0.018875</td>\n",
       "      <td>7.086815</td>\n",
       "      <td>0.282515</td>\n",
       "      <td>97</td>\n",
       "      <td>96</td>\n",
       "      <td>100</td>\n",
       "      <td>100</td>\n",
       "      <td>64</td>\n",
       "      <td>100</td>\n",
       "      <td>92.833333</td>\n",
       "      <td>29.000000</td>\n",
       "      <td>4.000000</td>\n",
       "    </tr>\n",
       "    <tr>\n",
       "      <th>97</th>\n",
       "      <td>v47_J</td>\n",
       "      <td>14.168200</td>\n",
       "      <td>1</td>\n",
       "      <td>0.157677</td>\n",
       "      <td>0.157677</td>\n",
       "      <td>14.168200</td>\n",
       "      <td>2.234001</td>\n",
       "      <td>98</td>\n",
       "      <td>100</td>\n",
       "      <td>84</td>\n",
       "      <td>26</td>\n",
       "      <td>21</td>\n",
       "      <td>66</td>\n",
       "      <td>65.833333</td>\n",
       "      <td>34.000000</td>\n",
       "      <td>3.000000</td>\n",
       "    </tr>\n",
       "    <tr>\n",
       "      <th>98</th>\n",
       "      <td>v72</td>\n",
       "      <td>13.960670</td>\n",
       "      <td>2</td>\n",
       "      <td>0.461109</td>\n",
       "      <td>0.230554</td>\n",
       "      <td>6.980335</td>\n",
       "      <td>4.258761</td>\n",
       "      <td>99</td>\n",
       "      <td>97</td>\n",
       "      <td>53</td>\n",
       "      <td>15</td>\n",
       "      <td>65</td>\n",
       "      <td>47</td>\n",
       "      <td>62.666667</td>\n",
       "      <td>39.500000</td>\n",
       "      <td>4.000000</td>\n",
       "    </tr>\n",
       "    <tr>\n",
       "      <th>99</th>\n",
       "      <td>v26</td>\n",
       "      <td>13.885470</td>\n",
       "      <td>3</td>\n",
       "      <td>0.140367</td>\n",
       "      <td>0.046789</td>\n",
       "      <td>4.628490</td>\n",
       "      <td>0.687124</td>\n",
       "      <td>100</td>\n",
       "      <td>83</td>\n",
       "      <td>91</td>\n",
       "      <td>86</td>\n",
       "      <td>96</td>\n",
       "      <td>94</td>\n",
       "      <td>91.666667</td>\n",
       "      <td>33.666667</td>\n",
       "      <td>3.666667</td>\n",
       "    </tr>\n",
       "  </tbody>\n",
       "</table>\n",
       "<p>100 rows × 16 columns</p>\n",
       "</div>"
      ],
      "text/plain": [
       "       Interaction         Gain  FScore    wFScore  Average wFScore  \\\n",
       "0              v50  8379.119607     130  45.142183         0.347248   \n",
       "1    mean_pred_v56  3598.714822      67  26.168327         0.390572   \n",
       "2    mean_pred_v79  2572.762650      60  18.799761         0.313329   \n",
       "3   mean_pred_v113  1465.084740      48  12.661560         0.263783   \n",
       "4              v10  1435.705430      69  15.155029         0.219638   \n",
       "5              v12  1275.031661      76  15.607611         0.205363   \n",
       "6            v66_C  1093.207090      33  12.009676         0.363930   \n",
       "7    mean_pred_v66   912.209483      27   6.240608         0.231134   \n",
       "8            v66_B   759.393880      29   4.337341         0.149563   \n",
       "9    mean_pred_v31   601.634320      10   4.327141         0.432714   \n",
       "10             v14   430.109870      40   5.780210         0.144505   \n",
       "11             v40   396.481460      41   4.501851         0.109801   \n",
       "12   mean_pred_v47   390.183949      30   5.626953         0.187565   \n",
       "13          v110_B   384.801000      19   5.109727         0.268933   \n",
       "14   mean_pred_v24   340.840080      33   5.301294         0.160645   \n",
       "15           v31_A   322.715120       5   2.930606         0.586121   \n",
       "16            v114   317.167951      33   3.496798         0.105964   \n",
       "17             v34   288.250350      28   2.938613         0.104950   \n",
       "18             v21   272.673280      37   2.915151         0.078788   \n",
       "19  mean_pred_v110   252.673890      13   2.901530         0.223195   \n",
       "20          v110_A   163.093900       5   2.017934         0.403587   \n",
       "21           v24_C   132.109189       7   1.122508         0.160358   \n",
       "22  mean_pred_v125   109.926033      17   1.611352         0.094785   \n",
       "23  mean_pred_v112    94.963910      16   0.645209         0.040326   \n",
       "24             v45    93.294770      12   1.273368         0.106114   \n",
       "25           v66_A    92.529010       5   0.325519         0.065104   \n",
       "26   mean_pred_v30    86.888610      13   1.618035         0.124464   \n",
       "27   mean_pred_v91    80.871260      13   0.971774         0.074752   \n",
       "28           v47_C    77.956760       4   1.278738         0.319684   \n",
       "29            v115    76.339630       9   0.812381         0.090265   \n",
       "..             ...          ...     ...        ...              ...   \n",
       "70              v7    23.820050       3   0.219200         0.073067   \n",
       "71             v43    23.054100       3   0.216815         0.072272   \n",
       "72             v90    22.930810       6   0.600566         0.100094   \n",
       "73             v69    22.415720       3   0.086202         0.028734   \n",
       "74             v11    22.269720       3   0.149885         0.049962   \n",
       "75             v83    20.835690       3   0.331147         0.110382   \n",
       "76              v2    20.321620       3   0.158419         0.052806   \n",
       "77             v80    19.912220       3   0.432218         0.144073   \n",
       "78             v58    19.404620       2   0.143241         0.071620   \n",
       "79            v109    18.645400       2   0.159225         0.079612   \n",
       "80            v120    18.324430       3   0.130615         0.043538   \n",
       "81           v79_P    17.763000       1   0.153945         0.153945   \n",
       "82             v67    17.330080       3   0.218181         0.072727   \n",
       "83            v111    17.238450       2   0.165700         0.082850   \n",
       "84             v70    16.830050       3   0.096260         0.032087   \n",
       "85             v78    16.559770       4   0.152534         0.038133   \n",
       "86             v28    16.021780       2   0.142723         0.071362   \n",
       "87             v82    15.949910       2   0.088016         0.044008   \n",
       "88             v99    15.685450       2   0.306840         0.153420   \n",
       "89            v116    15.602440       2   0.085046         0.042523   \n",
       "90             v20    15.585230       2   0.306501         0.153251   \n",
       "91            v102    15.420890       3   0.339088         0.113029   \n",
       "92             v48    15.193060       2   0.058965         0.029482   \n",
       "93            v119    14.668802       4   0.212566         0.053141   \n",
       "94            v127    14.630540       3   0.174159         0.058053   \n",
       "95            v122    14.444980       2   0.050118         0.025059   \n",
       "96             v15    14.173630       2   0.037750         0.018875   \n",
       "97           v47_J    14.168200       1   0.157677         0.157677   \n",
       "98             v72    13.960670       2   0.461109         0.230554   \n",
       "99             v26    13.885470       3   0.140367         0.046789   \n",
       "\n",
       "    Average Gain  Expected Gain  Gain Rank  FScore Rank  wFScore Rank  \\\n",
       "0      64.454766    6730.150249          1            1             1   \n",
       "1      53.712162    2935.516102          2            4             2   \n",
       "2      42.879378    1889.785204          3            5             3   \n",
       "3      30.522599     669.946590          4            6             6   \n",
       "4      20.807325     443.936822          5            3             5   \n",
       "5      16.776732     425.925391          6            2             4   \n",
       "6      33.127488     545.686811          7           10             7   \n",
       "7      33.785536     326.200499          8           16             8   \n",
       "8      26.185996     143.388821          9           14            14   \n",
       "9      60.163432     489.597919         10           24            15   \n",
       "10     10.752747      81.648628         11            8             9   \n",
       "11      9.670280      50.818969         12            7            13   \n",
       "12     13.006132      86.385971         13           13            10   \n",
       "13     20.252684     163.003154         14           17            12   \n",
       "14     10.328487      65.173464         15           11            11   \n",
       "15     64.543024     285.404181         16           47            18   \n",
       "16      9.611150      44.325811         17           12            16   \n",
       "17     10.294655      35.131747         18           15            17   \n",
       "18      7.369548      22.719559         19            9            19   \n",
       "19     19.436453      72.997117         20           20            20   \n",
       "20     32.618780      70.896592         21           48            21   \n",
       "21     18.872741      22.373331         22           35            27   \n",
       "22      6.466237      10.220528         23           18            23   \n",
       "23      5.935244       5.050761         24           19            44   \n",
       "24      7.774564      11.171631         25           23            26   \n",
       "25     18.505802       6.239000         26           49            63   \n",
       "26      6.683739      15.228965         27           21            22   \n",
       "27      6.220866       7.358710         28           22            32   \n",
       "28     19.489190      28.305959         29           54            25   \n",
       "29      8.482181       7.096796         30           27            37   \n",
       "..           ...            ...        ...          ...           ...   \n",
       "70      7.940017       1.698584         71           71            72   \n",
       "71      7.684700       2.166511         72           72            74   \n",
       "72      3.821802       2.513522         73           46            45   \n",
       "73      7.471907       0.664202         74           73            96   \n",
       "74      7.423240       1.127666         75           74            88   \n",
       "75      6.945230       2.656122         76           75            62   \n",
       "76      6.773873       1.004573         77           76            82   \n",
       "77      6.637407       3.152952         78           77            54   \n",
       "78      9.702310       1.275332         79           86            89   \n",
       "79      9.322700       1.464925         80           87            81   \n",
       "80      6.108143       0.888963         81           78            92   \n",
       "81     17.763000       2.734520         82           99            85   \n",
       "82      5.776693       1.613458         83           79            73   \n",
       "83      8.619225       1.026976         84           88            80   \n",
       "84      5.610017       0.816707         85           80            94   \n",
       "85      4.139943       0.663867         86           64            87   \n",
       "86      8.010890       1.382446         87           89            90   \n",
       "87      7.974955       0.722239         88           90            95   \n",
       "88      7.842725       2.435673         89           91            64   \n",
       "89      7.801220       0.622860         90           92            97   \n",
       "90      7.792615       2.218882         91           93            65   \n",
       "91      5.140297       1.744795         92           81            61   \n",
       "92      7.596530       0.396497         93           94            98   \n",
       "93      3.667200       1.033306         94           65            75   \n",
       "94      4.876847       1.011909         95           82            79   \n",
       "95      7.222490       0.399589         96           95            99   \n",
       "96      7.086815       0.282515         97           96           100   \n",
       "97     14.168200       2.234001         98          100            84   \n",
       "98      6.980335       4.258761         99           97            53   \n",
       "99      4.628490       0.687124        100           83            91   \n",
       "\n",
       "    Avg wFScore Rank  Avg Gain Rank  Expected Gain Rank  Average Rank  \\\n",
       "0                  7              3                   1      2.333333   \n",
       "1                  5              5                   2      3.333333   \n",
       "2                 10              6                   3      5.000000   \n",
       "3                 12             10                   4      7.000000   \n",
       "4                 17             12                   7      8.166667   \n",
       "5                 18             19                   8      9.500000   \n",
       "6                  6              8                   5      7.166667   \n",
       "7                 14              7                   9     10.333333   \n",
       "8                 32             11                  12     15.333333   \n",
       "9                  3              4                   6     10.333333   \n",
       "10                33             28                  14     17.166667   \n",
       "11                44             35                  19     21.666667   \n",
       "12                19             22                  13     15.000000   \n",
       "13                11             13                  11     13.000000   \n",
       "14                24             30                  18     18.166667   \n",
       "15                 2              2                  10     15.833333   \n",
       "16                46             36                  20     24.500000   \n",
       "17                47             31                  21     24.833333   \n",
       "18                60             62                  24     32.166667   \n",
       "19                16             15                  15     17.666667   \n",
       "20                 4              9                  17     20.000000   \n",
       "21                25             16                  25     25.000000   \n",
       "22                50             74                  29     36.166667   \n",
       "23                91             83                  46     51.166667   \n",
       "24                45             56                  27     33.666667   \n",
       "25                73             17                  40     44.666667   \n",
       "26                37             72                  26     34.166667   \n",
       "27                62             76                  36     42.666667   \n",
       "28                 9             14                  22     25.500000   \n",
       "29                51             43                  39     37.833333   \n",
       "..               ...            ...                 ...           ...   \n",
       "70                64             51                  77     67.666667   \n",
       "71                67             57                  69     68.500000   \n",
       "72                49             99                  60     62.000000   \n",
       "73                97             60                  95     82.500000   \n",
       "74                84             61                  86     78.000000   \n",
       "75                43             66                  57     63.166667   \n",
       "76                80             68                  90     78.833333   \n",
       "77                34             73                  51     61.166667   \n",
       "78                68             34                  84     73.333333   \n",
       "79                58             37                  81     70.666667   \n",
       "80                89             80                  91     85.166667   \n",
       "81                28             18                  55     61.166667   \n",
       "82                66             84                  79     77.333333   \n",
       "83                56             40                  88     72.666667   \n",
       "84                94             87                  92     88.666667   \n",
       "85                92             97                  96     87.000000   \n",
       "86                69             49                  82     77.666667   \n",
       "87                88             50                  93     84.000000   \n",
       "88                29             53                  61     64.500000   \n",
       "89                90             54                  97     86.666667   \n",
       "90                30             55                  68     67.000000   \n",
       "91                40             90                  75     73.166667   \n",
       "92                96             59                  99     89.833333   \n",
       "93                79            100                  87     83.333333   \n",
       "94                78             94                  89     86.166667   \n",
       "95                99             63                  98     91.666667   \n",
       "96               100             64                 100     92.833333   \n",
       "97                26             21                  66     65.833333   \n",
       "98                15             65                  47     62.666667   \n",
       "99                86             96                  94     91.666667   \n",
       "\n",
       "    Average Tree Index  Average Tree Depth  \n",
       "0            27.446154            2.246154  \n",
       "1            21.343284            2.179104  \n",
       "2            18.683333            2.533333  \n",
       "3            25.333333            2.645833  \n",
       "4            21.869565            2.884058  \n",
       "5            24.105263            2.907895  \n",
       "6            24.121212            2.272727  \n",
       "7            17.703704            2.740741  \n",
       "8            26.310345            2.482759  \n",
       "9            22.300000            1.800000  \n",
       "10           23.150000            3.250000  \n",
       "11           27.756098            3.341463  \n",
       "12           23.633333            3.166667  \n",
       "13           23.421053            2.684211  \n",
       "14           23.484848            2.848485  \n",
       "15           21.200000            0.600000  \n",
       "16           22.000000            3.393939  \n",
       "17           25.821429            3.500000  \n",
       "18           24.702703            3.675676  \n",
       "19           22.076923            2.615385  \n",
       "20           30.200000            2.200000  \n",
       "21           15.857143            3.714286  \n",
       "22           21.294118            3.294118  \n",
       "23           29.625000            3.875000  \n",
       "24           23.833333            3.583333  \n",
       "25           14.000000            3.000000  \n",
       "26           21.384615            3.615385  \n",
       "27           21.153846            3.615385  \n",
       "28           16.750000            3.250000  \n",
       "29           31.444444            3.555556  \n",
       "..                 ...                 ...  \n",
       "70           36.666667            4.000000  \n",
       "71           21.666667            3.000000  \n",
       "72           19.166667            3.666667  \n",
       "73           17.000000            4.000000  \n",
       "74           25.000000            3.666667  \n",
       "75           36.000000            4.000000  \n",
       "76           46.000000            4.000000  \n",
       "77           39.666667            3.333333  \n",
       "78           21.500000            4.000000  \n",
       "79           32.500000            3.000000  \n",
       "80           41.333333            3.666667  \n",
       "81           16.000000            2.000000  \n",
       "82           38.333333            4.000000  \n",
       "83           17.500000            4.000000  \n",
       "84           39.666667            4.000000  \n",
       "85           25.000000            3.250000  \n",
       "86           26.000000            4.000000  \n",
       "87           32.000000            3.500000  \n",
       "88           16.500000            4.000000  \n",
       "89           46.500000            3.500000  \n",
       "90           49.000000            4.000000  \n",
       "91           28.666667            2.666667  \n",
       "92           29.000000            3.000000  \n",
       "93           26.750000            3.500000  \n",
       "94           28.333333            3.666667  \n",
       "95           29.500000            4.000000  \n",
       "96           29.000000            4.000000  \n",
       "97           34.000000            3.000000  \n",
       "98           39.500000            4.000000  \n",
       "99           33.666667            3.666667  \n",
       "\n",
       "[100 rows x 16 columns]"
      ]
     },
     "execution_count": 86,
     "metadata": {},
     "output_type": "execute_result"
    }
   ],
   "source": [
    "pd.read_excel('xgbfi_report.xlsx', sheetname=0)"
   ]
  },
  {
   "cell_type": "markdown",
   "metadata": {},
   "source": [
    "# Домашняя работа\n",
    "\n",
    "#### Простая\n",
    "1. Решаем ту же задачу регрессии - предскажем цены на недвижимость. Использовать датасет https://www.kaggle.com/c/house-prices-advanced-regression-techniques/data (train.csv)\n",
    "2. Используем **objective = \"reg:linear\"** в xgboost\n",
    "5. Провести настройку гиперпараметров, используя либо hyperopt либо ручную настройку, как вам больше нравится\n",
    "6. Использовать отложенную выборку (как на занятии), чтобы следить за процессом обучения xgboost'а, но, как и в предыдущем домашнем задании, финальную оценку качества давать используя 10-fold кросс-валидацию.\n",
    "4. Проанализировать, насколько согласованы оценка на отложенной выборке и на кросс-валидации (одновременно уменьшаются/увеличиваются при изменении гиперпараметров или ведут себя по-разному)\n",
    "5. Проанализировать признаки, используя XGBFI, сделать выводы об интересных взаимодействиях\n",
    "7. В качестве решения:\n",
    "    Jupyter notebook с кодом и комментариями"
   ]
  }
 ],
 "metadata": {
  "kernelspec": {
   "display_name": "Python 3",
   "language": "python",
   "name": "python3"
  },
  "language_info": {
   "codemirror_mode": {
    "name": "ipython",
    "version": 3
   },
   "file_extension": ".py",
   "mimetype": "text/x-python",
   "name": "python",
   "nbconvert_exporter": "python",
   "pygments_lexer": "ipython3",
   "version": "3.6.3"
  },
  "toc": {
   "nav_menu": {},
   "number_sections": false,
   "sideBar": true,
   "skip_h1_title": false,
   "toc_cell": false,
   "toc_position": {
    "height": "calc(100% - 180px)",
    "left": "10px",
    "top": "150px",
    "width": "170px"
   },
   "toc_section_display": "block",
   "toc_window_display": true
  }
 },
 "nbformat": 4,
 "nbformat_minor": 2
}
