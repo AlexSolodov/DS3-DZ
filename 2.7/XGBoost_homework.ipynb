{
 "cells": [
  {
   "cell_type": "markdown",
   "metadata": {},
   "source": [
    "### XGBoost"
   ]
  },
  {
   "cell_type": "markdown",
   "metadata": {},
   "source": [
    "Загружаем библиотеки"
   ]
  },
  {
   "cell_type": "code",
   "execution_count": 1,
   "metadata": {
    "collapsed": true
   },
   "outputs": [],
   "source": [
    "import matplotlib.pyplot as plt\n",
    "import pandas as pd\n",
    "import numpy as np\n",
    "import tqdm\n",
    "import seaborn as sns\n",
    "\n",
    "%matplotlib inline\n",
    "%config InlineBackend.figure_format = 'retina'\n",
    "\n",
    "#устраним ошибки со шрифтами\n",
    "from matplotlib import rcParams\n",
    "rcParams['font.family'] = 'sans-serif'\n",
    "rcParams['font.sans-serif'] = ['DejaVu Sans']"
   ]
  },
  {
   "cell_type": "code",
   "execution_count": 2,
   "metadata": {
    "collapsed": true
   },
   "outputs": [],
   "source": [
    "from sklearn.metrics import mean_squared_log_error\n",
    "from sklearn.metrics import mean_squared_error\n",
    "from sklearn.metrics import accuracy_score\n",
    "from sklearn.metrics import auc, roc_curve\n",
    "from sklearn.linear_model import LogisticRegression\n",
    "from math import sqrt"
   ]
  },
  {
   "cell_type": "markdown",
   "metadata": {},
   "source": [
    "## Загрузка данных"
   ]
  },
  {
   "cell_type": "code",
   "execution_count": 3,
   "metadata": {
    "collapsed": true
   },
   "outputs": [],
   "source": [
    "#Загружаем обучающую и выборку, по которой будем строить предсказания для соревнования\n",
    "data = pd.read_csv('train.csv')\n",
    "data_test = pd.read_csv('test.csv')"
   ]
  },
  {
   "cell_type": "code",
   "execution_count": 4,
   "metadata": {
    "collapsed": true
   },
   "outputs": [],
   "source": [
    "from sklearn.model_selection import StratifiedShuffleSplit"
   ]
  },
  {
   "cell_type": "code",
   "execution_count": 5,
   "metadata": {
    "collapsed": true
   },
   "outputs": [],
   "source": [
    "#Отделяем целевую переменную и удаляем ее из выборки\n",
    "Y = data.SalePrice\n",
    "data.drop('SalePrice', axis=1, inplace=True)"
   ]
  },
  {
   "cell_type": "markdown",
   "metadata": {},
   "source": [
    "## Первичный анализ"
   ]
  },
  {
   "cell_type": "markdown",
   "metadata": {},
   "source": [
    "Размер датасета"
   ]
  },
  {
   "cell_type": "code",
   "execution_count": 6,
   "metadata": {},
   "outputs": [
    {
     "data": {
      "text/plain": [
       "(1460, 80)"
      ]
     },
     "execution_count": 6,
     "metadata": {},
     "output_type": "execute_result"
    }
   ],
   "source": [
    "data.shape"
   ]
  },
  {
   "cell_type": "code",
   "execution_count": 7,
   "metadata": {
    "collapsed": true
   },
   "outputs": [],
   "source": [
    "#Добавляем к выборкам столбец is_test, по которому будем отличать тренеровочные данных от данных, \n",
    "#для которых нужно предсказать цену\n",
    "\n",
    "tr=data\n",
    "te=data_test\n",
    "\n",
    "tr['is_test'] = 0\n",
    "te['is_test'] = 1"
   ]
  },
  {
   "cell_type": "code",
   "execution_count": 8,
   "metadata": {
    "collapsed": true
   },
   "outputs": [],
   "source": [
    "#Соединяем две выборки\n",
    "df = pd.concat([tr, te])"
   ]
  },
  {
   "cell_type": "markdown",
   "metadata": {},
   "source": [
    "## Предобработка данных"
   ]
  },
  {
   "cell_type": "markdown",
   "metadata": {},
   "source": [
    "Находим категориальные признаки\n",
    "\n",
    "Чтобы в разы не увеличивать число признаков при построении dummy, будем использовать категориальные признаки с < 30 уникальных значений"
   ]
  },
  {
   "cell_type": "code",
   "execution_count": 9,
   "metadata": {},
   "outputs": [
    {
     "name": "stdout",
     "output_type": "stream",
     "text": [
      "MSZoning          6\n",
      "Street            2\n",
      "Alley             3\n",
      "LotShape          4\n",
      "LandContour       4\n",
      "Utilities         3\n",
      "LotConfig         5\n",
      "LandSlope         3\n",
      "Neighborhood     25\n",
      "Condition1        9\n",
      "Condition2        8\n",
      "BldgType          5\n",
      "HouseStyle        8\n",
      "RoofStyle         6\n",
      "RoofMatl          8\n",
      "Exterior1st      16\n",
      "Exterior2nd      17\n",
      "MasVnrType        5\n",
      "ExterQual         4\n",
      "ExterCond         5\n",
      "Foundation        6\n",
      "BsmtQual          5\n",
      "BsmtCond          5\n",
      "BsmtExposure      5\n",
      "BsmtFinType1      7\n",
      "BsmtFinType2      7\n",
      "Heating           6\n",
      "HeatingQC         5\n",
      "CentralAir        2\n",
      "Electrical        6\n",
      "KitchenQual       5\n",
      "Functional        8\n",
      "FireplaceQu       6\n",
      "GarageType        7\n",
      "GarageFinish      4\n",
      "GarageQual        6\n",
      "GarageCond        6\n",
      "PavedDrive        3\n",
      "PoolQC            4\n",
      "Fence             5\n",
      "MiscFeature       5\n",
      "SaleType         10\n",
      "SaleCondition     6\n",
      "dtype: int64\n"
     ]
    }
   ],
   "source": [
    "cat_feat = list(df.dtypes[df.dtypes == object].index)\n",
    "\n",
    "#закодируем пропущенные значений строкой, факт пропущенного значения тоже может нести в себе информацию\n",
    "df[cat_feat] = df[cat_feat].fillna('nan')\n",
    "\n",
    "#отфильтруем непрерывные признаки\n",
    "num_feat = [f for f in df if f not in (cat_feat + ['ID', 'is_test'])]\n",
    "\n",
    "cat_nunique = df[cat_feat].nunique()\n",
    "print(cat_nunique)\n",
    "cat_feat = list(cat_nunique[cat_nunique < 30].index)"
   ]
  },
  {
   "cell_type": "code",
   "execution_count": 10,
   "metadata": {
    "collapsed": true
   },
   "outputs": [],
   "source": [
    "#Разделяем выборки на ту, по которой будем учиться и ту, на которой будем предсказывать на основе ранее созданного столбца\n",
    "d_train = df[df.is_test==0].drop('is_test', axis=1)\n",
    "d_test = df[df.is_test==1].drop('is_test', axis=1)"
   ]
  },
  {
   "cell_type": "markdown",
   "metadata": {},
   "source": [
    "## Композиции моделей одного семейства"
   ]
  },
  {
   "cell_type": "markdown",
   "metadata": {},
   "source": [
    "### Будем использовать решающие деревья\n",
    "\n",
    "1. Неустойчивы к входным данным\n",
    "2. Склонны к переобучению\n",
    "3. Быстро обучаются\n",
    "\n",
    "=> отличный выбор для построения композиций\n",
    "\n",
    "**Создаем признаки для \"деревянных\" моделей**\n",
    "\n",
    "1. Заменяем пропуски на специальное значение -999, чтобы деревья могли их отличить\n",
    "3. Создаем дамми-переменные для категорий"
   ]
  },
  {
   "cell_type": "code",
   "execution_count": 11,
   "metadata": {},
   "outputs": [
    {
     "data": {
      "text/plain": [
       "(1460, 268)"
      ]
     },
     "execution_count": 11,
     "metadata": {},
     "output_type": "execute_result"
    }
   ],
   "source": [
    "dummy_train = pd.get_dummies(d_train[cat_feat], columns=cat_feat)\n",
    "dummy_test = pd.get_dummies(d_test[cat_feat], columns=cat_feat)\n",
    "dummy_train.shape"
   ]
  },
  {
   "cell_type": "code",
   "execution_count": 12,
   "metadata": {},
   "outputs": [
    {
     "data": {
      "text/plain": [
       "(1459, 256)"
      ]
     },
     "execution_count": 12,
     "metadata": {},
     "output_type": "execute_result"
    }
   ],
   "source": [
    "dummy_test.shape"
   ]
  },
  {
   "cell_type": "code",
   "execution_count": 13,
   "metadata": {
    "collapsed": true
   },
   "outputs": [],
   "source": [
    "dummy_cols = list(set(dummy_train) & set(dummy_test))\n",
    "\n",
    "dummy_train = dummy_train[dummy_cols]\n",
    "dummy_test = dummy_test[dummy_cols]\n",
    "\n",
    "\n",
    "X_train = pd.concat([d_train[num_feat].fillna(-999),\n",
    "                     dummy_train], axis=1)\n",
    "\n",
    "X_test = pd.concat([d_test[num_feat].fillna(-999),\n",
    "                     dummy_test], axis=1)"
   ]
  },
  {
   "cell_type": "code",
   "execution_count": 14,
   "metadata": {},
   "outputs": [
    {
     "data": {
      "text/plain": [
       "(1460, 286)"
      ]
     },
     "execution_count": 14,
     "metadata": {},
     "output_type": "execute_result"
    }
   ],
   "source": [
    "X_train.shape"
   ]
  },
  {
   "cell_type": "code",
   "execution_count": 15,
   "metadata": {},
   "outputs": [
    {
     "data": {
      "text/plain": [
       "(1459, 286)"
      ]
     },
     "execution_count": 15,
     "metadata": {},
     "output_type": "execute_result"
    }
   ],
   "source": [
    "X_test.shape"
   ]
  },
  {
   "cell_type": "code",
   "execution_count": 20,
   "metadata": {
    "collapsed": true
   },
   "outputs": [],
   "source": [
    "#Короткая функция для вывод RMSD\n",
    "def met_cl (y_train, y_tr_pred):\n",
    "    print('RMSD:', sqrt(mean_squared_log_error(y_train, y_tr_pred)))"
   ]
  },
  {
   "cell_type": "code",
   "execution_count": 21,
   "metadata": {
    "collapsed": true
   },
   "outputs": [],
   "source": [
    "#Функция для формирования сабмита на Kaggle\n",
    "def create_submit (clf, X, fileName):\n",
    "    #Делаем предсказания\n",
    "    predictions = clf.predict(X)\n",
    "    #Формируем строку\n",
    "    submussion = 'Id,SalePrice\\n'\n",
    "    submussion += \"\\n\".join([\"{},{}\".format(pid, prediction) for pid, prediction in zip(data_test.Id, predictions)])\n",
    "    #Записываем данные в файл\n",
    "    with open(fileName, 'w') as file:\n",
    "        file.write(submussion)"
   ]
  },
  {
   "cell_type": "markdown",
   "metadata": {},
   "source": [
    "### XGBOOST"
   ]
  },
  {
   "cell_type": "code",
   "execution_count": 16,
   "metadata": {},
   "outputs": [
    {
     "name": "stderr",
     "output_type": "stream",
     "text": [
      "C:\\Users\\alexe\\Anaconda3\\lib\\site-packages\\sklearn\\cross_validation.py:41: DeprecationWarning: This module was deprecated in version 0.18 in favor of the model_selection module into which all the refactored classes and functions are moved. Also note that the interface of the new CV iterators are different from that of this module. This module will be removed in 0.20.\n",
      "  \"This module will be removed in 0.20.\", DeprecationWarning)\n"
     ]
    }
   ],
   "source": [
    "import xgboost as xgb"
   ]
  },
  {
   "cell_type": "code",
   "execution_count": 19,
   "metadata": {},
   "outputs": [
    {
     "data": {
      "text/plain": [
       "XGBRegressor(base_score=0.5, colsample_bylevel=1, colsample_bytree=1, gamma=0,\n",
       "       learning_rate=0.1, max_delta_step=0, max_depth=3,\n",
       "       min_child_weight=1, missing=None, n_estimators=100, nthread=-1,\n",
       "       objective='reg:linear', reg_alpha=0, reg_lambda=1,\n",
       "       scale_pos_weight=1, seed=0, silent=True, subsample=1)"
      ]
     },
     "execution_count": 19,
     "metadata": {},
     "output_type": "execute_result"
    }
   ],
   "source": [
    "params = {'n_estimators': 100,\n",
    "          'learning_rate': 0.1,\n",
    "          'max_depth': 3,\n",
    "          'min_child_weight': 1,\n",
    "          'subsample': 1,\n",
    "          'colsample_bytree': 1}\n",
    "\n",
    "clf_xgb = xgb.XGBRegressor(**params)\n",
    "clf_xgb.fit(X_train, Y)"
   ]
  },
  {
   "cell_type": "code",
   "execution_count": 24,
   "metadata": {},
   "outputs": [],
   "source": [
    "y_pred_train = clf_xgb.predict(X_train)"
   ]
  },
  {
   "cell_type": "code",
   "execution_count": 26,
   "metadata": {},
   "outputs": [
    {
     "name": "stdout",
     "output_type": "stream",
     "text": [
      "RMSD: 0.09200895381987098\n"
     ]
    }
   ],
   "source": [
    "#Считаем RMSD для случайного набора параметров\n",
    "met_cl(Y, y_pred_train)"
   ]
  },
  {
   "cell_type": "code",
   "execution_count": 28,
   "metadata": {},
   "outputs": [],
   "source": [
    "#Формируем сабмит\n",
    "create_submit(clf_xgb, X_test, 'submission_xgb1.txt')"
   ]
  },
  {
   "cell_type": "code",
   "execution_count": 37,
   "metadata": {
    "collapsed": true
   },
   "outputs": [],
   "source": [
    "from sklearn.model_selection import train_test_split"
   ]
  },
  {
   "cell_type": "code",
   "execution_count": 38,
   "metadata": {},
   "outputs": [],
   "source": [
    "X_train_fin, X_val, y_train_fin, y_val = train_test_split(X_train, Y, test_size=0.1)"
   ]
  },
  {
   "cell_type": "code",
   "execution_count": null,
   "metadata": {
    "collapsed": true
   },
   "outputs": [],
   "source": []
  },
  {
   "cell_type": "code",
   "execution_count": 39,
   "metadata": {},
   "outputs": [
    {
     "name": "stdout",
     "output_type": "stream",
     "text": [
      "[0]\tvalidation_0-rmse:179262\tvalidation_1-rmse:175823\n",
      "[1]\tvalidation_0-rmse:162511\tvalidation_1-rmse:159305\n",
      "[2]\tvalidation_0-rmse:147497\tvalidation_1-rmse:144543\n",
      "[3]\tvalidation_0-rmse:133984\tvalidation_1-rmse:131213\n",
      "[4]\tvalidation_0-rmse:121829\tvalidation_1-rmse:118845\n",
      "[5]\tvalidation_0-rmse:110883\tvalidation_1-rmse:108132\n",
      "[6]\tvalidation_0-rmse:101110\tvalidation_1-rmse:98593.1\n",
      "[7]\tvalidation_0-rmse:92277.6\tvalidation_1-rmse:90123.6\n",
      "[8]\tvalidation_0-rmse:84400.3\tvalidation_1-rmse:82253.7\n",
      "[9]\tvalidation_0-rmse:77404.7\tvalidation_1-rmse:75299.5\n",
      "[10]\tvalidation_0-rmse:71003.8\tvalidation_1-rmse:69047\n",
      "[11]\tvalidation_0-rmse:65302.5\tvalidation_1-rmse:63504.5\n",
      "[12]\tvalidation_0-rmse:60239.1\tvalidation_1-rmse:58762.7\n",
      "[13]\tvalidation_0-rmse:55698.3\tvalidation_1-rmse:54355.6\n",
      "[14]\tvalidation_0-rmse:51727.4\tvalidation_1-rmse:50654\n",
      "[15]\tvalidation_0-rmse:48098.4\tvalidation_1-rmse:47160.6\n",
      "[16]\tvalidation_0-rmse:44876.2\tvalidation_1-rmse:44369.4\n",
      "[17]\tvalidation_0-rmse:42050.6\tvalidation_1-rmse:41717.5\n",
      "[18]\tvalidation_0-rmse:39491\tvalidation_1-rmse:39272.6\n",
      "[19]\tvalidation_0-rmse:37302\tvalidation_1-rmse:37445.2\n",
      "[20]\tvalidation_0-rmse:35325.2\tvalidation_1-rmse:35439.9\n",
      "[21]\tvalidation_0-rmse:33609.5\tvalidation_1-rmse:33946.1\n",
      "[22]\tvalidation_0-rmse:31946.8\tvalidation_1-rmse:32403\n",
      "[23]\tvalidation_0-rmse:30515.4\tvalidation_1-rmse:31058.7\n",
      "[24]\tvalidation_0-rmse:29316.3\tvalidation_1-rmse:29941.7\n",
      "[25]\tvalidation_0-rmse:28272.2\tvalidation_1-rmse:28945.3\n",
      "[26]\tvalidation_0-rmse:27290.1\tvalidation_1-rmse:27979\n",
      "[27]\tvalidation_0-rmse:26467.6\tvalidation_1-rmse:27167.7\n",
      "[28]\tvalidation_0-rmse:25671.7\tvalidation_1-rmse:26588.1\n",
      "[29]\tvalidation_0-rmse:24957.1\tvalidation_1-rmse:25935.1\n",
      "[30]\tvalidation_0-rmse:24346.4\tvalidation_1-rmse:25359.9\n",
      "[31]\tvalidation_0-rmse:23827.9\tvalidation_1-rmse:24866.4\n",
      "[32]\tvalidation_0-rmse:23331.4\tvalidation_1-rmse:24411.4\n",
      "[33]\tvalidation_0-rmse:22833.2\tvalidation_1-rmse:23848.1\n",
      "[34]\tvalidation_0-rmse:22409.4\tvalidation_1-rmse:23535.8\n",
      "[35]\tvalidation_0-rmse:22018.5\tvalidation_1-rmse:23348.4\n",
      "[36]\tvalidation_0-rmse:21651.1\tvalidation_1-rmse:23120.7\n",
      "[37]\tvalidation_0-rmse:21344.7\tvalidation_1-rmse:22702.1\n",
      "[38]\tvalidation_0-rmse:21023\tvalidation_1-rmse:22522.5\n",
      "[39]\tvalidation_0-rmse:20783.6\tvalidation_1-rmse:22314.2\n",
      "[40]\tvalidation_0-rmse:20521.2\tvalidation_1-rmse:22241.7\n",
      "[41]\tvalidation_0-rmse:20269.7\tvalidation_1-rmse:22062.2\n",
      "[42]\tvalidation_0-rmse:20045.7\tvalidation_1-rmse:21865.3\n",
      "[43]\tvalidation_0-rmse:19851.9\tvalidation_1-rmse:21670.7\n",
      "[44]\tvalidation_0-rmse:19681.3\tvalidation_1-rmse:21561.3\n",
      "[45]\tvalidation_0-rmse:19489.8\tvalidation_1-rmse:21493.3\n",
      "[46]\tvalidation_0-rmse:19304\tvalidation_1-rmse:21363.2\n",
      "[47]\tvalidation_0-rmse:19135.6\tvalidation_1-rmse:21298\n",
      "[48]\tvalidation_0-rmse:18951\tvalidation_1-rmse:21230\n",
      "[49]\tvalidation_0-rmse:18807.5\tvalidation_1-rmse:21062.5\n",
      "[50]\tvalidation_0-rmse:18679.4\tvalidation_1-rmse:20933.4\n",
      "[51]\tvalidation_0-rmse:18533.6\tvalidation_1-rmse:20764.7\n",
      "[52]\tvalidation_0-rmse:18406.3\tvalidation_1-rmse:20703.5\n",
      "[53]\tvalidation_0-rmse:18246.2\tvalidation_1-rmse:20689.1\n",
      "[54]\tvalidation_0-rmse:18144.7\tvalidation_1-rmse:20609.3\n",
      "[55]\tvalidation_0-rmse:18009.5\tvalidation_1-rmse:20524.8\n",
      "[56]\tvalidation_0-rmse:17902.5\tvalidation_1-rmse:20482.8\n",
      "[57]\tvalidation_0-rmse:17802.4\tvalidation_1-rmse:20328.5\n",
      "[58]\tvalidation_0-rmse:17671.9\tvalidation_1-rmse:20270\n",
      "[59]\tvalidation_0-rmse:17547.3\tvalidation_1-rmse:20212.1\n",
      "[60]\tvalidation_0-rmse:17444.2\tvalidation_1-rmse:20219.1\n",
      "[61]\tvalidation_0-rmse:17362.5\tvalidation_1-rmse:20158.5\n",
      "[62]\tvalidation_0-rmse:17301.9\tvalidation_1-rmse:20162\n",
      "[63]\tvalidation_0-rmse:17215.8\tvalidation_1-rmse:20100.6\n",
      "[64]\tvalidation_0-rmse:17141.3\tvalidation_1-rmse:20161.8\n",
      "[65]\tvalidation_0-rmse:17071.6\tvalidation_1-rmse:20124.2\n",
      "[66]\tvalidation_0-rmse:16976.3\tvalidation_1-rmse:20051.6\n",
      "[67]\tvalidation_0-rmse:16888\tvalidation_1-rmse:19933.9\n",
      "[68]\tvalidation_0-rmse:16799\tvalidation_1-rmse:19941.8\n",
      "[69]\tvalidation_0-rmse:16713.4\tvalidation_1-rmse:19917\n",
      "[70]\tvalidation_0-rmse:16647.1\tvalidation_1-rmse:19930.6\n",
      "[71]\tvalidation_0-rmse:16581.5\tvalidation_1-rmse:19903.3\n",
      "[72]\tvalidation_0-rmse:16488.3\tvalidation_1-rmse:19935.9\n",
      "[73]\tvalidation_0-rmse:16433.4\tvalidation_1-rmse:19898.8\n",
      "[74]\tvalidation_0-rmse:16366.4\tvalidation_1-rmse:19849.7\n",
      "[75]\tvalidation_0-rmse:16288.6\tvalidation_1-rmse:19871.9\n",
      "[76]\tvalidation_0-rmse:16230.4\tvalidation_1-rmse:19864.8\n",
      "[77]\tvalidation_0-rmse:16185.5\tvalidation_1-rmse:19907.6\n",
      "[78]\tvalidation_0-rmse:16135.5\tvalidation_1-rmse:19891.1\n",
      "[79]\tvalidation_0-rmse:16066.1\tvalidation_1-rmse:19850.7\n",
      "[80]\tvalidation_0-rmse:15990.7\tvalidation_1-rmse:19743.8\n",
      "[81]\tvalidation_0-rmse:15943.4\tvalidation_1-rmse:19636.4\n",
      "[82]\tvalidation_0-rmse:15872.2\tvalidation_1-rmse:19637.7\n",
      "[83]\tvalidation_0-rmse:15797.1\tvalidation_1-rmse:19675.2\n",
      "[84]\tvalidation_0-rmse:15730.3\tvalidation_1-rmse:19681.1\n",
      "[85]\tvalidation_0-rmse:15675.8\tvalidation_1-rmse:19655\n",
      "[86]\tvalidation_0-rmse:15634.9\tvalidation_1-rmse:19653.3\n",
      "[87]\tvalidation_0-rmse:15586.6\tvalidation_1-rmse:19644.9\n",
      "[88]\tvalidation_0-rmse:15554\tvalidation_1-rmse:19689.7\n",
      "[89]\tvalidation_0-rmse:15486\tvalidation_1-rmse:19688.9\n",
      "[90]\tvalidation_0-rmse:15441\tvalidation_1-rmse:19564.5\n",
      "[91]\tvalidation_0-rmse:15386.1\tvalidation_1-rmse:19571.2\n",
      "[92]\tvalidation_0-rmse:15348.9\tvalidation_1-rmse:19518.8\n",
      "[93]\tvalidation_0-rmse:15317.1\tvalidation_1-rmse:19554.1\n",
      "[94]\tvalidation_0-rmse:15283\tvalidation_1-rmse:19543.6\n",
      "[95]\tvalidation_0-rmse:15249.4\tvalidation_1-rmse:19560.5\n",
      "[96]\tvalidation_0-rmse:15146.1\tvalidation_1-rmse:19505.2\n",
      "[97]\tvalidation_0-rmse:15077.1\tvalidation_1-rmse:19477.2\n",
      "[98]\tvalidation_0-rmse:15017\tvalidation_1-rmse:19554.5\n",
      "[99]\tvalidation_0-rmse:14961.5\tvalidation_1-rmse:19529.9\n"
     ]
    },
    {
     "data": {
      "text/plain": [
       "XGBRegressor(base_score=0.5, colsample_bylevel=1, colsample_bytree=1, gamma=0,\n",
       "       learning_rate=0.1, max_delta_step=0, max_depth=3,\n",
       "       min_child_weight=1, missing=None, n_estimators=100, nthread=-1,\n",
       "       objective='reg:linear', reg_alpha=0, reg_lambda=1,\n",
       "       scale_pos_weight=1, seed=0, silent=True, subsample=1)"
      ]
     },
     "execution_count": 39,
     "metadata": {},
     "output_type": "execute_result"
    }
   ],
   "source": [
    "params = {'n_estimators': 100,\n",
    "          'learning_rate': 0.1,\n",
    "          'max_depth': 3,\n",
    "          'min_child_weight': 1,\n",
    "          'subsample': 1,\n",
    "          'colsample_bytree': 1}\n",
    "clf_xgb = xgb.XGBRegressor(**params)\n",
    "\n",
    "clf_xgb.fit(X_train_fin, y_train_fin, eval_metric='rmse', eval_set=[[X_train_fin, y_train_fin], [X_val, y_val]])"
   ]
  },
  {
   "cell_type": "code",
   "execution_count": null,
   "metadata": {
    "collapsed": true
   },
   "outputs": [],
   "source": []
  },
  {
   "cell_type": "markdown",
   "metadata": {},
   "source": [
    "Возмем параметры, с которых лучше всего начать"
   ]
  },
  {
   "cell_type": "code",
   "execution_count": 40,
   "metadata": {},
   "outputs": [
    {
     "name": "stdout",
     "output_type": "stream",
     "text": [
      "[0]\tvalidation_0-rmse:179210\tvalidation_1-rmse:175682\n",
      "[1]\tvalidation_0-rmse:162405\tvalidation_1-rmse:159204\n",
      "[2]\tvalidation_0-rmse:147437\tvalidation_1-rmse:144916\n",
      "[3]\tvalidation_0-rmse:134123\tvalidation_1-rmse:131876\n",
      "[4]\tvalidation_0-rmse:121904\tvalidation_1-rmse:120161\n",
      "[5]\tvalidation_0-rmse:111145\tvalidation_1-rmse:109376\n",
      "[6]\tvalidation_0-rmse:101447\tvalidation_1-rmse:99595.7\n",
      "[7]\tvalidation_0-rmse:92623.7\tvalidation_1-rmse:90991.5\n",
      "[8]\tvalidation_0-rmse:84688.2\tvalidation_1-rmse:82939.6\n",
      "[9]\tvalidation_0-rmse:77469.5\tvalidation_1-rmse:75821.9\n",
      "[10]\tvalidation_0-rmse:71178\tvalidation_1-rmse:69781.7\n",
      "[11]\tvalidation_0-rmse:65587.5\tvalidation_1-rmse:64130.3\n",
      "[12]\tvalidation_0-rmse:60449.8\tvalidation_1-rmse:59128.2\n",
      "[13]\tvalidation_0-rmse:55887.7\tvalidation_1-rmse:54655.5\n",
      "[14]\tvalidation_0-rmse:51839.6\tvalidation_1-rmse:50610.1\n",
      "[15]\tvalidation_0-rmse:48205.3\tvalidation_1-rmse:47471.5\n",
      "[16]\tvalidation_0-rmse:45061.5\tvalidation_1-rmse:44284.2\n",
      "[17]\tvalidation_0-rmse:42200.8\tvalidation_1-rmse:41879.4\n",
      "[18]\tvalidation_0-rmse:39646.6\tvalidation_1-rmse:39429.7\n",
      "[19]\tvalidation_0-rmse:37530.4\tvalidation_1-rmse:37310.7\n",
      "[20]\tvalidation_0-rmse:35557.4\tvalidation_1-rmse:35369.2\n",
      "[21]\tvalidation_0-rmse:33945.3\tvalidation_1-rmse:33587\n",
      "[22]\tvalidation_0-rmse:32381.7\tvalidation_1-rmse:32379.5\n",
      "[23]\tvalidation_0-rmse:31093\tvalidation_1-rmse:30987.5\n",
      "[24]\tvalidation_0-rmse:29817.4\tvalidation_1-rmse:30003.8\n",
      "[25]\tvalidation_0-rmse:28836.3\tvalidation_1-rmse:29178.6\n",
      "[26]\tvalidation_0-rmse:27868.3\tvalidation_1-rmse:28340.6\n",
      "[27]\tvalidation_0-rmse:27035.6\tvalidation_1-rmse:27444\n",
      "[28]\tvalidation_0-rmse:26268.2\tvalidation_1-rmse:26736.8\n",
      "[29]\tvalidation_0-rmse:25702.4\tvalidation_1-rmse:26234.9\n",
      "[30]\tvalidation_0-rmse:25043.2\tvalidation_1-rmse:25714.4\n",
      "[31]\tvalidation_0-rmse:24361.9\tvalidation_1-rmse:25194\n",
      "[32]\tvalidation_0-rmse:23882.7\tvalidation_1-rmse:24751.4\n",
      "[33]\tvalidation_0-rmse:23451.7\tvalidation_1-rmse:24361.8\n",
      "[34]\tvalidation_0-rmse:23080.2\tvalidation_1-rmse:23904.7\n",
      "[35]\tvalidation_0-rmse:22751.5\tvalidation_1-rmse:23659\n",
      "[36]\tvalidation_0-rmse:22392.9\tvalidation_1-rmse:23216.6\n",
      "[37]\tvalidation_0-rmse:22030.2\tvalidation_1-rmse:22889.2\n",
      "[38]\tvalidation_0-rmse:21611.7\tvalidation_1-rmse:22745.7\n",
      "[39]\tvalidation_0-rmse:21288.8\tvalidation_1-rmse:22489.8\n",
      "[40]\tvalidation_0-rmse:21002.9\tvalidation_1-rmse:22383.4\n",
      "[41]\tvalidation_0-rmse:20723.8\tvalidation_1-rmse:22013.2\n",
      "[42]\tvalidation_0-rmse:20535.4\tvalidation_1-rmse:21973.8\n",
      "[43]\tvalidation_0-rmse:20290.5\tvalidation_1-rmse:21801.5\n",
      "[44]\tvalidation_0-rmse:20071.1\tvalidation_1-rmse:21545.8\n",
      "[45]\tvalidation_0-rmse:19944.7\tvalidation_1-rmse:21408.2\n",
      "[46]\tvalidation_0-rmse:19726.3\tvalidation_1-rmse:21288.6\n",
      "[47]\tvalidation_0-rmse:19587\tvalidation_1-rmse:21242.9\n",
      "[48]\tvalidation_0-rmse:19389\tvalidation_1-rmse:21135.5\n",
      "[49]\tvalidation_0-rmse:19185.8\tvalidation_1-rmse:20977\n",
      "[50]\tvalidation_0-rmse:19021.2\tvalidation_1-rmse:21001.8\n",
      "[51]\tvalidation_0-rmse:18861.5\tvalidation_1-rmse:20967.5\n",
      "[52]\tvalidation_0-rmse:18717.2\tvalidation_1-rmse:20776.1\n",
      "[53]\tvalidation_0-rmse:18573.4\tvalidation_1-rmse:20580.6\n",
      "[54]\tvalidation_0-rmse:18450.2\tvalidation_1-rmse:20472.1\n",
      "[55]\tvalidation_0-rmse:18330.2\tvalidation_1-rmse:20379.9\n",
      "[56]\tvalidation_0-rmse:18231.7\tvalidation_1-rmse:20290.1\n",
      "[57]\tvalidation_0-rmse:18131.3\tvalidation_1-rmse:20248\n",
      "[58]\tvalidation_0-rmse:18008\tvalidation_1-rmse:20163.7\n",
      "[59]\tvalidation_0-rmse:17871.5\tvalidation_1-rmse:20071.7\n",
      "[60]\tvalidation_0-rmse:17780.6\tvalidation_1-rmse:20021\n",
      "[61]\tvalidation_0-rmse:17672\tvalidation_1-rmse:20016.5\n",
      "[62]\tvalidation_0-rmse:17578.6\tvalidation_1-rmse:19910.6\n",
      "[63]\tvalidation_0-rmse:17512.9\tvalidation_1-rmse:19871.7\n",
      "[64]\tvalidation_0-rmse:17411.8\tvalidation_1-rmse:19862.2\n",
      "[65]\tvalidation_0-rmse:17351.9\tvalidation_1-rmse:19900.1\n",
      "[66]\tvalidation_0-rmse:17243\tvalidation_1-rmse:19820.8\n",
      "[67]\tvalidation_0-rmse:17114.8\tvalidation_1-rmse:19638.8\n",
      "[68]\tvalidation_0-rmse:17042.6\tvalidation_1-rmse:19623.4\n",
      "[69]\tvalidation_0-rmse:16967.5\tvalidation_1-rmse:19529\n",
      "[70]\tvalidation_0-rmse:16872\tvalidation_1-rmse:19501.4\n",
      "[71]\tvalidation_0-rmse:16804.8\tvalidation_1-rmse:19492.4\n",
      "[72]\tvalidation_0-rmse:16736.2\tvalidation_1-rmse:19472.3\n",
      "[73]\tvalidation_0-rmse:16675.5\tvalidation_1-rmse:19428.1\n",
      "[74]\tvalidation_0-rmse:16559.2\tvalidation_1-rmse:19380\n",
      "[75]\tvalidation_0-rmse:16513.1\tvalidation_1-rmse:19456.2\n",
      "[76]\tvalidation_0-rmse:16442.6\tvalidation_1-rmse:19395.4\n",
      "[77]\tvalidation_0-rmse:16393.7\tvalidation_1-rmse:19325.4\n",
      "[78]\tvalidation_0-rmse:16331.1\tvalidation_1-rmse:19295\n",
      "[79]\tvalidation_0-rmse:16262.4\tvalidation_1-rmse:19304.8\n",
      "[80]\tvalidation_0-rmse:16192.2\tvalidation_1-rmse:19394.6\n",
      "[81]\tvalidation_0-rmse:16130.9\tvalidation_1-rmse:19306.2\n",
      "[82]\tvalidation_0-rmse:16072.4\tvalidation_1-rmse:19301\n",
      "[83]\tvalidation_0-rmse:16002.2\tvalidation_1-rmse:19280.9\n",
      "[84]\tvalidation_0-rmse:15917.8\tvalidation_1-rmse:19316.3\n",
      "[85]\tvalidation_0-rmse:15853.1\tvalidation_1-rmse:19307.2\n",
      "[86]\tvalidation_0-rmse:15785.6\tvalidation_1-rmse:19334.1\n",
      "[87]\tvalidation_0-rmse:15695.7\tvalidation_1-rmse:19260.5\n",
      "[88]\tvalidation_0-rmse:15605.8\tvalidation_1-rmse:19158.3\n",
      "[89]\tvalidation_0-rmse:15560\tvalidation_1-rmse:19161.8\n",
      "[90]\tvalidation_0-rmse:15492.6\tvalidation_1-rmse:19136\n",
      "[91]\tvalidation_0-rmse:15432.5\tvalidation_1-rmse:19143\n",
      "[92]\tvalidation_0-rmse:15405.8\tvalidation_1-rmse:19140.5\n",
      "[93]\tvalidation_0-rmse:15355.4\tvalidation_1-rmse:19142\n",
      "[94]\tvalidation_0-rmse:15321.4\tvalidation_1-rmse:19170.7\n",
      "[95]\tvalidation_0-rmse:15261.5\tvalidation_1-rmse:19149.1\n",
      "[96]\tvalidation_0-rmse:15209.2\tvalidation_1-rmse:19052.7\n",
      "[97]\tvalidation_0-rmse:15154.8\tvalidation_1-rmse:19045\n",
      "[98]\tvalidation_0-rmse:15089.4\tvalidation_1-rmse:19034.7\n",
      "[99]\tvalidation_0-rmse:15033\tvalidation_1-rmse:19052.5\n"
     ]
    },
    {
     "data": {
      "text/plain": [
       "XGBRegressor(base_score=0.5, colsample_bylevel=1, colsample_bytree=0.8,\n",
       "       gamma=0, learning_rate=0.1, max_delta_step=0, max_depth=3,\n",
       "       min_child_weight=1, missing=None, n_estimators=100, nthread=-1,\n",
       "       objective='reg:linear', reg_alpha=0, reg_lambda=1,\n",
       "       scale_pos_weight=1, seed=0, silent=True, subsample=0.8)"
      ]
     },
     "execution_count": 40,
     "metadata": {},
     "output_type": "execute_result"
    }
   ],
   "source": [
    "params = {'n_estimators': 100,\n",
    "          'learning_rate': 0.1,\n",
    "          'max_depth': 3,\n",
    "          'min_child_weight': 1,\n",
    "          'subsample': 0.8,\n",
    "          'colsample_bytree': 0.8}\n",
    "clf_xgb = xgb.XGBRegressor(**params)\n",
    "\n",
    "clf_xgb.fit(X_train_fin, y_train_fin, eval_metric='rmse', eval_set=[[X_train_fin, y_train_fin], [X_val, y_val]])"
   ]
  },
  {
   "cell_type": "code",
   "execution_count": 41,
   "metadata": {},
   "outputs": [
    {
     "data": {
      "text/plain": [
       "<matplotlib.figure.Figure at 0x1bff52015f8>"
      ]
     },
     "execution_count": 41,
     "metadata": {},
     "output_type": "execute_result"
    },
    {
     "data": {
      "image/png": "[encoded data removed]",
      "text/plain": [
       "<matplotlib.figure.Figure at 0x1bff5201898>"
      ]
     },
     "metadata": {
      "image/png": {
       "height": 277,
       "width": 396
      }
     },
     "output_type": "display_data"
    },
    {
     "data": {
      "text/plain": [
       "<matplotlib.figure.Figure at 0x1bff52015f8>"
      ]
     },
     "metadata": {},
     "output_type": "display_data"
    }
   ],
   "source": [
    "def save_online_metric(clf):\n",
    "    return pd.DataFrame({'train': clf.evals_result()['validation_0']['rmse'],\n",
    "                        'test': clf.evals_result()['validation_1']['rmse']})\n",
    "res = save_online_metric(clf_xgb)\n",
    "res.plot(title='RMSE')\n",
    "plt.xlabel('iteration number')\n",
    "plt.figure()\n"
   ]
  },
  {
   "cell_type": "markdown",
   "metadata": {},
   "source": [
    "Попробуем уменьшить learning_rate."
   ]
  },
  {
   "cell_type": "code",
   "execution_count": 42,
   "metadata": {},
   "outputs": [
    {
     "name": "stdout",
     "output_type": "stream",
     "text": [
      "[0]\tvalidation_0-rmse:192303\tvalidation_1-rmse:188808\n",
      "[1]\tvalidation_0-rmse:186848\tvalidation_1-rmse:183508\n",
      "[2]\tvalidation_0-rmse:181639\tvalidation_1-rmse:178273\n",
      "[3]\tvalidation_0-rmse:176578\tvalidation_1-rmse:173249\n",
      "[4]\tvalidation_0-rmse:171622\tvalidation_1-rmse:168508\n",
      "[5]\tvalidation_0-rmse:166835\tvalidation_1-rmse:163909\n",
      "[6]\tvalidation_0-rmse:162214\tvalidation_1-rmse:159215\n",
      "[7]\tvalidation_0-rmse:157751\tvalidation_1-rmse:154886\n",
      "[8]\tvalidation_0-rmse:153383\tvalidation_1-rmse:150440\n",
      "[9]\tvalidation_0-rmse:149111\tvalidation_1-rmse:146296\n",
      "[10]\tvalidation_0-rmse:144997\tvalidation_1-rmse:142237\n",
      "[11]\tvalidation_0-rmse:141032\tvalidation_1-rmse:138312\n",
      "[12]\tvalidation_0-rmse:137150\tvalidation_1-rmse:134572\n",
      "[13]\tvalidation_0-rmse:133402\tvalidation_1-rmse:131058\n",
      "[14]\tvalidation_0-rmse:129793\tvalidation_1-rmse:127484\n",
      "[15]\tvalidation_0-rmse:126263\tvalidation_1-rmse:124174\n",
      "[16]\tvalidation_0-rmse:122888\tvalidation_1-rmse:120832\n",
      "[17]\tvalidation_0-rmse:119590\tvalidation_1-rmse:117614\n",
      "[18]\tvalidation_0-rmse:116367\tvalidation_1-rmse:114525\n",
      "[19]\tvalidation_0-rmse:113288\tvalidation_1-rmse:111383\n",
      "[20]\tvalidation_0-rmse:110257\tvalidation_1-rmse:108315\n",
      "[21]\tvalidation_0-rmse:107363\tvalidation_1-rmse:105462\n",
      "[22]\tvalidation_0-rmse:104514\tvalidation_1-rmse:102621\n",
      "[23]\tvalidation_0-rmse:101810\tvalidation_1-rmse:99994.2\n",
      "[24]\tvalidation_0-rmse:99125.6\tvalidation_1-rmse:97338\n",
      "[25]\tvalidation_0-rmse:96562.7\tvalidation_1-rmse:94879.2\n",
      "[26]\tvalidation_0-rmse:94082.9\tvalidation_1-rmse:92429.8\n",
      "[27]\tvalidation_0-rmse:91635.8\tvalidation_1-rmse:90073.2\n",
      "[28]\tvalidation_0-rmse:89286.3\tvalidation_1-rmse:87741.7\n",
      "[29]\tvalidation_0-rmse:87058.9\tvalidation_1-rmse:85415\n",
      "[30]\tvalidation_0-rmse:84855\tvalidation_1-rmse:83268.7\n",
      "[31]\tvalidation_0-rmse:82720.3\tvalidation_1-rmse:81228.1\n",
      "[32]\tvalidation_0-rmse:80651\tvalidation_1-rmse:79208\n",
      "[33]\tvalidation_0-rmse:78629.1\tvalidation_1-rmse:77172.9\n",
      "[34]\tvalidation_0-rmse:76677.4\tvalidation_1-rmse:75242.8\n",
      "[35]\tvalidation_0-rmse:74831.8\tvalidation_1-rmse:73422.2\n",
      "[36]\tvalidation_0-rmse:72983.6\tvalidation_1-rmse:71669.5\n",
      "[37]\tvalidation_0-rmse:71190.5\tvalidation_1-rmse:69971.5\n",
      "[38]\tvalidation_0-rmse:69488\tvalidation_1-rmse:68320.3\n",
      "[39]\tvalidation_0-rmse:67796.7\tvalidation_1-rmse:66631\n",
      "[40]\tvalidation_0-rmse:66176.7\tvalidation_1-rmse:65048.4\n",
      "[41]\tvalidation_0-rmse:64609.2\tvalidation_1-rmse:63542.7\n",
      "[42]\tvalidation_0-rmse:63104.9\tvalidation_1-rmse:62201.5\n",
      "[43]\tvalidation_0-rmse:61633.2\tvalidation_1-rmse:60726\n",
      "[44]\tvalidation_0-rmse:60231.9\tvalidation_1-rmse:59315\n",
      "[45]\tvalidation_0-rmse:58899.1\tvalidation_1-rmse:58027\n",
      "[46]\tvalidation_0-rmse:57542.6\tvalidation_1-rmse:56706\n",
      "[47]\tvalidation_0-rmse:56255.3\tvalidation_1-rmse:55493.6\n",
      "[48]\tvalidation_0-rmse:55017.7\tvalidation_1-rmse:54272.1\n",
      "[49]\tvalidation_0-rmse:53831.5\tvalidation_1-rmse:53091.1\n",
      "[50]\tvalidation_0-rmse:52669.3\tvalidation_1-rmse:51992.6\n",
      "[51]\tvalidation_0-rmse:51555\tvalidation_1-rmse:50954.7\n",
      "[52]\tvalidation_0-rmse:50467\tvalidation_1-rmse:49850.3\n",
      "[53]\tvalidation_0-rmse:49407.6\tvalidation_1-rmse:48824.3\n",
      "[54]\tvalidation_0-rmse:48398.9\tvalidation_1-rmse:47854.2\n",
      "[55]\tvalidation_0-rmse:47410.3\tvalidation_1-rmse:46893\n",
      "[56]\tvalidation_0-rmse:46462.5\tvalidation_1-rmse:45950.2\n",
      "[57]\tvalidation_0-rmse:45534.2\tvalidation_1-rmse:44980.4\n",
      "[58]\tvalidation_0-rmse:44671.2\tvalidation_1-rmse:44147.7\n",
      "[59]\tvalidation_0-rmse:43830.7\tvalidation_1-rmse:43294.5\n",
      "[60]\tvalidation_0-rmse:43020.4\tvalidation_1-rmse:42565.7\n",
      "[61]\tvalidation_0-rmse:42179.3\tvalidation_1-rmse:41885.1\n",
      "[62]\tvalidation_0-rmse:41433\tvalidation_1-rmse:41168.1\n",
      "[63]\tvalidation_0-rmse:40698.8\tvalidation_1-rmse:40409.3\n",
      "[64]\tvalidation_0-rmse:39966.4\tvalidation_1-rmse:39789\n",
      "[65]\tvalidation_0-rmse:39272.8\tvalidation_1-rmse:39096.5\n",
      "[66]\tvalidation_0-rmse:38633\tvalidation_1-rmse:38444.3\n",
      "[67]\tvalidation_0-rmse:37936.3\tvalidation_1-rmse:37891.8\n",
      "[68]\tvalidation_0-rmse:37347.6\tvalidation_1-rmse:37250.6\n",
      "[69]\tvalidation_0-rmse:36737.8\tvalidation_1-rmse:36671.6\n",
      "[70]\tvalidation_0-rmse:36154.4\tvalidation_1-rmse:36101.9\n",
      "[71]\tvalidation_0-rmse:35645.8\tvalidation_1-rmse:35607.7\n",
      "[72]\tvalidation_0-rmse:35105.6\tvalidation_1-rmse:35058.5\n",
      "[73]\tvalidation_0-rmse:34588.8\tvalidation_1-rmse:34637\n",
      "[74]\tvalidation_0-rmse:34078.6\tvalidation_1-rmse:34124.2\n",
      "[75]\tvalidation_0-rmse:33592\tvalidation_1-rmse:33680.1\n",
      "[76]\tvalidation_0-rmse:33095.9\tvalidation_1-rmse:33294.3\n",
      "[77]\tvalidation_0-rmse:32637.6\tvalidation_1-rmse:32847.6\n",
      "[78]\tvalidation_0-rmse:32165.7\tvalidation_1-rmse:32445.7\n",
      "[79]\tvalidation_0-rmse:31737.9\tvalidation_1-rmse:32017.7\n",
      "[80]\tvalidation_0-rmse:31331.9\tvalidation_1-rmse:31665\n",
      "[81]\tvalidation_0-rmse:30939.2\tvalidation_1-rmse:31313.1\n",
      "[82]\tvalidation_0-rmse:30568.7\tvalidation_1-rmse:30967.6\n",
      "[83]\tvalidation_0-rmse:30152.6\tvalidation_1-rmse:30630.8\n",
      "[84]\tvalidation_0-rmse:29816.6\tvalidation_1-rmse:30304.8\n",
      "[85]\tvalidation_0-rmse:29463.7\tvalidation_1-rmse:30007.8\n",
      "[86]\tvalidation_0-rmse:29116.7\tvalidation_1-rmse:29636.5\n",
      "[87]\tvalidation_0-rmse:28776.7\tvalidation_1-rmse:29378.5\n",
      "[88]\tvalidation_0-rmse:28444.6\tvalidation_1-rmse:28986.2\n",
      "[89]\tvalidation_0-rmse:28146.7\tvalidation_1-rmse:28753.3\n",
      "[90]\tvalidation_0-rmse:27840\tvalidation_1-rmse:28471.1\n",
      "[91]\tvalidation_0-rmse:27527.9\tvalidation_1-rmse:28242.5\n",
      "[92]\tvalidation_0-rmse:27242.4\tvalidation_1-rmse:27996.8\n",
      "[93]\tvalidation_0-rmse:26995.1\tvalidation_1-rmse:27758.8\n",
      "[94]\tvalidation_0-rmse:26756.9\tvalidation_1-rmse:27572.5\n",
      "[95]\tvalidation_0-rmse:26510.7\tvalidation_1-rmse:27271.7\n",
      "[96]\tvalidation_0-rmse:26264.4\tvalidation_1-rmse:27047.5\n",
      "[97]\tvalidation_0-rmse:26017.1\tvalidation_1-rmse:26797.6\n",
      "[98]\tvalidation_0-rmse:25786.9\tvalidation_1-rmse:26561\n",
      "[99]\tvalidation_0-rmse:25580.5\tvalidation_1-rmse:26350.3\n"
     ]
    }
   ],
   "source": [
    "params = {'n_estimators': 100,\n",
    "          'learning_rate': 0.03,\n",
    "          'max_depth': 3,\n",
    "          'min_child_weight': 1,\n",
    "          'subsample': 0.8,\n",
    "          'colsample_bytree': 0.8}\n",
    "clf_xgb = xgb.XGBRegressor(**params)\n",
    "\n",
    "clf_xgb.fit(X_train_fin, y_train_fin, eval_metric='rmse', eval_set=[[X_train_fin, y_train_fin], [X_val, y_val]])\n",
    "\n",
    "best_params = params"
   ]
  },
  {
   "cell_type": "code",
   "execution_count": null,
   "metadata": {
    "collapsed": true
   },
   "outputs": [],
   "source": []
  },
  {
   "cell_type": "markdown",
   "metadata": {},
   "source": [
    "### Перебор параметров по сетке"
   ]
  },
  {
   "cell_type": "markdown",
   "metadata": {},
   "source": [
    "Опишем функцию, похожую на GridSearchCV, только для одной отложенной выборки X_test. Она перебирает параметки по заданной сетке и возврашает лучшие по ROC AUC"
   ]
  },
  {
   "cell_type": "code",
   "execution_count": 47,
   "metadata": {
    "collapsed": true
   },
   "outputs": [],
   "source": [
    "def find_params(clf, param_grid):\n",
    "    clf = GridSearchCV(clf, param_grid, scoring='neg_mean_squared_log_error', cv=[(np.arange(len(X_train)),\n",
    "                                                               np.arange(len(X_test)) + len(X_train))],\n",
    "                  verbose=3)\n",
    "\n",
    "    clf.fit(pd.concat([X_train_fin, X_val]).values, pd.concat([y_train_fin, y_val]).values)\n",
    "    best_params = clf.best_estimator_.get_params()\n",
    "    print('Best test RMSE: ', clf.best_score_)\n",
    "    print('Best params: ', best_params)\n",
    "    return best_params"
   ]
  },
  {
   "cell_type": "code",
   "execution_count": null,
   "metadata": {
    "collapsed": true
   },
   "outputs": [],
   "source": []
  },
  {
   "cell_type": "code",
   "execution_count": 48,
   "metadata": {},
   "outputs": [
    {
     "name": "stdout",
     "output_type": "stream",
     "text": [
      "Fitting 1 folds for each of 9 candidates, totalling 9 fits\n",
      "[CV] max_depth=3, min_child_weight=10 ................................\n"
     ]
    },
    {
     "ename": "IndexError",
     "evalue": "index 1460 is out of bounds for size 1460",
     "output_type": "error",
     "traceback": [
      "\u001b[1;31m---------------------------------------------------------------------------\u001b[0m",
      "\u001b[1;31mIndexError\u001b[0m                                Traceback (most recent call last)",
      "\u001b[1;32m<ipython-input-48-fda0e87cd9bb>\u001b[0m in \u001b[0;36m<module>\u001b[1;34m()\u001b[0m\n\u001b[0;32m      8\u001b[0m }\n\u001b[0;32m      9\u001b[0m \u001b[1;33m\u001b[0m\u001b[0m\n\u001b[1;32m---> 10\u001b[1;33m \u001b[0mbest_params\u001b[0m \u001b[1;33m=\u001b[0m \u001b[0mfind_params\u001b[0m\u001b[1;33m(\u001b[0m\u001b[0mclf_xgb\u001b[0m\u001b[1;33m,\u001b[0m \u001b[0mparam_grid\u001b[0m\u001b[1;33m)\u001b[0m\u001b[1;33m\u001b[0m\u001b[0m\n\u001b[0m",
      "\u001b[1;32m<ipython-input-47-8f8be2cabb29>\u001b[0m in \u001b[0;36mfind_params\u001b[1;34m(clf, param_grid)\u001b[0m\n\u001b[0;32m      4\u001b[0m                   verbose=3)\n\u001b[0;32m      5\u001b[0m \u001b[1;33m\u001b[0m\u001b[0m\n\u001b[1;32m----> 6\u001b[1;33m     \u001b[0mclf\u001b[0m\u001b[1;33m.\u001b[0m\u001b[0mfit\u001b[0m\u001b[1;33m(\u001b[0m\u001b[0mpd\u001b[0m\u001b[1;33m.\u001b[0m\u001b[0mconcat\u001b[0m\u001b[1;33m(\u001b[0m\u001b[1;33m[\u001b[0m\u001b[0mX_train_fin\u001b[0m\u001b[1;33m,\u001b[0m \u001b[0mX_val\u001b[0m\u001b[1;33m]\u001b[0m\u001b[1;33m)\u001b[0m\u001b[1;33m.\u001b[0m\u001b[0mvalues\u001b[0m\u001b[1;33m,\u001b[0m \u001b[0mpd\u001b[0m\u001b[1;33m.\u001b[0m\u001b[0mconcat\u001b[0m\u001b[1;33m(\u001b[0m\u001b[1;33m[\u001b[0m\u001b[0my_train_fin\u001b[0m\u001b[1;33m,\u001b[0m \u001b[0my_val\u001b[0m\u001b[1;33m]\u001b[0m\u001b[1;33m)\u001b[0m\u001b[1;33m.\u001b[0m\u001b[0mvalues\u001b[0m\u001b[1;33m)\u001b[0m\u001b[1;33m\u001b[0m\u001b[0m\n\u001b[0m\u001b[0;32m      7\u001b[0m     \u001b[0mbest_params\u001b[0m \u001b[1;33m=\u001b[0m \u001b[0mclf\u001b[0m\u001b[1;33m.\u001b[0m\u001b[0mbest_estimator_\u001b[0m\u001b[1;33m.\u001b[0m\u001b[0mget_params\u001b[0m\u001b[1;33m(\u001b[0m\u001b[1;33m)\u001b[0m\u001b[1;33m\u001b[0m\u001b[0m\n\u001b[0;32m      8\u001b[0m     \u001b[0mprint\u001b[0m\u001b[1;33m(\u001b[0m\u001b[1;34m'Best test RMSE: '\u001b[0m\u001b[1;33m,\u001b[0m \u001b[0mclf\u001b[0m\u001b[1;33m.\u001b[0m\u001b[0mbest_score_\u001b[0m\u001b[1;33m)\u001b[0m\u001b[1;33m\u001b[0m\u001b[0m\n",
      "\u001b[1;32m~\\Anaconda3\\lib\\site-packages\\sklearn\\model_selection\\_search.py\u001b[0m in \u001b[0;36mfit\u001b[1;34m(self, X, y, groups, **fit_params)\u001b[0m\n\u001b[0;32m    637\u001b[0m                                   error_score=self.error_score)\n\u001b[0;32m    638\u001b[0m           for parameters, (train, test) in product(candidate_params,\n\u001b[1;32m--> 639\u001b[1;33m                                                    cv.split(X, y, groups)))\n\u001b[0m\u001b[0;32m    640\u001b[0m \u001b[1;33m\u001b[0m\u001b[0m\n\u001b[0;32m    641\u001b[0m         \u001b[1;31m# if one choose to see train score, \"out\" will contain train score info\u001b[0m\u001b[1;33m\u001b[0m\u001b[1;33m\u001b[0m\u001b[0m\n",
      "\u001b[1;32m~\\Anaconda3\\lib\\site-packages\\sklearn\\externals\\joblib\\parallel.py\u001b[0m in \u001b[0;36m__call__\u001b[1;34m(self, iterable)\u001b[0m\n\u001b[0;32m    777\u001b[0m             \u001b[1;31m# was dispatched. In particular this covers the edge\u001b[0m\u001b[1;33m\u001b[0m\u001b[1;33m\u001b[0m\u001b[0m\n\u001b[0;32m    778\u001b[0m             \u001b[1;31m# case of Parallel used with an exhausted iterator.\u001b[0m\u001b[1;33m\u001b[0m\u001b[1;33m\u001b[0m\u001b[0m\n\u001b[1;32m--> 779\u001b[1;33m             \u001b[1;32mwhile\u001b[0m \u001b[0mself\u001b[0m\u001b[1;33m.\u001b[0m\u001b[0mdispatch_one_batch\u001b[0m\u001b[1;33m(\u001b[0m\u001b[0miterator\u001b[0m\u001b[1;33m)\u001b[0m\u001b[1;33m:\u001b[0m\u001b[1;33m\u001b[0m\u001b[0m\n\u001b[0m\u001b[0;32m    780\u001b[0m                 \u001b[0mself\u001b[0m\u001b[1;33m.\u001b[0m\u001b[0m_iterating\u001b[0m \u001b[1;33m=\u001b[0m \u001b[1;32mTrue\u001b[0m\u001b[1;33m\u001b[0m\u001b[0m\n\u001b[0;32m    781\u001b[0m             \u001b[1;32melse\u001b[0m\u001b[1;33m:\u001b[0m\u001b[1;33m\u001b[0m\u001b[0m\n",
      "\u001b[1;32m~\\Anaconda3\\lib\\site-packages\\sklearn\\externals\\joblib\\parallel.py\u001b[0m in \u001b[0;36mdispatch_one_batch\u001b[1;34m(self, iterator)\u001b[0m\n\u001b[0;32m    623\u001b[0m                 \u001b[1;32mreturn\u001b[0m \u001b[1;32mFalse\u001b[0m\u001b[1;33m\u001b[0m\u001b[0m\n\u001b[0;32m    624\u001b[0m             \u001b[1;32melse\u001b[0m\u001b[1;33m:\u001b[0m\u001b[1;33m\u001b[0m\u001b[0m\n\u001b[1;32m--> 625\u001b[1;33m                 \u001b[0mself\u001b[0m\u001b[1;33m.\u001b[0m\u001b[0m_dispatch\u001b[0m\u001b[1;33m(\u001b[0m\u001b[0mtasks\u001b[0m\u001b[1;33m)\u001b[0m\u001b[1;33m\u001b[0m\u001b[0m\n\u001b[0m\u001b[0;32m    626\u001b[0m                 \u001b[1;32mreturn\u001b[0m \u001b[1;32mTrue\u001b[0m\u001b[1;33m\u001b[0m\u001b[0m\n\u001b[0;32m    627\u001b[0m \u001b[1;33m\u001b[0m\u001b[0m\n",
      "\u001b[1;32m~\\Anaconda3\\lib\\site-packages\\sklearn\\externals\\joblib\\parallel.py\u001b[0m in \u001b[0;36m_dispatch\u001b[1;34m(self, batch)\u001b[0m\n\u001b[0;32m    586\u001b[0m         \u001b[0mdispatch_timestamp\u001b[0m \u001b[1;33m=\u001b[0m \u001b[0mtime\u001b[0m\u001b[1;33m.\u001b[0m\u001b[0mtime\u001b[0m\u001b[1;33m(\u001b[0m\u001b[1;33m)\u001b[0m\u001b[1;33m\u001b[0m\u001b[0m\n\u001b[0;32m    587\u001b[0m         \u001b[0mcb\u001b[0m \u001b[1;33m=\u001b[0m \u001b[0mBatchCompletionCallBack\u001b[0m\u001b[1;33m(\u001b[0m\u001b[0mdispatch_timestamp\u001b[0m\u001b[1;33m,\u001b[0m \u001b[0mlen\u001b[0m\u001b[1;33m(\u001b[0m\u001b[0mbatch\u001b[0m\u001b[1;33m)\u001b[0m\u001b[1;33m,\u001b[0m \u001b[0mself\u001b[0m\u001b[1;33m)\u001b[0m\u001b[1;33m\u001b[0m\u001b[0m\n\u001b[1;32m--> 588\u001b[1;33m         \u001b[0mjob\u001b[0m \u001b[1;33m=\u001b[0m \u001b[0mself\u001b[0m\u001b[1;33m.\u001b[0m\u001b[0m_backend\u001b[0m\u001b[1;33m.\u001b[0m\u001b[0mapply_async\u001b[0m\u001b[1;33m(\u001b[0m\u001b[0mbatch\u001b[0m\u001b[1;33m,\u001b[0m \u001b[0mcallback\u001b[0m\u001b[1;33m=\u001b[0m\u001b[0mcb\u001b[0m\u001b[1;33m)\u001b[0m\u001b[1;33m\u001b[0m\u001b[0m\n\u001b[0m\u001b[0;32m    589\u001b[0m         \u001b[0mself\u001b[0m\u001b[1;33m.\u001b[0m\u001b[0m_jobs\u001b[0m\u001b[1;33m.\u001b[0m\u001b[0mappend\u001b[0m\u001b[1;33m(\u001b[0m\u001b[0mjob\u001b[0m\u001b[1;33m)\u001b[0m\u001b[1;33m\u001b[0m\u001b[0m\n\u001b[0;32m    590\u001b[0m \u001b[1;33m\u001b[0m\u001b[0m\n",
      "\u001b[1;32m~\\Anaconda3\\lib\\site-packages\\sklearn\\externals\\joblib\\_parallel_backends.py\u001b[0m in \u001b[0;36mapply_async\u001b[1;34m(self, func, callback)\u001b[0m\n\u001b[0;32m    109\u001b[0m     \u001b[1;32mdef\u001b[0m \u001b[0mapply_async\u001b[0m\u001b[1;33m(\u001b[0m\u001b[0mself\u001b[0m\u001b[1;33m,\u001b[0m \u001b[0mfunc\u001b[0m\u001b[1;33m,\u001b[0m \u001b[0mcallback\u001b[0m\u001b[1;33m=\u001b[0m\u001b[1;32mNone\u001b[0m\u001b[1;33m)\u001b[0m\u001b[1;33m:\u001b[0m\u001b[1;33m\u001b[0m\u001b[0m\n\u001b[0;32m    110\u001b[0m         \u001b[1;34m\"\"\"Schedule a func to be run\"\"\"\u001b[0m\u001b[1;33m\u001b[0m\u001b[0m\n\u001b[1;32m--> 111\u001b[1;33m         \u001b[0mresult\u001b[0m \u001b[1;33m=\u001b[0m \u001b[0mImmediateResult\u001b[0m\u001b[1;33m(\u001b[0m\u001b[0mfunc\u001b[0m\u001b[1;33m)\u001b[0m\u001b[1;33m\u001b[0m\u001b[0m\n\u001b[0m\u001b[0;32m    112\u001b[0m         \u001b[1;32mif\u001b[0m \u001b[0mcallback\u001b[0m\u001b[1;33m:\u001b[0m\u001b[1;33m\u001b[0m\u001b[0m\n\u001b[0;32m    113\u001b[0m             \u001b[0mcallback\u001b[0m\u001b[1;33m(\u001b[0m\u001b[0mresult\u001b[0m\u001b[1;33m)\u001b[0m\u001b[1;33m\u001b[0m\u001b[0m\n",
      "\u001b[1;32m~\\Anaconda3\\lib\\site-packages\\sklearn\\externals\\joblib\\_parallel_backends.py\u001b[0m in \u001b[0;36m__init__\u001b[1;34m(self, batch)\u001b[0m\n\u001b[0;32m    330\u001b[0m         \u001b[1;31m# Don't delay the application, to avoid keeping the input\u001b[0m\u001b[1;33m\u001b[0m\u001b[1;33m\u001b[0m\u001b[0m\n\u001b[0;32m    331\u001b[0m         \u001b[1;31m# arguments in memory\u001b[0m\u001b[1;33m\u001b[0m\u001b[1;33m\u001b[0m\u001b[0m\n\u001b[1;32m--> 332\u001b[1;33m         \u001b[0mself\u001b[0m\u001b[1;33m.\u001b[0m\u001b[0mresults\u001b[0m \u001b[1;33m=\u001b[0m \u001b[0mbatch\u001b[0m\u001b[1;33m(\u001b[0m\u001b[1;33m)\u001b[0m\u001b[1;33m\u001b[0m\u001b[0m\n\u001b[0m\u001b[0;32m    333\u001b[0m \u001b[1;33m\u001b[0m\u001b[0m\n\u001b[0;32m    334\u001b[0m     \u001b[1;32mdef\u001b[0m \u001b[0mget\u001b[0m\u001b[1;33m(\u001b[0m\u001b[0mself\u001b[0m\u001b[1;33m)\u001b[0m\u001b[1;33m:\u001b[0m\u001b[1;33m\u001b[0m\u001b[0m\n",
      "\u001b[1;32m~\\Anaconda3\\lib\\site-packages\\sklearn\\externals\\joblib\\parallel.py\u001b[0m in \u001b[0;36m__call__\u001b[1;34m(self)\u001b[0m\n\u001b[0;32m    129\u001b[0m \u001b[1;33m\u001b[0m\u001b[0m\n\u001b[0;32m    130\u001b[0m     \u001b[1;32mdef\u001b[0m \u001b[0m__call__\u001b[0m\u001b[1;33m(\u001b[0m\u001b[0mself\u001b[0m\u001b[1;33m)\u001b[0m\u001b[1;33m:\u001b[0m\u001b[1;33m\u001b[0m\u001b[0m\n\u001b[1;32m--> 131\u001b[1;33m         \u001b[1;32mreturn\u001b[0m \u001b[1;33m[\u001b[0m\u001b[0mfunc\u001b[0m\u001b[1;33m(\u001b[0m\u001b[1;33m*\u001b[0m\u001b[0margs\u001b[0m\u001b[1;33m,\u001b[0m \u001b[1;33m**\u001b[0m\u001b[0mkwargs\u001b[0m\u001b[1;33m)\u001b[0m \u001b[1;32mfor\u001b[0m \u001b[0mfunc\u001b[0m\u001b[1;33m,\u001b[0m \u001b[0margs\u001b[0m\u001b[1;33m,\u001b[0m \u001b[0mkwargs\u001b[0m \u001b[1;32min\u001b[0m \u001b[0mself\u001b[0m\u001b[1;33m.\u001b[0m\u001b[0mitems\u001b[0m\u001b[1;33m]\u001b[0m\u001b[1;33m\u001b[0m\u001b[0m\n\u001b[0m\u001b[0;32m    132\u001b[0m \u001b[1;33m\u001b[0m\u001b[0m\n\u001b[0;32m    133\u001b[0m     \u001b[1;32mdef\u001b[0m \u001b[0m__len__\u001b[0m\u001b[1;33m(\u001b[0m\u001b[0mself\u001b[0m\u001b[1;33m)\u001b[0m\u001b[1;33m:\u001b[0m\u001b[1;33m\u001b[0m\u001b[0m\n",
      "\u001b[1;32m~\\Anaconda3\\lib\\site-packages\\sklearn\\externals\\joblib\\parallel.py\u001b[0m in \u001b[0;36m<listcomp>\u001b[1;34m(.0)\u001b[0m\n\u001b[0;32m    129\u001b[0m \u001b[1;33m\u001b[0m\u001b[0m\n\u001b[0;32m    130\u001b[0m     \u001b[1;32mdef\u001b[0m \u001b[0m__call__\u001b[0m\u001b[1;33m(\u001b[0m\u001b[0mself\u001b[0m\u001b[1;33m)\u001b[0m\u001b[1;33m:\u001b[0m\u001b[1;33m\u001b[0m\u001b[0m\n\u001b[1;32m--> 131\u001b[1;33m         \u001b[1;32mreturn\u001b[0m \u001b[1;33m[\u001b[0m\u001b[0mfunc\u001b[0m\u001b[1;33m(\u001b[0m\u001b[1;33m*\u001b[0m\u001b[0margs\u001b[0m\u001b[1;33m,\u001b[0m \u001b[1;33m**\u001b[0m\u001b[0mkwargs\u001b[0m\u001b[1;33m)\u001b[0m \u001b[1;32mfor\u001b[0m \u001b[0mfunc\u001b[0m\u001b[1;33m,\u001b[0m \u001b[0margs\u001b[0m\u001b[1;33m,\u001b[0m \u001b[0mkwargs\u001b[0m \u001b[1;32min\u001b[0m \u001b[0mself\u001b[0m\u001b[1;33m.\u001b[0m\u001b[0mitems\u001b[0m\u001b[1;33m]\u001b[0m\u001b[1;33m\u001b[0m\u001b[0m\n\u001b[0m\u001b[0;32m    132\u001b[0m \u001b[1;33m\u001b[0m\u001b[0m\n\u001b[0;32m    133\u001b[0m     \u001b[1;32mdef\u001b[0m \u001b[0m__len__\u001b[0m\u001b[1;33m(\u001b[0m\u001b[0mself\u001b[0m\u001b[1;33m)\u001b[0m\u001b[1;33m:\u001b[0m\u001b[1;33m\u001b[0m\u001b[0m\n",
      "\u001b[1;32m~\\Anaconda3\\lib\\site-packages\\sklearn\\model_selection\\_validation.py\u001b[0m in \u001b[0;36m_fit_and_score\u001b[1;34m(estimator, X, y, scorer, train, test, verbose, parameters, fit_params, return_train_score, return_parameters, return_n_test_samples, return_times, error_score)\u001b[0m\n\u001b[0;32m    447\u001b[0m \u001b[1;33m\u001b[0m\u001b[0m\n\u001b[0;32m    448\u001b[0m     \u001b[0mX_train\u001b[0m\u001b[1;33m,\u001b[0m \u001b[0my_train\u001b[0m \u001b[1;33m=\u001b[0m \u001b[0m_safe_split\u001b[0m\u001b[1;33m(\u001b[0m\u001b[0mestimator\u001b[0m\u001b[1;33m,\u001b[0m \u001b[0mX\u001b[0m\u001b[1;33m,\u001b[0m \u001b[0my\u001b[0m\u001b[1;33m,\u001b[0m \u001b[0mtrain\u001b[0m\u001b[1;33m)\u001b[0m\u001b[1;33m\u001b[0m\u001b[0m\n\u001b[1;32m--> 449\u001b[1;33m     \u001b[0mX_test\u001b[0m\u001b[1;33m,\u001b[0m \u001b[0my_test\u001b[0m \u001b[1;33m=\u001b[0m \u001b[0m_safe_split\u001b[0m\u001b[1;33m(\u001b[0m\u001b[0mestimator\u001b[0m\u001b[1;33m,\u001b[0m \u001b[0mX\u001b[0m\u001b[1;33m,\u001b[0m \u001b[0my\u001b[0m\u001b[1;33m,\u001b[0m \u001b[0mtest\u001b[0m\u001b[1;33m,\u001b[0m \u001b[0mtrain\u001b[0m\u001b[1;33m)\u001b[0m\u001b[1;33m\u001b[0m\u001b[0m\n\u001b[0m\u001b[0;32m    450\u001b[0m \u001b[1;33m\u001b[0m\u001b[0m\n\u001b[0;32m    451\u001b[0m     \u001b[0mis_multimetric\u001b[0m \u001b[1;33m=\u001b[0m \u001b[1;32mnot\u001b[0m \u001b[0mcallable\u001b[0m\u001b[1;33m(\u001b[0m\u001b[0mscorer\u001b[0m\u001b[1;33m)\u001b[0m\u001b[1;33m\u001b[0m\u001b[0m\n",
      "\u001b[1;32m~\\Anaconda3\\lib\\site-packages\\sklearn\\utils\\metaestimators.py\u001b[0m in \u001b[0;36m_safe_split\u001b[1;34m(estimator, X, y, indices, train_indices)\u001b[0m\n\u001b[0;32m    198\u001b[0m             \u001b[0mX_subset\u001b[0m \u001b[1;33m=\u001b[0m \u001b[0mX\u001b[0m\u001b[1;33m[\u001b[0m\u001b[0mnp\u001b[0m\u001b[1;33m.\u001b[0m\u001b[0mix_\u001b[0m\u001b[1;33m(\u001b[0m\u001b[0mindices\u001b[0m\u001b[1;33m,\u001b[0m \u001b[0mtrain_indices\u001b[0m\u001b[1;33m)\u001b[0m\u001b[1;33m]\u001b[0m\u001b[1;33m\u001b[0m\u001b[0m\n\u001b[0;32m    199\u001b[0m     \u001b[1;32melse\u001b[0m\u001b[1;33m:\u001b[0m\u001b[1;33m\u001b[0m\u001b[0m\n\u001b[1;32m--> 200\u001b[1;33m         \u001b[0mX_subset\u001b[0m \u001b[1;33m=\u001b[0m \u001b[0msafe_indexing\u001b[0m\u001b[1;33m(\u001b[0m\u001b[0mX\u001b[0m\u001b[1;33m,\u001b[0m \u001b[0mindices\u001b[0m\u001b[1;33m)\u001b[0m\u001b[1;33m\u001b[0m\u001b[0m\n\u001b[0m\u001b[0;32m    201\u001b[0m \u001b[1;33m\u001b[0m\u001b[0m\n\u001b[0;32m    202\u001b[0m     \u001b[1;32mif\u001b[0m \u001b[0my\u001b[0m \u001b[1;32mis\u001b[0m \u001b[1;32mnot\u001b[0m \u001b[1;32mNone\u001b[0m\u001b[1;33m:\u001b[0m\u001b[1;33m\u001b[0m\u001b[0m\n",
      "\u001b[1;32m~\\Anaconda3\\lib\\site-packages\\sklearn\\utils\\__init__.py\u001b[0m in \u001b[0;36msafe_indexing\u001b[1;34m(X, indices)\u001b[0m\n\u001b[0;32m    158\u001b[0m                                    indices.dtype.kind == 'i'):\n\u001b[0;32m    159\u001b[0m             \u001b[1;31m# This is often substantially faster than X[indices]\u001b[0m\u001b[1;33m\u001b[0m\u001b[1;33m\u001b[0m\u001b[0m\n\u001b[1;32m--> 160\u001b[1;33m             \u001b[1;32mreturn\u001b[0m \u001b[0mX\u001b[0m\u001b[1;33m.\u001b[0m\u001b[0mtake\u001b[0m\u001b[1;33m(\u001b[0m\u001b[0mindices\u001b[0m\u001b[1;33m,\u001b[0m \u001b[0maxis\u001b[0m\u001b[1;33m=\u001b[0m\u001b[1;36m0\u001b[0m\u001b[1;33m)\u001b[0m\u001b[1;33m\u001b[0m\u001b[0m\n\u001b[0m\u001b[0;32m    161\u001b[0m         \u001b[1;32melse\u001b[0m\u001b[1;33m:\u001b[0m\u001b[1;33m\u001b[0m\u001b[0m\n\u001b[0;32m    162\u001b[0m             \u001b[1;32mreturn\u001b[0m \u001b[0mX\u001b[0m\u001b[1;33m[\u001b[0m\u001b[0mindices\u001b[0m\u001b[1;33m]\u001b[0m\u001b[1;33m\u001b[0m\u001b[0m\n",
      "\u001b[1;31mIndexError\u001b[0m: index 1460 is out of bounds for size 1460"
     ]
    }
   ],
   "source": [
    "from sklearn.model_selection import GridSearchCV\n",
    "\n",
    "clf_xgb = xgb.XGBRegressor(**best_params)\n",
    "\n",
    "param_grid = {\n",
    "    'max_depth': [3, 5, 10],\n",
    "    'min_child_weight': [10, 20, 100]#[1, 5, 10]\n",
    "}\n",
    "\n",
    "best_params = find_params(clf_xgb, param_grid)"
   ]
  },
  {
   "cell_type": "code",
   "execution_count": null,
   "metadata": {
    "collapsed": true
   },
   "outputs": [],
   "source": []
  },
  {
   "cell_type": "code",
   "execution_count": null,
   "metadata": {
    "collapsed": true
   },
   "outputs": [],
   "source": []
  },
  {
   "cell_type": "code",
   "execution_count": null,
   "metadata": {
    "collapsed": true
   },
   "outputs": [],
   "source": []
  },
  {
   "cell_type": "markdown",
   "metadata": {},
   "source": [
    "### Обучаем решающее дерево\n",
    "\n",
    "Немного ограничим глубину и минимальное кол-во объектов в листе для уменьшения переобучения"
   ]
  },
  {
   "cell_type": "code",
   "execution_count": 182,
   "metadata": {},
   "outputs": [
    {
     "data": {
      "text/plain": [
       "DecisionTreeRegressor(criterion='mse', max_depth=15, max_features=None,\n",
       "           max_leaf_nodes=None, min_impurity_decrease=0.0,\n",
       "           min_impurity_split=None, min_samples_leaf=20,\n",
       "           min_samples_split=2, min_weight_fraction_leaf=0.0,\n",
       "           presort=False, random_state=None, splitter='best')"
      ]
     },
     "execution_count": 182,
     "metadata": {},
     "output_type": "execute_result"
    }
   ],
   "source": [
    "from sklearn.tree import DecisionTreeRegressor\n",
    "\n",
    "clf_tree = DecisionTreeRegressor(max_depth=15, min_samples_leaf=20)\n",
    "clf_tree.fit(X_train, Y)"
   ]
  },
  {
   "cell_type": "markdown",
   "metadata": {},
   "source": [
    "#### Считаем RMSD"
   ]
  },
  {
   "cell_type": "markdown",
   "metadata": {},
   "source": [
    "Делаем предсказания"
   ]
  },
  {
   "cell_type": "code",
   "execution_count": 183,
   "metadata": {
    "collapsed": true
   },
   "outputs": [],
   "source": [
    "y_pred_train = clf_tree.predict(X_train)"
   ]
  },
  {
   "cell_type": "code",
   "execution_count": 184,
   "metadata": {
    "collapsed": true
   },
   "outputs": [],
   "source": [
    "#Короткая функция для вывод RMSD\n",
    "def met_cl (y_train, y_tr_pred):\n",
    "    print('RMSD:', sqrt(mean_squared_log_error(y_train, y_tr_pred)))"
   ]
  },
  {
   "cell_type": "code",
   "execution_count": 185,
   "metadata": {
    "collapsed": true
   },
   "outputs": [],
   "source": [
    "#Функция для формирования сабмита на Kaggle\n",
    "def create_submit (clf, X, fileName):\n",
    "    #Делаем предсказания\n",
    "    predictions = clf.predict(X)\n",
    "    #Формируем строку\n",
    "    submussion = 'Id,SalePrice\\n'\n",
    "    submussion += \"\\n\".join([\"{},{}\".format(pid, prediction) for pid, prediction in zip(data_test.Id, predictions)])\n",
    "    #Записываем данные в файл\n",
    "    with open(fileName, 'w') as file:\n",
    "        file.write(submussion)"
   ]
  },
  {
   "cell_type": "code",
   "execution_count": 186,
   "metadata": {},
   "outputs": [
    {
     "name": "stdout",
     "output_type": "stream",
     "text": [
      "RMSD: 0.15425210236884798\n"
     ]
    }
   ],
   "source": [
    "#Считаем RMSD для дерева\n",
    "met_cl(Y, y_pred_train)"
   ]
  },
  {
   "cell_type": "code",
   "execution_count": 187,
   "metadata": {
    "collapsed": true
   },
   "outputs": [],
   "source": [
    "#Формируем сабмит\n",
    "create_submit(clf_tree, X_test, 'submission_tree.txt')"
   ]
  },
  {
   "cell_type": "markdown",
   "metadata": {},
   "source": [
    "### Случайный лес\n",
    "\n",
    "Бэггинг + случайные подпространства = случайный лес\n",
    "\n",
    "**Важные гиперпараметры алгоритма**\n",
    "\n",
    "a. Параметры деревьев\n",
    "    1. criterion - критерий построения дерева\n",
    "    2. max_depth - максимальная глубина дерева (обычно 10-20, больше глубина -> больше риск переобучения)\n",
    "    3. min_samples_leaf - минимальное число объектов в листе (обычно 20+, больше объектов -> меньше риск переобучения)\n",
    "\n",
    "b. Параметры леса\n",
    "    1. n_estimators - кол-во деревьев (чем больше тем лучше)\n",
    "    2. max_features - число признаков случайного подпространства\n",
    "    3. bootstrap - использовать ли бэггинг\n",
    "    4. n_jobs - кол-во потоков для одновременного построения деревьев (большая прибавка к скорости на многоядерных процах)"
   ]
  },
  {
   "cell_type": "code",
   "execution_count": 188,
   "metadata": {
    "scrolled": true
   },
   "outputs": [
    {
     "data": {
      "text/plain": [
       "RandomForestRegressor(bootstrap=True, criterion='mse', max_depth=15,\n",
       "           max_features=0.6, max_leaf_nodes=None,\n",
       "           min_impurity_decrease=0.0, min_impurity_split=None,\n",
       "           min_samples_leaf=20, min_samples_split=2,\n",
       "           min_weight_fraction_leaf=0.0, n_estimators=200, n_jobs=-1,\n",
       "           oob_score=False, random_state=None, verbose=0, warm_start=False)"
      ]
     },
     "execution_count": 188,
     "metadata": {},
     "output_type": "execute_result"
    }
   ],
   "source": [
    "from sklearn.ensemble import RandomForestRegressor\n",
    "\n",
    "clf_rf = RandomForestRegressor(n_estimators=200, max_depth=15, min_samples_leaf=20, max_features=0.6, n_jobs=-1)\n",
    "\n",
    "clf_rf.fit(X_train, Y)    "
   ]
  },
  {
   "cell_type": "code",
   "execution_count": 189,
   "metadata": {
    "collapsed": true
   },
   "outputs": [],
   "source": [
    "y_pred_rf_train = clf_rf.predict(X_train)"
   ]
  },
  {
   "cell_type": "code",
   "execution_count": 190,
   "metadata": {},
   "outputs": [
    {
     "name": "stdout",
     "output_type": "stream",
     "text": [
      "RMSD: 0.14335860532096453\n"
     ]
    }
   ],
   "source": [
    "#Считаем RMSD для случайного леса\n",
    "met_cl(Y, y_pred_rf_train)"
   ]
  },
  {
   "cell_type": "code",
   "execution_count": 191,
   "metadata": {
    "collapsed": true
   },
   "outputs": [],
   "source": [
    "#Формируем сабмит на основе случайного леса для Kaggle\n",
    "create_submit(clf_rf, X_test, 'submission_rf.txt')"
   ]
  },
  {
   "cell_type": "markdown",
   "metadata": {},
   "source": [
    "#### Важность признаков"
   ]
  },
  {
   "cell_type": "markdown",
   "metadata": {},
   "source": [
    "В sklearn - усредненное по всем деревьям в ансамбле кол-во сплитов по признаку, взвешенное на прирост информации (Information gain) и долю объектов в вершине, в которой производится этот сплит\n",
    "\n",
    "Это не единственный вариант, см здесь:\n",
    "\n",
    "https://medium.com/@ceshine/feature-importance-measures-for-tree-models-part-i-47f187c1a2c3\n",
    "\n",
    "Важности признаков случайного леса лежат в артибуте **feature\\_importances\\_**"
   ]
  },
  {
   "cell_type": "code",
   "execution_count": 192,
   "metadata": {
    "collapsed": true,
    "scrolled": true
   },
   "outputs": [],
   "source": [
    "#Выводим важности атрибутов\n",
    "imp = pd.Series(clf_rf.feature_importances_, index=X_train.columns)\n",
    "imp2 = imp.sort_values(ascending=False).head(25)"
   ]
  },
  {
   "cell_type": "code",
   "execution_count": 193,
   "metadata": {},
   "outputs": [
    {
     "data": {
      "text/plain": [
       "OverallQual          0.481455\n",
       "GrLivArea            0.122860\n",
       "GarageCars           0.118447\n",
       "TotalBsmtSF          0.045054\n",
       "ExterQual_TA         0.043067\n",
       "1stFlrSF             0.028903\n",
       "BsmtFinSF1           0.025422\n",
       "GarageArea           0.021390\n",
       "YearBuilt            0.020296\n",
       "BsmtQual_Ex          0.011867\n",
       "LotArea              0.010034\n",
       "TotRmsAbvGrd         0.008830\n",
       "FullBath             0.008209\n",
       "2ndFlrSF             0.004591\n",
       "FireplaceQu_nan      0.003610\n",
       "Fireplaces           0.003582\n",
       "YearRemodAdd         0.003155\n",
       "GarageYrBlt          0.003127\n",
       "KitchenQual_Gd       0.003049\n",
       "ExterQual_Gd         0.002683\n",
       "MasVnrArea           0.002487\n",
       "BsmtQual_Gd          0.002471\n",
       "KitchenQual_Ex       0.002308\n",
       "GarageType_Attchd    0.002241\n",
       "CentralAir_Y         0.001891\n",
       "dtype: float64"
      ]
     },
     "execution_count": 193,
     "metadata": {},
     "output_type": "execute_result"
    }
   ],
   "source": [
    "imp2"
   ]
  },
  {
   "cell_type": "markdown",
   "metadata": {},
   "source": [
    "Явно видно, что одна фича значительно выделяется среди всех остальных - это OverallQual. \n",
    "На втором и третьем месте тоже достаточно важные фичи, хотя они и в 4 раза менее значимы первой, но совместо с ней они дают\n",
    "более 0.72"
   ]
  },
  {
   "cell_type": "markdown",
   "metadata": {},
   "source": [
    "# Композиции моделей разных типов"
   ]
  },
  {
   "cell_type": "markdown",
   "metadata": {},
   "source": [
    "### Линейная комбинация моделей разного типа\n",
    "\n",
    "Смешаем дерево и к-ближайших соседей\n",
    "\n",
    "**Преобразуем признаки**\n",
    "\n",
    "1. Заменяем пропуски на медианы\n",
    "2. Создаем индикаторы пропущенных значений\n",
    "3. Создаем дамми-переменные для категорий\n",
    "4. Нормируем признаки"
   ]
  },
  {
   "cell_type": "code",
   "execution_count": 194,
   "metadata": {
    "collapsed": true
   },
   "outputs": [],
   "source": [
    "from sklearn.preprocessing import StandardScaler\n",
    "\n",
    "train_median = d_train[num_feat].median()\n",
    "\n",
    "X_train_lin = pd.concat([d_train[num_feat].fillna(train_median),\n",
    "                     d_train[num_feat + cat_feat].isnull().astype(np.int8).add_suffix('_NaN'),\n",
    "                     dummy_train], axis=1)\n",
    "\n",
    "X_test_lin = pd.concat([d_test[num_feat].fillna(train_median),\n",
    "                     d_test[num_feat + cat_feat].isnull().astype(np.int8).add_suffix('_NaN'),\n",
    "                     dummy_test], axis=1)\n",
    "\n",
    "scaler = StandardScaler()\n",
    "scaler.fit(X_train_lin[num_feat])\n",
    "\n",
    "X_train_lin[num_feat] = scaler.transform(X_train_lin[num_feat])\n",
    "X_test_lin[num_feat] = scaler.transform(X_test_lin[num_feat])"
   ]
  },
  {
   "cell_type": "code",
   "execution_count": 195,
   "metadata": {},
   "outputs": [
    {
     "data": {
      "text/plain": [
       "(1460, 366)"
      ]
     },
     "execution_count": 195,
     "metadata": {},
     "output_type": "execute_result"
    }
   ],
   "source": [
    "X_train_lin.shape"
   ]
  },
  {
   "cell_type": "markdown",
   "metadata": {},
   "source": [
    "### Обучим линейную регрессию"
   ]
  },
  {
   "cell_type": "code",
   "execution_count": 196,
   "metadata": {
    "collapsed": true
   },
   "outputs": [],
   "source": [
    "from sklearn.linear_model import LinearRegression"
   ]
  },
  {
   "cell_type": "code",
   "execution_count": 197,
   "metadata": {},
   "outputs": [
    {
     "data": {
      "text/plain": [
       "LinearRegression(copy_X=True, fit_intercept=True, n_jobs=1, normalize=False)"
      ]
     },
     "execution_count": 197,
     "metadata": {},
     "output_type": "execute_result"
    }
   ],
   "source": [
    "clf_lr = LinearRegression()\n",
    "\n",
    "clf_lr.fit(X_train_lin, Y)"
   ]
  },
  {
   "cell_type": "code",
   "execution_count": 198,
   "metadata": {
    "collapsed": true
   },
   "outputs": [],
   "source": [
    "y_pred_lin_train = clf_lr.predict(X_train_lin)"
   ]
  },
  {
   "cell_type": "code",
   "execution_count": 199,
   "metadata": {},
   "outputs": [
    {
     "name": "stderr",
     "output_type": "stream",
     "text": [
      "C:\\Users\\alexe\\Anaconda3\\lib\\site-packages\\sklearn\\metrics\\regression.py:314: RuntimeWarning: invalid value encountered in log\n",
      "  return mean_squared_error(np.log(y_true + 1), np.log(y_pred + 1),\n"
     ]
    },
    {
     "ename": "ValueError",
     "evalue": "Input contains NaN, infinity or a value too large for dtype('float64').",
     "output_type": "error",
     "traceback": [
      "\u001b[1;31m---------------------------------------------------------------------------\u001b[0m",
      "\u001b[1;31mValueError\u001b[0m                                Traceback (most recent call last)",
      "\u001b[1;32m<ipython-input-199-d06738025822>\u001b[0m in \u001b[0;36m<module>\u001b[1;34m()\u001b[0m\n\u001b[1;32m----> 1\u001b[1;33m \u001b[0mmet_cl\u001b[0m\u001b[1;33m(\u001b[0m\u001b[0mY\u001b[0m\u001b[1;33m,\u001b[0m \u001b[0my_pred_lin_train\u001b[0m\u001b[1;33m)\u001b[0m\u001b[1;33m\u001b[0m\u001b[0m\n\u001b[0m",
      "\u001b[1;32m<ipython-input-184-9b179e4d4b70>\u001b[0m in \u001b[0;36mmet_cl\u001b[1;34m(y_train, y_tr_pred)\u001b[0m\n\u001b[0;32m      1\u001b[0m \u001b[1;31m#Короткая функция для вывод RMSD\u001b[0m\u001b[1;33m\u001b[0m\u001b[1;33m\u001b[0m\u001b[0m\n\u001b[0;32m      2\u001b[0m \u001b[1;32mdef\u001b[0m \u001b[0mmet_cl\u001b[0m \u001b[1;33m(\u001b[0m\u001b[0my_train\u001b[0m\u001b[1;33m,\u001b[0m \u001b[0my_tr_pred\u001b[0m\u001b[1;33m)\u001b[0m\u001b[1;33m:\u001b[0m\u001b[1;33m\u001b[0m\u001b[0m\n\u001b[1;32m----> 3\u001b[1;33m     \u001b[0mprint\u001b[0m\u001b[1;33m(\u001b[0m\u001b[1;34m'RMSD:'\u001b[0m\u001b[1;33m,\u001b[0m \u001b[0msqrt\u001b[0m\u001b[1;33m(\u001b[0m\u001b[0mmean_squared_log_error\u001b[0m\u001b[1;33m(\u001b[0m\u001b[0my_train\u001b[0m\u001b[1;33m,\u001b[0m \u001b[0my_tr_pred\u001b[0m\u001b[1;33m)\u001b[0m\u001b[1;33m)\u001b[0m\u001b[1;33m)\u001b[0m\u001b[1;33m\u001b[0m\u001b[0m\n\u001b[0m",
      "\u001b[1;32m~\\Anaconda3\\lib\\site-packages\\sklearn\\metrics\\regression.py\u001b[0m in \u001b[0;36mmean_squared_log_error\u001b[1;34m(y_true, y_pred, sample_weight, multioutput)\u001b[0m\n\u001b[0;32m    313\u001b[0m \u001b[1;33m\u001b[0m\u001b[0m\n\u001b[0;32m    314\u001b[0m     return mean_squared_error(np.log(y_true + 1), np.log(y_pred + 1),\n\u001b[1;32m--> 315\u001b[1;33m                               sample_weight, multioutput)\n\u001b[0m\u001b[0;32m    316\u001b[0m \u001b[1;33m\u001b[0m\u001b[0m\n\u001b[0;32m    317\u001b[0m \u001b[1;33m\u001b[0m\u001b[0m\n",
      "\u001b[1;32m~\\Anaconda3\\lib\\site-packages\\sklearn\\metrics\\regression.py\u001b[0m in \u001b[0;36mmean_squared_error\u001b[1;34m(y_true, y_pred, sample_weight, multioutput)\u001b[0m\n\u001b[0;32m    236\u001b[0m     \"\"\"\n\u001b[0;32m    237\u001b[0m     y_type, y_true, y_pred, multioutput = _check_reg_targets(\n\u001b[1;32m--> 238\u001b[1;33m         y_true, y_pred, multioutput)\n\u001b[0m\u001b[0;32m    239\u001b[0m     output_errors = np.average((y_true - y_pred) ** 2, axis=0,\n\u001b[0;32m    240\u001b[0m                                weights=sample_weight)\n",
      "\u001b[1;32m~\\Anaconda3\\lib\\site-packages\\sklearn\\metrics\\regression.py\u001b[0m in \u001b[0;36m_check_reg_targets\u001b[1;34m(y_true, y_pred, multioutput)\u001b[0m\n\u001b[0;32m     75\u001b[0m     \u001b[0mcheck_consistent_length\u001b[0m\u001b[1;33m(\u001b[0m\u001b[0my_true\u001b[0m\u001b[1;33m,\u001b[0m \u001b[0my_pred\u001b[0m\u001b[1;33m)\u001b[0m\u001b[1;33m\u001b[0m\u001b[0m\n\u001b[0;32m     76\u001b[0m     \u001b[0my_true\u001b[0m \u001b[1;33m=\u001b[0m \u001b[0mcheck_array\u001b[0m\u001b[1;33m(\u001b[0m\u001b[0my_true\u001b[0m\u001b[1;33m,\u001b[0m \u001b[0mensure_2d\u001b[0m\u001b[1;33m=\u001b[0m\u001b[1;32mFalse\u001b[0m\u001b[1;33m)\u001b[0m\u001b[1;33m\u001b[0m\u001b[0m\n\u001b[1;32m---> 77\u001b[1;33m     \u001b[0my_pred\u001b[0m \u001b[1;33m=\u001b[0m \u001b[0mcheck_array\u001b[0m\u001b[1;33m(\u001b[0m\u001b[0my_pred\u001b[0m\u001b[1;33m,\u001b[0m \u001b[0mensure_2d\u001b[0m\u001b[1;33m=\u001b[0m\u001b[1;32mFalse\u001b[0m\u001b[1;33m)\u001b[0m\u001b[1;33m\u001b[0m\u001b[0m\n\u001b[0m\u001b[0;32m     78\u001b[0m \u001b[1;33m\u001b[0m\u001b[0m\n\u001b[0;32m     79\u001b[0m     \u001b[1;32mif\u001b[0m \u001b[0my_true\u001b[0m\u001b[1;33m.\u001b[0m\u001b[0mndim\u001b[0m \u001b[1;33m==\u001b[0m \u001b[1;36m1\u001b[0m\u001b[1;33m:\u001b[0m\u001b[1;33m\u001b[0m\u001b[0m\n",
      "\u001b[1;32m~\\Anaconda3\\lib\\site-packages\\sklearn\\utils\\validation.py\u001b[0m in \u001b[0;36mcheck_array\u001b[1;34m(array, accept_sparse, dtype, order, copy, force_all_finite, ensure_2d, allow_nd, ensure_min_samples, ensure_min_features, warn_on_dtype, estimator)\u001b[0m\n\u001b[0;32m    451\u001b[0m                              % (array.ndim, estimator_name))\n\u001b[0;32m    452\u001b[0m         \u001b[1;32mif\u001b[0m \u001b[0mforce_all_finite\u001b[0m\u001b[1;33m:\u001b[0m\u001b[1;33m\u001b[0m\u001b[0m\n\u001b[1;32m--> 453\u001b[1;33m             \u001b[0m_assert_all_finite\u001b[0m\u001b[1;33m(\u001b[0m\u001b[0marray\u001b[0m\u001b[1;33m)\u001b[0m\u001b[1;33m\u001b[0m\u001b[0m\n\u001b[0m\u001b[0;32m    454\u001b[0m \u001b[1;33m\u001b[0m\u001b[0m\n\u001b[0;32m    455\u001b[0m     \u001b[0mshape_repr\u001b[0m \u001b[1;33m=\u001b[0m \u001b[0m_shape_repr\u001b[0m\u001b[1;33m(\u001b[0m\u001b[0marray\u001b[0m\u001b[1;33m.\u001b[0m\u001b[0mshape\u001b[0m\u001b[1;33m)\u001b[0m\u001b[1;33m\u001b[0m\u001b[0m\n",
      "\u001b[1;32m~\\Anaconda3\\lib\\site-packages\\sklearn\\utils\\validation.py\u001b[0m in \u001b[0;36m_assert_all_finite\u001b[1;34m(X)\u001b[0m\n\u001b[0;32m     42\u001b[0m             and not np.isfinite(X).all()):\n\u001b[0;32m     43\u001b[0m         raise ValueError(\"Input contains NaN, infinity\"\n\u001b[1;32m---> 44\u001b[1;33m                          \" or a value too large for %r.\" % X.dtype)\n\u001b[0m\u001b[0;32m     45\u001b[0m \u001b[1;33m\u001b[0m\u001b[0m\n\u001b[0;32m     46\u001b[0m \u001b[1;33m\u001b[0m\u001b[0m\n",
      "\u001b[1;31mValueError\u001b[0m: Input contains NaN, infinity or a value too large for dtype('float64')."
     ]
    }
   ],
   "source": [
    "met_cl(Y, y_pred_lin_train)"
   ]
  },
  {
   "cell_type": "markdown",
   "metadata": {},
   "source": [
    "**!!! Не понятно почему не получается посчитать RMSD для линейной регрессии**"
   ]
  },
  {
   "cell_type": "markdown",
   "metadata": {},
   "source": [
    "### Обучим knn"
   ]
  },
  {
   "cell_type": "code",
   "execution_count": 200,
   "metadata": {
    "collapsed": true
   },
   "outputs": [],
   "source": [
    "from sklearn.neighbors import KNeighborsRegressor"
   ]
  },
  {
   "cell_type": "code",
   "execution_count": 201,
   "metadata": {
    "collapsed": true
   },
   "outputs": [],
   "source": [
    "clf_knn = KNeighborsRegressor()"
   ]
  },
  {
   "cell_type": "code",
   "execution_count": 202,
   "metadata": {},
   "outputs": [
    {
     "data": {
      "text/plain": [
       "KNeighborsRegressor(algorithm='auto', leaf_size=30, metric='minkowski',\n",
       "          metric_params=None, n_jobs=1, n_neighbors=5, p=2,\n",
       "          weights='uniform')"
      ]
     },
     "execution_count": 202,
     "metadata": {},
     "output_type": "execute_result"
    }
   ],
   "source": [
    "clf_knn.fit( X_train_lin, Y )"
   ]
  },
  {
   "cell_type": "code",
   "execution_count": 203,
   "metadata": {
    "collapsed": true
   },
   "outputs": [],
   "source": [
    "y_pred_knn_train = clf_knn.predict(X_train_lin)"
   ]
  },
  {
   "cell_type": "code",
   "execution_count": 204,
   "metadata": {
    "scrolled": true
   },
   "outputs": [
    {
     "name": "stdout",
     "output_type": "stream",
     "text": [
      "RMSD: 0.14171916173658144\n"
     ]
    }
   ],
   "source": [
    "#Посчитаем RMSD\n",
    "met_cl(Y, y_pred_knn_train)"
   ]
  },
  {
   "cell_type": "code",
   "execution_count": 205,
   "metadata": {
    "collapsed": true
   },
   "outputs": [],
   "source": [
    "#Сделаем сабмит модели построенной по knn для kaggle\n",
    "create_submit(clf_rf, X_test, 'submission_knn.txt')"
   ]
  },
  {
   "cell_type": "markdown",
   "metadata": {},
   "source": [
    "### Обучим bagging"
   ]
  },
  {
   "cell_type": "code",
   "execution_count": 206,
   "metadata": {
    "collapsed": true
   },
   "outputs": [],
   "source": [
    "from sklearn.ensemble import BaggingRegressor"
   ]
  },
  {
   "cell_type": "code",
   "execution_count": 207,
   "metadata": {
    "collapsed": true
   },
   "outputs": [],
   "source": [
    "clf_br = BaggingRegressor()"
   ]
  },
  {
   "cell_type": "code",
   "execution_count": 208,
   "metadata": {},
   "outputs": [
    {
     "data": {
      "text/plain": [
       "BaggingRegressor(base_estimator=None, bootstrap=True,\n",
       "         bootstrap_features=False, max_features=1.0, max_samples=1.0,\n",
       "         n_estimators=10, n_jobs=1, oob_score=False, random_state=None,\n",
       "         verbose=0, warm_start=False)"
      ]
     },
     "execution_count": 208,
     "metadata": {},
     "output_type": "execute_result"
    }
   ],
   "source": [
    "clf_br.fit( X_train_lin, Y )"
   ]
  },
  {
   "cell_type": "code",
   "execution_count": 209,
   "metadata": {
    "collapsed": true
   },
   "outputs": [],
   "source": [
    "y_pred_br_train = clf_br.predict(X_train_lin)"
   ]
  },
  {
   "cell_type": "code",
   "execution_count": 210,
   "metadata": {},
   "outputs": [
    {
     "name": "stdout",
     "output_type": "stream",
     "text": [
      "RMSD: 0.06849391856074924\n"
     ]
    }
   ],
   "source": [
    "#Посчитаем RMSD\n",
    "met_cl(Y, y_pred_br_train)"
   ]
  },
  {
   "cell_type": "code",
   "execution_count": 211,
   "metadata": {
    "collapsed": true
   },
   "outputs": [],
   "source": [
    "#Сделаем сабмит для kaggle\n",
    "create_submit(clf_rf, X_test, 'submission_br.txt')"
   ]
  },
  {
   "cell_type": "markdown",
   "metadata": {},
   "source": [
    "### Построим линейную комбинацию knn и случайного леса\n",
    "\n",
    "Будем строить линейную комбинацию вида\n",
    "\n",
    "$y = \\alpha y_1 + (1 - \\alpha) y_2$\n",
    "\n",
    "Параметр $\\alpha$ переберем по сетке от 0 до 1, оценивая качество на тестовой выборке"
   ]
  },
  {
   "cell_type": "code",
   "execution_count": 212,
   "metadata": {
    "scrolled": true
   },
   "outputs": [
    {
     "name": "stdout",
     "output_type": "stream",
     "text": [
      "[ 0.]\n"
     ]
    },
    {
     "data": {
      "image/png": "[encoded data removed]",
      "text/plain": [
       "<matplotlib.figure.Figure at 0x19f54fc98d0>"
      ]
     },
     "metadata": {
      "image/png": {
       "height": 263,
       "width": 400
      }
     },
     "output_type": "display_data"
    }
   ],
   "source": [
    "aucs = []\n",
    "alpha_space = np.linspace(0, 1, 100)\n",
    "for alpha in alpha_space:\n",
    "    y_pred_weight = alpha * y_pred_knn_train + (1 - alpha) * y_pred_rf_train\n",
    "    aucs.append(sqrt(mean_squared_log_error(Y, y_pred_weight)))\n",
    "aucs = np.array(aucs)    \n",
    "\n",
    "max_ind = np.where(aucs == aucs.max())[0]\n",
    "alpha = alpha_space[max_ind]\n",
    "print(alpha)\n",
    "plt.plot(alpha_space, aucs)\n",
    "plt.plot(alpha_space[max_ind], aucs[max_ind], 'o', c='r')\n",
    "plt.xlabel('alpha')\n",
    "plt.ylabel('auc')\n",
    "\n",
    "#итоговое взвешенное предсказание\n",
    "y_pred_weight = alpha * y_pred_knn_train + (1 - alpha) * y_pred_rf_train"
   ]
  },
  {
   "cell_type": "code",
   "execution_count": 215,
   "metadata": {},
   "outputs": [
    {
     "name": "stdout",
     "output_type": "stream",
     "text": [
      "0.0\n"
     ]
    }
   ],
   "source": [
    "for i in alpha:\n",
    "    print(i)"
   ]
  },
  {
   "cell_type": "markdown",
   "metadata": {},
   "source": [
    "### Формируем сабмит из взвешенных предсказаний для kaggle"
   ]
  },
  {
   "cell_type": "code",
   "execution_count": 213,
   "metadata": {
    "collapsed": true
   },
   "outputs": [],
   "source": [
    "#Формируем строку\n",
    "submussion = 'Id,SalePrice\\n'\n",
    "submussion += \"\\n\".join([\"{},{}\".format(pid, prediction) for pid, prediction in zip(data_test.Id, y_pred_weight)])\n",
    "#Записываем данные в файл\n",
    "with open('submussion_lk.txt', 'w') as file:\n",
    "    file.write(submussion)"
   ]
  },
  {
   "cell_type": "markdown",
   "metadata": {},
   "source": [
    "### Сравним 4 метода (посчитаем RMSD)"
   ]
  },
  {
   "cell_type": "code",
   "execution_count": 166,
   "metadata": {},
   "outputs": [
    {
     "name": "stdout",
     "output_type": "stream",
     "text": [
      "Weighted:\n",
      "RMSD: 0.15425210236884798\n",
      "KNN:\n",
      "RMSD: 0.14171916173658144\n",
      "Bagging regression:\n",
      "RMSD: 0.06846575282079398\n",
      "Random forest:\n",
      "RMSD: 0.1429955608266036\n"
     ]
    }
   ],
   "source": [
    "print('Weighted:')\n",
    "met_cl(Y, y_pred_train)\n",
    "print('KNN:')\n",
    "met_cl(Y, y_pred_knn_train)\n",
    "print('Bagging regression:')\n",
    "met_cl(Y, y_pred_br_train)\n",
    "print('Random forest:')\n",
    "met_cl(Y, y_pred_rf_train)\n"
   ]
  },
  {
   "cell_type": "markdown",
   "metadata": {},
   "source": [
    "### Стэкинг"
   ]
  },
  {
   "cell_type": "markdown",
   "metadata": {},
   "source": [
    "#### Средние значения таргета"
   ]
  },
  {
   "cell_type": "markdown",
   "metadata": {},
   "source": [
    "Создадим новые признаки, на основе категориальных переменных. Каждому уникальному значению $V$ переменной $X_i$ сопоставим среднее значение таргета среди всех объектов, у которых переменная $X_i$ принимает значение $V$ \n",
    "\n",
    "Новый признак со средними значением таргета в категории можно считать за предсказание вер-ти класса 1 простого классификатора \"усреднения\"\n",
    "\n",
    "Опишем класс этого классификатора"
   ]
  },
  {
   "cell_type": "code",
   "execution_count": 78,
   "metadata": {
    "collapsed": true
   },
   "outputs": [],
   "source": [
    "class MeanClassifier():\n",
    "    def __init__(self, col):\n",
    "        self._col = col\n",
    "        \n",
    "    def fit(self, X, y):\n",
    "        self._y_mean = y.mean()\n",
    "        self._means = y.groupby(X[self._col].astype(str)).mean()\n",
    "\n",
    "    def predict(self, X):\n",
    "        new_feature = X[self._col].astype(str)\\\n",
    "            .map(self._means.to_dict())\\\n",
    "            .fillna(self._y_mean)\n",
    "        return new_feature"
   ]
  },
  {
   "cell_type": "markdown",
   "metadata": {},
   "source": [
    "Делаем предсказания по фолдам кросс-валидации. **Главное не допустить утечки информации!**\n",
    "\n",
    "Опишем функцию для стекинга"
   ]
  },
  {
   "cell_type": "code",
   "execution_count": 109,
   "metadata": {
    "collapsed": true
   },
   "outputs": [],
   "source": [
    "def get_meta_features(clf, X_train, y_train, X_test, stack_cv):\n",
    "    meta_train = np.zeros_like(y_train, dtype=float)\n",
    "    meta_test = np.zeros_like(y_test, dtype=float)\n",
    "    \n",
    "    for i, (train_ind, test_ind) in enumerate(stack_cv.split(X_train, y_train)):\n",
    "        \n",
    "        clf.fit(X_train.iloc[train_ind], y_train.iloc[train_ind])\n",
    "        meta_train[test_ind] = clf.predict(X_train.iloc[test_ind])\n",
    "        meta_test += clf.predict(X_test)\n",
    "    \n",
    "    return meta_train, meta_test / stack_cv.n_splits"
   ]
  },
  {
   "cell_type": "markdown",
   "metadata": {},
   "source": [
    "### Стекинг нескольких моделей\n",
    "0. Средние значения\n",
    "1. KNN\n",
    "2. Bagging regression\n",
    "3. Random Forest"
   ]
  },
  {
   "cell_type": "code",
   "execution_count": 110,
   "metadata": {
    "collapsed": true
   },
   "outputs": [],
   "source": [
    "y_test = y_pred_train"
   ]
  },
  {
   "cell_type": "code",
   "execution_count": 113,
   "metadata": {
    "scrolled": true
   },
   "outputs": [
    {
     "name": "stdout",
     "output_type": "stream",
     "text": [
      "mean features...\n"
     ]
    },
    {
     "name": "stderr",
     "output_type": "stream",
     "text": [
      "C:\\Users\\alexe\\Anaconda3\\lib\\site-packages\\sklearn\\model_selection\\_split.py:605: Warning: The least populated class in y has only 1 members, which is too few. The minimum number of members in any class cannot be less than n_splits=5.\n",
      "  % (min_groups, self.n_splits)), Warning)\n"
     ]
    },
    {
     "ename": "KeyError",
     "evalue": "'MSZoning'",
     "output_type": "error",
     "traceback": [
      "\u001b[1;31m---------------------------------------------------------------------------\u001b[0m",
      "\u001b[1;31mKeyError\u001b[0m                                  Traceback (most recent call last)",
      "\u001b[1;32m~\\Anaconda3\\lib\\site-packages\\pandas\\core\\indexes\\base.py\u001b[0m in \u001b[0;36mget_loc\u001b[1;34m(self, key, method, tolerance)\u001b[0m\n\u001b[0;32m   2441\u001b[0m             \u001b[1;32mtry\u001b[0m\u001b[1;33m:\u001b[0m\u001b[1;33m\u001b[0m\u001b[0m\n\u001b[1;32m-> 2442\u001b[1;33m                 \u001b[1;32mreturn\u001b[0m \u001b[0mself\u001b[0m\u001b[1;33m.\u001b[0m\u001b[0m_engine\u001b[0m\u001b[1;33m.\u001b[0m\u001b[0mget_loc\u001b[0m\u001b[1;33m(\u001b[0m\u001b[0mkey\u001b[0m\u001b[1;33m)\u001b[0m\u001b[1;33m\u001b[0m\u001b[0m\n\u001b[0m\u001b[0;32m   2443\u001b[0m             \u001b[1;32mexcept\u001b[0m \u001b[0mKeyError\u001b[0m\u001b[1;33m:\u001b[0m\u001b[1;33m\u001b[0m\u001b[0m\n",
      "\u001b[1;32mpandas\\_libs\\index.pyx\u001b[0m in \u001b[0;36mpandas._libs.index.IndexEngine.get_loc\u001b[1;34m()\u001b[0m\n",
      "\u001b[1;32mpandas\\_libs\\index.pyx\u001b[0m in \u001b[0;36mpandas._libs.index.IndexEngine.get_loc\u001b[1;34m()\u001b[0m\n",
      "\u001b[1;32mpandas\\_libs\\hashtable_class_helper.pxi\u001b[0m in \u001b[0;36mpandas._libs.hashtable.PyObjectHashTable.get_item\u001b[1;34m()\u001b[0m\n",
      "\u001b[1;32mpandas\\_libs\\hashtable_class_helper.pxi\u001b[0m in \u001b[0;36mpandas._libs.hashtable.PyObjectHashTable.get_item\u001b[1;34m()\u001b[0m\n",
      "\u001b[1;31mKeyError\u001b[0m: 'MSZoning'",
      "\nDuring handling of the above exception, another exception occurred:\n",
      "\u001b[1;31mKeyError\u001b[0m                                  Traceback (most recent call last)",
      "\u001b[1;32m<ipython-input-113-3f709c1087f0>\u001b[0m in \u001b[0;36m<module>\u001b[1;34m()\u001b[0m\n\u001b[0;32m     13\u001b[0m     \u001b[0mclf\u001b[0m \u001b[1;33m=\u001b[0m \u001b[0mMeanClassifier\u001b[0m\u001b[1;33m(\u001b[0m\u001b[0mc\u001b[0m\u001b[1;33m)\u001b[0m\u001b[1;33m\u001b[0m\u001b[0m\n\u001b[0;32m     14\u001b[0m \u001b[1;33m\u001b[0m\u001b[0m\n\u001b[1;32m---> 15\u001b[1;33m     \u001b[0mmeta_tr\u001b[0m\u001b[1;33m,\u001b[0m \u001b[0mmeta_te\u001b[0m \u001b[1;33m=\u001b[0m \u001b[0mget_meta_features\u001b[0m\u001b[1;33m(\u001b[0m\u001b[0mclf\u001b[0m\u001b[1;33m,\u001b[0m \u001b[0md_train\u001b[0m\u001b[1;33m,\u001b[0m \u001b[0mY\u001b[0m\u001b[1;33m,\u001b[0m \u001b[0mX_test\u001b[0m\u001b[1;33m,\u001b[0m \u001b[0mstack_cv\u001b[0m\u001b[1;33m)\u001b[0m\u001b[1;33m\u001b[0m\u001b[0m\n\u001b[0m\u001b[0;32m     16\u001b[0m \u001b[1;33m\u001b[0m\u001b[0m\n\u001b[0;32m     17\u001b[0m     \u001b[0mmeta_train\u001b[0m\u001b[1;33m.\u001b[0m\u001b[0mappend\u001b[0m\u001b[1;33m(\u001b[0m\u001b[0mmeta_tr\u001b[0m\u001b[1;33m)\u001b[0m\u001b[1;33m\u001b[0m\u001b[0m\n",
      "\u001b[1;32m<ipython-input-109-21ff90a42ae3>\u001b[0m in \u001b[0;36mget_meta_features\u001b[1;34m(clf, X_train, y_train, X_test, stack_cv)\u001b[0m\n\u001b[0;32m      7\u001b[0m         \u001b[0mclf\u001b[0m\u001b[1;33m.\u001b[0m\u001b[0mfit\u001b[0m\u001b[1;33m(\u001b[0m\u001b[0mX_train\u001b[0m\u001b[1;33m.\u001b[0m\u001b[0miloc\u001b[0m\u001b[1;33m[\u001b[0m\u001b[0mtrain_ind\u001b[0m\u001b[1;33m]\u001b[0m\u001b[1;33m,\u001b[0m \u001b[0my_train\u001b[0m\u001b[1;33m.\u001b[0m\u001b[0miloc\u001b[0m\u001b[1;33m[\u001b[0m\u001b[0mtrain_ind\u001b[0m\u001b[1;33m]\u001b[0m\u001b[1;33m)\u001b[0m\u001b[1;33m\u001b[0m\u001b[0m\n\u001b[0;32m      8\u001b[0m         \u001b[0mmeta_train\u001b[0m\u001b[1;33m[\u001b[0m\u001b[0mtest_ind\u001b[0m\u001b[1;33m]\u001b[0m \u001b[1;33m=\u001b[0m \u001b[0mclf\u001b[0m\u001b[1;33m.\u001b[0m\u001b[0mpredict\u001b[0m\u001b[1;33m(\u001b[0m\u001b[0mX_train\u001b[0m\u001b[1;33m.\u001b[0m\u001b[0miloc\u001b[0m\u001b[1;33m[\u001b[0m\u001b[0mtest_ind\u001b[0m\u001b[1;33m]\u001b[0m\u001b[1;33m)\u001b[0m\u001b[1;33m\u001b[0m\u001b[0m\n\u001b[1;32m----> 9\u001b[1;33m         \u001b[0mmeta_test\u001b[0m \u001b[1;33m+=\u001b[0m \u001b[0mclf\u001b[0m\u001b[1;33m.\u001b[0m\u001b[0mpredict\u001b[0m\u001b[1;33m(\u001b[0m\u001b[0mX_test\u001b[0m\u001b[1;33m)\u001b[0m\u001b[1;33m\u001b[0m\u001b[0m\n\u001b[0m\u001b[0;32m     10\u001b[0m \u001b[1;33m\u001b[0m\u001b[0m\n\u001b[0;32m     11\u001b[0m     \u001b[1;32mreturn\u001b[0m \u001b[0mmeta_train\u001b[0m\u001b[1;33m,\u001b[0m \u001b[0mmeta_test\u001b[0m \u001b[1;33m/\u001b[0m \u001b[0mstack_cv\u001b[0m\u001b[1;33m.\u001b[0m\u001b[0mn_splits\u001b[0m\u001b[1;33m\u001b[0m\u001b[0m\n",
      "\u001b[1;32m<ipython-input-78-3fd8d65600d7>\u001b[0m in \u001b[0;36mpredict\u001b[1;34m(self, X)\u001b[0m\n\u001b[0;32m      8\u001b[0m \u001b[1;33m\u001b[0m\u001b[0m\n\u001b[0;32m      9\u001b[0m     \u001b[1;32mdef\u001b[0m \u001b[0mpredict\u001b[0m\u001b[1;33m(\u001b[0m\u001b[0mself\u001b[0m\u001b[1;33m,\u001b[0m \u001b[0mX\u001b[0m\u001b[1;33m)\u001b[0m\u001b[1;33m:\u001b[0m\u001b[1;33m\u001b[0m\u001b[0m\n\u001b[1;32m---> 10\u001b[1;33m         \u001b[0mnew_feature\u001b[0m \u001b[1;33m=\u001b[0m \u001b[0mX\u001b[0m\u001b[1;33m[\u001b[0m\u001b[0mself\u001b[0m\u001b[1;33m.\u001b[0m\u001b[0m_col\u001b[0m\u001b[1;33m]\u001b[0m\u001b[1;33m.\u001b[0m\u001b[0mastype\u001b[0m\u001b[1;33m(\u001b[0m\u001b[0mstr\u001b[0m\u001b[1;33m)\u001b[0m            \u001b[1;33m.\u001b[0m\u001b[0mmap\u001b[0m\u001b[1;33m(\u001b[0m\u001b[0mself\u001b[0m\u001b[1;33m.\u001b[0m\u001b[0m_means\u001b[0m\u001b[1;33m.\u001b[0m\u001b[0mto_dict\u001b[0m\u001b[1;33m(\u001b[0m\u001b[1;33m)\u001b[0m\u001b[1;33m)\u001b[0m            \u001b[1;33m.\u001b[0m\u001b[0mfillna\u001b[0m\u001b[1;33m(\u001b[0m\u001b[0mself\u001b[0m\u001b[1;33m.\u001b[0m\u001b[0m_y_mean\u001b[0m\u001b[1;33m)\u001b[0m\u001b[1;33m\u001b[0m\u001b[0m\n\u001b[0m\u001b[0;32m     11\u001b[0m         \u001b[1;32mreturn\u001b[0m \u001b[0mnew_feature\u001b[0m\u001b[1;33m\u001b[0m\u001b[0m\n",
      "\u001b[1;32m~\\Anaconda3\\lib\\site-packages\\pandas\\core\\frame.py\u001b[0m in \u001b[0;36m__getitem__\u001b[1;34m(self, key)\u001b[0m\n\u001b[0;32m   1962\u001b[0m             \u001b[1;32mreturn\u001b[0m \u001b[0mself\u001b[0m\u001b[1;33m.\u001b[0m\u001b[0m_getitem_multilevel\u001b[0m\u001b[1;33m(\u001b[0m\u001b[0mkey\u001b[0m\u001b[1;33m)\u001b[0m\u001b[1;33m\u001b[0m\u001b[0m\n\u001b[0;32m   1963\u001b[0m         \u001b[1;32melse\u001b[0m\u001b[1;33m:\u001b[0m\u001b[1;33m\u001b[0m\u001b[0m\n\u001b[1;32m-> 1964\u001b[1;33m             \u001b[1;32mreturn\u001b[0m \u001b[0mself\u001b[0m\u001b[1;33m.\u001b[0m\u001b[0m_getitem_column\u001b[0m\u001b[1;33m(\u001b[0m\u001b[0mkey\u001b[0m\u001b[1;33m)\u001b[0m\u001b[1;33m\u001b[0m\u001b[0m\n\u001b[0m\u001b[0;32m   1965\u001b[0m \u001b[1;33m\u001b[0m\u001b[0m\n\u001b[0;32m   1966\u001b[0m     \u001b[1;32mdef\u001b[0m \u001b[0m_getitem_column\u001b[0m\u001b[1;33m(\u001b[0m\u001b[0mself\u001b[0m\u001b[1;33m,\u001b[0m \u001b[0mkey\u001b[0m\u001b[1;33m)\u001b[0m\u001b[1;33m:\u001b[0m\u001b[1;33m\u001b[0m\u001b[0m\n",
      "\u001b[1;32m~\\Anaconda3\\lib\\site-packages\\pandas\\core\\frame.py\u001b[0m in \u001b[0;36m_getitem_column\u001b[1;34m(self, key)\u001b[0m\n\u001b[0;32m   1969\u001b[0m         \u001b[1;31m# get column\u001b[0m\u001b[1;33m\u001b[0m\u001b[1;33m\u001b[0m\u001b[0m\n\u001b[0;32m   1970\u001b[0m         \u001b[1;32mif\u001b[0m \u001b[0mself\u001b[0m\u001b[1;33m.\u001b[0m\u001b[0mcolumns\u001b[0m\u001b[1;33m.\u001b[0m\u001b[0mis_unique\u001b[0m\u001b[1;33m:\u001b[0m\u001b[1;33m\u001b[0m\u001b[0m\n\u001b[1;32m-> 1971\u001b[1;33m             \u001b[1;32mreturn\u001b[0m \u001b[0mself\u001b[0m\u001b[1;33m.\u001b[0m\u001b[0m_get_item_cache\u001b[0m\u001b[1;33m(\u001b[0m\u001b[0mkey\u001b[0m\u001b[1;33m)\u001b[0m\u001b[1;33m\u001b[0m\u001b[0m\n\u001b[0m\u001b[0;32m   1972\u001b[0m \u001b[1;33m\u001b[0m\u001b[0m\n\u001b[0;32m   1973\u001b[0m         \u001b[1;31m# duplicate columns & possible reduce dimensionality\u001b[0m\u001b[1;33m\u001b[0m\u001b[1;33m\u001b[0m\u001b[0m\n",
      "\u001b[1;32m~\\Anaconda3\\lib\\site-packages\\pandas\\core\\generic.py\u001b[0m in \u001b[0;36m_get_item_cache\u001b[1;34m(self, item)\u001b[0m\n\u001b[0;32m   1643\u001b[0m         \u001b[0mres\u001b[0m \u001b[1;33m=\u001b[0m \u001b[0mcache\u001b[0m\u001b[1;33m.\u001b[0m\u001b[0mget\u001b[0m\u001b[1;33m(\u001b[0m\u001b[0mitem\u001b[0m\u001b[1;33m)\u001b[0m\u001b[1;33m\u001b[0m\u001b[0m\n\u001b[0;32m   1644\u001b[0m         \u001b[1;32mif\u001b[0m \u001b[0mres\u001b[0m \u001b[1;32mis\u001b[0m \u001b[1;32mNone\u001b[0m\u001b[1;33m:\u001b[0m\u001b[1;33m\u001b[0m\u001b[0m\n\u001b[1;32m-> 1645\u001b[1;33m             \u001b[0mvalues\u001b[0m \u001b[1;33m=\u001b[0m \u001b[0mself\u001b[0m\u001b[1;33m.\u001b[0m\u001b[0m_data\u001b[0m\u001b[1;33m.\u001b[0m\u001b[0mget\u001b[0m\u001b[1;33m(\u001b[0m\u001b[0mitem\u001b[0m\u001b[1;33m)\u001b[0m\u001b[1;33m\u001b[0m\u001b[0m\n\u001b[0m\u001b[0;32m   1646\u001b[0m             \u001b[0mres\u001b[0m \u001b[1;33m=\u001b[0m \u001b[0mself\u001b[0m\u001b[1;33m.\u001b[0m\u001b[0m_box_item_values\u001b[0m\u001b[1;33m(\u001b[0m\u001b[0mitem\u001b[0m\u001b[1;33m,\u001b[0m \u001b[0mvalues\u001b[0m\u001b[1;33m)\u001b[0m\u001b[1;33m\u001b[0m\u001b[0m\n\u001b[0;32m   1647\u001b[0m             \u001b[0mcache\u001b[0m\u001b[1;33m[\u001b[0m\u001b[0mitem\u001b[0m\u001b[1;33m]\u001b[0m \u001b[1;33m=\u001b[0m \u001b[0mres\u001b[0m\u001b[1;33m\u001b[0m\u001b[0m\n",
      "\u001b[1;32m~\\Anaconda3\\lib\\site-packages\\pandas\\core\\internals.py\u001b[0m in \u001b[0;36mget\u001b[1;34m(self, item, fastpath)\u001b[0m\n\u001b[0;32m   3588\u001b[0m \u001b[1;33m\u001b[0m\u001b[0m\n\u001b[0;32m   3589\u001b[0m             \u001b[1;32mif\u001b[0m \u001b[1;32mnot\u001b[0m \u001b[0misnull\u001b[0m\u001b[1;33m(\u001b[0m\u001b[0mitem\u001b[0m\u001b[1;33m)\u001b[0m\u001b[1;33m:\u001b[0m\u001b[1;33m\u001b[0m\u001b[0m\n\u001b[1;32m-> 3590\u001b[1;33m                 \u001b[0mloc\u001b[0m \u001b[1;33m=\u001b[0m \u001b[0mself\u001b[0m\u001b[1;33m.\u001b[0m\u001b[0mitems\u001b[0m\u001b[1;33m.\u001b[0m\u001b[0mget_loc\u001b[0m\u001b[1;33m(\u001b[0m\u001b[0mitem\u001b[0m\u001b[1;33m)\u001b[0m\u001b[1;33m\u001b[0m\u001b[0m\n\u001b[0m\u001b[0;32m   3591\u001b[0m             \u001b[1;32melse\u001b[0m\u001b[1;33m:\u001b[0m\u001b[1;33m\u001b[0m\u001b[0m\n\u001b[0;32m   3592\u001b[0m                 \u001b[0mindexer\u001b[0m \u001b[1;33m=\u001b[0m \u001b[0mnp\u001b[0m\u001b[1;33m.\u001b[0m\u001b[0marange\u001b[0m\u001b[1;33m(\u001b[0m\u001b[0mlen\u001b[0m\u001b[1;33m(\u001b[0m\u001b[0mself\u001b[0m\u001b[1;33m.\u001b[0m\u001b[0mitems\u001b[0m\u001b[1;33m)\u001b[0m\u001b[1;33m)\u001b[0m\u001b[1;33m[\u001b[0m\u001b[0misnull\u001b[0m\u001b[1;33m(\u001b[0m\u001b[0mself\u001b[0m\u001b[1;33m.\u001b[0m\u001b[0mitems\u001b[0m\u001b[1;33m)\u001b[0m\u001b[1;33m]\u001b[0m\u001b[1;33m\u001b[0m\u001b[0m\n",
      "\u001b[1;32m~\\Anaconda3\\lib\\site-packages\\pandas\\core\\indexes\\base.py\u001b[0m in \u001b[0;36mget_loc\u001b[1;34m(self, key, method, tolerance)\u001b[0m\n\u001b[0;32m   2442\u001b[0m                 \u001b[1;32mreturn\u001b[0m \u001b[0mself\u001b[0m\u001b[1;33m.\u001b[0m\u001b[0m_engine\u001b[0m\u001b[1;33m.\u001b[0m\u001b[0mget_loc\u001b[0m\u001b[1;33m(\u001b[0m\u001b[0mkey\u001b[0m\u001b[1;33m)\u001b[0m\u001b[1;33m\u001b[0m\u001b[0m\n\u001b[0;32m   2443\u001b[0m             \u001b[1;32mexcept\u001b[0m \u001b[0mKeyError\u001b[0m\u001b[1;33m:\u001b[0m\u001b[1;33m\u001b[0m\u001b[0m\n\u001b[1;32m-> 2444\u001b[1;33m                 \u001b[1;32mreturn\u001b[0m \u001b[0mself\u001b[0m\u001b[1;33m.\u001b[0m\u001b[0m_engine\u001b[0m\u001b[1;33m.\u001b[0m\u001b[0mget_loc\u001b[0m\u001b[1;33m(\u001b[0m\u001b[0mself\u001b[0m\u001b[1;33m.\u001b[0m\u001b[0m_maybe_cast_indexer\u001b[0m\u001b[1;33m(\u001b[0m\u001b[0mkey\u001b[0m\u001b[1;33m)\u001b[0m\u001b[1;33m)\u001b[0m\u001b[1;33m\u001b[0m\u001b[0m\n\u001b[0m\u001b[0;32m   2445\u001b[0m \u001b[1;33m\u001b[0m\u001b[0m\n\u001b[0;32m   2446\u001b[0m         \u001b[0mindexer\u001b[0m \u001b[1;33m=\u001b[0m \u001b[0mself\u001b[0m\u001b[1;33m.\u001b[0m\u001b[0mget_indexer\u001b[0m\u001b[1;33m(\u001b[0m\u001b[1;33m[\u001b[0m\u001b[0mkey\u001b[0m\u001b[1;33m]\u001b[0m\u001b[1;33m,\u001b[0m \u001b[0mmethod\u001b[0m\u001b[1;33m=\u001b[0m\u001b[0mmethod\u001b[0m\u001b[1;33m,\u001b[0m \u001b[0mtolerance\u001b[0m\u001b[1;33m=\u001b[0m\u001b[0mtolerance\u001b[0m\u001b[1;33m)\u001b[0m\u001b[1;33m\u001b[0m\u001b[0m\n",
      "\u001b[1;32mpandas\\_libs\\index.pyx\u001b[0m in \u001b[0;36mpandas._libs.index.IndexEngine.get_loc\u001b[1;34m()\u001b[0m\n",
      "\u001b[1;32mpandas\\_libs\\index.pyx\u001b[0m in \u001b[0;36mpandas._libs.index.IndexEngine.get_loc\u001b[1;34m()\u001b[0m\n",
      "\u001b[1;32mpandas\\_libs\\hashtable_class_helper.pxi\u001b[0m in \u001b[0;36mpandas._libs.hashtable.PyObjectHashTable.get_item\u001b[1;34m()\u001b[0m\n",
      "\u001b[1;32mpandas\\_libs\\hashtable_class_helper.pxi\u001b[0m in \u001b[0;36mpandas._libs.hashtable.PyObjectHashTable.get_item\u001b[1;34m()\u001b[0m\n",
      "\u001b[1;31mKeyError\u001b[0m: 'MSZoning'"
     ]
    }
   ],
   "source": [
    "from sklearn.model_selection import StratifiedKFold\n",
    "\n",
    "stack_cv = StratifiedKFold(n_splits=5, random_state=555)\n",
    "\n",
    "meta_train = []\n",
    "meta_test = []\n",
    "col_names = []\n",
    "\n",
    "\n",
    "print('mean features...')\n",
    "\n",
    "for c in cat_nunique.index.tolist():\n",
    "    clf = MeanClassifier(c)\n",
    "    \n",
    "    meta_tr, meta_te = get_meta_features(clf, d_train, Y, d_test, stack_cv)\n",
    "\n",
    "    meta_train.append(meta_tr)\n",
    "    meta_test.append(meta_te)\n",
    "    col_names.append('mean_pred_{}'.format(c))\n",
    "\n",
    "\n",
    "print('BR features...')\n",
    "meta_tr = get_meta_features(clf_br, X_train_lin, Y, X_test_lin, stack_cv)\n",
    "\n",
    "meta_train.append(meta_tr)\n",
    "meta_test.append(meta_te)\n",
    "col_names.append('br_pred')\n",
    "\n",
    "print('KNN features...')\n",
    "meta_tr = get_meta_features(clf_knn, X_train_lin, Y, X_test_lin, stack_cv)\n",
    "\n",
    "meta_train.append(meta_tr)\n",
    "meta_test.append(meta_te)\n",
    "col_names.append('knn_pred')\n",
    "\n",
    "print('RF features...')\n",
    "meta_tr = get_meta_features(clf_rf, X_train, Y, X_test, stack_cv)\n",
    "\n",
    "meta_train.append(meta_tr)\n",
    "meta_test.append(meta_te)\n",
    "col_names.append('rf_pred')\n",
    "\n",
    "print('Finish')"
   ]
  },
  {
   "cell_type": "code",
   "execution_count": 101,
   "metadata": {
    "collapsed": true
   },
   "outputs": [],
   "source": [
    "X_meta_train = pd.DataFrame(np.stack(meta_train, axis=1), columns=col_names)\n",
    "X_meta_test = pd.DataFrame(np.stack(meta_test, axis=1), columns=col_names)"
   ]
  },
  {
   "cell_type": "markdown",
   "metadata": {},
   "source": [
    "#### Стэкинг мета-признаков с помощью Random Forest"
   ]
  },
  {
   "cell_type": "markdown",
   "metadata": {},
   "source": [
    "Используем случайный лес в качестве алгоритма второго уровня"
   ]
  },
  {
   "cell_type": "code",
   "execution_count": 102,
   "metadata": {},
   "outputs": [
    {
     "data": {
      "text/plain": [
       "RandomForestRegressor(bootstrap=True, criterion='mse', max_depth=None,\n",
       "           max_features='auto', max_leaf_nodes=None,\n",
       "           min_impurity_decrease=0.0, min_impurity_split=None,\n",
       "           min_samples_leaf=1, min_samples_split=2,\n",
       "           min_weight_fraction_leaf=0.0, n_estimators=10, n_jobs=1,\n",
       "           oob_score=False, random_state=None, verbose=0, warm_start=False)"
      ]
     },
     "execution_count": 102,
     "metadata": {},
     "output_type": "execute_result"
    }
   ],
   "source": [
    "clf_rf_meta = RandomForestRegressor()\n",
    "\n",
    "clf_rf_meta.fit(X_meta_train, Y)"
   ]
  },
  {
   "cell_type": "code",
   "execution_count": 103,
   "metadata": {
    "collapsed": true
   },
   "outputs": [],
   "source": [
    "y_pred_meta_train = clf_rf_meta.predict(X_meta_train)\n",
    "y_pred_meta_test = clf_rf_meta.predict(X_meta_test)"
   ]
  },
  {
   "cell_type": "code",
   "execution_count": 105,
   "metadata": {
    "scrolled": true
   },
   "outputs": [
    {
     "name": "stdout",
     "output_type": "stream",
     "text": [
      "RMSD: 0.06263032802225703\n"
     ]
    }
   ],
   "source": [
    "met_cl(Y, y_pred_meta_train)"
   ]
  },
  {
   "cell_type": "code",
   "execution_count": 106,
   "metadata": {},
   "outputs": [
    {
     "ename": "ValueError",
     "evalue": "Number of features of the model must match the input. Model n_features is 46 and input n_features is 286 ",
     "output_type": "error",
     "traceback": [
      "\u001b[1;31m---------------------------------------------------------------------------\u001b[0m",
      "\u001b[1;31mValueError\u001b[0m                                Traceback (most recent call last)",
      "\u001b[1;32m<ipython-input-106-ec5d9ca78d9c>\u001b[0m in \u001b[0;36m<module>\u001b[1;34m()\u001b[0m\n\u001b[1;32m----> 1\u001b[1;33m \u001b[0mcreate_submit\u001b[0m\u001b[1;33m(\u001b[0m\u001b[0mclf_lr_meta\u001b[0m\u001b[1;33m,\u001b[0m \u001b[0mX_test\u001b[0m\u001b[1;33m,\u001b[0m \u001b[1;34m'submission_ens.txt'\u001b[0m\u001b[1;33m)\u001b[0m\u001b[1;33m\u001b[0m\u001b[0m\n\u001b[0m",
      "\u001b[1;32m<ipython-input-43-47c5b6cd3d11>\u001b[0m in \u001b[0;36mcreate_submit\u001b[1;34m(clf, X, fileName)\u001b[0m\n\u001b[0;32m      1\u001b[0m \u001b[1;32mdef\u001b[0m \u001b[0mcreate_submit\u001b[0m \u001b[1;33m(\u001b[0m\u001b[0mclf\u001b[0m\u001b[1;33m,\u001b[0m \u001b[0mX\u001b[0m\u001b[1;33m,\u001b[0m \u001b[0mfileName\u001b[0m\u001b[1;33m)\u001b[0m\u001b[1;33m:\u001b[0m\u001b[1;33m\u001b[0m\u001b[0m\n\u001b[0;32m      2\u001b[0m     \u001b[1;31m#Делаем предсказания\u001b[0m\u001b[1;33m\u001b[0m\u001b[1;33m\u001b[0m\u001b[0m\n\u001b[1;32m----> 3\u001b[1;33m     \u001b[0mpredictions\u001b[0m \u001b[1;33m=\u001b[0m \u001b[0mclf\u001b[0m\u001b[1;33m.\u001b[0m\u001b[0mpredict\u001b[0m\u001b[1;33m(\u001b[0m\u001b[0mX\u001b[0m\u001b[1;33m)\u001b[0m\u001b[1;33m\u001b[0m\u001b[0m\n\u001b[0m\u001b[0;32m      4\u001b[0m     \u001b[1;31m#Формируем строку\u001b[0m\u001b[1;33m\u001b[0m\u001b[1;33m\u001b[0m\u001b[0m\n\u001b[0;32m      5\u001b[0m     \u001b[0msubmussion\u001b[0m \u001b[1;33m=\u001b[0m \u001b[1;34m'Id,SalePrice\\n'\u001b[0m\u001b[1;33m\u001b[0m\u001b[0m\n",
      "\u001b[1;32m~\\Anaconda3\\lib\\site-packages\\sklearn\\ensemble\\forest.py\u001b[0m in \u001b[0;36mpredict\u001b[1;34m(self, X)\u001b[0m\n\u001b[0;32m    679\u001b[0m         \u001b[0mcheck_is_fitted\u001b[0m\u001b[1;33m(\u001b[0m\u001b[0mself\u001b[0m\u001b[1;33m,\u001b[0m \u001b[1;34m'estimators_'\u001b[0m\u001b[1;33m)\u001b[0m\u001b[1;33m\u001b[0m\u001b[0m\n\u001b[0;32m    680\u001b[0m         \u001b[1;31m# Check data\u001b[0m\u001b[1;33m\u001b[0m\u001b[1;33m\u001b[0m\u001b[0m\n\u001b[1;32m--> 681\u001b[1;33m         \u001b[0mX\u001b[0m \u001b[1;33m=\u001b[0m \u001b[0mself\u001b[0m\u001b[1;33m.\u001b[0m\u001b[0m_validate_X_predict\u001b[0m\u001b[1;33m(\u001b[0m\u001b[0mX\u001b[0m\u001b[1;33m)\u001b[0m\u001b[1;33m\u001b[0m\u001b[0m\n\u001b[0m\u001b[0;32m    682\u001b[0m \u001b[1;33m\u001b[0m\u001b[0m\n\u001b[0;32m    683\u001b[0m         \u001b[1;31m# Assign chunk of trees to jobs\u001b[0m\u001b[1;33m\u001b[0m\u001b[1;33m\u001b[0m\u001b[0m\n",
      "\u001b[1;32m~\\Anaconda3\\lib\\site-packages\\sklearn\\ensemble\\forest.py\u001b[0m in \u001b[0;36m_validate_X_predict\u001b[1;34m(self, X)\u001b[0m\n\u001b[0;32m    355\u001b[0m                                  \"call `fit` before exploiting the model.\")\n\u001b[0;32m    356\u001b[0m \u001b[1;33m\u001b[0m\u001b[0m\n\u001b[1;32m--> 357\u001b[1;33m         \u001b[1;32mreturn\u001b[0m \u001b[0mself\u001b[0m\u001b[1;33m.\u001b[0m\u001b[0mestimators_\u001b[0m\u001b[1;33m[\u001b[0m\u001b[1;36m0\u001b[0m\u001b[1;33m]\u001b[0m\u001b[1;33m.\u001b[0m\u001b[0m_validate_X_predict\u001b[0m\u001b[1;33m(\u001b[0m\u001b[0mX\u001b[0m\u001b[1;33m,\u001b[0m \u001b[0mcheck_input\u001b[0m\u001b[1;33m=\u001b[0m\u001b[1;32mTrue\u001b[0m\u001b[1;33m)\u001b[0m\u001b[1;33m\u001b[0m\u001b[0m\n\u001b[0m\u001b[0;32m    358\u001b[0m \u001b[1;33m\u001b[0m\u001b[0m\n\u001b[0;32m    359\u001b[0m     \u001b[1;33m@\u001b[0m\u001b[0mproperty\u001b[0m\u001b[1;33m\u001b[0m\u001b[0m\n",
      "\u001b[1;32m~\\Anaconda3\\lib\\site-packages\\sklearn\\tree\\tree.py\u001b[0m in \u001b[0;36m_validate_X_predict\u001b[1;34m(self, X, check_input)\u001b[0m\n\u001b[0;32m    382\u001b[0m                              \u001b[1;34m\"match the input. Model n_features is %s and \"\u001b[0m\u001b[1;33m\u001b[0m\u001b[0m\n\u001b[0;32m    383\u001b[0m                              \u001b[1;34m\"input n_features is %s \"\u001b[0m\u001b[1;33m\u001b[0m\u001b[0m\n\u001b[1;32m--> 384\u001b[1;33m                              % (self.n_features_, n_features))\n\u001b[0m\u001b[0;32m    385\u001b[0m \u001b[1;33m\u001b[0m\u001b[0m\n\u001b[0;32m    386\u001b[0m         \u001b[1;32mreturn\u001b[0m \u001b[0mX\u001b[0m\u001b[1;33m\u001b[0m\u001b[0m\n",
      "\u001b[1;31mValueError\u001b[0m: Number of features of the model must match the input. Model n_features is 46 and input n_features is 286 "
     ]
    }
   ],
   "source": [
    "create_submit(clf_lr_meta, X_test, 'submission_ens.txt')"
   ]
  },
  {
   "cell_type": "markdown",
   "metadata": {},
   "source": [
    "#### Посмотрим на коэффициенты объединяющей линейной модели"
   ]
  },
  {
   "cell_type": "markdown",
   "metadata": {},
   "source": [
    "Получим интерпретацию общей модели"
   ]
  },
  {
   "cell_type": "code",
   "execution_count": 473,
   "metadata": {},
   "outputs": [
    {
     "ename": "AttributeError",
     "evalue": "'RandomForestRegressor' object has no attribute 'coef_'",
     "output_type": "error",
     "traceback": [
      "\u001b[1;31m---------------------------------------------------------------------------\u001b[0m",
      "\u001b[1;31mAttributeError\u001b[0m                            Traceback (most recent call last)",
      "\u001b[1;32m<ipython-input-473-c430a06cb709>\u001b[0m in \u001b[0;36m<module>\u001b[1;34m()\u001b[0m\n\u001b[1;32m----> 1\u001b[1;33m \u001b[0mpd\u001b[0m\u001b[1;33m.\u001b[0m\u001b[0mSeries\u001b[0m\u001b[1;33m(\u001b[0m\u001b[0mclf_lr_meta\u001b[0m\u001b[1;33m.\u001b[0m\u001b[0mcoef_\u001b[0m\u001b[1;33m.\u001b[0m\u001b[0mflatten\u001b[0m\u001b[1;33m(\u001b[0m\u001b[1;33m)\u001b[0m\u001b[1;33m,\u001b[0m \u001b[0mindex\u001b[0m\u001b[1;33m=\u001b[0m\u001b[0mX_meta_train\u001b[0m\u001b[1;33m.\u001b[0m\u001b[0mcolumns\u001b[0m\u001b[1;33m)\u001b[0m\u001b[1;33m.\u001b[0m\u001b[0mplot\u001b[0m\u001b[1;33m(\u001b[0m\u001b[0mkind\u001b[0m\u001b[1;33m=\u001b[0m\u001b[1;34m'barh'\u001b[0m\u001b[1;33m)\u001b[0m\u001b[1;33m\u001b[0m\u001b[0m\n\u001b[0m",
      "\u001b[1;31mAttributeError\u001b[0m: 'RandomForestRegressor' object has no attribute 'coef_'"
     ]
    }
   ],
   "source": [
    "pd.Series(clf_lr_meta.coef_.flatten(), index=X_meta_train.columns).plot(kind='barh')"
   ]
  },
  {
   "cell_type": "markdown",
   "metadata": {},
   "source": [
    "# Домашняя работа\n",
    "\n",
    "#### Простая\n",
    "1. Теперь решаем задачу регрессии - предскажем цены на недвижимость. Использовать датасет https://www.kaggle.com/c/house-prices-advanced-regression-techniques/data (train.csv)\n",
    "2. Данных немного, поэтому необходимо использовать 10-fold кросс-валидацию для оценки качества моделей\n",
    "3. Построить случайный лес, вывести важность признаков\n",
    "4. Обучить стекинг как минимум 3х моделей, использовать хотя бы 1 линейную модель и 1 нелинейную\n",
    "5. Для валидации модели 2-го уровня использовать отдельный hold-out датасет, как на занятии\n",
    "6. Показать, что использование ансамблей моделей действительно улучшает качество (стекинг vs другие модели сравнивать на hold-out)\n",
    "7. В качестве решения:\n",
    "    Jupyter notebook с кодом, комментариями и графиками\n",
    "\n",
    "#### Средняя\n",
    "0. Все то же, что и в части 1, плюс:\n",
    "1. Попробовать другие оценки важности переменных, например Boruta\n",
    "http://danielhomola.com/2015/05/08/borutapy-an-all-relevant-feature-selection-method/#comments\n",
    "3. Изучить extremely randomized trees (ExtraTreesRegressor в sklearn), сравнить с Random Forest\n",
    "4. Проводить настройку гиперпараметров для моделей первого уровня в стекинге (перебирать руками и смотреть на CV или по сетке: GridSearchCV, RandomizedSearchCV)\n",
    "5. Попробовать другие алгоритмы второго уровня\n",
    "6. Сделать сабмиты на kaggle (минимум 3: отдельные модели vs стекинг), сравнить качество на локальной валидации и на leaderboard\n",
    "7. В качестве решения:\n",
    "    * Jupyter notebook с кодом, комментариями и графиками\n",
    "    * сабмит на kaggle (ник на leaderboard)"
   ]
  }
 ],
 "metadata": {
  "kernelspec": {
   "display_name": "Python 3",
   "language": "python",
   "name": "python3"
  },
  "language_info": {
   "codemirror_mode": {
    "name": "ipython",
    "version": 3
   },
   "file_extension": ".py",
   "mimetype": "text/x-python",
   "name": "python",
   "nbconvert_exporter": "python",
   "pygments_lexer": "ipython3",
   "version": "3.6.3"
  },
  "toc": {
   "nav_menu": {},
   "number_sections": false,
   "sideBar": true,
   "skip_h1_title": false,
   "toc_cell": false,
   "toc_position": {
    "height": "calc(100% - 180px)",
    "left": "10px",
    "top": "150px",
    "width": "170px"
   },
   "toc_section_display": "block",
   "toc_window_display": true
  }
 },
 "nbformat": 4,
 "nbformat_minor": 2
}
