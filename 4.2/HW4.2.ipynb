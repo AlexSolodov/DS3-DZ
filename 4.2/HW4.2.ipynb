{
 "cells": [
  {
   "cell_type": "code",
   "execution_count": 1,
   "metadata": {
    "slideshow": {
     "slide_type": "slide"
    }
   },
   "outputs": [],
   "source": [
    "%matplotlib inline\n",
    "import matplotlib.pyplot as plt\n",
    "import seaborn as sns\n",
    "\n",
    "# все любят картиночки:)"
   ]
  },
  {
   "cell_type": "code",
   "execution_count": 2,
   "metadata": {
    "slideshow": {
     "slide_type": "fragment"
    }
   },
   "outputs": [],
   "source": [
    "# docker контейнер уже должен содержать в себе скачанные данные\n",
    "# скачаны отсюда: https://grouplens.org/datasets/movielens/\n",
    "DATA_DIR = \"/data/ml-latest\""
   ]
  },
  {
   "cell_type": "code",
   "execution_count": 3,
   "metadata": {
    "slideshow": {
     "slide_type": "fragment"
    }
   },
   "outputs": [
    {
     "name": "stdout",
     "output_type": "stream",
     "text": [
      "README.txt\t   genome-tags.csv  movies.csv\t tags.csv     tf_idf.parquet\r\n",
      "genome-scores.csv  links.csv\t    ratings.csv  tf_idf.json\r\n"
     ]
    }
   ],
   "source": [
    "# смотрим, какие файлы у нас есть\n",
    "!ls {DATA_DIR}"
   ]
  },
  {
   "cell_type": "code",
   "execution_count": 4,
   "metadata": {
    "scrolled": false,
    "slideshow": {
     "slide_type": "fragment"
    }
   },
   "outputs": [
    {
     "name": "stdout",
     "output_type": "stream",
     "text": [
      "userId,movieId,rating,timestamp\r",
      "\r\n",
      "1,110,1.0,1425941529\r",
      "\r\n",
      "1,147,4.5,1425942435\r",
      "\r\n",
      "1,858,5.0,1425941523\r",
      "\r\n",
      "1,1221,5.0,1425941546\r",
      "\r\n",
      "1,1246,5.0,1425941556\r",
      "\r\n",
      "1,1968,4.0,1425942148\r",
      "\r\n",
      "1,2762,4.5,1425941300\r",
      "\r\n",
      "1,2918,5.0,1425941593\r",
      "\r\n",
      "1,2959,4.0,1425941601\r",
      "\r\n"
     ]
    }
   ],
   "source": [
    "# обратим внимание на файл с оценками\n",
    "!head {DATA_DIR}/ratings.csv"
   ]
  },
  {
   "cell_type": "code",
   "execution_count": 5,
   "metadata": {
    "slideshow": {
     "slide_type": "slide"
    }
   },
   "outputs": [],
   "source": [
    "# для подготовки данных будем использвоать Apache Spark\n",
    "# (популярный фреймворк распределённых вычислений)\n",
    "from pyspark.sql import SparkSession\n",
    "\n",
    "spark = (\n",
    "    SparkSession\n",
    "    .builder\n",
    "    # если виртуальной машине нельзя добавить памяти, можно использовать меньше\n",
    "    .config(\"spark.driver.memory\", \"8g\")\n",
    "    # можно явно количество ядер, которые будет использовать Spark\n",
    "    # либо поставить звёздочку для всех доступных виртуальной машине\n",
    "    .master(\"local[*]\")\n",
    "    .getOrCreate()\n",
    ")"
   ]
  },
  {
   "cell_type": "code",
   "execution_count": 6,
   "metadata": {
    "slideshow": {
     "slide_type": "slide"
    }
   },
   "outputs": [],
   "source": [
    "# считываем данные из CSV\n",
    "# и преобразуем время проставления оценки из целого числа в дату со временем\n",
    "import os\n",
    "import pyspark.sql.functions as sql_func\n",
    "\n",
    "ratings = (\n",
    "    spark\n",
    "    .read\n",
    "    .csv(\n",
    "        os.path.join(DATA_DIR, \"ratings.csv\"),\n",
    "        header=True,\n",
    "        inferSchema=True\n",
    "    )\n",
    "    # если используется меньше памяти,\n",
    "    # то здесь можно взять не все данные, а а небольшую выборку\n",
    "    # даже при fraction=0.01 качественная картина не меняется\n",
    "    .sample(withReplacement=False, fraction=0.1, seed=0)\n",
    "    .withColumn(\"rating_datetime\", sql_func.from_unixtime(\"timestamp\"))\n",
    "    .drop(\"timestamp\")\n",
    "    .cache()\n",
    ")"
   ]
  },
  {
   "cell_type": "code",
   "execution_count": 7,
   "metadata": {},
   "outputs": [
    {
     "name": "stdout",
     "output_type": "stream",
     "text": [
      "+-------+--------------------+--------------------+\n",
      "|movieId|               title|              tf_idf|\n",
      "+-------+--------------------+--------------------+\n",
      "|     35|   Carrington (1995)|(1024,[8,74,189,2...|\n",
      "|    503| New Age, The (1994)|(1024,[434,769,82...|\n",
      "|    583|Dear Diary (Caro ...|(1024,[434,741,84...|\n",
      "|    594|Snow White and th...|(1024,[29,52,60,8...|\n",
      "|    610|  Heavy Metal (1981)|(1024,[32,93,112,...|\n",
      "|    614|       Loaded (1994)|(1024,[263,434],[...|\n",
      "|    761| Phantom, The (1996)|(1024,[43,169,196...|\n",
      "|    880|Island of Dr. Mor...|(1024,[44,81,219,...|\n",
      "|   1369|I Can't Sleep (J'...|(1024,[263,434],[...|\n",
      "|   1519|Broken English (1...|(1024,[434,829],[...|\n",
      "|   1589|     Cop Land (1997)|(1024,[37,61,164,...|\n",
      "|   1815|         Eden (1997)|(1024,[434,829],[...|\n",
      "|   1881|Quest for Camelot...|(1024,[57,165,337...|\n",
      "|   2080|Lady and the Tram...|(1024,[29,37,83,1...|\n",
      "|   2324|Life Is Beautiful...|(1024,[3,31,32,45...|\n",
      "|   2444|24 7: Twenty Four...|(1024,[122,221,43...|\n",
      "|   2445|At First Sight (1...|(1024,[177,208,34...|\n",
      "|   2649|Son of Frankenste...|(1024,[40,78,208,...|\n",
      "|   2915|Risky Business (1...|(1024,[9,65,76,10...|\n",
      "|   3065|Nothing to Lose (...|(1024,[434,829],[...|\n",
      "+-------+--------------------+--------------------+\n",
      "only showing top 20 rows\n",
      "\n"
     ]
    }
   ],
   "source": [
    "import os\n",
    "import pyspark.sql.functions as sql_func\n",
    "\n",
    "# поскольку в Parquet схема данных хранится внутри самого файла, читать их очень просто\n",
    "tf_idf = spark.read.parquet(os.path.join(DATA_DIR, \"tf_idf.parquet\")).cache()\n",
    "tf_idf.show()"
   ]
  },
  {
   "cell_type": "code",
   "execution_count": 8,
   "metadata": {
    "slideshow": {
     "slide_type": "slide"
    }
   },
   "outputs": [
    {
     "name": "stdout",
     "output_type": "stream",
     "text": [
      "всего пользователей: 229897\n",
      "всего фильмов: 26166\n",
      "всего оценок: 2599745\n"
     ]
    }
   ],
   "source": [
    "# оцениваем размеры данных\n",
    "print(\"всего пользователей:\", ratings.select(\"userId\").distinct().count())\n",
    "print(\"всего фильмов:\", ratings.select(\"movieId\").distinct().count())\n",
    "print(\"всего оценок:\", ratings.count())"
   ]
  },
  {
   "cell_type": "code",
   "execution_count": 9,
   "metadata": {
    "slideshow": {
     "slide_type": "fragment"
    }
   },
   "outputs": [
    {
     "name": "stdout",
     "output_type": "stream",
     "text": [
      "средняя оценка: 3.5280369805500156\n"
     ]
    }
   ],
   "source": [
    "# достаточно хорошим baseline является предсказывать среднюю оценку\n",
    "mean_rating = ratings.agg(sql_func.avg(\"rating\")).first()[0]\n",
    "print(\"средняя оценка:\", mean_rating)"
   ]
  },
  {
   "cell_type": "code",
   "execution_count": 10,
   "metadata": {
    "slideshow": {
     "slide_type": "slide"
    }
   },
   "outputs": [],
   "source": [
    "# функция, с помощью которой мы будем вычислять RMSE на обучающей выборке\n",
    "from pyspark.sql import DataFrame\n",
    "import numpy as np\n",
    "\n",
    "def simple_evaluate(predictions_df: DataFrame) -> float:\n",
    "    return np.sqrt(\n",
    "            ratings\n",
    "            .join(\n",
    "                predictions_df,\n",
    "                [\"movieId\", \"userId\"]\n",
    "            ).select(\n",
    "                sql_func.pow(\n",
    "                    ratings.rating - predictions_df.prediction,\n",
    "                    2\n",
    "                ).alias(\"squared_error\")\n",
    "            )\n",
    "            .agg(sql_func.avg(\"squared_error\"))\n",
    "            .first()[0]\n",
    "    )"
   ]
  },
  {
   "cell_type": "code",
   "execution_count": 11,
   "metadata": {
    "scrolled": true,
    "slideshow": {
     "slide_type": "fragment"
    }
   },
   "outputs": [
    {
     "name": "stdout",
     "output_type": "stream",
     "text": [
      "ошибка предсказания: 1.065588580528197\n"
     ]
    }
   ],
   "source": [
    "# рекомендуем любому пользователю любой фильм случайно\n",
    "mean_predictions = ratings.withColumn(\"prediction\", sql_func.lit(mean_rating))\n",
    "print(\"ошибка предсказания:\", simple_evaluate(mean_predictions))"
   ]
  },
  {
   "cell_type": "code",
   "execution_count": 12,
   "metadata": {
    "slideshow": {
     "slide_type": "slide"
    }
   },
   "outputs": [],
   "source": [
    "# посмотрим на распределение средних оценок разных фильмов\n",
    "movie_ratings = (\n",
    "    ratings\n",
    "    .groupBy(\"movieId\")\n",
    "    .agg(sql_func.avg(\"rating\").alias(\"avg_movie_rating\"))\n",
    "    .cache()\n",
    ")"
   ]
  },
  {
   "cell_type": "code",
   "execution_count": 13,
   "metadata": {
    "slideshow": {
     "slide_type": "slide"
    }
   },
   "outputs": [],
   "source": [
    "# у разных пользователей разные распределения оценок\n",
    "# кто-то более придирчив, а кто-то всем ставит пятёрки\n",
    "user_ratings = (\n",
    "    ratings\n",
    "    .groupBy(\"userId\")\n",
    "    .agg(sql_func.avg(\"rating\").alias(\"avg_user_rating\"))\n",
    "    .cache()\n",
    ")"
   ]
  },
  {
   "cell_type": "code",
   "execution_count": 14,
   "metadata": {
    "slideshow": {
     "slide_type": "slide"
    }
   },
   "outputs": [],
   "source": [
    "# а можем и не полусумму, а подобрать коэффициенты\n",
    "# с помощью линейной регрессии\n",
    "from pyspark.ml.feature import VectorAssembler\n",
    "from pyspark.ml.regression import LinearRegression\n",
    "\n",
    "data = (\n",
    "    VectorAssembler(\n",
    "        inputCols = [\"avg_movie_rating\", \"avg_user_rating\", \"tf_idf\"],\n",
    "        outputCol = \"features\"\n",
    "    ).transform(\n",
    "        ratings\n",
    "        .join(movie_ratings, \"movieId\")\n",
    "        .join(user_ratings, \"userId\")\n",
    "        .join(tf_idf, \"movieId\")\n",
    "    )\n",
    "    .withColumnRenamed(\"rating\", \"label\")\n",
    "    .select(\"movieId\", \"userId\", \"label\", \"features\")\n",
    "    .cache()\n",
    ")\n"
   ]
  },
  {
   "cell_type": "code",
   "execution_count": 15,
   "metadata": {},
   "outputs": [
    {
     "data": {
      "text/plain": [
       "DataFrame[movieId: int, userId: int, label: double, features: vector]"
      ]
     },
     "execution_count": 15,
     "metadata": {},
     "output_type": "execute_result"
    }
   ],
   "source": [
    "# разбиваем полученные данные на обучающую и тестовую выборки\n",
    "train_data, test_data = data.randomSplit([0.8, 0.2], seed=42)\n",
    "train_data.cache()\n",
    "test_data.cache()\n",
    "# строим для каждого пользователя свою модель регрессии"
   ]
  },
  {
   "cell_type": "code",
   "execution_count": 16,
   "metadata": {},
   "outputs": [
    {
     "data": {
      "text/plain": [
       "Row(userId=1, movieId=91500, rating=2.5, rating_datetime='2015-03-09 23:10:47')"
      ]
     },
     "execution_count": 16,
     "metadata": {},
     "output_type": "execute_result"
    }
   ],
   "source": [
    "ratings.head()"
   ]
  },
  {
   "cell_type": "code",
   "execution_count": 17,
   "metadata": {},
   "outputs": [
    {
     "data": {
      "text/plain": [
       "Row(movieId=1, userId=47, label=5.0, features=SparseVector(1026, {0: 3.8815, 1: 4.0952, 5: 13.2529, 10: 4.8414, 29: 4.7023, 31: 33.8657, 40: 58.6335, 57: 5.1996, 74: 5.6896, 75: 5.3348, 83: 9.0288, 87: 5.0426, 90: 4.7193, 96: 5.0562, 101: 16.23, 113: 5.615, 115: 67.6634, 128: 15.8459, 139: 5.7842, 141: 4.4545, 176: 92.6263, 193: 6.0145, 200: 5.486, 211: 6.0983, 221: 5.2358, 228: 175.2795, 231: 5.1235, 235: 6.1687, 251: 23.3928, 257: 83.2934, 261: 174.8958, 274: 5.2777, 280: 6.2004, 296: 169.7406, 304: 4.4927, 330: 4.205, 332: 4.8779, 339: 214.2467, 341: 4.8924, 352: 31.5644, 354: 6.5135, 355: 138.3196, 356: 5.5568, 358: 36.8316, 380: 3.7539, 384: 5.9794, 388: 4.0237, 389: 2.014, 390: 56.0306, 393: 5.4549, 396: 5.9047, 401: 17.0881, 412: 5.3439, 416: 5.3485, 420: 6.3636, 429: 5.5181, 433: 5.7291, 436: 0.8282, 450: 4.1156, 452: 5.5739, 455: 55.5811, 481: 4.8982, 492: 104.1344, 501: 4.8195, 508: 6.1278, 520: 38.0981, 524: 4.7669, 527: 15.2101, 539: 5.9794, 540: 4.9309, 565: 5.18, 567: 5.1309, 571: 4.8114, 597: 5.7842, 602: 4.8061, 608: 4.7955, 610: 5.3439, 613: 28.2388, 614: 4.9553, 622: 5.5855, 657: 4.9041, 658: 5.5019, 681: 5.2692, 690: 5.7426, 703: 5.813, 712: 4.4947, 719: 66.5222, 720: 4.358, 725: 5.3577, 743: 25.9335, 750: 5.7842, 751: 2.7081, 780: 5.3764, 790: 32.3507, 792: 3.9866, 795: 5.6454, 835: 627.9, 840: 5.2777, 854: 5.3125, 863: 5.1647, 905: 8.943, 916: 84.2323, 918: 5.6031, 934: 5.9623, 949: 3.3883, 954: 5.7563, 977: 5.3764, 978: 5.0982, 1008: 28.747, 1011: 5.46, 1017: 19.9857}))"
      ]
     },
     "execution_count": 17,
     "metadata": {},
     "output_type": "execute_result"
    }
   ],
   "source": [
    "train_data.head()"
   ]
  },
  {
   "cell_type": "code",
   "execution_count": 18,
   "metadata": {},
   "outputs": [
    {
     "data": {
      "text/plain": [
       "Row(movieId=1, userId=80, label=5.0, features=SparseVector(1026, {0: 3.8815, 1: 3.8571, 5: 13.2529, 10: 4.8414, 29: 4.7023, 31: 33.8657, 40: 58.6335, 57: 5.1996, 74: 5.6896, 75: 5.3348, 83: 9.0288, 87: 5.0426, 90: 4.7193, 96: 5.0562, 101: 16.23, 113: 5.615, 115: 67.6634, 128: 15.8459, 139: 5.7842, 141: 4.4545, 176: 92.6263, 193: 6.0145, 200: 5.486, 211: 6.0983, 221: 5.2358, 228: 175.2795, 231: 5.1235, 235: 6.1687, 251: 23.3928, 257: 83.2934, 261: 174.8958, 274: 5.2777, 280: 6.2004, 296: 169.7406, 304: 4.4927, 330: 4.205, 332: 4.8779, 339: 214.2467, 341: 4.8924, 352: 31.5644, 354: 6.5135, 355: 138.3196, 356: 5.5568, 358: 36.8316, 380: 3.7539, 384: 5.9794, 388: 4.0237, 389: 2.014, 390: 56.0306, 393: 5.4549, 396: 5.9047, 401: 17.0881, 412: 5.3439, 416: 5.3485, 420: 6.3636, 429: 5.5181, 433: 5.7291, 436: 0.8282, 450: 4.1156, 452: 5.5739, 455: 55.5811, 481: 4.8982, 492: 104.1344, 501: 4.8195, 508: 6.1278, 520: 38.0981, 524: 4.7669, 527: 15.2101, 539: 5.9794, 540: 4.9309, 565: 5.18, 567: 5.1309, 571: 4.8114, 597: 5.7842, 602: 4.8061, 608: 4.7955, 610: 5.3439, 613: 28.2388, 614: 4.9553, 622: 5.5855, 657: 4.9041, 658: 5.5019, 681: 5.2692, 690: 5.7426, 703: 5.813, 712: 4.4947, 719: 66.5222, 720: 4.358, 725: 5.3577, 743: 25.9335, 750: 5.7842, 751: 2.7081, 780: 5.3764, 790: 32.3507, 792: 3.9866, 795: 5.6454, 835: 627.9, 840: 5.2777, 854: 5.3125, 863: 5.1647, 905: 8.943, 916: 84.2323, 918: 5.6031, 934: 5.9623, 949: 3.3883, 954: 5.7563, 977: 5.3764, 978: 5.0982, 1008: 28.747, 1011: 5.46, 1017: 19.9857}))"
      ]
     },
     "execution_count": 18,
     "metadata": {},
     "output_type": "execute_result"
    }
   ],
   "source": [
    "test_data.head()"
   ]
  },
  {
   "cell_type": "code",
   "execution_count": 19,
   "metadata": {},
   "outputs": [
    {
     "name": "stdout",
     "output_type": "stream",
     "text": [
      "ошибка предсказания: 0.8343401416880049\n"
     ]
    }
   ],
   "source": [
    "linear_model = LinearRegression().fit(train_data)\n",
    "stacked_prediction = (\n",
    "    ratings\n",
    "    .join(linear_model.transform(train_data), [\"movieId\", \"userId\"])\n",
    "    .select(\"movieId\", \"userId\", \"prediction\")\n",
    ")\n",
    "print(\"ошибка предсказания:\", simple_evaluate(stacked_prediction))"
   ]
  },
  {
   "cell_type": "code",
   "execution_count": 20,
   "metadata": {},
   "outputs": [
    {
     "name": "stdout",
     "output_type": "stream",
     "text": [
      "ошибка предсказания: 0.8368112287753542\n"
     ]
    }
   ],
   "source": [
    "test_prediction = (\n",
    "    ratings\n",
    "    .join(linear_model.transform(test_data), [\"movieId\", \"userId\"])\n",
    "    .select(\"movieId\", \"userId\", \"prediction\")\n",
    ")\n",
    "print(\"ошибка предсказания:\", simple_evaluate(test_prediction))"
   ]
  },
  {
   "cell_type": "code",
   "execution_count": 21,
   "metadata": {
    "slideshow": {
     "slide_type": "slide"
    }
   },
   "outputs": [
    {
     "name": "stdout",
     "output_type": "stream",
     "text": [
      "[на сколько пользователь оценит фильм] = -2.44 + 0.83 * [средняя оценка этого фильма] + 0.87 * [средняя оценка из поставленных этим пользователем]\n"
     ]
    }
   ],
   "source": [
    "# получаем некоторую формулу для предсказания оценки, которую можно использовать для рекомендаций\n",
    "print(\n",
    "    \"[на сколько пользователь оценит фильм] = {} + {} * [средняя оценка этого фильма] + {} * [средняя оценка из поставленных этим пользователем]\"\n",
    "    .format(\n",
    "        round(linear_model.intercept, 2),\n",
    "        round(linear_model.coefficients[0], 2),\n",
    "        round(linear_model.coefficients[1], 2)\n",
    "    )\n",
    ")"
   ]
  },
  {
   "cell_type": "markdown",
   "metadata": {
    "slideshow": {
     "slide_type": "slide"
    }
   },
   "source": [
    "Эта формула является частным случаем рекомендтельной архитектуры, когда мы для заданного пользователя $u$ получаем рекомендации в два этапа:\n",
    "\n",
    "1. составляем список объектов $i$, которые в принципе могут заинтересовать пользователя $u$\n",
    "1. ранжируем этот список объектов по некоторому правилу"
   ]
  },
  {
   "cell_type": "markdown",
   "metadata": {
    "slideshow": {
     "slide_type": "slide"
    }
   },
   "source": [
    "В частности, правило может основываться на присвоении каждому объекту из списка некоторой релевантности как функции от свойств пользователя и самого объекта: $r\\left(u,i\\right)$\n",
    "\n",
    "В простейшем примере, рассмотренном в этой тетради $r\\left(u,i\\right)=ar_i+br_u+c$ - линейная функция от двух переменных:\n",
    "\n",
    "1. $r_i$ - одного свойства объекта (популярности фильма в виде средней оценки) и\n",
    "1. $r_u$ - одного свойства пользователя (\"разборчивости\" в виде среднего от распределения всех оценок в истории этого пользователя)"
   ]
  },
  {
   "cell_type": "code",
   "execution_count": null,
   "metadata": {},
   "outputs": [],
   "source": []
  }
 ],
 "metadata": {
  "celltoolbar": "Slideshow",
  "kernelspec": {
   "display_name": "Python 3",
   "language": "python",
   "name": "python3"
  },
  "language_info": {
   "codemirror_mode": {
    "name": "ipython",
    "version": 3
   },
   "file_extension": ".py",
   "mimetype": "text/x-python",
   "name": "python",
   "nbconvert_exporter": "python",
   "pygments_lexer": "ipython3",
   "version": "3.6.3"
  }
 },
 "nbformat": 4,
 "nbformat_minor": 2
}
