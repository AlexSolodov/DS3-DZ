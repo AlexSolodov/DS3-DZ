{
 "cells": [
  {
   "cell_type": "markdown",
   "metadata": {},
   "source": [
    "## Составление новых слов из заданного слова"
   ]
  },
  {
   "cell_type": "code",
   "execution_count": 1,
   "metadata": {},
   "outputs": [
    {
     "name": "stdout",
     "output_type": "stream",
     "text": [
      "{'р': 1, 'о': 2, 'с': 1, 'т': 1, 'е': 2, 'л': 1, 'к': 1, 'м': 1}\n",
      "{'с', 'е', 'о', 'м', 'р', 'к', 'т', 'л'}\n",
      "['р', 'о', 'с', 'т', 'е', 'л', 'е', 'к', 'о', 'м']\n"
     ]
    }
   ],
   "source": [
    "#Устанавливаем слово для разбора в переменную str\n",
    "#Создаем словарь с буквами и их количеством в слове letters\n",
    "#Создаем множество vocabulary - для сохранения комбинаций из букв\n",
    "#Создаем лист w - для сохранения всех букв слова\n",
    "str='ростелеком'\n",
    "#voc=set()\n",
    "letters={}\n",
    "vocabulary=set(str)\n",
    "w=list(str)\n",
    "for i in str:\n",
    "    if letters.get(i, 0)==0:\n",
    "        letters[i]=str.count(i)\n",
    "print(letters)\n",
    "print(vocabulary)\n",
    "print(w)"
   ]
  },
  {
   "cell_type": "code",
   "execution_count": 2,
   "metadata": {
    "collapsed": true
   },
   "outputs": [],
   "source": [
    "#Основная процедура - создание слов. \n",
    "#На вход получае два множества. \n",
    "#w - множество букв из слова\n",
    "#voc - множество буквосочетаний\n",
    "#Процедура последовательно проходит по множествам и подставляет в начало и в конец второго множества буквы из первого.\n",
    "#Если в новой комбинаци количество букв не превышает количества, встречающего в исходном слове и этого буквосочетания\n",
    "#еще нет в словаре,то новое буквосочетание добавляется в набор\n",
    "def createWord (w, voc):\n",
    "    voc2=set()\n",
    "    for k1 in w:\n",
    "        for k2 in voc:\n",
    "            s1=k1+k2\n",
    "            s2=k2+k1\n",
    "            if s1 not in voc2 and s1.count(k1)<=letters[k1]:\n",
    "                voc2.add(s1)\n",
    "            if s2 not in voc2 and s2.count(k1)<=letters[k1]:\n",
    "                voc2.add(s2)\n",
    "    return voc2"
   ]
  },
  {
   "cell_type": "code",
   "execution_count": 3,
   "metadata": {},
   "outputs": [],
   "source": [
    "#В цикле запускае вызов функции по генерации буквосочетаний. Запуск осуществляется столько раз, сколько букв в исходном слове\n",
    "#На каждом следующем шаге генерятся словосочетания с большим числом букв. На первом из двух, на втором из трех и т.д.\n",
    "import copy\n",
    "voc=copy.deepcopy(vocabulary)\n",
    "#Обнуляем словарь, что бы не было слов из одной буквы\n",
    "vocabulary=set()\n",
    "for i in range(len(w)):\n",
    "    voc=createWord(w, voc)\n",
    "    vocabulary=vocabulary.union(voc)"
   ]
  },
  {
   "cell_type": "code",
   "execution_count": 10,
   "metadata": {
    "scrolled": false
   },
   "outputs": [
    {
     "name": "stderr",
     "output_type": "stream",
     "text": [
      "IOPub data rate exceeded.\n",
      "The notebook server will temporarily stop sending output\n",
      "to the client in order to avoid crashing it.\n",
      "To change this limit, set the config variable\n",
      "`--NotebookApp.iopub_data_rate_limit`.\n"
     ]
    }
   ],
   "source": [
    "#Если интересно, можно вывести множество получившихся буквосочетаний\n",
    "#print(vocabulary)"
   ]
  },
  {
   "cell_type": "code",
   "execution_count": 5,
   "metadata": {
    "collapsed": true
   },
   "outputs": [],
   "source": [
    "#Создаем множество под словарь\n",
    "d=set()"
   ]
  },
  {
   "cell_type": "code",
   "execution_count": 6,
   "metadata": {
    "collapsed": true
   },
   "outputs": [],
   "source": [
    "#Читаем словарь из файла. Проходим по строкам и убираем символы перехода на следующую строку\n",
    "f=open('zdf-win.txt')\n",
    "for line in f:\n",
    "    d.add(line.replace('\\n', ''))"
   ]
  },
  {
   "cell_type": "code",
   "execution_count": 7,
   "metadata": {
    "collapsed": true
   },
   "outputs": [],
   "source": [
    "#МОжно посмотреть, как мы прочитали словарь\n",
    "#print(d)"
   ]
  },
  {
   "cell_type": "code",
   "execution_count": 8,
   "metadata": {},
   "outputs": [
    {
     "name": "stdout",
     "output_type": "stream",
     "text": [
      "2521306\n",
      "93392\n"
     ]
    }
   ],
   "source": [
    "#Можно посмотреть количество получившихся буквосочетаний и слов\n",
    "print(len(vocabulary))\n",
    "print(len(d))"
   ]
  },
  {
   "cell_type": "code",
   "execution_count": 9,
   "metadata": {},
   "outputs": [
    {
     "name": "stdout",
     "output_type": "stream",
     "text": [
      "158\n",
      "кто\n",
      "тем\n",
      "скорм\n",
      "метеор\n",
      "откорм\n",
      "отселе\n",
      "трос\n",
      "трок\n",
      "лето\n",
      "морок\n",
      "кроме\n",
      "скоро\n",
      "роток\n",
      "рот\n",
      "оселок\n",
      "клерет\n",
      "лектор\n",
      "молот\n",
      "сок\n",
      "мосол\n",
      "трек\n",
      "со\n",
      "ром\n",
      "метро\n",
      "сот\n",
      "сорок\n",
      "отколе\n",
      "тор\n",
      "откос\n",
      "корсет\n",
      "окот\n",
      "мол\n",
      "срок\n",
      "мосток\n",
      "росток\n",
      "морс\n",
      "лес\n",
      "сорт\n",
      "моток\n",
      "стол\n",
      "коло\n",
      "сокол\n",
      "ком\n",
      "летом\n",
      "ост\n",
      "стрелок\n",
      "сет\n",
      "леер\n",
      "ом\n",
      "осмотр\n",
      "орт\n",
      "сор\n",
      "лоск\n",
      "рост\n",
      "смотрок\n",
      "отрок\n",
      "лото\n",
      "токмо\n",
      "мотор\n",
      "соло\n",
      "теремок\n",
      "место\n",
      "тесло\n",
      "серко\n",
      "сором\n",
      "клер\n",
      "окорм\n",
      "колет\n",
      "рол\n",
      "ореол\n",
      "стер\n",
      "рокот\n",
      "кот\n",
      "лот\n",
      "осот\n",
      "мост\n",
      "метол\n",
      "селектор\n",
      "леток\n",
      "кол\n",
      "секрет\n",
      "село\n",
      "реле\n",
      "сток\n",
      "сто\n",
      "око\n",
      "тремоло\n",
      "се\n",
      "стек\n",
      "смотр\n",
      "откол\n",
      "торос\n",
      "мел\n",
      "от\n",
      "терем\n",
      "осмол\n",
      "кресло\n",
      "стекло\n",
      "корт\n",
      "метр\n",
      "отроек\n",
      "кермес\n",
      "мот\n",
      "колесо\n",
      "тол\n",
      "телок\n",
      "отсек\n",
      "колер\n",
      "стокер\n",
      "тело\n",
      "лоток\n",
      "толк\n",
      "ко\n",
      "солемер\n",
      "соте\n",
      "колос\n",
      "лом\n",
      "скол\n",
      "лесок\n",
      "крем\n",
      "ото\n",
      "креол\n",
      "скорее\n",
      "ремесло\n",
      "крот\n",
      "ер\n",
      "млеко\n",
      "ре\n",
      "омлет\n",
      "торс\n",
      "сом\n",
      "еле\n",
      "треск\n",
      "окрест\n",
      "окрол\n",
      "метек\n",
      "рок\n",
      "лек\n",
      "скот\n",
      "лотос\n",
      "мелос\n",
      "слом\n",
      "скелет\n",
      "крест\n",
      "сектор\n",
      "мор\n",
      "том\n",
      "трое\n",
      "корм\n",
      "мелок\n",
      "то\n",
      "ток\n",
      "толком\n",
      "море\n",
      "семо\n",
      "термос\n",
      "семеро\n",
      "мо\n"
     ]
    }
   ],
   "source": [
    "#Берем пересечение двух множеств, это и будет список слов, которые можно составить из исходного слова\n",
    "v=set()\n",
    "v=vocabulary.intersection(d)\n",
    "#Выводим количество получившихся слов\n",
    "print(len(v))\n",
    "#Выводим получившиеся слова\n",
    "for e in v:\n",
    "    print(e)"
   ]
  },
  {
   "cell_type": "code",
   "execution_count": null,
   "metadata": {
    "collapsed": true
   },
   "outputs": [],
   "source": []
  }
 ],
 "metadata": {
  "kernelspec": {
   "display_name": "Python 3",
   "language": "python",
   "name": "python3"
  },
  "language_info": {
   "codemirror_mode": {
    "name": "ipython",
    "version": 3
   },
   "file_extension": ".py",
   "mimetype": "text/x-python",
   "name": "python",
   "nbconvert_exporter": "python",
   "pygments_lexer": "ipython3",
   "version": "3.6.3"
  }
 },
 "nbformat": 4,
 "nbformat_minor": 2
}
